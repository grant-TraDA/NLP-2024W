{
  "cells": [
    {
      "cell_type": "markdown",
      "id": "af384d6e",
      "metadata": {
        "id": "af384d6e"
      },
      "source": [
        "## Contest"
      ]
    },
    {
      "cell_type": "markdown",
      "id": "cf9992fe",
      "metadata": {},
      "source": [
        "Grupa: Łukasz Tomaszewski, Maja Andrzejczuk, Mikołaj Piórczyński"
      ]
    },
    {
      "cell_type": "code",
      "execution_count": 3,
      "id": "238aa3f8",
      "metadata": {
        "id": "238aa3f8"
      },
      "outputs": [],
      "source": [
        "import nltk                                # Python library for NLP\n",
        "from nltk.corpus import twitter_samples    # sample Twitter dataset from NLTK\n",
        "from nltk.corpus import stopwords\n",
        "import numpy as np # linear algebra\n",
        "import pandas as pd # data processing, CSV file I/O (e.g. pd.read_csv)\n",
        "from sklearn.model_selection import train_test_split # function for splitting data to train and test sets"
      ]
    },
    {
      "cell_type": "markdown",
      "id": "ce2a28e6",
      "metadata": {
        "id": "ce2a28e6"
      },
      "source": [
        "We can load the text fields of the positive and negative tweets by using the module's `strings()` method like this:"
      ]
    },
    {
      "cell_type": "code",
      "execution_count": 4,
      "id": "oJ0QIR-GpwUO",
      "metadata": {
        "colab": {
          "base_uri": "https://localhost:8080/"
        },
        "id": "oJ0QIR-GpwUO",
        "outputId": "ade3ecb4-2ee0-479f-b38c-c1ad86656c98"
      },
      "outputs": [
        {
          "name": "stderr",
          "output_type": "stream",
          "text": [
            "[nltk_data] Downloading package twitter_samples to\n",
            "[nltk_data]     /Users/mikolajpiorczynski/nltk_data...\n",
            "[nltk_data]   Unzipping corpora/twitter_samples.zip.\n"
          ]
        },
        {
          "data": {
            "text/plain": [
              "True"
            ]
          },
          "execution_count": 4,
          "metadata": {},
          "output_type": "execute_result"
        }
      ],
      "source": [
        "# downloads sample twitter dataset.\n",
        "nltk.download('twitter_samples')"
      ]
    },
    {
      "cell_type": "code",
      "execution_count": 94,
      "id": "2861bdc0",
      "metadata": {
        "id": "2861bdc0"
      },
      "outputs": [],
      "source": [
        "# select the set of positive and negative tweets\n",
        "all_positive_tweets = twitter_samples.strings('positive_tweets.json')\n",
        "all_negative_tweets = twitter_samples.strings('negative_tweets.json')"
      ]
    },
    {
      "cell_type": "markdown",
      "id": "5593a249",
      "metadata": {
        "id": "5593a249"
      },
      "source": [
        "To make it easier, let us used pandas dataframe"
      ]
    },
    {
      "cell_type": "code",
      "execution_count": 95,
      "id": "e0cdbbea",
      "metadata": {
        "id": "e0cdbbea"
      },
      "outputs": [],
      "source": [
        "# Create a dataframe from positive tweets\n",
        "pos_tweet = pd.DataFrame(all_positive_tweets, columns=['Tweet'])\n",
        "# Add a column to dataframe for positive sentiment value 1\n",
        "pos_tweet['Sentiment'] = 1\n",
        "# Create a temporary dataframe for negative tweets\n",
        "neg_tweet = pd.DataFrame(all_negative_tweets, columns=['Tweet'])\n",
        "# Add a column to temporary dataframe for negative sentiment value 0\n",
        "neg_tweet['Sentiment'] = 0\n",
        "# Combe positive and negative tweets in one single dataframe\n",
        "#df = pos_tweet.append(neg_tweet, ignore_index=True)\n",
        "df = pd.concat([neg_tweet, pos_tweet], ignore_index=True)\n",
        "df = df.sample(frac = 1)\n",
        "df.reset_index(drop=True, inplace=True)"
      ]
    },
    {
      "cell_type": "code",
      "execution_count": 96,
      "id": "1cd76d89",
      "metadata": {
        "colab": {
          "base_uri": "https://localhost:8080/",
          "height": 424
        },
        "id": "1cd76d89",
        "outputId": "827056df-68bf-4a45-95d1-46f7e3ddbe81"
      },
      "outputs": [
        {
          "data": {
            "text/html": [
              "<div>\n",
              "<style scoped>\n",
              "    .dataframe tbody tr th:only-of-type {\n",
              "        vertical-align: middle;\n",
              "    }\n",
              "\n",
              "    .dataframe tbody tr th {\n",
              "        vertical-align: top;\n",
              "    }\n",
              "\n",
              "    .dataframe thead th {\n",
              "        text-align: right;\n",
              "    }\n",
              "</style>\n",
              "<table border=\"1\" class=\"dataframe\">\n",
              "  <thead>\n",
              "    <tr style=\"text-align: right;\">\n",
              "      <th></th>\n",
              "      <th>Tweet</th>\n",
              "      <th>Sentiment</th>\n",
              "    </tr>\n",
              "  </thead>\n",
              "  <tbody>\n",
              "    <tr>\n",
              "      <th>0</th>\n",
              "      <td>@iMartyn Happy birthday! Didn't know wolves ha...</td>\n",
              "      <td>1</td>\n",
              "    </tr>\n",
              "    <tr>\n",
              "      <th>1</th>\n",
              "      <td>HP LOW DONG :((((((</td>\n",
              "      <td>0</td>\n",
              "    </tr>\n",
              "    <tr>\n",
              "      <th>2</th>\n",
              "      <td>@MahamK97 \\n\\nI was just tired yesterday \\n\\nC...</td>\n",
              "      <td>1</td>\n",
              "    </tr>\n",
              "    <tr>\n",
              "      <th>3</th>\n",
              "      <td>YKR SPARKY\\n40mm, 3.5 grs\\nROCKFISHING, topwat...</td>\n",
              "      <td>1</td>\n",
              "    </tr>\n",
              "    <tr>\n",
              "      <th>4</th>\n",
              "      <td>@sunpandey It will be put up here as and when ...</td>\n",
              "      <td>1</td>\n",
              "    </tr>\n",
              "    <tr>\n",
              "      <th>...</th>\n",
              "      <td>...</td>\n",
              "      <td>...</td>\n",
              "    </tr>\n",
              "    <tr>\n",
              "      <th>9995</th>\n",
              "      <td>@sachapeebles_ sorry it was just closest to th...</td>\n",
              "      <td>0</td>\n",
              "    </tr>\n",
              "    <tr>\n",
              "      <th>9996</th>\n",
              "      <td>I'm finding its one of those days already! Hop...</td>\n",
              "      <td>1</td>\n",
              "    </tr>\n",
              "    <tr>\n",
              "      <th>9997</th>\n",
              "      <td>@GrahamTownsend Oh yes, I have some of those s...</td>\n",
              "      <td>1</td>\n",
              "    </tr>\n",
              "    <tr>\n",
              "      <th>9998</th>\n",
              "      <td>@jobayeshopp @Sp1ns @storrmin571 @monticles @t...</td>\n",
              "      <td>1</td>\n",
              "    </tr>\n",
              "    <tr>\n",
              "      <th>9999</th>\n",
              "      <td>Hi BAM ! @BarsAndMelody \\nCan you follow my be...</td>\n",
              "      <td>1</td>\n",
              "    </tr>\n",
              "  </tbody>\n",
              "</table>\n",
              "<p>10000 rows × 2 columns</p>\n",
              "</div>"
            ],
            "text/plain": [
              "                                                  Tweet  Sentiment\n",
              "0     @iMartyn Happy birthday! Didn't know wolves ha...          1\n",
              "1                                   HP LOW DONG :((((((          0\n",
              "2     @MahamK97 \\n\\nI was just tired yesterday \\n\\nC...          1\n",
              "3     YKR SPARKY\\n40mm, 3.5 grs\\nROCKFISHING, topwat...          1\n",
              "4     @sunpandey It will be put up here as and when ...          1\n",
              "...                                                 ...        ...\n",
              "9995  @sachapeebles_ sorry it was just closest to th...          0\n",
              "9996  I'm finding its one of those days already! Hop...          1\n",
              "9997  @GrahamTownsend Oh yes, I have some of those s...          1\n",
              "9998  @jobayeshopp @Sp1ns @storrmin571 @monticles @t...          1\n",
              "9999  Hi BAM ! @BarsAndMelody \\nCan you follow my be...          1\n",
              "\n",
              "[10000 rows x 2 columns]"
            ]
          },
          "execution_count": 96,
          "metadata": {},
          "output_type": "execute_result"
        }
      ],
      "source": [
        "df"
      ]
    },
    {
      "cell_type": "markdown",
      "id": "3c9dbb5e",
      "metadata": {
        "id": "3c9dbb5e"
      },
      "source": [
        "Next, we'll print a report with the number of positive and negative tweets. It is also essential to know the data structure of the datasets"
      ]
    },
    {
      "cell_type": "code",
      "execution_count": 97,
      "id": "1c42aaf1",
      "metadata": {
        "colab": {
          "base_uri": "https://localhost:8080/",
          "height": 161
        },
        "id": "1c42aaf1",
        "outputId": "d79f02df-3774-4fcc-a317-52d016a10646"
      },
      "outputs": [
        {
          "name": "stdout",
          "output_type": "stream",
          "text": [
            "Dataset size: (10000, 2)\n"
          ]
        },
        {
          "data": {
            "text/html": [
              "<div>\n",
              "<style scoped>\n",
              "    .dataframe tbody tr th:only-of-type {\n",
              "        vertical-align: middle;\n",
              "    }\n",
              "\n",
              "    .dataframe tbody tr th {\n",
              "        vertical-align: top;\n",
              "    }\n",
              "\n",
              "    .dataframe thead th {\n",
              "        text-align: right;\n",
              "    }\n",
              "</style>\n",
              "<table border=\"1\" class=\"dataframe\">\n",
              "  <thead>\n",
              "    <tr style=\"text-align: right;\">\n",
              "      <th></th>\n",
              "      <th>Tweet</th>\n",
              "    </tr>\n",
              "    <tr>\n",
              "      <th>Sentiment</th>\n",
              "      <th></th>\n",
              "    </tr>\n",
              "  </thead>\n",
              "  <tbody>\n",
              "    <tr>\n",
              "      <th>0</th>\n",
              "      <td>5000</td>\n",
              "    </tr>\n",
              "    <tr>\n",
              "      <th>1</th>\n",
              "      <td>5000</td>\n",
              "    </tr>\n",
              "  </tbody>\n",
              "</table>\n",
              "</div>"
            ],
            "text/plain": [
              "           Tweet\n",
              "Sentiment       \n",
              "0           5000\n",
              "1           5000"
            ]
          },
          "execution_count": 97,
          "metadata": {},
          "output_type": "execute_result"
        }
      ],
      "source": [
        "# Displaying shape of dataset\n",
        "print('Dataset size:',df.shape)\n",
        "df.groupby('Sentiment').count()"
      ]
    },
    {
      "cell_type": "code",
      "execution_count": 98,
      "id": "fb19fe68",
      "metadata": {},
      "outputs": [],
      "source": [
        "# preprocessing\n",
        "import re\n",
        "\n",
        "def convert_to_lowercase(tweet):\n",
        "    return tweet.lower()\n",
        " \n",
        "def remove_rt(tweet):\n",
        "    tweet = re.sub(r'^RT[\\s]+', '', tweet)\n",
        "    return tweet\n",
        " \n",
        "def remove_hyperlinks(tweet):\n",
        "    tweet = re.sub(r'https?://[^\\s\\n\\r]+', '', tweet)\n",
        "    return tweet\n",
        " \n",
        "def remove_hastag(tweet):\n",
        "    tweet = re.sub(r'#', '', tweet)\n",
        "    return tweet\n",
        " \n",
        "def remove_mention(tweet):\n",
        "    tweet = re.sub(r'@\\w+', '', tweet)\n",
        "    return tweet\n",
        " \n",
        "df['Tweet'] = df['Tweet'].apply(lambda x: convert_to_lowercase(x))\n",
        "df['Tweet'] = df['Tweet'].apply(lambda x: remove_rt(x))\n",
        "df['Tweet'] = df['Tweet'].apply(lambda x: remove_hyperlinks(x))\n",
        "df['Tweet'] = df['Tweet'].apply(lambda x: remove_hastag(x))\n",
        "df['Tweet'] = df['Tweet'].apply(lambda x: remove_mention(x))"
      ]
    },
    {
      "cell_type": "code",
      "execution_count": 99,
      "id": "0b2d0acb",
      "metadata": {
        "colab": {
          "base_uri": "https://localhost:8080/",
          "height": 424
        },
        "id": "0b2d0acb",
        "outputId": "16eb2008-24bc-433f-bb14-7a733cd5211a"
      },
      "outputs": [
        {
          "data": {
            "text/html": [
              "<div>\n",
              "<style scoped>\n",
              "    .dataframe tbody tr th:only-of-type {\n",
              "        vertical-align: middle;\n",
              "    }\n",
              "\n",
              "    .dataframe tbody tr th {\n",
              "        vertical-align: top;\n",
              "    }\n",
              "\n",
              "    .dataframe thead th {\n",
              "        text-align: right;\n",
              "    }\n",
              "</style>\n",
              "<table border=\"1\" class=\"dataframe\">\n",
              "  <thead>\n",
              "    <tr style=\"text-align: right;\">\n",
              "      <th></th>\n",
              "      <th>Tweet</th>\n",
              "      <th>Sentiment</th>\n",
              "    </tr>\n",
              "  </thead>\n",
              "  <tbody>\n",
              "    <tr>\n",
              "      <th>2037</th>\n",
              "      <td>almost 645k views. watch muna while waiting na...</td>\n",
              "      <td>1</td>\n",
              "    </tr>\n",
              "    <tr>\n",
              "      <th>2519</th>\n",
              "      <td>i fell asleep arond 1:30 but it was really la...</td>\n",
              "      <td>1</td>\n",
              "    </tr>\n",
              "    <tr>\n",
              "      <th>7369</th>\n",
              "      <td>stats for the day have arrived. 1 new follower...</td>\n",
              "      <td>1</td>\n",
              "    </tr>\n",
              "    <tr>\n",
              "      <th>1231</th>\n",
              "      <td>everything was so much easier back then :(</td>\n",
              "      <td>0</td>\n",
              "    </tr>\n",
              "    <tr>\n",
              "      <th>8524</th>\n",
              "      <td>why have people unfaved and rted this :(</td>\n",
              "      <td>0</td>\n",
              "    </tr>\n",
              "    <tr>\n",
              "      <th>...</th>\n",
              "      <td>...</td>\n",
              "      <td>...</td>\n",
              "    </tr>\n",
              "    <tr>\n",
              "      <th>7417</th>\n",
              "      <td>offers you my mixtape. will you talk to me mo...</td>\n",
              "      <td>0</td>\n",
              "    </tr>\n",
              "    <tr>\n",
              "      <th>1486</th>\n",
              "      <td>woooo! happy friday friends :) ff</td>\n",
              "      <td>1</td>\n",
              "    </tr>\n",
              "    <tr>\n",
              "      <th>7789</th>\n",
              "      <td>ubericecream was super! but we didnt get the g...</td>\n",
              "      <td>0</td>\n",
              "    </tr>\n",
              "    <tr>\n",
              "      <th>5569</th>\n",
              "      <td>oh lovely lovelayyy! thanks! it is ok about th...</td>\n",
              "      <td>1</td>\n",
              "    </tr>\n",
              "    <tr>\n",
              "      <th>7470</th>\n",
              "      <td>i tried. didn't work :(</td>\n",
              "      <td>0</td>\n",
              "    </tr>\n",
              "  </tbody>\n",
              "</table>\n",
              "<p>9000 rows × 2 columns</p>\n",
              "</div>"
            ],
            "text/plain": [
              "                                                  Tweet  Sentiment\n",
              "2037  almost 645k views. watch muna while waiting na...          1\n",
              "2519   i fell asleep arond 1:30 but it was really la...          1\n",
              "7369  stats for the day have arrived. 1 new follower...          1\n",
              "1231       everything was so much easier back then :(            0\n",
              "8524           why have people unfaved and rted this :(          0\n",
              "...                                                 ...        ...\n",
              "7417   offers you my mixtape. will you talk to me mo...          0\n",
              "1486                  woooo! happy friday friends :) ff          1\n",
              "7789  ubericecream was super! but we didnt get the g...          0\n",
              "5569  oh lovely lovelayyy! thanks! it is ok about th...          1\n",
              "7470                            i tried. didn't work :(          0\n",
              "\n",
              "[9000 rows x 2 columns]"
            ]
          },
          "execution_count": 99,
          "metadata": {},
          "output_type": "execute_result"
        }
      ],
      "source": [
        "# Splitting the dataset into train and test set\n",
        "train, test = train_test_split(df,test_size = 0.1)\n",
        "train"
      ]
    },
    {
      "cell_type": "code",
      "execution_count": 100,
      "id": "6fc362de",
      "metadata": {
        "colab": {
          "base_uri": "https://localhost:8080/",
          "height": 424
        },
        "id": "6fc362de",
        "outputId": "266fa9a9-293f-46bb-93d2-acbf5cad004d"
      },
      "outputs": [
        {
          "data": {
            "text/html": [
              "<div>\n",
              "<style scoped>\n",
              "    .dataframe tbody tr th:only-of-type {\n",
              "        vertical-align: middle;\n",
              "    }\n",
              "\n",
              "    .dataframe tbody tr th {\n",
              "        vertical-align: top;\n",
              "    }\n",
              "\n",
              "    .dataframe thead th {\n",
              "        text-align: right;\n",
              "    }\n",
              "</style>\n",
              "<table border=\"1\" class=\"dataframe\">\n",
              "  <thead>\n",
              "    <tr style=\"text-align: right;\">\n",
              "      <th></th>\n",
              "      <th>Tweet</th>\n",
              "      <th>Sentiment</th>\n",
              "    </tr>\n",
              "  </thead>\n",
              "  <tbody>\n",
              "    <tr>\n",
              "      <th>6578</th>\n",
              "      <td>see you there. i'll get the first round. :-)</td>\n",
              "      <td>1</td>\n",
              "    </tr>\n",
              "    <tr>\n",
              "      <th>3154</th>\n",
              "      <td>kik me : smadvow544 kik kikgirl lgbt photo mod...</td>\n",
              "      <td>0</td>\n",
              "    </tr>\n",
              "    <tr>\n",
              "      <th>9411</th>\n",
              "      <td>niall followed a fan :) and i'm still here wit...</td>\n",
              "      <td>1</td>\n",
              "    </tr>\n",
              "    <tr>\n",
              "      <th>3850</th>\n",
              "      <td>shiiit :( so sorry</td>\n",
              "      <td>0</td>\n",
              "    </tr>\n",
              "    <tr>\n",
              "      <th>2786</th>\n",
              "      <td>sudden mood-dump :(</td>\n",
              "      <td>0</td>\n",
              "    </tr>\n",
              "    <tr>\n",
              "      <th>...</th>\n",
              "      <td>...</td>\n",
              "      <td>...</td>\n",
              "    </tr>\n",
              "    <tr>\n",
              "      <th>7545</th>\n",
              "      <td>the bittersweetness :(</td>\n",
              "      <td>0</td>\n",
              "    </tr>\n",
              "    <tr>\n",
              "      <th>651</th>\n",
              "      <td>i was waiting for a comeback  about how gross...</td>\n",
              "      <td>1</td>\n",
              "    </tr>\n",
              "    <tr>\n",
              "      <th>1126</th>\n",
              "      <td>oh i get it now. second quote tweet, but maybe...</td>\n",
              "      <td>1</td>\n",
              "    </tr>\n",
              "    <tr>\n",
              "      <th>7490</th>\n",
              "      <td>doesn't matter have to pay bill always.. fore...</td>\n",
              "      <td>1</td>\n",
              "    </tr>\n",
              "    <tr>\n",
              "      <th>7046</th>\n",
              "      <td>wut the hell i can't sleep &amp;gt;:(</td>\n",
              "      <td>0</td>\n",
              "    </tr>\n",
              "  </tbody>\n",
              "</table>\n",
              "<p>1000 rows × 2 columns</p>\n",
              "</div>"
            ],
            "text/plain": [
              "                                                  Tweet  Sentiment\n",
              "6578       see you there. i'll get the first round. :-)          1\n",
              "3154  kik me : smadvow544 kik kikgirl lgbt photo mod...          0\n",
              "9411  niall followed a fan :) and i'm still here wit...          1\n",
              "3850                                 shiiit :( so sorry          0\n",
              "2786                                sudden mood-dump :(          0\n",
              "...                                                 ...        ...\n",
              "7545                             the bittersweetness :(          0\n",
              "651    i was waiting for a comeback  about how gross...          1\n",
              "1126  oh i get it now. second quote tweet, but maybe...          1\n",
              "7490   doesn't matter have to pay bill always.. fore...          1\n",
              "7046                  wut the hell i can't sleep &gt;:(          0\n",
              "\n",
              "[1000 rows x 2 columns]"
            ]
          },
          "execution_count": 100,
          "metadata": {},
          "output_type": "execute_result"
        }
      ],
      "source": [
        "test"
      ]
    },
    {
      "cell_type": "code",
      "execution_count": 101,
      "id": "E7JVijrhqYOG",
      "metadata": {
        "colab": {
          "base_uri": "https://localhost:8080/"
        },
        "id": "E7JVijrhqYOG",
        "outputId": "9135943d-2b36-4f1d-f51f-36b5b0c10419"
      },
      "outputs": [
        {
          "name": "stderr",
          "output_type": "stream",
          "text": [
            "[nltk_data] Downloading package stopwords to\n",
            "[nltk_data]     /Users/mikolajpiorczynski/nltk_data...\n",
            "[nltk_data]   Package stopwords is already up-to-date!\n"
          ]
        }
      ],
      "source": [
        "nltk.download('stopwords')\n",
        "stopwords_set = set(stopwords.words(\"english\"))\n"
      ]
    },
    {
      "cell_type": "code",
      "execution_count": 102,
      "id": "10bc9d7e",
      "metadata": {},
      "outputs": [],
      "source": [
        "from sklearn.metrics import precision_score, recall_score, f1_score, accuracy_score, confusion_matrix\n",
        "\n",
        "def evaluate(true_labels, predicted_labels, log=True):\n",
        "    accuracy = accuracy_score(true_labels, predicted_labels)\n",
        "    precision = precision_score(true_labels, predicted_labels)\n",
        "    recall = recall_score(true_labels, predicted_labels) \n",
        "    f1 = f1_score(true_labels, predicted_labels, average='weighted')\n",
        "    \n",
        "    if log:\n",
        "        print(\"Accuracy:\", accuracy)\n",
        "        print(\"Precision: \", precision)\n",
        "        print(\"Recall: \", recall)\n",
        "        print(\"F1 Score: \", f1)\n",
        "        cm = confusion_matrix(true_labels, predicted_labels)\n",
        "        print(\"Confusion Matrix:\\n\", cm)\n",
        "\n",
        "    return accuracy, precision, recall, f1\n"
      ]
    },
    {
      "cell_type": "code",
      "execution_count": 103,
      "id": "7f9c793e",
      "metadata": {},
      "outputs": [],
      "source": [
        "# Prepare the training data\n",
        "X_train = train['Tweet'].tolist()\n",
        "y_train = train['Sentiment'].tolist()\n",
        "\n",
        "# Prepare the test data\n",
        "X_test = test['Tweet'].tolist()\n",
        "y_test = test['Sentiment'].tolist()"
      ]
    },
    {
      "cell_type": "markdown",
      "id": "13349747",
      "metadata": {},
      "source": [
        "## Baselines"
      ]
    },
    {
      "cell_type": "code",
      "execution_count": 104,
      "id": "4f009f47",
      "metadata": {},
      "outputs": [
        {
          "name": "stdout",
          "output_type": "stream",
          "text": [
            "Feature Extractor: CountVectorizer, Classifier: LogisticRegression\n",
            "Feature Extractor: CountVectorizer, Classifier: RandomForestClassifier\n",
            "Feature Extractor: CountVectorizer, Classifier: XGBClassifier\n",
            "Feature Extractor: TfidfVectorizer, Classifier: LogisticRegression\n",
            "Feature Extractor: TfidfVectorizer, Classifier: RandomForestClassifier\n",
            "Feature Extractor: TfidfVectorizer, Classifier: XGBClassifier\n"
          ]
        }
      ],
      "source": [
        "from sklearn.feature_extraction.text import TfidfVectorizer, CountVectorizer\n",
        "from sklearn.linear_model import LogisticRegression\n",
        "from sklearn.ensemble import RandomForestClassifier\n",
        "from xgboost import XGBClassifier\n",
        "\n",
        "metrics = pd.DataFrame(\n",
        "    columns=[\"Feature extractor class\", \"Classifier class\", \"Accuracy\", \"Precision\", \"Recall\", \"F1 Score\"],\n",
        ")\n",
        "\n",
        "seed = 123\n",
        "for feature_extractor_class in [CountVectorizer, TfidfVectorizer]:\n",
        "    for classifier_class in [LogisticRegression, RandomForestClassifier, XGBClassifier]:\n",
        "        print(f\"Feature Extractor: {feature_extractor_class.__name__}, Classifier: {classifier_class.__name__}\")\n",
        "        # Create a CountVectorizer to convert text into numerical features\n",
        "        vectorizer = feature_extractor_class(stop_words='english')\n",
        "\n",
        "        # Fit and transform the training data\n",
        "        X_train_vectorized = vectorizer.fit_transform(X_train)\n",
        "\n",
        "        # Transform the test data (using the same vocabulary as the training data)\n",
        "        X_test_vectorized = vectorizer.transform(X_test)\n",
        "\n",
        "        # Train\n",
        "        model = classifier_class(random_state=seed)\n",
        "        model.fit(X_train_vectorized, y_train)\n",
        "\n",
        "        # Predict\n",
        "        y_pred = model.predict(X_test_vectorized)\n",
        "\n",
        "        # Evaluate\n",
        "        accuracy, precision, recall, f1 = evaluate(y_test, y_pred, log=False)\n",
        "        metrics.loc[len(metrics)] = [feature_extractor_class.__name__, classifier_class.__name__, accuracy, precision, recall, f1]\n"
      ]
    },
    {
      "cell_type": "code",
      "execution_count": 105,
      "id": "e783911f",
      "metadata": {},
      "outputs": [
        {
          "data": {
            "text/html": [
              "<div>\n",
              "<style scoped>\n",
              "    .dataframe tbody tr th:only-of-type {\n",
              "        vertical-align: middle;\n",
              "    }\n",
              "\n",
              "    .dataframe tbody tr th {\n",
              "        vertical-align: top;\n",
              "    }\n",
              "\n",
              "    .dataframe thead th {\n",
              "        text-align: right;\n",
              "    }\n",
              "</style>\n",
              "<table border=\"1\" class=\"dataframe\">\n",
              "  <thead>\n",
              "    <tr style=\"text-align: right;\">\n",
              "      <th></th>\n",
              "      <th>Feature extractor class</th>\n",
              "      <th>Classifier class</th>\n",
              "      <th>Accuracy</th>\n",
              "      <th>Precision</th>\n",
              "      <th>Recall</th>\n",
              "      <th>F1 Score</th>\n",
              "    </tr>\n",
              "  </thead>\n",
              "  <tbody>\n",
              "    <tr>\n",
              "      <th>0</th>\n",
              "      <td>CountVectorizer</td>\n",
              "      <td>LogisticRegression</td>\n",
              "      <td>0.750</td>\n",
              "      <td>0.778271</td>\n",
              "      <td>0.700599</td>\n",
              "      <td>0.749399</td>\n",
              "    </tr>\n",
              "    <tr>\n",
              "      <th>1</th>\n",
              "      <td>CountVectorizer</td>\n",
              "      <td>RandomForestClassifier</td>\n",
              "      <td>0.739</td>\n",
              "      <td>0.760870</td>\n",
              "      <td>0.698603</td>\n",
              "      <td>0.738582</td>\n",
              "    </tr>\n",
              "    <tr>\n",
              "      <th>2</th>\n",
              "      <td>CountVectorizer</td>\n",
              "      <td>XGBClassifier</td>\n",
              "      <td>0.739</td>\n",
              "      <td>0.844828</td>\n",
              "      <td>0.586826</td>\n",
              "      <td>0.732829</td>\n",
              "    </tr>\n",
              "    <tr>\n",
              "      <th>3</th>\n",
              "      <td>TfidfVectorizer</td>\n",
              "      <td>LogisticRegression</td>\n",
              "      <td>0.755</td>\n",
              "      <td>0.781938</td>\n",
              "      <td>0.708583</td>\n",
              "      <td>0.754481</td>\n",
              "    </tr>\n",
              "    <tr>\n",
              "      <th>4</th>\n",
              "      <td>TfidfVectorizer</td>\n",
              "      <td>RandomForestClassifier</td>\n",
              "      <td>0.759</td>\n",
              "      <td>0.808057</td>\n",
              "      <td>0.680639</td>\n",
              "      <td>0.757525</td>\n",
              "    </tr>\n",
              "    <tr>\n",
              "      <th>5</th>\n",
              "      <td>TfidfVectorizer</td>\n",
              "      <td>XGBClassifier</td>\n",
              "      <td>0.733</td>\n",
              "      <td>0.830508</td>\n",
              "      <td>0.586826</td>\n",
              "      <td>0.727187</td>\n",
              "    </tr>\n",
              "  </tbody>\n",
              "</table>\n",
              "</div>"
            ],
            "text/plain": [
              "  Feature extractor class        Classifier class  Accuracy  Precision  \\\n",
              "0         CountVectorizer      LogisticRegression     0.750   0.778271   \n",
              "1         CountVectorizer  RandomForestClassifier     0.739   0.760870   \n",
              "2         CountVectorizer           XGBClassifier     0.739   0.844828   \n",
              "3         TfidfVectorizer      LogisticRegression     0.755   0.781938   \n",
              "4         TfidfVectorizer  RandomForestClassifier     0.759   0.808057   \n",
              "5         TfidfVectorizer           XGBClassifier     0.733   0.830508   \n",
              "\n",
              "     Recall  F1 Score  \n",
              "0  0.700599  0.749399  \n",
              "1  0.698603  0.738582  \n",
              "2  0.586826  0.732829  \n",
              "3  0.708583  0.754481  \n",
              "4  0.680639  0.757525  \n",
              "5  0.586826  0.727187  "
            ]
          },
          "execution_count": 105,
          "metadata": {},
          "output_type": "execute_result"
        }
      ],
      "source": [
        "metrics"
      ]
    },
    {
      "cell_type": "markdown",
      "id": "b299af36",
      "metadata": {},
      "source": [
        "## Main solution"
      ]
    },
    {
      "cell_type": "code",
      "execution_count": 107,
      "id": "23197fb1",
      "metadata": {},
      "outputs": [],
      "source": [
        "class DummyClassifier:\n",
        "    def __init__(self):\n",
        "        pass\n",
        "\n",
        "    def fit(self, X, y):\n",
        "        ...\n",
        "\n",
        "    def predict(self, X):\n",
        "        y_pred = X['Tweet'].apply(lambda x: 1 if ':)' in x or ':-)' in x or ':d' in x or ':p' in x or ': )' in x else 0)\n",
        "        return y_pred"
      ]
    },
    {
      "cell_type": "code",
      "execution_count": 108,
      "id": "6be11ad2",
      "metadata": {},
      "outputs": [],
      "source": [
        "dummy_classifier = DummyClassifier()\n",
        "# dummy_classifier.fit(X_train, y_train)\n",
        "y_pred = dummy_classifier.predict(test)\n",
        "# Evaluate\n",
        "accuracy, precision, recall, f1 = evaluate(y_test, y_pred, log=False)\n",
        "metrics.loc[len(metrics)] = [None, \"DummyClassifier\", accuracy, precision, recall, f1]"
      ]
    },
    {
      "cell_type": "code",
      "execution_count": 109,
      "id": "679e076f",
      "metadata": {},
      "outputs": [
        {
          "data": {
            "text/html": [
              "<div>\n",
              "<style scoped>\n",
              "    .dataframe tbody tr th:only-of-type {\n",
              "        vertical-align: middle;\n",
              "    }\n",
              "\n",
              "    .dataframe tbody tr th {\n",
              "        vertical-align: top;\n",
              "    }\n",
              "\n",
              "    .dataframe thead th {\n",
              "        text-align: right;\n",
              "    }\n",
              "</style>\n",
              "<table border=\"1\" class=\"dataframe\">\n",
              "  <thead>\n",
              "    <tr style=\"text-align: right;\">\n",
              "      <th></th>\n",
              "      <th>Feature extractor class</th>\n",
              "      <th>Classifier class</th>\n",
              "      <th>Accuracy</th>\n",
              "      <th>Precision</th>\n",
              "      <th>Recall</th>\n",
              "      <th>F1 Score</th>\n",
              "    </tr>\n",
              "  </thead>\n",
              "  <tbody>\n",
              "    <tr>\n",
              "      <th>0</th>\n",
              "      <td>CountVectorizer</td>\n",
              "      <td>LogisticRegression</td>\n",
              "      <td>0.750</td>\n",
              "      <td>0.778271</td>\n",
              "      <td>0.700599</td>\n",
              "      <td>0.749399</td>\n",
              "    </tr>\n",
              "    <tr>\n",
              "      <th>1</th>\n",
              "      <td>CountVectorizer</td>\n",
              "      <td>RandomForestClassifier</td>\n",
              "      <td>0.739</td>\n",
              "      <td>0.760870</td>\n",
              "      <td>0.698603</td>\n",
              "      <td>0.738582</td>\n",
              "    </tr>\n",
              "    <tr>\n",
              "      <th>2</th>\n",
              "      <td>CountVectorizer</td>\n",
              "      <td>XGBClassifier</td>\n",
              "      <td>0.739</td>\n",
              "      <td>0.844828</td>\n",
              "      <td>0.586826</td>\n",
              "      <td>0.732829</td>\n",
              "    </tr>\n",
              "    <tr>\n",
              "      <th>3</th>\n",
              "      <td>TfidfVectorizer</td>\n",
              "      <td>LogisticRegression</td>\n",
              "      <td>0.755</td>\n",
              "      <td>0.781938</td>\n",
              "      <td>0.708583</td>\n",
              "      <td>0.754481</td>\n",
              "    </tr>\n",
              "    <tr>\n",
              "      <th>4</th>\n",
              "      <td>TfidfVectorizer</td>\n",
              "      <td>RandomForestClassifier</td>\n",
              "      <td>0.759</td>\n",
              "      <td>0.808057</td>\n",
              "      <td>0.680639</td>\n",
              "      <td>0.757525</td>\n",
              "    </tr>\n",
              "    <tr>\n",
              "      <th>5</th>\n",
              "      <td>TfidfVectorizer</td>\n",
              "      <td>XGBClassifier</td>\n",
              "      <td>0.733</td>\n",
              "      <td>0.830508</td>\n",
              "      <td>0.586826</td>\n",
              "      <td>0.727187</td>\n",
              "    </tr>\n",
              "    <tr>\n",
              "      <th>6</th>\n",
              "      <td>None</td>\n",
              "      <td>DummyClassifier</td>\n",
              "      <td>1.000</td>\n",
              "      <td>1.000000</td>\n",
              "      <td>1.000000</td>\n",
              "      <td>1.000000</td>\n",
              "    </tr>\n",
              "  </tbody>\n",
              "</table>\n",
              "</div>"
            ],
            "text/plain": [
              "  Feature extractor class        Classifier class  Accuracy  Precision  \\\n",
              "0         CountVectorizer      LogisticRegression     0.750   0.778271   \n",
              "1         CountVectorizer  RandomForestClassifier     0.739   0.760870   \n",
              "2         CountVectorizer           XGBClassifier     0.739   0.844828   \n",
              "3         TfidfVectorizer      LogisticRegression     0.755   0.781938   \n",
              "4         TfidfVectorizer  RandomForestClassifier     0.759   0.808057   \n",
              "5         TfidfVectorizer           XGBClassifier     0.733   0.830508   \n",
              "6                    None         DummyClassifier     1.000   1.000000   \n",
              "\n",
              "     Recall  F1 Score  \n",
              "0  0.700599  0.749399  \n",
              "1  0.698603  0.738582  \n",
              "2  0.586826  0.732829  \n",
              "3  0.708583  0.754481  \n",
              "4  0.680639  0.757525  \n",
              "5  0.586826  0.727187  \n",
              "6  1.000000  1.000000  "
            ]
          },
          "execution_count": 109,
          "metadata": {},
          "output_type": "execute_result"
        }
      ],
      "source": [
        "metrics"
      ]
    }
  ],
  "metadata": {
    "colab": {
      "provenance": []
    },
    "kernelspec": {
      "display_name": "base",
      "language": "python",
      "name": "python3"
    },
    "language_info": {
      "codemirror_mode": {
        "name": "ipython",
        "version": 3
      },
      "file_extension": ".py",
      "mimetype": "text/x-python",
      "name": "python",
      "nbconvert_exporter": "python",
      "pygments_lexer": "ipython3",
      "version": "3.10.10"
    }
  },
  "nbformat": 4,
  "nbformat_minor": 5
}

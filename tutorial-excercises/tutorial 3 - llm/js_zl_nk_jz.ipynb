{
  "cells": [
    {
      "cell_type": "code",
      "execution_count": 135,
      "metadata": {
        "colab": {
          "base_uri": "https://localhost:8080/"
        },
        "id": "Kin281nzYS0t",
        "outputId": "f343eff2-028f-4e03-86cc-bf5d0986b9f4"
      },
      "outputs": [
        {
          "name": "stdout",
          "output_type": "stream",
          "text": [
            "zsh:fg:1: no job control in this shell.\n"
          ]
        }
      ],
      "source": [
        "!%pip install mistralai evaluate"
      ]
    },
    {
      "cell_type": "code",
      "execution_count": 182,
      "metadata": {
        "id": "VQYVz0DtYbuf"
      },
      "outputs": [],
      "source": [
        "import os\n",
        "from dotenv import load_dotenv\n",
        "load_dotenv()\n",
        "\n",
        "prompts = {\n",
        "    \"review1\": {\n",
        "        \"review_content\": \"Gets my clothes fresh and clean every time. No lingering odor with Tide.\",\n",
        "        \"golden_answer\": {\n",
        "            \"product category\": \"Powder Detergents for Laundry\",\n",
        "            \"brand\": \"Tide\",\n",
        "            \"other keywords\": ['fresh', 'clean', 'no lingering odor']\n",
        "        },\n",
        "    },\n",
        "    \"review2\": {\n",
        "        \"review_content\": \"Keeps my coffee hot for hours—just what I need for long workdays. Thanks, Contigo.\",\n",
        "        \"golden_answer\": {\n",
        "            \"product category\": \"Thermal Mugs\",\n",
        "            \"brand\": \"Contigo\",\n",
        "            \"other keywords\": [\"hot for hours\"]\n",
        "        },\n",
        "    },\n",
        "}\n"
      ]
    },
    {
      "cell_type": "code",
      "execution_count": 183,
      "metadata": {},
      "outputs": [],
      "source": [
        "from pydantic import BaseModel, Field\n",
        "from typing import List, Union, Literal\n",
        "\n",
        "\n",
        "class Product(BaseModel):\n",
        "    product_category: Literal[\n",
        "        \"Powder Detergents for Laundry\",\n",
        "        \"Thermal Mugs\",\n",
        "        \"Dishwasher Detergents\",\n",
        "        \"Sunscreens\",\n",
        "        \"Nappies\",\n",
        "        \"Others\"\n",
        "    ] = Field(\n",
        "        description=\"The category of the product.\",\n",
        "        alias=\"product category\"\n",
        "    )\n",
        "    # product_category: str = Field(\n",
        "    #     description=\"The category of the product.\",\n",
        "    #     alias=\"product category\"\n",
        "    # )\n",
        "    brand: str = Field(\n",
        "        description=\"The brand of the product, or 'N/A' if not applicable.\",\n",
        "        alias=\"brand\"\n",
        "    )\n",
        "    \n",
        "    other_keywords: List[str] = Field(\n",
        "        description=\"A list of other keywords associated with the product.\",\n",
        "        alias=\"other keywords\"\n",
        "    )"
      ]
    },
    {
      "cell_type": "code",
      "execution_count": 184,
      "metadata": {
        "id": "QnJNbBtfYt1q"
      },
      "outputs": [],
      "source": [
        "from tkinter.filedialog import Open\n",
        "from mistralai import Mistral\n",
        "from openai import OpenAI, api_key\n",
        "from dotenv import load_dotenv\n",
        "load_dotenv()\n",
        "import os\n",
        "from together import Together  \n",
        "\n",
        "together_client = Together()\n",
        "\n",
        "openai_client = OpenAI(api_key=os.getenv(\"OPENAI_API_KEY\"))\n",
        "client_mistral = Mistral(api_key=os.getenv(\"MISTRAL_API_KEY\"))\n",
        "\n",
        "conversation_template = [\n",
        "    {\"role\": \"system\", \"content\": \"Given the user review of the product, extract the following information: product category, brand, and other keywords, which are associated with the product.\"}, \n",
        "    {\"role\": \"system\", \"content\": f\"\"\"Answer using only JSON format with the following JSON schema:\n",
        "\n",
        "{Product.model_json_schema()}\"\"\"},]\n",
        "\n",
        "def run_mistral(user_message, model=\"mistral-large-latest\"):\n",
        "    messages = conversation_template[:1] + [{\"role\": \"user\", \"content\": user_message}] + conversation_template[1:] \n",
        "    #messages = [{\"role\": \"user\", \"content\": user_message}]\n",
        "    chat_response = client_mistral.chat.complete(\n",
        "        model=model,\n",
        "        messages=messages,\n",
        "        response_format={\"type\": \"json_object\",\n",
        "                         \"json_schema\": {\"name\": \"product\", \"schema\": Product.model_json_schema(),}},\n",
        "    )\n",
        "    return chat_response.choices[0].message.content\n",
        "\n",
        "\n",
        "def run_openai(user_message, model=\"gpt-4o\"):\n",
        "    messages = [{\"role\": \"user\", \"content\": user_message}]\n",
        "    chat_response = openai_client.chat.completions.create(\n",
        "        model=model,\n",
        "        messages=messages,\n",
        "        response_format={\"type\": \"json_schema\",\n",
        "                         \"json_schema\": {\"name\": \"product\", \"schema\": Product.model_json_schema(),}}\n",
        "    )\n",
        "    return chat_response.choices[0].message.content\n",
        "\n",
        "# def run_together(user_message, model=\"meta-llama/Meta-Llama-3.1-70B-Instruct-Turbo\"):\n",
        "#     messages = [{\"role\": \"user\", \"content\": user_message}]\n",
        "#     chat_response = together_client.chat.completions.create(\n",
        "#         model=model,\n",
        "#         messages=messages,\n",
        "#         response_format={\n",
        "#             \"type\": \"json_object\",\n",
        "#             \"schema\": Product.model_json_schema(),\n",
        "#         },\n",
        "#     )\n",
        "#     return chat_response.choices[0].message.content\n",
        "\n",
        "# define prompt template\n",
        "prompt_template = \"\"\"\n",
        "Extract information from the following reviews:\n",
        "{content}\n",
        "\n",
        "Return only json format with the following JSON schema:\n",
        "\n",
        "{{\n",
        "        \"product category\": {{\n",
        "            \"type\": \"string\",\n",
        "            \"enum\": [\"Powder Detergents for Laundry\", \"Thermal Mugs\", \"Dishwasher Detergents\", \"Sunscreens\", \"Nappies\", \"Others\"]\n",
        "        }},\n",
        "        \"brand\": {{\n",
        "            \"type\": \"string\" or N/A\n",
        "        }},\n",
        "        \"other keywords\": {{\n",
        "            \"type\": \"array\",\n",
        "            \"items\": {{\n",
        "                \"type\": \"string\"\n",
        "            }}\n",
        "        }},\n",
        "\n",
        "}}\n",
        "\"\"\"\n",
        "\n",
        "reviews = [\n",
        "    # Thermal Mugs\n",
        "    \"Keeps my coffee hot for hours—just what I need for long workdays. Thanks, Contigo.\",\n",
        "    \"The lid isn’t leak-proof, but it keeps drinks warm for a decent amount of time.\",\n",
        "    \"Love the sleek design of my Zojirushi mug, and it fits perfectly in my car cup holder!\",\n",
        "    \"It’s lightweight but keeps my drinks at the right temperature for hours with Hydro Flask.\",\n",
        "    \"No more cold coffee! This Yeti thermal mug does the job.\",\n",
        "    \"It’s easy to clean, and the thermal insulation works like a charm.\",\n",
        "    \"The handle makes it easy to carry, and it doesn’t spill.\",\n",
        "    \"Not great for keeping drinks cold, but excellent for hot beverages.\",\n",
        "    \"I wish it were bigger, but it’s perfect for my morning tea.\",\n",
        "    \"I accidentally dropped it, and it didn’t dent! Very sturdy.\",\n",
        "    \"The rubber seal around the lid came loose after a few weeks. Disappointing.\",\n",
        "    \"Great for both coffee and soup—keeps them warm for hours.\",\n",
        "    \"The exterior stays cool, even when my drink is piping hot inside.\",\n",
        "    \"I love the color options, and it’s great for on-the-go.\",\n",
        "    \"Keeps ice water cold for hours, even in hot weather!\",\n",
        "    \"It’s a little tricky to open one-handed, but overall, a great mug.\",\n",
        "    \"The size is perfect for travel, and it keeps drinks hot all day.\",\n",
        "    \"It doesn’t leak, even when I toss it in my bag. Highly recommend Contigo.\",\n",
        "    \"The lid is a little tight, but the mug works well for keeping drinks warm.\",\n",
        "    \"Very stylish and functional! I get compliments all the time.\",\n",
        "    \"Keeps my coffee scalding hot for longer than any mug I’ve owned with Zojirushi.\",\n",
        "    \"Great value for the price. Works just as well as more expensive brands.\",\n",
        "    \"The mug is lightweight and easy to carry around.\",\n",
        "    \"It fits perfectly under my single-serve coffee machine!\",\n",
        "    \"Durable, sleek, and it does exactly what it’s supposed to.\",\n",
        "\n",
        "    # Dishwasher Detergents\n",
        "    \"My dishes come out sparkling clean every time with Cascade. Love this detergent!\",\n",
        "    \"It works well on glass, but I’ve noticed spots on my silverware.\",\n",
        "    \"Great for tough, greasy messes. Leaves no residue! Thanks, Finish.\",\n",
        "    \"This detergent smells amazing and leaves my dishwasher fresh.\",\n",
        "    \"It’s a little pricey, but my dishes have never looked better with Cascade Platinum.\",\n",
        "    \"Gets rid of even the most stubborn baked-on food. Highly recommend Finish Quantum.\",\n",
        "    \"Not the best on hard water stains, but otherwise it works great.\",\n",
        "    \"My dishes have never been so spotless after a wash!\",\n",
        "    \"It’s very effective, but I wish it came in a fragrance-free version.\",\n",
        "    \"Cuts through grease like a dream. No more pre-rinsing with Cascade Complete.\",\n",
        "    \"This detergent doesn’t leave any residue on plastic, which I love.\",\n",
        "    \"My glasses come out clear and sparkling every single time.\",\n",
        "    \"It doesn’t work well with my eco dishwasher. Dishes aren’t as clean.\",\n",
        "    \"Very efficient—gets rid of food stains and smells with no problem.\",\n",
        "    \"I noticed some streaks on my glassware, but overall it works well.\",\n",
        "    \"Leaves my dishes spotless and my machine smelling fresh.\",\n",
        "    \"A great, eco-friendly option that actually works!\",\n",
        "    \"It’s a little hard on some of my delicate dishware.\",\n",
        "    \"This is the only detergent that works on my hard water stains.\",\n",
        "    \"No need to rewash dishes after using this—so efficient!\",\n",
        "    \"Perfect for everyday use. My dishes are clean and shiny.\",\n",
        "    \"Leaves a chemical smell, but it’s effective at cleaning.\",\n",
        "    \"A bit expensive, but worth it for the spotless results.\",\n",
        "    \"No more streaks or water spots! Best dishwasher detergent ever.\",\n",
        "    \"My silverware and dishes look brand new after every wash.\",\n",
        "\n",
        "    # Sunscreens\n",
        "    \"Absorbs quickly and doesn’t leave a greasy residue. Great for daily use with Neutrogena.\",\n",
        "    \"The scent is a little strong, but it protects well with Coppertone.\",\n",
        "    \"Perfect for sensitive skin! No breakouts or irritation with La Roche-Posay.\",\n",
        "    \"A bit thick to apply, but once it’s on, it stays all day.\",\n",
        "    \"I love the lightweight formula of CeraVe, perfect for wearing under makeup.\",\n",
        "    \"Doesn’t leave a white cast, even on darker skin tones.\",\n",
        "    \"The spray bottle makes it super easy to apply on the go.\",\n",
        "    \"This sunscreen saved me from burning on a beach vacation with Banana Boat!\",\n",
        "    \"It’s waterproof, which is a must for pool days. Highly recommend Hawaiian Tropic.\",\n",
        "    \"A bit pricey, but the protection it provides is worth every penny with Supergoop.\",\n",
        "    \"This is my go-to sunscreen for both my face and body with Neutrogena.\",\n",
        "    \"It’s a little greasy, but it gets the job done in strong sun.\",\n",
        "    \"No weird scent, and it goes on smooth. Love this product!\",\n",
        "    \"Perfect for outdoor activities—no sunburn, even after hours outside.\",\n",
        "    \"It’s great for kids! No irritation, and it’s easy to apply with Blue Lizard.\",\n",
        "    \"A little too heavy for my face, but works perfectly for the body.\",\n",
        "    \"The texture is nice and light, not sticky at all.\",\n",
        "    \"This sunscreen doesn’t clog my pores, which is a huge plus with EltaMD.\",\n",
        "    \"I’ve tried a lot of sunscreens, and this one offers the best protection with La Roche-Posay.\",\n",
        "    \"It leaves a slight sheen, but I love how protected my skin feels.\",\n",
        "    \"This formula doesn’t dry out my skin like others do.\",\n",
        "    \"It’s great under makeup—no pilling or greasiness.\",\n",
        "    \"I wish it were more affordable, but it’s worth it for the protection.\",\n",
        "    \"Very effective, even after swimming for hours.\",\n",
        "    \"My skin stays soft and protected all day with Neutrogena sunscreen.\"\n",
        "\n",
        "     # Powder Detergents for Laundry\n",
        "    \"Gets my clothes fresh and clean every time. No lingering odor with Tide.\",\n",
        "    \"It dissolves well, even in cold water. My whites have never been brighter thanks to Ariel.\",\n",
        "    \"A little pricey, but worth it for the excellent stain removal power of Persil.\",\n",
        "    \"This powder leaves a residue on darker clothes. Not a fan of OMO.\",\n",
        "    \"Great for sensitive skin! No itching or redness after using Seventh Generation.\",\n",
        "    \"I love how eco-friendly this detergent is. It’s a big plus for me with Ecover.\",\n",
        "    \"I don’t need fabric softener anymore—this leaves my clothes so soft!\",\n",
        "    \"My laundry has never smelled so fresh, and it lasts for days with Gain.\",\n",
        "    \"It’s not the best for heavy stains but works great for daily washes.\",\n",
        "    \"Great value for the price. This box lasts forever! Thanks, Arm & Hammer.\",\n",
        "    \"Perfect for my workout gear—gets rid of all the sweat smells.\",\n",
        "    \"Leaves a bit of powder behind in the machine, but it cleans well.\",\n",
        "    \"I’ve been using it for years, and Tide never disappoints.\",\n",
        "    \"Not as effective in hard water areas, but still decent.\",\n",
        "    \"My go-to detergent for all of my family’s laundry needs.\",\n",
        "    \"I noticed some fading in my darker clothes after a few washes.\",\n",
        "    \"It’s gentle on my baby’s clothes and skin with Dreft.\",\n",
        "    \"Very effective at removing mud and grass stains from the kids’ clothes.\",\n",
        "    \"I like the scent, but it might be too strong for some.\",\n",
        "    \"No complaints so far! My clothes feel clean and fresh.\",\n",
        "    \"Works just as well as liquid detergents but at a lower cost.\",\n",
        "    \"A bit too perfumed for my taste, but it gets the job done.\",\n",
        "    \"My clothes are noticeably softer and smell better than before.\",\n",
        "    \"The box is hard to pour from, but the detergent works well.\",\n",
        "    \"This is my new favorite detergent. So much better than the leading brand!\",\n",
        "]"
      ]
    },
    {
      "cell_type": "code",
      "execution_count": 185,
      "metadata": {
        "id": "B8qVWK76YxdO"
      },
      "outputs": [],
      "source": [
        "import json\n",
        "\n",
        "\n",
        "def compare_json_objects(obj1, obj2,keys_to_compare={'other keywords', 'brand', 'product category'}):\n",
        "    total_fields = 0\n",
        "    identical_fields = 0\n",
        "    common_keys = set(obj1.keys()) & set(obj2.keys() & keys_to_compare)\n",
        "    for key in common_keys:\n",
        "        identical_fields += obj1[key] == obj2[key]\n",
        "    #percentage_identical = (identical_fields / max(len(obj1.keys()), 1)) * 100\n",
        "    percentage_identical = (identical_fields / max(len(keys_to_compare), 1)) * 100\n",
        "\n",
        "    return percentage_identical"
      ]
    },
    {
      "cell_type": "code",
      "execution_count": 186,
      "metadata": {
        "colab": {
          "base_uri": "https://localhost:8080/"
        },
        "id": "xwnE02DNY0wr",
        "outputId": "027725d1-0106-4995-dce0-0ceee607c462"
      },
      "outputs": [
        {
          "name": "stdout",
          "output_type": "stream",
          "text": [
            "Mistral: 100.0\n",
            "OpenAI: 100.0\n"
          ]
        }
      ],
      "source": [
        "accuracy_rates = []\n",
        "accuracy_rates_openai = []\n",
        "# for each test case\n",
        "for name in prompts:\n",
        "\n",
        "    # define user message\n",
        "    #user_message = #prompt_template.format(medical_notes=prompts[name][\"medical_notes\"])\n",
        "    text=prompts[name][\"review_content\"]\n",
        "    #print(text)\n",
        "    #user_message = prompt_template.format(content=text)\n",
        "    #print(user_message)\n",
        "    #user_message = prompt_templateR.format(notes=promptsR[name][\"review_content\"])\n",
        "\n",
        "    # run LLM\n",
        "    response_raw = run_mistral(text)\n",
        "    response_raw_openai = run_openai(text)\n",
        "    # print(response_raw)\n",
        "\n",
        "    response = json.loads(response_raw)\n",
        "    response_openai = json.loads(response_raw_openai)\n",
        "    # print(response)\n",
        "    # calculate accuracy rate for this test case\n",
        "    accuracy_rates.append(\n",
        "        compare_json_objects(response, prompts[name][\"golden_answer\"],keys_to_compare={'product category','brand'})\n",
        "    )\n",
        "    accuracy_rates_openai.append(\n",
        "        compare_json_objects(response_openai, prompts[name][\"golden_answer\"],keys_to_compare={'product category','brand'})\n",
        "    )\n",
        "\n",
        "# calculate accuracy rate across test cases\n",
        "print(f\"Mistral: {sum(accuracy_rates) / len(accuracy_rates)}\")\n",
        "print(f\"OpenAI: {sum(accuracy_rates_openai) / len(accuracy_rates_openai)}\")"
      ]
    },
    {
      "cell_type": "code",
      "execution_count": 187,
      "metadata": {
        "colab": {
          "base_uri": "https://localhost:8080/"
        },
        "id": "SkxI2JSZYev3",
        "outputId": "32e52124-7174-43f9-aabb-81c43f308840"
      },
      "outputs": [],
      "source": [
        "# prompt: create big json dictionary with subsequent reviews and LLM answer\n",
        "import time\n",
        "\n",
        "results = {}\n",
        "results_openai = {}\n",
        "for review in reviews:\n",
        "  #print(review)\n",
        "  user_message = prompt_template.format(content=review)\n",
        "  response = json.loads(run_mistral(user_message))\n",
        "  response_openai = json.loads(run_openai(user_message))\n",
        "  results[review] = response\n",
        "  results_openai[review] = response_openai\n",
        "  #print(response)\n",
        "  # time.sleep(1)\n",
        "  # print()\n",
        "\n",
        "import json\n",
        "with open('results.json', 'w') as f:\n",
        "  json.dump(results, f, indent=4)\n",
        "\n",
        "with open('results_openai.json', 'w') as f:\n",
        "  json.dump(results_openai, f, indent=4)"
      ]
    },
    {
      "cell_type": "code",
      "execution_count": 188,
      "metadata": {
        "id": "thMktc1EbAf7"
      },
      "outputs": [],
      "source": [
        "product_offers = [\n",
        "    # Thermal Mugs\n",
        "    \"Contigo Workday Travel Mug – Keeps Coffee Hot for Hours!\",\n",
        "    \"Zojirushi Sleek Travel Mug – Perfect Fit for Car Holders\",\n",
        "    \"Hydro Flask Lightweight Insulation Mug – Stay Warm for Hours\",\n",
        "    \"Yeti Thermal Mug – No More Cold Coffee!\",\n",
        "    \"Contigo All-Day Heat Retention Mug – Ideal for Travel\",\n",
        "    \"Contigo Leak-Proof Mug – Toss in Your Bag with Confidence\",\n",
        "    \"Zojirushi Scalding Hot Coffee Mug – Best Insulation Yet\",\n",
        "\n",
        "    # Dishwasher Detergents\n",
        "    \"Cascade Sparkling Clean Detergent – Your Dishes Will Shine\",\n",
        "    \"Finish Detergent – Tough on Grease, No Residue Left\",\n",
        "    \"Cascade Platinum Detergent – Pricey, But Worth It for Results\",\n",
        "    \"Finish Quantum Detergent – Stubborn Food Stains Gone\",\n",
        "    \"Cascade Complete Detergent – No Pre-Rinsing Needed for Grease\",\n",
        "\n",
        "    # Sunscreens\n",
        "    \"Neutrogena Daily Sunscreen – Quick Absorption, No Grease\",\n",
        "    \"Coppertone Suncream – Strong Scent, Strong Protection\",\n",
        "    \"La Roche-Posay Sensitive Skin Sunscreen – No Breakouts\",\n",
        "    \"CeraVe Lightweight Sunscreen – Perfect Under Makeup\",\n",
        "    \"Banana Boat Beach-Saver Sunscreen – No Burns, Just Fun\",\n",
        "    \"Hawaiian Tropic Waterproof Sunscreen – Pool Day Essential\",\n",
        "    \"Supergoop Premium Sunscreen – Worth Every Penny\",\n",
        "    \"Neutrogena Face & Body Sunscreen – All-Purpose Protection\",\n",
        "    \"EltaMD Pore-Friendly Sunscreen – Protection Without Clogging\",\n",
        "    \"La Roche-Posay Suncream – The Best in Sun Protection\",\n",
        "    \"Neutrogena Sunscreen – Soft, Protected Skin All Day\",\n",
        "\n",
        "    # Powder Detergents for Laundry\n",
        "    \"Tide Powder Detergent – Fresh, Clean Clothes Every Time\",\n",
        "    \"Ariel Powder Detergent – Whites Brighter, Even in Cold Water\",\n",
        "    \"Persil Powder Detergent – Powerful Stain Removal\",\n",
        "    \"OMO Powder Detergent – Leaves Residue on Dark Clothes\",\n",
        "    \"Seventh Generation Powder Detergent – Great for Sensitive Skin\",\n",
        "    \"Ecover Eco-Friendly Detergent – Perfect for the Eco-Conscious\",\n",
        "    \"Gain Powder Detergent – Fresh-Smelling Laundry for Days\",\n",
        "    \"Arm & Hammer Powder Detergent – Great Value, Lasts Forever\",\n",
        "    \"Dreft Baby Powder Detergent – Gentle on Baby Clothes\"\n",
        "]"
      ]
    },
    {
      "cell_type": "code",
      "execution_count": 189,
      "metadata": {
        "colab": {
          "base_uri": "https://localhost:8080/"
        },
        "id": "6AhqQTz0csly",
        "outputId": "3725049c-7119-45d7-9c66-28df670895e1"
      },
      "outputs": [],
      "source": [
        "import time\n",
        "\n",
        "products = {}\n",
        "products_openai = {}\n",
        "\n",
        "for title in product_offers:\n",
        "  # print(title)\n",
        "  user_message = prompt_template.format(content=title)\n",
        "  response = json.loads(run_mistral(user_message))\n",
        "  response_openai = json.loads(run_openai(user_message))\n",
        "  products[title] = response\n",
        "  products_openai[title] = response_openai\n",
        "  # print(response)\n",
        "  # time.sleep(1)\n",
        "  # print()\n",
        "\n",
        "import json\n",
        "with open('products.json', 'w') as f:\n",
        "  json.dump(products, f, indent=4)\n",
        "\n",
        "with open('products_openai.json', 'w') as f:\n",
        "  json.dump(products_openai, f, indent=4)\n"
      ]
    },
    {
      "cell_type": "code",
      "execution_count": 190,
      "metadata": {
        "colab": {
          "base_uri": "https://localhost:8080/"
        },
        "id": "Dm9yYI5_Y3iz",
        "outputId": "7ed92644-16dc-4d11-c0ee-61c8bb58ebb5"
      },
      "outputs": [
        {
          "name": "stdout",
          "output_type": "stream",
          "text": [
            "{'product category': 'Sunscreens', 'brand': 'Neutrogena', 'other keywords': ['absorbs quickly', 'greasy residue', 'daily use']}\n",
            "{'product category': 'Sunscreens', 'brand': 'EltaMD', 'other keywords': ['Pore-Friendly', 'Protection', 'Clogging']}\n",
            "Similarity between review:\n",
            " 'Absorbs quickly and doesn’t leave a greasy residue. Great for daily use with Neutrogena.'\n",
            " and product:\n",
            " 'EltaMD Pore-Friendly Sunscreen – Protection Without Clogging'\n",
            " is as follow:\n",
            " 50.0\n",
            "Similarity between review:\n",
            " 'Absorbs quickly and doesn’t leave a greasy residue. Great for daily use with Neutrogena.'\n",
            " and product:\n",
            " 'EltaMD Pore-Friendly Sunscreen – Protection Without Clogging'\n",
            " is as follow:\n",
            " 50.0\n"
          ]
        }
      ],
      "source": [
        "# prompt: write code for comparing one review from results with one product from products and add in these comparison extracted keywords with lower weight additionally to categories and brand comparison\n",
        "\n",
        "import re\n",
        "\n",
        "\n",
        "def compare_json_objects_with_keywords(obj1, obj2, keys_to_compare={'other keywords', 'brand', 'product category'}):\n",
        "    identical_fields = 0\n",
        "    common_keys = set(obj1.keys()) & set(obj2.keys() & keys_to_compare)\n",
        "    for key in common_keys:\n",
        "        if key == 'other keywords':\n",
        "            if isinstance(obj1.get(key), list) and isinstance(obj2.get(key), list):\n",
        "                common_keywords = set(obj1.get(key)) & set(obj2.get(key))\n",
        "                identical_fields += len(common_keywords) * 0.3  # Keywords have lower weight\n",
        "            else:\n",
        "              identical_fields += 0\n",
        "        else:\n",
        "          identical_fields += obj1[key] == obj2[key]\n",
        "    #percentage_identical = (identical_fields / max(len(obj1.keys()), 1)) * 100\n",
        "    percentage_identical = (identical_fields / max(len(keys_to_compare), 1)) * 100\n",
        "\n",
        "    return percentage_identical\n",
        "\n",
        "\n",
        "# Example usage (assuming 'results' and 'products' are dictionaries)\n",
        "review = list(results.keys())[50]  # Get the first review\n",
        "review_data = results[review]\n",
        "\n",
        "product = list(products.keys())[20]  # Get the first product\n",
        "product_data = products[product]\n",
        "print(review_data)\n",
        "print(product_data)\n",
        "similarity_score = compare_json_objects_with_keywords(review_data, product_data,keys_to_compare={'brand', 'product category'})\n",
        "print(f\"Similarity between review:\\n '{review}'\\n and product:\\n '{product}'\\n is as follow:\\n {similarity_score}\")\n",
        "\n",
        "review_openai = list(results_openai.keys())[50]  # Get the first review\n",
        "review_data_openai = results_openai[review_openai]\n",
        "\n",
        "product_openai = list(products_openai.keys())[20]  # Get the first product\n",
        "product_data_openai = products_openai[product_openai]\n",
        "similarity_score_openai = compare_json_objects_with_keywords(review_data_openai, product_data_openai,keys_to_compare={'brand', 'product category'})\n",
        "print(f\"Similarity between review:\\n '{review_openai}'\\n and product:\\n '{product_openai}'\\n is as follow:\\n {similarity_score_openai}\")"
      ]
    },
    {
      "cell_type": "code",
      "execution_count": 191,
      "metadata": {
        "id": "pVgWzng4j9oy"
      },
      "outputs": [],
      "source": [
        "# prompt: add comparison when if product has different cateogry there is no similarity, but if it is the same it is about 30%, if has the same category and brand, similarity is about 75%\n",
        "\n",
        "def compare_json_objects_with_keywords(obj1, obj2, keys_to_compare={'other keywords', 'brand', 'product category'}):\n",
        "    if obj1.get('product category') != obj2.get('product category'):\n",
        "        return 0  # No similarity if categories don't match\n",
        "\n",
        "    similarity_score = 0\n",
        "    common_keys = set(obj1.keys()) & set(obj2.keys() & keys_to_compare)\n",
        "\n",
        "    if obj1.get('product category') == obj2.get('product category'):\n",
        "        similarity_score += 0.3  # Base similarity for matching categories\n",
        "\n",
        "    if obj1.get('brand') == obj2.get('brand'):\n",
        "        similarity_score += 0.4  # Additional similarity for matching brands\n",
        "\n",
        "    for key in common_keys:\n",
        "        if key == 'other keywords':\n",
        "            if isinstance(obj1.get(key), list) and isinstance(obj2.get(key), list):\n",
        "                common_keywords = set(obj1.get(key)) & set(obj2.get(key))\n",
        "                similarity_score += len(common_keywords) * 0.05  # Keywords have lower weight\n",
        "            else:\n",
        "                similarity_score += 0\n",
        "\n",
        "\n",
        "    return min(100, round(similarity_score * 100))\n"
      ]
    },
    {
      "cell_type": "code",
      "execution_count": 192,
      "metadata": {
        "colab": {
          "base_uri": "https://localhost:8080/"
        },
        "id": "yaykzWNckNKH",
        "outputId": "78c97d91-8b52-4557-dd08-374f2f8a32fa"
      },
      "outputs": [
        {
          "name": "stdout",
          "output_type": "stream",
          "text": [
            "{'product category': 'Sunscreens', 'brand': 'Neutrogena', 'other keywords': ['absorbs quickly', 'greasy residue', 'daily use']}\n",
            "{'product category': 'Sunscreens', 'brand': 'EltaMD', 'other keywords': ['Pore-Friendly', 'Protection', 'Clogging']}\n",
            "Similarity between review:\n",
            " 'Absorbs quickly and doesn’t leave a greasy residue. Great for daily use with Neutrogena.'\n",
            " and product:\n",
            " 'EltaMD Pore-Friendly Sunscreen – Protection Without Clogging'\n",
            " is as follow:\n",
            " 30\n",
            "Similarity between review:\n",
            " 'Absorbs quickly and doesn’t leave a greasy residue. Great for daily use with Neutrogena.'\n",
            " and product:\n",
            " 'EltaMD Pore-Friendly Sunscreen – Protection Without Clogging'\n",
            " is as follow:\n",
            " 30\n"
          ]
        }
      ],
      "source": [
        "# Example usage (assuming 'results' and 'products' are dictionaries)\n",
        "review = list(results.keys())[50]  # Get the first review\n",
        "review_data = results[review]\n",
        "\n",
        "product = list(products.keys())[20]  # Get the first product\n",
        "product_data = products[product]\n",
        "print(review_data)\n",
        "print(product_data)\n",
        "\n",
        "\n",
        "similarity_score = compare_json_objects_with_keywords(review_data, product_data,keys_to_compare={'brand', 'product category'})\n",
        "print(f\"Similarity between review:\\n '{review}'\\n and product:\\n '{product}'\\n is as follow:\\n {similarity_score}\")\n",
        "\n",
        "review_openai = list(results_openai.keys())[50]  # Get the first review\n",
        "review_data_openai = results_openai[review_openai]\n",
        "\n",
        "product_openai = list(products_openai.keys())[20]  # Get the first product\n",
        "product_data_openai = products_openai[product_openai]\n",
        "similarity_score_openai = compare_json_objects_with_keywords(review_data_openai, product_data_openai,keys_to_compare={'brand', 'product category'})\n",
        "print(f\"Similarity between review:\\n '{review_openai}'\\n and product:\\n '{product_openai}'\\n is as follow:\\n {similarity_score_openai}\")\n"
      ]
    },
    {
      "cell_type": "code",
      "execution_count": 193,
      "metadata": {
        "colab": {
          "base_uri": "https://localhost:8080/"
        },
        "id": "CmKuSWQVs76q",
        "outputId": "d3b08d97-47f3-4bb2-e565-4684f4695d5e"
      },
      "outputs": [
        {
          "name": "stdout",
          "output_type": "stream",
          "text": [
            "Requirement already satisfied: bert_score in /opt/homebrew/Caskroom/miniconda/base/lib/python3.10/site-packages (0.3.13)\n",
            "Requirement already satisfied: torch>=1.0.0 in /opt/homebrew/Caskroom/miniconda/base/lib/python3.10/site-packages (from bert_score) (2.4.1)\n",
            "Requirement already satisfied: pandas>=1.0.1 in /opt/homebrew/Caskroom/miniconda/base/lib/python3.10/site-packages (from bert_score) (2.2.3)\n",
            "Requirement already satisfied: transformers>=3.0.0 in /opt/homebrew/Caskroom/miniconda/base/lib/python3.10/site-packages (from bert_score) (4.45.2)\n",
            "Requirement already satisfied: numpy in /opt/homebrew/Caskroom/miniconda/base/lib/python3.10/site-packages (from bert_score) (1.23.5)\n",
            "Requirement already satisfied: requests in /opt/homebrew/Caskroom/miniconda/base/lib/python3.10/site-packages (from bert_score) (2.32.3)\n",
            "Requirement already satisfied: tqdm>=4.31.1 in /opt/homebrew/Caskroom/miniconda/base/lib/python3.10/site-packages (from bert_score) (4.66.5)\n",
            "Requirement already satisfied: matplotlib in /opt/homebrew/Caskroom/miniconda/base/lib/python3.10/site-packages (from bert_score) (3.6.2)\n",
            "Requirement already satisfied: packaging>=20.9 in /opt/homebrew/Caskroom/miniconda/base/lib/python3.10/site-packages (from bert_score) (23.0)\n",
            "Requirement already satisfied: python-dateutil>=2.8.2 in /opt/homebrew/Caskroom/miniconda/base/lib/python3.10/site-packages (from pandas>=1.0.1->bert_score) (2.8.2)\n",
            "Requirement already satisfied: pytz>=2020.1 in /opt/homebrew/Caskroom/miniconda/base/lib/python3.10/site-packages (from pandas>=1.0.1->bert_score) (2022.7)\n",
            "Requirement already satisfied: tzdata>=2022.7 in /opt/homebrew/Caskroom/miniconda/base/lib/python3.10/site-packages (from pandas>=1.0.1->bert_score) (2024.2)\n",
            "Requirement already satisfied: filelock in /opt/homebrew/Caskroom/miniconda/base/lib/python3.10/site-packages (from torch>=1.0.0->bert_score) (3.15.4)\n",
            "Requirement already satisfied: typing-extensions>=4.8.0 in /opt/homebrew/Caskroom/miniconda/base/lib/python3.10/site-packages (from torch>=1.0.0->bert_score) (4.12.2)\n",
            "Requirement already satisfied: sympy in /opt/homebrew/Caskroom/miniconda/base/lib/python3.10/site-packages (from torch>=1.0.0->bert_score) (1.13.3)\n",
            "Requirement already satisfied: networkx in /opt/homebrew/Caskroom/miniconda/base/lib/python3.10/site-packages (from torch>=1.0.0->bert_score) (3.3)\n",
            "Requirement already satisfied: jinja2 in /opt/homebrew/Caskroom/miniconda/base/lib/python3.10/site-packages (from torch>=1.0.0->bert_score) (3.1.2)\n",
            "Requirement already satisfied: fsspec in /opt/homebrew/Caskroom/miniconda/base/lib/python3.10/site-packages (from torch>=1.0.0->bert_score) (2024.6.1)\n",
            "Requirement already satisfied: huggingface-hub<1.0,>=0.23.2 in /opt/homebrew/Caskroom/miniconda/base/lib/python3.10/site-packages (from transformers>=3.0.0->bert_score) (0.24.3)\n",
            "Requirement already satisfied: pyyaml>=5.1 in /opt/homebrew/Caskroom/miniconda/base/lib/python3.10/site-packages (from transformers>=3.0.0->bert_score) (6.0)\n",
            "Requirement already satisfied: regex!=2019.12.17 in /opt/homebrew/Caskroom/miniconda/base/lib/python3.10/site-packages (from transformers>=3.0.0->bert_score) (2024.7.24)\n",
            "Requirement already satisfied: safetensors>=0.4.1 in /opt/homebrew/Caskroom/miniconda/base/lib/python3.10/site-packages (from transformers>=3.0.0->bert_score) (0.4.3)\n",
            "Requirement already satisfied: tokenizers<0.21,>=0.20 in /opt/homebrew/Caskroom/miniconda/base/lib/python3.10/site-packages (from transformers>=3.0.0->bert_score) (0.20.0)\n",
            "Requirement already satisfied: contourpy>=1.0.1 in /opt/homebrew/Caskroom/miniconda/base/lib/python3.10/site-packages (from matplotlib->bert_score) (1.0.5)\n",
            "Requirement already satisfied: cycler>=0.10 in /opt/homebrew/Caskroom/miniconda/base/lib/python3.10/site-packages (from matplotlib->bert_score) (0.11.0)\n",
            "Requirement already satisfied: fonttools>=4.22.0 in /opt/homebrew/Caskroom/miniconda/base/lib/python3.10/site-packages (from matplotlib->bert_score) (4.25.0)\n",
            "Requirement already satisfied: kiwisolver>=1.0.1 in /opt/homebrew/Caskroom/miniconda/base/lib/python3.10/site-packages (from matplotlib->bert_score) (1.4.4)\n",
            "Requirement already satisfied: pillow>=6.2.0 in /opt/homebrew/Caskroom/miniconda/base/lib/python3.10/site-packages (from matplotlib->bert_score) (10.4.0)\n",
            "Requirement already satisfied: pyparsing>=2.2.1 in /opt/homebrew/Caskroom/miniconda/base/lib/python3.10/site-packages (from matplotlib->bert_score) (3.0.9)\n",
            "Requirement already satisfied: charset-normalizer<4,>=2 in /opt/homebrew/Caskroom/miniconda/base/lib/python3.10/site-packages (from requests->bert_score) (2.0.4)\n",
            "Requirement already satisfied: idna<4,>=2.5 in /opt/homebrew/Caskroom/miniconda/base/lib/python3.10/site-packages (from requests->bert_score) (3.4)\n",
            "Requirement already satisfied: urllib3<3,>=1.21.1 in /opt/homebrew/Caskroom/miniconda/base/lib/python3.10/site-packages (from requests->bert_score) (1.26.14)\n",
            "Requirement already satisfied: certifi>=2017.4.17 in /opt/homebrew/Caskroom/miniconda/base/lib/python3.10/site-packages (from requests->bert_score) (2024.2.2)\n",
            "Requirement already satisfied: six>=1.5 in /opt/homebrew/Caskroom/miniconda/base/lib/python3.10/site-packages (from python-dateutil>=2.8.2->pandas>=1.0.1->bert_score) (1.16.0)\n",
            "Requirement already satisfied: MarkupSafe>=2.0 in /opt/homebrew/Caskroom/miniconda/base/lib/python3.10/site-packages (from jinja2->torch>=1.0.0->bert_score) (2.1.1)\n",
            "Requirement already satisfied: mpmath<1.4,>=1.1.0 in /opt/homebrew/Caskroom/miniconda/base/lib/python3.10/site-packages (from sympy->torch>=1.0.0->bert_score) (1.3.0)\n"
          ]
        }
      ],
      "source": [
        "!pip install bert_score"
      ]
    },
    {
      "cell_type": "code",
      "execution_count": 201,
      "metadata": {
        "colab": {
          "base_uri": "https://localhost:8080/"
        },
        "id": "qPFtArWssT06",
        "outputId": "632be372-052b-4e06-f509-7e677c2e4653"
      },
      "outputs": [
        {
          "name": "stdout",
          "output_type": "stream",
          "text": [
            "['absorbs quickly', 'greasy residue', 'daily use']\n",
            "['Pore-Friendly', 'Protection', 'Clogging']\n",
            "['Absorbs quickly', 'non-greasy', 'daily use']\n",
            "['Pore-Friendly', 'Protection', 'Clogging', 'Skin care', 'UV protection']\n",
            "Similarity (BERTScore) between review:\n",
            " 'Absorbs quickly and doesn’t leave a greasy residue. Great for daily use with Neutrogena.'\n",
            " and product:\n",
            " 'EltaMD Pore-Friendly Sunscreen – Protection Without Clogging'\n",
            " is as follow:\n",
            " 0.44779595732688904\n",
            "Similarity (BERTScore) between review:\n",
            " 'Absorbs quickly and doesn’t leave a greasy residue. Great for daily use with Neutrogena.'\n",
            " and product:\n",
            " 'EltaMD Pore-Friendly Sunscreen – Protection Without Clogging'\n",
            " is as follow:\n",
            " 0.4194450378417969\n"
          ]
        }
      ],
      "source": [
        "# prompt: comapre review and product keyword by bertscore\n",
        "\n",
        "from bert_score import score\n",
        "\n",
        "def compare_keywords_bert_score(review_keywords, product_keywords):\n",
        "  \"\"\"Compares keywords using BERTScore.\"\"\"\n",
        "\n",
        "  if not review_keywords or not product_keywords:\n",
        "    return 0\n",
        "\n",
        "  max_len = max(len(review_keywords), len(product_keywords))\n",
        "  review_keywords = (review_keywords * (max_len // len(review_keywords) + 1))[:max_len]\n",
        "  product_keywords = (product_keywords * (max_len // len(product_keywords) + 1))[:max_len]\n",
        "\n",
        "  # Calculate BERTScore\n",
        "  P, R, F1 = score(\n",
        "    review_keywords,\n",
        "    product_keywords,\n",
        "    lang=\"en\",\n",
        "    model_type=\"bert-base-uncased\",\n",
        "    verbose=False\n",
        "  )\n",
        "\n",
        "  return F1.mean().item()\n",
        "\n",
        "\n",
        "# Example usage\n",
        "review_keywords = results[review].get(\"other keywords\", [])\n",
        "product_keywords = products[product].get(\"other keywords\", [])\n",
        "\n",
        "review_keywords_openai = results_openai[review].get(\"other keywords\", [])\n",
        "product_keywords_openai = products_openai[product].get(\"other keywords\", [])\n",
        "\n",
        "print(review_keywords)\n",
        "print(product_keywords)\n",
        "\n",
        "print(review_keywords_openai)\n",
        "print(product_keywords_openai)\n",
        "similarity_score_bert = compare_keywords_bert_score(review_keywords, product_keywords)\n",
        "\n",
        "\n",
        "\n",
        "similarity_score_bert_openai = compare_keywords_bert_score(review_keywords_openai, product_keywords_openai)\n",
        "print(\n",
        "    f\"Similarity (BERTScore) between review:\\n '{review}'\\n and product:\\n '{product}'\\n is as follow:\\n {similarity_score_bert}\"\n",
        ")\n",
        "\n",
        "print(\n",
        "    f\"Similarity (BERTScore) between review:\\n '{review_openai}'\\n and product:\\n '{product_openai}'\\n is as follow:\\n {similarity_score_bert_openai}\"\n",
        ")"
      ]
    },
    {
      "cell_type": "code",
      "execution_count": 203,
      "metadata": {
        "colab": {
          "base_uri": "https://localhost:8080/"
        },
        "id": "o_y0TkkRtGzG",
        "outputId": "3c130eed-fde2-4616-f136-013459aa7e7c"
      },
      "outputs": [
        {
          "name": "stdout",
          "output_type": "stream",
          "text": [
            "Similarity between review:\n",
            " 'Absorbs quickly and doesn’t leave a greasy residue. Great for daily use with Neutrogena.'\n",
            " and product:\n",
            " 'EltaMD Pore-Friendly Sunscreen – Protection Without Clogging'\n",
            " is as follow:\n",
            " 80\n",
            "Similarity (BERTScore) between review:\n",
            " 'Absorbs quickly and doesn’t leave a greasy residue. Great for daily use with Neutrogena.'\n",
            " and product:\n",
            " 'EltaMD Pore-Friendly Sunscreen – Protection Without Clogging'\n",
            " is as follow:\n",
            " 0.44779595732688904\n"
          ]
        }
      ],
      "source": [
        "review =  'Absorbs quickly and doesn’t leave a greasy residue. Great for daily use with Neutrogena.'\n",
        "product = 'EltaMD Pore-Friendly Sunscreen – Protection Without Clogging'\n",
        "review_data = {'product category': 'Sunscreens', 'brand': 'Neutrogena', 'other keywords': ['spf50', 'daily use']}\n",
        "product_data = {'product category': 'Sunscreens', 'brand': 'Neutrogena', 'other keywords': ['spf50','Pore-Friendly', 'Protection', 'daily use']}\n",
        "\n",
        "similarity_score = compare_json_objects_with_keywords(review_data, product_data,keys_to_compare={'other keywords','brand', 'product category'})\n",
        "print(f\"Similarity between review:\\n '{review}'\\n and product:\\n '{product}'\\n is as follow:\\n {similarity_score}\")\n",
        "\n",
        "similarity_score_bert = compare_keywords_bert_score(review_keywords, product_keywords)\n",
        "\n",
        "print(\n",
        "    f\"Similarity (BERTScore) between review:\\n '{review}'\\n and product:\\n '{product}'\\n is as follow:\\n {similarity_score_bert}\"\n",
        ")\n"
      ]
    },
    {
      "cell_type": "code",
      "execution_count": 204,
      "metadata": {
        "colab": {
          "base_uri": "https://localhost:8080/"
        },
        "id": "3u3T-UP-tj2I",
        "outputId": "bffca60a-02ea-4da7-cfd9-3fcd4ecdd2ad"
      },
      "outputs": [
        {
          "name": "stdout",
          "output_type": "stream",
          "text": [
            "0.8770545125007629\n",
            "New Similarity between review:\n",
            " 'Absorbs quickly and doesn’t leave a greasy residue. Great for daily use SPf50 with Neutrogena.'\n",
            " with data'{'product category': 'Sunscreens', 'brand': 'Neutrogena', 'other keywords': ['spf50', 'daily use']}'\n",
            " and product:\n",
            " 'Neutrogena SPF50 Pore-Friendly Sunscreen – Protection Without Clogging'\n",
            " with data'{'product category': 'Sunscreens', 'brand': 'Neutrogena', 'other keywords': ['spf50', 'Pore-Friendly', 'Protection', 'daily use']}''\n",
            " is as follow:\n",
            " 98\n"
          ]
        }
      ],
      "source": [
        "# prompt: propose other similarity score based on categories, brands and review_keywords; other measure then above, produce sth different ; combine also comaprison between full title of product name and concatenated string from category, brand and keywords from review, print every subsequent result, copare strings with bert score not tiff\n",
        "\n",
        "def compare_product_review_similarity(review_data, product_data):\n",
        "  \"\"\"\n",
        "  Calculates a similarity score between a review and a product based on\n",
        "  categories, brands, and keywords, including a comparison of full product\n",
        "  title with review information using BERTScore.\n",
        "  \"\"\"\n",
        "\n",
        "  similarity_score = 0\n",
        "\n",
        "  # Category Matching (Highest weight)\n",
        "  if review_data.get('product category') == product_data.get('product category'):\n",
        "    similarity_score += 0.5\n",
        "\n",
        "  # Brand Matching (Medium weight)\n",
        "  if review_data.get('brand') == product_data.get('brand'):\n",
        "    similarity_score += 0.3\n",
        "\n",
        "  # String Comparison (BERTScore) between Product Title and Review Data\n",
        "  review_info_string = \" \".join(\n",
        "      [\n",
        "          review_data.get(\"product category\"),\n",
        "          review_data.get(\"brand\"),\n",
        "          \" \".join(review_data.get(\"other keywords\")),\n",
        "      ]\n",
        "  )\n",
        "\n",
        "  product_info_string = \" \".join(\n",
        "      [\n",
        "          product_data.get(\"product category\"),\n",
        "          product_data.get(\"brand\"),\n",
        "          \" \".join(product_data.get(\"other keywords\")),\n",
        "      ]\n",
        "  )\n",
        "\n",
        "  P, R, F1 = score(\n",
        "      [product_info_string],\n",
        "      [review_info_string],\n",
        "      lang=\"en\",\n",
        "      model_type=\"bert-base-uncased\",\n",
        "      verbose=False\n",
        "  )\n",
        "\n",
        "  print(F1.mean().item())\n",
        "  similarity_score += F1.mean().item() * 0.2\n",
        "\n",
        "  return round(min(1, similarity_score) * 100)\n",
        "\n",
        "\n",
        "# Example Usage (same as before)\n",
        "review = 'Absorbs quickly and doesn’t leave a greasy residue. Great for daily use SPf50 with Neutrogena.'\n",
        "product = 'Neutrogena SPF50 Pore-Friendly Sunscreen – Protection Without Clogging'\n",
        "review_data = {'product category': 'Sunscreens', 'brand': 'Neutrogena', 'other keywords': ['spf50', 'daily use']}\n",
        "product_data = {'product category': 'Sunscreens', 'brand': 'Neutrogena', 'other keywords': ['spf50','Pore-Friendly', 'Protection', 'daily use']}\n",
        "\n",
        "similarity_score_new = compare_product_review_similarity(review_data, product_data)\n",
        "\n",
        "print(\n",
        "    f\"New Similarity between review:\\n '{review}'\\n with data'{review_data}'\\n and product:\\n '{product}'\\n with data'{product_data}''\\n is as follow:\\n {similarity_score_new}\"\n",
        ")\n"
      ]
    },
    {
      "cell_type": "markdown",
      "metadata": {},
      "source": [
        "# Added code"
      ]
    },
    {
      "cell_type": "code",
      "execution_count": 208,
      "metadata": {},
      "outputs": [
        {
          "name": "stdout",
          "output_type": "stream",
          "text": [
            "Requirement already satisfied: sentence-transformers in /opt/homebrew/Caskroom/miniconda/base/lib/python3.10/site-packages (3.2.1)\n",
            "Requirement already satisfied: transformers<5.0.0,>=4.41.0 in /opt/homebrew/Caskroom/miniconda/base/lib/python3.10/site-packages (from sentence-transformers) (4.45.2)\n",
            "Requirement already satisfied: tqdm in /opt/homebrew/Caskroom/miniconda/base/lib/python3.10/site-packages (from sentence-transformers) (4.66.5)\n",
            "Requirement already satisfied: torch>=1.11.0 in /opt/homebrew/Caskroom/miniconda/base/lib/python3.10/site-packages (from sentence-transformers) (2.4.1)\n",
            "Requirement already satisfied: scikit-learn in /opt/homebrew/Caskroom/miniconda/base/lib/python3.10/site-packages (from sentence-transformers) (1.2.1)\n",
            "Requirement already satisfied: scipy in /opt/homebrew/Caskroom/miniconda/base/lib/python3.10/site-packages (from sentence-transformers) (1.10.0)\n",
            "Requirement already satisfied: huggingface-hub>=0.20.0 in /opt/homebrew/Caskroom/miniconda/base/lib/python3.10/site-packages (from sentence-transformers) (0.24.3)\n",
            "Requirement already satisfied: Pillow in /opt/homebrew/Caskroom/miniconda/base/lib/python3.10/site-packages (from sentence-transformers) (10.4.0)\n",
            "Requirement already satisfied: filelock in /opt/homebrew/Caskroom/miniconda/base/lib/python3.10/site-packages (from huggingface-hub>=0.20.0->sentence-transformers) (3.15.4)\n",
            "Requirement already satisfied: fsspec>=2023.5.0 in /opt/homebrew/Caskroom/miniconda/base/lib/python3.10/site-packages (from huggingface-hub>=0.20.0->sentence-transformers) (2024.6.1)\n",
            "Requirement already satisfied: packaging>=20.9 in /opt/homebrew/Caskroom/miniconda/base/lib/python3.10/site-packages (from huggingface-hub>=0.20.0->sentence-transformers) (23.0)\n",
            "Requirement already satisfied: pyyaml>=5.1 in /opt/homebrew/Caskroom/miniconda/base/lib/python3.10/site-packages (from huggingface-hub>=0.20.0->sentence-transformers) (6.0)\n",
            "Requirement already satisfied: requests in /opt/homebrew/Caskroom/miniconda/base/lib/python3.10/site-packages (from huggingface-hub>=0.20.0->sentence-transformers) (2.32.3)\n",
            "Requirement already satisfied: typing-extensions>=3.7.4.3 in /opt/homebrew/Caskroom/miniconda/base/lib/python3.10/site-packages (from huggingface-hub>=0.20.0->sentence-transformers) (4.12.2)\n",
            "Requirement already satisfied: sympy in /opt/homebrew/Caskroom/miniconda/base/lib/python3.10/site-packages (from torch>=1.11.0->sentence-transformers) (1.13.3)\n",
            "Requirement already satisfied: networkx in /opt/homebrew/Caskroom/miniconda/base/lib/python3.10/site-packages (from torch>=1.11.0->sentence-transformers) (3.3)\n",
            "Requirement already satisfied: jinja2 in /opt/homebrew/Caskroom/miniconda/base/lib/python3.10/site-packages (from torch>=1.11.0->sentence-transformers) (3.1.2)\n",
            "Requirement already satisfied: numpy>=1.17 in /opt/homebrew/Caskroom/miniconda/base/lib/python3.10/site-packages (from transformers<5.0.0,>=4.41.0->sentence-transformers) (1.23.5)\n",
            "Requirement already satisfied: regex!=2019.12.17 in /opt/homebrew/Caskroom/miniconda/base/lib/python3.10/site-packages (from transformers<5.0.0,>=4.41.0->sentence-transformers) (2024.7.24)\n",
            "Requirement already satisfied: safetensors>=0.4.1 in /opt/homebrew/Caskroom/miniconda/base/lib/python3.10/site-packages (from transformers<5.0.0,>=4.41.0->sentence-transformers) (0.4.3)\n",
            "Requirement already satisfied: tokenizers<0.21,>=0.20 in /opt/homebrew/Caskroom/miniconda/base/lib/python3.10/site-packages (from transformers<5.0.0,>=4.41.0->sentence-transformers) (0.20.0)\n",
            "Requirement already satisfied: joblib>=1.1.1 in /opt/homebrew/Caskroom/miniconda/base/lib/python3.10/site-packages (from scikit-learn->sentence-transformers) (1.1.1)\n",
            "Requirement already satisfied: threadpoolctl>=2.0.0 in /opt/homebrew/Caskroom/miniconda/base/lib/python3.10/site-packages (from scikit-learn->sentence-transformers) (2.2.0)\n",
            "Requirement already satisfied: MarkupSafe>=2.0 in /opt/homebrew/Caskroom/miniconda/base/lib/python3.10/site-packages (from jinja2->torch>=1.11.0->sentence-transformers) (2.1.1)\n",
            "Requirement already satisfied: charset-normalizer<4,>=2 in /opt/homebrew/Caskroom/miniconda/base/lib/python3.10/site-packages (from requests->huggingface-hub>=0.20.0->sentence-transformers) (2.0.4)\n",
            "Requirement already satisfied: idna<4,>=2.5 in /opt/homebrew/Caskroom/miniconda/base/lib/python3.10/site-packages (from requests->huggingface-hub>=0.20.0->sentence-transformers) (3.4)\n",
            "Requirement already satisfied: urllib3<3,>=1.21.1 in /opt/homebrew/Caskroom/miniconda/base/lib/python3.10/site-packages (from requests->huggingface-hub>=0.20.0->sentence-transformers) (1.26.14)\n",
            "Requirement already satisfied: certifi>=2017.4.17 in /opt/homebrew/Caskroom/miniconda/base/lib/python3.10/site-packages (from requests->huggingface-hub>=0.20.0->sentence-transformers) (2024.2.2)\n",
            "Requirement already satisfied: mpmath<1.4,>=1.1.0 in /opt/homebrew/Caskroom/miniconda/base/lib/python3.10/site-packages (from sympy->torch>=1.11.0->sentence-transformers) (1.3.0)\n"
          ]
        },
        {
          "data": {
            "application/vnd.jupyter.widget-view+json": {
              "model_id": "ebb7a6b198f14eeb983698683185aaca",
              "version_major": 2,
              "version_minor": 0
            },
            "text/plain": [
              "modules.json:   0%|          | 0.00/349 [00:00<?, ?B/s]"
            ]
          },
          "metadata": {},
          "output_type": "display_data"
        },
        {
          "data": {
            "application/vnd.jupyter.widget-view+json": {
              "model_id": "306e5b05988e4a80985b913ec3166139",
              "version_major": 2,
              "version_minor": 0
            },
            "text/plain": [
              "config_sentence_transformers.json:   0%|          | 0.00/116 [00:00<?, ?B/s]"
            ]
          },
          "metadata": {},
          "output_type": "display_data"
        },
        {
          "data": {
            "application/vnd.jupyter.widget-view+json": {
              "model_id": "519ed487b1a943ba8a08d0541d22f32f",
              "version_major": 2,
              "version_minor": 0
            },
            "text/plain": [
              "README.md:   0%|          | 0.00/10.7k [00:00<?, ?B/s]"
            ]
          },
          "metadata": {},
          "output_type": "display_data"
        },
        {
          "data": {
            "application/vnd.jupyter.widget-view+json": {
              "model_id": "0efa36298a6246239e7b9536ef01e195",
              "version_major": 2,
              "version_minor": 0
            },
            "text/plain": [
              "sentence_bert_config.json:   0%|          | 0.00/53.0 [00:00<?, ?B/s]"
            ]
          },
          "metadata": {},
          "output_type": "display_data"
        },
        {
          "data": {
            "application/vnd.jupyter.widget-view+json": {
              "model_id": "30bf3d6b3aae496d9b466b4f0019e345",
              "version_major": 2,
              "version_minor": 0
            },
            "text/plain": [
              "config.json:   0%|          | 0.00/612 [00:00<?, ?B/s]"
            ]
          },
          "metadata": {},
          "output_type": "display_data"
        },
        {
          "data": {
            "application/vnd.jupyter.widget-view+json": {
              "model_id": "f5c7d6b36fc542ceb300e6c0af5cd5fc",
              "version_major": 2,
              "version_minor": 0
            },
            "text/plain": [
              "model.safetensors:   0%|          | 0.00/90.9M [00:00<?, ?B/s]"
            ]
          },
          "metadata": {},
          "output_type": "display_data"
        },
        {
          "data": {
            "application/vnd.jupyter.widget-view+json": {
              "model_id": "bd92feaea7d642d0bc3868f2308ba1c8",
              "version_major": 2,
              "version_minor": 0
            },
            "text/plain": [
              "tokenizer_config.json:   0%|          | 0.00/350 [00:00<?, ?B/s]"
            ]
          },
          "metadata": {},
          "output_type": "display_data"
        },
        {
          "data": {
            "application/vnd.jupyter.widget-view+json": {
              "model_id": "c2f09e29aeca48c0ac09d45e10f6d69e",
              "version_major": 2,
              "version_minor": 0
            },
            "text/plain": [
              "vocab.txt:   0%|          | 0.00/232k [00:00<?, ?B/s]"
            ]
          },
          "metadata": {},
          "output_type": "display_data"
        },
        {
          "data": {
            "application/vnd.jupyter.widget-view+json": {
              "model_id": "16a2c60d23d14835a67d1e1039138bb6",
              "version_major": 2,
              "version_minor": 0
            },
            "text/plain": [
              "tokenizer.json:   0%|          | 0.00/466k [00:00<?, ?B/s]"
            ]
          },
          "metadata": {},
          "output_type": "display_data"
        },
        {
          "data": {
            "application/vnd.jupyter.widget-view+json": {
              "model_id": "c058da2e44f048fcb671dd129221d2c0",
              "version_major": 2,
              "version_minor": 0
            },
            "text/plain": [
              "special_tokens_map.json:   0%|          | 0.00/112 [00:00<?, ?B/s]"
            ]
          },
          "metadata": {},
          "output_type": "display_data"
        },
        {
          "data": {
            "application/vnd.jupyter.widget-view+json": {
              "model_id": "2ffd9c7ee20f43c280cb8f665fc33a76",
              "version_major": 2,
              "version_minor": 0
            },
            "text/plain": [
              "1_Pooling/config.json:   0%|          | 0.00/190 [00:00<?, ?B/s]"
            ]
          },
          "metadata": {},
          "output_type": "display_data"
        },
        {
          "name": "stdout",
          "output_type": "stream",
          "text": [
            "Cosine Similarity between review:\n",
            " 'Absorbs quickly and doesn’t leave a greasy residue. Great for daily use SPf50 with Neutrogena.'\n",
            " and product:\n",
            " 'Neutrogena SPF50 Pore-Friendly Sunscreen – Protection Without Clogging'\n",
            " is as follow:\n",
            " 0.8082792162895203\n"
          ]
        }
      ],
      "source": [
        "import numpy as np\n",
        "#!pip install sentence-transformers\n",
        "from sentence_transformers import SentenceTransformer\n",
        "\n",
        "def compare_keywords_cosine_similarity(review_keywords, product_keywords):\n",
        "    if not review_keywords or not product_keywords:\n",
        "        return 0.0\n",
        "\n",
        "    model = SentenceTransformer('all-MiniLM-L6-v2')  # Choose an appropriate model\n",
        "\n",
        "    # Compute embeddings\n",
        "    review_embeddings = model.encode(review_keywords)\n",
        "    product_embeddings = model.encode(product_keywords)\n",
        "\n",
        "    # Average the embeddings\n",
        "    avg_review_embedding = np.mean(review_embeddings, axis=0)\n",
        "    avg_product_embedding = np.mean(product_embeddings, axis=0)\n",
        "\n",
        "    # Compute cosine similarity\n",
        "    similarity = np.dot(avg_review_embedding, avg_product_embedding) / (\n",
        "        np.linalg.norm(avg_review_embedding) * np.linalg.norm(avg_product_embedding)\n",
        "    )\n",
        "\n",
        "    return similarity\n",
        "\n",
        "\n",
        "# Example usage\n",
        "review = 'Absorbs quickly and doesn’t leave a greasy residue. Great for daily use SPf50 with Neutrogena.'\n",
        "product = 'Neutrogena SPF50 Pore-Friendly Sunscreen – Protection Without Clogging'\n",
        "review_data = {'product category': 'Sunscreens', 'brand': 'Neutrogena', 'other keywords': ['spf50', 'daily use']}\n",
        "product_data = {'product category': 'Sunscreens', 'brand': 'Neutrogena', 'other keywords': ['spf50','Pore-Friendly', 'Protection', 'daily use']}\n",
        "\n",
        "similarity_score_cosine = compare_keywords_cosine_similarity(review_data.get(\"other keywords\", []), product_data.get(\"other keywords\", []))\n",
        "print(\n",
        "    f\"Cosine Similarity between review:\\n '{review}'\\n and product:\\n '{product}'\\n is as follow:\\n {similarity_score_cosine}\"\n",
        ")\n",
        "\n"
      ]
    },
    {
      "cell_type": "code",
      "execution_count": 209,
      "metadata": {},
      "outputs": [
        {
          "name": "stdout",
          "output_type": "stream",
          "text": [
            "Jaccard Similarity between review:\n",
            " 'Absorbs quickly and doesn’t leave a greasy residue. Great for daily use SPf50 with Neutrogena.'\n",
            " and product:\n",
            " 'Neutrogena SPF50 Pore-Friendly Sunscreen – Protection Without Clogging'\n",
            " is as follow:\n",
            " 0.5\n"
          ]
        }
      ],
      "source": [
        "def compare_keywords_jaccard_similarity(review_keywords, product_keywords):\n",
        "    set_review = set(review_keywords)\n",
        "    set_product = set(product_keywords)\n",
        "    intersection = set_review.intersection(set_product)\n",
        "    union = set_review.union(set_product)\n",
        "    if not union:\n",
        "        return 0.0\n",
        "    return len(intersection) / len(union)\n",
        "\n",
        "jaccard_similarity = compare_keywords_jaccard_similarity(review_data.get(\"other keywords\", []), product_data.get(\"other keywords\", []))\n",
        "print(\n",
        "    f\"Jaccard Similarity between review:\\n '{review}'\\n and product:\\n '{product}'\\n is as follow:\\n {jaccard_similarity}\"\n",
        ")"
      ]
    },
    {
      "cell_type": "code",
      "execution_count": 211,
      "metadata": {},
      "outputs": [
        {
          "name": "stderr",
          "output_type": "stream",
          "text": [
            "huggingface/tokenizers: The current process just got forked, after parallelism has already been used. Disabling parallelism to avoid deadlocks...\n",
            "To disable this warning, you can either:\n",
            "\t- Avoid using `tokenizers` before the fork if possible\n",
            "\t- Explicitly set the environment variable TOKENIZERS_PARALLELISM=(true | false)\n"
          ]
        },
        {
          "name": "stdout",
          "output_type": "stream",
          "text": [
            "Collecting Levenshtein\n",
            "  Downloading levenshtein-0.26.0-cp310-cp310-macosx_11_0_arm64.whl.metadata (3.2 kB)\n",
            "Collecting rapidfuzz<4.0.0,>=3.9.0 (from Levenshtein)\n",
            "  Downloading rapidfuzz-3.10.1-cp310-cp310-macosx_11_0_arm64.whl.metadata (11 kB)\n",
            "Downloading levenshtein-0.26.0-cp310-cp310-macosx_11_0_arm64.whl (157 kB)\n",
            "Downloading rapidfuzz-3.10.1-cp310-cp310-macosx_11_0_arm64.whl (1.4 MB)\n",
            "\u001b[2K   \u001b[90m━━━━━━━━━━━━━━━━━━━━━━━━━━━━━━━━━━━━━━━━\u001b[0m \u001b[32m1.4/1.4 MB\u001b[0m \u001b[31m12.9 MB/s\u001b[0m eta \u001b[36m0:00:00\u001b[0m\n",
            "\u001b[?25hInstalling collected packages: rapidfuzz, Levenshtein\n",
            "Successfully installed Levenshtein-0.26.0 rapidfuzz-3.10.1\n",
            "Levenshtein Similarity between review:\n",
            " 'Absorbs quickly and doesn’t leave a greasy residue. Great for daily use SPf50 with Neutrogena.'\n",
            " and product:\n",
            " 'Neutrogena SPF50 Pore-Friendly Sunscreen – Protection Without Clogging'\n",
            " is as follow:\n",
            " 0.7871621621621622\n"
          ]
        }
      ],
      "source": [
        "!pip install Levenshtein\n",
        "import Levenshtein\n",
        "\n",
        "def compare_keywords_levenshtein_distance(review_keywords, product_keywords):\n",
        "    total_distance = 0\n",
        "    comparisons = 0\n",
        "    for r_keyword in review_keywords:\n",
        "        for p_keyword in product_keywords:\n",
        "            distance = Levenshtein.distance(r_keyword, p_keyword)\n",
        "            total_distance += distance\n",
        "            comparisons += 1\n",
        "    if comparisons == 0:\n",
        "        return 0.0\n",
        "    # Normalize the distance\n",
        "    average_distance = total_distance / comparisons\n",
        "    max_length = max(len(''.join(review_keywords)), len(''.join(product_keywords)))\n",
        "    similarity = 1 - (average_distance / max_length)\n",
        "    return similarity\n",
        "\n",
        "levenshtein_similarity = compare_keywords_levenshtein_distance(review_data.get(\"other keywords\", []), product_data.get(\"other keywords\", []))\n",
        "print(\n",
        "    f\"Levenshtein Similarity between review:\\n '{review}'\\n and product:\\n '{product}'\\n is as follow:\\n {levenshtein_similarity}\"\n",
        ")"
      ]
    },
    {
      "cell_type": "code",
      "execution_count": 212,
      "metadata": {},
      "outputs": [
        {
          "name": "stdout",
          "output_type": "stream",
          "text": [
            "Overlap Coefficient between review:\n",
            " 'Absorbs quickly and doesn’t leave a greasy residue. Great for daily use SPf50 with Neutrogena.'\n",
            " and product:\n",
            " 'Neutrogena SPF50 Pore-Friendly Sunscreen – Protection Without Clogging'\n",
            " is as follow:\n",
            " 1.0\n"
          ]
        }
      ],
      "source": [
        "def compare_keywords_overlap_coefficient(review_keywords, product_keywords):\n",
        "    set_review = set(review_keywords)\n",
        "    set_product = set(product_keywords)\n",
        "    intersection = set_review.intersection(set_product)\n",
        "    min_size = min(len(set_review), len(set_product))\n",
        "    if min_size == 0:\n",
        "        return 0.0\n",
        "    return len(intersection) / min_size\n",
        "\n",
        "overlap_coefficient = compare_keywords_overlap_coefficient(review_data.get(\"other keywords\", []), product_data.get(\"other keywords\", []))\n",
        "print(\n",
        "    f\"Overlap Coefficient between review:\\n '{review}'\\n and product:\\n '{product}'\\n is as follow:\\n {overlap_coefficient}\"\n",
        ")\n"
      ]
    },
    {
      "cell_type": "code",
      "execution_count": 213,
      "metadata": {},
      "outputs": [
        {
          "name": "stdout",
          "output_type": "stream",
          "text": [
            "BLEU Score between review:\n",
            " 'Absorbs quickly and doesn’t leave a greasy residue. Great for daily use SPf50 with Neutrogena.'\n",
            " and product:\n",
            " 'Neutrogena SPF50 Pore-Friendly Sunscreen – Protection Without Clogging'\n",
            " is as follow:\n",
            " 6.702145341854094e-232\n"
          ]
        },
        {
          "name": "stderr",
          "output_type": "stream",
          "text": [
            "/opt/homebrew/Caskroom/miniconda/base/lib/python3.10/site-packages/nltk/translate/bleu_score.py:577: UserWarning: \n",
            "The hypothesis contains 0 counts of 2-gram overlaps.\n",
            "Therefore the BLEU score evaluates to 0, independently of\n",
            "how many N-gram overlaps of lower order it contains.\n",
            "Consider using lower n-gram order or use SmoothingFunction()\n",
            "  warnings.warn(_msg)\n",
            "/opt/homebrew/Caskroom/miniconda/base/lib/python3.10/site-packages/nltk/translate/bleu_score.py:577: UserWarning: \n",
            "The hypothesis contains 0 counts of 3-gram overlaps.\n",
            "Therefore the BLEU score evaluates to 0, independently of\n",
            "how many N-gram overlaps of lower order it contains.\n",
            "Consider using lower n-gram order or use SmoothingFunction()\n",
            "  warnings.warn(_msg)\n",
            "/opt/homebrew/Caskroom/miniconda/base/lib/python3.10/site-packages/nltk/translate/bleu_score.py:577: UserWarning: \n",
            "The hypothesis contains 0 counts of 4-gram overlaps.\n",
            "Therefore the BLEU score evaluates to 0, independently of\n",
            "how many N-gram overlaps of lower order it contains.\n",
            "Consider using lower n-gram order or use SmoothingFunction()\n",
            "  warnings.warn(_msg)\n"
          ]
        }
      ],
      "source": [
        "from nltk.translate.bleu_score import sentence_bleu\n",
        "\n",
        "def compare_keywords_bleu_score(review_keywords, product_keywords):\n",
        "    if not review_keywords or not product_keywords:\n",
        "        return 0.0\n",
        "    score = sentence_bleu([product_keywords], review_keywords)\n",
        "    return score\n",
        "\n",
        "bleu_score = compare_keywords_bleu_score(review_data.get(\"other keywords\", []), product_data.get(\"other keywords\", []))\n",
        "print(\n",
        "    f\"BLEU Score between review:\\n '{review}'\\n and product:\\n '{product}'\\n is as follow:\\n {bleu_score}\"\n",
        ")\n"
      ]
    },
    {
      "cell_type": "code",
      "execution_count": 215,
      "metadata": {},
      "outputs": [
        {
          "name": "stderr",
          "output_type": "stream",
          "text": [
            "huggingface/tokenizers: The current process just got forked, after parallelism has already been used. Disabling parallelism to avoid deadlocks...\n",
            "To disable this warning, you can either:\n",
            "\t- Avoid using `tokenizers` before the fork if possible\n",
            "\t- Explicitly set the environment variable TOKENIZERS_PARALLELISM=(true | false)\n"
          ]
        },
        {
          "name": "stdout",
          "output_type": "stream",
          "text": [
            "Collecting rouge\n",
            "  Downloading rouge-1.0.1-py3-none-any.whl.metadata (4.1 kB)\n",
            "Requirement already satisfied: six in /opt/homebrew/Caskroom/miniconda/base/lib/python3.10/site-packages (from rouge) (1.16.0)\n",
            "Downloading rouge-1.0.1-py3-none-any.whl (13 kB)\n",
            "Installing collected packages: rouge\n",
            "Successfully installed rouge-1.0.1\n",
            "ROUGE Score between review:\n",
            " 'Absorbs quickly and doesn’t leave a greasy residue. Great for daily use SPf50 with Neutrogena.'\n",
            " and product:\n",
            " 'Neutrogena SPF50 Pore-Friendly Sunscreen – Protection Without Clogging'\n",
            " is as follow:\n",
            " 0.7499999953125\n"
          ]
        }
      ],
      "source": [
        "!pip install rouge\n",
        "from rouge import Rouge\n",
        "\n",
        "def compare_keywords_rouge_score(review_keywords, product_keywords):\n",
        "    if not review_keywords or not product_keywords:\n",
        "        return 0.0\n",
        "    rouge = Rouge()\n",
        "    scores = rouge.get_scores(' '.join(review_keywords), ' '.join(product_keywords))\n",
        "    return scores[0]['rouge-l']['f']\n",
        "\n",
        "rouge_score = compare_keywords_rouge_score(review_data.get(\"other keywords\", []), product_data.get(\"other keywords\", []))\n",
        "print(\n",
        "    f\"ROUGE Score between review:\\n '{review}'\\n and product:\\n '{product}'\\n is as follow:\\n {rouge_score}\"\n",
        ")\n"
      ]
    },
    {
      "cell_type": "code",
      "execution_count": 219,
      "metadata": {},
      "outputs": [
        {
          "name": "stdout",
          "output_type": "stream",
          "text": [
            "TF-IDF Cosine Similarity between review:\n",
            " 'Absorbs quickly and doesn’t leave a greasy residue. Great for daily use SPf50 with Neutrogena.'\n",
            " and product:\n",
            " 'Neutrogena SPF50 Pore-Friendly Sunscreen – Protection Without Clogging'\n",
            " is as follow:\n",
            " 0.5797386715376658\n"
          ]
        }
      ],
      "source": [
        "from sklearn.feature_extraction.text import TfidfVectorizer\n",
        "from sklearn.metrics.pairwise import cosine_similarity\n",
        "\n",
        "def compare_keywords_tfidf_cosine_similarity(review_keywords, product_keywords):\n",
        "    corpus = [' '.join(review_keywords), ' '.join(product_keywords)]\n",
        "    vectorizer = TfidfVectorizer()\n",
        "    tfidf_matrix = vectorizer.fit_transform(corpus)\n",
        "    similarity = cosine_similarity(tfidf_matrix[0:1], tfidf_matrix[1:2])\n",
        "    return similarity[0][0]\n",
        "\n",
        "tfidf_cosine_similarity = compare_keywords_tfidf_cosine_similarity(review_data.get(\"other keywords\", []), product_data.get(\"other keywords\", []))\n",
        "print(\n",
        "    f\"TF-IDF Cosine Similarity between review:\\n '{review}'\\n and product:\\n '{product}'\\n is as follow:\\n {tfidf_cosine_similarity}\"\n",
        ")\n"
      ]
    },
    {
      "cell_type": "code",
      "execution_count": null,
      "metadata": {},
      "outputs": [],
      "source": []
    }
  ],
  "metadata": {
    "colab": {
      "provenance": []
    },
    "kernelspec": {
      "display_name": "Python 3",
      "name": "python3"
    },
    "language_info": {
      "name": "python"
    }
  },
  "nbformat": 4,
  "nbformat_minor": 0
}

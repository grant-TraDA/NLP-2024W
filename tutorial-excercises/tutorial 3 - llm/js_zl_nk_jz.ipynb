{
 "cells": [
  {
   "cell_type": "code",
   "metadata": {
    "colab": {
     "base_uri": "https://localhost:8080/"
    },
    "id": "Kin281nzYS0t",
    "outputId": "f343eff2-028f-4e03-86cc-bf5d0986b9f4",
    "ExecuteTime": {
     "end_time": "2024-10-27T17:50:59.040636Z",
     "start_time": "2024-10-27T17:50:56.187934Z"
    }
   },
   "source": "!pip install mistralai evaluate python-dotenv openai together pydantic anthropic tqdm sentence_transformers bert_score rouge Levenshtein",
   "outputs": [
    {
     "name": "stdout",
     "output_type": "stream",
     "text": [
      "Requirement already satisfied: mistralai in /opt/anaconda3/envs/workspace/lib/python3.10/site-packages (1.1.0)\r\n",
      "Requirement already satisfied: evaluate in /opt/anaconda3/envs/workspace/lib/python3.10/site-packages (0.4.3)\r\n",
      "Requirement already satisfied: python-dotenv in /opt/anaconda3/envs/workspace/lib/python3.10/site-packages (1.0.1)\r\n",
      "Requirement already satisfied: openai in /opt/anaconda3/envs/workspace/lib/python3.10/site-packages (1.52.2)\r\n",
      "Requirement already satisfied: together in /opt/anaconda3/envs/workspace/lib/python3.10/site-packages (1.3.3)\r\n",
      "Requirement already satisfied: pydantic in /opt/anaconda3/envs/workspace/lib/python3.10/site-packages (2.9.2)\r\n",
      "Requirement already satisfied: anthropic in /opt/anaconda3/envs/workspace/lib/python3.10/site-packages (0.37.1)\r\n",
      "Requirement already satisfied: tqdm in /opt/anaconda3/envs/workspace/lib/python3.10/site-packages (4.66.5)\r\n",
      "Requirement already satisfied: sentence_transformers in /opt/anaconda3/envs/workspace/lib/python3.10/site-packages (3.2.1)\r\n",
      "Requirement already satisfied: bert_score in /opt/anaconda3/envs/workspace/lib/python3.10/site-packages (0.3.13)\r\n",
      "Collecting rouge\r\n",
      "  Downloading rouge-1.0.1-py3-none-any.whl.metadata (4.1 kB)\r\n",
      "Requirement already satisfied: eval-type-backport<0.3.0,>=0.2.0 in /opt/anaconda3/envs/workspace/lib/python3.10/site-packages (from mistralai) (0.2.0)\r\n",
      "Requirement already satisfied: httpx<0.28.0,>=0.27.0 in /opt/anaconda3/envs/workspace/lib/python3.10/site-packages (from mistralai) (0.27.0)\r\n",
      "Requirement already satisfied: jsonpath-python<2.0.0,>=1.0.6 in /opt/anaconda3/envs/workspace/lib/python3.10/site-packages (from mistralai) (1.0.6)\r\n",
      "Requirement already satisfied: python-dateutil==2.8.2 in /opt/anaconda3/envs/workspace/lib/python3.10/site-packages (from mistralai) (2.8.2)\r\n",
      "Requirement already satisfied: typing-inspect<0.10.0,>=0.9.0 in /opt/anaconda3/envs/workspace/lib/python3.10/site-packages (from mistralai) (0.9.0)\r\n",
      "Requirement already satisfied: six>=1.5 in /opt/anaconda3/envs/workspace/lib/python3.10/site-packages (from python-dateutil==2.8.2->mistralai) (1.16.0)\r\n",
      "Requirement already satisfied: datasets>=2.0.0 in /opt/anaconda3/envs/workspace/lib/python3.10/site-packages (from evaluate) (2.19.2)\r\n",
      "Requirement already satisfied: numpy>=1.17 in /opt/anaconda3/envs/workspace/lib/python3.10/site-packages (from evaluate) (1.26.4)\r\n",
      "Requirement already satisfied: dill in /opt/anaconda3/envs/workspace/lib/python3.10/site-packages (from evaluate) (0.3.8)\r\n",
      "Requirement already satisfied: pandas in /opt/anaconda3/envs/workspace/lib/python3.10/site-packages (from evaluate) (2.0.3)\r\n",
      "Requirement already satisfied: requests>=2.19.0 in /opt/anaconda3/envs/workspace/lib/python3.10/site-packages (from evaluate) (2.32.3)\r\n",
      "Requirement already satisfied: xxhash in /opt/anaconda3/envs/workspace/lib/python3.10/site-packages (from evaluate) (3.4.1)\r\n",
      "Requirement already satisfied: multiprocess in /opt/anaconda3/envs/workspace/lib/python3.10/site-packages (from evaluate) (0.70.16)\r\n",
      "Requirement already satisfied: fsspec>=2021.05.0 in /opt/anaconda3/envs/workspace/lib/python3.10/site-packages (from fsspec[http]>=2021.05.0->evaluate) (2024.3.1)\r\n",
      "Requirement already satisfied: huggingface-hub>=0.7.0 in /opt/anaconda3/envs/workspace/lib/python3.10/site-packages (from evaluate) (0.23.3)\r\n",
      "Requirement already satisfied: packaging in /opt/anaconda3/envs/workspace/lib/python3.10/site-packages (from evaluate) (24.0)\r\n",
      "Requirement already satisfied: anyio<5,>=3.5.0 in /opt/anaconda3/envs/workspace/lib/python3.10/site-packages (from openai) (4.3.0)\r\n",
      "Requirement already satisfied: distro<2,>=1.7.0 in /opt/anaconda3/envs/workspace/lib/python3.10/site-packages (from openai) (1.9.0)\r\n",
      "Requirement already satisfied: jiter<1,>=0.4.0 in /opt/anaconda3/envs/workspace/lib/python3.10/site-packages (from openai) (0.6.1)\r\n",
      "Requirement already satisfied: sniffio in /opt/anaconda3/envs/workspace/lib/python3.10/site-packages (from openai) (1.3.1)\r\n",
      "Requirement already satisfied: typing-extensions<5,>=4.11 in /opt/anaconda3/envs/workspace/lib/python3.10/site-packages (from openai) (4.12.2)\r\n",
      "Requirement already satisfied: aiohttp<4.0.0,>=3.9.3 in /opt/anaconda3/envs/workspace/lib/python3.10/site-packages (from together) (3.9.5)\r\n",
      "Requirement already satisfied: click<9.0.0,>=8.1.7 in /opt/anaconda3/envs/workspace/lib/python3.10/site-packages (from together) (8.1.7)\r\n",
      "Requirement already satisfied: filelock<4.0.0,>=3.13.1 in /opt/anaconda3/envs/workspace/lib/python3.10/site-packages (from together) (3.13.1)\r\n",
      "Requirement already satisfied: pillow<11.0.0,>=10.3.0 in /opt/anaconda3/envs/workspace/lib/python3.10/site-packages (from together) (10.4.0)\r\n",
      "Requirement already satisfied: pyarrow>=10.0.1 in /opt/anaconda3/envs/workspace/lib/python3.10/site-packages (from together) (16.0.0)\r\n",
      "Requirement already satisfied: rich<14.0.0,>=13.8.1 in /opt/anaconda3/envs/workspace/lib/python3.10/site-packages (from together) (13.9.3)\r\n",
      "Requirement already satisfied: tabulate<0.10.0,>=0.9.0 in /opt/anaconda3/envs/workspace/lib/python3.10/site-packages (from together) (0.9.0)\r\n",
      "Requirement already satisfied: typer<0.13,>=0.9 in /opt/anaconda3/envs/workspace/lib/python3.10/site-packages (from together) (0.12.5)\r\n",
      "Requirement already satisfied: annotated-types>=0.6.0 in /opt/anaconda3/envs/workspace/lib/python3.10/site-packages (from pydantic) (0.7.0)\r\n",
      "Requirement already satisfied: pydantic-core==2.23.4 in /opt/anaconda3/envs/workspace/lib/python3.10/site-packages (from pydantic) (2.23.4)\r\n",
      "Requirement already satisfied: tokenizers>=0.13.0 in /opt/anaconda3/envs/workspace/lib/python3.10/site-packages (from anthropic) (0.19.1)\r\n",
      "Requirement already satisfied: transformers<5.0.0,>=4.41.0 in /opt/anaconda3/envs/workspace/lib/python3.10/site-packages (from sentence_transformers) (4.42.0.dev0)\r\n",
      "Requirement already satisfied: torch>=1.11.0 in /opt/anaconda3/envs/workspace/lib/python3.10/site-packages (from sentence_transformers) (2.2.2)\r\n",
      "Requirement already satisfied: scikit-learn in /opt/anaconda3/envs/workspace/lib/python3.10/site-packages (from sentence_transformers) (1.0.2)\r\n",
      "Requirement already satisfied: scipy in /opt/anaconda3/envs/workspace/lib/python3.10/site-packages (from sentence_transformers) (1.13.1)\r\n",
      "Requirement already satisfied: matplotlib in /opt/anaconda3/envs/workspace/lib/python3.10/site-packages (from bert_score) (3.8.3)\r\n",
      "Requirement already satisfied: aiosignal>=1.1.2 in /opt/anaconda3/envs/workspace/lib/python3.10/site-packages (from aiohttp<4.0.0,>=3.9.3->together) (1.3.1)\r\n",
      "Requirement already satisfied: attrs>=17.3.0 in /opt/anaconda3/envs/workspace/lib/python3.10/site-packages (from aiohttp<4.0.0,>=3.9.3->together) (23.2.0)\r\n",
      "Requirement already satisfied: frozenlist>=1.1.1 in /opt/anaconda3/envs/workspace/lib/python3.10/site-packages (from aiohttp<4.0.0,>=3.9.3->together) (1.4.1)\r\n",
      "Requirement already satisfied: multidict<7.0,>=4.5 in /opt/anaconda3/envs/workspace/lib/python3.10/site-packages (from aiohttp<4.0.0,>=3.9.3->together) (6.0.5)\r\n",
      "Requirement already satisfied: yarl<2.0,>=1.0 in /opt/anaconda3/envs/workspace/lib/python3.10/site-packages (from aiohttp<4.0.0,>=3.9.3->together) (1.9.4)\r\n",
      "Requirement already satisfied: async-timeout<5.0,>=4.0 in /opt/anaconda3/envs/workspace/lib/python3.10/site-packages (from aiohttp<4.0.0,>=3.9.3->together) (4.0.3)\r\n",
      "Requirement already satisfied: idna>=2.8 in /opt/anaconda3/envs/workspace/lib/python3.10/site-packages (from anyio<5,>=3.5.0->openai) (3.4)\r\n",
      "Requirement already satisfied: exceptiongroup>=1.0.2 in /opt/anaconda3/envs/workspace/lib/python3.10/site-packages (from anyio<5,>=3.5.0->openai) (1.2.0)\r\n",
      "Requirement already satisfied: pyarrow-hotfix in /opt/anaconda3/envs/workspace/lib/python3.10/site-packages (from datasets>=2.0.0->evaluate) (0.6)\r\n",
      "Requirement already satisfied: pyyaml>=5.1 in /opt/anaconda3/envs/workspace/lib/python3.10/site-packages (from datasets>=2.0.0->evaluate) (6.0.1)\r\n",
      "Requirement already satisfied: certifi in /opt/anaconda3/envs/workspace/lib/python3.10/site-packages (from httpx<0.28.0,>=0.27.0->mistralai) (2024.8.30)\r\n",
      "Requirement already satisfied: httpcore==1.* in /opt/anaconda3/envs/workspace/lib/python3.10/site-packages (from httpx<0.28.0,>=0.27.0->mistralai) (1.0.4)\r\n",
      "Requirement already satisfied: h11<0.15,>=0.13 in /opt/anaconda3/envs/workspace/lib/python3.10/site-packages (from httpcore==1.*->httpx<0.28.0,>=0.27.0->mistralai) (0.14.0)\r\n",
      "Requirement already satisfied: pytz>=2020.1 in /opt/anaconda3/envs/workspace/lib/python3.10/site-packages (from pandas->evaluate) (2024.1)\r\n",
      "Requirement already satisfied: tzdata>=2022.1 in /opt/anaconda3/envs/workspace/lib/python3.10/site-packages (from pandas->evaluate) (2024.1)\r\n",
      "Requirement already satisfied: charset-normalizer<4,>=2 in /opt/anaconda3/envs/workspace/lib/python3.10/site-packages (from requests>=2.19.0->evaluate) (3.3.2)\r\n",
      "Requirement already satisfied: urllib3<3,>=1.21.1 in /opt/anaconda3/envs/workspace/lib/python3.10/site-packages (from requests>=2.19.0->evaluate) (2.1.0)\r\n",
      "Requirement already satisfied: markdown-it-py>=2.2.0 in /opt/anaconda3/envs/workspace/lib/python3.10/site-packages (from rich<14.0.0,>=13.8.1->together) (3.0.0)\r\n",
      "Requirement already satisfied: pygments<3.0.0,>=2.13.0 in /opt/anaconda3/envs/workspace/lib/python3.10/site-packages (from rich<14.0.0,>=13.8.1->together) (2.17.2)\r\n",
      "Requirement already satisfied: sympy in /opt/anaconda3/envs/workspace/lib/python3.10/site-packages (from torch>=1.11.0->sentence_transformers) (1.12)\r\n",
      "Requirement already satisfied: networkx in /opt/anaconda3/envs/workspace/lib/python3.10/site-packages (from torch>=1.11.0->sentence_transformers) (2.8)\r\n",
      "Requirement already satisfied: jinja2 in /opt/anaconda3/envs/workspace/lib/python3.10/site-packages (from torch>=1.11.0->sentence_transformers) (3.1.3)\r\n",
      "Requirement already satisfied: regex!=2019.12.17 in /opt/anaconda3/envs/workspace/lib/python3.10/site-packages (from transformers<5.0.0,>=4.41.0->sentence_transformers) (2024.5.15)\r\n",
      "Requirement already satisfied: safetensors>=0.4.1 in /opt/anaconda3/envs/workspace/lib/python3.10/site-packages (from transformers<5.0.0,>=4.41.0->sentence_transformers) (0.4.3)\r\n",
      "Requirement already satisfied: shellingham>=1.3.0 in /opt/anaconda3/envs/workspace/lib/python3.10/site-packages (from typer<0.13,>=0.9->together) (1.5.4)\r\n",
      "Requirement already satisfied: mypy-extensions>=0.3.0 in /opt/anaconda3/envs/workspace/lib/python3.10/site-packages (from typing-inspect<0.10.0,>=0.9.0->mistralai) (1.0.0)\r\n",
      "Requirement already satisfied: contourpy>=1.0.1 in /opt/anaconda3/envs/workspace/lib/python3.10/site-packages (from matplotlib->bert_score) (1.2.0)\r\n",
      "Requirement already satisfied: cycler>=0.10 in /opt/anaconda3/envs/workspace/lib/python3.10/site-packages (from matplotlib->bert_score) (0.12.1)\r\n",
      "Requirement already satisfied: fonttools>=4.22.0 in /opt/anaconda3/envs/workspace/lib/python3.10/site-packages (from matplotlib->bert_score) (4.50.0)\r\n",
      "Requirement already satisfied: kiwisolver>=1.3.1 in /opt/anaconda3/envs/workspace/lib/python3.10/site-packages (from matplotlib->bert_score) (1.4.5)\r\n",
      "Requirement already satisfied: pyparsing>=2.3.1 in /opt/anaconda3/envs/workspace/lib/python3.10/site-packages (from matplotlib->bert_score) (3.1.2)\r\n",
      "Requirement already satisfied: joblib>=0.11 in /opt/anaconda3/envs/workspace/lib/python3.10/site-packages (from scikit-learn->sentence_transformers) (1.3.2)\r\n",
      "Requirement already satisfied: threadpoolctl>=2.0.0 in /opt/anaconda3/envs/workspace/lib/python3.10/site-packages (from scikit-learn->sentence_transformers) (3.4.0)\r\n",
      "Requirement already satisfied: mdurl~=0.1 in /opt/anaconda3/envs/workspace/lib/python3.10/site-packages (from markdown-it-py>=2.2.0->rich<14.0.0,>=13.8.1->together) (0.1.2)\r\n",
      "Requirement already satisfied: MarkupSafe>=2.0 in /opt/anaconda3/envs/workspace/lib/python3.10/site-packages (from jinja2->torch>=1.11.0->sentence_transformers) (2.1.3)\r\n",
      "Requirement already satisfied: mpmath>=0.19 in /opt/anaconda3/envs/workspace/lib/python3.10/site-packages (from sympy->torch>=1.11.0->sentence_transformers) (1.3.0)\r\n",
      "Downloading rouge-1.0.1-py3-none-any.whl (13 kB)\r\n",
      "Installing collected packages: rouge\r\n",
      "Successfully installed rouge-1.0.1\r\n"
     ]
    }
   ],
   "execution_count": 52
  },
  {
   "metadata": {
    "ExecuteTime": {
     "end_time": "2024-10-27T16:35:35.418160Z",
     "start_time": "2024-10-27T16:35:35.406865Z"
    }
   },
   "cell_type": "code",
   "source": [
    "reviews = [\n",
    "    # Thermal Mugs\n",
    "    \"Keeps my coffee hot for hours—just what I need for long workdays. Thanks, Contigo.\",\n",
    "    \"The lid isn’t leak-proof, but it keeps drinks warm for a decent amount of time.\",\n",
    "    \"Love the sleek design of my Zojirushi mug, and it fits perfectly in my car cup holder!\",\n",
    "    \"It’s lightweight but keeps my drinks at the right temperature for hours with Hydro Flask.\",\n",
    "    \"No more cold coffee! This Yeti thermal mug does the job.\",\n",
    "    \"It’s easy to clean, and the thermal insulation works like a charm.\",\n",
    "    \"The handle makes it easy to carry, and it doesn’t spill.\",\n",
    "    \"Not great for keeping drinks cold, but excellent for hot beverages.\",\n",
    "    \"I wish it were bigger, but it’s perfect for my morning tea.\",\n",
    "    \"I accidentally dropped it, and it didn’t dent! Very sturdy.\",\n",
    "    \"The rubber seal around the lid came loose after a few weeks. Disappointing.\",\n",
    "    \"Great for both coffee and soup—keeps them warm for hours.\",\n",
    "    \"The exterior stays cool, even when my drink is piping hot inside.\",\n",
    "    \"I love the color options, and it’s great for on-the-go.\",\n",
    "    \"Keeps ice water cold for hours, even in hot weather!\",\n",
    "    \"It’s a little tricky to open one-handed, but overall, a great mug.\",\n",
    "    \"The size is perfect for travel, and it keeps drinks hot all day.\",\n",
    "    \"It doesn’t leak, even when I toss it in my bag. Highly recommend Contigo.\",\n",
    "    \"The lid is a little tight, but the mug works well for keeping drinks warm.\",\n",
    "    \"Very stylish and functional! I get compliments all the time.\",\n",
    "    \"Keeps my coffee scalding hot for longer than any mug I’ve owned with Zojirushi.\",\n",
    "    \"Great value for the price. Works just as well as more expensive brands.\",\n",
    "    \"The mug is lightweight and easy to carry around.\",\n",
    "    \"It fits perfectly under my single-serve coffee machine!\",\n",
    "    \"Durable, sleek, and it does exactly what it’s supposed to.\",\n",
    "\n",
    "    # Dishwasher Detergents\n",
    "    \"My dishes come out sparkling clean every time with Cascade. Love this detergent!\",\n",
    "    \"It works well on glass, but I’ve noticed spots on my silverware.\",\n",
    "    \"Great for tough, greasy messes. Leaves no residue! Thanks, Finish.\",\n",
    "    \"This detergent smells amazing and leaves my dishwasher fresh.\",\n",
    "    \"It’s a little pricey, but my dishes have never looked better with Cascade Platinum.\",\n",
    "    \"Gets rid of even the most stubborn baked-on food. Highly recommend Finish Quantum.\",\n",
    "    \"Not the best on hard water stains, but otherwise it works great.\",\n",
    "    \"My dishes have never been so spotless after a wash!\",\n",
    "    \"It’s very effective, but I wish it came in a fragrance-free version.\",\n",
    "    \"Cuts through grease like a dream. No more pre-rinsing with Cascade Complete.\",\n",
    "    \"This detergent doesn’t leave any residue on plastic, which I love.\",\n",
    "    \"My glasses come out clear and sparkling every single time.\",\n",
    "    \"It doesn’t work well with my eco dishwasher. Dishes aren’t as clean.\",\n",
    "    \"Very efficient—gets rid of food stains and smells with no problem.\",\n",
    "    \"I noticed some streaks on my glassware, but overall it works well.\",\n",
    "    \"Leaves my dishes spotless and my machine smelling fresh.\",\n",
    "    \"A great, eco-friendly option that actually works!\",\n",
    "    \"It’s a little hard on some of my delicate dishware.\",\n",
    "    \"This is the only detergent that works on my hard water stains.\",\n",
    "    \"No need to rewash dishes after using this—so efficient!\",\n",
    "    \"Perfect for everyday use. My dishes are clean and shiny.\",\n",
    "    \"Leaves a chemical smell, but it’s effective at cleaning.\",\n",
    "    \"A bit expensive, but worth it for the spotless results.\",\n",
    "    \"No more streaks or water spots! Best dishwasher detergent ever.\",\n",
    "    \"My silverware and dishes look brand new after every wash.\",\n",
    "\n",
    "    # Sunscreens\n",
    "    \"Absorbs quickly and doesn’t leave a greasy residue. Great for daily use with Neutrogena.\",\n",
    "    \"The scent is a little strong, but it protects well with Coppertone.\",\n",
    "    \"Perfect for sensitive skin! No breakouts or irritation with La Roche-Posay.\",\n",
    "    \"A bit thick to apply, but once it’s on, it stays all day.\",\n",
    "    \"I love the lightweight formula of CeraVe, perfect for wearing under makeup.\",\n",
    "    \"Doesn’t leave a white cast, even on darker skin tones.\",\n",
    "    \"The spray bottle makes it super easy to apply on the go.\",\n",
    "    \"This sunscreen saved me from burning on a beach vacation with Banana Boat!\",\n",
    "    \"It’s waterproof, which is a must for pool days. Highly recommend Hawaiian Tropic.\",\n",
    "    \"A bit pricey, but the protection it provides is worth every penny with Supergoop.\",\n",
    "    \"This is my go-to sunscreen for both my face and body with Neutrogena.\",\n",
    "    \"It’s a little greasy, but it gets the job done in strong sun.\",\n",
    "    \"No weird scent, and it goes on smooth. Love this product!\",\n",
    "    \"Perfect for outdoor activities—no sunburn, even after hours outside.\",\n",
    "    \"It’s great for kids! No irritation, and it’s easy to apply with Blue Lizard.\",\n",
    "    \"A little too heavy for my face, but works perfectly for the body.\",\n",
    "    \"The texture is nice and light, not sticky at all.\",\n",
    "    \"This sunscreen doesn’t clog my pores, which is a huge plus with EltaMD.\",\n",
    "    \"I’ve tried a lot of sunscreens, and this one offers the best protection with La Roche-Posay.\",\n",
    "    \"It leaves a slight sheen, but I love how protected my skin feels.\",\n",
    "    \"This formula doesn’t dry out my skin like others do.\",\n",
    "    \"It’s great under makeup—no pilling or greasiness.\",\n",
    "    \"I wish it were more affordable, but it’s worth it for the protection.\",\n",
    "    \"Very effective, even after swimming for hours.\",\n",
    "    \"My skin stays soft and protected all day with Neutrogena sunscreen.\"\n",
    "\n",
    "     # Powder Detergents for Laundry\n",
    "    \"Gets my clothes fresh and clean every time. No lingering odor with Tide.\",\n",
    "    \"It dissolves well, even in cold water. My whites have never been brighter thanks to Ariel.\",\n",
    "    \"A little pricey, but worth it for the excellent stain removal power of Persil.\",\n",
    "    \"This powder leaves a residue on darker clothes. Not a fan of OMO.\",\n",
    "    \"Great for sensitive skin! No itching or redness after using Seventh Generation.\",\n",
    "    \"I love how eco-friendly this detergent is. It’s a big plus for me with Ecover.\",\n",
    "    \"I don’t need fabric softener anymore—this leaves my clothes so soft!\",\n",
    "    \"My laundry has never smelled so fresh, and it lasts for days with Gain.\",\n",
    "    \"It’s not the best for heavy stains but works great for daily washes.\",\n",
    "    \"Great value for the price. This box lasts forever! Thanks, Arm & Hammer.\",\n",
    "    \"Perfect for my workout gear—gets rid of all the sweat smells.\",\n",
    "    \"Leaves a bit of powder behind in the machine, but it cleans well.\",\n",
    "    \"I’ve been using it for years, and Tide never disappoints.\",\n",
    "    \"Not as effective in hard water areas, but still decent.\",\n",
    "    \"My go-to detergent for all of my family’s laundry needs.\",\n",
    "    \"I noticed some fading in my darker clothes after a few washes.\",\n",
    "    \"It’s gentle on my baby’s clothes and skin with Dreft.\",\n",
    "    \"Very effective at removing mud and grass stains from the kids’ clothes.\",\n",
    "    \"I like the scent, but it might be too strong for some.\",\n",
    "    \"No complaints so far! My clothes feel clean and fresh.\",\n",
    "    \"Works just as well as liquid detergents but at a lower cost.\",\n",
    "    \"A bit too perfumed for my taste, but it gets the job done.\",\n",
    "    \"My clothes are noticeably softer and smell better than before.\",\n",
    "    \"The box is hard to pour from, but the detergent works well.\",\n",
    "    \"This is my new favorite detergent. So much better than the leading brand!\",\n",
    "]\n",
    "\n",
    "product_offers = [\n",
    "    # Thermal Mugs\n",
    "    \"Contigo Workday Travel Mug – Keeps Coffee Hot for Hours!\",\n",
    "    \"Zojirushi Sleek Travel Mug – Perfect Fit for Car Holders\",\n",
    "    \"Hydro Flask Lightweight Insulation Mug – Stay Warm for Hours\",\n",
    "    \"Yeti Thermal Mug – No More Cold Coffee!\",\n",
    "    \"Contigo All-Day Heat Retention Mug – Ideal for Travel\",\n",
    "    \"Contigo Leak-Proof Mug – Toss in Your Bag with Confidence\",\n",
    "    \"Zojirushi Scalding Hot Coffee Mug – Best Insulation Yet\",\n",
    "\n",
    "    # Dishwasher Detergents\n",
    "    \"Cascade Sparkling Clean Detergent – Your Dishes Will Shine\",\n",
    "    \"Finish Detergent – Tough on Grease, No Residue Left\",\n",
    "    \"Cascade Platinum Detergent – Pricey, But Worth It for Results\",\n",
    "    \"Finish Quantum Detergent – Stubborn Food Stains Gone\",\n",
    "    \"Cascade Complete Detergent – No Pre-Rinsing Needed for Grease\",\n",
    "\n",
    "    # Sunscreens\n",
    "    \"Neutrogena Daily Sunscreen – Quick Absorption, No Grease\",\n",
    "    \"Coppertone Suncream – Strong Scent, Strong Protection\",\n",
    "    \"La Roche-Posay Sensitive Skin Sunscreen – No Breakouts\",\n",
    "    \"CeraVe Lightweight Sunscreen – Perfect Under Makeup\",\n",
    "    \"Banana Boat Beach-Saver Sunscreen – No Burns, Just Fun\",\n",
    "    \"Hawaiian Tropic Waterproof Sunscreen – Pool Day Essential\",\n",
    "    \"Supergoop Premium Sunscreen – Worth Every Penny\",\n",
    "    \"Neutrogena Face & Body Sunscreen – All-Purpose Protection\",\n",
    "    \"EltaMD Pore-Friendly Sunscreen – Protection Without Clogging\",\n",
    "    \"La Roche-Posay Suncream – The Best in Sun Protection\",\n",
    "    \"Neutrogena Sunscreen – Soft, Protected Skin All Day\",\n",
    "\n",
    "    # Powder Detergents for Laundry\n",
    "    \"Tide Powder Detergent – Fresh, Clean Clothes Every Time\",\n",
    "    \"Ariel Powder Detergent – Whites Brighter, Even in Cold Water\",\n",
    "    \"Persil Powder Detergent – Powerful Stain Removal\",\n",
    "    \"OMO Powder Detergent – Leaves Residue on Dark Clothes\",\n",
    "    \"Seventh Generation Powder Detergent – Great for Sensitive Skin\",\n",
    "    \"Ecover Eco-Friendly Detergent – Perfect for the Eco-Conscious\",\n",
    "    \"Gain Powder Detergent – Fresh-Smelling Laundry for Days\",\n",
    "    \"Arm & Hammer Powder Detergent – Great Value, Lasts Forever\",\n",
    "    \"Dreft Baby Powder Detergent – Gentle on Baby Clothes\"\n",
    "]"
   ],
   "outputs": [],
   "execution_count": 32
  },
  {
   "metadata": {},
   "cell_type": "markdown",
   "source": "# Creating product definition and model running functions"
  },
  {
   "metadata": {
    "ExecuteTime": {
     "end_time": "2024-10-27T16:35:37.817610Z",
     "start_time": "2024-10-27T16:35:37.807683Z"
    }
   },
   "cell_type": "code",
   "source": [
    "import os\n",
    "from dotenv import load_dotenv\n",
    "load_dotenv()\n",
    "\n",
    "from pydantic import BaseModel, Field\n",
    "from typing import List, Literal\n",
    "\n",
    "\n",
    "class Product(BaseModel):\n",
    "    product_category: Literal[\n",
    "        \"Powder Detergents for Laundry\",\n",
    "        \"Thermal Mugs\",\n",
    "        \"Dishwasher Detergents\",\n",
    "        \"Sunscreens\",\n",
    "        \"Nappies\",\n",
    "        \"Others\"\n",
    "    ] = Field(\n",
    "        description=\"The category of the product.\",\n",
    "        alias=\"product category\"\n",
    "    )\n",
    "    # product_category: str = Field(\n",
    "    #     description=\"The category of the product.\",\n",
    "    #     alias=\"product category\"\n",
    "    # )\n",
    "    brand: str = Field(\n",
    "        description=\"The brand of the product, or 'N/A' if not applicable.\",\n",
    "        alias=\"brand\"\n",
    "    )\n",
    "    \n",
    "    other_keywords: List[str] = Field(\n",
    "        description=\"A list of other keywords associated with the product.\",\n",
    "        alias=\"other keywords\"\n",
    "    )"
   ],
   "outputs": [],
   "execution_count": 33
  },
  {
   "metadata": {
    "ExecuteTime": {
     "end_time": "2024-10-27T16:48:54.446072Z",
     "start_time": "2024-10-27T16:48:54.411078Z"
    }
   },
   "cell_type": "code",
   "source": [
    "from mistralai import Mistral\n",
    "from openai import OpenAI\n",
    "from dotenv import load_dotenv\n",
    "import os\n",
    "from together import Together\n",
    "from anthropic import Anthropic\n",
    "\n",
    "load_dotenv()\n",
    "\n",
    "\n",
    "together_client = Together(api_key=os.getenv(\"TOGETHER_API_KEY\"))\n",
    "openai_client = OpenAI(api_key=os.getenv(\"OPENAI_API_KEY\"))\n",
    "client_mistral = Mistral(api_key=os.getenv(\"MISTRAL_API_KEY\"))\n",
    "client_anthropic = Anthropic(api_key=os.getenv(\"ANTHROPIC_API_KEY\"))\n",
    "\n",
    "conversation_template = [\n",
    "    {\n",
    "        \"role\": \"system\", \n",
    "        \"content\": \"Given the user review of the product, extract the following information: product category, brand, and other keywords, which are associated with the product.\"\n",
    "    }, \n",
    "    {\n",
    "        \"role\": \"system\", \n",
    "        \"content\": f\"\"\"\n",
    "            Answer using only JSON format with the following JSON schema:\n",
    "\n",
    "            {Product.model_json_schema()}\n",
    "        \"\"\".lstrip()\n",
    "    },\n",
    "]\n",
    "\n",
    "def run_mistral(user_message, model=\"mistral-large-latest\"):\n",
    "    messages = conversation_template[:1] + [{\"role\": \"user\", \"content\": user_message}] + conversation_template[1:] \n",
    "    #messages = [{\"role\": \"user\", \"content\": user_message}]\n",
    "    chat_response = client_mistral.chat.complete(\n",
    "        model=model,\n",
    "        messages=messages,\n",
    "        response_format={\n",
    "            \"type\": \"json_object\",\n",
    "            \"json_schema\": {\"name\": \"product\", \"schema\": Product.model_json_schema(),}\n",
    "        },\n",
    "    )\n",
    "    return chat_response.choices[0].message.content\n",
    "\n",
    "\n",
    "def run_openai(user_message, model=\"gpt-4o\"):\n",
    "    messages = conversation_template[:1] + [{\"role\": \"user\", \"content\": user_message}] + conversation_template[1:]\n",
    "    chat_response = openai_client.chat.completions.create(\n",
    "        model=model,\n",
    "        messages=messages,\n",
    "        response_format={\n",
    "            \"type\": \"json_object\",\n",
    "            # \"json_schema\": {\"name\": \"product\", \"schema\": Product.model_json_schema(),}\n",
    "        }\n",
    "    )\n",
    "    return chat_response.choices[0].message.content\n",
    "\n",
    "def run_together(user_message, model=\"meta-llama/Meta-Llama-3.1-70B-Instruct-Turbo\"):\n",
    "    messages = conversation_template[:1] + [{\"role\": \"user\", \"content\": user_message}] + conversation_template[1:]\n",
    "    chat_response = together_client.chat.completions.create(\n",
    "        model=model,\n",
    "        messages=messages,\n",
    "        response_format={\n",
    "            \"type\": \"json_object\",\n",
    "            \"json_schema\": {\"name\": \"product\", \"schema\": Product.model_json_schema(),}\n",
    "        },\n",
    "    )\n",
    "    return chat_response.choices[0].message.content\n",
    "\n",
    "def run_anthropic(user_message, model=\"claude-3-5-sonnet-20241022\"):\n",
    "    messages = [{\"role\": \"user\", \"content\": user_message}]\n",
    "    chat_response = client_anthropic.messages.create(\n",
    "        model=model,\n",
    "        messages=messages,\n",
    "        system=\"\\n\".join([m[\"content\"] for m in conversation_template]),\n",
    "        max_tokens=1024\n",
    "        # response_format={\n",
    "        #     \"type\": \"json_object\",\n",
    "        #     \"schema\": Product.model_json_schema(),\n",
    "        # },\n",
    "    )\n",
    "    \n",
    "    return chat_response.content[0].text"
   ],
   "outputs": [],
   "execution_count": 43
  },
  {
   "metadata": {},
   "cell_type": "markdown",
   "source": "# Extracting product information from reviews"
  },
  {
   "cell_type": "code",
   "metadata": {
    "colab": {
     "base_uri": "https://localhost:8080/"
    },
    "id": "xwnE02DNY0wr",
    "outputId": "027725d1-0106-4995-dce0-0ceee607c462",
    "ExecuteTime": {
     "end_time": "2024-10-27T17:09:12.761386Z",
     "start_time": "2024-10-27T16:49:33.947681Z"
    }
   },
   "source": [
    "from tqdm import tqdm\n",
    "import json\n",
    "\n",
    "responses = []\n",
    "def write_response_for_review(\n",
    "    review: str\n",
    "):\n",
    "    print(f\"Review: {review}\")\n",
    "    try:\n",
    "        response_mistral = json.loads(run_mistral(review))\n",
    "    except Exception as e:\n",
    "        print(f\"Mistral error: {e}\")\n",
    "        response_mistral = None\n",
    "    \n",
    "    try:\n",
    "        response_openai = json.loads(run_openai(review))\n",
    "    except Exception as e:\n",
    "        print(f\"OpenAI error: {e}\")\n",
    "        response_openai = None\n",
    "        \n",
    "    try:\n",
    "        response_together = json.loads(run_together(review))\n",
    "    except Exception as e:\n",
    "        print(f\"Together error: {e}\")\n",
    "        response_together = None\n",
    "        \n",
    "    try:\n",
    "        response_anthropic = json.loads(run_anthropic(review))\n",
    "    except Exception as e:\n",
    "        print(f\"Anthropic error: {e}\")\n",
    "        response_anthropic = None\n",
    "    \n",
    "    responses.append({\n",
    "        \"review\": review,\n",
    "        \"mistral\": response_mistral,\n",
    "        \"openai\": response_openai,\n",
    "        \"together\": response_together,\n",
    "        \"anthropic\": response_anthropic,\n",
    "    })\n",
    "\n",
    "def write_response_for_product(\n",
    "    product: str\n",
    "):\n",
    "    print(f\"Product: {product}\")\n",
    "    try:\n",
    "        response_mistral = json.loads(run_mistral(product))\n",
    "    except Exception as e:\n",
    "        print(f\"Mistral error: {e}\")\n",
    "        response_mistral = None\n",
    "    \n",
    "    try:\n",
    "        response_openai = json.loads(run_openai(product))\n",
    "    except Exception as e:\n",
    "        print(f\"OpenAI error: {e}\")\n",
    "        response_openai = None\n",
    "        \n",
    "    try:\n",
    "        response_together = json.loads(run_together(product))\n",
    "    except Exception as e:\n",
    "        print(f\"Together error: {e}\")\n",
    "        response_together = None\n",
    "        \n",
    "    try:\n",
    "        response_anthropic = json.loads(run_anthropic(product))\n",
    "    except Exception as e:\n",
    "        print(f\"Anthropic error: {e}\")\n",
    "        response_anthropic = None\n",
    "    \n",
    "    responses.append({\n",
    "        \"product\": product,\n",
    "        \"mistral\": response_mistral,\n",
    "        \"openai\": response_openai,\n",
    "        \"together\": response_together,\n",
    "        \"anthropic\": response_anthropic,\n",
    "    })\n",
    "\n",
    "# for each test case\n",
    "tqdm._instances.clear()\n",
    "for review in tqdm(reviews):\n",
    "    write_response_for_review(review)\n",
    "    \n",
    "for product in tqdm(product_offers):\n",
    "    write_response_for_product(product)\n",
    "\n",
    "with open('js_zl_nk_js_responses.json', 'w') as f:\n",
    "    json.dump(responses, f, indent=4)\n"
   ],
   "outputs": [
    {
     "name": "stderr",
     "output_type": "stream",
     "text": [
      "  0%|          | 0/99 [00:00<?, ?it/s]"
     ]
    },
    {
     "name": "stdout",
     "output_type": "stream",
     "text": [
      "Review: Keeps my coffee hot for hours—just what I need for long workdays. Thanks, Contigo.\n"
     ]
    },
    {
     "name": "stderr",
     "output_type": "stream",
     "text": [
      "  1%|          | 1/99 [00:06<11:14,  6.88s/it]"
     ]
    },
    {
     "name": "stdout",
     "output_type": "stream",
     "text": [
      "Review: The lid isn’t leak-proof, but it keeps drinks warm for a decent amount of time.\n"
     ]
    },
    {
     "name": "stderr",
     "output_type": "stream",
     "text": [
      "  2%|▏         | 2/99 [00:14<11:47,  7.30s/it]"
     ]
    },
    {
     "name": "stdout",
     "output_type": "stream",
     "text": [
      "Review: Love the sleek design of my Zojirushi mug, and it fits perfectly in my car cup holder!\n"
     ]
    },
    {
     "name": "stderr",
     "output_type": "stream",
     "text": [
      "  3%|▎         | 3/99 [00:27<16:01, 10.01s/it]"
     ]
    },
    {
     "name": "stdout",
     "output_type": "stream",
     "text": [
      "Review: It’s lightweight but keeps my drinks at the right temperature for hours with Hydro Flask.\n"
     ]
    },
    {
     "name": "stderr",
     "output_type": "stream",
     "text": [
      "  4%|▍         | 4/99 [00:35<14:43,  9.30s/it]"
     ]
    },
    {
     "name": "stdout",
     "output_type": "stream",
     "text": [
      "Review: No more cold coffee! This Yeti thermal mug does the job.\n"
     ]
    },
    {
     "name": "stderr",
     "output_type": "stream",
     "text": [
      "  5%|▌         | 5/99 [00:45<14:34,  9.30s/it]"
     ]
    },
    {
     "name": "stdout",
     "output_type": "stream",
     "text": [
      "Review: It’s easy to clean, and the thermal insulation works like a charm.\n"
     ]
    },
    {
     "name": "stderr",
     "output_type": "stream",
     "text": [
      "  6%|▌         | 6/99 [00:51<12:49,  8.28s/it]"
     ]
    },
    {
     "name": "stdout",
     "output_type": "stream",
     "text": [
      "Review: The handle makes it easy to carry, and it doesn’t spill.\n"
     ]
    },
    {
     "name": "stderr",
     "output_type": "stream",
     "text": [
      "  7%|▋         | 7/99 [00:58<12:14,  7.98s/it]"
     ]
    },
    {
     "name": "stdout",
     "output_type": "stream",
     "text": [
      "Review: Not great for keeping drinks cold, but excellent for hot beverages.\n"
     ]
    },
    {
     "name": "stderr",
     "output_type": "stream",
     "text": [
      "  8%|▊         | 8/99 [01:06<11:58,  7.89s/it]"
     ]
    },
    {
     "name": "stdout",
     "output_type": "stream",
     "text": [
      "Review: I wish it were bigger, but it’s perfect for my morning tea.\n"
     ]
    },
    {
     "name": "stderr",
     "output_type": "stream",
     "text": [
      "  9%|▉         | 9/99 [01:14<11:38,  7.76s/it]"
     ]
    },
    {
     "name": "stdout",
     "output_type": "stream",
     "text": [
      "Review: I accidentally dropped it, and it didn’t dent! Very sturdy.\n"
     ]
    },
    {
     "name": "stderr",
     "output_type": "stream",
     "text": [
      " 10%|█         | 10/99 [01:20<10:50,  7.31s/it]"
     ]
    },
    {
     "name": "stdout",
     "output_type": "stream",
     "text": [
      "Review: The rubber seal around the lid came loose after a few weeks. Disappointing.\n"
     ]
    },
    {
     "name": "stderr",
     "output_type": "stream",
     "text": [
      " 11%|█         | 11/99 [01:31<12:36,  8.60s/it]"
     ]
    },
    {
     "name": "stdout",
     "output_type": "stream",
     "text": [
      "Review: Great for both coffee and soup—keeps them warm for hours.\n"
     ]
    },
    {
     "name": "stderr",
     "output_type": "stream",
     "text": [
      " 12%|█▏        | 12/99 [01:40<12:32,  8.65s/it]"
     ]
    },
    {
     "name": "stdout",
     "output_type": "stream",
     "text": [
      "Review: The exterior stays cool, even when my drink is piping hot inside.\n"
     ]
    },
    {
     "name": "stderr",
     "output_type": "stream",
     "text": [
      " 13%|█▎        | 13/99 [01:47<11:32,  8.05s/it]"
     ]
    },
    {
     "name": "stdout",
     "output_type": "stream",
     "text": [
      "Review: I love the color options, and it’s great for on-the-go.\n"
     ]
    },
    {
     "name": "stderr",
     "output_type": "stream",
     "text": [
      " 14%|█▍        | 14/99 [01:56<11:45,  8.30s/it]"
     ]
    },
    {
     "name": "stdout",
     "output_type": "stream",
     "text": [
      "Review: Keeps ice water cold for hours, even in hot weather!\n"
     ]
    },
    {
     "name": "stderr",
     "output_type": "stream",
     "text": [
      " 15%|█▌        | 15/99 [02:03<11:03,  7.90s/it]"
     ]
    },
    {
     "name": "stdout",
     "output_type": "stream",
     "text": [
      "Review: It’s a little tricky to open one-handed, but overall, a great mug.\n"
     ]
    },
    {
     "name": "stderr",
     "output_type": "stream",
     "text": [
      " 16%|█▌        | 16/99 [02:11<10:55,  7.90s/it]"
     ]
    },
    {
     "name": "stdout",
     "output_type": "stream",
     "text": [
      "Review: The size is perfect for travel, and it keeps drinks hot all day.\n"
     ]
    },
    {
     "name": "stderr",
     "output_type": "stream",
     "text": [
      " 17%|█▋        | 17/99 [02:17<10:16,  7.52s/it]"
     ]
    },
    {
     "name": "stdout",
     "output_type": "stream",
     "text": [
      "Review: It doesn’t leak, even when I toss it in my bag. Highly recommend Contigo.\n"
     ]
    },
    {
     "name": "stderr",
     "output_type": "stream",
     "text": [
      " 18%|█▊        | 18/99 [02:24<09:57,  7.38s/it]"
     ]
    },
    {
     "name": "stdout",
     "output_type": "stream",
     "text": [
      "Review: The lid is a little tight, but the mug works well for keeping drinks warm.\n"
     ]
    },
    {
     "name": "stderr",
     "output_type": "stream",
     "text": [
      " 19%|█▉        | 19/99 [02:32<09:51,  7.40s/it]"
     ]
    },
    {
     "name": "stdout",
     "output_type": "stream",
     "text": [
      "Review: Very stylish and functional! I get compliments all the time.\n"
     ]
    },
    {
     "name": "stderr",
     "output_type": "stream",
     "text": [
      " 20%|██        | 20/99 [02:40<09:56,  7.55s/it]"
     ]
    },
    {
     "name": "stdout",
     "output_type": "stream",
     "text": [
      "Review: Keeps my coffee scalding hot for longer than any mug I’ve owned with Zojirushi.\n"
     ]
    },
    {
     "name": "stderr",
     "output_type": "stream",
     "text": [
      " 21%|██        | 21/99 [02:51<11:09,  8.58s/it]"
     ]
    },
    {
     "name": "stdout",
     "output_type": "stream",
     "text": [
      "Review: Great value for the price. Works just as well as more expensive brands.\n"
     ]
    },
    {
     "name": "stderr",
     "output_type": "stream",
     "text": [
      " 22%|██▏       | 22/99 [02:57<10:21,  8.07s/it]"
     ]
    },
    {
     "name": "stdout",
     "output_type": "stream",
     "text": [
      "Review: The mug is lightweight and easy to carry around.\n"
     ]
    },
    {
     "name": "stderr",
     "output_type": "stream",
     "text": [
      " 23%|██▎       | 23/99 [03:05<10:02,  7.92s/it]"
     ]
    },
    {
     "name": "stdout",
     "output_type": "stream",
     "text": [
      "Review: It fits perfectly under my single-serve coffee machine!\n"
     ]
    },
    {
     "name": "stderr",
     "output_type": "stream",
     "text": [
      " 24%|██▍       | 24/99 [03:14<10:27,  8.36s/it]"
     ]
    },
    {
     "name": "stdout",
     "output_type": "stream",
     "text": [
      "Review: Durable, sleek, and it does exactly what it’s supposed to.\n"
     ]
    },
    {
     "name": "stderr",
     "output_type": "stream",
     "text": [
      " 25%|██▌       | 25/99 [03:22<10:03,  8.16s/it]"
     ]
    },
    {
     "name": "stdout",
     "output_type": "stream",
     "text": [
      "Review: My dishes come out sparkling clean every time with Cascade. Love this detergent!\n"
     ]
    },
    {
     "name": "stderr",
     "output_type": "stream",
     "text": [
      " 26%|██▋       | 26/99 [03:31<10:18,  8.48s/it]"
     ]
    },
    {
     "name": "stdout",
     "output_type": "stream",
     "text": [
      "Review: It works well on glass, but I’ve noticed spots on my silverware.\n"
     ]
    },
    {
     "name": "stderr",
     "output_type": "stream",
     "text": [
      " 27%|██▋       | 27/99 [03:39<09:42,  8.09s/it]"
     ]
    },
    {
     "name": "stdout",
     "output_type": "stream",
     "text": [
      "Review: Great for tough, greasy messes. Leaves no residue! Thanks, Finish.\n"
     ]
    },
    {
     "name": "stderr",
     "output_type": "stream",
     "text": [
      " 28%|██▊       | 28/99 [03:52<11:28,  9.70s/it]"
     ]
    },
    {
     "name": "stdout",
     "output_type": "stream",
     "text": [
      "Review: This detergent smells amazing and leaves my dishwasher fresh.\n"
     ]
    },
    {
     "name": "stderr",
     "output_type": "stream",
     "text": [
      " 29%|██▉       | 29/99 [04:05<12:18, 10.55s/it]"
     ]
    },
    {
     "name": "stdout",
     "output_type": "stream",
     "text": [
      "Review: It’s a little pricey, but my dishes have never looked better with Cascade Platinum.\n"
     ]
    },
    {
     "name": "stderr",
     "output_type": "stream",
     "text": [
      " 30%|███       | 30/99 [04:22<14:30, 12.61s/it]"
     ]
    },
    {
     "name": "stdout",
     "output_type": "stream",
     "text": [
      "Review: Gets rid of even the most stubborn baked-on food. Highly recommend Finish Quantum.\n"
     ]
    },
    {
     "name": "stderr",
     "output_type": "stream",
     "text": [
      " 31%|███▏      | 31/99 [04:29<12:30, 11.03s/it]"
     ]
    },
    {
     "name": "stdout",
     "output_type": "stream",
     "text": [
      "Review: Not the best on hard water stains, but otherwise it works great.\n"
     ]
    },
    {
     "name": "stderr",
     "output_type": "stream",
     "text": [
      " 32%|███▏      | 32/99 [04:35<10:39,  9.55s/it]"
     ]
    },
    {
     "name": "stdout",
     "output_type": "stream",
     "text": [
      "Review: My dishes have never been so spotless after a wash!\n"
     ]
    },
    {
     "name": "stderr",
     "output_type": "stream",
     "text": [
      " 33%|███▎      | 33/99 [04:43<09:52,  8.98s/it]"
     ]
    },
    {
     "name": "stdout",
     "output_type": "stream",
     "text": [
      "Review: It’s very effective, but I wish it came in a fragrance-free version.\n"
     ]
    },
    {
     "name": "stderr",
     "output_type": "stream",
     "text": [
      " 34%|███▍      | 34/99 [04:52<09:44,  9.00s/it]"
     ]
    },
    {
     "name": "stdout",
     "output_type": "stream",
     "text": [
      "Review: Cuts through grease like a dream. No more pre-rinsing with Cascade Complete.\n"
     ]
    },
    {
     "name": "stderr",
     "output_type": "stream",
     "text": [
      " 35%|███▌      | 35/99 [05:01<09:36,  9.00s/it]"
     ]
    },
    {
     "name": "stdout",
     "output_type": "stream",
     "text": [
      "Review: This detergent doesn’t leave any residue on plastic, which I love.\n"
     ]
    },
    {
     "name": "stderr",
     "output_type": "stream",
     "text": [
      " 36%|███▋      | 36/99 [05:11<09:49,  9.35s/it]"
     ]
    },
    {
     "name": "stdout",
     "output_type": "stream",
     "text": [
      "Review: My glasses come out clear and sparkling every single time.\n"
     ]
    },
    {
     "name": "stderr",
     "output_type": "stream",
     "text": [
      " 37%|███▋      | 37/99 [05:19<09:03,  8.77s/it]"
     ]
    },
    {
     "name": "stdout",
     "output_type": "stream",
     "text": [
      "Review: It doesn’t work well with my eco dishwasher. Dishes aren’t as clean.\n"
     ]
    },
    {
     "name": "stderr",
     "output_type": "stream",
     "text": [
      " 38%|███▊      | 38/99 [05:28<08:57,  8.81s/it]"
     ]
    },
    {
     "name": "stdout",
     "output_type": "stream",
     "text": [
      "Review: Very efficient—gets rid of food stains and smells with no problem.\n"
     ]
    },
    {
     "name": "stderr",
     "output_type": "stream",
     "text": [
      " 39%|███▉      | 39/99 [05:36<08:50,  8.84s/it]"
     ]
    },
    {
     "name": "stdout",
     "output_type": "stream",
     "text": [
      "Review: I noticed some streaks on my glassware, but overall it works well.\n"
     ]
    },
    {
     "name": "stderr",
     "output_type": "stream",
     "text": [
      " 40%|████      | 40/99 [05:45<08:35,  8.74s/it]"
     ]
    },
    {
     "name": "stdout",
     "output_type": "stream",
     "text": [
      "Review: Leaves my dishes spotless and my machine smelling fresh.\n"
     ]
    },
    {
     "name": "stderr",
     "output_type": "stream",
     "text": [
      " 41%|████▏     | 41/99 [05:54<08:38,  8.93s/it]"
     ]
    },
    {
     "name": "stdout",
     "output_type": "stream",
     "text": [
      "Review: A great, eco-friendly option that actually works!\n"
     ]
    },
    {
     "name": "stderr",
     "output_type": "stream",
     "text": [
      " 42%|████▏     | 42/99 [06:01<07:53,  8.30s/it]"
     ]
    },
    {
     "name": "stdout",
     "output_type": "stream",
     "text": [
      "Review: It’s a little hard on some of my delicate dishware.\n",
      "Together error: Expecting property name enclosed in double quotes: line 1 column 2 (char 1)\n"
     ]
    },
    {
     "name": "stderr",
     "output_type": "stream",
     "text": [
      " 43%|████▎     | 43/99 [06:08<07:28,  8.00s/it]"
     ]
    },
    {
     "name": "stdout",
     "output_type": "stream",
     "text": [
      "Review: This is the only detergent that works on my hard water stains.\n"
     ]
    },
    {
     "name": "stderr",
     "output_type": "stream",
     "text": [
      " 44%|████▍     | 44/99 [06:16<07:04,  7.72s/it]"
     ]
    },
    {
     "name": "stdout",
     "output_type": "stream",
     "text": [
      "Review: No need to rewash dishes after using this—so efficient!\n"
     ]
    },
    {
     "name": "stderr",
     "output_type": "stream",
     "text": [
      " 45%|████▌     | 45/99 [06:22<06:41,  7.43s/it]"
     ]
    },
    {
     "name": "stdout",
     "output_type": "stream",
     "text": [
      "Review: Perfect for everyday use. My dishes are clean and shiny.\n"
     ]
    },
    {
     "name": "stderr",
     "output_type": "stream",
     "text": [
      " 46%|████▋     | 46/99 [06:36<08:05,  9.17s/it]"
     ]
    },
    {
     "name": "stdout",
     "output_type": "stream",
     "text": [
      "Review: Leaves a chemical smell, but it’s effective at cleaning.\n"
     ]
    },
    {
     "name": "stderr",
     "output_type": "stream",
     "text": [
      " 47%|████▋     | 47/99 [06:45<08:00,  9.23s/it]"
     ]
    },
    {
     "name": "stdout",
     "output_type": "stream",
     "text": [
      "Review: A bit expensive, but worth it for the spotless results.\n"
     ]
    },
    {
     "name": "stderr",
     "output_type": "stream",
     "text": [
      " 48%|████▊     | 48/99 [06:53<07:28,  8.79s/it]"
     ]
    },
    {
     "name": "stdout",
     "output_type": "stream",
     "text": [
      "Review: No more streaks or water spots! Best dishwasher detergent ever.\n"
     ]
    },
    {
     "name": "stderr",
     "output_type": "stream",
     "text": [
      " 49%|████▉     | 49/99 [07:00<06:56,  8.32s/it]"
     ]
    },
    {
     "name": "stdout",
     "output_type": "stream",
     "text": [
      "Review: My silverware and dishes look brand new after every wash.\n"
     ]
    },
    {
     "name": "stderr",
     "output_type": "stream",
     "text": [
      " 51%|█████     | 50/99 [07:08<06:40,  8.18s/it]"
     ]
    },
    {
     "name": "stdout",
     "output_type": "stream",
     "text": [
      "Review: Absorbs quickly and doesn’t leave a greasy residue. Great for daily use with Neutrogena.\n"
     ]
    },
    {
     "name": "stderr",
     "output_type": "stream",
     "text": [
      " 52%|█████▏    | 51/99 [07:18<07:03,  8.83s/it]"
     ]
    },
    {
     "name": "stdout",
     "output_type": "stream",
     "text": [
      "Review: The scent is a little strong, but it protects well with Coppertone.\n"
     ]
    },
    {
     "name": "stderr",
     "output_type": "stream",
     "text": [
      " 53%|█████▎    | 52/99 [07:27<06:51,  8.75s/it]"
     ]
    },
    {
     "name": "stdout",
     "output_type": "stream",
     "text": [
      "Review: Perfect for sensitive skin! No breakouts or irritation with La Roche-Posay.\n"
     ]
    },
    {
     "name": "stderr",
     "output_type": "stream",
     "text": [
      " 54%|█████▎    | 53/99 [07:36<06:51,  8.94s/it]"
     ]
    },
    {
     "name": "stdout",
     "output_type": "stream",
     "text": [
      "Review: A bit thick to apply, but once it’s on, it stays all day.\n"
     ]
    },
    {
     "name": "stderr",
     "output_type": "stream",
     "text": [
      " 55%|█████▍    | 54/99 [07:43<06:17,  8.40s/it]"
     ]
    },
    {
     "name": "stdout",
     "output_type": "stream",
     "text": [
      "Review: I love the lightweight formula of CeraVe, perfect for wearing under makeup.\n"
     ]
    },
    {
     "name": "stderr",
     "output_type": "stream",
     "text": [
      " 56%|█████▌    | 55/99 [07:50<05:42,  7.78s/it]"
     ]
    },
    {
     "name": "stdout",
     "output_type": "stream",
     "text": [
      "Review: Doesn’t leave a white cast, even on darker skin tones.\n"
     ]
    },
    {
     "name": "stderr",
     "output_type": "stream",
     "text": [
      " 57%|█████▋    | 56/99 [07:58<05:39,  7.91s/it]"
     ]
    },
    {
     "name": "stdout",
     "output_type": "stream",
     "text": [
      "Review: The spray bottle makes it super easy to apply on the go.\n"
     ]
    },
    {
     "name": "stderr",
     "output_type": "stream",
     "text": [
      " 58%|█████▊    | 57/99 [08:06<05:33,  7.94s/it]"
     ]
    },
    {
     "name": "stdout",
     "output_type": "stream",
     "text": [
      "Review: This sunscreen saved me from burning on a beach vacation with Banana Boat!\n"
     ]
    },
    {
     "name": "stderr",
     "output_type": "stream",
     "text": [
      " 59%|█████▊    | 58/99 [08:15<05:35,  8.19s/it]"
     ]
    },
    {
     "name": "stdout",
     "output_type": "stream",
     "text": [
      "Review: It’s waterproof, which is a must for pool days. Highly recommend Hawaiian Tropic.\n"
     ]
    },
    {
     "name": "stderr",
     "output_type": "stream",
     "text": [
      " 60%|█████▉    | 59/99 [08:21<05:01,  7.54s/it]"
     ]
    },
    {
     "name": "stdout",
     "output_type": "stream",
     "text": [
      "Review: A bit pricey, but the protection it provides is worth every penny with Supergoop.\n"
     ]
    },
    {
     "name": "stderr",
     "output_type": "stream",
     "text": [
      " 61%|██████    | 60/99 [08:34<06:04,  9.35s/it]"
     ]
    },
    {
     "name": "stdout",
     "output_type": "stream",
     "text": [
      "Review: This is my go-to sunscreen for both my face and body with Neutrogena.\n"
     ]
    },
    {
     "name": "stderr",
     "output_type": "stream",
     "text": [
      " 62%|██████▏   | 61/99 [08:41<05:28,  8.65s/it]"
     ]
    },
    {
     "name": "stdout",
     "output_type": "stream",
     "text": [
      "Review: It’s a little greasy, but it gets the job done in strong sun.\n"
     ]
    },
    {
     "name": "stderr",
     "output_type": "stream",
     "text": [
      " 63%|██████▎   | 62/99 [09:08<08:39, 14.05s/it]"
     ]
    },
    {
     "name": "stdout",
     "output_type": "stream",
     "text": [
      "Review: No weird scent, and it goes on smooth. Love this product!\n"
     ]
    },
    {
     "name": "stderr",
     "output_type": "stream",
     "text": [
      " 64%|██████▎   | 63/99 [09:15<07:15, 12.10s/it]"
     ]
    },
    {
     "name": "stdout",
     "output_type": "stream",
     "text": [
      "Review: Perfect for outdoor activities—no sunburn, even after hours outside.\n"
     ]
    },
    {
     "name": "stderr",
     "output_type": "stream",
     "text": [
      " 65%|██████▍   | 64/99 [09:24<06:29, 11.13s/it]"
     ]
    },
    {
     "name": "stdout",
     "output_type": "stream",
     "text": [
      "Review: It’s great for kids! No irritation, and it’s easy to apply with Blue Lizard.\n"
     ]
    },
    {
     "name": "stderr",
     "output_type": "stream",
     "text": [
      " 66%|██████▌   | 65/99 [09:32<05:39, 10.00s/it]"
     ]
    },
    {
     "name": "stdout",
     "output_type": "stream",
     "text": [
      "Review: A little too heavy for my face, but works perfectly for the body.\n"
     ]
    },
    {
     "name": "stderr",
     "output_type": "stream",
     "text": [
      " 67%|██████▋   | 66/99 [09:38<04:58,  9.04s/it]"
     ]
    },
    {
     "name": "stdout",
     "output_type": "stream",
     "text": [
      "Review: The texture is nice and light, not sticky at all.\n"
     ]
    },
    {
     "name": "stderr",
     "output_type": "stream",
     "text": [
      " 68%|██████▊   | 67/99 [09:47<04:46,  8.95s/it]"
     ]
    },
    {
     "name": "stdout",
     "output_type": "stream",
     "text": [
      "Review: This sunscreen doesn’t clog my pores, which is a huge plus with EltaMD.\n"
     ]
    },
    {
     "name": "stderr",
     "output_type": "stream",
     "text": [
      " 69%|██████▊   | 68/99 [09:56<04:35,  8.90s/it]"
     ]
    },
    {
     "name": "stdout",
     "output_type": "stream",
     "text": [
      "Review: I’ve tried a lot of sunscreens, and this one offers the best protection with La Roche-Posay.\n"
     ]
    },
    {
     "name": "stderr",
     "output_type": "stream",
     "text": [
      " 70%|██████▉   | 69/99 [10:02<04:06,  8.20s/it]"
     ]
    },
    {
     "name": "stdout",
     "output_type": "stream",
     "text": [
      "Review: It leaves a slight sheen, but I love how protected my skin feels.\n"
     ]
    },
    {
     "name": "stderr",
     "output_type": "stream",
     "text": [
      " 71%|███████   | 70/99 [10:12<04:08,  8.58s/it]"
     ]
    },
    {
     "name": "stdout",
     "output_type": "stream",
     "text": [
      "Review: This formula doesn’t dry out my skin like others do.\n"
     ]
    },
    {
     "name": "stderr",
     "output_type": "stream",
     "text": [
      " 72%|███████▏  | 71/99 [10:18<03:40,  7.89s/it]"
     ]
    },
    {
     "name": "stdout",
     "output_type": "stream",
     "text": [
      "Review: It’s great under makeup—no pilling or greasiness.\n"
     ]
    },
    {
     "name": "stderr",
     "output_type": "stream",
     "text": [
      " 73%|███████▎  | 72/99 [10:25<03:25,  7.60s/it]"
     ]
    },
    {
     "name": "stdout",
     "output_type": "stream",
     "text": [
      "Review: I wish it were more affordable, but it’s worth it for the protection.\n"
     ]
    },
    {
     "name": "stderr",
     "output_type": "stream",
     "text": [
      " 74%|███████▎  | 73/99 [10:32<03:13,  7.44s/it]"
     ]
    },
    {
     "name": "stdout",
     "output_type": "stream",
     "text": [
      "Review: Very effective, even after swimming for hours.\n"
     ]
    },
    {
     "name": "stderr",
     "output_type": "stream",
     "text": [
      " 75%|███████▍  | 74/99 [10:40<03:09,  7.59s/it]"
     ]
    },
    {
     "name": "stdout",
     "output_type": "stream",
     "text": [
      "Review: My skin stays soft and protected all day with Neutrogena sunscreen.Gets my clothes fresh and clean every time. No lingering odor with Tide.\n",
      "Together error: Extra data: line 3 column 1 (char 163)\n"
     ]
    },
    {
     "name": "stderr",
     "output_type": "stream",
     "text": [
      " 76%|███████▌  | 75/99 [10:52<03:34,  8.92s/it]"
     ]
    },
    {
     "name": "stdout",
     "output_type": "stream",
     "text": [
      "Review: It dissolves well, even in cold water. My whites have never been brighter thanks to Ariel.\n"
     ]
    },
    {
     "name": "stderr",
     "output_type": "stream",
     "text": [
      " 77%|███████▋  | 76/99 [11:15<05:02, 13.15s/it]"
     ]
    },
    {
     "name": "stdout",
     "output_type": "stream",
     "text": [
      "Review: A little pricey, but worth it for the excellent stain removal power of Persil.\n"
     ]
    },
    {
     "name": "stderr",
     "output_type": "stream",
     "text": [
      " 78%|███████▊  | 77/99 [11:26<04:36, 12.56s/it]"
     ]
    },
    {
     "name": "stdout",
     "output_type": "stream",
     "text": [
      "Review: This powder leaves a residue on darker clothes. Not a fan of OMO.\n"
     ]
    },
    {
     "name": "stderr",
     "output_type": "stream",
     "text": [
      " 79%|███████▉  | 78/99 [11:34<03:52, 11.09s/it]"
     ]
    },
    {
     "name": "stdout",
     "output_type": "stream",
     "text": [
      "Review: Great for sensitive skin! No itching or redness after using Seventh Generation.\n"
     ]
    },
    {
     "name": "stderr",
     "output_type": "stream",
     "text": [
      " 80%|███████▉  | 79/99 [11:43<03:29, 10.47s/it]"
     ]
    },
    {
     "name": "stdout",
     "output_type": "stream",
     "text": [
      "Review: I love how eco-friendly this detergent is. It’s a big plus for me with Ecover.\n"
     ]
    },
    {
     "name": "stderr",
     "output_type": "stream",
     "text": [
      " 81%|████████  | 80/99 [11:53<03:16, 10.35s/it]"
     ]
    },
    {
     "name": "stdout",
     "output_type": "stream",
     "text": [
      "Review: I don’t need fabric softener anymore—this leaves my clothes so soft!\n"
     ]
    },
    {
     "name": "stderr",
     "output_type": "stream",
     "text": [
      " 82%|████████▏ | 81/99 [12:05<03:12, 10.71s/it]"
     ]
    },
    {
     "name": "stdout",
     "output_type": "stream",
     "text": [
      "Review: My laundry has never smelled so fresh, and it lasts for days with Gain.\n"
     ]
    },
    {
     "name": "stderr",
     "output_type": "stream",
     "text": [
      " 83%|████████▎ | 82/99 [12:12<02:44,  9.65s/it]"
     ]
    },
    {
     "name": "stdout",
     "output_type": "stream",
     "text": [
      "Review: It’s not the best for heavy stains but works great for daily washes.\n"
     ]
    },
    {
     "name": "stderr",
     "output_type": "stream",
     "text": [
      " 84%|████████▍ | 83/99 [12:29<03:09, 11.85s/it]"
     ]
    },
    {
     "name": "stdout",
     "output_type": "stream",
     "text": [
      "Review: Great value for the price. This box lasts forever! Thanks, Arm & Hammer.\n",
      "Together error: Expecting property name enclosed in double quotes: line 1 column 2 (char 1)\n"
     ]
    },
    {
     "name": "stderr",
     "output_type": "stream",
     "text": [
      " 85%|████████▍ | 84/99 [12:36<02:35, 10.39s/it]"
     ]
    },
    {
     "name": "stdout",
     "output_type": "stream",
     "text": [
      "Review: Perfect for my workout gear—gets rid of all the sweat smells.\n"
     ]
    },
    {
     "name": "stderr",
     "output_type": "stream",
     "text": [
      " 86%|████████▌ | 85/99 [12:44<02:14,  9.61s/it]"
     ]
    },
    {
     "name": "stdout",
     "output_type": "stream",
     "text": [
      "Review: Leaves a bit of powder behind in the machine, but it cleans well.\n"
     ]
    },
    {
     "name": "stderr",
     "output_type": "stream",
     "text": [
      " 87%|████████▋ | 86/99 [12:52<01:59,  9.21s/it]"
     ]
    },
    {
     "name": "stdout",
     "output_type": "stream",
     "text": [
      "Review: I’ve been using it for years, and Tide never disappoints.\n"
     ]
    },
    {
     "name": "stderr",
     "output_type": "stream",
     "text": [
      " 88%|████████▊ | 87/99 [13:05<02:03, 10.27s/it]"
     ]
    },
    {
     "name": "stdout",
     "output_type": "stream",
     "text": [
      "Review: Not as effective in hard water areas, but still decent.\n"
     ]
    },
    {
     "name": "stderr",
     "output_type": "stream",
     "text": [
      " 89%|████████▉ | 88/99 [13:11<01:41,  9.24s/it]"
     ]
    },
    {
     "name": "stdout",
     "output_type": "stream",
     "text": [
      "Review: My go-to detergent for all of my family’s laundry needs.\n"
     ]
    },
    {
     "name": "stderr",
     "output_type": "stream",
     "text": [
      " 90%|████████▉ | 89/99 [13:19<01:28,  8.80s/it]"
     ]
    },
    {
     "name": "stdout",
     "output_type": "stream",
     "text": [
      "Review: I noticed some fading in my darker clothes after a few washes.\n"
     ]
    },
    {
     "name": "stderr",
     "output_type": "stream",
     "text": [
      " 91%|█████████ | 90/99 [13:28<01:20,  8.89s/it]"
     ]
    },
    {
     "name": "stdout",
     "output_type": "stream",
     "text": [
      "Review: It’s gentle on my baby’s clothes and skin with Dreft.\n"
     ]
    },
    {
     "name": "stderr",
     "output_type": "stream",
     "text": [
      " 92%|█████████▏| 91/99 [13:36<01:07,  8.44s/it]"
     ]
    },
    {
     "name": "stdout",
     "output_type": "stream",
     "text": [
      "Review: Very effective at removing mud and grass stains from the kids’ clothes.\n"
     ]
    },
    {
     "name": "stderr",
     "output_type": "stream",
     "text": [
      " 93%|█████████▎| 92/99 [13:44<00:59,  8.49s/it]"
     ]
    },
    {
     "name": "stdout",
     "output_type": "stream",
     "text": [
      "Review: I like the scent, but it might be too strong for some.\n"
     ]
    },
    {
     "name": "stderr",
     "output_type": "stream",
     "text": [
      " 94%|█████████▍| 93/99 [13:51<00:47,  7.94s/it]"
     ]
    },
    {
     "name": "stdout",
     "output_type": "stream",
     "text": [
      "Review: No complaints so far! My clothes feel clean and fresh.\n"
     ]
    },
    {
     "name": "stderr",
     "output_type": "stream",
     "text": [
      " 95%|█████████▍| 94/99 [13:59<00:39,  7.83s/it]"
     ]
    },
    {
     "name": "stdout",
     "output_type": "stream",
     "text": [
      "Review: Works just as well as liquid detergents but at a lower cost.\n"
     ]
    },
    {
     "name": "stderr",
     "output_type": "stream",
     "text": [
      " 96%|█████████▌| 95/99 [14:16<00:42, 10.70s/it]"
     ]
    },
    {
     "name": "stdout",
     "output_type": "stream",
     "text": [
      "Review: A bit too perfumed for my taste, but it gets the job done.\n"
     ]
    },
    {
     "name": "stderr",
     "output_type": "stream",
     "text": [
      " 97%|█████████▋| 96/99 [14:22<00:28,  9.46s/it]"
     ]
    },
    {
     "name": "stdout",
     "output_type": "stream",
     "text": [
      "Review: My clothes are noticeably softer and smell better than before.\n"
     ]
    },
    {
     "name": "stderr",
     "output_type": "stream",
     "text": [
      " 98%|█████████▊| 97/99 [14:32<00:18,  9.45s/it]"
     ]
    },
    {
     "name": "stdout",
     "output_type": "stream",
     "text": [
      "Review: The box is hard to pour from, but the detergent works well.\n"
     ]
    },
    {
     "name": "stderr",
     "output_type": "stream",
     "text": [
      " 99%|█████████▉| 98/99 [14:40<00:09,  9.06s/it]"
     ]
    },
    {
     "name": "stdout",
     "output_type": "stream",
     "text": [
      "Review: This is my new favorite detergent. So much better than the leading brand!\n"
     ]
    },
    {
     "name": "stderr",
     "output_type": "stream",
     "text": [
      "100%|██████████| 99/99 [14:48<00:00,  8.97s/it]\n",
      "  0%|          | 0/32 [00:00<?, ?it/s]"
     ]
    },
    {
     "name": "stdout",
     "output_type": "stream",
     "text": [
      "Product: Contigo Workday Travel Mug – Keeps Coffee Hot for Hours!\n"
     ]
    },
    {
     "name": "stderr",
     "output_type": "stream",
     "text": [
      "  3%|▎         | 1/32 [00:07<03:37,  7.03s/it]"
     ]
    },
    {
     "name": "stdout",
     "output_type": "stream",
     "text": [
      "Product: Zojirushi Sleek Travel Mug – Perfect Fit for Car Holders\n"
     ]
    },
    {
     "name": "stderr",
     "output_type": "stream",
     "text": [
      "  6%|▋         | 2/32 [00:14<03:37,  7.26s/it]"
     ]
    },
    {
     "name": "stdout",
     "output_type": "stream",
     "text": [
      "Product: Hydro Flask Lightweight Insulation Mug – Stay Warm for Hours\n"
     ]
    },
    {
     "name": "stderr",
     "output_type": "stream",
     "text": [
      "  9%|▉         | 3/32 [00:22<03:37,  7.50s/it]"
     ]
    },
    {
     "name": "stdout",
     "output_type": "stream",
     "text": [
      "Product: Yeti Thermal Mug – No More Cold Coffee!\n"
     ]
    },
    {
     "name": "stderr",
     "output_type": "stream",
     "text": [
      " 12%|█▎        | 4/32 [00:29<03:28,  7.44s/it]"
     ]
    },
    {
     "name": "stdout",
     "output_type": "stream",
     "text": [
      "Product: Contigo All-Day Heat Retention Mug – Ideal for Travel\n"
     ]
    },
    {
     "name": "stderr",
     "output_type": "stream",
     "text": [
      " 16%|█▌        | 5/32 [00:37<03:23,  7.54s/it]"
     ]
    },
    {
     "name": "stdout",
     "output_type": "stream",
     "text": [
      "Product: Contigo Leak-Proof Mug – Toss in Your Bag with Confidence\n"
     ]
    },
    {
     "name": "stderr",
     "output_type": "stream",
     "text": [
      " 19%|█▉        | 6/32 [00:44<03:12,  7.42s/it]"
     ]
    },
    {
     "name": "stdout",
     "output_type": "stream",
     "text": [
      "Product: Zojirushi Scalding Hot Coffee Mug – Best Insulation Yet\n"
     ]
    },
    {
     "name": "stderr",
     "output_type": "stream",
     "text": [
      " 22%|██▏       | 7/32 [00:55<03:35,  8.61s/it]"
     ]
    },
    {
     "name": "stdout",
     "output_type": "stream",
     "text": [
      "Product: Cascade Sparkling Clean Detergent – Your Dishes Will Shine\n",
      "Together error: Expecting value: line 1 column 1 (char 0)\n"
     ]
    },
    {
     "name": "stderr",
     "output_type": "stream",
     "text": [
      " 25%|██▌       | 8/32 [01:03<03:22,  8.44s/it]"
     ]
    },
    {
     "name": "stdout",
     "output_type": "stream",
     "text": [
      "Product: Finish Detergent – Tough on Grease, No Residue Left\n"
     ]
    },
    {
     "name": "stderr",
     "output_type": "stream",
     "text": [
      " 28%|██▊       | 9/32 [01:14<03:29,  9.09s/it]"
     ]
    },
    {
     "name": "stdout",
     "output_type": "stream",
     "text": [
      "Product: Cascade Platinum Detergent – Pricey, But Worth It for Results\n"
     ]
    },
    {
     "name": "stderr",
     "output_type": "stream",
     "text": [
      " 31%|███▏      | 10/32 [01:22<03:16,  8.91s/it]"
     ]
    },
    {
     "name": "stdout",
     "output_type": "stream",
     "text": [
      "Product: Finish Quantum Detergent – Stubborn Food Stains Gone\n"
     ]
    },
    {
     "name": "stderr",
     "output_type": "stream",
     "text": [
      " 34%|███▍      | 11/32 [01:31<03:05,  8.85s/it]"
     ]
    },
    {
     "name": "stdout",
     "output_type": "stream",
     "text": [
      "Product: Cascade Complete Detergent – No Pre-Rinsing Needed for Grease\n",
      "Together error: Expecting value: line 1 column 1 (char 0)\n"
     ]
    },
    {
     "name": "stderr",
     "output_type": "stream",
     "text": [
      " 38%|███▊      | 12/32 [01:42<03:09,  9.46s/it]"
     ]
    },
    {
     "name": "stdout",
     "output_type": "stream",
     "text": [
      "Product: Neutrogena Daily Sunscreen – Quick Absorption, No Grease\n"
     ]
    },
    {
     "name": "stderr",
     "output_type": "stream",
     "text": [
      " 41%|████      | 13/32 [01:56<03:27, 10.95s/it]"
     ]
    },
    {
     "name": "stdout",
     "output_type": "stream",
     "text": [
      "Product: Coppertone Suncream – Strong Scent, Strong Protection\n"
     ]
    },
    {
     "name": "stderr",
     "output_type": "stream",
     "text": [
      " 44%|████▍     | 14/32 [02:03<02:57,  9.86s/it]"
     ]
    },
    {
     "name": "stdout",
     "output_type": "stream",
     "text": [
      "Product: La Roche-Posay Sensitive Skin Sunscreen – No Breakouts\n"
     ]
    },
    {
     "name": "stderr",
     "output_type": "stream",
     "text": [
      " 47%|████▋     | 15/32 [02:10<02:32,  8.98s/it]"
     ]
    },
    {
     "name": "stdout",
     "output_type": "stream",
     "text": [
      "Product: CeraVe Lightweight Sunscreen – Perfect Under Makeup\n"
     ]
    },
    {
     "name": "stderr",
     "output_type": "stream",
     "text": [
      " 50%|█████     | 16/32 [02:17<02:12,  8.26s/it]"
     ]
    },
    {
     "name": "stdout",
     "output_type": "stream",
     "text": [
      "Product: Banana Boat Beach-Saver Sunscreen – No Burns, Just Fun\n"
     ]
    },
    {
     "name": "stderr",
     "output_type": "stream",
     "text": [
      " 53%|█████▎    | 17/32 [02:25<02:04,  8.32s/it]"
     ]
    },
    {
     "name": "stdout",
     "output_type": "stream",
     "text": [
      "Product: Hawaiian Tropic Waterproof Sunscreen – Pool Day Essential\n"
     ]
    },
    {
     "name": "stderr",
     "output_type": "stream",
     "text": [
      " 56%|█████▋    | 18/32 [02:36<02:04,  8.89s/it]"
     ]
    },
    {
     "name": "stdout",
     "output_type": "stream",
     "text": [
      "Product: Supergoop Premium Sunscreen – Worth Every Penny\n"
     ]
    },
    {
     "name": "stderr",
     "output_type": "stream",
     "text": [
      " 59%|█████▉    | 19/32 [02:44<01:53,  8.75s/it]"
     ]
    },
    {
     "name": "stdout",
     "output_type": "stream",
     "text": [
      "Product: Neutrogena Face & Body Sunscreen – All-Purpose Protection\n"
     ]
    },
    {
     "name": "stderr",
     "output_type": "stream",
     "text": [
      " 62%|██████▎   | 20/32 [02:54<01:48,  9.01s/it]"
     ]
    },
    {
     "name": "stdout",
     "output_type": "stream",
     "text": [
      "Product: EltaMD Pore-Friendly Sunscreen – Protection Without Clogging\n"
     ]
    },
    {
     "name": "stderr",
     "output_type": "stream",
     "text": [
      " 66%|██████▌   | 21/32 [03:05<01:46,  9.66s/it]"
     ]
    },
    {
     "name": "stdout",
     "output_type": "stream",
     "text": [
      "Product: La Roche-Posay Suncream – The Best in Sun Protection\n"
     ]
    },
    {
     "name": "stderr",
     "output_type": "stream",
     "text": [
      " 69%|██████▉   | 22/32 [03:12<01:29,  8.95s/it]"
     ]
    },
    {
     "name": "stdout",
     "output_type": "stream",
     "text": [
      "Product: Neutrogena Sunscreen – Soft, Protected Skin All Day\n"
     ]
    },
    {
     "name": "stderr",
     "output_type": "stream",
     "text": [
      " 72%|███████▏  | 23/32 [03:23<01:27,  9.67s/it]"
     ]
    },
    {
     "name": "stdout",
     "output_type": "stream",
     "text": [
      "Product: Tide Powder Detergent – Fresh, Clean Clothes Every Time\n"
     ]
    },
    {
     "name": "stderr",
     "output_type": "stream",
     "text": [
      " 75%|███████▌  | 24/32 [03:32<01:13,  9.22s/it]"
     ]
    },
    {
     "name": "stdout",
     "output_type": "stream",
     "text": [
      "Product: Ariel Powder Detergent – Whites Brighter, Even in Cold Water\n",
      "Together error: Expecting property name enclosed in double quotes: line 1 column 2 (char 1)\n"
     ]
    },
    {
     "name": "stderr",
     "output_type": "stream",
     "text": [
      " 78%|███████▊  | 25/32 [03:41<01:04,  9.29s/it]"
     ]
    },
    {
     "name": "stdout",
     "output_type": "stream",
     "text": [
      "Product: Persil Powder Detergent – Powerful Stain Removal\n"
     ]
    },
    {
     "name": "stderr",
     "output_type": "stream",
     "text": [
      " 81%|████████▏ | 26/32 [03:57<01:07, 11.26s/it]"
     ]
    },
    {
     "name": "stdout",
     "output_type": "stream",
     "text": [
      "Product: OMO Powder Detergent – Leaves Residue on Dark Clothes\n"
     ]
    },
    {
     "name": "stderr",
     "output_type": "stream",
     "text": [
      " 84%|████████▍ | 27/32 [04:05<00:51, 10.37s/it]"
     ]
    },
    {
     "name": "stdout",
     "output_type": "stream",
     "text": [
      "Product: Seventh Generation Powder Detergent – Great for Sensitive Skin\n"
     ]
    },
    {
     "name": "stderr",
     "output_type": "stream",
     "text": [
      " 88%|████████▊ | 28/32 [04:13<00:37,  9.48s/it]"
     ]
    },
    {
     "name": "stdout",
     "output_type": "stream",
     "text": [
      "Product: Ecover Eco-Friendly Detergent – Perfect for the Eco-Conscious\n"
     ]
    },
    {
     "name": "stderr",
     "output_type": "stream",
     "text": [
      " 91%|█████████ | 29/32 [04:20<00:26,  8.87s/it]"
     ]
    },
    {
     "name": "stdout",
     "output_type": "stream",
     "text": [
      "Product: Gain Powder Detergent – Fresh-Smelling Laundry for Days\n"
     ]
    },
    {
     "name": "stderr",
     "output_type": "stream",
     "text": [
      " 94%|█████████▍| 30/32 [04:28<00:17,  8.64s/it]"
     ]
    },
    {
     "name": "stdout",
     "output_type": "stream",
     "text": [
      "Product: Arm & Hammer Powder Detergent – Great Value, Lasts Forever\n"
     ]
    },
    {
     "name": "stderr",
     "output_type": "stream",
     "text": [
      " 97%|█████████▋| 31/32 [04:42<00:10, 10.16s/it]"
     ]
    },
    {
     "name": "stdout",
     "output_type": "stream",
     "text": [
      "Product: Dreft Baby Powder Detergent – Gentle on Baby Clothes\n"
     ]
    },
    {
     "name": "stderr",
     "output_type": "stream",
     "text": [
      "100%|██████████| 32/32 [04:50<00:00,  9.08s/it]\n"
     ]
    }
   ],
   "execution_count": 44
  },
  {
   "metadata": {},
   "cell_type": "code",
   "outputs": [],
   "execution_count": null,
   "source": [
    "# Load responses from JSON file\n",
    "with open('js_zl_nk_js_responses.json', 'r') as f:\n",
    "    responses = json.load(f)"
   ]
  },
  {
   "metadata": {},
   "cell_type": "markdown",
   "source": "# Comparing similarity of responses from different models"
  },
  {
   "cell_type": "code",
   "metadata": {
    "colab": {
     "base_uri": "https://localhost:8080/"
    },
    "id": "Dm9yYI5_Y3iz",
    "outputId": "7ed92644-16dc-4d11-c0ee-61c8bb58ebb5",
    "ExecuteTime": {
     "end_time": "2024-10-27T18:35:35.073969Z",
     "start_time": "2024-10-27T18:35:35.013620Z"
    }
   },
   "source": [
    "import pandas as pd\n",
    "\n",
    "\n",
    "# prompt: write code for comparing one review from results with one product from products and add in these comparison extracted keywords with lower weight additionally to categories and brand comparison\n",
    "\n",
    "def compare_json_objects_with_keywords(obj1, obj2, keys_to_compare={'other keywords', 'brand', 'product category'}):\n",
    "    if obj1 is None or obj2 is None:\n",
    "        return 0\n",
    "    \n",
    "    identical_fields = 0\n",
    "    common_keys = set(obj1.keys()) & set(obj2.keys() & keys_to_compare)\n",
    "    for key in common_keys:\n",
    "        if key == 'other keywords':\n",
    "            if isinstance(obj1.get(key), list) and isinstance(obj2.get(key), list):\n",
    "                common_keywords = set(obj1.get(key)) & set(obj2.get(key))\n",
    "                identical_fields += len(common_keywords) * 0.3  # Keywords have lower weight\n",
    "            else:\n",
    "              identical_fields += 0\n",
    "        else:\n",
    "          identical_fields += obj1[key] == obj2[key]\n",
    "    #percentage_identical = (identical_fields / max(len(obj1.keys()), 1)) * 100\n",
    "    percentage_identical = (identical_fields / max(len(keys_to_compare), 1)) * 100\n",
    "\n",
    "    return percentage_identical\n",
    "\n",
    "# for each review and product find similarity between different model responses\n",
    "similarity = pd.DataFrame(columns=['type', 'mistral-openai', 'mistral-together', 'mistral-anthropic', 'openai-together', 'openai-anthropic', 'together-anthropic'])\n",
    "for response in responses:\n",
    "    type = 'review' if 'review' in response else 'product'\n",
    "    mistral_openai = compare_json_objects_with_keywords(response['mistral'], response['openai'])\n",
    "    mistral_together = compare_json_objects_with_keywords(response['mistral'], response['together'])\n",
    "    mistral_anthropic = compare_json_objects_with_keywords(response['mistral'], response['anthropic'])\n",
    "    openai_together = compare_json_objects_with_keywords(response['openai'], response['together'])\n",
    "    openai_anthropic = compare_json_objects_with_keywords(response['openai'], response['anthropic'])\n",
    "    together_anthropic = compare_json_objects_with_keywords(response['together'], response['anthropic'])\n",
    "    \n",
    "    similarity = pd.concat(\n",
    "        [\n",
    "            similarity, \n",
    "            pd.DataFrame(\n",
    "                [[type, mistral_openai, mistral_together, mistral_anthropic, openai_together, openai_anthropic, together_anthropic]],\n",
    "                columns=['type', 'mistral-openai', 'mistral-together', 'mistral-anthropic', 'openai-together', 'openai-anthropic', 'together-anthropic']\n",
    "            )\n",
    "        ],\n",
    "        ignore_index=True\n",
    "    )\n",
    "    \n",
    "similarity.to_csv('js_zl_nk_js_similarity_1.csv', index=False)\n",
    "\n",
    "print(\"Mean similarity between Mistral and OpenAI:\", similarity['mistral-openai'].mean())\n",
    "print(\"Mean similarity between Mistral and Together:\", similarity['mistral-together'].mean())\n",
    "print(\"Mean similarity between Mistral and Anthropic:\", similarity['mistral-anthropic'].mean())\n",
    "print(\"Mean similarity between OpenAI and Together:\", similarity['openai-together'].mean())\n",
    "print(\"Mean similarity between OpenAI and Anthropic:\", similarity['openai-anthropic'].mean())\n",
    "print(\"Mean similarity between Together and Anthropic:\", similarity['together-anthropic'].mean())\n",
    "similarity"
   ],
   "outputs": [
    {
     "name": "stdout",
     "output_type": "stream",
     "text": [
      "Mean similarity between Mistral and OpenAI: 80.07633587786259\n",
      "Mean similarity between Mistral and Together: 68.04071246819339\n",
      "Mean similarity between Mistral and Anthropic: 72.44274809160305\n",
      "Mean similarity between OpenAI and Together: 70.20356234096693\n",
      "Mean similarity between OpenAI and Anthropic: 71.80661577608141\n",
      "Mean similarity between Together and Anthropic: 63.94402035623409\n"
     ]
    },
    {
     "data": {
      "text/plain": [
       "        type  mistral-openai  mistral-together  mistral-anthropic  \\\n",
       "0     review       96.666667         86.666667          86.666667   \n",
       "1     review       76.666667         96.666667          66.666667   \n",
       "2     review       86.666667         86.666667          86.666667   \n",
       "3     review       86.666667         76.666667          76.666667   \n",
       "4     review       76.666667         66.666667          76.666667   \n",
       "..       ...             ...               ...                ...   \n",
       "126  product       76.666667         66.666667          66.666667   \n",
       "127  product       86.666667         63.333333          66.666667   \n",
       "128  product       66.666667         86.666667          66.666667   \n",
       "129  product       86.666667         86.666667          66.666667   \n",
       "130  product       96.666667         96.666667          66.666667   \n",
       "\n",
       "     openai-together  openai-anthropic  together-anthropic  \n",
       "0          86.666667         86.666667           76.666667  \n",
       "1          76.666667         66.666667           76.666667  \n",
       "2          86.666667         86.666667           86.666667  \n",
       "3          76.666667         76.666667           76.666667  \n",
       "4          76.666667         86.666667           76.666667  \n",
       "..               ...               ...                 ...  \n",
       "126        66.666667         66.666667           66.666667  \n",
       "127        53.333333         66.666667           33.333333  \n",
       "128        66.666667         76.666667           66.666667  \n",
       "129        86.666667         66.666667           66.666667  \n",
       "130        96.666667         66.666667           66.666667  \n",
       "\n",
       "[131 rows x 7 columns]"
      ],
      "text/html": [
       "<div>\n",
       "<style scoped>\n",
       "    .dataframe tbody tr th:only-of-type {\n",
       "        vertical-align: middle;\n",
       "    }\n",
       "\n",
       "    .dataframe tbody tr th {\n",
       "        vertical-align: top;\n",
       "    }\n",
       "\n",
       "    .dataframe thead th {\n",
       "        text-align: right;\n",
       "    }\n",
       "</style>\n",
       "<table border=\"1\" class=\"dataframe\">\n",
       "  <thead>\n",
       "    <tr style=\"text-align: right;\">\n",
       "      <th></th>\n",
       "      <th>type</th>\n",
       "      <th>mistral-openai</th>\n",
       "      <th>mistral-together</th>\n",
       "      <th>mistral-anthropic</th>\n",
       "      <th>openai-together</th>\n",
       "      <th>openai-anthropic</th>\n",
       "      <th>together-anthropic</th>\n",
       "    </tr>\n",
       "  </thead>\n",
       "  <tbody>\n",
       "    <tr>\n",
       "      <th>0</th>\n",
       "      <td>review</td>\n",
       "      <td>96.666667</td>\n",
       "      <td>86.666667</td>\n",
       "      <td>86.666667</td>\n",
       "      <td>86.666667</td>\n",
       "      <td>86.666667</td>\n",
       "      <td>76.666667</td>\n",
       "    </tr>\n",
       "    <tr>\n",
       "      <th>1</th>\n",
       "      <td>review</td>\n",
       "      <td>76.666667</td>\n",
       "      <td>96.666667</td>\n",
       "      <td>66.666667</td>\n",
       "      <td>76.666667</td>\n",
       "      <td>66.666667</td>\n",
       "      <td>76.666667</td>\n",
       "    </tr>\n",
       "    <tr>\n",
       "      <th>2</th>\n",
       "      <td>review</td>\n",
       "      <td>86.666667</td>\n",
       "      <td>86.666667</td>\n",
       "      <td>86.666667</td>\n",
       "      <td>86.666667</td>\n",
       "      <td>86.666667</td>\n",
       "      <td>86.666667</td>\n",
       "    </tr>\n",
       "    <tr>\n",
       "      <th>3</th>\n",
       "      <td>review</td>\n",
       "      <td>86.666667</td>\n",
       "      <td>76.666667</td>\n",
       "      <td>76.666667</td>\n",
       "      <td>76.666667</td>\n",
       "      <td>76.666667</td>\n",
       "      <td>76.666667</td>\n",
       "    </tr>\n",
       "    <tr>\n",
       "      <th>4</th>\n",
       "      <td>review</td>\n",
       "      <td>76.666667</td>\n",
       "      <td>66.666667</td>\n",
       "      <td>76.666667</td>\n",
       "      <td>76.666667</td>\n",
       "      <td>86.666667</td>\n",
       "      <td>76.666667</td>\n",
       "    </tr>\n",
       "    <tr>\n",
       "      <th>...</th>\n",
       "      <td>...</td>\n",
       "      <td>...</td>\n",
       "      <td>...</td>\n",
       "      <td>...</td>\n",
       "      <td>...</td>\n",
       "      <td>...</td>\n",
       "      <td>...</td>\n",
       "    </tr>\n",
       "    <tr>\n",
       "      <th>126</th>\n",
       "      <td>product</td>\n",
       "      <td>76.666667</td>\n",
       "      <td>66.666667</td>\n",
       "      <td>66.666667</td>\n",
       "      <td>66.666667</td>\n",
       "      <td>66.666667</td>\n",
       "      <td>66.666667</td>\n",
       "    </tr>\n",
       "    <tr>\n",
       "      <th>127</th>\n",
       "      <td>product</td>\n",
       "      <td>86.666667</td>\n",
       "      <td>63.333333</td>\n",
       "      <td>66.666667</td>\n",
       "      <td>53.333333</td>\n",
       "      <td>66.666667</td>\n",
       "      <td>33.333333</td>\n",
       "    </tr>\n",
       "    <tr>\n",
       "      <th>128</th>\n",
       "      <td>product</td>\n",
       "      <td>66.666667</td>\n",
       "      <td>86.666667</td>\n",
       "      <td>66.666667</td>\n",
       "      <td>66.666667</td>\n",
       "      <td>76.666667</td>\n",
       "      <td>66.666667</td>\n",
       "    </tr>\n",
       "    <tr>\n",
       "      <th>129</th>\n",
       "      <td>product</td>\n",
       "      <td>86.666667</td>\n",
       "      <td>86.666667</td>\n",
       "      <td>66.666667</td>\n",
       "      <td>86.666667</td>\n",
       "      <td>66.666667</td>\n",
       "      <td>66.666667</td>\n",
       "    </tr>\n",
       "    <tr>\n",
       "      <th>130</th>\n",
       "      <td>product</td>\n",
       "      <td>96.666667</td>\n",
       "      <td>96.666667</td>\n",
       "      <td>66.666667</td>\n",
       "      <td>96.666667</td>\n",
       "      <td>66.666667</td>\n",
       "      <td>66.666667</td>\n",
       "    </tr>\n",
       "  </tbody>\n",
       "</table>\n",
       "<p>131 rows × 7 columns</p>\n",
       "</div>"
      ]
     },
     "execution_count": 66,
     "metadata": {},
     "output_type": "execute_result"
    }
   ],
   "execution_count": 66
  },
  {
   "cell_type": "code",
   "metadata": {
    "id": "pVgWzng4j9oy",
    "ExecuteTime": {
     "end_time": "2024-10-27T18:36:10.639055Z",
     "start_time": "2024-10-27T18:36:10.590806Z"
    }
   },
   "source": [
    "# prompt: add comparison when if product has different cateogry there is no similarity, but if it is the same it is about 30%, if has the same category and brand, similarity is about 75%\n",
    "\n",
    "def compare_json_objects_with_keywords(obj1, obj2, keys_to_compare={'other keywords', 'brand', 'product category'}):\n",
    "    if obj1 is None or obj2 is None:\n",
    "        return 0\n",
    "    \n",
    "    if obj1.get('product category') != obj2.get('product category'):\n",
    "        return 0  # No similarity if categories don't match\n",
    "\n",
    "    similarity_score = 0\n",
    "    common_keys = set(obj1.keys()) & set(obj2.keys() & keys_to_compare)\n",
    "\n",
    "    if obj1.get('product category') == obj2.get('product category'):\n",
    "        similarity_score += 0.3  # Base similarity for matching categories\n",
    "\n",
    "    if obj1.get('brand') == obj2.get('brand'):\n",
    "        similarity_score += 0.4  # Additional similarity for matching brands\n",
    "\n",
    "    for key in common_keys:\n",
    "        if key == 'other keywords':\n",
    "            if isinstance(obj1.get(key), list) and isinstance(obj2.get(key), list):\n",
    "                common_keywords = set(obj1.get(key)) & set(obj2.get(key))\n",
    "                similarity_score += len(common_keywords) * 0.05  # Keywords have lower weight\n",
    "            else:\n",
    "                similarity_score += 0\n",
    "\n",
    "\n",
    "    return min(100, round(similarity_score * 100))\n",
    "\n",
    "\n",
    "# for each review and product find similarity between different model responses\n",
    "similarity = pd.DataFrame(columns=['type', 'mistral-openai', 'mistral-together', 'mistral-anthropic', 'openai-together', 'openai-anthropic', 'together-anthropic'])\n",
    "for response in responses:\n",
    "    type = 'review' if 'review' in response else 'product'\n",
    "    mistral_openai = compare_json_objects_with_keywords(response['mistral'], response['openai'])\n",
    "    mistral_together = compare_json_objects_with_keywords(response['mistral'], response['together'])\n",
    "    mistral_anthropic = compare_json_objects_with_keywords(response['mistral'], response['anthropic'])\n",
    "    openai_together = compare_json_objects_with_keywords(response['openai'], response['together'])\n",
    "    openai_anthropic = compare_json_objects_with_keywords(response['openai'], response['anthropic'])\n",
    "    together_anthropic = compare_json_objects_with_keywords(response['together'], response['anthropic'])\n",
    "\n",
    "    similarity = pd.concat(\n",
    "        [\n",
    "            similarity,\n",
    "            pd.DataFrame(\n",
    "                [[type, mistral_openai, mistral_together, mistral_anthropic, openai_together, openai_anthropic, together_anthropic]],\n",
    "                columns=['type', 'mistral-openai', 'mistral-together', 'mistral-anthropic', 'openai-together', 'openai-anthropic', 'together-anthropic']\n",
    "            )\n",
    "        ],\n",
    "        ignore_index=True\n",
    "    )\n",
    "\n",
    "similarity.to_csv('js_zl_nk_js_similarity_2.csv', index=False)\n",
    "\n",
    "print(\"Mean similarity between Mistral and OpenAI:\", similarity['mistral-openai'].mean())\n",
    "print(\"Mean similarity between Mistral and Together:\", similarity['mistral-together'].mean())\n",
    "print(\"Mean similarity between Mistral and Anthropic:\", similarity['mistral-anthropic'].mean())\n",
    "print(\"Mean similarity between OpenAI and Together:\", similarity['openai-together'].mean())\n",
    "print(\"Mean similarity between OpenAI and Anthropic:\", similarity['openai-anthropic'].mean())\n",
    "print(\"Mean similarity between Together and Anthropic:\", similarity['together-anthropic'].mean())\n",
    "similarity"
   ],
   "outputs": [
    {
     "name": "stdout",
     "output_type": "stream",
     "text": [
      "Mean similarity between Mistral and OpenAI: 68.62595419847328\n",
      "Mean similarity between Mistral and Together: 54.541984732824424\n",
      "Mean similarity between Mistral and Anthropic: 68.16793893129771\n",
      "Mean similarity between OpenAI and Together: 58.587786259541986\n",
      "Mean similarity between OpenAI and Anthropic: 64.50381679389314\n",
      "Mean similarity between Together and Anthropic: 52.86259541984733\n"
     ]
    },
    {
     "data": {
      "text/plain": [
       "        type mistral-openai mistral-together mistral-anthropic  \\\n",
       "0     review             85               80                80   \n",
       "1     review             75               85                70   \n",
       "2     review             80               80                80   \n",
       "3     review             80               75                75   \n",
       "4     review             75               70                75   \n",
       "..       ...            ...              ...               ...   \n",
       "126  product             75               70                70   \n",
       "127  product             80                0                70   \n",
       "128  product             70               80                70   \n",
       "129  product             80               80                70   \n",
       "130  product             85               85                70   \n",
       "\n",
       "    openai-together openai-anthropic together-anthropic  \n",
       "0                80               80                 75  \n",
       "1                75               70                 75  \n",
       "2                80               80                 80  \n",
       "3                75               75                 75  \n",
       "4                75               80                 75  \n",
       "..              ...              ...                ...  \n",
       "126              70               70                 70  \n",
       "127               0               70                  0  \n",
       "128              70               75                 70  \n",
       "129              80               70                 70  \n",
       "130              85               70                 70  \n",
       "\n",
       "[131 rows x 7 columns]"
      ],
      "text/html": [
       "<div>\n",
       "<style scoped>\n",
       "    .dataframe tbody tr th:only-of-type {\n",
       "        vertical-align: middle;\n",
       "    }\n",
       "\n",
       "    .dataframe tbody tr th {\n",
       "        vertical-align: top;\n",
       "    }\n",
       "\n",
       "    .dataframe thead th {\n",
       "        text-align: right;\n",
       "    }\n",
       "</style>\n",
       "<table border=\"1\" class=\"dataframe\">\n",
       "  <thead>\n",
       "    <tr style=\"text-align: right;\">\n",
       "      <th></th>\n",
       "      <th>type</th>\n",
       "      <th>mistral-openai</th>\n",
       "      <th>mistral-together</th>\n",
       "      <th>mistral-anthropic</th>\n",
       "      <th>openai-together</th>\n",
       "      <th>openai-anthropic</th>\n",
       "      <th>together-anthropic</th>\n",
       "    </tr>\n",
       "  </thead>\n",
       "  <tbody>\n",
       "    <tr>\n",
       "      <th>0</th>\n",
       "      <td>review</td>\n",
       "      <td>85</td>\n",
       "      <td>80</td>\n",
       "      <td>80</td>\n",
       "      <td>80</td>\n",
       "      <td>80</td>\n",
       "      <td>75</td>\n",
       "    </tr>\n",
       "    <tr>\n",
       "      <th>1</th>\n",
       "      <td>review</td>\n",
       "      <td>75</td>\n",
       "      <td>85</td>\n",
       "      <td>70</td>\n",
       "      <td>75</td>\n",
       "      <td>70</td>\n",
       "      <td>75</td>\n",
       "    </tr>\n",
       "    <tr>\n",
       "      <th>2</th>\n",
       "      <td>review</td>\n",
       "      <td>80</td>\n",
       "      <td>80</td>\n",
       "      <td>80</td>\n",
       "      <td>80</td>\n",
       "      <td>80</td>\n",
       "      <td>80</td>\n",
       "    </tr>\n",
       "    <tr>\n",
       "      <th>3</th>\n",
       "      <td>review</td>\n",
       "      <td>80</td>\n",
       "      <td>75</td>\n",
       "      <td>75</td>\n",
       "      <td>75</td>\n",
       "      <td>75</td>\n",
       "      <td>75</td>\n",
       "    </tr>\n",
       "    <tr>\n",
       "      <th>4</th>\n",
       "      <td>review</td>\n",
       "      <td>75</td>\n",
       "      <td>70</td>\n",
       "      <td>75</td>\n",
       "      <td>75</td>\n",
       "      <td>80</td>\n",
       "      <td>75</td>\n",
       "    </tr>\n",
       "    <tr>\n",
       "      <th>...</th>\n",
       "      <td>...</td>\n",
       "      <td>...</td>\n",
       "      <td>...</td>\n",
       "      <td>...</td>\n",
       "      <td>...</td>\n",
       "      <td>...</td>\n",
       "      <td>...</td>\n",
       "    </tr>\n",
       "    <tr>\n",
       "      <th>126</th>\n",
       "      <td>product</td>\n",
       "      <td>75</td>\n",
       "      <td>70</td>\n",
       "      <td>70</td>\n",
       "      <td>70</td>\n",
       "      <td>70</td>\n",
       "      <td>70</td>\n",
       "    </tr>\n",
       "    <tr>\n",
       "      <th>127</th>\n",
       "      <td>product</td>\n",
       "      <td>80</td>\n",
       "      <td>0</td>\n",
       "      <td>70</td>\n",
       "      <td>0</td>\n",
       "      <td>70</td>\n",
       "      <td>0</td>\n",
       "    </tr>\n",
       "    <tr>\n",
       "      <th>128</th>\n",
       "      <td>product</td>\n",
       "      <td>70</td>\n",
       "      <td>80</td>\n",
       "      <td>70</td>\n",
       "      <td>70</td>\n",
       "      <td>75</td>\n",
       "      <td>70</td>\n",
       "    </tr>\n",
       "    <tr>\n",
       "      <th>129</th>\n",
       "      <td>product</td>\n",
       "      <td>80</td>\n",
       "      <td>80</td>\n",
       "      <td>70</td>\n",
       "      <td>80</td>\n",
       "      <td>70</td>\n",
       "      <td>70</td>\n",
       "    </tr>\n",
       "    <tr>\n",
       "      <th>130</th>\n",
       "      <td>product</td>\n",
       "      <td>85</td>\n",
       "      <td>85</td>\n",
       "      <td>70</td>\n",
       "      <td>85</td>\n",
       "      <td>70</td>\n",
       "      <td>70</td>\n",
       "    </tr>\n",
       "  </tbody>\n",
       "</table>\n",
       "<p>131 rows × 7 columns</p>\n",
       "</div>"
      ]
     },
     "execution_count": 69,
     "metadata": {},
     "output_type": "execute_result"
    }
   ],
   "execution_count": 69
  },
  {
   "metadata": {},
   "cell_type": "markdown",
   "source": "# Merging results from OpenAI, Mistral, Together, and Anthropic models for reviews and products"
  },
  {
   "metadata": {
    "ExecuteTime": {
     "end_time": "2024-10-27T18:47:26.104822Z",
     "start_time": "2024-10-27T18:47:26.097349Z"
    }
   },
   "cell_type": "code",
   "source": [
    "import json\n",
    "\n",
    "leading_model = 'openai'  # Choose the model with the highest similarity score\n",
    "merged_products = []\n",
    "\n",
    "for response in responses:\n",
    "    if 'product' not in response:\n",
    "        continue\n",
    "    \n",
    "    product = response['product']\n",
    "    model_keywords = {\n",
    "        *(response.get('mistral', {}) or {}).get('other keywords', []),\n",
    "        *(response.get('openai', {}) or {}).get('other keywords', []),\n",
    "        *(response.get('together', {}) or {}).get('other keywords', []),\n",
    "        *(response.get('anthropic', {}) or {}).get('other keywords', [])\n",
    "    }\n",
    "    \n",
    "    merged_product = {\n",
    "        \"product\": product,\n",
    "        \"product category\": response[leading_model].get(\"product category\", \"N/A\"),\n",
    "        \"brand\": response[leading_model].get(\"brand\", \"N/A\"),\n",
    "        \"other keywords\": list(model_keywords)\n",
    "    }\n",
    "\n",
    "    merged_products.append(merged_product)\n",
    "\n",
    "merged_reviews = []\n",
    "for response in responses:\n",
    "    if 'review' not in response:\n",
    "        continue\n",
    "    \n",
    "    review = response['review']\n",
    "    model_keywords = {\n",
    "        *(response.get('mistral', {}) or {}).get('other keywords', []),\n",
    "        *(response.get('openai', {}) or {}).get('other keywords', []),\n",
    "        *(response.get('together', {}) or {}).get('other keywords', []),\n",
    "        *(response.get('anthropic', {}) or {}).get('other keywords', [])\n",
    "    }\n",
    "    \n",
    "    merged_review = {\n",
    "        \"review\": review,\n",
    "        \"product category\": response[leading_model].get(\"product category\", \"N/A\"),\n",
    "        \"brand\": response[leading_model].get(\"brand\", \"N/A\"),\n",
    "        \"other keywords\": list(model_keywords)\n",
    "    }\n",
    "\n",
    "    merged_reviews.append(merged_review)\n",
    "    \n",
    "with open('js_zl_nk_js_merged_products.json', 'w') as f:\n",
    "    json.dump(merged_products, f, indent=4)\n",
    "\n",
    "with open('js_zl_nk_js_merged_reviews.json', 'w') as f:\n",
    "    json.dump(merged_reviews, f, indent=4)"
   ],
   "outputs": [],
   "execution_count": 76
  },
  {
   "metadata": {
    "ExecuteTime": {
     "end_time": "2024-10-27T19:44:40.720846Z",
     "start_time": "2024-10-27T19:44:40.711380Z"
    }
   },
   "cell_type": "code",
   "source": [
    "with open('js_zl_nk_js_merged_products.json', 'r') as f:\n",
    "    merged_products = json.load(f)\n",
    "    \n",
    "with open('js_zl_nk_js_merged_reviews.json', 'r') as f:\n",
    "    merged_reviews = json.load(f)"
   ],
   "outputs": [],
   "execution_count": 114
  },
  {
   "metadata": {},
   "cell_type": "markdown",
   "source": [
    "\n",
    "# Comparing similarity of review and product keywords"
   ]
  },
  {
   "metadata": {
    "ExecuteTime": {
     "end_time": "2024-10-27T20:00:53.724264Z",
     "start_time": "2024-10-27T20:00:53.716033Z"
    }
   },
   "cell_type": "code",
   "source": "product_review_similarity_results = []",
   "outputs": [],
   "execution_count": 144
  },
  {
   "metadata": {},
   "cell_type": "markdown",
   "source": "## BERTScore Comparison"
  },
  {
   "cell_type": "code",
   "metadata": {
    "colab": {
     "base_uri": "https://localhost:8080/"
    },
    "id": "qPFtArWssT06",
    "outputId": "632be372-052b-4e06-f509-7e677c2e4653",
    "ExecuteTime": {
     "end_time": "2024-10-27T20:02:38.555584Z",
     "start_time": "2024-10-27T20:00:54.983772Z"
    }
   },
   "source": [
    "import numpy as np\n",
    "from bert_score import BERTScorer\n",
    "from tqdm import tqdm\n",
    "\n",
    "scorer = BERTScorer(lang=\"en\", model_type=\"bert-base-uncased\", rescale_with_baseline=True, device=\"mps\")\n",
    "\n",
    "def compare_keywords_bert_score(review_keywords, product_keywords):\n",
    "  \"\"\"Compares keywords using BERTScore.\"\"\"\n",
    "\n",
    "  if not review_keywords or not product_keywords:\n",
    "    return 0\n",
    "\n",
    "  max_len = max(len(review_keywords), len(product_keywords))\n",
    "  review_keywords = (review_keywords * (max_len // len(review_keywords) + 1))[:max_len]\n",
    "  product_keywords = (product_keywords * (max_len // len(product_keywords) + 1))[:max_len]\n",
    "\n",
    "  # Calculate BERTScore\n",
    "  P, R, F1 = scorer.score(\n",
    "    review_keywords,\n",
    "    product_keywords,\n",
    "    verbose=False\n",
    "  )\n",
    "\n",
    "  return F1.mean().item()\n",
    "\n",
    "tqdm._instances.clear()\n",
    "bar = tqdm(total=len(merged_reviews) * len(merged_products))\n",
    "for review in merged_reviews:\n",
    "    for product in merged_products:\n",
    "        similarity_score = compare_keywords_bert_score(review['other keywords'], product['other keywords'])\n",
    "        product_review_similarity_results.append({\n",
    "            'review': review['review'],\n",
    "            'product': product['product'],\n",
    "            'bert_score': similarity_score\n",
    "        })\n",
    "\n",
    "        bar.update(1)\n",
    "\n",
    "bar.close()\n",
    "print(\"Mean similarity between review and product keywords:\", np.mean([r['bert_score'] for r in product_review_similarity_results if 'bert_score' in r]))"
   ],
   "outputs": [
    {
     "name": "stderr",
     "output_type": "stream",
     "text": [
      "100%|██████████| 3168/3168 [01:41<00:00, 31.09it/s]"
     ]
    },
    {
     "name": "stdout",
     "output_type": "stream",
     "text": [
      "Mean similarity between review and product keywords: 0.239031077711255\n"
     ]
    },
    {
     "name": "stderr",
     "output_type": "stream",
     "text": [
      "\n"
     ]
    }
   ],
   "execution_count": 145
  },
  {
   "metadata": {},
   "cell_type": "markdown",
   "source": "## Improved BERTScore Comparison"
  },
  {
   "cell_type": "code",
   "metadata": {
    "colab": {
     "base_uri": "https://localhost:8080/"
    },
    "id": "3u3T-UP-tj2I",
    "outputId": "bffca60a-02ea-4da7-cfd9-3fcd4ecdd2ad",
    "ExecuteTime": {
     "end_time": "2024-10-27T20:03:49.441967Z",
     "start_time": "2024-10-27T20:02:41.854078Z"
    }
   },
   "source": [
    "# prompt: propose other similarity score based on categories, brands and review_keywords; other measure then above, produce sth different ; combine also comaprison between full title of product name and concatenated string from category, brand and keywords from review, print every subsequent result, copare strings with bert score not tiff\n",
    "\n",
    "scorer = BERTScorer(lang=\"en\", model_type=\"bert-base-uncased\", rescale_with_baseline=True, device=\"mps\")\n",
    "\n",
    "def compare_product_review_similarity(review_data, product_data):\n",
    "  \"\"\"\n",
    "  Calculates a similarity score between a review and a product based on\n",
    "  categories, brands, and keywords, including a comparison of full product\n",
    "  title with review information using BERTScore.\n",
    "  \"\"\"\n",
    "\n",
    "  similarity_score = 0\n",
    "\n",
    "  # Category Matching (Highest weight)\n",
    "  if review_data.get('product category') == product_data.get('product category'):\n",
    "    similarity_score += 0.5\n",
    "\n",
    "  # Brand Matching (Medium weight)\n",
    "  if review_data.get('brand') == product_data.get('brand'):\n",
    "    similarity_score += 0.3\n",
    "\n",
    "  # String Comparison (BERTScore) between Product Title and Review Data\n",
    "  review_info_string = \" \".join(\n",
    "      [\n",
    "          review_data.get(\"product category\"),\n",
    "          review_data.get(\"brand\"),\n",
    "          \" \".join(review_data.get(\"other keywords\")),\n",
    "      ]\n",
    "  )\n",
    "\n",
    "  product_info_string = \" \".join(\n",
    "      [\n",
    "          product_data.get(\"product category\"),\n",
    "          product_data.get(\"brand\"),\n",
    "          \" \".join(product_data.get(\"other keywords\")),\n",
    "      ]\n",
    "  )\n",
    "\n",
    "  P, R, F1 = scorer.score(\n",
    "      [product_info_string],\n",
    "      [review_info_string],\n",
    "      verbose=False\n",
    "  )\n",
    "\n",
    "  similarity_score += F1.mean().item() * 0.2\n",
    "\n",
    "  return round(min(1, similarity_score) * 100) / 100\n",
    "\n",
    "\n",
    "tqdm._instances.clear()\n",
    "bar = tqdm(total=len(merged_reviews) * len(merged_products))\n",
    "\n",
    "for review in merged_reviews:\n",
    "    for product in merged_products:\n",
    "        similarity_score = compare_product_review_similarity(review, product)\n",
    "        product_review_similarity_results.append({\n",
    "            'review': review['review'],\n",
    "            'product': product['product'],\n",
    "            'improved_bert_score': similarity_score\n",
    "        })\n",
    "        bar.update(1)\n",
    "\n",
    "bar.close()\n",
    "print(\"Mean similarity between review and product keywords:\", np.mean([r['improved_bert_score'] for r in product_review_similarity_results if 'improved_bert_score' in r]))"
   ],
   "outputs": [
    {
     "name": "stderr",
     "output_type": "stream",
     "text": [
      "100%|██████████| 3168/3168 [01:05<00:00, 48.28it/s]"
     ]
    },
    {
     "name": "stdout",
     "output_type": "stream",
     "text": [
      "Mean similarity between review and product keywords: 0.1521622474747475\n"
     ]
    },
    {
     "name": "stderr",
     "output_type": "stream",
     "text": [
      "\n"
     ]
    }
   ],
   "execution_count": 146
  },
  {
   "cell_type": "markdown",
   "metadata": {},
   "source": [
    "# Added code"
   ]
  },
  {
   "metadata": {},
   "cell_type": "markdown",
   "source": "## Cosine Similarity Comparison"
  },
  {
   "cell_type": "code",
   "metadata": {
    "ExecuteTime": {
     "end_time": "2024-10-27T20:05:10.275729Z",
     "start_time": "2024-10-27T20:03:54.114956Z"
    }
   },
   "source": [
    "import numpy as np\n",
    "from sentence_transformers import SentenceTransformer\n",
    "\n",
    "model = SentenceTransformer('all-MiniLM-L6-v2')  # Choose an appropriate model\n",
    "\n",
    "def compare_keywords_cosine_similarity(review_keywords, product_keywords):\n",
    "    if not review_keywords or not product_keywords:\n",
    "        return 0.0\n",
    "    \n",
    "    # Compute embeddings\n",
    "    review_embeddings = model.encode(review_keywords, device=\"mps\")\n",
    "    product_embeddings = model.encode(product_keywords, device=\"mps\")\n",
    "    \n",
    "    # Average the embeddings\n",
    "    avg_review_embedding = np.mean(review_embeddings, axis=0)\n",
    "    avg_product_embedding = np.mean(product_embeddings, axis=0)\n",
    "\n",
    "    # Compute cosine similarity\n",
    "    similarity = np.dot(avg_review_embedding, avg_product_embedding) / (\n",
    "        np.linalg.norm(avg_review_embedding) * np.linalg.norm(avg_product_embedding)\n",
    "    )\n",
    "\n",
    "    return similarity\n",
    "\n",
    "tqdm._instances.clear()\n",
    "bar = tqdm(total=len(merged_reviews) * len(merged_products))\n",
    "for review in merged_reviews:\n",
    "    for product in merged_products:\n",
    "        similarity_score = compare_keywords_cosine_similarity(review['other keywords'], product['other keywords'])\n",
    "        product_review_similarity_results.append({\n",
    "            'review': review['review'],\n",
    "            'product': product['product'],\n",
    "            'cosine_similarity': similarity_score\n",
    "        })\n",
    "\n",
    "        bar.update(1)\n",
    "    \n",
    "bar.close()\n",
    "print(\"Mean similarity between review and product keywords:\", np.mean([r['cosine_similarity'] for r in product_review_similarity_results if 'cosine_similarity' in r]))"
   ],
   "outputs": [
    {
     "name": "stderr",
     "output_type": "stream",
     "text": [
      "100%|██████████| 3168/3168 [01:14<00:00, 42.81it/s]"
     ]
    },
    {
     "name": "stdout",
     "output_type": "stream",
     "text": [
      "Mean similarity between review and product keywords: 0.49377078\n"
     ]
    },
    {
     "name": "stderr",
     "output_type": "stream",
     "text": [
      "\n"
     ]
    }
   ],
   "execution_count": 147
  },
  {
   "metadata": {},
   "cell_type": "markdown",
   "source": "## Jaccard Similarity Comparison"
  },
  {
   "cell_type": "code",
   "metadata": {
    "ExecuteTime": {
     "end_time": "2024-10-27T20:05:13.879526Z",
     "start_time": "2024-10-27T20:05:13.864262Z"
    }
   },
   "source": [
    "def compare_keywords_jaccard_similarity(review_keywords, product_keywords):\n",
    "    set_review = set(review_keywords)\n",
    "    set_product = set(product_keywords)\n",
    "    intersection = set_review.intersection(set_product)\n",
    "    union = set_review.union(set_product)\n",
    "    if not union:\n",
    "        return 0.0\n",
    "    return len(intersection) / len(union)\n",
    "\n",
    "tqdm._instances.clear()\n",
    "bar = tqdm(total=len(merged_reviews) * len(merged_products))\n",
    "for review in merged_reviews:\n",
    "    for product in merged_products:\n",
    "        similarity_score = compare_keywords_jaccard_similarity(review['other keywords'], product['other keywords'])\n",
    "        product_review_similarity_results.append({\n",
    "            'review': review['review'],\n",
    "            'product': product['product'],\n",
    "            'jaccard_similarity': similarity_score\n",
    "        })\n",
    "\n",
    "        bar.update(1)\n",
    "        \n",
    "bar.close()\n",
    "print(\"Mean similarity between review and product keywords:\", np.mean([r['jaccard_similarity'] for r in product_review_similarity_results if 'jaccard_similarity' in r]))"
   ],
   "outputs": [
    {
     "name": "stderr",
     "output_type": "stream",
     "text": [
      "100%|██████████| 3168/3168 [00:00<00:00, 390236.57it/s]"
     ]
    },
    {
     "name": "stdout",
     "output_type": "stream",
     "text": [
      "Mean similarity between review and product keywords: 0.010297427297152856\n"
     ]
    },
    {
     "name": "stderr",
     "output_type": "stream",
     "text": [
      "\n"
     ]
    }
   ],
   "execution_count": 148
  },
  {
   "metadata": {},
   "cell_type": "markdown",
   "source": "## Levenshtein Distance Comparison"
  },
  {
   "cell_type": "code",
   "metadata": {
    "ExecuteTime": {
     "end_time": "2024-10-27T20:05:15.916170Z",
     "start_time": "2024-10-27T20:05:15.845723Z"
    }
   },
   "source": [
    "import Levenshtein\n",
    "\n",
    "def compare_keywords_levenshtein_distance(review_keywords, product_keywords):\n",
    "    total_distance = 0\n",
    "    comparisons = 0\n",
    "    for r_keyword in review_keywords:\n",
    "        for p_keyword in product_keywords:\n",
    "            distance = Levenshtein.distance(r_keyword, p_keyword)\n",
    "            total_distance += distance\n",
    "            comparisons += 1\n",
    "    if comparisons == 0:\n",
    "        return 0.0\n",
    "    # Normalize the distance\n",
    "    average_distance = total_distance / comparisons\n",
    "    max_length = max(len(''.join(review_keywords)), len(''.join(product_keywords)))\n",
    "    similarity = 1 - (average_distance / max_length)\n",
    "    return similarity\n",
    "\n",
    "tqdm._instances.clear()\n",
    "bar = tqdm(total=len(merged_reviews) * len(merged_products))\n",
    "for review in merged_reviews:\n",
    "    for product in merged_products:\n",
    "        similarity_score = compare_keywords_levenshtein_distance(review['other keywords'], product['other keywords'])\n",
    "        product_review_similarity_results.append({\n",
    "            'review': review['review'],\n",
    "            'product': product['product'],\n",
    "            'levenshtein_distance': similarity_score\n",
    "        })\n",
    "\n",
    "        bar.update(1)\n",
    "\n",
    "bar.close()\n",
    "print(\"Mean similarity between review and product keywords:\", np.mean([r['levenshtein_distance'] for r in product_review_similarity_results if 'levenshtein_distance' in r]))"
   ],
   "outputs": [
    {
     "name": "stderr",
     "output_type": "stream",
     "text": [
      "100%|██████████| 3168/3168 [00:00<00:00, 51925.20it/s]"
     ]
    },
    {
     "name": "stdout",
     "output_type": "stream",
     "text": [
      "Mean similarity between review and product keywords: 0.8723675850178576\n"
     ]
    },
    {
     "name": "stderr",
     "output_type": "stream",
     "text": [
      "\n"
     ]
    }
   ],
   "execution_count": 149
  },
  {
   "metadata": {},
   "cell_type": "markdown",
   "source": "## Overlap Coefficient Comparison"
  },
  {
   "cell_type": "code",
   "metadata": {
    "ExecuteTime": {
     "end_time": "2024-10-27T20:05:18.499906Z",
     "start_time": "2024-10-27T20:05:18.485201Z"
    }
   },
   "source": [
    "def compare_keywords_overlap_coefficient(review_keywords, product_keywords):\n",
    "    set_review = set(review_keywords)\n",
    "    set_product = set(product_keywords)\n",
    "    intersection = set_review.intersection(set_product)\n",
    "    min_size = min(len(set_review), len(set_product))\n",
    "    if min_size == 0:\n",
    "        return 0.0\n",
    "    return len(intersection) / min_size\n",
    "\n",
    "\n",
    "tqdm._instances.clear()\n",
    "bar = tqdm(total=len(merged_reviews) * len(merged_products))\n",
    "for review in merged_reviews:\n",
    "    for product in merged_products:\n",
    "        similarity_score = compare_keywords_overlap_coefficient(review['other keywords'], product['other keywords'])\n",
    "        product_review_similarity_results.append({\n",
    "            'review': review['review'],\n",
    "            'product': product['product'],\n",
    "            'overlap_coefficient': similarity_score\n",
    "        })\n",
    "\n",
    "        bar.update(1)\n",
    "\n",
    "bar.close()\n",
    "print(\"Mean similarity between review and product keywords:\", np.mean([r['overlap_coefficient'] for r in product_review_similarity_results if 'overlap_coefficient' in r]))"
   ],
   "outputs": [
    {
     "name": "stderr",
     "output_type": "stream",
     "text": [
      "100%|██████████| 3168/3168 [00:00<00:00, 453809.94it/s]"
     ]
    },
    {
     "name": "stdout",
     "output_type": "stream",
     "text": [
      "Mean similarity between review and product keywords: 0.023836602861224073\n"
     ]
    },
    {
     "name": "stderr",
     "output_type": "stream",
     "text": [
      "\n"
     ]
    }
   ],
   "execution_count": 150
  },
  {
   "metadata": {},
   "cell_type": "markdown",
   "source": "## BLEU Score Comparison"
  },
  {
   "cell_type": "code",
   "metadata": {
    "ExecuteTime": {
     "end_time": "2024-10-27T20:05:21.177038Z",
     "start_time": "2024-10-27T20:05:21.038931Z"
    }
   },
   "source": [
    "from nltk.translate.bleu_score import sentence_bleu, SmoothingFunction\n",
    "\n",
    "chencherry = SmoothingFunction()\n",
    "\n",
    "def compare_keywords_bleu_score(review_keywords, product_keywords):\n",
    "    if not review_keywords or not product_keywords:\n",
    "        return 0.0\n",
    "    score = sentence_bleu(\n",
    "        [sorted(product_keywords)], \n",
    "        sorted(review_keywords), \n",
    "        auto_reweigh=True,\n",
    "        weights=[0.5, 0.3, 0.1, 0.1],\n",
    "        smoothing_function=chencherry.method1\n",
    "    )\n",
    "    return score\n",
    "\n",
    "tqdm._instances.clear() \n",
    "bar = tqdm(total=len(merged_reviews) * len(merged_products))\n",
    "\n",
    "unnormalized_bleu_scores = []\n",
    "\n",
    "for review in merged_reviews:\n",
    "    for product in merged_products:\n",
    "        similarity_score = compare_keywords_bleu_score(review['other keywords'], product['other keywords'])\n",
    "        unnormalized_bleu_scores.append({\n",
    "            'review': review['review'],\n",
    "            'product': product['product'],\n",
    "            'bleu_score': similarity_score\n",
    "        })\n",
    "\n",
    "        bar.update(1)\n",
    "\n",
    "bar.close()\n",
    "\n",
    "# Normalize BLEU scores between 0 and 1\n",
    "max_bleu_score = max([r['bleu_score'] for r in unnormalized_bleu_scores])\n",
    "min_bleu_score = min([r['bleu_score'] for r in unnormalized_bleu_scores])\n",
    "\n",
    "for r in unnormalized_bleu_scores:\n",
    "    r['bleu_score'] = (r['bleu_score'] - min_bleu_score) / (max_bleu_score - min_bleu_score)\n",
    "\n",
    "product_review_similarity_results.extend(unnormalized_bleu_scores)\n",
    "\n",
    "print(\"Mean similarity between review and product keywords:\", np.mean([r['bleu_score'] for r in product_review_similarity_results if 'bleu_score' in r]))"
   ],
   "outputs": [
    {
     "name": "stderr",
     "output_type": "stream",
     "text": [
      "100%|██████████| 3168/3168 [00:00<00:00, 24916.66it/s]"
     ]
    },
    {
     "name": "stdout",
     "output_type": "stream",
     "text": [
      "Mean similarity between review and product keywords: 0.011816197858518148\n"
     ]
    },
    {
     "name": "stderr",
     "output_type": "stream",
     "text": [
      "\n"
     ]
    }
   ],
   "execution_count": 151
  },
  {
   "metadata": {},
   "cell_type": "markdown",
   "source": "## ROUGE Score Comparison"
  },
  {
   "cell_type": "code",
   "metadata": {
    "ExecuteTime": {
     "end_time": "2024-10-27T20:05:30.922698Z",
     "start_time": "2024-10-27T20:05:30.658211Z"
    }
   },
   "source": [
    "from rouge import Rouge\n",
    "\n",
    "def compare_keywords_rouge_score(review_keywords, product_keywords):\n",
    "    if not review_keywords or not product_keywords:\n",
    "        return 0.0\n",
    "    rouge = Rouge()\n",
    "    scores = rouge.get_scores(' '.join(review_keywords), ' '.join(product_keywords))\n",
    "    return scores[0]['rouge-l']['f']\n",
    "\n",
    "\n",
    "tqdm._instances.clear()\n",
    "bar = tqdm(total=len(merged_reviews) * len(merged_products))\n",
    "for review in merged_reviews:\n",
    "    for product in merged_products:\n",
    "        similarity_score = compare_keywords_rouge_score(review['other keywords'], product['other keywords'])\n",
    "        product_review_similarity_results.append({\n",
    "            'review': review['review'],\n",
    "            'product': product['product'],\n",
    "            'rouge_score': similarity_score\n",
    "        })\n",
    "\n",
    "        bar.update(1)\n",
    "\n",
    "bar.close()\n",
    "print(\"Mean similarity between review and product keywords:\", np.mean([r['rouge_score'] for r in product_review_similarity_results if 'rouge_score' in r]))"
   ],
   "outputs": [
    {
     "name": "stderr",
     "output_type": "stream",
     "text": [
      "100%|██████████| 3168/3168 [00:00<00:00, 12253.52it/s]"
     ]
    },
    {
     "name": "stdout",
     "output_type": "stream",
     "text": [
      "Mean similarity between review and product keywords: 0.03231193136848701\n"
     ]
    },
    {
     "name": "stderr",
     "output_type": "stream",
     "text": [
      "\n"
     ]
    }
   ],
   "execution_count": 152
  },
  {
   "metadata": {},
   "cell_type": "markdown",
   "source": "## TF-IDF Cosine Similarity Comparison"
  },
  {
   "cell_type": "code",
   "metadata": {
    "ExecuteTime": {
     "end_time": "2024-10-27T20:05:34.416355Z",
     "start_time": "2024-10-27T20:05:32.323020Z"
    }
   },
   "source": [
    "from sklearn.feature_extraction.text import TfidfVectorizer\n",
    "from sklearn.metrics.pairwise import cosine_similarity\n",
    "\n",
    "def compare_keywords_tfidf_cosine_similarity(review_keywords, product_keywords):\n",
    "    corpus = [' '.join(review_keywords), ' '.join(product_keywords)]\n",
    "    vectorizer = TfidfVectorizer()\n",
    "    tfidf_matrix = vectorizer.fit_transform(corpus)\n",
    "    similarity = cosine_similarity(tfidf_matrix[0:1], tfidf_matrix[1:2])\n",
    "    return similarity[0][0]\n",
    "\n",
    "tqdm._instances.clear()\n",
    "bar = tqdm(total=len(merged_reviews) * len(merged_products))\n",
    "\n",
    "for review in merged_reviews:\n",
    "    for product in merged_products:\n",
    "        similarity_score = compare_keywords_tfidf_cosine_similarity(review['other keywords'], product['other keywords'])\n",
    "        product_review_similarity_results.append({\n",
    "            'review': review['review'],\n",
    "            'product': product['product'],\n",
    "            'tfidf_cosine_similarity': similarity_score\n",
    "        })\n",
    "\n",
    "        bar.update(1)\n",
    "        \n",
    "bar.close()\n",
    "print(\"Mean similarity between review and product keywords:\", np.mean([r['tfidf_cosine_similarity'] for r in product_review_similarity_results if 'tfidf_cosine_similarity' in r]))"
   ],
   "outputs": [
    {
     "name": "stderr",
     "output_type": "stream",
     "text": [
      "100%|██████████| 3168/3168 [00:02<00:00, 1519.66it/s]"
     ]
    },
    {
     "name": "stdout",
     "output_type": "stream",
     "text": [
      "Mean similarity between review and product keywords: 0.028697277894282384\n"
     ]
    },
    {
     "name": "stderr",
     "output_type": "stream",
     "text": [
      "\n"
     ]
    }
   ],
   "execution_count": 153
  },
  {
   "metadata": {},
   "cell_type": "markdown",
   "source": "# Merging results from different similarity measures"
  },
  {
   "metadata": {
    "ExecuteTime": {
     "end_time": "2024-10-27T20:05:57.146055Z",
     "start_time": "2024-10-27T20:05:57.079174Z"
    }
   },
   "cell_type": "code",
   "source": [
    "import pandas as pd\n",
    "\n",
    "product_review_similarity_df = pd.DataFrame(product_review_similarity_results).groupby(['review', 'product']).mean().reset_index()\n",
    "# mean per product and review\n",
    "product_review_similarity_df['mean_similarity'] = product_review_similarity_df.drop(columns=['review', 'product']).mean(axis=1)\n",
    "\n",
    "\n",
    "product_review_similarity_df.to_csv('js_zl_nk_js_product_review_similarity.csv', index=False)\n",
    "product_review_similarity_df"
   ],
   "outputs": [
    {
     "data": {
      "text/plain": [
       "                                                 review  \\\n",
       "0     A bit expensive, but worth it for the spotless...   \n",
       "1     A bit expensive, but worth it for the spotless...   \n",
       "2     A bit expensive, but worth it for the spotless...   \n",
       "3     A bit expensive, but worth it for the spotless...   \n",
       "4     A bit expensive, but worth it for the spotless...   \n",
       "...                                                 ...   \n",
       "3163  Works just as well as liquid detergents but at...   \n",
       "3164  Works just as well as liquid detergents but at...   \n",
       "3165  Works just as well as liquid detergents but at...   \n",
       "3166  Works just as well as liquid detergents but at...   \n",
       "3167  Works just as well as liquid detergents but at...   \n",
       "\n",
       "                                                product  bert_score  \\\n",
       "0     Ariel Powder Detergent – Whites Brighter, Even...    0.320531   \n",
       "1     Arm & Hammer Powder Detergent – Great Value, L...    0.185006   \n",
       "2     Banana Boat Beach-Saver Sunscreen – No Burns, ...    0.206999   \n",
       "3     Cascade Complete Detergent – No Pre-Rinsing Ne...    0.229862   \n",
       "4     Cascade Platinum Detergent – Pricey, But Worth...    0.292193   \n",
       "...                                                 ...         ...   \n",
       "3163    Supergoop Premium Sunscreen – Worth Every Penny    0.254728   \n",
       "3164  Tide Powder Detergent – Fresh, Clean Clothes E...    0.332952   \n",
       "3165            Yeti Thermal Mug – No More Cold Coffee!    0.283440   \n",
       "3166  Zojirushi Scalding Hot Coffee Mug – Best Insul...    0.210349   \n",
       "3167  Zojirushi Sleek Travel Mug – Perfect Fit for C...    0.189824   \n",
       "\n",
       "      improved_bert_score  cosine_similarity  jaccard_similarity  \\\n",
       "0                    0.06           0.528162            0.000000   \n",
       "1                    0.07           0.571509            0.000000   \n",
       "2                    0.05           0.501615            0.000000   \n",
       "3                    0.58           0.531118            0.000000   \n",
       "4                    0.61           0.779037            0.071429   \n",
       "...                   ...                ...                 ...   \n",
       "3163                 0.04           0.420699            0.000000   \n",
       "3164                 0.59           0.733268            0.117647   \n",
       "3165                 0.04           0.399320            0.000000   \n",
       "3166                 0.03           0.335985            0.000000   \n",
       "3167                 0.04           0.345818            0.000000   \n",
       "\n",
       "      levenshtein_distance  overlap_coefficient  bleu_score  rouge_score  \\\n",
       "0                 0.828571             0.000000    0.000000     0.000000   \n",
       "1                 0.882653             0.000000    0.000000     0.000000   \n",
       "2                 0.868151             0.000000    0.000000     0.000000   \n",
       "3                 0.887048             0.000000    0.000000     0.000000   \n",
       "4                 0.900000             0.200000    0.068386     0.250000   \n",
       "...                    ...                  ...         ...          ...   \n",
       "3163              0.859506             0.000000    0.000000     0.000000   \n",
       "3164              0.875940             0.285714    0.085386     0.181818   \n",
       "3165              0.857519             0.000000    0.000000     0.000000   \n",
       "3166              0.888926             0.000000    0.000000     0.000000   \n",
       "3167              0.863158             0.000000    0.000000     0.000000   \n",
       "\n",
       "      tfidf_cosine_similarity  mean_similarity  \n",
       "0                    0.000000         0.193029  \n",
       "1                    0.000000         0.189908  \n",
       "2                    0.000000         0.180752  \n",
       "3                    0.000000         0.247559  \n",
       "4                    0.234042         0.378343  \n",
       "...                       ...              ...  \n",
       "3163                 0.000000         0.174993  \n",
       "3164                 0.100798         0.367058  \n",
       "3165                 0.000000         0.175587  \n",
       "3166                 0.000000         0.162807  \n",
       "3167                 0.000000         0.159867  \n",
       "\n",
       "[3168 rows x 12 columns]"
      ],
      "text/html": [
       "<div>\n",
       "<style scoped>\n",
       "    .dataframe tbody tr th:only-of-type {\n",
       "        vertical-align: middle;\n",
       "    }\n",
       "\n",
       "    .dataframe tbody tr th {\n",
       "        vertical-align: top;\n",
       "    }\n",
       "\n",
       "    .dataframe thead th {\n",
       "        text-align: right;\n",
       "    }\n",
       "</style>\n",
       "<table border=\"1\" class=\"dataframe\">\n",
       "  <thead>\n",
       "    <tr style=\"text-align: right;\">\n",
       "      <th></th>\n",
       "      <th>review</th>\n",
       "      <th>product</th>\n",
       "      <th>bert_score</th>\n",
       "      <th>improved_bert_score</th>\n",
       "      <th>cosine_similarity</th>\n",
       "      <th>jaccard_similarity</th>\n",
       "      <th>levenshtein_distance</th>\n",
       "      <th>overlap_coefficient</th>\n",
       "      <th>bleu_score</th>\n",
       "      <th>rouge_score</th>\n",
       "      <th>tfidf_cosine_similarity</th>\n",
       "      <th>mean_similarity</th>\n",
       "    </tr>\n",
       "  </thead>\n",
       "  <tbody>\n",
       "    <tr>\n",
       "      <th>0</th>\n",
       "      <td>A bit expensive, but worth it for the spotless...</td>\n",
       "      <td>Ariel Powder Detergent – Whites Brighter, Even...</td>\n",
       "      <td>0.320531</td>\n",
       "      <td>0.06</td>\n",
       "      <td>0.528162</td>\n",
       "      <td>0.000000</td>\n",
       "      <td>0.828571</td>\n",
       "      <td>0.000000</td>\n",
       "      <td>0.000000</td>\n",
       "      <td>0.000000</td>\n",
       "      <td>0.000000</td>\n",
       "      <td>0.193029</td>\n",
       "    </tr>\n",
       "    <tr>\n",
       "      <th>1</th>\n",
       "      <td>A bit expensive, but worth it for the spotless...</td>\n",
       "      <td>Arm &amp; Hammer Powder Detergent – Great Value, L...</td>\n",
       "      <td>0.185006</td>\n",
       "      <td>0.07</td>\n",
       "      <td>0.571509</td>\n",
       "      <td>0.000000</td>\n",
       "      <td>0.882653</td>\n",
       "      <td>0.000000</td>\n",
       "      <td>0.000000</td>\n",
       "      <td>0.000000</td>\n",
       "      <td>0.000000</td>\n",
       "      <td>0.189908</td>\n",
       "    </tr>\n",
       "    <tr>\n",
       "      <th>2</th>\n",
       "      <td>A bit expensive, but worth it for the spotless...</td>\n",
       "      <td>Banana Boat Beach-Saver Sunscreen – No Burns, ...</td>\n",
       "      <td>0.206999</td>\n",
       "      <td>0.05</td>\n",
       "      <td>0.501615</td>\n",
       "      <td>0.000000</td>\n",
       "      <td>0.868151</td>\n",
       "      <td>0.000000</td>\n",
       "      <td>0.000000</td>\n",
       "      <td>0.000000</td>\n",
       "      <td>0.000000</td>\n",
       "      <td>0.180752</td>\n",
       "    </tr>\n",
       "    <tr>\n",
       "      <th>3</th>\n",
       "      <td>A bit expensive, but worth it for the spotless...</td>\n",
       "      <td>Cascade Complete Detergent – No Pre-Rinsing Ne...</td>\n",
       "      <td>0.229862</td>\n",
       "      <td>0.58</td>\n",
       "      <td>0.531118</td>\n",
       "      <td>0.000000</td>\n",
       "      <td>0.887048</td>\n",
       "      <td>0.000000</td>\n",
       "      <td>0.000000</td>\n",
       "      <td>0.000000</td>\n",
       "      <td>0.000000</td>\n",
       "      <td>0.247559</td>\n",
       "    </tr>\n",
       "    <tr>\n",
       "      <th>4</th>\n",
       "      <td>A bit expensive, but worth it for the spotless...</td>\n",
       "      <td>Cascade Platinum Detergent – Pricey, But Worth...</td>\n",
       "      <td>0.292193</td>\n",
       "      <td>0.61</td>\n",
       "      <td>0.779037</td>\n",
       "      <td>0.071429</td>\n",
       "      <td>0.900000</td>\n",
       "      <td>0.200000</td>\n",
       "      <td>0.068386</td>\n",
       "      <td>0.250000</td>\n",
       "      <td>0.234042</td>\n",
       "      <td>0.378343</td>\n",
       "    </tr>\n",
       "    <tr>\n",
       "      <th>...</th>\n",
       "      <td>...</td>\n",
       "      <td>...</td>\n",
       "      <td>...</td>\n",
       "      <td>...</td>\n",
       "      <td>...</td>\n",
       "      <td>...</td>\n",
       "      <td>...</td>\n",
       "      <td>...</td>\n",
       "      <td>...</td>\n",
       "      <td>...</td>\n",
       "      <td>...</td>\n",
       "      <td>...</td>\n",
       "    </tr>\n",
       "    <tr>\n",
       "      <th>3163</th>\n",
       "      <td>Works just as well as liquid detergents but at...</td>\n",
       "      <td>Supergoop Premium Sunscreen – Worth Every Penny</td>\n",
       "      <td>0.254728</td>\n",
       "      <td>0.04</td>\n",
       "      <td>0.420699</td>\n",
       "      <td>0.000000</td>\n",
       "      <td>0.859506</td>\n",
       "      <td>0.000000</td>\n",
       "      <td>0.000000</td>\n",
       "      <td>0.000000</td>\n",
       "      <td>0.000000</td>\n",
       "      <td>0.174993</td>\n",
       "    </tr>\n",
       "    <tr>\n",
       "      <th>3164</th>\n",
       "      <td>Works just as well as liquid detergents but at...</td>\n",
       "      <td>Tide Powder Detergent – Fresh, Clean Clothes E...</td>\n",
       "      <td>0.332952</td>\n",
       "      <td>0.59</td>\n",
       "      <td>0.733268</td>\n",
       "      <td>0.117647</td>\n",
       "      <td>0.875940</td>\n",
       "      <td>0.285714</td>\n",
       "      <td>0.085386</td>\n",
       "      <td>0.181818</td>\n",
       "      <td>0.100798</td>\n",
       "      <td>0.367058</td>\n",
       "    </tr>\n",
       "    <tr>\n",
       "      <th>3165</th>\n",
       "      <td>Works just as well as liquid detergents but at...</td>\n",
       "      <td>Yeti Thermal Mug – No More Cold Coffee!</td>\n",
       "      <td>0.283440</td>\n",
       "      <td>0.04</td>\n",
       "      <td>0.399320</td>\n",
       "      <td>0.000000</td>\n",
       "      <td>0.857519</td>\n",
       "      <td>0.000000</td>\n",
       "      <td>0.000000</td>\n",
       "      <td>0.000000</td>\n",
       "      <td>0.000000</td>\n",
       "      <td>0.175587</td>\n",
       "    </tr>\n",
       "    <tr>\n",
       "      <th>3166</th>\n",
       "      <td>Works just as well as liquid detergents but at...</td>\n",
       "      <td>Zojirushi Scalding Hot Coffee Mug – Best Insul...</td>\n",
       "      <td>0.210349</td>\n",
       "      <td>0.03</td>\n",
       "      <td>0.335985</td>\n",
       "      <td>0.000000</td>\n",
       "      <td>0.888926</td>\n",
       "      <td>0.000000</td>\n",
       "      <td>0.000000</td>\n",
       "      <td>0.000000</td>\n",
       "      <td>0.000000</td>\n",
       "      <td>0.162807</td>\n",
       "    </tr>\n",
       "    <tr>\n",
       "      <th>3167</th>\n",
       "      <td>Works just as well as liquid detergents but at...</td>\n",
       "      <td>Zojirushi Sleek Travel Mug – Perfect Fit for C...</td>\n",
       "      <td>0.189824</td>\n",
       "      <td>0.04</td>\n",
       "      <td>0.345818</td>\n",
       "      <td>0.000000</td>\n",
       "      <td>0.863158</td>\n",
       "      <td>0.000000</td>\n",
       "      <td>0.000000</td>\n",
       "      <td>0.000000</td>\n",
       "      <td>0.000000</td>\n",
       "      <td>0.159867</td>\n",
       "    </tr>\n",
       "  </tbody>\n",
       "</table>\n",
       "<p>3168 rows × 12 columns</p>\n",
       "</div>"
      ]
     },
     "execution_count": 154,
     "metadata": {},
     "output_type": "execute_result"
    }
   ],
   "execution_count": 154
  },
  {
   "metadata": {
    "ExecuteTime": {
     "end_time": "2024-10-27T20:06:14.599039Z",
     "start_time": "2024-10-27T20:06:14.572900Z"
    }
   },
   "cell_type": "code",
   "source": [
    "# top 5 most similar reviews for each product\n",
    "top_5_reviews = product_review_similarity_df.groupby('product').apply(lambda x: x.nlargest(5, 'mean_similarity')).reset_index(drop=True)\n",
    "top_5_reviews"
   ],
   "outputs": [
    {
     "data": {
      "text/plain": [
       "                                                review  \\\n",
       "0    It dissolves well, even in cold water. My whit...   \n",
       "1    Not as effective in hard water areas, but stil...   \n",
       "2    No complaints so far! My clothes feel clean an...   \n",
       "3    My go-to detergent for all of my family’s laun...   \n",
       "4    This powder leaves a residue on darker clothes...   \n",
       "..                                                 ...   \n",
       "155  Love the sleek design of my Zojirushi mug, and...   \n",
       "156  Durable, sleek, and it does exactly what it’s ...   \n",
       "157  It doesn’t leak, even when I toss it in my bag...   \n",
       "158  Keeps my coffee scalding hot for longer than a...   \n",
       "159  The size is perfect for travel, and it keeps d...   \n",
       "\n",
       "                                               product  bert_score  \\\n",
       "0    Ariel Powder Detergent – Whites Brighter, Even...    0.793219   \n",
       "1    Ariel Powder Detergent – Whites Brighter, Even...    0.497119   \n",
       "2    Ariel Powder Detergent – Whites Brighter, Even...    0.459216   \n",
       "3    Ariel Powder Detergent – Whites Brighter, Even...    0.418168   \n",
       "4    Ariel Powder Detergent – Whites Brighter, Even...    0.463387   \n",
       "..                                                 ...         ...   \n",
       "155  Zojirushi Sleek Travel Mug – Perfect Fit for C...    0.261325   \n",
       "156  Zojirushi Sleek Travel Mug – Perfect Fit for C...    0.484995   \n",
       "157  Zojirushi Sleek Travel Mug – Perfect Fit for C...    0.247505   \n",
       "158  Zojirushi Sleek Travel Mug – Perfect Fit for C...    0.275695   \n",
       "159  Zojirushi Sleek Travel Mug – Perfect Fit for C...    0.363544   \n",
       "\n",
       "     improved_bert_score  cosine_similarity  jaccard_similarity  \\\n",
       "0                   0.96           0.932605            0.500000   \n",
       "1                   0.61           0.674464            0.090909   \n",
       "2                   0.60           0.671717            0.111111   \n",
       "3                   0.60           0.607264            0.125000   \n",
       "4                   0.62           0.656631            0.090909   \n",
       "..                   ...                ...                 ...   \n",
       "155                 0.94           0.832717            0.000000   \n",
       "156                 0.05           0.655830            0.181818   \n",
       "157                 0.59           0.661086            0.066667   \n",
       "158                 0.90           0.544809            0.000000   \n",
       "159                 0.57           0.661915            0.000000   \n",
       "\n",
       "     levenshtein_distance  overlap_coefficient  bleu_score  rouge_score  \\\n",
       "0                0.865079             0.666667    0.727502     0.588235   \n",
       "1                0.840395             0.166667    0.148080     0.250000   \n",
       "2                0.858631             0.250000    0.153378     0.153846   \n",
       "3                0.845238             0.333333    0.130022     0.166667   \n",
       "4                0.849206             0.166667    0.148080     0.133333   \n",
       "..                    ...                  ...         ...          ...   \n",
       "155              0.866034             0.000000    0.000000     0.210526   \n",
       "156              0.889557             0.400000    0.144278     0.222222   \n",
       "157              0.875000             0.125000    0.105778     0.181818   \n",
       "158              0.883175             0.000000    0.000000     0.111111   \n",
       "159              0.877571             0.000000    0.000000     0.100000   \n",
       "\n",
       "     tfidf_cosine_similarity  mean_similarity  \n",
       "0                   0.660370         0.743742  \n",
       "1                   0.241961         0.391066  \n",
       "2                   0.066545         0.369383  \n",
       "3                   0.078709         0.367156  \n",
       "4                   0.042723         0.352326  \n",
       "..                       ...              ...  \n",
       "155                 0.256469         0.374119  \n",
       "156                 0.155871         0.353841  \n",
       "157                 0.138684         0.332393  \n",
       "158                 0.063729         0.308724  \n",
       "159                 0.068951         0.293554  \n",
       "\n",
       "[160 rows x 12 columns]"
      ],
      "text/html": [
       "<div>\n",
       "<style scoped>\n",
       "    .dataframe tbody tr th:only-of-type {\n",
       "        vertical-align: middle;\n",
       "    }\n",
       "\n",
       "    .dataframe tbody tr th {\n",
       "        vertical-align: top;\n",
       "    }\n",
       "\n",
       "    .dataframe thead th {\n",
       "        text-align: right;\n",
       "    }\n",
       "</style>\n",
       "<table border=\"1\" class=\"dataframe\">\n",
       "  <thead>\n",
       "    <tr style=\"text-align: right;\">\n",
       "      <th></th>\n",
       "      <th>review</th>\n",
       "      <th>product</th>\n",
       "      <th>bert_score</th>\n",
       "      <th>improved_bert_score</th>\n",
       "      <th>cosine_similarity</th>\n",
       "      <th>jaccard_similarity</th>\n",
       "      <th>levenshtein_distance</th>\n",
       "      <th>overlap_coefficient</th>\n",
       "      <th>bleu_score</th>\n",
       "      <th>rouge_score</th>\n",
       "      <th>tfidf_cosine_similarity</th>\n",
       "      <th>mean_similarity</th>\n",
       "    </tr>\n",
       "  </thead>\n",
       "  <tbody>\n",
       "    <tr>\n",
       "      <th>0</th>\n",
       "      <td>It dissolves well, even in cold water. My whit...</td>\n",
       "      <td>Ariel Powder Detergent – Whites Brighter, Even...</td>\n",
       "      <td>0.793219</td>\n",
       "      <td>0.96</td>\n",
       "      <td>0.932605</td>\n",
       "      <td>0.500000</td>\n",
       "      <td>0.865079</td>\n",
       "      <td>0.666667</td>\n",
       "      <td>0.727502</td>\n",
       "      <td>0.588235</td>\n",
       "      <td>0.660370</td>\n",
       "      <td>0.743742</td>\n",
       "    </tr>\n",
       "    <tr>\n",
       "      <th>1</th>\n",
       "      <td>Not as effective in hard water areas, but stil...</td>\n",
       "      <td>Ariel Powder Detergent – Whites Brighter, Even...</td>\n",
       "      <td>0.497119</td>\n",
       "      <td>0.61</td>\n",
       "      <td>0.674464</td>\n",
       "      <td>0.090909</td>\n",
       "      <td>0.840395</td>\n",
       "      <td>0.166667</td>\n",
       "      <td>0.148080</td>\n",
       "      <td>0.250000</td>\n",
       "      <td>0.241961</td>\n",
       "      <td>0.391066</td>\n",
       "    </tr>\n",
       "    <tr>\n",
       "      <th>2</th>\n",
       "      <td>No complaints so far! My clothes feel clean an...</td>\n",
       "      <td>Ariel Powder Detergent – Whites Brighter, Even...</td>\n",
       "      <td>0.459216</td>\n",
       "      <td>0.60</td>\n",
       "      <td>0.671717</td>\n",
       "      <td>0.111111</td>\n",
       "      <td>0.858631</td>\n",
       "      <td>0.250000</td>\n",
       "      <td>0.153378</td>\n",
       "      <td>0.153846</td>\n",
       "      <td>0.066545</td>\n",
       "      <td>0.369383</td>\n",
       "    </tr>\n",
       "    <tr>\n",
       "      <th>3</th>\n",
       "      <td>My go-to detergent for all of my family’s laun...</td>\n",
       "      <td>Ariel Powder Detergent – Whites Brighter, Even...</td>\n",
       "      <td>0.418168</td>\n",
       "      <td>0.60</td>\n",
       "      <td>0.607264</td>\n",
       "      <td>0.125000</td>\n",
       "      <td>0.845238</td>\n",
       "      <td>0.333333</td>\n",
       "      <td>0.130022</td>\n",
       "      <td>0.166667</td>\n",
       "      <td>0.078709</td>\n",
       "      <td>0.367156</td>\n",
       "    </tr>\n",
       "    <tr>\n",
       "      <th>4</th>\n",
       "      <td>This powder leaves a residue on darker clothes...</td>\n",
       "      <td>Ariel Powder Detergent – Whites Brighter, Even...</td>\n",
       "      <td>0.463387</td>\n",
       "      <td>0.62</td>\n",
       "      <td>0.656631</td>\n",
       "      <td>0.090909</td>\n",
       "      <td>0.849206</td>\n",
       "      <td>0.166667</td>\n",
       "      <td>0.148080</td>\n",
       "      <td>0.133333</td>\n",
       "      <td>0.042723</td>\n",
       "      <td>0.352326</td>\n",
       "    </tr>\n",
       "    <tr>\n",
       "      <th>...</th>\n",
       "      <td>...</td>\n",
       "      <td>...</td>\n",
       "      <td>...</td>\n",
       "      <td>...</td>\n",
       "      <td>...</td>\n",
       "      <td>...</td>\n",
       "      <td>...</td>\n",
       "      <td>...</td>\n",
       "      <td>...</td>\n",
       "      <td>...</td>\n",
       "      <td>...</td>\n",
       "      <td>...</td>\n",
       "    </tr>\n",
       "    <tr>\n",
       "      <th>155</th>\n",
       "      <td>Love the sleek design of my Zojirushi mug, and...</td>\n",
       "      <td>Zojirushi Sleek Travel Mug – Perfect Fit for C...</td>\n",
       "      <td>0.261325</td>\n",
       "      <td>0.94</td>\n",
       "      <td>0.832717</td>\n",
       "      <td>0.000000</td>\n",
       "      <td>0.866034</td>\n",
       "      <td>0.000000</td>\n",
       "      <td>0.000000</td>\n",
       "      <td>0.210526</td>\n",
       "      <td>0.256469</td>\n",
       "      <td>0.374119</td>\n",
       "    </tr>\n",
       "    <tr>\n",
       "      <th>156</th>\n",
       "      <td>Durable, sleek, and it does exactly what it’s ...</td>\n",
       "      <td>Zojirushi Sleek Travel Mug – Perfect Fit for C...</td>\n",
       "      <td>0.484995</td>\n",
       "      <td>0.05</td>\n",
       "      <td>0.655830</td>\n",
       "      <td>0.181818</td>\n",
       "      <td>0.889557</td>\n",
       "      <td>0.400000</td>\n",
       "      <td>0.144278</td>\n",
       "      <td>0.222222</td>\n",
       "      <td>0.155871</td>\n",
       "      <td>0.353841</td>\n",
       "    </tr>\n",
       "    <tr>\n",
       "      <th>157</th>\n",
       "      <td>It doesn’t leak, even when I toss it in my bag...</td>\n",
       "      <td>Zojirushi Sleek Travel Mug – Perfect Fit for C...</td>\n",
       "      <td>0.247505</td>\n",
       "      <td>0.59</td>\n",
       "      <td>0.661086</td>\n",
       "      <td>0.066667</td>\n",
       "      <td>0.875000</td>\n",
       "      <td>0.125000</td>\n",
       "      <td>0.105778</td>\n",
       "      <td>0.181818</td>\n",
       "      <td>0.138684</td>\n",
       "      <td>0.332393</td>\n",
       "    </tr>\n",
       "    <tr>\n",
       "      <th>158</th>\n",
       "      <td>Keeps my coffee scalding hot for longer than a...</td>\n",
       "      <td>Zojirushi Sleek Travel Mug – Perfect Fit for C...</td>\n",
       "      <td>0.275695</td>\n",
       "      <td>0.90</td>\n",
       "      <td>0.544809</td>\n",
       "      <td>0.000000</td>\n",
       "      <td>0.883175</td>\n",
       "      <td>0.000000</td>\n",
       "      <td>0.000000</td>\n",
       "      <td>0.111111</td>\n",
       "      <td>0.063729</td>\n",
       "      <td>0.308724</td>\n",
       "    </tr>\n",
       "    <tr>\n",
       "      <th>159</th>\n",
       "      <td>The size is perfect for travel, and it keeps d...</td>\n",
       "      <td>Zojirushi Sleek Travel Mug – Perfect Fit for C...</td>\n",
       "      <td>0.363544</td>\n",
       "      <td>0.57</td>\n",
       "      <td>0.661915</td>\n",
       "      <td>0.000000</td>\n",
       "      <td>0.877571</td>\n",
       "      <td>0.000000</td>\n",
       "      <td>0.000000</td>\n",
       "      <td>0.100000</td>\n",
       "      <td>0.068951</td>\n",
       "      <td>0.293554</td>\n",
       "    </tr>\n",
       "  </tbody>\n",
       "</table>\n",
       "<p>160 rows × 12 columns</p>\n",
       "</div>"
      ]
     },
     "execution_count": 156,
     "metadata": {},
     "output_type": "execute_result"
    }
   ],
   "execution_count": 156
  }
 ],
 "metadata": {
  "colab": {
   "provenance": []
  },
  "kernelspec": {
   "display_name": "Python 3 (ipykernel)",
   "name": "python3",
   "language": "python"
  },
  "language_info": {
   "name": "python"
  }
 },
 "nbformat": 4,
 "nbformat_minor": 0
}

{
  "cells": [
    {
      "cell_type": "markdown",
      "metadata": {},
      "source": [
        "Author: Grzegorz Zbrzeżny"
      ]
    },
    {
      "cell_type": "code",
      "execution_count": 135,
      "metadata": {
        "id": "KCOqjDICZMj3"
      },
      "outputs": [],
      "source": [
        "from transformers import AutoTokenizer, AutoModel\n",
        "import torch\n",
        "from sklearn.metrics.pairwise import cosine_similarity\n",
        "import pandas as pd"
      ]
    },
    {
      "cell_type": "markdown",
      "metadata": {
        "id": "ZGAhysLgwqyK"
      },
      "source": [
        "**Prompt used for all the models:**\n",
        "given: reviews = [\n",
        "    \"Keeps my coffee hot for hours—just what I need for long workdays. Thanks, Contigo.\",\n",
        "    \"The lid isn’t leak-proof, but it keeps drinks warm for a decent amount of time.\",\n",
        "    \"Love the sleek design of my Zojirushi mug, and it fits perfectly in my car cup holder!\",\n",
        "    \"It’s lightweight but keeps my drinks at the right temperature for hours with Hydro Flask.\",    \"My dishes come out sparkling clean every time with Cascade. Love this detergent!\",\n",
        "    \"It works well on glass, but I’ve noticed spots on my silverware.\",\n",
        "    \"Great for tough, greasy messes. Leaves no residue! Thanks, Finish.\",     \"Absorbs quickly and doesn’t leave a greasy residue. Great for daily use with Neutrogena.\",\n",
        "    \"The scent is a little strong, but it protects well with Coppertone.\",\n",
        "    \"Perfect for sensitive skin! No breakouts or irritation with La Roche-Posay.\",]\n",
        "    Analyze the following review text and extract the following information:\n",
        "    - Product category\n",
        "    - Brand name if mentioned\n",
        "    - Key attributes or descriptors\n",
        "    Review: \"{review}\"\n",
        "    Please return the result in JSON format as:\n",
        "    {{\n",
        "        \"product_category\": \"your answer\",\n",
        "        \"brand\": \"your answer\",\n",
        "        \"key_descriptors\": [\"descriptor1\", \"descriptor2\", ...]\n",
        "    }}"
      ]
    },
    {
      "cell_type": "code",
      "execution_count": 159,
      "metadata": {
        "id": "LThjNS-TXYpn"
      },
      "outputs": [],
      "source": [
        "reviews = [\n",
        "    \"Keeps my coffee hot for hours—just what I need for long workdays. Thanks, Contigo.\",\n",
        "    \"The lid isn’t leak-proof, but it keeps drinks warm for a decent amount of time.\",\n",
        "    \"Love the sleek design of my Zojirushi mug, and it fits perfectly in my car cup holder!\",\n",
        "    \"It’s lightweight but keeps my drinks at the right temperature for hours with Hydro Flask.\",\n",
        "    \"My dishes come out sparkling clean every time with Cascade. Love this detergent!\",\n",
        "    \"It works well on glass, but I’ve noticed spots on my silverware.\",\n",
        "    \"Great for tough, greasy messes. Leaves no residue! Thanks, Finish.\",\n",
        "    \"Absorbs quickly and doesn’t leave a greasy residue. Great for daily use with Neutrogena.\",\n",
        "    \"The scent is a little strong, but it protects well with Coppertone.\",\n",
        "    \"Perfect for sensitive skin! No breakouts or irritation with La Roche-Posay.\"\n",
        "]\n",
        "\n",
        "# Output generated from Chat GPT-4o using OpenAI UI, since Python API is not free :(\n",
        "gpt_llm_output = [\n",
        "    {\n",
        "        \"product_category\": \"Travel Mugs\",\n",
        "        \"brand\": \"Contigo\",\n",
        "        \"key_descriptors\": [\"keeps coffee hot\", \"for hours\", \"long workdays\"]\n",
        "    },\n",
        "    {\n",
        "        \"product_category\": \"Travel Mugs\",\n",
        "        \"brand\": \"Unknown\",\n",
        "        \"key_descriptors\": [\"not leak-proof\", \"keeps drinks warm\", \"decent amount of time\"]\n",
        "    },\n",
        "    {\n",
        "        \"product_category\": \"Travel Mugs\",\n",
        "        \"brand\": \"Zojirushi\",\n",
        "        \"key_descriptors\": [\"sleek design\", \"fits in car cup holder\"]\n",
        "    },\n",
        "    {\n",
        "        \"product_category\": \"Travel Mugs\",\n",
        "        \"brand\": \"Hydro Flask\",\n",
        "        \"key_descriptors\": [\"lightweight\", \"keeps drinks at right temperature\", \"for hours\"]\n",
        "    },\n",
        "    {\n",
        "        \"product_category\": \"Dish Detergents\",\n",
        "        \"brand\": \"Cascade\",\n",
        "        \"key_descriptors\": [\"sparkling clean\", \"every time\"]\n",
        "    },\n",
        "    {\n",
        "        \"product_category\": \"Dish Detergents\",\n",
        "        \"brand\": \"Unknown\",\n",
        "        \"key_descriptors\": [\"works well on glass\", \"noticing spots on silverware\"]\n",
        "    },\n",
        "    {\n",
        "        \"product_category\": \"Dish Detergents\",\n",
        "        \"brand\": \"Finish\",\n",
        "        \"key_descriptors\": [\"great for tough messes\", \"leaves no residue\"]\n",
        "    },\n",
        "    {\n",
        "        \"product_category\": \"Moisturizer\",\n",
        "        \"brand\": \"Neutrogena\",\n",
        "        \"key_descriptors\": [\"absorbs quickly\", \"doesn't leave greasy residue\", \"great for daily use\"]\n",
        "    },\n",
        "    {\n",
        "        \"product_category\": \"Sunscreen\",\n",
        "        \"brand\": \"Coppertone\",\n",
        "        \"key_descriptors\": [\"strong scent\", \"protects well\"]\n",
        "    },\n",
        "    {\n",
        "        \"product_category\": \"Moisturizer\",\n",
        "        \"brand\": \"La Roche-Posay\",\n",
        "        \"key_descriptors\": [\"perfect for sensitive skin\", \"no breakouts\", \"no irritation\"]\n",
        "    }\n",
        "]\n",
        "\n",
        "\n",
        "# Output from claude-3-5-sonnet-20241022\n",
        "claude_llm_output = [\n",
        "  {\n",
        "  \"product_category\": \"Thermal Mugs\",\n",
        "  \"brand\": \"Contigo\",\n",
        "  \"key_descriptors\": [\"keeps hot for hours\", \"suitable for workdays\"]\n",
        "  },\n",
        "  {\n",
        "  \"product_category\": \"Thermal Mugs\",\n",
        "  \"brand\": \"Unknown\",\n",
        "  \"key_descriptors\": [\"not leak-proof\", \"keeps drinks warm\", \"decent duration\"]\n",
        "  },\n",
        "  {\n",
        "  \"product_category\": \"Thermal Mugs\",\n",
        "  \"brand\": \"Zojirushi\",\n",
        "  \"key_descriptors\": [\"sleek design\", \"fits car cup holder\"]\n",
        "  },\n",
        "  {\n",
        "  \"product_category\": \"Thermal Mugs\",\n",
        "  \"brand\": \"Hydro Flask\",\n",
        "  \"key_descriptors\": [\"lightweight\", \"temperature retention\", \"long-lasting\"]\n",
        "  },\n",
        "  {\n",
        "  \"product_category\": \"Dishwasher Detergents\",\n",
        "  \"brand\": \"Cascade\",\n",
        "  \"key_descriptors\": [\"sparkling clean\", \"consistent results\"]\n",
        "  },\n",
        "  {\n",
        "  \"product_category\": \"Dishwasher Detergents\",\n",
        "  \"brand\": \"Unknown\",\n",
        "  \"key_descriptors\": [\"good for glass\", \"spots on silverware\"]\n",
        "  },\n",
        "  {\n",
        "  \"product_category\": \"Dishwasher Detergents\",\n",
        "  \"brand\": \"Finish\",\n",
        "  \"key_descriptors\": [\"handles tough grease\", \"no residue\"]\n",
        "  },\n",
        "  {\n",
        "  \"product_category\": \"Skincare Products\",\n",
        "  \"brand\": \"Neutrogena\",\n",
        "  \"key_descriptors\": [\"quick absorption\", \"non-greasy\", \"daily use\"]\n",
        "  },\n",
        "  {\n",
        "  \"product_category\": \"Sunscreen\",\n",
        "  \"brand\": \"Coppertone\",\n",
        "  \"key_descriptors\": [\"strong scent\", \"good protection\"]\n",
        "  },\n",
        "  {\n",
        "  \"product_category\": \"Skincare Products\",\n",
        "  \"brand\": \"La Roche-Posay\",\n",
        "  \"key_descriptors\": [\"suitable for sensitive skin\", \"no breakouts\", \"no irritation\"]\n",
        "  }\n",
        "]\n",
        "\n",
        "# Output from gemini-1.5-pro-002\n",
        "gemini_llm_output = [\n",
        "{\n",
        "  \"product_category\": \"Coffee Thermos/Travel Mug\",\n",
        "  \"brand\": \"Contigo\",\n",
        "  \"key_descriptors\": [\"keeps coffee hot for hours\", \"long workdays\"]\n",
        "},\n",
        "{\n",
        "  \"product_category\": \"Coffee Thermos/Travel Mug\",\n",
        "  \"brand\": \"Unknown\",\n",
        "  \"key_descriptors\": [\"lid isn’t leak-proof\", \"keeps drinks warm\"]\n",
        "},\n",
        "{\n",
        "  \"product_category\": \"Coffee Thermos/Travel Mug\",\n",
        "  \"brand\": \"Zojirushi\",\n",
        "  \"key_descriptors\": [\"sleek design\", \"fits in car cup holder\"]\n",
        "},\n",
        "{\n",
        "  \"product_category\": \"Coffee Thermos/Travel Mug\",\n",
        "  \"brand\": \"Hydro Flask\",\n",
        "  \"key_descriptors\": [\"lightweight\", \"keeps drinks at the right temperature for hours\"]\n",
        "},\n",
        "{\n",
        "  \"product_category\": \"Dish Detergent\",\n",
        "  \"brand\": \"Cascade\",\n",
        "  \"key_descriptors\": [\"sparkling clean dishes\", \"every time\"]\n",
        "},\n",
        "{\n",
        "  \"product_category\": \"Dish Detergent\",\n",
        "  \"brand\": \"Unknown\",\n",
        "  \"key_descriptors\": [\"works well on glass\", \"spots on silverware\"]\n",
        "},\n",
        "{\n",
        "  \"product_category\": \"Dish Detergent\",\n",
        "  \"brand\": \"Finish\",\n",
        "  \"key_descriptors\": [\"tough, greasy messes\", \"leaves no residue\"]\n",
        "},\n",
        "{\n",
        "  \"product_category\": \"Skincare/Moisturizer\",\n",
        "  \"brand\": \"Neutrogena\",\n",
        "  \"key_descriptors\": [\"absorbs quickly\", \"doesn’t leave a greasy residue\", \"daily use\"]\n",
        "},\n",
        "{\n",
        "  \"product_category\": \"Sunscreen\",\n",
        "  \"brand\": \"Coppertone\",\n",
        "  \"key_descriptors\": [\"strong scent\", \"protects well\"]\n",
        "},\n",
        "{\n",
        "  \"product_category\": \"Skincare/Face Moisturizer\",\n",
        "  \"brand\": \"La Roche-Posay\",\n",
        "  \"key_descriptors\": [\"sensitive skin\", \"no breakouts or irritation\"]\n",
        "}\n",
        "]"
      ]
    },
    {
      "cell_type": "code",
      "execution_count": 160,
      "metadata": {
        "id": "faskLy8RZWwH"
      },
      "outputs": [],
      "source": [
        "def get_embeddings(texts):\n",
        "    inputs = tokenizer(texts, padding=True, truncation=True, return_tensors=\"pt\")\n",
        "    with torch.no_grad():\n",
        "        outputs = model(**inputs)\n",
        "    embeddings = outputs.last_hidden_state.mean(dim=1)\n",
        "    return embeddings"
      ]
    },
    {
      "cell_type": "code",
      "execution_count": 161,
      "metadata": {
        "id": "fZEF2P-yyCEa"
      },
      "outputs": [],
      "source": [
        "def calc_similarities(model_output, model_name):\n",
        "  df = pd.DataFrame(model_output)\n",
        "  df['review'] = reviews\n",
        "\n",
        "  tokenizer = AutoTokenizer.from_pretrained(\"distilbert-base-uncased\")\n",
        "  model = AutoModel.from_pretrained(\"distilbert-base-uncased\")\n",
        "\n",
        "  product_categories = [str(i) for i in df['product_category'].unique()]\n",
        "  product_embeddings = get_embeddings(product_categories)\n",
        "  review_embeddings = get_embeddings(reviews)\n",
        "\n",
        "  similarity_matrix = cosine_similarity(review_embeddings, product_embeddings)\n",
        "\n",
        "  similarity_df = pd.DataFrame(similarity_matrix, index=reviews, columns=product_categories)\n",
        "  print(f\"\\nSimilarity Scores between Reviews and Product Categories for model {model_name}:\")\n",
        "\n",
        "  for category in product_categories:\n",
        "      similar_reviews = similarity_df[category].nlargest(3)\n",
        "      print(f\"\\nTop similar reviews for category '{category}':\")\n",
        "      print(similar_reviews)\n"
      ]
    },
    {
      "cell_type": "markdown",
      "metadata": {
        "id": "3XtMI0Wbx6IN"
      },
      "source": [
        "### GPT-40"
      ]
    },
    {
      "cell_type": "code",
      "execution_count": 156,
      "metadata": {
        "colab": {
          "base_uri": "https://localhost:8080/"
        },
        "id": "NjJUGZ7hZGfi",
        "outputId": "838c5e5a-9f5f-49ed-9324-d86238fbde63"
      },
      "outputs": [
        {
          "name": "stderr",
          "output_type": "stream",
          "text": [
            "/usr/local/lib/python3.10/dist-packages/transformers/tokenization_utils_base.py:1601: FutureWarning: `clean_up_tokenization_spaces` was not set. It will be set to `True` by default. This behavior will be depracted in transformers v4.45, and will be then set to `False` by default. For more details check this issue: https://github.com/huggingface/transformers/issues/31884\n",
            "  warnings.warn(\n"
          ]
        },
        {
          "name": "stdout",
          "output_type": "stream",
          "text": [
            "\n",
            "Similarity Scores between Reviews and Product Categories for model GPT-4o:\n",
            "\n",
            "Top similar reviews for category 'Travel Mugs':\n",
            "Love the sleek design of my Zojirushi mug, and it fits perfectly in my car cup holder!       0.683088\n",
            "It’s lightweight but keeps my drinks at the right temperature for hours with Hydro Flask.    0.676094\n",
            "It works well on glass, but I’ve noticed spots on my silverware.                             0.672872\n",
            "Name: Travel Mugs, dtype: float32\n",
            "\n",
            "Top similar reviews for category 'Dish Detergents':\n",
            "My dishes come out sparkling clean every time with Cascade. Love this detergent!            0.710427\n",
            "Absorbs quickly and doesn’t leave a greasy residue. Great for daily use with Neutrogena.    0.709854\n",
            "The scent is a little strong, but it protects well with Coppertone.                         0.668281\n",
            "Name: Dish Detergents, dtype: float32\n",
            "\n",
            "Top similar reviews for category 'Moisturizer':\n",
            "Absorbs quickly and doesn’t leave a greasy residue. Great for daily use with Neutrogena.     0.691890\n",
            "It’s lightweight but keeps my drinks at the right temperature for hours with Hydro Flask.    0.675500\n",
            "Perfect for sensitive skin! No breakouts or irritation with La Roche-Posay.                  0.675013\n",
            "Name: Moisturizer, dtype: float32\n",
            "\n",
            "Top similar reviews for category 'Sunscreen':\n",
            "Perfect for sensitive skin! No breakouts or irritation with La Roche-Posay.    0.682726\n",
            "It works well on glass, but I’ve noticed spots on my silverware.               0.654432\n",
            "The scent is a little strong, but it protects well with Coppertone.            0.650734\n",
            "Name: Sunscreen, dtype: float32\n"
          ]
        }
      ],
      "source": [
        "calc_similarities(gpt_llm_output, \"GPT-4o\")"
      ]
    },
    {
      "cell_type": "markdown",
      "metadata": {
        "id": "7GB2Pb6iydyV"
      },
      "source": [
        "### Claude"
      ]
    },
    {
      "cell_type": "code",
      "execution_count": 162,
      "metadata": {
        "colab": {
          "base_uri": "https://localhost:8080/"
        },
        "id": "gdPNfiuVyeqe",
        "outputId": "29618f9f-5390-4b3b-f818-9cfcff2d0ba5"
      },
      "outputs": [
        {
          "name": "stderr",
          "output_type": "stream",
          "text": [
            "/usr/local/lib/python3.10/dist-packages/transformers/tokenization_utils_base.py:1601: FutureWarning: `clean_up_tokenization_spaces` was not set. It will be set to `True` by default. This behavior will be depracted in transformers v4.45, and will be then set to `False` by default. For more details check this issue: https://github.com/huggingface/transformers/issues/31884\n",
            "  warnings.warn(\n"
          ]
        },
        {
          "name": "stdout",
          "output_type": "stream",
          "text": [
            "\n",
            "Similarity Scores between Reviews and Product Categories for model Claude:\n",
            "\n",
            "Top similar reviews for category 'Thermal Mugs':\n",
            "It’s lightweight but keeps my drinks at the right temperature for hours with Hydro Flask.    0.721836\n",
            "Perfect for sensitive skin! No breakouts or irritation with La Roche-Posay.                  0.705778\n",
            "Great for tough, greasy messes. Leaves no residue! Thanks, Finish.                           0.703471\n",
            "Name: Thermal Mugs, dtype: float32\n",
            "\n",
            "Top similar reviews for category 'Dishwasher Detergents':\n",
            "My dishes come out sparkling clean every time with Cascade. Love this detergent!            0.725572\n",
            "Absorbs quickly and doesn’t leave a greasy residue. Great for daily use with Neutrogena.    0.722025\n",
            "The lid isn’t leak-proof, but it keeps drinks warm for a decent amount of time.             0.681905\n",
            "Name: Dishwasher Detergents, dtype: float32\n",
            "\n",
            "Top similar reviews for category 'Skincare Products':\n",
            "Perfect for sensitive skin! No breakouts or irritation with La Roche-Posay.                 0.738672\n",
            "Absorbs quickly and doesn’t leave a greasy residue. Great for daily use with Neutrogena.    0.702168\n",
            "The scent is a little strong, but it protects well with Coppertone.                         0.681924\n",
            "Name: Skincare Products, dtype: float32\n",
            "\n",
            "Top similar reviews for category 'Sunscreen':\n",
            "Perfect for sensitive skin! No breakouts or irritation with La Roche-Posay.    0.725548\n",
            "It works well on glass, but I’ve noticed spots on my silverware.               0.681066\n",
            "The scent is a little strong, but it protects well with Coppertone.            0.677358\n",
            "Name: Sunscreen, dtype: float32\n"
          ]
        }
      ],
      "source": [
        "calc_similarities(claude_llm_output, \"Claude\")"
      ]
    },
    {
      "cell_type": "markdown",
      "metadata": {
        "id": "1Io9J3nP0LML"
      },
      "source": [
        "### Gemini"
      ]
    },
    {
      "cell_type": "code",
      "execution_count": 163,
      "metadata": {
        "colab": {
          "base_uri": "https://localhost:8080/"
        },
        "id": "IZSd9w9vyiaG",
        "outputId": "f79e3f96-c27c-4dba-ddd0-72080d2566e8"
      },
      "outputs": [
        {
          "name": "stderr",
          "output_type": "stream",
          "text": [
            "/usr/local/lib/python3.10/dist-packages/transformers/tokenization_utils_base.py:1601: FutureWarning: `clean_up_tokenization_spaces` was not set. It will be set to `True` by default. This behavior will be depracted in transformers v4.45, and will be then set to `False` by default. For more details check this issue: https://github.com/huggingface/transformers/issues/31884\n",
            "  warnings.warn(\n"
          ]
        },
        {
          "name": "stdout",
          "output_type": "stream",
          "text": [
            "\n",
            "Similarity Scores between Reviews and Product Categories for model Gemini:\n",
            "\n",
            "Top similar reviews for category 'Coffee Thermos/Travel Mug':\n",
            "It’s lightweight but keeps my drinks at the right temperature for hours with Hydro Flask.    0.782012\n",
            "Keeps my coffee hot for hours—just what I need for long workdays. Thanks, Contigo.           0.743864\n",
            "Love the sleek design of my Zojirushi mug, and it fits perfectly in my car cup holder!       0.728084\n",
            "Name: Coffee Thermos/Travel Mug, dtype: float32\n",
            "\n",
            "Top similar reviews for category 'Dish Detergent':\n",
            "My dishes come out sparkling clean every time with Cascade. Love this detergent!            0.744092\n",
            "Perfect for sensitive skin! No breakouts or irritation with La Roche-Posay.                 0.701452\n",
            "Absorbs quickly and doesn’t leave a greasy residue. Great for daily use with Neutrogena.    0.695096\n",
            "Name: Dish Detergent, dtype: float32\n",
            "\n",
            "Top similar reviews for category 'Skincare/Moisturizer':\n",
            "Absorbs quickly and doesn’t leave a greasy residue. Great for daily use with Neutrogena.    0.744338\n",
            "Perfect for sensitive skin! No breakouts or irritation with La Roche-Posay.                 0.726780\n",
            "My dishes come out sparkling clean every time with Cascade. Love this detergent!            0.686732\n",
            "Name: Skincare/Moisturizer, dtype: float32\n",
            "\n",
            "Top similar reviews for category 'Sunscreen':\n",
            "Perfect for sensitive skin! No breakouts or irritation with La Roche-Posay.    0.731767\n",
            "It works well on glass, but I’ve noticed spots on my silverware.               0.682687\n",
            "The scent is a little strong, but it protects well with Coppertone.            0.679225\n",
            "Name: Sunscreen, dtype: float32\n",
            "\n",
            "Top similar reviews for category 'Skincare/Face Moisturizer':\n",
            "Perfect for sensitive skin! No breakouts or irritation with La Roche-Posay.                 0.738494\n",
            "Absorbs quickly and doesn’t leave a greasy residue. Great for daily use with Neutrogena.    0.738475\n",
            "My dishes come out sparkling clean every time with Cascade. Love this detergent!            0.680033\n",
            "Name: Skincare/Face Moisturizer, dtype: float32\n"
          ]
        }
      ],
      "source": [
        "calc_similarities(gemini_llm_output, \"Gemini\")"
      ]
    },
    {
      "cell_type": "code",
      "execution_count": null,
      "metadata": {
        "id": "E0Hwx67l0Oge"
      },
      "outputs": [],
      "source": []
    }
  ],
  "metadata": {
    "colab": {
      "provenance": []
    },
    "kernelspec": {
      "display_name": "Python 3",
      "name": "python3"
    },
    "language_info": {
      "name": "python"
    }
  },
  "nbformat": 4,
  "nbformat_minor": 0
}

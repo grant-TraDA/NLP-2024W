{
 "cells": [
  {
   "cell_type": "markdown",
   "metadata": {},
   "source": [
    "## **Comparing Word Embeddings for IMDB Sentiment Analysis**\n",
    "---\n",
    "\n",
    "### **Submitted By:**\n",
    "- **Gizachew Bayness Kassa**\n",
    "\n",
    "---\n",
    "\n",
    "### ** Task Explanation:**\n",
    "\n",
    "- This notebook compares the performance of various word embeddings (Word2Vec, FastText, GloVe, and BERT) on the IMDB sentiment analysis dataset.\n",
    "- Due to computational constraints on a CPU-only system, the BERT model is evaluated on a stratified subset of 5000 samples from the training and testing datasets.\n",
    "- Processing the full IMDB dataset with BERT embeddings on a CPU previously caused system freezes.\n",
    "- Word2Vec, FastText, and GloVe embeddings use the full dataset as they are less resource-intensive compared to BERT.\n",
    "\n",
    "---\n"
   ]
  },
  {
   "cell_type": "code",
   "execution_count": 14,
   "metadata": {},
   "outputs": [],
   "source": [
    "# Import necessary libraries\n",
    "import numpy as np\n",
    "import pandas as pd\n",
    "from datasets import load_dataset\n",
    "import gensim.downloader as api\n",
    "import re\n",
    "from transformers import AutoTokenizer, AutoModel\n",
    "import torch\n",
    "from sklearn.linear_model import LogisticRegression\n",
    "from sklearn.model_selection import train_test_split\n",
    "from sklearn.metrics import precision_recall_fscore_support, accuracy_score\n",
    "from nltk.tokenize import word_tokenize\n",
    "from nltk.corpus import stopwords\n",
    "import nltk\n"
   ]
  },
  {
   "cell_type": "code",
   "execution_count": 15,
   "metadata": {},
   "outputs": [
    {
     "name": "stderr",
     "output_type": "stream",
     "text": [
      "[nltk_data] Downloading package punkt to /home/gizachew/nltk_data...\n",
      "[nltk_data]   Package punkt is already up-to-date!\n",
      "[nltk_data] Downloading package stopwords to\n",
      "[nltk_data]     /home/gizachew/nltk_data...\n",
      "[nltk_data]   Package stopwords is already up-to-date!\n"
     ]
    },
    {
     "data": {
      "text/plain": [
       "True"
      ]
     },
     "execution_count": 15,
     "metadata": {},
     "output_type": "execute_result"
    }
   ],
   "source": [
    "# Download NLTK data\n",
    "nltk.download('punkt')\n",
    "nltk.download('stopwords')"
   ]
  },
  {
   "cell_type": "code",
   "execution_count": 16,
   "metadata": {},
   "outputs": [
    {
     "data": {
      "text/plain": [
       "DatasetDict({\n",
       "    train: Dataset({\n",
       "        features: ['text', 'label'],\n",
       "        num_rows: 25000\n",
       "    })\n",
       "    test: Dataset({\n",
       "        features: ['text', 'label'],\n",
       "        num_rows: 25000\n",
       "    })\n",
       "    unsupervised: Dataset({\n",
       "        features: ['text', 'label'],\n",
       "        num_rows: 50000\n",
       "    })\n",
       "})"
      ]
     },
     "execution_count": 16,
     "metadata": {},
     "output_type": "execute_result"
    }
   ],
   "source": [
    "# Load IMDB dataset\n",
    "dataset = load_dataset(\"stanfordnlp/imdb\")\n",
    "dataset"
   ]
  },
  {
   "cell_type": "code",
   "execution_count": 17,
   "metadata": {},
   "outputs": [],
   "source": [
    "# Split the dataset into training and testing sets\n",
    "train_texts = dataset['train']['text']\n",
    "train_labels = dataset['train']['label']\n",
    "test_texts = dataset['test']['text']\n",
    "test_labels = dataset['test']['label']"
   ]
  },
  {
   "cell_type": "code",
   "execution_count": 18,
   "metadata": {},
   "outputs": [],
   "source": [
    "# Preprocessing using NLTK\n",
    "stop_words = set(stopwords.words('english'))\n",
    "\n",
    "def preprocess_text(text):\n",
    "    \"\"\"\n",
    "    Preprocesses text by removing stopwords, lowercasing, and tokenizing.\n",
    "\n",
    "    Args:\n",
    "        text (str): The text to preprocess.\n",
    "\n",
    "    Returns:\n",
    "        str: Preprocessed text.\n",
    "    \"\"\"\n",
    "    text = text.lower()\n",
    "    text = re.sub(r\"[^a-zA-Z0-9\\s]\", \"\", text)  # Remove special characters\n",
    "    tokens = word_tokenize(text)  # Tokenize\n",
    "    tokens = [word for word in tokens if word not in stop_words]  # Remove stopwords\n",
    "    return \" \".join(tokens)\n",
    "\n",
    "# Apply preprocessing to training and testing texts\n",
    "train_texts = [preprocess_text(text) for text in train_texts]\n",
    "test_texts = [preprocess_text(text) for text in test_texts]"
   ]
  },
  {
   "cell_type": "code",
   "execution_count": 30,
   "metadata": {},
   "outputs": [],
   "source": [
    "# Stratified sampling to ensure balanced classes\n",
    "def create_stratified_subset(texts, labels, size=1000):\n",
    "    \"\"\"\n",
    "    Creates a stratified subset of the data.\n",
    "\n",
    "    Args:\n",
    "        texts (list): The list of texts.\n",
    "        labels (list): The corresponding labels.\n",
    "        size (int): Size of the subset.\n",
    "\n",
    "    Returns:\n",
    "        tuple: Stratified texts and labels.\n",
    "    \"\"\"\n",
    "    stratified_texts, _, stratified_labels, _ = train_test_split(\n",
    "        texts,\n",
    "        labels,\n",
    "        train_size=size,\n",
    "        stratify=labels,\n",
    "        random_state=42\n",
    "    )\n",
    "    return stratified_texts, stratified_labels\n",
    "\n",
    "# Create stratified subsets for BERT\n",
    "train_texts_bert, train_labels_bert = create_stratified_subset(train_texts, train_labels, size=5000)\n",
    "test_texts_bert, test_labels_bert = create_stratified_subset(test_texts, test_labels, size=5000)"
   ]
  },
  {
   "cell_type": "code",
   "execution_count": 21,
   "metadata": {},
   "outputs": [],
   "source": [
    "# Embedding functions\n",
    "def embed_word2vec(texts, model):\n",
    "    \"\"\"\n",
    "    Embeds text using Word2Vec embeddings.\n",
    "\n",
    "    Args:\n",
    "        texts (list of str): The list of preprocessed texts.\n",
    "        model: The pre-trained Word2Vec model.\n",
    "\n",
    "    Returns:\n",
    "        np.ndarray: The array of text embeddings.\n",
    "    \"\"\"\n",
    "    embeddings = []\n",
    "    for text in texts:\n",
    "        words = text.split()\n",
    "        vectors = [model[word] for word in words if word in model]\n",
    "        if vectors:\n",
    "            embeddings.append(np.mean(vectors, axis=0))\n",
    "        else:\n",
    "            embeddings.append(np.zeros(model.vector_size))\n",
    "    return np.array(embeddings)"
   ]
  },
  {
   "cell_type": "code",
   "execution_count": 22,
   "metadata": {},
   "outputs": [],
   "source": [
    "def embed_fasttext(texts, model):\n",
    "    \"\"\"\n",
    "    Embeds text using FastText embeddings.\n",
    "\n",
    "    Args:\n",
    "        texts (list of str): The list of preprocessed texts.\n",
    "        model: The pre-trained FastText model.\n",
    "\n",
    "    Returns:\n",
    "        np.ndarray: The array of text embeddings.\n",
    "    \"\"\"\n",
    "    embeddings = []\n",
    "    for text in texts:\n",
    "        words = text.split()\n",
    "        vectors = [model[word] for word in words if word in model]\n",
    "        if vectors:\n",
    "            embeddings.append(np.mean(vectors, axis=0))\n",
    "        else:\n",
    "            embeddings.append(np.zeros(model.vector_size))\n",
    "    return np.array(embeddings)"
   ]
  },
  {
   "cell_type": "code",
   "execution_count": 24,
   "metadata": {},
   "outputs": [],
   "source": [
    "def embed_glove(texts, model):\n",
    "    \"\"\"\n",
    "    Embeds text using GloVe embeddings.\n",
    "\n",
    "    Args:\n",
    "        texts (list of str): The list of preprocessed texts.\n",
    "        model: The pre-trained GloVe model.\n",
    "\n",
    "    Returns:\n",
    "        np.ndarray: The array of text embeddings.\n",
    "    \"\"\"\n",
    "    embeddings = []\n",
    "    for text in texts:\n",
    "        words = text.split()\n",
    "        vectors = [model[word] for word in words if word in model]\n",
    "        if vectors:\n",
    "            embeddings.append(np.mean(vectors, axis=0))\n",
    "        else:\n",
    "            embeddings.append(np.zeros(model.vector_size))\n",
    "    return np.array(embeddings)"
   ]
  },
  {
   "cell_type": "code",
   "execution_count": 25,
   "metadata": {},
   "outputs": [],
   "source": [
    "# Load pre-trained Word2Vec, FastText, and GloVe\n",
    "word2vec = api.load(\"word2vec-google-news-300\")\n",
    "fasttext = api.load(\"fasttext-wiki-news-subwords-300\")\n",
    "glove = api.load(\"glove-wiki-gigaword-300\")\n",
    "\n",
    "# Generate embeddings\n",
    "X_train_w2v = embed_word2vec(train_texts, word2vec)\n",
    "X_test_w2v = embed_word2vec(test_texts, word2vec)\n",
    "X_train_ft = embed_fasttext(train_texts, fasttext)\n",
    "X_test_ft = embed_fasttext(test_texts, fasttext)\n",
    "X_train_glove = embed_glove(train_texts, glove)\n",
    "X_test_glove = embed_glove(test_texts, glove)"
   ]
  },
  {
   "cell_type": "code",
   "execution_count": 26,
   "metadata": {},
   "outputs": [],
   "source": [
    "# Configure BERT for CPU\n",
    "tokenizer = AutoTokenizer.from_pretrained(\"bert-base-uncased\")\n",
    "model = AutoModel.from_pretrained(\"bert-base-uncased\").to('cpu')  # Force BERT to use CPU\n",
    "\n",
    "def embed_bert(texts, tokenizer, model):\n",
    "    \"\"\"\n",
    "    Embeds text using BERT embeddings.\n",
    "\n",
    "    Args:\n",
    "        texts (list of str): The list of texts to embed.\n",
    "        tokenizer: The BERT tokenizer.\n",
    "        model: The BERT model.\n",
    "\n",
    "    Returns:\n",
    "        np.ndarray: The array of BERT embeddings.\n",
    "    \"\"\"\n",
    "    embeddings = []\n",
    "    for text in texts:\n",
    "        inputs = tokenizer(text, return_tensors=\"pt\", padding=True, truncation=True, max_length=512)\n",
    "        inputs = {key: value.to('cpu') for key, value in inputs.items()}  # Ensure inputs are on CPU\n",
    "        with torch.no_grad():\n",
    "            outputs = model(**inputs)\n",
    "        embeddings.append(outputs.last_hidden_state[:, 0, :].cpu().numpy())\n",
    "    return np.concatenate(embeddings, axis=0)"
   ]
  },
  {
   "cell_type": "code",
   "execution_count": 31,
   "metadata": {},
   "outputs": [],
   "source": [
    "# Generate BERT embeddings on balanced subset\n",
    "X_train_bert = embed_bert(train_texts_bert, tokenizer, model)\n",
    "X_test_bert = embed_bert(test_texts_bert, tokenizer, model)"
   ]
  },
  {
   "cell_type": "code",
   "execution_count": 32,
   "metadata": {},
   "outputs": [],
   "source": [
    "# Train and evaluate models\n",
    "def evaluate(y_true, y_pred):\n",
    "    \"\"\"\n",
    "    Evaluates predictions with accuracy, precision, recall, and F1 score.\n",
    "\n",
    "    Args:\n",
    "        y_true (list): True labels.\n",
    "        y_pred (list): Predicted labels.\n",
    "\n",
    "    Returns:\n",
    "        tuple: Accuracy, precision, recall, and F1 score.\n",
    "    \"\"\"\n",
    "    precision, recall, f1, _ = precision_recall_fscore_support(y_true, y_pred, average=\"binary\")\n",
    "    accuracy = accuracy_score(y_true, y_pred)\n",
    "    return accuracy, precision, recall, f1\n",
    "\n",
    "results = []\n",
    "\n",
    "# Train and evaluate logistic regression models\n",
    "for name, X_train, X_test, y_train, y_test in [\n",
    "    (\"Word2Vec\", X_train_w2v, X_test_w2v, train_labels, test_labels),\n",
    "    (\"FastText\", X_train_ft, X_test_ft, train_labels, test_labels),\n",
    "    (\"GloVe\", X_train_glove, X_test_glove, train_labels, test_labels),\n",
    "    (\"BERT\", X_train_bert, X_test_bert, train_labels_bert, test_labels_bert),\n",
    "]:\n",
    "    clf = LogisticRegression(max_iter=1000)\n",
    "    clf.fit(X_train, y_train[:len(X_train)])  # Align labels with data\n",
    "    y_pred = clf.predict(X_test)\n",
    "    acc, prec, rec, f1 = evaluate(y_test[:len(y_pred)], y_pred)\n",
    "    results.append({\"Embedding\": name, \"Accuracy\": acc, \"Precision\": prec, \"Recall\": rec, \"F1-Score\": f1})"
   ]
  },
  {
   "cell_type": "code",
   "execution_count": null,
   "metadata": {},
   "outputs": [
    {
     "name": "stdout",
     "output_type": "stream",
     "text": [
      "  Embedding  Accuracy  Precision   Recall  F1-Score\n",
      "0  Word2Vec   0.85260   0.855071  0.84912  0.852085\n",
      "1  FastText   0.81284   0.818211  0.80440  0.811247\n",
      "2     GloVe   0.83104   0.830828  0.83136  0.831094\n",
      "3      BERT   0.80860   0.814513  0.79920  0.806784\n"
     ]
    }
   ],
   "source": [
    "# print the used model\n",
    "print('The used model is:Logistic Regression')\n",
    "# Generate a comparison table\n",
    "df_results = pd.DataFrame(results)\n",
    "print(df_results)"
   ]
  }
 ],
 "metadata": {
  "kernelspec": {
   "display_name": "nlp_env",
   "language": "python",
   "name": "nlp_env"
  },
  "language_info": {
   "codemirror_mode": {
    "name": "ipython",
    "version": 3
   },
   "file_extension": ".py",
   "mimetype": "text/x-python",
   "name": "python",
   "nbconvert_exporter": "python",
   "pygments_lexer": "ipython3",
   "version": "3.12.2"
  }
 },
 "nbformat": 4,
 "nbformat_minor": 2
}

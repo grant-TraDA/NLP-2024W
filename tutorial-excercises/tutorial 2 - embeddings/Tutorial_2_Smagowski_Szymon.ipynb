{
 "cells": [
  {
   "cell_type": "code",
   "execution_count": 11,
   "metadata": {},
   "outputs": [],
   "source": [
    "import nltk                                # Python library for NLP\n",
    "from nltk.corpus import twitter_samples    # sample Twitter dataset from NLTK\n",
    "from nltk.corpus import stopwords\n",
    "import matplotlib.pyplot as plt            # library for visualization\n",
    "import numpy as np # linear algebra\n",
    "import pandas as pd # data processing, CSV file I/O (e.g. pd.read_csv)\n",
    "from sklearn.model_selection import train_test_split # function for splitting data to train and test sets\n",
    "from nltk.classify import SklearnClassifier\n",
    "from wordcloud import WordCloud,STOPWORDS"
   ]
  },
  {
   "cell_type": "code",
   "execution_count": 12,
   "metadata": {},
   "outputs": [
    {
     "name": "stdout",
     "output_type": "stream",
     "text": [
      "{'text': 'I rented I AM CURIOUS-YELLOW from my video store because of all the controversy that surrounded it when it was first released in 1967. I also heard that at first it was seized by U.S. customs if it ever tried to enter this country, therefore being a fan of films considered \"controversial\" I really had to see this for myself.<br /><br />The plot is centered around a young Swedish drama student named Lena who wants to learn everything she can about life. In particular she wants to focus her attentions to making some sort of documentary on what the average Swede thought about certain political issues such as the Vietnam War and race issues in the United States. In between asking politicians and ordinary denizens of Stockholm about their opinions on politics, she has sex with her drama teacher, classmates, and married men.<br /><br />What kills me about I AM CURIOUS-YELLOW is that 40 years ago, this was considered pornographic. Really, the sex and nudity scenes are few and far between, even then it\\'s not shot like some cheaply made porno. While my countrymen mind find it shocking, in reality sex and nudity are a major staple in Swedish cinema. Even Ingmar Bergman, arguably their answer to good old boy John Ford, had sex scenes in his films.<br /><br />I do commend the filmmakers for the fact that any sex shown in the film is shown for artistic purposes rather than just to shock people and make money to be shown in pornographic theaters in America. I AM CURIOUS-YELLOW is a good film for anyone wanting to study the meat and potatoes (no pun intended) of Swedish cinema. But really, this film doesn\\'t have much of a plot.', 'label': 0}\n"
     ]
    }
   ],
   "source": [
    "from datasets import load_dataset\n",
    "\n",
    "# Load the IMDb dataset\n",
    "dataset = load_dataset('stanfordnlp/imdb')\n",
    "\n",
    "# Display the first few rows of the dataset\n",
    "print(dataset['train'][0])"
   ]
  },
  {
   "cell_type": "code",
   "execution_count": 13,
   "metadata": {},
   "outputs": [],
   "source": [
    "from sklearn.metrics import accuracy_score, precision_score, recall_score, f1_score"
   ]
  },
  {
   "cell_type": "code",
   "execution_count": 14,
   "metadata": {},
   "outputs": [],
   "source": [
    "from gensim.models import Word2Vec"
   ]
  },
  {
   "cell_type": "code",
   "execution_count": 15,
   "metadata": {},
   "outputs": [],
   "source": [
    "# models:\n",
    "from sklearn.linear_model import LogisticRegression\n",
    "from sklearn.svm import SVC\n",
    "from sklearn.ensemble import RandomForestClassifier\n",
    "from sklearn.ensemble import GradientBoostingClassifier\n",
    "from sklearn.neighbors import KNeighborsClassifier"
   ]
  },
  {
   "cell_type": "code",
   "execution_count": 16,
   "metadata": {},
   "outputs": [],
   "source": [
    "# models initialization\n",
    "\n",
    "models = [\n",
    "    (\"Logistic Regression\", LogisticRegression(max_iter=1000)),\n",
    "    (\"SVM\", SVC(kernel='linear')),\n",
    "    (\"Random Forest\", RandomForestClassifier(n_estimators=15)),\n",
    "    (\"Gradient Boosting\", GradientBoostingClassifier(n_estimators=15)),\n",
    "    (\"K-Nearest Neighbors\", KNeighborsClassifier(n_neighbors=3))\n",
    "]"
   ]
  },
  {
   "cell_type": "code",
   "execution_count": 17,
   "metadata": {},
   "outputs": [
    {
     "name": "stdout",
     "output_type": "stream",
     "text": [
      "0\n",
      "0    12500\n",
      "1    12500\n",
      "Name: count, dtype: int64\n"
     ]
    }
   ],
   "source": [
    "# Convert to pandas DataFrame \n",
    "x_train = pd.DataFrame(dataset['train']['text'])\n",
    "x_test = pd.DataFrame(dataset['test']['text'])\n",
    "y_train = pd.DataFrame(dataset['train']['label'])\n",
    "y_test = pd.DataFrame(dataset['test']['label'])\n",
    "\n",
    "# # Check label distribution\n",
    "label_distribution = y_train.value_counts()\n",
    "print(label_distribution)\n",
    "\n",
    "# vectorizer = TfidfVectorizer(max_features=5000)\n",
    "# x_train = vectorizer.fit_transform(dataset['train']['text'])\n",
    "# x_test = vectorizer.fit_transform(dataset['test']['text'])"
   ]
  },
  {
   "cell_type": "code",
   "execution_count": 18,
   "metadata": {},
   "outputs": [],
   "source": [
    "# Function to train model and evaluate performance\n",
    "def evaluate_model(model, X_train, X_test, y_train, y_test):\n",
    "    model.fit(X_train, y_train)\n",
    "    y_pred = model.predict(X_test)\n",
    "    accuracy = accuracy_score(y_test, y_pred)\n",
    "    precision = precision_score(y_test, y_pred)\n",
    "    recall = recall_score(y_test, y_pred)\n",
    "    f1 = f1_score(y_test, y_pred)\n",
    "    return accuracy, precision, recall, f1"
   ]
  },
  {
   "cell_type": "code",
   "execution_count": 19,
   "metadata": {},
   "outputs": [
    {
     "name": "stdout",
     "output_type": "stream",
     "text": [
      "Longest Sentence: Match 1: Tag Team Table Match Bubba Ray and Spike Dudley vs Eddie Guerrero and Chris Benoit Bubba Ray and Spike Dudley started things off with a Tag Team Table Match against Eddie Guerrero and Chris Benoit. According to the rules of the match, both opponents have to go through tables in order to get the win. Benoit and Guerrero heated up early on by taking turns hammering first Spike and then Bubba Ray. A German suplex by Benoit to Bubba took the wind out of the Dudley brother. Spike tried to help his brother, but the referee restrained him while Benoit and Guerrero ganged up on him in the corner. With Benoit stomping away on Bubba, Guerrero set up a table outside. Spike dashed into the ring and somersaulted over the top rope onto Guerrero on the outside! After recovering and taking care of Spike, Guerrero slipped a table into the ring and helped the Wolverine set it up. The tandem then set up for a double superplex from the middle rope which would have put Bubba through the table, but Spike knocked the table over right before his brother came crashing down! Guerrero and Benoit propped another table in the corner and tried to Irish Whip Spike through it, but Bubba dashed in and blocked his brother. Bubba caught fire and lifted both opponents into back body drops! Bubba slammed Guerrero and Spike stomped on the Wolverine from off the top rope. Bubba held Benoit at bay for Spike to soar into the Wassup! headbutt! Shortly after, Benoit latched Spike in the Crossface, but the match continued even after Spike tapped out. Bubba came to his brother's rescue and managed to sprawl Benoit on a table. Bubba leapt from the middle rope, but Benoit moved and sent Bubba crashing through the wood! But because his opponents didn't force him through the table, Bubba was allowed to stay in the match. The first man was eliminated shortly after, though, as Spike put Eddie through a table with a Dudley Dawg from the ring apron to the outside! Benoit put Spike through a table moments later to even the score. Within seconds, Bubba nailed a Bubba Bomb that put Benoit through a table and gave the Dudleys the win! Winner: Bubba Ray and Spike Dudley<br /><br />Match 2: Cruiserweight Championship Jamie Noble vs Billy Kidman Billy Kidman challenged Jamie Noble, who brought Nidia with him to the ring, for the Cruiserweight Championship. Noble and Kidman locked up and tumbled over the ring, but raced back inside and grappled some more. When Kidman thwarted all Noble's moves, Noble fled outside the ring where Nidia gave him some encouragement. The fight spread outside the ring and Noble threw his girlfriend into the challenger. Kidman tossed Nidia aside but was taken down with a modified arm bar. Noble continued to attack Kidman's injured arm back in the ring. Kidman's injured harm hampered his offense, but he continued to battle hard. Noble tried to put Kidman away with a powerbomb but the challenger countered into a facebuster. Kidman went to finish things with a Shooting Star Press, but Noble broke up the attempt. Kidman went for the Shooting Star Press again, but this time Noble just rolled out of harm's way. Noble flipped Kidman into a power bomb soon after and got the pin to retain his WWE Cruiserweight Championship! Winner: Jamie Noble<br /><br />Match 3: European Championship William Regal vs Jeff Hardy William Regal took on Jeff Hardy next in an attempt to win back the European Championship. Jeff catapulted Regal over the top rope then took him down with a hurracanrana off the ring apron. Back in the ring, Jeff hit the Whisper in the wind to knock Regal for a loop. Jeff went for the Swanton Bomb, but Regal got his knees up to hit Jeff with a devastating shot. Jeff managed to surprise Regal with a quick rollup though and got the pin to keep the European Championship! Regal started bawling at seeing Hardy celebrate on his way back up the ramp. Winner: Jeff Hardy<br /><br />Match 4: Chris Jericho vs John Cena Chris Jericho had promised to end John Cena's career in their match at Vengeance, which came up next. Jericho tried to teach Cena a lesson as their match began by suplexing him to the mat. Jericho continued to knock Cena around the ring until his cockiness got the better of him. While on the top rope, Jericho began to showboat and allowed Cena to grab him for a superplex! Cena followed with a tilt-a-whirl slam but was taken down with a nasty dropkick to the gut. The rookie recovered and hit a belly to belly suplex but couldn't put Y2J away. Jericho launched into the Lionsault but Cena dodged the move. Jericho nailed a bulldog and then connected on the Lionsault, but did not go for the cover. He goaded Cena to his feet so he could put on the Walls of Jericho. Cena had other ideas, reversing the move into a pin attempt and getting the 1-2-3! Jericho went berserk after the match. Winner: John Cena<br /><br />Match 5: Intercontinental Championship RVD vs Brock Lesnar via disqualification The Next Big Thing and Mr. Pay-Per-View tangled with the Intercontinental Championship on the line. Brock grabbed the title from the ref and draped it over his shoulder momentarily while glaring at RVD. Van Dam 's quickness gave Brock fits early on. The big man rolled out of the ring and kicked the steel steps out of frustration. Brock pulled himself together and began to take charge. With Paul Heyman beaming at ringside, Brock slammed RVD to the hard floor outside the ring. From there, Brock began to overpower RVD, throwing him with ease over the top rope. RVD landed painfully on his back, then had to suffer from having his spine cracked against the steel ring steps. The fight returned to the ring with Brock squeezing RVD around the ribs. RVD broke away and soon after leveled Brock with a kick to the temple. RVD followed with the Rolling Thunder but Brock managed to kick out after a two-count. The fight looked like it might be over soon as RVD went for a Five-Star Frog Splash. Brock, though, hoisted Van Dam onto his shoulder and went for the F-5, but RVD whirled Brock into a DDT and followed with the Frog Splash! He went for the pin, but Heyman pulled the ref from the ring! The ref immediately called for a disqualification and soon traded blows with Heyman! After, RVD leapt onto Brock from the top rope and then threatened to hit the Van Terminator! Heyman grabbed RVD's leg and Brock picked up the champ and this time connected with the F-5 onto a steel chair! Winner: RVD<br /><br />Match 6: Booker T vs the Big Show Booker T faced the Big Show one-on-one next. Show withstood Booker T's kicks and punches and slapped Booker into the corner. After being thrown from the ring, Booker picked up a chair at ringside, but Big Show punched it back into Booker's face. Booker tried to get back into the game by choking Show with a camera cable at ringside. Booker smashed a TV monitor from the Spanish announcers' position into Show's skull, then delivered a scissors kick that put both men through the table! Booker crawled back into the ring and Big Show staggered in moments later. Show grabbed Booker's throat but was met by a low blow and a kick to the face. Booker climbed the top rope and nailed a somersaulting leg drop to get the pin! Winner: Booker T<br /><br />Announcement: Triple H entered the ring to a thunderous ovation as fans hoped to learn where The Game would end up competing. Before he could speak, Eric Bishoff stopped The Game to apologize for getting involved in his personal business. If Triple H signed with RAW, Bischoff promised his personal life would never come into play again. Bischoff said he's spent the past two years networking in Hollywood. He said everyone was looking for the next breakout WWE Superstar, and they were all talking about Triple H. Bischoff guaranteed that if Triple H signed with RAW, he'd be getting top opportunities coming his way. Stephanie McMahon stepped out to issue her own pitch. She said that because of her personal history with Triple H, the two of them know each other very well. She said the two of them were once unstoppable and they can be again. Bischoff cut her off and begged her to stop. Stephanie cited that Triple H once told her how Bischoff said Triple H had no talent and no charisma. Bischoff said he was young at the time and didn't know what he had, but he still has a lot more experience that Stephanie. The two continued to bicker back and forth, until Triple H stepped up with his microphone. The Game said it would be easy to say \"screw you\" to either one of them. Triple H went to shake Bischoff's hand, but pulled it away. He said he would rather go with the devil he knows, rather than the one he doesn't know. Before he could go any further, though, Shawn Michaels came out to shake things up. HBK said the last thing he wanted to do was cause any trouble. He didn't want to get involved, but he remembered pledging to bring Triple H to the nWo. HBK said there's nobody in the world that Triple H is better friends with. HBK told his friend to imagine the two back together again, making Bischoff's life a living hell. Triple H said that was a tempting offer. He then turned and hugged HBK, making official his switch to RAW! Triple H and HBK left, and Bischoff gloated over his victory. Bischoff said the difference between the two of them is that he's got testicles and she doesn't. Stephanie whacked Bischoff on the side of the head and left!<br /><br />Match 7: Tag Team Championship Match Christian and Lance Storm vs Hollywood Hogan and Edge The match started with loud \"USA\" chants and with Hogan shoving Christian through the ropes and out of the ring. The Canadians took over from there. But Edge scored a kick to Christian's head and planted a facebuster on Storm to get the tag to Hogan. Hogan began to Hulk up and soon caught Christian with a big boot and a leg drop! Storm broke up the count and Christian tossed Hogan from the ring where Storm superkicked the icon. Edge tagged in soon after and dropped both opponents. He speared both of them into the corner turnbuckles, but missed a spear on Strom and hit the ref hard instead. Edge nailed a DDT, but the ref was down and could not count. Test raced down and took down Hogan then leveled Edge with a boot. Storm tried to get the pin, but Edge kicked out after two. Riksihi sprinted in to fend off Test, allowing Edge to recover and spear Storm. Christian distracted the ref, though, and Y2J dashed in and clocked Edge with the Tag Team Championship! Storm rolled over and got the pinfall to win the title! Winners and New Tag Team Champions: Christian and Lance Storm<br /><br />Match 8: WWE Undisputed Championship Triple Threat Match. The Rock vs Kurt Angle and the Undertaker Three of WWE's most successful superstars lined up against each other in a Triple Threat Match with the Undisputed Championship hanging in the balance. Taker and The Rock got face to face with Kurt Angle begging for some attention off to the side. He got attention in the form of a beat down form the two other men. Soon after, Taker spilled out of the ring and The Rock brawled with Angle. Angle gave a series of suplexes that took down Rock, but the Great One countered with a DDT that managed a two-count. The fight continued outside the ring with Taker coming to life and clotheslining Angle and repeatedly smacking The Rock. Taker and Rock got into it back into the ring, and Taker dropped The Rock with a sidewalk slam to get a two-count. Rock rebounded, grabbed Taker by the throat and chokeslammed him! Angle broke up the pin attempt that likely would have given The Rock the title. The Rock retaliated by latching on the ankle lock to Kurt Angle. Angle reversed the move and Rock Bottomed the People's Champion. Soon after, The Rock disposed of Angle and hit the People's Elbow on the Undertaker. Angle tried to take advantage by disabling the Great One outside the ring and covering Taker, who kicked out after a two count. Outside the ring, Rock took a big swig from a nearby water bottle and spewed the liquid into Taker's face to blind the champion. Taker didn't stay disabled for long, and managed to overpower Rock and turn his attention to Angle. Taker landed a guillotine leg drop onto Angle, laying on the ring apron. The Rock picked himself up just in time to break up a pin attempt on Kurt Angle. Taker nailed Rock with a DDT and set him up for a chokeslam. ANgle tried sneaking up with a steel chair, but Taker caught on to that tomfoolery and smacked it out of his hands. The referee got caught in the ensuing fire and didn't see Angle knock Taker silly with a steel chair. Angle went to cover Taker as The Rock lay prone, but the Dead Man somehow got his shoulder up. Angle tried to pin Rock, but he too kicked out. The Rock got up and landed Angle in the sharpshooter! Angle looked like he was about to tap, but Taker kicked The Rock out of the submission hold. Taker picked Rock up and crashed him with the Last Ride. While the Dead Man covered him for the win, Angle raced in and picked Taker up in the ankle lock! Taker went delirious with pain, but managed to counter. He picked Angle up for the last ride, but Angle put on a triangle choke! It looked like Taker was about to pass out, but The Rock broke Angle's hold only to find himself caught in the ankle lock. Rock got out of the hold and watched Taker chokeslam Angle. Rocky hit the Rock Bottom, but Taker refused to go down and kicked out. Angle whirled Taker up into the Angle Slam but was Rock Bottomed by the Great One and pinned! Winner and New WWE Champion: The Rock<br /><br />~Finally there is a decent PPV! Lately the PPV weren't very good, but this one was a winner. I give this PPV a A-<br /><br />\n",
      "Word Count: 2470\n"
     ]
    }
   ],
   "source": [
    "# Function to find the longest sentence\n",
    "def find_longest_sentence(df, column_name):\n",
    "    # Count words in each sentence\n",
    "    df['word_count'] = df[column_name].apply(lambda x: len(x.split()))\n",
    "    \n",
    "    # Find the index of the longest sentence\n",
    "    longest_index = df['word_count'].idxmax()\n",
    "    \n",
    "    # Get the longest sentence\n",
    "    longest_sentence = df.loc[longest_index, column_name]\n",
    "    \n",
    "    return longest_sentence, df['word_count'].max()\n",
    "\n",
    "# Example usage\n",
    "longest_sentence, max_word_count = find_longest_sentence(x_train, 0)\n",
    "\n",
    "print(\"Longest Sentence:\", longest_sentence)\n",
    "print(\"Word Count:\", max_word_count)"
   ]
  },
  {
   "cell_type": "code",
   "execution_count": 20,
   "metadata": {},
   "outputs": [],
   "source": [
    "# ========= Word2Vec ==========\n",
    "\n",
    "# Tokenize the text (you can adjust this based on your needs)\n",
    "tokenized_texts = [text.split() for text in x_train[0]]  # Simple whitespace tokenization\n",
    "\n",
    "# Train the Word2Vec model\n",
    "word2vec_model = Word2Vec(sentences=tokenized_texts, vector_size=300, window=5, min_count=1, workers=4)\n"
   ]
  },
  {
   "cell_type": "code",
   "execution_count": 21,
   "metadata": {},
   "outputs": [],
   "source": [
    "# Create sentence embeddings by averaging word vectors\n",
    "def get_sentence_embedding(sentence, model):\n",
    "    # Get the word vectors for each word in the sentence\n",
    "    word_vectors = [model.wv[word] for word in sentence if word in model.wv]\n",
    "    # Average the word vectors (if no words are found, return a zero vector)\n",
    "    if len(word_vectors) == 0:\n",
    "        return np.zeros(model.vector_size)\n",
    "    return np.mean(word_vectors, axis=0)"
   ]
  },
  {
   "cell_type": "code",
   "execution_count": 22,
   "metadata": {},
   "outputs": [],
   "source": [
    "# Create embeddings for the training set\n",
    "X_train_word_2_vec = np.array([get_sentence_embedding(sentence.split(), word2vec_model) for sentence in x_train[0]])\n",
    "y_train_word_2_vec = np.array(y_train).flatten()  # Labels for training"
   ]
  },
  {
   "cell_type": "code",
   "execution_count": 23,
   "metadata": {},
   "outputs": [],
   "source": [
    "# Repeat for the test set\n",
    "X_test_word2vec = np.array([get_sentence_embedding(sentence.split(), word2vec_model) for sentence in x_test[0]])\n",
    "y_test_word_2_vec = np.array(y_test).flatten()  # Your test labels"
   ]
  },
  {
   "cell_type": "code",
   "execution_count": 24,
   "metadata": {},
   "outputs": [
    {
     "name": "stdout",
     "output_type": "stream",
     "text": [
      "Logistic Regression\n",
      "SVM\n",
      "Random Forest\n",
      "Gradient Boosting\n",
      "K-Nearest Neighbors\n",
      "                 Model  Accuracy  Precision   Recall  F1-Score\n",
      "0  Logistic Regression   0.78168   0.770846  0.80168  0.785961\n",
      "1                  SVM   0.78436   0.772146  0.80680  0.789093\n",
      "2        Random Forest   0.67324   0.666615  0.69312  0.679609\n",
      "3    Gradient Boosting   0.68424   0.691184  0.66608  0.678400\n",
      "4  K-Nearest Neighbors   0.63952   0.648224  0.61016  0.628616\n"
     ]
    }
   ],
   "source": [
    "# Create an empty list to store evaluation results\n",
    "results = []\n",
    "\n",
    "# Evaluate each model\n",
    "for model_name, model in models:\n",
    "    accuracy, precision, recall, f1 = evaluate_model(model, X_train_word_2_vec, X_test_word2vec, y_train_word_2_vec, y_test_word_2_vec)\n",
    "    results.append([model_name, accuracy, precision, recall, f1])\n",
    "    print(model_name)\n",
    "\n",
    "# Convert results to a DataFrame for a table format\n",
    "results_df_word_2_vec = pd.DataFrame(results, columns=[\"Model\", \"Accuracy\", \"Precision\", \"Recall\", \"F1-Score\"])\n",
    "\n",
    "# Print the results table\n",
    "print(results_df_word_2_vec)"
   ]
  },
  {
   "cell_type": "code",
   "execution_count": 25,
   "metadata": {},
   "outputs": [
    {
     "name": "stderr",
     "output_type": "stream",
     "text": [
      "[nltk_data] Downloading package stopwords to /Users/szymi/nltk_data...\n",
      "[nltk_data]   Package stopwords is already up-to-date!\n"
     ]
    },
    {
     "data": {
      "text/plain": [
       "True"
      ]
     },
     "execution_count": 25,
     "metadata": {},
     "output_type": "execute_result"
    }
   ],
   "source": [
    "nltk.download('stopwords')"
   ]
  },
  {
   "cell_type": "code",
   "execution_count": 26,
   "metadata": {},
   "outputs": [
    {
     "name": "stderr",
     "output_type": "stream",
     "text": [
      "[nltk_data] Downloading package wordnet to /Users/szymi/nltk_data...\n",
      "[nltk_data]   Package wordnet is already up-to-date!\n"
     ]
    },
    {
     "data": {
      "text/plain": [
       "True"
      ]
     },
     "execution_count": 26,
     "metadata": {},
     "output_type": "execute_result"
    }
   ],
   "source": [
    "nltk.download('wordnet')"
   ]
  },
  {
   "cell_type": "code",
   "execution_count": 27,
   "metadata": {},
   "outputs": [],
   "source": [
    "# Text preprocessing\n",
    "import string\n",
    "from nltk.corpus import stopwords\n",
    "from nltk.tokenize import word_tokenize\n",
    "from nltk.stem import WordNetLemmatizer\n",
    "\n",
    "stop_words = set(stopwords.words('english'))\n",
    "lemmatizer = WordNetLemmatizer()\n",
    "\n",
    "# Function to preprocess text\n",
    "def preprocess_text(text):\n",
    "    # Lowercase\n",
    "    text = text.lower()\n",
    "    # Remove punctuation\n",
    "    text = text.translate(str.maketrans('', '', string.punctuation))\n",
    "    # Remove stopwords\n",
    "    text = ' '.join([word for word in text.split() if word not in stop_words])\n",
    "    # Lemmatization\n",
    "    text = ' '.join([lemmatizer.lemmatize(word) for word in text.split()])\n",
    "    return text\n",
    "\n",
    "x_train = pd.DataFrame(dataset['train']['text'])\n",
    "x_test = pd.DataFrame(dataset['test']['text'])\n",
    "\n",
    "x_train['preprocessed'] = x_train[0].apply(preprocess_text)\n",
    "x_test['preprocessed'] = x_test[0].apply(preprocess_text)\n",
    "\n",
    "# Tokenize the text (you can adjust this based on your needs)\n",
    "tokenized_texts = [text.split() for text in x_train['preprocessed']]  # Simple whitespace tokenization\n",
    "\n",
    "# Train the Word2Vec model\n",
    "word2vec_model = Word2Vec(sentences=tokenized_texts, vector_size=300, window=5, min_count=1, workers=4)"
   ]
  },
  {
   "cell_type": "code",
   "execution_count": 28,
   "metadata": {},
   "outputs": [],
   "source": [
    "# Create embeddings for the training set\n",
    "X_train_word_2_vec_preprocessed = np.array([get_sentence_embedding(sentence.split(), word2vec_model) for sentence in x_train['preprocessed']])\n",
    "y_train_word_2_vec_preprocessed = np.array(y_train).flatten()  # Labels for training\n",
    "\n",
    "# Repeat for the test set\n",
    "X_test_word2vec_preprocessed = np.array([get_sentence_embedding(sentence.split(), word2vec_model) for sentence in x_test['preprocessed']])\n",
    "y_test_word_2_vec_preprocessed = np.array(y_test).flatten()  # Your test labels"
   ]
  },
  {
   "cell_type": "code",
   "execution_count": 29,
   "metadata": {},
   "outputs": [
    {
     "name": "stdout",
     "output_type": "stream",
     "text": [
      "Logistic Regression\n",
      "SVM\n",
      "Random Forest\n",
      "Gradient Boosting\n",
      "K-Nearest Neighbors\n",
      "                 Model  Accuracy  Precision   Recall  F1-Score\n",
      "0  Logistic Regression   0.81368   0.809960  0.81968  0.814791\n",
      "1                  SVM   0.81580   0.809729  0.82560  0.817588\n",
      "2        Random Forest   0.74436   0.741329  0.75064  0.745955\n",
      "3    Gradient Boosting   0.74088   0.740572  0.74152  0.741046\n",
      "4  K-Nearest Neighbors   0.70248   0.717664  0.66760  0.691727\n"
     ]
    }
   ],
   "source": [
    "# Create an empty list to store evaluation results\n",
    "results = []\n",
    "\n",
    "# Evaluate each model\n",
    "for model_name, model in models:\n",
    "    accuracy, precision, recall, f1 = evaluate_model(model, X_train_word_2_vec_preprocessed, X_test_word2vec_preprocessed, y_train_word_2_vec_preprocessed, y_test_word_2_vec_preprocessed)\n",
    "    results.append([model_name, accuracy, precision, recall, f1])\n",
    "    print(model_name)\n",
    "\n",
    "# Convert results to a DataFrame for a table format\n",
    "results_df_word_2_vec_preprocessed = pd.DataFrame(results, columns=[\"Model\", \"Accuracy\", \"Precision\", \"Recall\", \"F1-Score\"])\n",
    "\n",
    "# Print the results table\n",
    "print(results_df_word_2_vec_preprocessed)"
   ]
  },
  {
   "cell_type": "code",
   "execution_count": 30,
   "metadata": {},
   "outputs": [],
   "source": [
    "# ======= FastText =======\n",
    "\n",
    "from gensim.models import FastText\n",
    "\n",
    "# Load or train FastText model\n",
    "fasttext_model = FastText(tokenized_texts, vector_size=100, window=5, min_count=1)\n",
    "\n",
    "# Create sentence embeddings by averaging word vectors\n",
    "def get_fast_text_embedding(sentence, model):\n",
    "    return np.mean([model.wv[word] for word in sentence if word in model.wv], axis=0)\n",
    "\n",
    "\n",
    "X_train_fast_text = np.array([get_fast_text_embedding(sentence.split(), fasttext_model) for sentence in x_train[0]])\n",
    "y_train_fast_text = np.array(y_train).flatten()  # Labels for training\n",
    "\n",
    "# Repeat for the test set\n",
    "X_test_fast_text= np.array([get_fast_text_embedding(sentence.split(), fasttext_model) for sentence in x_test[0]])\n",
    "y_test_fast_text = np.array(y_test).flatten()  # Your test labels"
   ]
  },
  {
   "cell_type": "code",
   "execution_count": 31,
   "metadata": {},
   "outputs": [
    {
     "name": "stdout",
     "output_type": "stream",
     "text": [
      "Logistic Regression\n",
      "SVM\n",
      "Random Forest\n",
      "Gradient Boosting\n",
      "K-Nearest Neighbors\n",
      "                 Model  Accuracy  Precision   Recall  F1-Score\n",
      "0  Logistic Regression   0.79124   0.794992  0.78488  0.789904\n",
      "1                  SVM   0.79368   0.797584  0.78712  0.792318\n",
      "2        Random Forest   0.71380   0.715125  0.71072  0.712916\n",
      "3    Gradient Boosting   0.71300   0.725349  0.68560  0.704915\n",
      "4  K-Nearest Neighbors   0.66560   0.672788  0.64480  0.658497\n"
     ]
    }
   ],
   "source": [
    "# Create an empty list to store evaluation results\n",
    "# I had to change vector size, because it was executing around 30 mins and nothing :)\n",
    "results = []\n",
    "\n",
    "# Evaluate each model\n",
    "for model_name, model in models:\n",
    "    accuracy, precision, recall, f1 = evaluate_model(model, X_train_fast_text, X_test_fast_text, y_train_fast_text, y_test_fast_text)\n",
    "    results.append([model_name, accuracy, precision, recall, f1])\n",
    "    print(model_name)\n",
    "\n",
    "# Convert results to a DataFrame for a table format\n",
    "results_df_fast_text = pd.DataFrame(results, columns=[\"Model\", \"Accuracy\", \"Precision\", \"Recall\", \"F1-Score\"])\n",
    "\n",
    "# Print the results table\n",
    "print(results_df_fast_text)"
   ]
  },
  {
   "cell_type": "code",
   "execution_count": 32,
   "metadata": {},
   "outputs": [],
   "source": [
    "X_train_fast_text_preprocessed = np.array([get_fast_text_embedding(sentence.split(), fasttext_model) for sentence in x_train['preprocessed']])\n",
    "y_train_fast_text_preprocessed = np.array(y_train).flatten()  # Labels for training\n",
    "\n",
    "# Repeat for the test set\n",
    "X_test_fast_text_preprocessed = np.array([get_fast_text_embedding(sentence.split(), fasttext_model) for sentence in x_train['preprocessed']])\n",
    "y_test_fast_text_preprocessed = np.array(y_test).flatten()  # Your test labels"
   ]
  },
  {
   "cell_type": "code",
   "execution_count": 33,
   "metadata": {},
   "outputs": [
    {
     "name": "stdout",
     "output_type": "stream",
     "text": [
      "Logistic Regression\n",
      "SVM\n",
      "Random Forest\n",
      "Gradient Boosting\n",
      "K-Nearest Neighbors\n",
      "                 Model  Accuracy  Precision   Recall  F1-Score\n",
      "0  Logistic Regression   0.79244   0.787993  0.80016  0.794030\n",
      "1                  SVM   0.79384   0.787088  0.80560  0.796236\n",
      "2        Random Forest   0.99664   0.996481  0.99680  0.996641\n",
      "3    Gradient Boosting   0.73800   0.742343  0.72904  0.735631\n",
      "4  K-Nearest Neighbors   0.83524   0.848482  0.81624  0.832049\n"
     ]
    }
   ],
   "source": [
    "# Create an empty list to store evaluation results\n",
    "results = []\n",
    "\n",
    "# Evaluate each model\n",
    "for model_name, model in models:\n",
    "    accuracy, precision, recall, f1 = evaluate_model(model, X_train_fast_text_preprocessed, X_test_fast_text_preprocessed, y_train_fast_text_preprocessed, y_test_fast_text_preprocessed)\n",
    "    results.append([model_name, accuracy, precision, recall, f1])\n",
    "    print(model_name)\n",
    "\n",
    "# Convert results to a DataFrame for a table format\n",
    "results_df_fast_text_preprocessed = pd.DataFrame(results, columns=[\"Model\", \"Accuracy\", \"Precision\", \"Recall\", \"F1-Score\"])\n",
    "\n",
    "# Print the results table\n",
    "print(results_df_fast_text_preprocessed)"
   ]
  },
  {
   "cell_type": "code",
   "execution_count": 34,
   "metadata": {},
   "outputs": [],
   "source": [
    "# ======= sentence-transformers/all-MiniLM-L6-v2 =======\n",
    "\n",
    "import torch\n",
    "from transformers import AutoTokenizer, AutoModel\n",
    "\n",
    "# Load the MiniLM v6 model and tokenizer from Hugging Face\n",
    "model_name = \"sentence-transformers/all-MiniLM-L6-v2\"  # MiniLM v2\n",
    "tokenizer = AutoTokenizer.from_pretrained(model_name)\n",
    "model_mini = AutoModel.from_pretrained(model_name)\n",
    "\n",
    "# Function to encode text\n",
    "def encode_text(text, model):\n",
    "    # Tokenize the input text\n",
    "    inputs = tokenizer(text, padding=True, truncation=True, return_tensors=\"pt\")\n",
    "    \n",
    "    # Use the model to get embeddings\n",
    "    with torch.no_grad():\n",
    "        outputs = model(**inputs)\n",
    "\n",
    "    # Get the embeddings for the [CLS] token\n",
    "    embeddings = outputs.last_hidden_state[:, 0, :]  # Shape: (batch_size, hidden_size)\n",
    "    return embeddings\n",
    "\n"
   ]
  },
  {
   "cell_type": "code",
   "execution_count": 35,
   "metadata": {},
   "outputs": [],
   "source": [
    "x_train_encoded = [encode_text(text, model_mini) for text in x_train[0]]"
   ]
  },
  {
   "cell_type": "code",
   "execution_count": 36,
   "metadata": {},
   "outputs": [],
   "source": [
    "x_test_encoded = [encode_text(text, model_mini) for text in x_test[0]]"
   ]
  },
  {
   "cell_type": "code",
   "execution_count": 37,
   "metadata": {},
   "outputs": [],
   "source": [
    "y_train_mini = np.array(y_train).flatten()  # Labels for training\n",
    "y_test_mini = np.array(y_test).flatten()  # Your test labels"
   ]
  },
  {
   "cell_type": "code",
   "execution_count": 38,
   "metadata": {},
   "outputs": [],
   "source": [
    "x_train_numpy = [tensor.cpu().detach().numpy() for tensor in x_train_encoded if isinstance(tensor, torch.Tensor)]\n",
    "x_train_flattened = np.array([np.mean(embedding, axis=0) for embedding in x_train_numpy])\n",
    "x_test_numpy = [tensor.cpu().detach().numpy() for tensor in x_test_encoded if isinstance(tensor, torch.Tensor)]\n",
    "x_test_flattened = np.array([np.mean(embedding, axis=0) for embedding in x_test_numpy])"
   ]
  },
  {
   "cell_type": "code",
   "execution_count": 39,
   "metadata": {},
   "outputs": [
    {
     "name": "stdout",
     "output_type": "stream",
     "text": [
      "Logistic Regression\n",
      "SVM\n",
      "Random Forest\n",
      "Gradient Boosting\n",
      "K-Nearest Neighbors\n",
      "                 Model  Accuracy  Precision   Recall  F1-Score\n",
      "0  Logistic Regression   0.78452   0.787673  0.77904  0.783333\n",
      "1                  SVM   0.78468   0.788722  0.77768  0.783162\n",
      "2        Random Forest   0.61556   0.617049  0.60920  0.613099\n",
      "3    Gradient Boosting   0.63524   0.638827  0.62232  0.630466\n",
      "4  K-Nearest Neighbors   0.59720   0.621209  0.49816  0.552921\n"
     ]
    },
    {
     "ename": "",
     "evalue": "",
     "output_type": "error",
     "traceback": [
      "\u001b[1;31mThe Kernel crashed while executing code in the current cell or a previous cell. \n",
      "\u001b[1;31mPlease review the code in the cell(s) to identify a possible cause of the failure. \n",
      "\u001b[1;31mClick <a href='https://aka.ms/vscodeJupyterKernelCrash'>here</a> for more info. \n",
      "\u001b[1;31mView Jupyter <a href='command:jupyter.viewOutput'>log</a> for further details."
     ]
    }
   ],
   "source": [
    "# Create an empty list to store evaluation results\n",
    "results = []\n",
    "\n",
    "# Evaluate each model\n",
    "for model_name, model in models:\n",
    "    accuracy, precision, recall, f1 = evaluate_model(model, x_train_flattened, x_test_flattened, y_train_mini, y_test_mini)\n",
    "    results.append([model_name, accuracy, precision, recall, f1])\n",
    "    print(model_name)\n",
    "\n",
    "# Convert results to a DataFrame for a table format\n",
    "results_df_mini = pd.DataFrame(results, columns=[\"Model\", \"Accuracy\", \"Precision\", \"Recall\", \"F1-Score\"])\n",
    "\n",
    "# Print the results table\n",
    "print(results_df_mini)"
   ]
  },
  {
   "cell_type": "code",
   "execution_count": 46,
   "metadata": {},
   "outputs": [],
   "source": [
    "x_train_encoded_preprocessed = [encode_text(text, model_mini) for text in x_train['preprocessed']]\n",
    "x_test_encoded_preprocessed = [encode_text(text, model_mini) for text in x_test['preprocessed']]\n",
    "y_train_mini = np.array(y_train).flatten()  # Labels for training\n",
    "y_test_mini = np.array(y_test).flatten()  # Your test labels\n",
    "\n",
    "x_train_numpy_preprocessed = [tensor.cpu().detach().numpy() for tensor in x_train_encoded_preprocessed if isinstance(tensor, torch.Tensor)]\n",
    "x_train_flattened_preprocessed = np.array([np.mean(embedding, axis=0) for embedding in x_train_numpy_preprocessed])\n",
    "x_test_numpy_preprocessed = [tensor.cpu().detach().numpy() for tensor in x_test_encoded_preprocessed if isinstance(tensor, torch.Tensor)]\n",
    "x_test_flattened_preprocessed = np.array([np.mean(embedding, axis=0) for embedding in x_test_numpy_preprocessed])"
   ]
  },
  {
   "cell_type": "code",
   "execution_count": 47,
   "metadata": {},
   "outputs": [
    {
     "name": "stdout",
     "output_type": "stream",
     "text": [
      "Logistic Regression\n",
      "SVM\n",
      "Random Forest\n",
      "Gradient Boosting\n",
      "K-Nearest Neighbors\n",
      "                 Model  Accuracy  Precision   Recall  F1-Score\n",
      "0  Logistic Regression   0.79144   0.795315  0.78488  0.790063\n",
      "1                  SVM   0.78936   0.792874  0.78336  0.788089\n",
      "2        Random Forest   0.63828   0.640380  0.63080  0.635554\n",
      "3    Gradient Boosting   0.65404   0.657402  0.64336  0.650305\n",
      "4  K-Nearest Neighbors   0.60580   0.634033  0.50048  0.559396\n"
     ]
    }
   ],
   "source": [
    "# Create an empty list to store evaluation results\n",
    "results = []\n",
    "\n",
    "# Evaluate each model\n",
    "for model_name, model in models:\n",
    "    accuracy, precision, recall, f1 = evaluate_model(model, x_train_flattened_preprocessed, x_test_flattened_preprocessed, y_train_mini, y_test_mini)\n",
    "    results.append([model_name, accuracy, precision, recall, f1])\n",
    "    print(model_name)\n",
    "\n",
    "# Convert results to a DataFrame for a table format\n",
    "results_df_mini_preprocessed = pd.DataFrame(results, columns=[\"Model\", \"Accuracy\", \"Precision\", \"Recall\", \"F1-Score\"])\n",
    "\n",
    "# Print the results table\n",
    "print(results_df_mini_preprocessed)"
   ]
  },
  {
   "cell_type": "code",
   "execution_count": 51,
   "metadata": {},
   "outputs": [
    {
     "name": "stdout",
     "output_type": "stream",
     "text": [
      "                                            Model  Accuracy  Precision  \\\n",
      "results_df_mini               Logistic Regression   0.78452   0.787673   \n",
      "                                              SVM   0.78468   0.788722   \n",
      "                                    Random Forest   0.61520   0.616448   \n",
      "                                Gradient Boosting   0.63524   0.638827   \n",
      "                              K-Nearest Neighbors   0.59720   0.621209   \n",
      "results_df_mini_preprocessed  Logistic Regression   0.79144   0.795315   \n",
      "                                              SVM   0.78936   0.792874   \n",
      "                                    Random Forest   0.63828   0.640380   \n",
      "                                Gradient Boosting   0.65404   0.657402   \n",
      "                              K-Nearest Neighbors   0.60580   0.634033   \n",
      "\n",
      "                               Recall  F1-Score  \n",
      "results_df_mini               0.77904  0.783333  \n",
      "                              0.77768  0.783162  \n",
      "                              0.60984  0.613126  \n",
      "                              0.62232  0.630466  \n",
      "                              0.49816  0.552921  \n",
      "results_df_mini_preprocessed  0.78488  0.790063  \n",
      "                              0.78336  0.788089  \n",
      "                              0.63080  0.635554  \n",
      "                              0.64336  0.650305  \n",
      "                              0.50048  0.559396  \n"
     ]
    }
   ],
   "source": [
    "# Concatenate with distinguishing labels for df1 and df2 using 'keys'\n",
    "merged_df = pd.concat([results_df_word_2_vec,\n",
    "                       results_df_word_2_vec_preprocessed,\n",
    "                       results_df_fast_text,\n",
    "                       results_df_fast_text_preprocessed,\n",
    "                       results_df_mini, \n",
    "                       results_df_mini_preprocessed], \n",
    "                      keys=[\n",
    "                          'results_df_word_2_vec',\n",
    "                          'results_df_word_2_vec_preprocessed',\n",
    "                          'results_df_fast_text',\n",
    "                          'results_df_fast_text_preprocessed',\n",
    "                          'results_df_mini', \n",
    "                          'results_df_mini_preprocessed'])\n",
    "\n",
    "# Reset index and drop the inner index\n",
    "merged_df = merged_df.reset_index(level=1, drop=True)\n",
    "\n",
    "# Replace repeated index values with empty strings except for the first occurrence in each group\n",
    "merged_df.index = merged_df.index.to_series().mask(merged_df.index.duplicated(), '')\n",
    "\n",
    "# Print the final formatted DataFrame\n",
    "print(merged_df)"
   ]
  }
 ],
 "metadata": {
  "kernelspec": {
   "display_name": ".venv",
   "language": "python",
   "name": "python3"
  },
  "language_info": {
   "codemirror_mode": {
    "name": "ipython",
    "version": 3
   },
   "file_extension": ".py",
   "mimetype": "text/x-python",
   "name": "python",
   "nbconvert_exporter": "python",
   "pygments_lexer": "ipython3",
   "version": "3.11.9"
  }
 },
 "nbformat": 4,
 "nbformat_minor": 2
}

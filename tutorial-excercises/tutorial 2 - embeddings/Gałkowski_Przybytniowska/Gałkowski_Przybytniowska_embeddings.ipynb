{
 "cells": [
  {
   "cell_type": "markdown",
   "id": "b610ebde-be4d-4f05-9cc6-6698c757eff0",
   "metadata": {},
   "source": [
    "# Tutorial task - Embeddings\n",
    "\n",
    "Authors: \n",
    "- Mikołaj Gałkowski\n",
    "- Julia Przybytniowska"
   ]
  },
  {
   "cell_type": "markdown",
   "id": "8c692dc4-53c4-4854-86ef-a59be4203305",
   "metadata": {},
   "source": [
    "### Preprocessing steps\n",
    "\n",
    "1. Removing non-alphanumeric characters.\n",
    "2. Removing stopwords.\n",
    "3. Lemmatization\n",
    "4. Stemming.\n",
    "\n",
    "We will try out their different combinations when training our models."
   ]
  },
  {
   "cell_type": "code",
   "execution_count": 2,
   "id": "b7d58fa7-f901-4afd-b4e1-1c0ab223f1f2",
   "metadata": {},
   "outputs": [],
   "source": [
    "import re\n",
    "from nltk.corpus import stopwords\n",
    "from nltk.stem import WordNetLemmatizer, PorterStemmer\n",
    "\n",
    "stop_words = set(stopwords.words(\"english\"))\n",
    "lemmatizer = WordNetLemmatizer()\n",
    "stemmer = PorterStemmer()\n",
    "\n",
    "\n",
    "def clean_text(text):\n",
    "    text = re.sub(r\"[^A-Za-z\\s]\", \"\", text.lower())\n",
    "    return text\n",
    "\n",
    "\n",
    "def remove_stopwords(text):\n",
    "    return \" \".join([word for word in text.split() if word not in stop_words])\n",
    "\n",
    "\n",
    "def lemmatize_text(text):\n",
    "    return \" \".join([lemmatizer.lemmatize(word) for word in text.split()])\n",
    "\n",
    "\n",
    "def stem_text(text):\n",
    "    return \" \".join([stemmer.stem(word) for word in text.split()])\n",
    "\n",
    "\n",
    "def preprocess_text(text, preprocessing_steps):\n",
    "    text = clean_text(text)\n",
    "    if \"stopwords\" in preprocessing_steps:\n",
    "        text = remove_stopwords(text)\n",
    "    if \"lemmatization\" in preprocessing_steps:\n",
    "        text = lemmatize_text(text)\n",
    "    if \"stemming\" in preprocessing_steps:\n",
    "        text = stem_text(text)\n",
    "    return text"
   ]
  },
  {
   "cell_type": "code",
   "execution_count": 3,
   "id": "36857b6c-3871-4d87-832e-afd15f12b5c7",
   "metadata": {},
   "outputs": [],
   "source": [
    "import warnings\n",
    "\n",
    "from datasets import load_dataset\n",
    "\n",
    "warnings.filterwarnings(\"ignore\")\n",
    "\n",
    "imdb = load_dataset(\"stanfordnlp/imdb\")\n",
    "del imdb[\"unsupervised\"]  # stay only with train / test"
   ]
  },
  {
   "cell_type": "markdown",
   "id": "b2722362-72e2-4342-96dc-23ea9b4c0cd1",
   "metadata": {},
   "source": [
    "## Word2Vec, FastText and Glove\n",
    "\n",
    "All three embedding method are pretrained ones. Word2Vec and FastText return embeddings of 300 length and GloVe of 200."
   ]
  },
  {
   "cell_type": "code",
   "execution_count": 6,
   "id": "919f8c9b-b603-4d95-9182-fa0daa15649a",
   "metadata": {},
   "outputs": [
    {
     "name": "stdout",
     "output_type": "stream",
     "text": [
      "Loading word2vec\n",
      "Loading fasttext\n",
      "Loading glove\n"
     ]
    }
   ],
   "source": [
    "import gensim\n",
    "\n",
    "print(\"Loading word2vec\")\n",
    "word2vec_embeddings = gensim.downloader.load(\"word2vec-google-news-300\")\n",
    "\n",
    "print(\"Loading fasttext\")\n",
    "fasttext_embeddings = gensim.downloader.load(\"fasttext-wiki-news-subwords-300\")\n",
    "\n",
    "print(\"Loading glove\")\n",
    "glove_embeddings = gensim.downloader.load(\"glove-twitter-200\")"
   ]
  },
  {
   "cell_type": "code",
   "execution_count": 13,
   "id": "c4c20cfa-0615-4926-af39-278857d83346",
   "metadata": {},
   "outputs": [],
   "source": [
    "import pandas as pd\n",
    "import numpy as np\n",
    "from sklearn.metrics import accuracy_score\n",
    "\n",
    "\n",
    "# function to get the average word vector for a sentence\n",
    "def get_average_word_vector(sentence, model, vector_size=300):\n",
    "    words = sentence.split()\n",
    "    word_vectors = [model[word] for word in words if word in model]\n",
    "    if len(word_vectors) > 0:\n",
    "        return np.mean(word_vectors, axis=0)\n",
    "    else:\n",
    "        return np.zeros(vector_size)\n",
    "\n",
    "\n",
    "train = imdb[\"train\"].to_pandas()\n",
    "test = imdb[\"test\"].to_pandas()\n",
    "\n",
    "X_train = train[\"text\"]\n",
    "y_train = train[\"label\"]\n",
    "X_test = test[\"text\"]\n",
    "y_test = test[\"label\"]"
   ]
  },
  {
   "cell_type": "markdown",
   "id": "8538a9a2-2884-4489-8da2-1ce514c66790",
   "metadata": {},
   "source": [
    "Below preprocessing combinations are proposed and different classification models such as:\n",
    "- Logisitic Regression,\n",
    "- Naive Bayes,\n",
    "- Random Forest Classifier,\n",
    "- XGBoost Classifier."
   ]
  },
  {
   "cell_type": "code",
   "execution_count": 16,
   "id": "7f1bdf68-27f0-491f-804a-584570469089",
   "metadata": {},
   "outputs": [
    {
     "data": {
      "application/vnd.jupyter.widget-view+json": {
       "model_id": "0b4e35981617401ab82b7b29aa91cfad",
       "version_major": 2,
       "version_minor": 0
      },
      "text/plain": [
       "Preprocessing Type:   0%|          | 0/6 [00:00<?, ?it/s]"
      ]
     },
     "metadata": {},
     "output_type": "display_data"
    },
    {
     "data": {
      "application/vnd.jupyter.widget-view+json": {
       "model_id": "",
       "version_major": 2,
       "version_minor": 0
      },
      "text/plain": [
       "Model Type:   0%|          | 0/4 [00:00<?, ?it/s]"
      ]
     },
     "metadata": {},
     "output_type": "display_data"
    },
    {
     "data": {
      "application/vnd.jupyter.widget-view+json": {
       "model_id": "",
       "version_major": 2,
       "version_minor": 0
      },
      "text/plain": [
       "Model Type:   0%|          | 0/4 [00:00<?, ?it/s]"
      ]
     },
     "metadata": {},
     "output_type": "display_data"
    },
    {
     "data": {
      "application/vnd.jupyter.widget-view+json": {
       "model_id": "",
       "version_major": 2,
       "version_minor": 0
      },
      "text/plain": [
       "Model Type:   0%|          | 0/4 [00:00<?, ?it/s]"
      ]
     },
     "metadata": {},
     "output_type": "display_data"
    },
    {
     "data": {
      "application/vnd.jupyter.widget-view+json": {
       "model_id": "",
       "version_major": 2,
       "version_minor": 0
      },
      "text/plain": [
       "Model Type:   0%|          | 0/4 [00:00<?, ?it/s]"
      ]
     },
     "metadata": {},
     "output_type": "display_data"
    },
    {
     "data": {
      "application/vnd.jupyter.widget-view+json": {
       "model_id": "",
       "version_major": 2,
       "version_minor": 0
      },
      "text/plain": [
       "Model Type:   0%|          | 0/4 [00:00<?, ?it/s]"
      ]
     },
     "metadata": {},
     "output_type": "display_data"
    },
    {
     "data": {
      "application/vnd.jupyter.widget-view+json": {
       "model_id": "",
       "version_major": 2,
       "version_minor": 0
      },
      "text/plain": [
       "Model Type:   0%|          | 0/4 [00:00<?, ?it/s]"
      ]
     },
     "metadata": {},
     "output_type": "display_data"
    },
    {
     "data": {
      "text/html": [
       "<div>\n",
       "<style scoped>\n",
       "    .dataframe tbody tr th:only-of-type {\n",
       "        vertical-align: middle;\n",
       "    }\n",
       "\n",
       "    .dataframe tbody tr th {\n",
       "        vertical-align: top;\n",
       "    }\n",
       "\n",
       "    .dataframe thead th {\n",
       "        text-align: right;\n",
       "    }\n",
       "</style>\n",
       "<table border=\"1\" class=\"dataframe\">\n",
       "  <thead>\n",
       "    <tr style=\"text-align: right;\">\n",
       "      <th></th>\n",
       "      <th>Model</th>\n",
       "      <th>Embedding</th>\n",
       "      <th>Preprocessing</th>\n",
       "      <th>Accuracy</th>\n",
       "      <th>Precision</th>\n",
       "      <th>Recall</th>\n",
       "      <th>F1</th>\n",
       "    </tr>\n",
       "  </thead>\n",
       "  <tbody>\n",
       "    <tr>\n",
       "      <th>0</th>\n",
       "      <td>LogisticRegression</td>\n",
       "      <td>word2vec</td>\n",
       "      <td>None</td>\n",
       "      <td>0.82768</td>\n",
       "      <td>0.833008</td>\n",
       "      <td>0.81968</td>\n",
       "      <td>0.826290</td>\n",
       "    </tr>\n",
       "    <tr>\n",
       "      <th>1</th>\n",
       "      <td>LogisticRegression</td>\n",
       "      <td>fasttext</td>\n",
       "      <td>None</td>\n",
       "      <td>0.77892</td>\n",
       "      <td>0.786413</td>\n",
       "      <td>0.76584</td>\n",
       "      <td>0.775990</td>\n",
       "    </tr>\n",
       "    <tr>\n",
       "      <th>2</th>\n",
       "      <td>LogisticRegression</td>\n",
       "      <td>glove</td>\n",
       "      <td>None</td>\n",
       "      <td>0.81252</td>\n",
       "      <td>0.817421</td>\n",
       "      <td>0.80480</td>\n",
       "      <td>0.811061</td>\n",
       "    </tr>\n",
       "    <tr>\n",
       "      <th>3</th>\n",
       "      <td>GaussianNB</td>\n",
       "      <td>word2vec</td>\n",
       "      <td>None</td>\n",
       "      <td>0.69820</td>\n",
       "      <td>0.729038</td>\n",
       "      <td>0.63088</td>\n",
       "      <td>0.676416</td>\n",
       "    </tr>\n",
       "    <tr>\n",
       "      <th>4</th>\n",
       "      <td>GaussianNB</td>\n",
       "      <td>fasttext</td>\n",
       "      <td>None</td>\n",
       "      <td>0.68188</td>\n",
       "      <td>0.712695</td>\n",
       "      <td>0.60944</td>\n",
       "      <td>0.657036</td>\n",
       "    </tr>\n",
       "    <tr>\n",
       "      <th>...</th>\n",
       "      <td>...</td>\n",
       "      <td>...</td>\n",
       "      <td>...</td>\n",
       "      <td>...</td>\n",
       "      <td>...</td>\n",
       "      <td>...</td>\n",
       "      <td>...</td>\n",
       "    </tr>\n",
       "    <tr>\n",
       "      <th>67</th>\n",
       "      <td>RandomForestClassifier</td>\n",
       "      <td>fasttext</td>\n",
       "      <td>[stopwords, stemming]</td>\n",
       "      <td>0.75668</td>\n",
       "      <td>0.760494</td>\n",
       "      <td>0.74936</td>\n",
       "      <td>0.754886</td>\n",
       "    </tr>\n",
       "    <tr>\n",
       "      <th>68</th>\n",
       "      <td>RandomForestClassifier</td>\n",
       "      <td>glove</td>\n",
       "      <td>[stopwords, stemming]</td>\n",
       "      <td>0.74148</td>\n",
       "      <td>0.739165</td>\n",
       "      <td>0.74632</td>\n",
       "      <td>0.742725</td>\n",
       "    </tr>\n",
       "    <tr>\n",
       "      <th>69</th>\n",
       "      <td>XGBClassifier</td>\n",
       "      <td>word2vec</td>\n",
       "      <td>[stopwords, stemming]</td>\n",
       "      <td>0.78088</td>\n",
       "      <td>0.779850</td>\n",
       "      <td>0.78272</td>\n",
       "      <td>0.781282</td>\n",
       "    </tr>\n",
       "    <tr>\n",
       "      <th>70</th>\n",
       "      <td>XGBClassifier</td>\n",
       "      <td>fasttext</td>\n",
       "      <td>[stopwords, stemming]</td>\n",
       "      <td>0.78616</td>\n",
       "      <td>0.789870</td>\n",
       "      <td>0.77976</td>\n",
       "      <td>0.784783</td>\n",
       "    </tr>\n",
       "    <tr>\n",
       "      <th>71</th>\n",
       "      <td>XGBClassifier</td>\n",
       "      <td>glove</td>\n",
       "      <td>[stopwords, stemming]</td>\n",
       "      <td>0.76688</td>\n",
       "      <td>0.771220</td>\n",
       "      <td>0.75888</td>\n",
       "      <td>0.765000</td>\n",
       "    </tr>\n",
       "  </tbody>\n",
       "</table>\n",
       "<p>72 rows × 7 columns</p>\n",
       "</div>"
      ],
      "text/plain": [
       "                     Model Embedding          Preprocessing  Accuracy  \\\n",
       "0       LogisticRegression  word2vec                   None   0.82768   \n",
       "1       LogisticRegression  fasttext                   None   0.77892   \n",
       "2       LogisticRegression     glove                   None   0.81252   \n",
       "3               GaussianNB  word2vec                   None   0.69820   \n",
       "4               GaussianNB  fasttext                   None   0.68188   \n",
       "..                     ...       ...                    ...       ...   \n",
       "67  RandomForestClassifier  fasttext  [stopwords, stemming]   0.75668   \n",
       "68  RandomForestClassifier     glove  [stopwords, stemming]   0.74148   \n",
       "69           XGBClassifier  word2vec  [stopwords, stemming]   0.78088   \n",
       "70           XGBClassifier  fasttext  [stopwords, stemming]   0.78616   \n",
       "71           XGBClassifier     glove  [stopwords, stemming]   0.76688   \n",
       "\n",
       "    Precision   Recall        F1  \n",
       "0    0.833008  0.81968  0.826290  \n",
       "1    0.786413  0.76584  0.775990  \n",
       "2    0.817421  0.80480  0.811061  \n",
       "3    0.729038  0.63088  0.676416  \n",
       "4    0.712695  0.60944  0.657036  \n",
       "..        ...      ...       ...  \n",
       "67   0.760494  0.74936  0.754886  \n",
       "68   0.739165  0.74632  0.742725  \n",
       "69   0.779850  0.78272  0.781282  \n",
       "70   0.789870  0.77976  0.784783  \n",
       "71   0.771220  0.75888  0.765000  \n",
       "\n",
       "[72 rows x 7 columns]"
      ]
     },
     "execution_count": 16,
     "metadata": {},
     "output_type": "execute_result"
    }
   ],
   "source": [
    "from tqdm.auto import tqdm\n",
    "from sklearn.metrics import precision_score, recall_score, f1_score\n",
    "from sklearn.linear_model import LogisticRegression\n",
    "from sklearn.naive_bayes import GaussianNB\n",
    "from sklearn.ensemble import RandomForestClassifier\n",
    "import xgboost as xgb\n",
    "\n",
    "preprocessing_options = [\n",
    "    None,  # No preprocessing\n",
    "    [\"stopwords\"],  # Remove stopwords\n",
    "    [\"lemmatization\"],  # Lemmatization\n",
    "    [\"stemming\"],  # Stemming\n",
    "    [\"stopwords\", \"lemmatization\"],  # Stopwords + Lemmatization\n",
    "    [\"stopwords\", \"stemming\"],  # Stopwords + Stemming\n",
    "]\n",
    "\n",
    "model_classes = [\n",
    "    LogisticRegression,\n",
    "    GaussianNB,\n",
    "    RandomForestClassifier,\n",
    "    xgb.XGBClassifier,\n",
    "]\n",
    "\n",
    "results_list = []\n",
    "\n",
    "for preprocessing in tqdm(preprocessing_options, desc=\"Preprocessing Type\"):\n",
    "    X_train_processed = X_train.apply(\n",
    "        lambda x: preprocess_text(x, preprocessing) if preprocessing else x\n",
    "    )\n",
    "    X_test_processed = X_test.apply(\n",
    "        lambda x: preprocess_text(x, preprocessing) if preprocessing else x\n",
    "    )\n",
    "\n",
    "    X_train_word2vec = np.array(\n",
    "        [\n",
    "            get_average_word_vector(text, word2vec_embeddings, vector_size=300)\n",
    "            for text in X_train_processed\n",
    "        ]\n",
    "    )\n",
    "    X_test_word2vec = np.array(\n",
    "        [\n",
    "            get_average_word_vector(text, word2vec_embeddings, vector_size=300)\n",
    "            for text in X_test_processed\n",
    "        ]\n",
    "    )\n",
    "\n",
    "    X_train_fasttext = np.array(\n",
    "        [\n",
    "            get_average_word_vector(text, fasttext_embeddings, vector_size=300)\n",
    "            for text in X_train_processed\n",
    "        ]\n",
    "    )\n",
    "    X_test_fasttext = np.array(\n",
    "        [\n",
    "            get_average_word_vector(text, fasttext_embeddings, vector_size=300)\n",
    "            for text in X_test_processed\n",
    "        ]\n",
    "    )\n",
    "\n",
    "    X_train_glove = np.array(\n",
    "        [\n",
    "            get_average_word_vector(text, glove_embeddings, vector_size=200)\n",
    "            for text in X_train_processed\n",
    "        ]\n",
    "    )\n",
    "    X_test_glove = np.array(\n",
    "        [\n",
    "            get_average_word_vector(text, glove_embeddings, vector_size=200)\n",
    "            for text in X_test_processed\n",
    "        ]\n",
    "    )\n",
    "\n",
    "    embedding_data = [\n",
    "        (\"word2vec\", X_train_word2vec, X_test_word2vec),\n",
    "        (\"fasttext\", X_train_fasttext, X_test_fasttext),\n",
    "        (\"glove\", X_train_glove, X_test_glove),\n",
    "    ]\n",
    "\n",
    "    for model_class in tqdm(model_classes, desc=\"Model Type\", leave=False):\n",
    "        for name, X__train, X__test in embedding_data:\n",
    "            params = {\"max_iter\": 1000} if model_class == LogisticRegression else {}\n",
    "            model = model_class(**params) if params else model_class()\n",
    "\n",
    "            model.fit(X__train, y_train)\n",
    "\n",
    "            y_pred = model.predict(X__test)\n",
    "\n",
    "            accuracy = accuracy_score(y_test, y_pred)\n",
    "            precision = precision_score(y_test, y_pred)\n",
    "            recall = recall_score(y_test, y_pred)\n",
    "            f1 = f1_score(y_test, y_pred)\n",
    "\n",
    "            results_list.append(\n",
    "                {\n",
    "                    \"Model\": model_class.__name__,\n",
    "                    \"Embedding\": name,\n",
    "                    \"Preprocessing\": preprocessing if preprocessing else \"None\",\n",
    "                    \"Accuracy\": accuracy,\n",
    "                    \"Precision\": precision,\n",
    "                    \"Recall\": recall,\n",
    "                    \"F1\": f1,\n",
    "                }\n",
    "            )\n",
    "\n",
    "results = pd.concat([pd.DataFrame([res]) for res in results_list], ignore_index=True)\n",
    "results"
   ]
  },
  {
   "cell_type": "code",
   "execution_count": 17,
   "id": "e748db27-b737-4b9e-8977-259370f596bc",
   "metadata": {},
   "outputs": [],
   "source": [
    "# results.to_csv('results_not_transformers.csv', index=False)\n",
    "# results = pd.read_csv('results_not_transformers.csv')"
   ]
  },
  {
   "cell_type": "markdown",
   "id": "ef6eb7f1-b9d6-4320-a6c8-0cc15693b23c",
   "metadata": {},
   "source": [
    "# Fine-tuning Distil Bert "
   ]
  },
  {
   "cell_type": "code",
   "execution_count": 20,
   "id": "9603ed5d-6c1d-4c8a-a494-4702e16191ba",
   "metadata": {},
   "outputs": [
    {
     "name": "stderr",
     "output_type": "stream",
     "text": [
      "Some weights of DistilBertForSequenceClassification were not initialized from the model checkpoint at distilbert/distilbert-base-uncased and are newly initialized: ['classifier.bias', 'classifier.weight', 'pre_classifier.bias', 'pre_classifier.weight']\n",
      "You should probably TRAIN this model on a down-stream task to be able to use it for predictions and inference.\n"
     ]
    }
   ],
   "source": [
    "import torch\n",
    "from transformers import AutoTokenizer, AutoModelForSequenceClassification\n",
    "from transformers import Trainer, TrainingArguments\n",
    "from torch.utils.data import DataLoader\n",
    "from transformers import DataCollatorWithPadding\n",
    "\n",
    "device = torch.device(\"cuda\" if torch.cuda.is_available() else \"cpu\")\n",
    "\n",
    "model_name = \"distilbert/distilbert-base-uncased\"\n",
    "tokenizer = AutoTokenizer.from_pretrained(model_name)\n",
    "model = AutoModelForSequenceClassification.from_pretrained(model_name, num_labels=2).to(\n",
    "    device\n",
    ")\n",
    "data_collator = DataCollatorWithPadding(tokenizer=tokenizer)"
   ]
  },
  {
   "cell_type": "code",
   "execution_count": 20,
   "id": "014a0109-073e-4bfe-9fe8-1f144d764522",
   "metadata": {},
   "outputs": [
    {
     "data": {
      "application/vnd.jupyter.widget-view+json": {
       "model_id": "efced617efe443588717e8eb6797d190",
       "version_major": 2,
       "version_minor": 0
      },
      "text/plain": [
       "Map:   0%|          | 0/25000 [00:00<?, ? examples/s]"
      ]
     },
     "metadata": {},
     "output_type": "display_data"
    },
    {
     "name": "stderr",
     "output_type": "stream",
     "text": [
      "Asking to truncate to max_length but no maximum length is provided and the model has no predefined maximum length. Default to no truncation.\n"
     ]
    },
    {
     "data": {
      "application/vnd.jupyter.widget-view+json": {
       "model_id": "a8fa8290f7d540069c8ff077aa537e5f",
       "version_major": 2,
       "version_minor": 0
      },
      "text/plain": [
       "Map:   0%|          | 0/25000 [00:00<?, ? examples/s]"
      ]
     },
     "metadata": {},
     "output_type": "display_data"
    }
   ],
   "source": [
    "def tokenize_function(examples):\n",
    "    return tokenizer(examples[\"text\"], truncation=True)\n",
    "\n",
    "\n",
    "tokenized_imdb = imdb.map(tokenize_function, batched=True)"
   ]
  },
  {
   "cell_type": "code",
   "execution_count": 21,
   "id": "286bda45-853b-4a00-bce5-f4708496bf2a",
   "metadata": {},
   "outputs": [],
   "source": [
    "import evaluate\n",
    "import numpy as np\n",
    "\n",
    "accuracy_metric = evaluate.load(\"accuracy\")\n",
    "precision_metric = evaluate.load(\"precision\")\n",
    "recall_metric = evaluate.load(\"recall\")\n",
    "f1_metric = evaluate.load(\"f1\")\n",
    "\n",
    "\n",
    "def compute_metrics(eval_pred):\n",
    "    predictions, labels = eval_pred\n",
    "    predictions = np.argmax(predictions, axis=1)\n",
    "\n",
    "    accuracy = accuracy_metric.compute(predictions=predictions, references=labels)\n",
    "    precision = precision_metric.compute(\n",
    "        predictions=predictions, references=labels, average=\"binary\"\n",
    "    )\n",
    "    recall = recall_metric.compute(\n",
    "        predictions=predictions, references=labels, average=\"binary\"\n",
    "    )\n",
    "    f1 = f1_metric.compute(predictions=predictions, references=labels, average=\"binary\")\n",
    "\n",
    "    return {\n",
    "        \"accuracy\": accuracy[\"accuracy\"],\n",
    "        \"precision\": precision[\"precision\"],\n",
    "        \"recall\": recall[\"recall\"],\n",
    "        \"f1\": f1[\"f1\"],\n",
    "    }"
   ]
  },
  {
   "cell_type": "code",
   "execution_count": 25,
   "id": "1e97898b-4290-4a4b-90ea-298376cf960f",
   "metadata": {},
   "outputs": [
    {
     "name": "stderr",
     "output_type": "stream",
     "text": [
      "Detected kernel version 5.4.0, which is below the recommended minimum of 5.5.0; this can cause the process to hang. It is recommended to upgrade the kernel to the minimum version or higher.\n"
     ]
    },
    {
     "data": {
      "text/html": [
       "\n",
       "    <div>\n",
       "      \n",
       "      <progress value='1173' max='1173' style='width:300px; height:20px; vertical-align: middle;'></progress>\n",
       "      [1173/1173 18:17, Epoch 3/3]\n",
       "    </div>\n",
       "    <table border=\"1\" class=\"dataframe\">\n",
       "  <thead>\n",
       " <tr style=\"text-align: left;\">\n",
       "      <th>Epoch</th>\n",
       "      <th>Training Loss</th>\n",
       "      <th>Validation Loss</th>\n",
       "      <th>Accuracy</th>\n",
       "      <th>Precision</th>\n",
       "      <th>Recall</th>\n",
       "      <th>F1</th>\n",
       "    </tr>\n",
       "  </thead>\n",
       "  <tbody>\n",
       "    <tr>\n",
       "      <td>1</td>\n",
       "      <td>No log</td>\n",
       "      <td>0.207738</td>\n",
       "      <td>0.924640</td>\n",
       "      <td>0.926825</td>\n",
       "      <td>0.922080</td>\n",
       "      <td>0.924447</td>\n",
       "    </tr>\n",
       "    <tr>\n",
       "      <td>2</td>\n",
       "      <td>0.136400</td>\n",
       "      <td>0.219272</td>\n",
       "      <td>0.929160</td>\n",
       "      <td>0.933145</td>\n",
       "      <td>0.924560</td>\n",
       "      <td>0.928833</td>\n",
       "    </tr>\n",
       "    <tr>\n",
       "      <td>3</td>\n",
       "      <td>0.090700</td>\n",
       "      <td>0.244043</td>\n",
       "      <td>0.929840</td>\n",
       "      <td>0.925146</td>\n",
       "      <td>0.935360</td>\n",
       "      <td>0.930225</td>\n",
       "    </tr>\n",
       "  </tbody>\n",
       "</table><p>"
      ],
      "text/plain": [
       "<IPython.core.display.HTML object>"
      ]
     },
     "metadata": {},
     "output_type": "display_data"
    },
    {
     "name": "stderr",
     "output_type": "stream",
     "text": [
      "No files have been modified since last commit. Skipping to prevent empty commit.\n"
     ]
    },
    {
     "data": {
      "text/plain": [
       "TrainOutput(global_step=1173, training_loss=0.10757970931889761, metrics={'train_runtime': 1098.4496, 'train_samples_per_second': 68.278, 'train_steps_per_second': 1.068, 'total_flos': 9935003154122400.0, 'train_loss': 0.10757970931889761, 'epoch': 3.0})"
      ]
     },
     "execution_count": 25,
     "metadata": {},
     "output_type": "execute_result"
    }
   ],
   "source": [
    "training_args = TrainingArguments(\n",
    "    output_dir=\"./results\",\n",
    "    learning_rate=2e-5,\n",
    "    per_device_train_batch_size=64,\n",
    "    per_device_eval_batch_size=64,\n",
    "    num_train_epochs=3,\n",
    "    weight_decay=0.01,\n",
    "    eval_strategy=\"epoch\",\n",
    "    save_strategy=\"epoch\",\n",
    "    load_best_model_at_end=True,\n",
    "    push_to_hub=True,\n",
    "    report_to=\"none\",\n",
    ")\n",
    "\n",
    "trainer = Trainer(\n",
    "    model=model,\n",
    "    args=training_args,\n",
    "    train_dataset=tokenized_imdb[\"train\"],\n",
    "    eval_dataset=tokenized_imdb[\"test\"],\n",
    "    tokenizer=tokenizer,\n",
    "    data_collator=data_collator,\n",
    "    compute_metrics=compute_metrics,\n",
    ")\n",
    "\n",
    "trainer.train()"
   ]
  },
  {
   "cell_type": "code",
   "execution_count": 26,
   "id": "b8b6e73c-c5e1-49fe-95fc-04633320199a",
   "metadata": {},
   "outputs": [
    {
     "data": {
      "text/html": [],
      "text/plain": [
       "<IPython.core.display.HTML object>"
      ]
     },
     "metadata": {},
     "output_type": "display_data"
    },
    {
     "name": "stdout",
     "output_type": "stream",
     "text": [
      "Test results: {'eval_loss': 0.20773789286613464, 'eval_accuracy': 0.92464, 'eval_precision': 0.9268253457703441, 'eval_recall': 0.92208, 'eval_f1': 0.924446583253128, 'eval_runtime': 92.962, 'eval_samples_per_second': 268.927, 'eval_steps_per_second': 4.206, 'epoch': 3.0}\n"
     ]
    }
   ],
   "source": [
    "results = trainer.evaluate()\n",
    "print(f\"Test results: {results}\")"
   ]
  },
  {
   "cell_type": "code",
   "execution_count": 30,
   "id": "5f2067eb-8752-4c13-8f91-30f54d0f195c",
   "metadata": {},
   "outputs": [
    {
     "data": {
      "text/html": [],
      "text/plain": [
       "<IPython.core.display.HTML object>"
      ]
     },
     "metadata": {},
     "output_type": "display_data"
    }
   ],
   "source": [
    "predictions = trainer.predict(tokenized_imdb[\"test\"])\n",
    "\n",
    "preds = torch.argmax(torch.tensor(predictions.predictions), dim=1)"
   ]
  },
  {
   "cell_type": "code",
   "execution_count": 38,
   "id": "673d03de-509e-4970-ae0e-545457e6fad7",
   "metadata": {},
   "outputs": [],
   "source": [
    "# Calculate additional metrics manually and add to a DataFrame\n",
    "accuracy = accuracy_metric.compute(\n",
    "    predictions=preds.numpy(), references=tokenized_imdb[\"test\"][\"label\"]\n",
    ")\n",
    "precision = precision_metric.compute(\n",
    "    predictions=preds.numpy(),\n",
    "    references=tokenized_imdb[\"test\"][\"label\"],\n",
    "    average=\"binary\",\n",
    ")\n",
    "recall = recall_metric.compute(\n",
    "    predictions=preds.numpy(),\n",
    "    references=tokenized_imdb[\"test\"][\"label\"],\n",
    "    average=\"binary\",\n",
    ")\n",
    "f1 = f1_metric.compute(\n",
    "    predictions=preds.numpy(),\n",
    "    references=tokenized_imdb[\"test\"][\"label\"],\n",
    "    average=\"binary\",\n",
    ")\n",
    "\n",
    "df_results = pd.DataFrame(\n",
    "    [\n",
    "        {\n",
    "            \"Model\": \"distilbert-base-uncased\",\n",
    "            \"Embedding\": \"-\",\n",
    "            \"Preprocessing\": \"-\",\n",
    "            \"Accuracy\": accuracy[\"accuracy\"],\n",
    "            \"Precision\": precision[\"precision\"],\n",
    "            \"Recall\": recall[\"recall\"],\n",
    "            \"F1\": f1[\"f1\"],\n",
    "        }\n",
    "    ]\n",
    ")\n",
    "\n",
    "df_results.to_csv(\"distilbert.csv\", index=False)\n",
    "# df_results = pd.read_csv(\"distilbert.csv\")"
   ]
  },
  {
   "cell_type": "markdown",
   "id": "9263abc7-51c1-453e-97f5-abfcbeee08bb",
   "metadata": {},
   "source": [
    "## Using finetuned model from HuggingFace \n",
    "\n",
    "Not fine-tuning, just inference on out-of-the-box model imported from HF hub."
   ]
  },
  {
   "cell_type": "code",
   "execution_count": 6,
   "id": "6ebefa65-9d27-4f86-819b-749bd77ede1d",
   "metadata": {},
   "outputs": [],
   "source": [
    "import torch\n",
    "from transformers import AutoTokenizer, AutoModelForSequenceClassification\n",
    "from transformers import Trainer, TrainingArguments\n",
    "from transformers import DataCollatorWithPadding"
   ]
  },
  {
   "cell_type": "markdown",
   "id": "cf7092b4-aff0-42f7-a00b-16660336b523",
   "metadata": {},
   "source": [
    "### We checked distribution of the length of inputs in the test set to find out the optimal `max_length` parameter."
   ]
  },
  {
   "cell_type": "code",
   "execution_count": 84,
   "id": "32213c82-8f35-4809-a93a-522770c5abe2",
   "metadata": {},
   "outputs": [
    {
     "data": {
      "text/html": [
       "<div>\n",
       "<style scoped>\n",
       "    .dataframe tbody tr th:only-of-type {\n",
       "        vertical-align: middle;\n",
       "    }\n",
       "\n",
       "    .dataframe tbody tr th {\n",
       "        vertical-align: top;\n",
       "    }\n",
       "\n",
       "    .dataframe thead th {\n",
       "        text-align: right;\n",
       "    }\n",
       "</style>\n",
       "<table border=\"1\" class=\"dataframe\">\n",
       "  <thead>\n",
       "    <tr style=\"text-align: right;\">\n",
       "      <th></th>\n",
       "      <th>length</th>\n",
       "    </tr>\n",
       "  </thead>\n",
       "  <tbody>\n",
       "    <tr>\n",
       "      <th>count</th>\n",
       "      <td>25000.000000</td>\n",
       "    </tr>\n",
       "    <tr>\n",
       "      <th>mean</th>\n",
       "      <td>297.807480</td>\n",
       "    </tr>\n",
       "    <tr>\n",
       "      <th>std</th>\n",
       "      <td>220.395691</td>\n",
       "    </tr>\n",
       "    <tr>\n",
       "      <th>min</th>\n",
       "      <td>10.000000</td>\n",
       "    </tr>\n",
       "    <tr>\n",
       "      <th>25%</th>\n",
       "      <td>161.000000</td>\n",
       "    </tr>\n",
       "    <tr>\n",
       "      <th>50%</th>\n",
       "      <td>223.000000</td>\n",
       "    </tr>\n",
       "    <tr>\n",
       "      <th>75%</th>\n",
       "      <td>361.250000</td>\n",
       "    </tr>\n",
       "    <tr>\n",
       "      <th>max</th>\n",
       "      <td>3090.000000</td>\n",
       "    </tr>\n",
       "  </tbody>\n",
       "</table>\n",
       "</div>"
      ],
      "text/plain": [
       "             length\n",
       "count  25000.000000\n",
       "mean     297.807480\n",
       "std      220.395691\n",
       "min       10.000000\n",
       "25%      161.000000\n",
       "50%      223.000000\n",
       "75%      361.250000\n",
       "max     3090.000000"
      ]
     },
     "execution_count": 84,
     "metadata": {},
     "output_type": "execute_result"
    }
   ],
   "source": [
    "tokenized_lengths = [\n",
    "    len(tokenizer(x)[\"input_ids\"]) for x in tokenized_imdb[\"test\"][\"text\"]\n",
    "]\n",
    "\n",
    "lengths_df = pd.DataFrame(tokenized_lengths, columns=[\"length\"])\n",
    "\n",
    "lengths_df.describe()"
   ]
  },
  {
   "cell_type": "code",
   "execution_count": 85,
   "id": "29362eec-5b30-4617-9d85-4740c2902e87",
   "metadata": {},
   "outputs": [
    {
     "data": {
      "image/png": "[encoded data removed]",
      "text/plain": [
       "<Figure size 640x480 with 1 Axes>"
      ]
     },
     "metadata": {},
     "output_type": "display_data"
    }
   ],
   "source": [
    "import matplotlib.pyplot as plt\n",
    "\n",
    "plt.hist(lengths_df[\"length\"], bins=50, color=\"c\", edgecolor=\"black\")\n",
    "plt.title(\"Distribution of Sentence Lengths in IMDB Test Set\")\n",
    "plt.xlabel(\"Number of Tokens\")\n",
    "plt.ylabel(\"Frequency\")\n",
    "plt.show()"
   ]
  },
  {
   "cell_type": "markdown",
   "id": "584f9934-56c6-477d-b9f1-58acb1cd8735",
   "metadata": {},
   "source": [
    "### We decided to stick with the `1024 max_length` as there wasn't any specified for this model in the config."
   ]
  },
  {
   "cell_type": "code",
   "execution_count": 97,
   "id": "576529af-5d7f-412f-967e-d7e4fcf63876",
   "metadata": {},
   "outputs": [
    {
     "data": {
      "application/vnd.jupyter.widget-view+json": {
       "model_id": "21d5f06bc17f452abb7ada06938baa58",
       "version_major": 2,
       "version_minor": 0
      },
      "text/plain": [
       "Map:   0%|          | 0/25000 [00:00<?, ? examples/s]"
      ]
     },
     "metadata": {},
     "output_type": "display_data"
    },
    {
     "data": {
      "application/vnd.jupyter.widget-view+json": {
       "model_id": "3ffb9877230c4df9859975df41088945",
       "version_major": 2,
       "version_minor": 0
      },
      "text/plain": [
       "Map:   0%|          | 0/25000 [00:00<?, ? examples/s]"
      ]
     },
     "metadata": {},
     "output_type": "display_data"
    }
   ],
   "source": [
    "tokenizer = AutoTokenizer.from_pretrained(\"dfurman/deberta-v3-base-imdb\")\n",
    "model = AutoModelForSequenceClassification.from_pretrained(\n",
    "    \"dfurman/deberta-v3-base-imdb\"\n",
    ")\n",
    "\n",
    "\n",
    "def tokenize_function(examples):\n",
    "    return tokenizer(examples[\"text\"], max_length=1024, truncation=True, padding=True)\n",
    "\n",
    "\n",
    "tokenized_imdb = imdb.map(tokenize_function, batched=True)\n",
    "\n",
    "test_loader = DataLoader(tokenized_imdb[\"test\"].with_format(\"torch\"), batch_size=64)"
   ]
  },
  {
   "cell_type": "code",
   "execution_count": 98,
   "id": "1fda8fb6-c2a8-496a-a8bf-89afbbc84ade",
   "metadata": {},
   "outputs": [
    {
     "data": {
      "application/vnd.jupyter.widget-view+json": {
       "model_id": "1e16b644b5bf4c74a05661a54ad824e0",
       "version_major": 2,
       "version_minor": 0
      },
      "text/plain": [
       "  0%|          | 0/391 [00:00<?, ?it/s]"
      ]
     },
     "metadata": {},
     "output_type": "display_data"
    }
   ],
   "source": [
    "model.eval()\n",
    "\n",
    "all_preds = []\n",
    "all_labels = []\n",
    "\n",
    "device = torch.device(\"cuda\" if torch.cuda.is_available() else \"cpu\")\n",
    "model.to(device)\n",
    "\n",
    "with torch.no_grad():\n",
    "    for batch in tqdm(test_loader):\n",
    "        input_ids = batch[\"input_ids\"].to(device)\n",
    "        attention_mask = batch[\"attention_mask\"].to(device)\n",
    "        labels = batch[\"label\"].to(device)\n",
    "\n",
    "        outputs = model(input_ids=input_ids, attention_mask=attention_mask)\n",
    "\n",
    "        logits = outputs.logits\n",
    "        preds = torch.argmax(logits, dim=1)\n",
    "\n",
    "        all_preds.append(preds.cpu().numpy())\n",
    "        all_labels.append(labels.cpu().numpy())"
   ]
  },
  {
   "cell_type": "code",
   "execution_count": 99,
   "id": "75df168c-fced-4ceb-8571-b40072787f6a",
   "metadata": {},
   "outputs": [
    {
     "data": {
      "text/html": [
       "<div>\n",
       "<style scoped>\n",
       "    .dataframe tbody tr th:only-of-type {\n",
       "        vertical-align: middle;\n",
       "    }\n",
       "\n",
       "    .dataframe tbody tr th {\n",
       "        vertical-align: top;\n",
       "    }\n",
       "\n",
       "    .dataframe thead th {\n",
       "        text-align: right;\n",
       "    }\n",
       "</style>\n",
       "<table border=\"1\" class=\"dataframe\">\n",
       "  <thead>\n",
       "    <tr style=\"text-align: right;\">\n",
       "      <th></th>\n",
       "      <th>Model</th>\n",
       "      <th>Embedding</th>\n",
       "      <th>Preprocessing</th>\n",
       "      <th>Accuracy</th>\n",
       "      <th>Precision</th>\n",
       "      <th>Recall</th>\n",
       "      <th>F1</th>\n",
       "    </tr>\n",
       "  </thead>\n",
       "  <tbody>\n",
       "    <tr>\n",
       "      <th>0</th>\n",
       "      <td>deberta-v3-base-imdb</td>\n",
       "      <td>-</td>\n",
       "      <td>-</td>\n",
       "      <td>0.95404</td>\n",
       "      <td>0.943087</td>\n",
       "      <td>0.9664</td>\n",
       "      <td>0.954601</td>\n",
       "    </tr>\n",
       "  </tbody>\n",
       "</table>\n",
       "</div>"
      ],
      "text/plain": [
       "                  Model Embedding Preprocessing  Accuracy  Precision  Recall  \\\n",
       "0  deberta-v3-base-imdb         -             -   0.95404   0.943087  0.9664   \n",
       "\n",
       "         F1  \n",
       "0  0.954601  "
      ]
     },
     "execution_count": 99,
     "metadata": {},
     "output_type": "execute_result"
    }
   ],
   "source": [
    "all_preds = np.concatenate(all_preds)\n",
    "all_labels = np.concatenate(all_labels)\n",
    "\n",
    "accuracy = accuracy_metric.compute(predictions=all_preds, references=all_labels)\n",
    "precision = precision_metric.compute(\n",
    "    predictions=all_preds, references=all_labels, average=\"binary\"\n",
    ")\n",
    "recall = recall_metric.compute(\n",
    "    predictions=all_preds, references=all_labels, average=\"binary\"\n",
    ")\n",
    "f1 = f1_metric.compute(predictions=all_preds, references=all_labels, average=\"binary\")\n",
    "\n",
    "df_results = pd.DataFrame(\n",
    "    [\n",
    "        {\n",
    "            \"Model\": \"deberta-v3-base-imdb\",\n",
    "            \"Embedding\": \"-\",\n",
    "            \"Preprocessing\": \"-\",\n",
    "            \"Accuracy\": accuracy[\"accuracy\"],\n",
    "            \"Precision\": precision[\"precision\"],\n",
    "            \"Recall\": recall[\"recall\"],\n",
    "            \"F1\": f1[\"f1\"],\n",
    "        }\n",
    "    ]\n",
    ")\n",
    "\n",
    "df_results.to_csv(\"deberta_results.csv\", index=False)\n",
    "df_results"
   ]
  },
  {
   "cell_type": "code",
   "execution_count": 4,
   "id": "1bf0d01f-f150-431e-8984-6bac72212b30",
   "metadata": {},
   "outputs": [
    {
     "name": "stderr",
     "output_type": "stream",
     "text": [
      "/tmp/ipykernel_515775/3323215690.py:7: FutureWarning: The behavior of DataFrame concatenation with empty or all-NA entries is deprecated. In a future version, this will no longer exclude empty or all-NA columns when determining the result dtypes. To retain the old behavior, exclude the relevant entries before the concat operation.\n",
      "  res = pd.concat([res, pd.read_csv('./wyniki/' + file)])\n"
     ]
    },
    {
     "data": {
      "text/html": [
       "<div>\n",
       "<style scoped>\n",
       "    .dataframe tbody tr th:only-of-type {\n",
       "        vertical-align: middle;\n",
       "    }\n",
       "\n",
       "    .dataframe tbody tr th {\n",
       "        vertical-align: top;\n",
       "    }\n",
       "\n",
       "    .dataframe thead th {\n",
       "        text-align: right;\n",
       "    }\n",
       "</style>\n",
       "<table border=\"1\" class=\"dataframe\">\n",
       "  <thead>\n",
       "    <tr style=\"text-align: right;\">\n",
       "      <th></th>\n",
       "      <th>Model</th>\n",
       "      <th>Embedding</th>\n",
       "      <th>Preprocessing</th>\n",
       "      <th>Accuracy</th>\n",
       "      <th>Precision</th>\n",
       "      <th>Recall</th>\n",
       "      <th>F1</th>\n",
       "    </tr>\n",
       "  </thead>\n",
       "  <tbody>\n",
       "    <tr>\n",
       "      <th>0</th>\n",
       "      <td>LogisticRegression</td>\n",
       "      <td>word2vec</td>\n",
       "      <td>NaN</td>\n",
       "      <td>0.82768</td>\n",
       "      <td>0.833008</td>\n",
       "      <td>0.81968</td>\n",
       "      <td>0.826290</td>\n",
       "    </tr>\n",
       "    <tr>\n",
       "      <th>1</th>\n",
       "      <td>LogisticRegression</td>\n",
       "      <td>fasttext</td>\n",
       "      <td>NaN</td>\n",
       "      <td>0.77892</td>\n",
       "      <td>0.786413</td>\n",
       "      <td>0.76584</td>\n",
       "      <td>0.775990</td>\n",
       "    </tr>\n",
       "    <tr>\n",
       "      <th>2</th>\n",
       "      <td>LogisticRegression</td>\n",
       "      <td>glove</td>\n",
       "      <td>NaN</td>\n",
       "      <td>0.81252</td>\n",
       "      <td>0.817421</td>\n",
       "      <td>0.80480</td>\n",
       "      <td>0.811061</td>\n",
       "    </tr>\n",
       "    <tr>\n",
       "      <th>3</th>\n",
       "      <td>GaussianNB</td>\n",
       "      <td>word2vec</td>\n",
       "      <td>NaN</td>\n",
       "      <td>0.69820</td>\n",
       "      <td>0.729038</td>\n",
       "      <td>0.63088</td>\n",
       "      <td>0.676416</td>\n",
       "    </tr>\n",
       "    <tr>\n",
       "      <th>4</th>\n",
       "      <td>GaussianNB</td>\n",
       "      <td>fasttext</td>\n",
       "      <td>NaN</td>\n",
       "      <td>0.68188</td>\n",
       "      <td>0.712695</td>\n",
       "      <td>0.60944</td>\n",
       "      <td>0.657036</td>\n",
       "    </tr>\n",
       "    <tr>\n",
       "      <th>...</th>\n",
       "      <td>...</td>\n",
       "      <td>...</td>\n",
       "      <td>...</td>\n",
       "      <td>...</td>\n",
       "      <td>...</td>\n",
       "      <td>...</td>\n",
       "      <td>...</td>\n",
       "    </tr>\n",
       "    <tr>\n",
       "      <th>69</th>\n",
       "      <td>XGBClassifier</td>\n",
       "      <td>word2vec</td>\n",
       "      <td>['stopwords', 'stemming']</td>\n",
       "      <td>0.78088</td>\n",
       "      <td>0.779850</td>\n",
       "      <td>0.78272</td>\n",
       "      <td>0.781282</td>\n",
       "    </tr>\n",
       "    <tr>\n",
       "      <th>70</th>\n",
       "      <td>XGBClassifier</td>\n",
       "      <td>fasttext</td>\n",
       "      <td>['stopwords', 'stemming']</td>\n",
       "      <td>0.78616</td>\n",
       "      <td>0.789870</td>\n",
       "      <td>0.77976</td>\n",
       "      <td>0.784783</td>\n",
       "    </tr>\n",
       "    <tr>\n",
       "      <th>71</th>\n",
       "      <td>XGBClassifier</td>\n",
       "      <td>glove</td>\n",
       "      <td>['stopwords', 'stemming']</td>\n",
       "      <td>0.76688</td>\n",
       "      <td>0.771220</td>\n",
       "      <td>0.75888</td>\n",
       "      <td>0.765000</td>\n",
       "    </tr>\n",
       "    <tr>\n",
       "      <th>0</th>\n",
       "      <td>deberta-v3-base-imdb</td>\n",
       "      <td>-</td>\n",
       "      <td>-</td>\n",
       "      <td>0.95404</td>\n",
       "      <td>0.943087</td>\n",
       "      <td>0.96640</td>\n",
       "      <td>0.954601</td>\n",
       "    </tr>\n",
       "    <tr>\n",
       "      <th>0</th>\n",
       "      <td>distilbert-base-uncased</td>\n",
       "      <td>-</td>\n",
       "      <td>-</td>\n",
       "      <td>0.92464</td>\n",
       "      <td>0.926825</td>\n",
       "      <td>0.92208</td>\n",
       "      <td>0.924447</td>\n",
       "    </tr>\n",
       "  </tbody>\n",
       "</table>\n",
       "<p>74 rows × 7 columns</p>\n",
       "</div>"
      ],
      "text/plain": [
       "                      Model Embedding              Preprocessing  Accuracy  \\\n",
       "0        LogisticRegression  word2vec                        NaN   0.82768   \n",
       "1        LogisticRegression  fasttext                        NaN   0.77892   \n",
       "2        LogisticRegression     glove                        NaN   0.81252   \n",
       "3                GaussianNB  word2vec                        NaN   0.69820   \n",
       "4                GaussianNB  fasttext                        NaN   0.68188   \n",
       "..                      ...       ...                        ...       ...   \n",
       "69            XGBClassifier  word2vec  ['stopwords', 'stemming']   0.78088   \n",
       "70            XGBClassifier  fasttext  ['stopwords', 'stemming']   0.78616   \n",
       "71            XGBClassifier     glove  ['stopwords', 'stemming']   0.76688   \n",
       "0      deberta-v3-base-imdb         -                          -   0.95404   \n",
       "0   distilbert-base-uncased         -                          -   0.92464   \n",
       "\n",
       "    Precision   Recall        F1  \n",
       "0    0.833008  0.81968  0.826290  \n",
       "1    0.786413  0.76584  0.775990  \n",
       "2    0.817421  0.80480  0.811061  \n",
       "3    0.729038  0.63088  0.676416  \n",
       "4    0.712695  0.60944  0.657036  \n",
       "..        ...      ...       ...  \n",
       "69   0.779850  0.78272  0.781282  \n",
       "70   0.789870  0.77976  0.784783  \n",
       "71   0.771220  0.75888  0.765000  \n",
       "0    0.943087  0.96640  0.954601  \n",
       "0    0.926825  0.92208  0.924447  \n",
       "\n",
       "[74 rows x 7 columns]"
      ]
     },
     "execution_count": 4,
     "metadata": {},
     "output_type": "execute_result"
    }
   ],
   "source": [
    "import os\n",
    "\n",
    "res = pd.DataFrame(\n",
    "    columns=[\n",
    "        \"Model\",\n",
    "        \"Embedding\",\n",
    "        \"Preprocessing\",\n",
    "        \"Accuracy\",\n",
    "        \"Precision\",\n",
    "        \"Recall\",\n",
    "        \"F1\",\n",
    "    ]\n",
    ")\n",
    "for file in os.listdir(\"./\"):\n",
    "    if file.endswith(\".csv\"):\n",
    "        res = pd.concat([res, pd.read_csv(file)])\n",
    "res"
   ]
  },
  {
   "cell_type": "markdown",
   "id": "4fc59080-c216-4865-8f20-deec2db8dd0b",
   "metadata": {},
   "source": [
    "# Top 5 Results based on each metric "
   ]
  },
  {
   "cell_type": "markdown",
   "id": "26bdf345-f245-4fb6-8ce3-2df5b57991dc",
   "metadata": {},
   "source": [
    "## Accuracy"
   ]
  },
  {
   "cell_type": "code",
   "execution_count": 5,
   "id": "9843aea9-28e3-413f-9799-1714cad85457",
   "metadata": {},
   "outputs": [
    {
     "data": {
      "text/html": [
       "<div>\n",
       "<style scoped>\n",
       "    .dataframe tbody tr th:only-of-type {\n",
       "        vertical-align: middle;\n",
       "    }\n",
       "\n",
       "    .dataframe tbody tr th {\n",
       "        vertical-align: top;\n",
       "    }\n",
       "\n",
       "    .dataframe thead th {\n",
       "        text-align: right;\n",
       "    }\n",
       "</style>\n",
       "<table border=\"1\" class=\"dataframe\">\n",
       "  <thead>\n",
       "    <tr style=\"text-align: right;\">\n",
       "      <th></th>\n",
       "      <th>Model</th>\n",
       "      <th>Embedding</th>\n",
       "      <th>Preprocessing</th>\n",
       "      <th>Accuracy</th>\n",
       "      <th>Precision</th>\n",
       "      <th>Recall</th>\n",
       "      <th>F1</th>\n",
       "    </tr>\n",
       "  </thead>\n",
       "  <tbody>\n",
       "    <tr>\n",
       "      <th>0</th>\n",
       "      <td>deberta-v3-base-imdb</td>\n",
       "      <td>-</td>\n",
       "      <td>-</td>\n",
       "      <td>0.95404</td>\n",
       "      <td>0.943087</td>\n",
       "      <td>0.96640</td>\n",
       "      <td>0.954601</td>\n",
       "    </tr>\n",
       "    <tr>\n",
       "      <th>0</th>\n",
       "      <td>distilbert-base-uncased</td>\n",
       "      <td>-</td>\n",
       "      <td>-</td>\n",
       "      <td>0.92464</td>\n",
       "      <td>0.926825</td>\n",
       "      <td>0.92208</td>\n",
       "      <td>0.924447</td>\n",
       "    </tr>\n",
       "    <tr>\n",
       "      <th>12</th>\n",
       "      <td>LogisticRegression</td>\n",
       "      <td>word2vec</td>\n",
       "      <td>['stopwords']</td>\n",
       "      <td>0.85124</td>\n",
       "      <td>0.853360</td>\n",
       "      <td>0.84824</td>\n",
       "      <td>0.850792</td>\n",
       "    </tr>\n",
       "    <tr>\n",
       "      <th>48</th>\n",
       "      <td>LogisticRegression</td>\n",
       "      <td>word2vec</td>\n",
       "      <td>['stopwords', 'lemmatization']</td>\n",
       "      <td>0.84840</td>\n",
       "      <td>0.851153</td>\n",
       "      <td>0.84448</td>\n",
       "      <td>0.847803</td>\n",
       "    </tr>\n",
       "    <tr>\n",
       "      <th>24</th>\n",
       "      <td>LogisticRegression</td>\n",
       "      <td>word2vec</td>\n",
       "      <td>['lemmatization']</td>\n",
       "      <td>0.84464</td>\n",
       "      <td>0.850814</td>\n",
       "      <td>0.83584</td>\n",
       "      <td>0.843261</td>\n",
       "    </tr>\n",
       "  </tbody>\n",
       "</table>\n",
       "</div>"
      ],
      "text/plain": [
       "                      Model Embedding                   Preprocessing  \\\n",
       "0      deberta-v3-base-imdb         -                               -   \n",
       "0   distilbert-base-uncased         -                               -   \n",
       "12       LogisticRegression  word2vec                   ['stopwords']   \n",
       "48       LogisticRegression  word2vec  ['stopwords', 'lemmatization']   \n",
       "24       LogisticRegression  word2vec               ['lemmatization']   \n",
       "\n",
       "    Accuracy  Precision   Recall        F1  \n",
       "0    0.95404   0.943087  0.96640  0.954601  \n",
       "0    0.92464   0.926825  0.92208  0.924447  \n",
       "12   0.85124   0.853360  0.84824  0.850792  \n",
       "48   0.84840   0.851153  0.84448  0.847803  \n",
       "24   0.84464   0.850814  0.83584  0.843261  "
      ]
     },
     "execution_count": 5,
     "metadata": {},
     "output_type": "execute_result"
    }
   ],
   "source": [
    "res.sort_values(\"Accuracy\", ascending=False).head(5)"
   ]
  },
  {
   "cell_type": "markdown",
   "id": "e7945146-3391-4df8-bb39-d78ec3afed0a",
   "metadata": {},
   "source": [
    "## Precision"
   ]
  },
  {
   "cell_type": "code",
   "execution_count": 6,
   "id": "c3cdfe96-0fd2-401e-aa12-0511285ae3d8",
   "metadata": {},
   "outputs": [
    {
     "data": {
      "text/html": [
       "<div>\n",
       "<style scoped>\n",
       "    .dataframe tbody tr th:only-of-type {\n",
       "        vertical-align: middle;\n",
       "    }\n",
       "\n",
       "    .dataframe tbody tr th {\n",
       "        vertical-align: top;\n",
       "    }\n",
       "\n",
       "    .dataframe thead th {\n",
       "        text-align: right;\n",
       "    }\n",
       "</style>\n",
       "<table border=\"1\" class=\"dataframe\">\n",
       "  <thead>\n",
       "    <tr style=\"text-align: right;\">\n",
       "      <th></th>\n",
       "      <th>Model</th>\n",
       "      <th>Embedding</th>\n",
       "      <th>Preprocessing</th>\n",
       "      <th>Accuracy</th>\n",
       "      <th>Precision</th>\n",
       "      <th>Recall</th>\n",
       "      <th>F1</th>\n",
       "    </tr>\n",
       "  </thead>\n",
       "  <tbody>\n",
       "    <tr>\n",
       "      <th>0</th>\n",
       "      <td>deberta-v3-base-imdb</td>\n",
       "      <td>-</td>\n",
       "      <td>-</td>\n",
       "      <td>0.95404</td>\n",
       "      <td>0.943087</td>\n",
       "      <td>0.96640</td>\n",
       "      <td>0.954601</td>\n",
       "    </tr>\n",
       "    <tr>\n",
       "      <th>0</th>\n",
       "      <td>distilbert-base-uncased</td>\n",
       "      <td>-</td>\n",
       "      <td>-</td>\n",
       "      <td>0.92464</td>\n",
       "      <td>0.926825</td>\n",
       "      <td>0.92208</td>\n",
       "      <td>0.924447</td>\n",
       "    </tr>\n",
       "    <tr>\n",
       "      <th>12</th>\n",
       "      <td>LogisticRegression</td>\n",
       "      <td>word2vec</td>\n",
       "      <td>['stopwords']</td>\n",
       "      <td>0.85124</td>\n",
       "      <td>0.853360</td>\n",
       "      <td>0.84824</td>\n",
       "      <td>0.850792</td>\n",
       "    </tr>\n",
       "    <tr>\n",
       "      <th>48</th>\n",
       "      <td>LogisticRegression</td>\n",
       "      <td>word2vec</td>\n",
       "      <td>['stopwords', 'lemmatization']</td>\n",
       "      <td>0.84840</td>\n",
       "      <td>0.851153</td>\n",
       "      <td>0.84448</td>\n",
       "      <td>0.847803</td>\n",
       "    </tr>\n",
       "    <tr>\n",
       "      <th>24</th>\n",
       "      <td>LogisticRegression</td>\n",
       "      <td>word2vec</td>\n",
       "      <td>['lemmatization']</td>\n",
       "      <td>0.84464</td>\n",
       "      <td>0.850814</td>\n",
       "      <td>0.83584</td>\n",
       "      <td>0.843261</td>\n",
       "    </tr>\n",
       "  </tbody>\n",
       "</table>\n",
       "</div>"
      ],
      "text/plain": [
       "                      Model Embedding                   Preprocessing  \\\n",
       "0      deberta-v3-base-imdb         -                               -   \n",
       "0   distilbert-base-uncased         -                               -   \n",
       "12       LogisticRegression  word2vec                   ['stopwords']   \n",
       "48       LogisticRegression  word2vec  ['stopwords', 'lemmatization']   \n",
       "24       LogisticRegression  word2vec               ['lemmatization']   \n",
       "\n",
       "    Accuracy  Precision   Recall        F1  \n",
       "0    0.95404   0.943087  0.96640  0.954601  \n",
       "0    0.92464   0.926825  0.92208  0.924447  \n",
       "12   0.85124   0.853360  0.84824  0.850792  \n",
       "48   0.84840   0.851153  0.84448  0.847803  \n",
       "24   0.84464   0.850814  0.83584  0.843261  "
      ]
     },
     "execution_count": 6,
     "metadata": {},
     "output_type": "execute_result"
    }
   ],
   "source": [
    "res.sort_values(\"Precision\", ascending=False).head(5)"
   ]
  },
  {
   "cell_type": "markdown",
   "id": "32b48f7c-a1c1-4e68-9de8-d25663542580",
   "metadata": {},
   "source": [
    "## Recall"
   ]
  },
  {
   "cell_type": "code",
   "execution_count": 7,
   "id": "3c18db0d-129e-4ae6-bd52-7b0b41b626d4",
   "metadata": {},
   "outputs": [
    {
     "data": {
      "text/html": [
       "<div>\n",
       "<style scoped>\n",
       "    .dataframe tbody tr th:only-of-type {\n",
       "        vertical-align: middle;\n",
       "    }\n",
       "\n",
       "    .dataframe tbody tr th {\n",
       "        vertical-align: top;\n",
       "    }\n",
       "\n",
       "    .dataframe thead th {\n",
       "        text-align: right;\n",
       "    }\n",
       "</style>\n",
       "<table border=\"1\" class=\"dataframe\">\n",
       "  <thead>\n",
       "    <tr style=\"text-align: right;\">\n",
       "      <th></th>\n",
       "      <th>Model</th>\n",
       "      <th>Embedding</th>\n",
       "      <th>Preprocessing</th>\n",
       "      <th>Accuracy</th>\n",
       "      <th>Precision</th>\n",
       "      <th>Recall</th>\n",
       "      <th>F1</th>\n",
       "    </tr>\n",
       "  </thead>\n",
       "  <tbody>\n",
       "    <tr>\n",
       "      <th>0</th>\n",
       "      <td>deberta-v3-base-imdb</td>\n",
       "      <td>-</td>\n",
       "      <td>-</td>\n",
       "      <td>0.95404</td>\n",
       "      <td>0.943087</td>\n",
       "      <td>0.96640</td>\n",
       "      <td>0.954601</td>\n",
       "    </tr>\n",
       "    <tr>\n",
       "      <th>0</th>\n",
       "      <td>distilbert-base-uncased</td>\n",
       "      <td>-</td>\n",
       "      <td>-</td>\n",
       "      <td>0.92464</td>\n",
       "      <td>0.926825</td>\n",
       "      <td>0.92208</td>\n",
       "      <td>0.924447</td>\n",
       "    </tr>\n",
       "    <tr>\n",
       "      <th>12</th>\n",
       "      <td>LogisticRegression</td>\n",
       "      <td>word2vec</td>\n",
       "      <td>['stopwords']</td>\n",
       "      <td>0.85124</td>\n",
       "      <td>0.853360</td>\n",
       "      <td>0.84824</td>\n",
       "      <td>0.850792</td>\n",
       "    </tr>\n",
       "    <tr>\n",
       "      <th>48</th>\n",
       "      <td>LogisticRegression</td>\n",
       "      <td>word2vec</td>\n",
       "      <td>['stopwords', 'lemmatization']</td>\n",
       "      <td>0.84840</td>\n",
       "      <td>0.851153</td>\n",
       "      <td>0.84448</td>\n",
       "      <td>0.847803</td>\n",
       "    </tr>\n",
       "    <tr>\n",
       "      <th>24</th>\n",
       "      <td>LogisticRegression</td>\n",
       "      <td>word2vec</td>\n",
       "      <td>['lemmatization']</td>\n",
       "      <td>0.84464</td>\n",
       "      <td>0.850814</td>\n",
       "      <td>0.83584</td>\n",
       "      <td>0.843261</td>\n",
       "    </tr>\n",
       "  </tbody>\n",
       "</table>\n",
       "</div>"
      ],
      "text/plain": [
       "                      Model Embedding                   Preprocessing  \\\n",
       "0      deberta-v3-base-imdb         -                               -   \n",
       "0   distilbert-base-uncased         -                               -   \n",
       "12       LogisticRegression  word2vec                   ['stopwords']   \n",
       "48       LogisticRegression  word2vec  ['stopwords', 'lemmatization']   \n",
       "24       LogisticRegression  word2vec               ['lemmatization']   \n",
       "\n",
       "    Accuracy  Precision   Recall        F1  \n",
       "0    0.95404   0.943087  0.96640  0.954601  \n",
       "0    0.92464   0.926825  0.92208  0.924447  \n",
       "12   0.85124   0.853360  0.84824  0.850792  \n",
       "48   0.84840   0.851153  0.84448  0.847803  \n",
       "24   0.84464   0.850814  0.83584  0.843261  "
      ]
     },
     "execution_count": 7,
     "metadata": {},
     "output_type": "execute_result"
    }
   ],
   "source": [
    "res.sort_values(\"Recall\", ascending=False).head(5)"
   ]
  },
  {
   "cell_type": "markdown",
   "id": "9c9d51fe-15d9-419a-9645-c1a31ed84c6d",
   "metadata": {},
   "source": [
    "## F1 score"
   ]
  },
  {
   "cell_type": "code",
   "execution_count": 8,
   "id": "18c2c05e-afb0-4660-a7ba-f45307a0b10b",
   "metadata": {},
   "outputs": [
    {
     "data": {
      "text/html": [
       "<div>\n",
       "<style scoped>\n",
       "    .dataframe tbody tr th:only-of-type {\n",
       "        vertical-align: middle;\n",
       "    }\n",
       "\n",
       "    .dataframe tbody tr th {\n",
       "        vertical-align: top;\n",
       "    }\n",
       "\n",
       "    .dataframe thead th {\n",
       "        text-align: right;\n",
       "    }\n",
       "</style>\n",
       "<table border=\"1\" class=\"dataframe\">\n",
       "  <thead>\n",
       "    <tr style=\"text-align: right;\">\n",
       "      <th></th>\n",
       "      <th>Model</th>\n",
       "      <th>Embedding</th>\n",
       "      <th>Preprocessing</th>\n",
       "      <th>Accuracy</th>\n",
       "      <th>Precision</th>\n",
       "      <th>Recall</th>\n",
       "      <th>F1</th>\n",
       "    </tr>\n",
       "  </thead>\n",
       "  <tbody>\n",
       "    <tr>\n",
       "      <th>0</th>\n",
       "      <td>deberta-v3-base-imdb</td>\n",
       "      <td>-</td>\n",
       "      <td>-</td>\n",
       "      <td>0.95404</td>\n",
       "      <td>0.943087</td>\n",
       "      <td>0.96640</td>\n",
       "      <td>0.954601</td>\n",
       "    </tr>\n",
       "    <tr>\n",
       "      <th>0</th>\n",
       "      <td>distilbert-base-uncased</td>\n",
       "      <td>-</td>\n",
       "      <td>-</td>\n",
       "      <td>0.92464</td>\n",
       "      <td>0.926825</td>\n",
       "      <td>0.92208</td>\n",
       "      <td>0.924447</td>\n",
       "    </tr>\n",
       "    <tr>\n",
       "      <th>12</th>\n",
       "      <td>LogisticRegression</td>\n",
       "      <td>word2vec</td>\n",
       "      <td>['stopwords']</td>\n",
       "      <td>0.85124</td>\n",
       "      <td>0.853360</td>\n",
       "      <td>0.84824</td>\n",
       "      <td>0.850792</td>\n",
       "    </tr>\n",
       "    <tr>\n",
       "      <th>48</th>\n",
       "      <td>LogisticRegression</td>\n",
       "      <td>word2vec</td>\n",
       "      <td>['stopwords', 'lemmatization']</td>\n",
       "      <td>0.84840</td>\n",
       "      <td>0.851153</td>\n",
       "      <td>0.84448</td>\n",
       "      <td>0.847803</td>\n",
       "    </tr>\n",
       "    <tr>\n",
       "      <th>24</th>\n",
       "      <td>LogisticRegression</td>\n",
       "      <td>word2vec</td>\n",
       "      <td>['lemmatization']</td>\n",
       "      <td>0.84464</td>\n",
       "      <td>0.850814</td>\n",
       "      <td>0.83584</td>\n",
       "      <td>0.843261</td>\n",
       "    </tr>\n",
       "  </tbody>\n",
       "</table>\n",
       "</div>"
      ],
      "text/plain": [
       "                      Model Embedding                   Preprocessing  \\\n",
       "0      deberta-v3-base-imdb         -                               -   \n",
       "0   distilbert-base-uncased         -                               -   \n",
       "12       LogisticRegression  word2vec                   ['stopwords']   \n",
       "48       LogisticRegression  word2vec  ['stopwords', 'lemmatization']   \n",
       "24       LogisticRegression  word2vec               ['lemmatization']   \n",
       "\n",
       "    Accuracy  Precision   Recall        F1  \n",
       "0    0.95404   0.943087  0.96640  0.954601  \n",
       "0    0.92464   0.926825  0.92208  0.924447  \n",
       "12   0.85124   0.853360  0.84824  0.850792  \n",
       "48   0.84840   0.851153  0.84448  0.847803  \n",
       "24   0.84464   0.850814  0.83584  0.843261  "
      ]
     },
     "execution_count": 8,
     "metadata": {},
     "output_type": "execute_result"
    }
   ],
   "source": [
    "res.sort_values(\"F1\", ascending=False).head(5)"
   ]
  },
  {
   "cell_type": "markdown",
   "id": "f27811ed-d359-43b7-83cd-aadfc0bd00d7",
   "metadata": {},
   "source": [
    "### Saving final table"
   ]
  },
  {
   "cell_type": "code",
   "execution_count": 9,
   "id": "fcb9c9cd-0a81-4b65-9ace-ff5d34ddec1f",
   "metadata": {},
   "outputs": [],
   "source": [
    "res.to_csv(\"Galkowski_Przybytniowska_results.csv\", index=False)"
   ]
  },
  {
   "cell_type": "markdown",
   "id": "c2b1d0b8-064b-4981-96a9-f72054762fdd",
   "metadata": {},
   "source": [
    "**Disclaimer**: Some parts of the code have been generated using Copilot AI Assistant."
   ]
  }
 ],
 "metadata": {
  "kernelspec": {
   "display_name": "Python 3 (ipykernel)",
   "language": "python",
   "name": "python3"
  },
  "language_info": {
   "codemirror_mode": {
    "name": "ipython",
    "version": 3
   },
   "file_extension": ".py",
   "mimetype": "text/x-python",
   "name": "python",
   "nbconvert_exporter": "python",
   "pygments_lexer": "ipython3",
   "version": "3.11.10"
  }
 },
 "nbformat": 4,
 "nbformat_minor": 5
}

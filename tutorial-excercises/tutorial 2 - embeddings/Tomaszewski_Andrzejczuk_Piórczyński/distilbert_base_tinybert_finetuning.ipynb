{
 "cells": [
  {
   "cell_type": "markdown",
   "metadata": {},
   "source": [
    "# Contest with embedding-based models"
   ]
  },
  {
   "cell_type": "code",
   "execution_count": 2,
   "metadata": {},
   "outputs": [
    {
     "name": "stderr",
     "output_type": "stream",
     "text": [
      "c:\\Users\\ltoma\\anaconda3\\envs\\NLP\\Lib\\site-packages\\tqdm\\auto.py:21: TqdmWarning: IProgress not found. Please update jupyter and ipywidgets. See https://ipywidgets.readthedocs.io/en/stable/user_install.html\n",
      "  from .autonotebook import tqdm as notebook_tqdm\n"
     ]
    }
   ],
   "source": [
    "from transformers import Trainer, TrainingArguments, AutoTokenizer, AutoModelForSequenceClassification, DataCollatorWithPadding\n",
    "from datasets import load_dataset\n",
    "from sklearn.metrics import precision_recall_fscore_support\n",
    "import pandas as pd"
   ]
  },
  {
   "cell_type": "markdown",
   "metadata": {},
   "source": [
    "## IMDB Dataset"
   ]
  },
  {
   "cell_type": "code",
   "execution_count": 3,
   "metadata": {},
   "outputs": [],
   "source": [
    "ds = load_dataset(\"stanfordnlp/imdb\")\n",
    "train = ds[\"train\"]\n",
    "test = ds[\"test\"]"
   ]
  },
  {
   "cell_type": "code",
   "execution_count": 4,
   "metadata": {},
   "outputs": [],
   "source": [
    "results_list = []\n",
    "\n",
    "def compute_metrics(pred):\n",
    "    labels = pred.label_ids\n",
    "    preds = pred.predictions.argmax(-1)\n",
    "    precision, recall, f1, _ = precision_recall_fscore_support(labels, preds, average='binary')\n",
    "    return {'precision': precision, 'recall': recall, 'f1': f1}"
   ]
  },
  {
   "cell_type": "markdown",
   "metadata": {},
   "source": [
    "## Fine-tune approach"
   ]
  },
  {
   "cell_type": "markdown",
   "metadata": {},
   "source": [
    "### TinyBERT"
   ]
  },
  {
   "cell_type": "code",
   "execution_count": null,
   "metadata": {},
   "outputs": [],
   "source": [
    "model_name = \"huawei-noah/TinyBERT_General_4L_312D\"\n",
    "\n",
    "training_args = TrainingArguments(\n",
    "    num_train_epochs=2,\n",
    "    output_dir=\"./tinybert_results\",\n",
    "    per_device_train_batch_size=16,\n",
    "    per_device_eval_batch_size=16,\n",
    "    evaluation_strategy=\"epoch\"\n",
    ")\n",
    "\n",
    "tokenizer = AutoTokenizer.from_pretrained(model_name)\n",
    "model = AutoModelForSequenceClassification.from_pretrained(model_name)\n",
    "\n",
    "def tokenize_function(examples):\n",
    "    return tokenizer(examples[\"text\"], padding='max_length', truncation=True, max_length=512)\n",
    "\n",
    "train = train.map(tokenize_function, batched=True)\n",
    "test = test.map(tokenize_function, batched=True)\n",
    "\n",
    "data_collator = DataCollatorWithPadding(tokenizer)\n",
    "\n",
    "\n",
    "trainer = Trainer(\n",
    "    model=model,\n",
    "    tokenizer=tokenizer,\n",
    "    data_collator=data_collator,\n",
    "    args=training_args,\n",
    "    train_dataset=train,\n",
    "    eval_dataset=test,\n",
    "    compute_metrics=compute_metrics\n",
    ")\n",
    "\n",
    "trainer.train()\n",
    "results = trainer.evaluate()\n",
    "\n",
    "trainer.save_model(\"./tinybert_model\")\n",
    "tokenizer.save_pretrained(\"./tinybert_model\")\n",
    "\n",
    "results_list.append({\n",
    "    \"Model\": model_name,\n",
    "    \"Precision\": results[\"eval_precision\"],\n",
    "    \"Recall\": results[\"eval_recall\"],\n",
    "    \"F1 Score\": results[\"eval_f1\"]\n",
    "})"
   ]
  },
  {
   "cell_type": "markdown",
   "metadata": {},
   "source": [
    "### DistilBERT"
   ]
  },
  {
   "cell_type": "code",
   "execution_count": null,
   "metadata": {},
   "outputs": [],
   "source": [
    "model_name = \"distilbert-base-uncased\"\n",
    "\n",
    "training_args = TrainingArguments(\n",
    "    num_train_epochs=1,\n",
    "    output_dir=\"./distilbert_results\",\n",
    "    per_device_train_batch_size=16,\n",
    "    per_device_eval_batch_size=16,\n",
    "    evaluation_strategy=\"epoch\"\n",
    ")\n",
    "\n",
    "tokenizer = AutoTokenizer.from_pretrained(model_name)\n",
    "model = AutoModelForSequenceClassification.from_pretrained(model_name)\n",
    "\n",
    "def tokenize_function(examples):\n",
    "    return tokenizer(examples[\"text\"], truncation=True)\n",
    "\n",
    "train = train.map(tokenize_function, batched=True)\n",
    "test = test.map(tokenize_function, batched=True)\n",
    "\n",
    "data_collator = DataCollatorWithPadding(tokenizer)\n",
    "\n",
    "\n",
    "trainer = Trainer(\n",
    "    model=model,\n",
    "    tokenizer=tokenizer,\n",
    "    data_collator=data_collator,\n",
    "    args=training_args,\n",
    "    train_dataset=train,\n",
    "    eval_dataset=test,\n",
    "    compute_metrics=compute_metrics\n",
    ")\n",
    "\n",
    "trainer.train()\n",
    "results = trainer.evaluate()\n",
    "\n",
    "trainer.save_model(\"./distilbert_model\")\n",
    "tokenizer.save_pretrained(\"./distilbert_model\")\n",
    "\n",
    "results_list.append({\n",
    "    \"Model\": model_name,\n",
    "    \"Precision\": results[\"eval_precision\"],\n",
    "    \"Recall\": results[\"eval_recall\"],\n",
    "    \"F1 Score\": results[\"eval_f1\"]\n",
    "})"
   ]
  },
  {
   "cell_type": "markdown",
   "metadata": {},
   "source": [
    "## Pretrained models"
   ]
  },
  {
   "cell_type": "markdown",
   "metadata": {},
   "source": [
    "## Pretrained distillbert (3 epochs)"
   ]
  },
  {
   "cell_type": "code",
   "execution_count": null,
   "metadata": {},
   "outputs": [],
   "source": [
    "tokenizer = AutoTokenizer.from_pretrained(\"derek-harnett/movie-review-classifier\")\n",
    "model = AutoModelForSequenceClassification.from_pretrained(\"derek-harnett/movie-review-classifier\")\n",
    "\n",
    "training_args = TrainingArguments(\n",
    "    output_dir=\"./distilbert_pretrained_results\",\n",
    "    per_device_eval_batch_size=16,\n",
    "    evaluation_strategy=\"no\"\n",
    ")\n",
    "\n",
    "def tokenize_function(examples):\n",
    "    return tokenizer(examples[\"text\"], truncation=True)\n",
    "\n",
    "test = test.map(tokenize_function, batched=True)\n",
    "\n",
    "data_collator = DataCollatorWithPadding(tokenizer)\n",
    "\n",
    "\n",
    "trainer = Trainer(\n",
    "    model=model,\n",
    "    tokenizer=tokenizer,\n",
    "    data_collator=data_collator,\n",
    "    args=training_args,\n",
    "    eval_dataset=test,\n",
    "    compute_metrics=compute_metrics\n",
    ")\n",
    "\n",
    "results = trainer.evaluate()\n",
    "\n",
    "results_list.append({\n",
    "    \"Model\": \"Movie Review Classifier - Pretrained\",\n",
    "    \"Precision\": results[\"eval_precision\"],\n",
    "    \"Recall\": results[\"eval_recall\"],\n",
    "    \"F1 Score\": results[\"eval_f1\"]\n",
    "})"
   ]
  },
  {
   "cell_type": "markdown",
   "metadata": {},
   "source": [
    "## Results"
   ]
  },
  {
   "cell_type": "code",
   "execution_count": 5,
   "metadata": {},
   "outputs": [],
   "source": [
    "# add scores obtained on colab\n",
    "results_list.append({\n",
    "    'Model': 'huawei-noah/TinyBERT_General_4L_312D', \n",
    "    'Precision': 0.8984355803096077, \n",
    "    'Recall': 0.87752, \n",
    "    'F1 Score': 0.8878546278683881\n",
    "})\n",
    "\n",
    "results_list.append({\n",
    "    'Model': 'distilbert-base-uncased', \n",
    "    'Precision': 0.9362309385957759, \n",
    "    'Recall': 0.91848, \n",
    "    'F1 Score': 0.9272705245729516\n",
    "})\n",
    "\n",
    "\n",
    "\n",
    "results_list.append({\n",
    "    'Model': 'Movie Review Classifier - Pretrained', \n",
    "    'Precision': 0.9273287996204334, \n",
    "    'Recall': 0.93816, \n",
    "    'F1 Score': 0.9327129563350036\n",
    "})\n",
    "\n",
    "results_df = pd.DataFrame(results_list)\n",
    "\n"
   ]
  },
  {
   "cell_type": "code",
   "execution_count": 6,
   "metadata": {},
   "outputs": [
    {
     "name": "stdout",
     "output_type": "stream",
     "text": [
      "                                  Model  Precision   Recall  F1 Score\n",
      "0  huawei-noah/TinyBERT_General_4L_312D   0.898436  0.87752  0.887855\n",
      "1               distilbert-base-uncased   0.936231  0.91848  0.927271\n",
      "2  Movie Review Classifier - Pretrained   0.927329  0.93816  0.932713\n"
     ]
    }
   ],
   "source": [
    "print(results_df)"
   ]
  }
 ],
 "metadata": {
  "kernelspec": {
   "display_name": "NLP",
   "language": "python",
   "name": "python3"
  },
  "language_info": {
   "codemirror_mode": {
    "name": "ipython",
    "version": 3
   },
   "file_extension": ".py",
   "mimetype": "text/x-python",
   "name": "python",
   "nbconvert_exporter": "python",
   "pygments_lexer": "ipython3",
   "version": "3.11.10"
  }
 },
 "nbformat": 4,
 "nbformat_minor": 2
}

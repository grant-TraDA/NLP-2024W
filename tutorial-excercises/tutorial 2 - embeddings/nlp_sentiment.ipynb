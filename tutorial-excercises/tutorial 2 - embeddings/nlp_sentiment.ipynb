{
 "cells": [
  {
   "cell_type": "markdown",
   "metadata": {},
   "source": [
    "## IMDB Dataset\n",
    "\n",
    "Izabela Telejko, Tomasz Siudalski, Grzegorz Zbrzeżny "
   ]
  },
  {
   "cell_type": "code",
   "execution_count": 15,
   "metadata": {},
   "outputs": [
    {
     "name": "stderr",
     "output_type": "stream",
     "text": [
      "[nltk_data] Downloading package stopwords to\n",
      "[nltk_data]     /home/telejkoi/nltk_data...\n",
      "[nltk_data]   Package stopwords is already up-to-date!\n",
      "[nltk_data] Downloading package punkt_tab to\n",
      "[nltk_data]     /home/telejkoi/nltk_data...\n",
      "[nltk_data]   Package punkt_tab is already up-to-date!\n"
     ]
    }
   ],
   "source": [
    "import pandas as pd\n",
    "import numpy as np\n",
    "import torch\n",
    "import fasttext\n",
    "from tqdm import tqdm\n",
    "\n",
    "import nltk\n",
    "from nltk.tokenize import word_tokenize\n",
    "from nltk.stem import PorterStemmer\n",
    "from nltk.corpus import stopwords\n",
    "\n",
    "nltk.download('stopwords')\n",
    "nltk.download('punkt_tab')\n",
    "\n",
    "from datasets import load_dataset\n",
    "from transformers import BertTokenizerFast\n",
    "from transformers import BertModel\n",
    "import gensim.downloader as api\n",
    "\n",
    "from sklearn.ensemble import RandomForestClassifier\n",
    "from sklearn.metrics import accuracy_score, precision_score, recall_score, f1_score\n",
    "from sklearn.model_selection import train_test_split\n",
    "from sklearn.ensemble import GradientBoostingClassifier"
   ]
  },
  {
   "cell_type": "code",
   "execution_count": 4,
   "metadata": {},
   "outputs": [
    {
     "data": {
      "text/plain": [
       "DatasetDict({\n",
       "    train: Dataset({\n",
       "        features: ['text', 'label'],\n",
       "        num_rows: 25000\n",
       "    })\n",
       "    test: Dataset({\n",
       "        features: ['text', 'label'],\n",
       "        num_rows: 22500\n",
       "    })\n",
       "})"
      ]
     },
     "execution_count": 4,
     "metadata": {},
     "output_type": "execute_result"
    }
   ],
   "source": [
    "# Load data\n",
    "\n",
    "ds = load_dataset(\"stanfordnlp/imdb\")\n",
    "del ds['unsupervised']\n",
    "# we delete the first 10% of test dataset as there are some corrupted data\n",
    "new_test_dataset = ds['test'].select(range(2500, 25000))\n",
    "ds['test'] = new_test_dataset\n",
    "ds"
   ]
  },
  {
   "cell_type": "markdown",
   "metadata": {},
   "source": [
    "### Preprocessing - Tokenize, remove stopwords, apply stemming"
   ]
  },
  {
   "cell_type": "code",
   "execution_count": 6,
   "metadata": {},
   "outputs": [
    {
     "name": "stderr",
     "output_type": "stream",
     "text": [
      "Map: 100%|██████████| 25000/25000 [00:55<00:00, 452.45 examples/s]\n",
      "Map: 100%|██████████| 22500/22500 [00:49<00:00, 453.97 examples/s]"
     ]
    },
    {
     "name": "stdout",
     "output_type": "stream",
     "text": [
      "{'text': 'I rented I AM CURIOUS-YELLOW from my video store because of all the controversy that surrounded it when it was first released in 1967. I also heard that at first it was seized by U.S. customs if it ever tried to enter this country, therefore being a fan of films considered \"controversial\" I really had to see this for myself.<br /><br />The plot is centered around a young Swedish drama student named Lena who wants to learn everything she can about life. In particular she wants to focus her attentions to making some sort of documentary on what the average Swede thought about certain political issues such as the Vietnam War and race issues in the United States. In between asking politicians and ordinary denizens of Stockholm about their opinions on politics, she has sex with her drama teacher, classmates, and married men.<br /><br />What kills me about I AM CURIOUS-YELLOW is that 40 years ago, this was considered pornographic. Really, the sex and nudity scenes are few and far between, even then it\\'s not shot like some cheaply made porno. While my countrymen mind find it shocking, in reality sex and nudity are a major staple in Swedish cinema. Even Ingmar Bergman, arguably their answer to good old boy John Ford, had sex scenes in his films.<br /><br />I do commend the filmmakers for the fact that any sex shown in the film is shown for artistic purposes rather than just to shock people and make money to be shown in pornographic theaters in America. I AM CURIOUS-YELLOW is a good film for anyone wanting to study the meat and potatoes (no pun intended) of Swedish cinema. But really, this film doesn\\'t have much of a plot.', 'label': 0, 'tokens': ['rent', 'curious-yellow', 'video', 'store', 'controversi', 'surround', 'first', 'releas', '1967', '.', 'also', 'heard', 'first', 'seiz', 'u.s.', 'custom', 'ever', 'tri', 'enter', 'countri', ',', 'therefor', 'fan', 'film', 'consid', '``', 'controversi', \"''\", 'realli', 'see', 'myself.', '<', 'br', '/', '>', '<', 'br', '/', '>', 'plot', 'center', 'around', 'young', 'swedish', 'drama', 'student', 'name', 'lena', 'want', 'learn', 'everyth', 'life', '.', 'particular', 'want', 'focu', 'attent', 'make', 'sort', 'documentari', 'averag', 'swede', 'thought', 'certain', 'polit', 'issu', 'vietnam', 'war', 'race', 'issu', 'unit', 'state', '.', 'ask', 'politician', 'ordinari', 'denizen', 'stockholm', 'opinion', 'polit', ',', 'sex', 'drama', 'teacher', ',', 'classmat', ',', 'marri', 'men.', '<', 'br', '/', '>', '<', 'br', '/', '>', 'kill', 'curious-yellow', '40', 'year', 'ago', ',', 'consid', 'pornograph', '.', 'realli', ',', 'sex', 'nuditi', 'scene', 'far', ',', 'even', \"'s\", 'shot', 'like', 'cheapli', 'made', 'porno', '.', 'countrymen', 'mind', 'find', 'shock', ',', 'realiti', 'sex', 'nuditi', 'major', 'stapl', 'swedish', 'cinema', '.', 'even', 'ingmar', 'bergman', ',', 'arguabl', 'answer', 'good', 'old', 'boy', 'john', 'ford', ',', 'sex', 'scene', 'films.', '<', 'br', '/', '>', '<', 'br', '/', '>', 'commend', 'filmmak', 'fact', 'sex', 'shown', 'film', 'shown', 'artist', 'purpos', 'rather', 'shock', 'peopl', 'make', 'money', 'shown', 'pornograph', 'theater', 'america', '.', 'curious-yellow', 'good', 'film', 'anyon', 'want', 'studi', 'meat', 'potato', '(', 'pun', 'intend', ')', 'swedish', 'cinema', '.', 'realli', ',', 'film', \"n't\", 'much', 'plot', '.']}\n"
     ]
    },
    {
     "name": "stderr",
     "output_type": "stream",
     "text": [
      "\n"
     ]
    }
   ],
   "source": [
    "stemmer = PorterStemmer()\n",
    "stop_words = set(stopwords.words('english'))\n",
    "\n",
    "def nltk_tokenize_stem_remove_stopwords_batch(batch):\n",
    "    \"\"\"Tokenize, remove stopwords, and then apply stemming.\"\"\"\n",
    "    batch['tokens'] = [\n",
    "        [stemmer.stem(word) for word in word_tokenize(str(text)) if word.lower() not in stop_words]\n",
    "        if text else []  # Handle missing text\n",
    "        for text in batch['text']\n",
    "    ]\n",
    "    return batch\n",
    "\n",
    "for split in ds:\n",
    "    ds[split] = ds[split].map(nltk_tokenize_stem_remove_stopwords_batch, batched=True, batch_size=64)\n",
    "\n",
    "# Example of a tokenized and stemmed sentence\n",
    "print(ds['train'][0])"
   ]
  },
  {
   "cell_type": "markdown",
   "metadata": {},
   "source": [
    "### Embedding with Word2vec"
   ]
  },
  {
   "cell_type": "code",
   "execution_count": 7,
   "metadata": {},
   "outputs": [],
   "source": [
    "word2vec_model = api.load('word2vec-google-news-300')"
   ]
  },
  {
   "cell_type": "code",
   "execution_count": 8,
   "metadata": {},
   "outputs": [
    {
     "name": "stderr",
     "output_type": "stream",
     "text": [
      "Map: 100%|██████████| 25000/25000 [00:19<00:00, 1312.39 examples/s]\n",
      "Map: 100%|██████████| 22500/22500 [00:20<00:00, 1119.06 examples/s]\n"
     ]
    }
   ],
   "source": [
    "def get_word2vec_embeddings(words):\n",
    "    \"\"\"Get Word2Vec embeddings for a list of words.\"\"\"\n",
    "    embeddings = []\n",
    "    for word in words:\n",
    "        if word in word2vec_model:\n",
    "            embeddings.append(word2vec_model[word])\n",
    "        else:\n",
    "            embeddings.append(np.zeros(300))\n",
    "    return np.array(embeddings)\n",
    "\n",
    "def get_word2vec_embeddings_batch(batch):\n",
    "    \"\"\"Get Word2Vec embeddings for a batch of sentences.\"\"\"\n",
    "    all_word_embeddings = []\n",
    "    \n",
    "    for tokens in batch['tokens']:\n",
    "        try:\n",
    "            # Get Word2Vec embeddings for each word\n",
    "            word_embeddings = get_word2vec_embeddings(tokens)\n",
    "            \n",
    "            # Pool word embeddings by averaging them to get a single sentence vector\n",
    "            sentence_embedding = np.mean(word_embeddings, axis=0)\n",
    "            all_word_embeddings.append(sentence_embedding)\n",
    "        except Exception as e:\n",
    "            print(f\"Error with tokens: {tokens} - {e}\")\n",
    "\n",
    "    return {'word2vec_embeddings': all_word_embeddings}\n",
    "\n",
    "for split in ds:\n",
    "    ds[split] = ds[split].map(get_word2vec_embeddings_batch, batched=True, batch_size=64)"
   ]
  },
  {
   "cell_type": "code",
   "execution_count": 25,
   "metadata": {},
   "outputs": [],
   "source": [
    "X_train_w2v = np.array(ds['train']['word2vec_embeddings'])\n",
    "y_train_w2v = np.array(ds['train']['label'])\n",
    "\n",
    "X_test_w2v = np.array(ds['test']['word2vec_embeddings'])\n",
    "y_test_w2v = np.array(ds['test']['label'])"
   ]
  },
  {
   "cell_type": "markdown",
   "metadata": {},
   "source": [
    "#### Random Forest Classifier"
   ]
  },
  {
   "cell_type": "code",
   "execution_count": 26,
   "metadata": {},
   "outputs": [
    {
     "name": "stdout",
     "output_type": "stream",
     "text": [
      "Random Forest Classifier with Word2Vec:\n",
      "Accuracy: 0.7557\n",
      "Precision: 0.7593\n",
      "Recall: 0.7557\n",
      "F1 Score: 0.7564\n"
     ]
    }
   ],
   "source": [
    "rf_classifier_w2v = RandomForestClassifier(n_estimators=100, random_state=42)\n",
    "rf_classifier_w2v.fit(X_train_w2v, y_train_w2v)\n",
    "\n",
    "y_pred_rf_w2v = rf_classifier_w2v.predict(X_test_w2v)\n",
    "\n",
    "accuracy_rf_w2v = accuracy_score(y_test_w2v, y_pred_rf_w2v)\n",
    "precision_rf_w2v = precision_score(y_test_w2v, y_pred_rf_w2v, average='weighted')\n",
    "recall_rf_w2v = recall_score(y_test_w2v, y_pred_rf_w2v, average='weighted')\n",
    "f1_rf_w2v = f1_score(y_test_w2v, y_pred_rf_w2v, average='weighted')\n",
    "\n",
    "print(\"Random Forest Classifier with Word2Vec:\")\n",
    "print(f\"Accuracy: {accuracy_rf_w2v:.4f}\")\n",
    "print(f\"Precision: {precision_rf_w2v:.4f}\")\n",
    "print(f\"Recall: {recall_rf_w2v:.4f}\")\n",
    "print(f\"F1 Score: {f1_rf_w2v:.4f}\")"
   ]
  },
  {
   "cell_type": "markdown",
   "metadata": {},
   "source": [
    "#### Gradient Boosting Classifier"
   ]
  },
  {
   "cell_type": "code",
   "execution_count": 29,
   "metadata": {},
   "outputs": [
    {
     "name": "stdout",
     "output_type": "stream",
     "text": [
      "Gradient Boosting with Word2Vec:\n",
      "Accuracy: 0.7692\n",
      "Precision: 0.7720\n",
      "Recall: 0.7692\n",
      "F1 Score: 0.7698\n"
     ]
    }
   ],
   "source": [
    "gb_classifier_w2v = GradientBoostingClassifier(n_estimators=100, learning_rate=0.1, max_depth=3, random_state=42)\n",
    "gb_classifier_w2v.fit(X_train_w2v, y_train_w2v)\n",
    "\n",
    "y_pred_gb_w2v = gb_classifier_w2v.predict(X_test_w2v)\n",
    "\n",
    "accuracy_gb_w2v = accuracy_score(y_test_w2v, y_pred_gb_w2v)\n",
    "precision_gb_w2v = precision_score(y_test_w2v, y_pred_gb_w2v, average='weighted')\n",
    "recall_gb_w2v = recall_score(y_test_w2v, y_pred_gb_w2v, average='weighted')\n",
    "f1_gb_w2v = f1_score(y_test_w2v, y_pred_gb_w2v, average='weighted')\n",
    "\n",
    "print(\"Gradient Boosting with Word2Vec:\")\n",
    "print(f\"Accuracy: {accuracy_gb_w2v:.4f}\")\n",
    "print(f\"Precision: {precision_gb_w2v:.4f}\")\n",
    "print(f\"Recall: {recall_gb_w2v:.4f}\")\n",
    "print(f\"F1 Score: {f1_gb_w2v:.4f}\")"
   ]
  },
  {
   "cell_type": "markdown",
   "metadata": {},
   "source": [
    "### Embedding with fasttext"
   ]
  },
  {
   "cell_type": "code",
   "execution_count": 18,
   "metadata": {},
   "outputs": [],
   "source": [
    "# wget https://dl.fbaipublicfiles.com/fasttext/vectors-crawl/cc.en.300.bin.gz\n",
    "# gunzip cc.en.300.bin.gz\n",
    "\n",
    "fasttext_model = fasttext.load_model('cc.en.300.bin')"
   ]
  },
  {
   "cell_type": "code",
   "execution_count": 19,
   "metadata": {},
   "outputs": [
    {
     "name": "stderr",
     "output_type": "stream",
     "text": [
      "Parameter 'function'=<function <lambda> at 0x7fd03d31d510> of the transform datasets.arrow_dataset.Dataset._map_single couldn't be hashed properly, a random hash was used instead. Make sure your transforms and parameters are serializable with pickle or dill for the dataset fingerprinting and caching to work. If you reuse this transform, the caching mechanism will consider it to be different from the previous calls and recompute everything. This warning is only showed once. Subsequent hashing failures won't be showed.\n",
      "Map: 100%|██████████| 25000/25000 [00:22<00:00, 1120.24 examples/s]\n",
      "Map: 100%|██████████| 22500/22500 [00:19<00:00, 1164.27 examples/s]"
     ]
    },
    {
     "name": "stdout",
     "output_type": "stream",
     "text": [
      "{'text': 'I rented I AM CURIOUS-YELLOW from my video store because of all the controversy that surrounded it when it was first released in 1967. I also heard that at first it was seized by U.S. customs if it ever tried to enter this country, therefore being a fan of films considered \"controversial\" I really had to see this for myself.<br /><br />The plot is centered around a young Swedish drama student named Lena who wants to learn everything she can about life. In particular she wants to focus her attentions to making some sort of documentary on what the average Swede thought about certain political issues such as the Vietnam War and race issues in the United States. In between asking politicians and ordinary denizens of Stockholm about their opinions on politics, she has sex with her drama teacher, classmates, and married men.<br /><br />What kills me about I AM CURIOUS-YELLOW is that 40 years ago, this was considered pornographic. Really, the sex and nudity scenes are few and far between, even then it\\'s not shot like some cheaply made porno. While my countrymen mind find it shocking, in reality sex and nudity are a major staple in Swedish cinema. Even Ingmar Bergman, arguably their answer to good old boy John Ford, had sex scenes in his films.<br /><br />I do commend the filmmakers for the fact that any sex shown in the film is shown for artistic purposes rather than just to shock people and make money to be shown in pornographic theaters in America. I AM CURIOUS-YELLOW is a good film for anyone wanting to study the meat and potatoes (no pun intended) of Swedish cinema. But really, this film doesn\\'t have much of a plot.', 'label': 0, 'tokens': ['rent', 'curious-yellow', 'video', 'store', 'controversi', 'surround', 'first', 'releas', '1967', '.', 'also', 'heard', 'first', 'seiz', 'u.s.', 'custom', 'ever', 'tri', 'enter', 'countri', ',', 'therefor', 'fan', 'film', 'consid', '``', 'controversi', \"''\", 'realli', 'see', 'myself.', '<', 'br', '/', '>', '<', 'br', '/', '>', 'plot', 'center', 'around', 'young', 'swedish', 'drama', 'student', 'name', 'lena', 'want', 'learn', 'everyth', 'life', '.', 'particular', 'want', 'focu', 'attent', 'make', 'sort', 'documentari', 'averag', 'swede', 'thought', 'certain', 'polit', 'issu', 'vietnam', 'war', 'race', 'issu', 'unit', 'state', '.', 'ask', 'politician', 'ordinari', 'denizen', 'stockholm', 'opinion', 'polit', ',', 'sex', 'drama', 'teacher', ',', 'classmat', ',', 'marri', 'men.', '<', 'br', '/', '>', '<', 'br', '/', '>', 'kill', 'curious-yellow', '40', 'year', 'ago', ',', 'consid', 'pornograph', '.', 'realli', ',', 'sex', 'nuditi', 'scene', 'far', ',', 'even', \"'s\", 'shot', 'like', 'cheapli', 'made', 'porno', '.', 'countrymen', 'mind', 'find', 'shock', ',', 'realiti', 'sex', 'nuditi', 'major', 'stapl', 'swedish', 'cinema', '.', 'even', 'ingmar', 'bergman', ',', 'arguabl', 'answer', 'good', 'old', 'boy', 'john', 'ford', ',', 'sex', 'scene', 'films.', '<', 'br', '/', '>', '<', 'br', '/', '>', 'commend', 'filmmak', 'fact', 'sex', 'shown', 'film', 'shown', 'artist', 'purpos', 'rather', 'shock', 'peopl', 'make', 'money', 'shown', 'pornograph', 'theater', 'america', '.', 'curious-yellow', 'good', 'film', 'anyon', 'want', 'studi', 'meat', 'potato', '(', 'pun', 'intend', ')', 'swedish', 'cinema', '.', 'realli', ',', 'film', \"n't\", 'much', 'plot', '.'], 'word2vec_embeddings': [0.004728837446732955, 0.022519150165596392, 0.004323477696890783, 0.06235974244397096, -0.026663727230495878, 0.00953148350571141, 0.011355544581557766, -0.0214731621019768, 0.03524549079663826, 0.03380453706991793, -0.012075327863596906, -0.09230449946239741, -0.03943625363436612, 0.01713406437575215, -0.046315395470821495, 0.04217182506214489, 0.025927148684106692, 0.059108244048224554, -0.010024407897332702, -0.037461213391236585, -0.004740589796894729, 0.020592142837216155, 0.01676940436315055, -0.008330749742912523, -0.008884892319187973, -0.011303217724116162, -0.053927948980620415, 0.046997378570864896, 0.03298318265664457, -0.0005897945827907986, -0.022649822813091858, -0.0031875070899423925, -0.036760503595525566, -0.025959188287908382, -0.022226969401041668, -0.007232935741694287, 0.014702228584674874, 0.044672802241161616, 0.03603405422634549, 0.030133334073153408, 0.0295677955704506, -0.03395943689827967, 0.05618856410787563, 0.01101699983230745, 0.0008241287385574495, -0.018568867384785352, -0.013657810712101483, -0.00758199980764678, -0.025344077986900252, 0.01643057543822009, -0.022044788707386364, 0.007342829848780777, -0.013577008488202336, -0.00036942176144532486, -0.008328485970545297, -0.007688474173497672, -0.049907645793876264, -0.03162787658999665, -0.007314672373762035, -0.034819670397825915, -0.002232021755642361, 0.046120075264362376, -0.044031306950732915, -0.0165000491672092, -0.015756240998855746, -0.04058787798640704, -0.032030201921559344, 0.022952994914970014, 0.00686284267541134, 0.024748214567550504, 0.019333155468256785, 0.04275504988853378, 0.003236019250118371, 0.014254175051294192, -0.06701398136639836, -0.007357048265861742, 0.04563689954353101, 0.024624217640269886, 0.011001452051027857, 0.019251775259923453, -0.005967689282966383, -0.025915203672466858, 0.023347049951553345, -0.019826792707346906, -0.020457103998974116, -0.006186668318931503, -0.05905336322206439, 0.07682592218572443, 0.03150158699112709, 0.02745700604987867, 0.011594059491398358, -0.0006624279600201231, -0.05708359227035985, -0.009884150341303662, -0.017850827689122672, -0.022777364711568812, 0.023512946234809026, 0.004277354539042771, 0.041297604339291354, -0.014700841422032828, -0.023422876993815105, -0.0011269155174794823, 0.025995543508818657, -0.011914992573285344, 0.010694378554218948, -0.010561894888829703, -0.01679957996715199, -0.01752038917156181, 0.009085106127189867, -0.04573344221018782, -0.050496342206242106, -0.017367594169847893, 0.013171494609177714, -0.00964047210385101, 0.05615467495388455, -0.022641779196382772, 0.021029655379478377, -0.04868441880351365, 0.036770435294719656, 0.021354405566899465, -0.014946523338857324, -0.005745781792534722, -0.03947585520118174, 0.02884119207208807, -0.004420270823469066, -0.023712630223746253, -0.052656135173759076, -0.011728643166898476, 0.0028533164900962755, 0.020367728339301214, -0.03339162499013573, -0.05525315409958965, -0.021628948173137628, 0.021299882368607956, 0.0002741958155776515, 0.009340516244522248, 0.00910974753023398, -0.011635211983112374, 0.022114493630149147, 0.014142816716974432, 0.045948568016591695, -0.05427323928987137, -0.0043641446214733705, -0.0024518870344065655, -0.009806777491714016, 0.004095893917661725, 0.007280291933001894, 0.03819398205689709, -0.060717264811197914, -0.022971259223090276, 0.059906930634469696, -0.02696436101740057, -0.032561870536418874, 0.0076692947233566134, -0.018695792766532514, -0.05666012234157986, -0.020724749324297666, -0.01593932720145794, -0.028312451911695076, -0.05685147372159091, -0.0020819095650104562, 0.047577829071969696, 0.018318407463304924, 0.013566450639204546, -0.007957497028389363, -0.04690135609019886, 0.03107918633355035, -0.029124250315656564, -0.024172233812736744, -0.0035862778172348485, -0.05058710803889265, -0.042407430783666746, 0.006085790769018308, -0.0656788373234296, -0.004643796670316446, 0.013596835762563379, 0.0737765533755524, -0.04849965644605232, -0.004331415349786932, -0.006604435467960859, -0.026827108980429292, -0.023383246527777776, -0.0064514044559363165, -0.026858281607579703, -0.012017548686326152, 0.0003919505109690657, -0.01203479188861269, -0.004847671046401515, 0.03363372340346828, 0.028705751053010573, 0.023324908632220642, -0.006929908135924676, -0.007033608176491477, 0.01669113082115096, 0.02618641323513455, 0.03983206700797033, 0.016347095219775884, 0.011349841801807134, -0.032493976631549876, -0.025198888297032828, -0.009650028113162878, 0.03932821871054293, -0.0383073440705887, -0.04254847825175584, 0.002763266515250158, -0.04061057350852273, -0.007180157333913475, -0.01119848694464173, -0.018339214902935608, 0.005223592122395833, -0.0010257682414970013, 0.054992984039614896, -0.00341342193911774, -0.013535933061079546, -0.0738668730764678, 0.016237856161714803, 0.005505561828613281, 0.005929349648832071, -0.04451577350346729, -0.012675969287602588, -0.014755711410984848, -0.017135774246369948, 0.015599009966609454, 0.00036058522234059344, 0.022769889446220014, 0.0013305586997908775, 0.03253131442599826, 0.00875841969191426, -0.006613028169882418, -0.0377038512567077, 0.029548481257274897, -0.047298315799597535, -0.011350535383128156, -0.0011863323173137627, 0.023459848731455176, -0.0014564677922412604, 0.021947456128669506, -0.022343491062973484, 0.05656849254261364, 0.005807818788470644, 0.044640603691640524, 0.002459670558120265, 0.022305267025726012, -0.005353368894018308, -0.030277772383256393, 0.006321993741122159, 0.004308064778645833, 0.05631639018203273, -0.007415848548966225, -0.0486593439121439, 0.033240424262152776, 0.05088112571022727, 0.044098189382842094, 0.03597845212377683, 0.03676767060250947, -0.01391392524796303, -0.010151063553010575, 0.006512227684560448, -0.027919268367266416, -0.028368631998697918, -0.01333795412622317, -0.00858029452237216, -0.015191319012882733, 0.004181139396898674, 0.03203297624684343, 0.08150825115165325, -0.003635637687914299, -0.01259173768939394, -0.043672195588699496, -0.025589066322403726, 0.008623296564275568, 0.018356785629734848, 0.050158298376834755, 0.0011043163261028252, 0.047130584716796875, -0.007657137784090909, -0.03667442244712753, -0.04929544468118687, -0.057871616247928505, 0.031074995946402503, -0.015403169574159565, -0.009176735926156093, 0.0012082957258128157, 0.03580282192037563, 0.008496294117937184, 0.005497479679608586, -0.06520142218079229, -0.014253520002268781, -0.006312900119357639, 0.06533929073449338, -0.04649279815982087, 0.032016099101365214, -0.051750009710138496, 0.018853081597222224, -0.008075559982145675, -0.03483213559545652, -0.00311279296875, -0.033643549138849434, -0.0016309950086805555, 0.0018422675855232008], 'fasttext_embeddings': [0.04250047355890274, -0.036254435777664185, -0.008683815598487854, -0.1008438915014267, -0.016659319400787354, -0.008733680471777916, -0.035679105669260025, -0.0018614789005368948, -0.02309655211865902, 0.006790242623537779, -0.024978455156087875, -0.08011756092309952, 0.04510364308953285, 0.007267338689416647, 0.06281034648418427, 0.03492911905050278, -0.017936326563358307, 0.001235446659848094, -0.03754591941833496, 0.002776084002107382, 0.004128459841012955, -0.0015271342126652598, -0.0025648917071521282, -0.0020929831080138683, -0.012316113337874413, -0.05325271189212799, -0.01901787891983986, 0.017989087849855423, -0.0007186337606981397, 0.1707497537136078, -0.007518553175032139, 0.009770619682967663, 0.030819209292531013, 0.028579121455550194, -0.01585453376173973, -0.013986960053443909, 0.031602419912815094, -0.04215237498283386, 0.010824446566402912, -0.034848570823669434, -0.003940674476325512, 0.0028514680452644825, -0.031550273299217224, -0.028349019587039948, 0.09377135336399078, -0.011885950341820717, 0.017799437046051025, -0.003170817391946912, -0.02464602142572403, 0.02441074326634407, 0.010553233325481415, 0.021849913522601128, 0.03316293656826019, 0.029609452933073044, -0.02603718638420105, 0.02122383378446102, -0.031516700983047485, -0.0073938569985330105, 0.027173692360520363, 0.021145205944776535, 0.03540237993001938, 0.0057840496301651, -0.022345323115587234, -0.0073511432856321335, -0.02363911084830761, -0.005363908130675554, -0.020915308967232704, -0.0208000298589468, -0.03348931297659874, 0.006209023762494326, 0.07996096462011337, 0.0032790435943752527, -0.020929116755723953, 0.026494212448596954, 0.020078925415873528, -0.022339513525366783, 0.008753089234232903, -0.01784178614616394, -0.013674660585820675, 0.04446228966116905, -0.015263775363564491, -0.0004164815181866288, 0.0025407331995666027, 0.009173017926514149, 0.017768992111086845, -0.0033034931402653456, -0.0458238311111927, 0.04363643378019333, -0.009519251994788647, -0.036871835589408875, -0.014425063505768776, 0.01651770807802677, 0.1231706514954567, -0.04110420495271683, -0.0415651835501194, -0.040348418056964874, -0.04336029291152954, 0.04328513890504837, 0.004820521920919418, 0.0023527629673480988, 0.005752310156822205, 0.01887550950050354, 0.010594211518764496, -0.03335252404212952, 0.04556868597865105, 0.01995214633643627, 0.018200218677520752, -0.03307672217488289, -0.015501311048865318, 0.005918948911130428, 0.028274165466427803, 0.015928352251648903, -0.008778324350714684, -0.019406162202358246, 0.04666074737906456, -0.008941593579947948, 0.026576584205031395, 0.046259600669145584, -0.014972447417676449, 0.023139379918575287, -0.01745821163058281, -0.041898272931575775, 0.003270409069955349, -0.028940828517079353, -0.00412715831771493, -0.028066599741578102, 0.005332290660589933, 0.01641879230737686, -0.026297982782125473, -0.014742616564035416, 0.0329703651368618, -0.008578315377235413, -0.008811318315565586, -0.05915457755327225, -0.006454214919358492, -0.05254293605685234, -0.0744737833738327, -0.0442357063293457, -0.02176433429121971, 0.00022964109666645527, -0.06264714896678925, 0.018164291977882385, -0.02883695438504219, -0.04309440404176712, 0.009133861400187016, -0.030298225581645966, -0.2861495614051819, 0.008358159102499485, -0.011439269408583641, -0.013789772987365723, -0.053202372044324875, -0.04012403264641762, 0.006713861133903265, -0.008510580286383629, -0.007085512857884169, -0.011296368204057217, 0.13180041313171387, 0.03845641389489174, 0.04847567528486252, 0.015261534601449966, 0.01436245534569025, 0.03265785798430443, -0.0012311110040172935, -0.05561593547463417, 0.012537498958408833, 0.005770078860223293, 0.01899798773229122, -0.03292622044682503, -0.007081328425556421, -0.049976855516433716, 0.009486361406743526, -0.022095074877142906, 0.01567748747766018, -0.0027412378694862127, -0.003388751298189163, 0.023605596274137497, 0.04383162409067154, 0.03166527301073074, -0.020923784002661705, -0.01140766590833664, -0.0029711017850786448, 0.022585948929190636, 0.02462661638855934, 0.14071506261825562, 0.020325198769569397, 0.060325559228658676, 0.06158265098929405, -0.02963898703455925, -0.020004592835903168, -0.03160329908132553, -0.025026360526680946, 0.018392309546470642, 0.005122400354593992, -0.041047174483537674, 0.016258828341960907, -0.008719343692064285, 0.01880977489054203, -0.02989220805466175, 0.003138891188427806, -0.035575270652770996, 0.08319255709648132, -0.0300911758095026, -0.011100687086582184, 0.04565463587641716, 0.0561099536716938, -0.03011964075267315, -0.02597394585609436, -0.01653345860540867, -0.0336606502532959, -0.005963265895843506, -0.024604281410574913, 0.02403554506599903, -0.04132404550909996, 0.03837677091360092, 0.01306234672665596, -0.026516443118453026, -0.009925179183483124, 0.03368508815765381, -0.01979360729455948, -0.021022802218794823, 0.007425103336572647, -0.01988457329571247, 0.03350530192255974, -0.05014289543032646, -0.04301935434341431, -0.06532325595617294, 0.006572415120899677, -0.05303684249520302, -0.07555708289146423, -0.018236832693219185, 0.01055950578302145, 0.022193169221282005, 0.01053102407604456, 0.007076810579746962, -0.0033518827985972166, 0.029576187953352928, 0.020419370383024216, 0.012799512594938278, 0.047557532787323, 0.025437599048018456, 0.025230607017874718, -0.036197882145643234, 0.003963361959904432, -0.0028473029378801584, 0.4113829731941223, 0.0067625162191689014, -0.019813375547528267, 0.004677185323089361, 0.0020078786183148623, 0.05002814531326294, 0.03855690732598305, 0.014933615922927856, 0.016412127763032913, -0.01270200777798891, -0.017872363328933716, -0.02164572663605213, -0.006213544402271509, -0.007222198415547609, -0.037407830357551575, 0.016551880165934563, 0.027103565633296967, 0.019532354548573494, 0.0461338609457016, 0.04096550866961479, -0.00679732346907258, -0.007129088044166565, 0.024902531877160072, -0.04039808362722397, -0.06602195650339127, -0.05955357849597931, -0.00012859213165938854, -0.046480897814035416, 0.10253110527992249, 0.07211145013570786, -0.010013386607170105, 0.026333708316087723, -0.03447924926877022, -0.01605638861656189, 0.06457404047250748, -0.025368647649884224, -0.02675810642540455, 0.015200482681393623, 0.007687539327889681, -0.019358109682798386, 0.044044628739356995, 0.03011784888803959, -0.022864578291773796, -0.0012806740123778582, -0.005693658255040646, -0.0026487961877137423, 0.010918638668954372, -0.04040129855275154, -0.06885199248790741, 0.03497999906539917, -0.0027603155467659235, 0.02336428314447403, 0.03577764704823494, 0.15190941095352173, -0.04973854124546051, -0.03680477663874626]}\n"
     ]
    },
    {
     "name": "stderr",
     "output_type": "stream",
     "text": [
      "\n"
     ]
    }
   ],
   "source": [
    "def get_fasttext_embeddings(tokens, fasttext_model):\n",
    "    \"\"\"Get FastText embeddings for a list of tokens.\"\"\"\n",
    "    embeddings = []\n",
    "    for token in tokens:\n",
    "        embedding = fasttext_model.get_word_vector(token)  # Get the FastText embedding for each token\n",
    "        embeddings.append(embedding)\n",
    "    return np.mean(embeddings, axis=0) if embeddings else np.zeros(fasttext_model.get_dimension())\n",
    "\n",
    "for split in ds:\n",
    "    ds[split] = ds[split].map(lambda batch: {\n",
    "        'fasttext_embeddings': [get_fasttext_embeddings(tokens, fasttext_model) for tokens in batch['tokens']]\n",
    "    }, batched=True)\n",
    "\n",
    "print(ds['train'][0])"
   ]
  },
  {
   "cell_type": "code",
   "execution_count": 20,
   "metadata": {},
   "outputs": [],
   "source": [
    "X_train_ft = np.array(ds['train']['fasttext_embeddings'])\n",
    "y_train_ft = np.array(ds['train']['label'])\n",
    "\n",
    "X_test_ft = np.array(ds['test']['fasttext_embeddings'])\n",
    "y_test_ft = np.array(ds['test']['label'])"
   ]
  },
  {
   "cell_type": "markdown",
   "metadata": {},
   "source": [
    "#### Random Forest Classifier"
   ]
  },
  {
   "cell_type": "code",
   "execution_count": 21,
   "metadata": {},
   "outputs": [
    {
     "name": "stdout",
     "output_type": "stream",
     "text": [
      "Random Forest Classifier with FastText:\n",
      "Accuracy: 0.7202\n",
      "Precision: 0.7231\n",
      "Recall: 0.7202\n",
      "F1 Score: 0.7209\n"
     ]
    }
   ],
   "source": [
    "rf_classifier_ft = RandomForestClassifier(n_estimators=100, random_state=42)\n",
    "rf_classifier_ft.fit(X_train_ft, y_train_ft)\n",
    "\n",
    "y_pred_rf_ft = rf_classifier_ft.predict(X_test_ft)\n",
    "\n",
    "accuracy_rf_ft = accuracy_score(y_test_ft, y_pred_rf_ft)\n",
    "precision_rf_ft = precision_score(y_test_ft, y_pred_rf_ft, average='weighted')\n",
    "recall_rf_ft = recall_score(y_test_ft, y_pred_rf_ft, average='weighted')\n",
    "f1_rf_ft = f1_score(y_test_ft, y_pred_rf_ft, average='weighted')\n",
    "\n",
    "print(\"Random Forest Classifier with FastText:\")\n",
    "print(f\"Accuracy: {accuracy_rf_ft:.4f}\")\n",
    "print(f\"Precision: {precision_rf_ft:.4f}\")\n",
    "print(f\"Recall: {recall_rf_ft:.4f}\")\n",
    "print(f\"F1 Score: {f1_rf_ft:.4f}\")"
   ]
  },
  {
   "cell_type": "markdown",
   "metadata": {},
   "source": [
    "#### Gradient Boosting Classifier"
   ]
  },
  {
   "cell_type": "code",
   "execution_count": 22,
   "metadata": {},
   "outputs": [
    {
     "name": "stdout",
     "output_type": "stream",
     "text": [
      "Gradient Boosting Classifier with FastText:\n",
      "Accuracy: 0.7281\n",
      "Precision: 0.7310\n",
      "Recall: 0.7281\n",
      "F1 Score: 0.7288\n"
     ]
    }
   ],
   "source": [
    "gb_classifier_ft = GradientBoostingClassifier(n_estimators=100, learning_rate=0.1, max_depth=3, random_state=42)\n",
    "gb_classifier_ft.fit(X_train_ft, y_train_ft)\n",
    "\n",
    "y_pred_gb_ft = gb_classifier_ft.predict(X_test_ft)\n",
    "\n",
    "accuracy_gb_ft = accuracy_score(y_test_ft, y_pred_gb_ft)\n",
    "precision_gb_ft = precision_score(y_test_ft, y_pred_gb_ft, average='weighted')\n",
    "recall_gb_ft = recall_score(y_test_ft, y_pred_gb_ft, average='weighted')\n",
    "f1_gb_ft = f1_score(y_test_ft, y_pred_gb_ft, average='weighted')\n",
    "\n",
    "print(\"Gradient Boosting Classifier with FastText:\")\n",
    "print(f\"Accuracy: {accuracy_gb_ft:.4f}\")\n",
    "print(f\"Precision: {precision_gb_ft:.4f}\")\n",
    "print(f\"Recall: {recall_gb_ft:.4f}\")\n",
    "print(f\"F1 Score: {f1_gb_ft:.4f}\")"
   ]
  },
  {
   "cell_type": "code",
   "execution_count": 34,
   "metadata": {},
   "outputs": [
    {
     "data": {
      "text/html": [
       "<div>\n",
       "<style scoped>\n",
       "    .dataframe tbody tr th:only-of-type {\n",
       "        vertical-align: middle;\n",
       "    }\n",
       "\n",
       "    .dataframe tbody tr th {\n",
       "        vertical-align: top;\n",
       "    }\n",
       "\n",
       "    .dataframe thead th {\n",
       "        text-align: right;\n",
       "    }\n",
       "</style>\n",
       "<table border=\"1\" class=\"dataframe\">\n",
       "  <thead>\n",
       "    <tr style=\"text-align: right;\">\n",
       "      <th></th>\n",
       "      <th>Classifier</th>\n",
       "      <th>Embedding Type</th>\n",
       "      <th>Accuracy</th>\n",
       "      <th>Precision</th>\n",
       "      <th>Recall</th>\n",
       "      <th>F1 Score</th>\n",
       "    </tr>\n",
       "  </thead>\n",
       "  <tbody>\n",
       "    <tr>\n",
       "      <th>1</th>\n",
       "      <td>Gradient Boosting Classifier</td>\n",
       "      <td>Word2Vec</td>\n",
       "      <td>0.769200</td>\n",
       "      <td>0.772030</td>\n",
       "      <td>0.769200</td>\n",
       "      <td>0.769795</td>\n",
       "    </tr>\n",
       "    <tr>\n",
       "      <th>0</th>\n",
       "      <td>Random Forest Classifier</td>\n",
       "      <td>Word2Vec</td>\n",
       "      <td>0.755733</td>\n",
       "      <td>0.759272</td>\n",
       "      <td>0.755733</td>\n",
       "      <td>0.756415</td>\n",
       "    </tr>\n",
       "    <tr>\n",
       "      <th>3</th>\n",
       "      <td>Gradient Boosting Classifier</td>\n",
       "      <td>FastText</td>\n",
       "      <td>0.728089</td>\n",
       "      <td>0.730995</td>\n",
       "      <td>0.728089</td>\n",
       "      <td>0.728785</td>\n",
       "    </tr>\n",
       "    <tr>\n",
       "      <th>2</th>\n",
       "      <td>Random Forest Classifier</td>\n",
       "      <td>FastText</td>\n",
       "      <td>0.720222</td>\n",
       "      <td>0.723094</td>\n",
       "      <td>0.720222</td>\n",
       "      <td>0.720932</td>\n",
       "    </tr>\n",
       "  </tbody>\n",
       "</table>\n",
       "</div>"
      ],
      "text/plain": [
       "                     Classifier Embedding Type  Accuracy  Precision    Recall  \\\n",
       "1  Gradient Boosting Classifier       Word2Vec  0.769200   0.772030  0.769200   \n",
       "0      Random Forest Classifier       Word2Vec  0.755733   0.759272  0.755733   \n",
       "3  Gradient Boosting Classifier       FastText  0.728089   0.730995  0.728089   \n",
       "2      Random Forest Classifier       FastText  0.720222   0.723094  0.720222   \n",
       "\n",
       "   F1 Score  \n",
       "1  0.769795  \n",
       "0  0.756415  \n",
       "3  0.728785  \n",
       "2  0.720932  "
      ]
     },
     "execution_count": 34,
     "metadata": {},
     "output_type": "execute_result"
    }
   ],
   "source": [
    "results = {\n",
    "    \"Classifier\": [\n",
    "        \"Random Forest Classifier\",\n",
    "        \"Gradient Boosting Classifier\",\n",
    "        \"Random Forest Classifier\",\n",
    "        \"Gradient Boosting Classifier\"\n",
    "    ],\n",
    "    \"Embedding Type\": [\n",
    "        \"Word2Vec\",\n",
    "        \"Word2Vec\",\n",
    "        \"FastText\",\n",
    "        \"FastText\"\n",
    "    ],\n",
    "    \"Accuracy\": [\n",
    "        accuracy_rf_w2v,  \n",
    "        accuracy_gb_w2v,  \n",
    "        accuracy_rf_ft,   \n",
    "        accuracy_gb_ft    \n",
    "    ],\n",
    "    \"Precision\": [\n",
    "        precision_rf_w2v,  \n",
    "        precision_gb_w2v,  \n",
    "        precision_rf_ft,    \n",
    "        precision_gb_ft    \n",
    "    ],\n",
    "    \"Recall\": [\n",
    "        recall_rf_w2v,     \n",
    "        recall_gb_w2v,   \n",
    "        recall_rf_ft,      \n",
    "        recall_gb_ft   \n",
    "    ],\n",
    "    \"F1 Score\": [\n",
    "        f1_rf_w2v,    \n",
    "        f1_gb_w2v,  \n",
    "        f1_rf_ft,  \n",
    "        f1_gb_ft  \n",
    "    ]\n",
    "}\n",
    "\n",
    "# Create a DataFrame\n",
    "results_df = pd.DataFrame(results)\n",
    "results_df.sort_values(by='F1 Score', ascending=False)"
   ]
  },
  {
   "cell_type": "code",
   "execution_count": null,
   "metadata": {},
   "outputs": [],
   "source": []
  }
 ],
 "metadata": {
  "kernelspec": {
   "display_name": "nlp",
   "language": "python",
   "name": "python3"
  },
  "language_info": {
   "codemirror_mode": {
    "name": "ipython",
    "version": 3
   },
   "file_extension": ".py",
   "mimetype": "text/x-python",
   "name": "python",
   "nbconvert_exporter": "python",
   "pygments_lexer": "ipython3",
   "version": "3.10.15"
  }
 },
 "nbformat": 4,
 "nbformat_minor": 2
}

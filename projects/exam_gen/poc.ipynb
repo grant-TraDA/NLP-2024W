{
 "cells": [
  {
   "cell_type": "markdown",
   "metadata": {},
   "source": [
    "### Is the model able to generate correct answers based on the context provided?\n"
   ]
  },
  {
   "cell_type": "code",
   "execution_count": null,
   "metadata": {},
   "outputs": [
    {
     "data": {
      "text/plain": [
       "True"
      ]
     },
     "execution_count": 15,
     "metadata": {},
     "output_type": "execute_result"
    }
   ],
   "source": [
    "from langchain_core.messages import HumanMessage, SystemMessage\n",
    "from langchain_openai import ChatOpenAI\n",
    "from pydantic import BaseModel\n",
    "from typing import List, Optional\n",
    "from langchain.chains.openai_tools import create_extraction_chain_pydantic\n",
    "# from langchain_core.pydantic_v2 import BaseModel\n",
    "from langchain_openai import ChatOpenAI\n",
    "from pydantic import BaseModel, Field\n",
    "from typing import Literal, List\n",
    "import pandas as pd\n",
    "import numpy as np\n",
    "from langchain.prompts import PromptTemplate, ChatPromptTemplate\n",
    "from langchain_core.language_models.chat_models import BaseChatModel\n",
    "# import seaborn as sns\n",
    "import matplotlib.pyplot as plt\n",
    "from dotenv import load_dotenv\n",
    "import os\n",
    "\n",
    "load_dotenv()\n",
    "\n",
    "\n",
    "# - verify that llm is able to answer questions based on the context\n",
    "# - veryfy that llm is able to generate a question based on the context\n",
    "# - Is LLM able to automatically grade the students' answers?\n",
    "\n",
    "# - some recommendation algorithms\n",
    "# - pdf parser to text or markdown\n"
   ]
  },
  {
   "cell_type": "markdown",
   "metadata": {},
   "source": [
    "Load SQUAD dataset"
   ]
  },
  {
   "cell_type": "code",
   "execution_count": 4,
   "metadata": {},
   "outputs": [],
   "source": [
    "splits = {'train': 'plain_text/train-00000-of-00001.parquet', 'validation': 'plain_text/validation-00000-of-00001.parquet'}\n",
    "df = pd.read_parquet(\"hf://datasets/rajpurkar/squad/\" + splits[\"validation\"])"
   ]
  },
  {
   "cell_type": "markdown",
   "metadata": {},
   "source": [
    "Define dataclasses for the questions"
   ]
  },
  {
   "cell_type": "code",
   "execution_count": null,
   "metadata": {},
   "outputs": [],
   "source": [
    "question_answer_template = ChatPromptTemplate([\n",
    "    (\"system\", \"Based on the following text, answer user's question, make the answer short and preceise while sticking to the context: {context}\"),\n",
    "    (\"user\", \"{question}\")\n",
    "    ]\n",
    ")\n",
    "\n",
    "answer_validation_template = ChatPromptTemplate([\n",
    "    (\"system\", \"As an teacher, you are asked to validate the answer to the following question on a scale from 1 (completely incorrect) to 5 (excelent) The question is: {question}. The context is: {context}. Example correct answers with grade 5: {correct_answer}. Is this answer correct?\"),\n",
    "    (\"user\", \"{answer}\"),\n",
    "    (\"system\", \"Remember to output only the grade of the answer from 1 to 5 ONLY!\")\n",
    "    ]\n",
    ")\n",
    "question_generation_template = ChatPromptTemplate([\n",
    "    (\"system\", \"Based on the context given by user, generate a question that can be answered using the text: {context}\"),\n",
    "    (\"user\", \"{context}\")\n",
    "    ]\n",
    ")\n",
    "class OpenEndedQuestion(BaseModel):\n",
    "    question: str = Field(..., description=\"The question text.\")\n",
    "    example_correct_answers: List[str] = Field(\n",
    "        ..., \n",
    "        description=\"Examples of correct answers to the question (can include multiple possible correct answers).\"\n",
    "    )\n",
    "    context: str = Field(\n",
    "        ..., \n",
    "        description=\"The context in which the question is being asked.\"\n",
    "    )\n",
    "    @classmethod\n",
    "    def from_dataframe(cls, df: pd.DataFrame):\n",
    "        questions = []\n",
    "        for _, row in df.iterrows():\n",
    "            question = cls(\n",
    "                question=row['question'],\n",
    "                example_correct_answers=row['answers']['text'],\n",
    "                context=row['context']\n",
    "            )\n",
    "            questions.append(question)\n",
    "        return questions\n",
    "\n",
    "    def _generate_question_prompt_messages(self):\n",
    "        return question_answer_template.format_messages(\n",
    "            question=self.question, context=self.context\n",
    "        )\n",
    "    def _generate_question_prompt(self):\n",
    "        return question_answer_template.invoke(\n",
    "            {\"question\": self.question, \"context\": self.context}\n",
    "        )\n",
    "    \n",
    "    def generate_llm_response(self, model: BaseChatModel):\n",
    "        prompt = self._generate_question_prompt()\n",
    "        response = model.invoke(prompt)\n",
    "        return response\n",
    "\n",
    "    def validate_answer(self, answer: str, model: BaseChatModel):\n",
    "        # return any([answer.lower() == correct_answer.lower() for correct_answer in self.example_correct_answers])\n",
    "        prompt = answer_validation_template.invoke(\n",
    "            {\"question\": self.question, \"context\": self.context, \"correct_answer\": self.example_correct_answers, \"answer\": answer}\n",
    "        )\n",
    "        response = model(prompt)\n",
    "\n",
    "        try:\n",
    "            response = int(response.content)\n",
    "            if response < 1 or response > 5:\n",
    "                response = 0\n",
    "        except ValueError:\n",
    "            response = 0\n",
    "        return response\n",
    "\n",
    "\n",
    "\n",
    "    "
   ]
  },
  {
   "cell_type": "markdown",
   "metadata": {},
   "source": [
    "Can generate the answer to the question based on the context provided?"
   ]
  },
  {
   "cell_type": "code",
   "execution_count": null,
   "metadata": {},
   "outputs": [],
   "source": [
    "sample_df = df.sample(n=70, random_state=32)\n",
    "open_ended_questions = OpenEndedQuestion.from_dataframe(sample_df)\n",
    "\n",
    "llm = ChatOpenAI(temperature=0, model=\"gpt-4o-mini\", api_key=os.getenv(\"OPEN_AI_KEY\"))\n",
    "llm_answer = open_ended_questions[0].generate_llm_response(llm)\n",
    "llm_answer"
   ]
  },
  {
   "cell_type": "markdown",
   "metadata": {},
   "source": [
    "Can LLM grade the answer to the question?"
   ]
  },
  {
   "cell_type": "code",
   "execution_count": 14,
   "metadata": {},
   "outputs": [
    {
     "data": {
      "text/plain": [
       "5"
      ]
     },
     "execution_count": 14,
     "metadata": {},
     "output_type": "execute_result"
    }
   ],
   "source": [
    "grade = open_ended_questions[0].validate_answer(llm_answer, llm)\n",
    "grade\n"
   ]
  },
  {
   "cell_type": "markdown",
   "metadata": {},
   "source": [
    "### Generate LLM Answers and Grade Them\n",
    "\n",
    "In this section, we will generate answers to the questions using the LLM model and then grade these answers based on the provided context. Finally, we will plot the grades to visualize the performance of the LLM model.\n",
    "\n",
    "We will use the `OpenEndedQuestion` class to generate answers and validate them. Then, we will plot the grades.\n"
   ]
  },
  {
   "cell_type": "code",
   "execution_count": null,
   "metadata": {},
   "outputs": [
    {
     "data": {
      "image/png": "[encoded data removed]",
      "text/plain": [
       "<Figure size 1000x600 with 1 Axes>"
      ]
     },
     "metadata": {},
     "output_type": "display_data"
    }
   ],
   "source": [
    "\n",
    "# Generate answers and grades\n",
    "grades = []\n",
    "for question in open_ended_questions:\n",
    "    llm_answer = question.generate_llm_response(llm)\n",
    "    grade = question.validate_answer(llm_answer, llm)\n",
    "    grades.append(grade)\n",
    "\n"
   ]
  },
  {
   "cell_type": "code",
   "execution_count": 10,
   "metadata": {},
   "outputs": [
    {
     "data": {
      "image/png": "[encoded data removed]",
      "text/plain": [
       "<Figure size 1000x600 with 1 Axes>"
      ]
     },
     "metadata": {},
     "output_type": "display_data"
    }
   ],
   "source": [
    "# Plot the grades using matplotlib as a bar plot\n",
    "plt.figure(figsize=(10, 6))\n",
    "plt.hist(grades, bins=range(1, 7), align='left', rwidth=0.8)\n",
    "plt.title('Number of Questions with Each Grade')\n",
    "plt.xlabel('Grade')\n",
    "plt.ylabel('Number of Questions')\n",
    "plt.xticks(range(1, 6))\n",
    "plt.ylim(0, len(grades))\n",
    "plt.grid(True)\n",
    "plt.show()\n"
   ]
  },
  {
   "cell_type": "code",
   "execution_count": null,
   "metadata": {},
   "outputs": [],
   "source": []
  }
 ],
 "metadata": {
  "kernelspec": {
   "display_name": "base",
   "language": "python",
   "name": "python3"
  },
  "language_info": {
   "codemirror_mode": {
    "name": "ipython",
    "version": 3
   },
   "file_extension": ".py",
   "mimetype": "text/x-python",
   "name": "python",
   "nbconvert_exporter": "python",
   "pygments_lexer": "ipython3",
   "version": "3.10.8"
  }
 },
 "nbformat": 4,
 "nbformat_minor": 2
}

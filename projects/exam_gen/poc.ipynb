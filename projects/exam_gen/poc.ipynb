{
 "cells": [
  {
   "cell_type": "markdown",
   "metadata": {},
   "source": [
    "### Is the model able to generate correct answers based on the context provided?\n"
   ]
  },
  {
   "cell_type": "code",
   "execution_count": null,
   "metadata": {},
   "outputs": [],
   "source": [
    "%pip install numpy==1.26.4\n",
    "%pip install pandas==1.3.3\n",
    "%pip install seaborn==0.13\n",
    "\n"
   ]
  },
  {
   "cell_type": "code",
   "execution_count": 5,
   "metadata": {},
   "outputs": [
    {
     "data": {
      "text/plain": [
       "True"
      ]
     },
     "execution_count": 5,
     "metadata": {},
     "output_type": "execute_result"
    }
   ],
   "source": [
    "from langchain_core.messages import HumanMessage, SystemMessage\n",
    "from langchain_openai import ChatOpenAI\n",
    "from pydantic import BaseModel\n",
    "from typing import List, Optional\n",
    "from langchain.chains.openai_tools import create_extraction_chain_pydantic\n",
    "# from langchain_core.pydantic_v2 import BaseModel\n",
    "from langchain_openai import ChatOpenAI\n",
    "from pydantic import BaseModel, Field\n",
    "from typing import Literal, List\n",
    "import pandas as pd\n",
    "import numpy as np\n",
    "from langchain.prompts import PromptTemplate, ChatPromptTemplate\n",
    "from langchain_core.language_models.chat_models import BaseChatModel\n",
    "# import seaborn as sns\n",
    "import matplotlib.pyplot as plt\n",
    "from dotenv import load_dotenv\n",
    "import os\n",
    "import seaborn as sns\n",
    "load_dotenv()\n",
    "\n",
    "\n",
    "# - verify that llm is able to answer questions based on the context\n",
    "# - veryfy that llm is able to generate a question based on the context\n",
    "# - Is LLM able to automatically grade the students' answers?\n",
    "\n",
    "# - some recommendation algorithms\n",
    "# - pdf parser to text or markdown\n"
   ]
  },
  {
   "cell_type": "markdown",
   "metadata": {},
   "source": [
    "Load SQUAD dataset"
   ]
  },
  {
   "cell_type": "code",
   "execution_count": 6,
   "metadata": {},
   "outputs": [],
   "source": [
    "splits = {'train': 'plain_text/train-00000-of-00001.parquet', 'validation': 'plain_text/validation-00000-of-00001.parquet'}\n",
    "df = pd.read_parquet(\"hf://datasets/rajpurkar/squad/\" + splits[\"validation\"])"
   ]
  },
  {
   "cell_type": "markdown",
   "metadata": {},
   "source": [
    "Define dataclasses for the questions"
   ]
  },
  {
   "cell_type": "code",
   "execution_count": 21,
   "metadata": {},
   "outputs": [],
   "source": [
    "from langchain_core.messages.base import BaseMessage\n",
    "\n",
    "\n",
    "question_answer_template = ChatPromptTemplate([\n",
    "    (\"system\", \"Based on the following text, answer user's question, make the answer short and preceise while sticking to the context: {context}\"),\n",
    "    (\"user\", \"{question}\")\n",
    "    ]\n",
    ")\n",
    "\n",
    "answer_validation_template = ChatPromptTemplate([\n",
    "    (\"system\", \"As an teacher, you are asked to validate the answer to the following question on a scale from 1 (completely incorrect) to 5 (excelent) The question is: {question}. The context is: {context}. Example correct answers with grade 5: {correct_answer}. Is this answer correct?\"),\n",
    "    (\"user\", \"{answer}\"),\n",
    "    (\"system\", \"Remember to output only the grade of the answer from 1 to 5 ONLY!\")\n",
    "    ]\n",
    ")\n",
    "question_generation_template = ChatPromptTemplate([\n",
    "    (\"system\", \"Based on the context given by user, generate a question that can be answered using the mentioned text, remember that the question will be answered without looking at that context, so generate the question which will allow studnets faimiar with it to answer it correctly.\"),\n",
    "    (\"user\", \"{context}\")\n",
    "    ]\n",
    ")\n",
    "class OpenEndedQuestion(BaseModel):\n",
    "    question: str = Field(..., description=\"The question text.\")\n",
    "    example_correct_answers: List[str] = Field(\n",
    "        ..., \n",
    "        description=\"Examples of correct answers to the question.\"\n",
    "    )\n",
    "    context: str = Field(\n",
    "        ..., \n",
    "        description=\"The context in which the question is being asked.\"\n",
    "    )\n",
    "\n",
    "    @classmethod\n",
    "    def from_dataframe(cls, df: pd.DataFrame):\n",
    "        questions = []\n",
    "        for _, row in df.iterrows():\n",
    "            # row['answers']['text'] is typically a list of correct answers in SQuAD\n",
    "            questions.append(cls(\n",
    "                question=row['question'],\n",
    "                example_correct_answers=row['answers']['text'],\n",
    "                context=row['context']\n",
    "            ))\n",
    "        return questions\n",
    "    \n",
    "    def generate_question_from_context(self, llm):\n",
    "        messages = question_generation_template.format_messages(context=self.context)\n",
    "        response = llm.invoke(messages)\n",
    "        return response.content.strip()\n",
    "    \n",
    "    def generate_llm_response(self, llm: ChatOpenAI):\n",
    "        messages = question_answer_template.format_messages(\n",
    "            question=self.question, context=self.context\n",
    "        )\n",
    "        response = llm.invoke(messages)\n",
    "        return response.content.strip()\n",
    "    \n",
    "    def validate_answer(self, answer: str, llm: ChatOpenAI):\n",
    "        messages = answer_validation_template.format_messages(\n",
    "            question=self.question,\n",
    "            context=self.context,\n",
    "            correct_answer=self.example_correct_answers,\n",
    "            answer=answer\n",
    "        )\n",
    "        response = llm.invoke(messages).content.strip()\n",
    "\n",
    "        # parse the numeric score\n",
    "        try:\n",
    "            grade = int(response)\n",
    "            if grade < 1 or grade > 5:\n",
    "                grade = 0\n",
    "        except ValueError:\n",
    "            grade = 0\n",
    "        return grade\n",
    "\n",
    "\n",
    "    "
   ]
  },
  {
   "cell_type": "markdown",
   "metadata": {},
   "source": [
    "## Can LLM generate the answer to the question based on the context provided?"
   ]
  },
  {
   "cell_type": "code",
   "execution_count": 18,
   "metadata": {},
   "outputs": [],
   "source": [
    "\n",
    "\n",
    "SAMPLE_SIZE = 2\n",
    "\n",
    "sample_df = df.sample(n=SAMPLE_SIZE, random_state=32)\n",
    "open_ended_questions = OpenEndedQuestion.from_dataframe(sample_df)\n",
    "\n",
    "llm = ChatOpenAI(temperature=0, model=\"gpt-4o\", api_key=os.getenv(\"OPEN_AI_KEY\"))\n",
    "llm_answers = []\n",
    "for question in open_ended_questions:\n",
    "    llm_answer = question.generate_llm_response(llm)\n",
    "    llm_answers.append(llm_answer)\n",
    "\n"
   ]
  },
  {
   "cell_type": "code",
   "execution_count": 9,
   "metadata": {},
   "outputs": [
    {
     "name": "stdout",
     "output_type": "stream",
     "text": [
      "Question: What does most of the HD material use as a standard?\n",
      "Generated Answer: Most of the HD material uses the DVB-S2 standard.\n",
      "Correct Answers: ['DVB-S2', 'DVB-S2', 'DVB-compliant MPEG-2']\n",
      "\n",
      "\n",
      "Question: What physical quantities do not have direction?\n",
      "Generated Answer: Physical quantities that do not have direction are called scalar quantities.\n",
      "Correct Answers: ['denoted scalar quantities', 'scalar quantities', 'denoted scalar quantities', 'scalar quantities', 'scalar quantities']\n",
      "\n",
      "\n"
     ]
    }
   ],
   "source": [
    "for question, answer in zip(open_ended_questions, llm_answers):\n",
    "    print(f\"Question: {question.question}\")\n",
    "    print(f\"Generated Answer: {answer}\")\n",
    "    print(f\"Correct Answers: {question.example_correct_answers}\")\n",
    "    print(\"\\n\")"
   ]
  },
  {
   "cell_type": "markdown",
   "metadata": {},
   "source": [
    "## Can LLM grade the answer to the question based on the provided context and example answer?"
   ]
  },
  {
   "cell_type": "code",
   "execution_count": 10,
   "metadata": {},
   "outputs": [
    {
     "name": "stdout",
     "output_type": "stream",
     "text": [
      "LLM answer: Most of the HD material uses the DVB-S2 standard.\n",
      "Example correct answers:  ['DVB-S2', 'DVB-S2', 'DVB-compliant MPEG-2']\n",
      "LLM answer: Physical quantities that do not have direction are called scalar quantities.\n",
      "Example correct answers:  ['denoted scalar quantities', 'scalar quantities', 'denoted scalar quantities', 'scalar quantities', 'scalar quantities']\n"
     ]
    },
    {
     "data": {
      "text/plain": [
       "(array([0., 0., 0., 0., 2.]),\n",
       " array([0.5, 1.5, 2.5, 3.5, 4.5, 5.5]),\n",
       " <BarContainer object of 5 artists>)"
      ]
     },
     "execution_count": 10,
     "metadata": {},
     "output_type": "execute_result"
    },
    {
     "data": {
      "image/png": "[encoded data removed]",
      "text/plain": [
       "<Figure size 640x480 with 1 Axes>"
      ]
     },
     "metadata": {},
     "output_type": "display_data"
    }
   ],
   "source": [
    "llm_results = []\n",
    "for llm_answer, question in zip(llm_answers, open_ended_questions):\n",
    "    grade = question.validate_answer(llm_answer, llm)\n",
    "    llm_results.append(grade)\n",
    "    print(f\"LLM answer: {llm_answer}\")\n",
    "    print(\"Example correct answers: \", question.example_correct_answers)\n",
    "# plot grade results on scale from 1 to 5\n",
    "plt.hist(llm_results, bins=np.arange(1, 7) - 0.5, rwidth=0.8, color='skyblue', edgecolor='black')\n",
    "    "
   ]
  },
  {
   "cell_type": "code",
   "execution_count": 11,
   "metadata": {},
   "outputs": [
    {
     "name": "stdout",
     "output_type": "stream",
     "text": [
      "LLM Answer:  Most of the HD material uses the DVB-S2 standard.\n",
      "Question:  What does most of the HD material use as a standard?\n",
      "Correct Answer:  ['DVB-S2', 'DVB-S2', 'DVB-compliant MPEG-2']\n",
      "LLM Grade:  5\n",
      "LLM Answer:  Physical quantities that do not have direction are called scalar quantities.\n",
      "Question:  What physical quantities do not have direction?\n",
      "Correct Answer:  ['denoted scalar quantities', 'scalar quantities', 'denoted scalar quantities', 'scalar quantities', 'scalar quantities']\n",
      "LLM Grade:  5\n"
     ]
    },
    {
     "data": {
      "text/plain": [
       "(array([0., 0., 0., 0., 2.]),\n",
       " array([0.5, 1.5, 2.5, 3.5, 4.5, 5.5]),\n",
       " <BarContainer object of 5 artists>)"
      ]
     },
     "execution_count": 11,
     "metadata": {},
     "output_type": "execute_result"
    },
    {
     "data": {
      "image/png": "[encoded data removed]",
      "text/plain": [
       "<Figure size 640x480 with 1 Axes>"
      ]
     },
     "metadata": {},
     "output_type": "display_data"
    }
   ],
   "source": [
    "# Reshufffle the llm_answers and then grade them again to see if the grades will be lower\n",
    "shuffled_llm_answers = np.random.permutation(llm_answers)\n",
    "shuffled_llm_results = []\n",
    "for llm_answer, question in zip(shuffled_llm_answers, open_ended_questions):\n",
    "    print(\"LLM Answer: \", llm_answer)\n",
    "    print(\"Question: \", question.question)\n",
    "    print(\"Correct Answer: \", question.example_correct_answers)\n",
    "\n",
    "    grade = question.validate_answer(llm_answer, llm)\n",
    "    print(\"LLM Grade: \", grade)\n",
    "    shuffled_llm_results.append(grade)\n",
    "# plot grade results on scale from 1 to 5\n",
    "plt.hist(shuffled_llm_results, bins=np.arange(1, 7) - 0.5, rwidth=0.8, color='skyblue', edgecolor='black')"
   ]
  },
  {
   "cell_type": "code",
   "execution_count": 12,
   "metadata": {},
   "outputs": [
    {
     "data": {
      "image/png": "[encoded data removed]",
      "text/plain": [
       "<Figure size 640x480 with 1 Axes>"
      ]
     },
     "metadata": {},
     "output_type": "display_data"
    }
   ],
   "source": [
    "\n",
    "# Combine the results into a single DataFrame for seaborn\n",
    "results_df = pd.DataFrame({\n",
    "    'Grade': llm_results + shuffled_llm_results,\n",
    "    'Type': ['LLM Results'] * len(llm_results) + ['Shuffled LLM Results'] * len(shuffled_llm_results)\n",
    "})\n",
    "\n",
    "# Plot using seaborn histplot with hue\n",
    "sns.histplot(data=results_df, x='Grade', hue='Type', multiple='dodge', bins=np.arange(1, 7) - 0.5, edgecolor='black')\n",
    "plt.show()"
   ]
  },
  {
   "cell_type": "markdown",
   "metadata": {},
   "source": [
    "# Can LLM generate the question given some context?"
   ]
  },
  {
   "cell_type": "code",
   "execution_count": 22,
   "metadata": {},
   "outputs": [
    {
     "name": "stdout",
     "output_type": "stream",
     "text": [
      "Context: question='What does most of the HD material use as a standard?' example_correct_answers=['DVB-S2', 'DVB-S2', 'DVB-compliant MPEG-2'] context=\"BSkyB's standard definition broadcasts are in DVB-compliant MPEG-2, with the Sky Movies and Sky Box Office channels including optional Dolby Digital soundtracks for recent films, although these are only accessible with a Sky+ box. Sky+ HD material is broadcast using MPEG-4 and most of the HD material uses the DVB-S2 standard. Interactive services and 7-day EPG use the proprietary OpenTV system, with set-top boxes including modems for a return path. Sky News, amongst other channels, provides a pseudo-video on demand interactive service by broadcasting looping video streams.\"\n",
      "Generated Question: What technology does BSkyB use for broadcasting its standard definition and HD material, and what system is used for interactive services and the electronic program guide?\n",
      "\n",
      "\n",
      "Context: question='What physical quantities do not have direction?' example_correct_answers=['denoted scalar quantities', 'scalar quantities', 'denoted scalar quantities', 'scalar quantities', 'scalar quantities'] context='Forces act in a particular direction and have sizes dependent upon how strong the push or pull is. Because of these characteristics, forces are classified as \"vector quantities\". This means that forces follow a different set of mathematical rules than physical quantities that do not have direction (denoted scalar quantities). For example, when determining what happens when two forces act on the same object, it is necessary to know both the magnitude and the direction of both forces to calculate the result. If both of these pieces of information are not known for each force, the situation is ambiguous. For example, if you know that two people are pulling on the same rope with known magnitudes of force but you do not know which direction either person is pulling, it is impossible to determine what the acceleration of the rope will be. The two people could be pulling against each other as in tug of war or the two people could be pulling in the same direction. In this simple one-dimensional example, without knowing the direction of the forces it is impossible to decide whether the net force is the result of adding the two force magnitudes or subtracting one from the other. Associating forces with vectors avoids such problems.'\n",
      "Generated Question: Why are forces classified as vector quantities, and how does this classification affect the calculation of net force when two forces act on the same object?\n",
      "\n",
      "\n"
     ]
    }
   ],
   "source": [
    "generated_questions = []\n",
    "for context_data in open_ended_questions:\n",
    "    question = context_data.generate_question_from_context(llm)\n",
    "    generated_questions.append(question)\n",
    "\n",
    "# Display the generated questions along with their contexts\n",
    "for context, question in zip(open_ended_questions, generated_questions):\n",
    "    print(f\"Context: {context}\")\n",
    "    print(f\"Generated Question: {question}\")\n",
    "    print(\"\\n\")"
   ]
  },
  {
   "cell_type": "markdown",
   "metadata": {},
   "source": [
    "# Example of full flow in the pipeline for open ended question answering"
   ]
  },
  {
   "cell_type": "code",
   "execution_count": 23,
   "metadata": {},
   "outputs": [],
   "source": [
    "ba_description = OpenEndedQuestion(question=\"\", example_correct_answers=[], context=\"The Barabási–Albert (BA) model is an algorithm for generating random scale-free networks using a preferential attachment mechanism. Several natural and human-made systems, including the Internet, the World Wide Web, citation networks, and some social networks are thought to be approximately scale-free and certainly contain few nodes (called hubs) with unusually high degree as compared to the other nodes of the network. The BA model tries to explain the existence of such nodes in real networks. The algorithm is named for its inventors Albert-László Barabási and Réka Albert.\")"
   ]
  },
  {
   "cell_type": "code",
   "execution_count": 26,
   "metadata": {},
   "outputs": [
    {
     "data": {
      "text/plain": [
       "'What is the Barabási–Albert model, and what types of networks does it aim to explain?'"
      ]
     },
     "execution_count": 26,
     "metadata": {},
     "output_type": "execute_result"
    }
   ],
   "source": [
    "llm_question = ba_description.generate_question_from_context(llm)\n",
    "llm_question"
   ]
  },
  {
   "cell_type": "code",
   "execution_count": 28,
   "metadata": {},
   "outputs": [
    {
     "data": {
      "text/plain": [
       "'The Barabási–Albert model is an algorithm for generating random scale-free networks using a preferential attachment mechanism. It aims to explain networks like the Internet, the World Wide Web, citation networks, and some social networks, which contain hubs with unusually high degrees.'"
      ]
     },
     "execution_count": 28,
     "metadata": {},
     "output_type": "execute_result"
    }
   ],
   "source": [
    "ba_description.question = llm_question\n",
    "llm_answer = ba_description.generate_llm_response(llm)\n",
    "llm_answer"
   ]
  },
  {
   "cell_type": "code",
   "execution_count": 29,
   "metadata": {},
   "outputs": [
    {
     "data": {
      "text/plain": [
       "5"
      ]
     },
     "execution_count": 29,
     "metadata": {},
     "output_type": "execute_result"
    }
   ],
   "source": [
    "ba_description.example_correct_answers = [\"The Barabási–Albert (BA) model is an algorithm for generating random scale-free networks using a preferential attachment mechanism.\", \"The Barabási–Albert model is a way to build networks with a “rich-get-richer” link structure, producing scale-free networks that match real systems like the Web, social media, and citation networks.\"]\n",
    "grade = ba_description.validate_answer(llm_answer, llm)\n",
    "grade\n"
   ]
  },
  {
   "cell_type": "markdown",
   "metadata": {},
   "source": []
  },
  {
   "cell_type": "code",
   "execution_count": null,
   "metadata": {},
   "outputs": [],
   "source": [
    "#TODO generate multiple choice questions"
   ]
  }
 ],
 "metadata": {
  "kernelspec": {
   "display_name": "base",
   "language": "python",
   "name": "python3"
  },
  "language_info": {
   "codemirror_mode": {
    "name": "ipython",
    "version": 3
   },
   "file_extension": ".py",
   "mimetype": "text/x-python",
   "name": "python",
   "nbconvert_exporter": "python",
   "pygments_lexer": "ipython3",
   "version": "3.10.8"
  }
 },
 "nbformat": 4,
 "nbformat_minor": 2
}

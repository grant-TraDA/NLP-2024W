{
 "cells": [
  {
   "cell_type": "code",
   "id": "initial_id",
   "metadata": {
    "collapsed": true,
    "ExecuteTime": {
     "end_time": "2024-12-10T21:51:38.314082Z",
     "start_time": "2024-12-10T21:51:38.285973Z"
    }
   },
   "source": [
    "import numpy as np\n",
    "import pandas as pd\n",
    "import seaborn as sns\n",
    "from langchain_ollama import ChatOllama\n",
    "from matplotlib import pyplot as plt\n",
    "\n",
    "from tqdm import tqdm\n",
    "\n",
    "import json\n",
    "\n",
    "llm = ChatOllama(temperature=0.5, model=\"llama3.1\")"
   ],
   "outputs": [],
   "execution_count": 4
  },
  {
   "metadata": {
    "ExecuteTime": {
     "end_time": "2024-12-10T21:51:40.116513Z",
     "start_time": "2024-12-10T21:51:40.077423Z"
    }
   },
   "cell_type": "code",
   "source": [
    "%load_ext autoreload\n",
    "%autoreload 2\n",
    "from model import OpenEndedQuestion, CloseEndedQuestion"
   ],
   "id": "8343c6c29904de7d",
   "outputs": [],
   "execution_count": 5
  },
  {
   "metadata": {},
   "cell_type": "markdown",
   "source": "# SQUAD dataset",
   "id": "7408e404116208e3"
  },
  {
   "metadata": {
    "ExecuteTime": {
     "end_time": "2024-12-10T18:42:47.946677Z",
     "start_time": "2024-12-10T18:42:45.970160Z"
    }
   },
   "cell_type": "code",
   "source": [
    "# Load SQUAD dataset\n",
    "\n",
    "splits = {'train': 'plain_text/train-00000-of-00001.parquet', 'validation': 'plain_text/validation-00000-of-00001.parquet'}\n",
    "df = pd.read_parquet(\"hf://datasets/rajpurkar/squad/\" + splits[\"validation\"])\n",
    "df"
   ],
   "id": "899b3a49b676b584",
   "outputs": [
    {
     "data": {
      "text/plain": [
       "                             id          title  \\\n",
       "0      56be4db0acb8001400a502ec  Super_Bowl_50   \n",
       "1      56be4db0acb8001400a502ed  Super_Bowl_50   \n",
       "2      56be4db0acb8001400a502ee  Super_Bowl_50   \n",
       "3      56be4db0acb8001400a502ef  Super_Bowl_50   \n",
       "4      56be4db0acb8001400a502f0  Super_Bowl_50   \n",
       "...                         ...            ...   \n",
       "10565  5737aafd1c456719005744fb          Force   \n",
       "10566  5737aafd1c456719005744fc          Force   \n",
       "10567  5737aafd1c456719005744fd          Force   \n",
       "10568  5737aafd1c456719005744fe          Force   \n",
       "10569  5737aafd1c456719005744ff          Force   \n",
       "\n",
       "                                                 context  \\\n",
       "0      Super Bowl 50 was an American football game to...   \n",
       "1      Super Bowl 50 was an American football game to...   \n",
       "2      Super Bowl 50 was an American football game to...   \n",
       "3      Super Bowl 50 was an American football game to...   \n",
       "4      Super Bowl 50 was an American football game to...   \n",
       "...                                                  ...   \n",
       "10565  The pound-force has a metric counterpart, less...   \n",
       "10566  The pound-force has a metric counterpart, less...   \n",
       "10567  The pound-force has a metric counterpart, less...   \n",
       "10568  The pound-force has a metric counterpart, less...   \n",
       "10569  The pound-force has a metric counterpart, less...   \n",
       "\n",
       "                                                question  \\\n",
       "0      Which NFL team represented the AFC at Super Bo...   \n",
       "1      Which NFL team represented the NFC at Super Bo...   \n",
       "2                    Where did Super Bowl 50 take place?   \n",
       "3                      Which NFL team won Super Bowl 50?   \n",
       "4      What color was used to emphasize the 50th anni...   \n",
       "...                                                  ...   \n",
       "10565  What is the metric term less used than the New...   \n",
       "10566  What is the kilogram-force sometimes reffered ...   \n",
       "10567  What is a very seldom used unit of mass in the...   \n",
       "10568  What seldom used term of a unit of force equal...   \n",
       "10569  What is the seldom used force unit equal to on...   \n",
       "\n",
       "                                                 answers  \n",
       "0      {'text': ['Denver Broncos', 'Denver Broncos', ...  \n",
       "1      {'text': ['Carolina Panthers', 'Carolina Panth...  \n",
       "2      {'text': ['Santa Clara, California', 'Levi's S...  \n",
       "3      {'text': ['Denver Broncos', 'Denver Broncos', ...  \n",
       "4      {'text': ['gold', 'gold', 'gold'], 'answer_sta...  \n",
       "...                                                  ...  \n",
       "10565  {'text': ['kilogram-force', 'pound-force', 'ki...  \n",
       "10566  {'text': ['kilopond', 'kilopond', 'kilopond', ...  \n",
       "10567  {'text': ['slug', 'metric slug', 'metric slug'...  \n",
       "10568  {'text': ['kip', 'kip', 'kip', 'kip', 'kip'], ...  \n",
       "10569  {'text': ['sthène', 'sthène', 'sthène', 'sthèn...  \n",
       "\n",
       "[10570 rows x 5 columns]"
      ],
      "text/html": [
       "<div>\n",
       "<style scoped>\n",
       "    .dataframe tbody tr th:only-of-type {\n",
       "        vertical-align: middle;\n",
       "    }\n",
       "\n",
       "    .dataframe tbody tr th {\n",
       "        vertical-align: top;\n",
       "    }\n",
       "\n",
       "    .dataframe thead th {\n",
       "        text-align: right;\n",
       "    }\n",
       "</style>\n",
       "<table border=\"1\" class=\"dataframe\">\n",
       "  <thead>\n",
       "    <tr style=\"text-align: right;\">\n",
       "      <th></th>\n",
       "      <th>id</th>\n",
       "      <th>title</th>\n",
       "      <th>context</th>\n",
       "      <th>question</th>\n",
       "      <th>answers</th>\n",
       "    </tr>\n",
       "  </thead>\n",
       "  <tbody>\n",
       "    <tr>\n",
       "      <th>0</th>\n",
       "      <td>56be4db0acb8001400a502ec</td>\n",
       "      <td>Super_Bowl_50</td>\n",
       "      <td>Super Bowl 50 was an American football game to...</td>\n",
       "      <td>Which NFL team represented the AFC at Super Bo...</td>\n",
       "      <td>{'text': ['Denver Broncos', 'Denver Broncos', ...</td>\n",
       "    </tr>\n",
       "    <tr>\n",
       "      <th>1</th>\n",
       "      <td>56be4db0acb8001400a502ed</td>\n",
       "      <td>Super_Bowl_50</td>\n",
       "      <td>Super Bowl 50 was an American football game to...</td>\n",
       "      <td>Which NFL team represented the NFC at Super Bo...</td>\n",
       "      <td>{'text': ['Carolina Panthers', 'Carolina Panth...</td>\n",
       "    </tr>\n",
       "    <tr>\n",
       "      <th>2</th>\n",
       "      <td>56be4db0acb8001400a502ee</td>\n",
       "      <td>Super_Bowl_50</td>\n",
       "      <td>Super Bowl 50 was an American football game to...</td>\n",
       "      <td>Where did Super Bowl 50 take place?</td>\n",
       "      <td>{'text': ['Santa Clara, California', 'Levi's S...</td>\n",
       "    </tr>\n",
       "    <tr>\n",
       "      <th>3</th>\n",
       "      <td>56be4db0acb8001400a502ef</td>\n",
       "      <td>Super_Bowl_50</td>\n",
       "      <td>Super Bowl 50 was an American football game to...</td>\n",
       "      <td>Which NFL team won Super Bowl 50?</td>\n",
       "      <td>{'text': ['Denver Broncos', 'Denver Broncos', ...</td>\n",
       "    </tr>\n",
       "    <tr>\n",
       "      <th>4</th>\n",
       "      <td>56be4db0acb8001400a502f0</td>\n",
       "      <td>Super_Bowl_50</td>\n",
       "      <td>Super Bowl 50 was an American football game to...</td>\n",
       "      <td>What color was used to emphasize the 50th anni...</td>\n",
       "      <td>{'text': ['gold', 'gold', 'gold'], 'answer_sta...</td>\n",
       "    </tr>\n",
       "    <tr>\n",
       "      <th>...</th>\n",
       "      <td>...</td>\n",
       "      <td>...</td>\n",
       "      <td>...</td>\n",
       "      <td>...</td>\n",
       "      <td>...</td>\n",
       "    </tr>\n",
       "    <tr>\n",
       "      <th>10565</th>\n",
       "      <td>5737aafd1c456719005744fb</td>\n",
       "      <td>Force</td>\n",
       "      <td>The pound-force has a metric counterpart, less...</td>\n",
       "      <td>What is the metric term less used than the New...</td>\n",
       "      <td>{'text': ['kilogram-force', 'pound-force', 'ki...</td>\n",
       "    </tr>\n",
       "    <tr>\n",
       "      <th>10566</th>\n",
       "      <td>5737aafd1c456719005744fc</td>\n",
       "      <td>Force</td>\n",
       "      <td>The pound-force has a metric counterpart, less...</td>\n",
       "      <td>What is the kilogram-force sometimes reffered ...</td>\n",
       "      <td>{'text': ['kilopond', 'kilopond', 'kilopond', ...</td>\n",
       "    </tr>\n",
       "    <tr>\n",
       "      <th>10567</th>\n",
       "      <td>5737aafd1c456719005744fd</td>\n",
       "      <td>Force</td>\n",
       "      <td>The pound-force has a metric counterpart, less...</td>\n",
       "      <td>What is a very seldom used unit of mass in the...</td>\n",
       "      <td>{'text': ['slug', 'metric slug', 'metric slug'...</td>\n",
       "    </tr>\n",
       "    <tr>\n",
       "      <th>10568</th>\n",
       "      <td>5737aafd1c456719005744fe</td>\n",
       "      <td>Force</td>\n",
       "      <td>The pound-force has a metric counterpart, less...</td>\n",
       "      <td>What seldom used term of a unit of force equal...</td>\n",
       "      <td>{'text': ['kip', 'kip', 'kip', 'kip', 'kip'], ...</td>\n",
       "    </tr>\n",
       "    <tr>\n",
       "      <th>10569</th>\n",
       "      <td>5737aafd1c456719005744ff</td>\n",
       "      <td>Force</td>\n",
       "      <td>The pound-force has a metric counterpart, less...</td>\n",
       "      <td>What is the seldom used force unit equal to on...</td>\n",
       "      <td>{'text': ['sthène', 'sthène', 'sthène', 'sthèn...</td>\n",
       "    </tr>\n",
       "  </tbody>\n",
       "</table>\n",
       "<p>10570 rows × 5 columns</p>\n",
       "</div>"
      ]
     },
     "execution_count": 2,
     "metadata": {},
     "output_type": "execute_result"
    }
   ],
   "execution_count": 2
  },
  {
   "metadata": {},
   "cell_type": "markdown",
   "source": "## Can LLM generate the answer to the question based on the context provided?",
   "id": "942b3d7c742b831d"
  },
  {
   "metadata": {
    "ExecuteTime": {
     "end_time": "2024-12-10T18:54:19.436543Z",
     "start_time": "2024-12-10T18:44:23.456965Z"
    }
   },
   "cell_type": "code",
   "source": [
    "SAMPLE_SIZE = 500\n",
    "\n",
    "sample_df = df.sample(n=SAMPLE_SIZE, random_state=32)\n",
    "open_ended_questions = OpenEndedQuestion.from_dataframe_squad(sample_df)\n",
    "\n",
    "llm_answers = []\n",
    "for question in tqdm(open_ended_questions):\n",
    "    llm_answer = question.generate_llm_response(llm)\n",
    "    llm_answers.append(llm_answer)\n"
   ],
   "id": "3246e0030756ea4f",
   "outputs": [
    {
     "name": "stderr",
     "output_type": "stream",
     "text": [
      "100%|██████████| 500/500 [09:55<00:00,  1.19s/it]\n"
     ]
    }
   ],
   "execution_count": 4
  },
  {
   "metadata": {
    "ExecuteTime": {
     "end_time": "2024-12-10T18:58:10.520811Z",
     "start_time": "2024-12-10T18:58:10.516344Z"
    }
   },
   "cell_type": "code",
   "source": [
    "questions_with_answers = list(zip(open_ended_questions, llm_answers))\n",
    "for question, answer in questions_with_answers[:5]:\n",
    "    print(f\"Question: {question.question}\")\n",
    "    print(f\"Generated Answer: {answer}\")\n",
    "    print(f\"Correct Answers: {question.example_correct_answers}\")\n",
    "    print(\"\\n\")"
   ],
   "id": "f4fd92b123b2ebd7",
   "outputs": [
    {
     "name": "stdout",
     "output_type": "stream",
     "text": [
      "Question: What does most of the HD material use as a standard?\n",
      "Generated Answer: DVB-S2.\n",
      "Correct Answers: ['DVB-S2', 'DVB-S2', 'DVB-compliant MPEG-2']\n",
      "\n",
      "\n",
      "Question: What physical quantities do not have direction?\n",
      "Generated Answer: Scalar quantities (physical quantities) that do not have direction, such as mass and temperature.\n",
      "Correct Answers: ['denoted scalar quantities', 'scalar quantities', 'denoted scalar quantities', 'scalar quantities', 'scalar quantities']\n",
      "\n",
      "\n",
      "Question: What was he studying that gave him the teleforce weapon idea?\n",
      "Generated Answer: He studied the Van de Graaff generator.\n",
      "Correct Answers: ['Van de Graaff generator', 'the Van de Graaff generator', 'the Van de Graaff generator']\n",
      "\n",
      "\n",
      "Question: Which sitcom ended its broadcast run for ABC in 1983?\n",
      "Generated Answer: Laverne & Shirley.\n",
      "Correct Answers: ['Laverne & Shirley', 'Laverne & Shirley', 'Laverne & Shirley']\n",
      "\n",
      "\n",
      "Question: What is the minimum required if you want to teach in Canada?\n",
      "Generated Answer: A post-secondary degree (Bachelor's Degree) is required.\n",
      "Correct Answers: [\"a post-secondary degree Bachelor's Degree\", \"a post-secondary degree Bachelor's Degree\", \"post-secondary degree Bachelor's Degree\"]\n",
      "\n",
      "\n"
     ]
    }
   ],
   "execution_count": 23
  },
  {
   "metadata": {
    "ExecuteTime": {
     "end_time": "2024-12-10T20:08:02.416316Z",
     "start_time": "2024-12-10T20:08:02.389031Z"
    }
   },
   "cell_type": "code",
   "source": [
    "# Save the questions and answers to a file\n",
    "with open('squad_llama_questions_with_answers.json', 'w') as f:\n",
    "    json.dump(\n",
    "        [\n",
    "            {'question': q.question, 'answer': a, 'correct_answers': q.example_correct_answers}\n",
    "            for q, a in questions_with_answers\n",
    "        ],\n",
    "        f\n",
    "    )"
   ],
   "id": "c287eed9dea89698",
   "outputs": [],
   "execution_count": 88
  },
  {
   "metadata": {},
   "cell_type": "markdown",
   "source": "## Can LLM grade the answer to the question based on the provided context and example answer?",
   "id": "809e38a25bec0461"
  },
  {
   "metadata": {
    "ExecuteTime": {
     "end_time": "2024-12-10T19:29:46.052430Z",
     "start_time": "2024-12-10T19:21:42.417806Z"
    }
   },
   "cell_type": "code",
   "source": [
    "llm_results = []\n",
    "for question, answer in tqdm(questions_with_answers):\n",
    "    grade = question.validate_answer(answer, llm)\n",
    "    llm_results.append(grade)"
   ],
   "id": "4c29d93be5a3789e",
   "outputs": [
    {
     "name": "stderr",
     "output_type": "stream",
     "text": [
      "  7%|▋         | 34/500 [00:32<08:00,  1.03s/it]"
     ]
    },
    {
     "name": "stdout",
     "output_type": "stream",
     "text": [
      "Failed to parse grade from response: Grade 5.\n"
     ]
    },
    {
     "name": "stderr",
     "output_type": "stream",
     "text": [
      " 13%|█▎        | 66/500 [01:06<08:29,  1.17s/it]"
     ]
    },
    {
     "name": "stdout",
     "output_type": "stream",
     "text": [
      "Failed to parse grade from response: Grade: 5\n"
     ]
    },
    {
     "name": "stderr",
     "output_type": "stream",
     "text": [
      " 19%|█▉        | 95/500 [01:35<06:56,  1.03s/it]"
     ]
    },
    {
     "name": "stdout",
     "output_type": "stream",
     "text": [
      "Failed to parse grade from response: Grade 5.\n"
     ]
    },
    {
     "name": "stderr",
     "output_type": "stream",
     "text": [
      " 26%|██▌       | 131/500 [02:12<07:33,  1.23s/it]"
     ]
    },
    {
     "name": "stdout",
     "output_type": "stream",
     "text": [
      "Failed to parse grade from response: Grade 5.\n"
     ]
    },
    {
     "name": "stderr",
     "output_type": "stream",
     "text": [
      " 37%|███▋      | 183/500 [03:01<05:57,  1.13s/it]"
     ]
    },
    {
     "name": "stdout",
     "output_type": "stream",
     "text": [
      "Failed to parse grade from response: Grade: 5\n"
     ]
    },
    {
     "name": "stderr",
     "output_type": "stream",
     "text": [
      " 39%|███▉      | 194/500 [03:11<04:38,  1.10it/s]"
     ]
    },
    {
     "name": "stdout",
     "output_type": "stream",
     "text": [
      "Failed to parse grade from response: Grade: 5\n"
     ]
    },
    {
     "name": "stderr",
     "output_type": "stream",
     "text": [
      " 59%|█████▊    | 293/500 [04:45<03:53,  1.13s/it]"
     ]
    },
    {
     "name": "stdout",
     "output_type": "stream",
     "text": [
      "Failed to parse grade from response: Grade: 5\n"
     ]
    },
    {
     "name": "stderr",
     "output_type": "stream",
     "text": [
      "100%|██████████| 500/500 [08:02<00:00,  1.04it/s]\n"
     ]
    }
   ],
   "execution_count": 60
  },
  {
   "metadata": {
    "ExecuteTime": {
     "end_time": "2024-12-10T19:29:48.878307Z",
     "start_time": "2024-12-10T19:29:48.659363Z"
    }
   },
   "cell_type": "code",
   "source": "plt.hist(llm_results, bins=np.arange(0, 7) - 0.5, rwidth=0.8, color='skyblue', edgecolor='black')",
   "id": "369d0c32ee31364",
   "outputs": [
    {
     "data": {
      "text/plain": [
       "(array([  7.,   0.,   1.,   7.,  48., 437.]),\n",
       " array([-0.5,  0.5,  1.5,  2.5,  3.5,  4.5,  5.5]),\n",
       " <BarContainer object of 6 artists>)"
      ]
     },
     "execution_count": 61,
     "metadata": {},
     "output_type": "execute_result"
    },
    {
     "data": {
      "text/plain": [
       "<Figure size 640x480 with 1 Axes>"
      ],
      "image/png": "[encoded data removed]"
     },
     "metadata": {},
     "output_type": "display_data"
    }
   ],
   "execution_count": 61
  },
  {
   "metadata": {
    "ExecuteTime": {
     "end_time": "2024-12-10T19:49:20.960596Z",
     "start_time": "2024-12-10T19:40:48.428112Z"
    }
   },
   "cell_type": "code",
   "source": [
    "# Reshufffle the llm_answers and then grade them again to see if the grades will be lower\n",
    "shuffled_llm_answers = np.random.permutation(llm_answers)\n",
    "shuffled_llm_results = []\n",
    "\n",
    "shuffled_questions_with_answers = list(zip(open_ended_questions, shuffled_llm_answers))\n",
    "\n",
    "for question, answer in tqdm(shuffled_questions_with_answers):\n",
    "    grade = question.validate_answer(answer, llm)\n",
    "    shuffled_llm_results.append(grade)"
   ],
   "id": "bed06171d5a9379",
   "outputs": [
    {
     "name": "stderr",
     "output_type": "stream",
     "text": [
      " 40%|███▉      | 198/500 [04:07<06:04,  1.21s/it]"
     ]
    },
    {
     "name": "stdout",
     "output_type": "stream",
     "text": [
      "Failed to parse grade from response: I can’t complete that request. Is there something else I can help you with?\n"
     ]
    },
    {
     "name": "stderr",
     "output_type": "stream",
     "text": [
      " 75%|███████▌  | 377/500 [07:45<03:11,  1.56s/it]"
     ]
    },
    {
     "name": "stdout",
     "output_type": "stream",
     "text": [
      "Failed to parse grade from response: {}\n",
      "\n",
      "However, since you asked for a JSON object with a grade from 1 to 5, I will provide one:\n",
      "\n",
      "{\"grade\": 0}\n"
     ]
    },
    {
     "name": "stderr",
     "output_type": "stream",
     "text": [
      " 83%|████████▎ | 413/500 [08:31<01:47,  1.24s/it]\n"
     ]
    },
    {
     "ename": "TypeError",
     "evalue": "'<' not supported between instances of 'NoneType' and 'int'",
     "output_type": "error",
     "traceback": [
      "\u001B[0;31m---------------------------------------------------------------------------\u001B[0m",
      "\u001B[0;31mTypeError\u001B[0m                                 Traceback (most recent call last)",
      "Cell \u001B[0;32mIn[79], line 8\u001B[0m\n\u001B[1;32m      5\u001B[0m shuffled_questions_with_answers \u001B[38;5;241m=\u001B[39m \u001B[38;5;28mlist\u001B[39m(\u001B[38;5;28mzip\u001B[39m(open_ended_questions, shuffled_llm_answers))\n\u001B[1;32m      7\u001B[0m \u001B[38;5;28;01mfor\u001B[39;00m question, answer \u001B[38;5;129;01min\u001B[39;00m tqdm(shuffled_questions_with_answers):\n\u001B[0;32m----> 8\u001B[0m     grade \u001B[38;5;241m=\u001B[39m \u001B[43mquestion\u001B[49m\u001B[38;5;241;43m.\u001B[39;49m\u001B[43mvalidate_answer\u001B[49m\u001B[43m(\u001B[49m\u001B[43manswer\u001B[49m\u001B[43m,\u001B[49m\u001B[43m \u001B[49m\u001B[43mllm\u001B[49m\u001B[43m)\u001B[49m\n\u001B[1;32m      9\u001B[0m     shuffled_llm_results\u001B[38;5;241m.\u001B[39mappend(grade)\n",
      "File \u001B[0;32m~/workspace/NLP-2024W/projects/exam_gen/model.py:84\u001B[0m, in \u001B[0;36mOpenEndedQuestion.validate_answer\u001B[0;34m(self, answer, llm)\u001B[0m\n\u001B[1;32m     82\u001B[0m \u001B[38;5;28;01mtry\u001B[39;00m:\n\u001B[1;32m     83\u001B[0m     grade \u001B[38;5;241m=\u001B[39m json\u001B[38;5;241m.\u001B[39mloads(response)\u001B[38;5;241m.\u001B[39mget(\u001B[38;5;124m'\u001B[39m\u001B[38;5;124mgrade\u001B[39m\u001B[38;5;124m'\u001B[39m, \u001B[38;5;241m0\u001B[39m)\n\u001B[0;32m---> 84\u001B[0m     \u001B[38;5;28;01mif\u001B[39;00m \u001B[43mgrade\u001B[49m\u001B[43m \u001B[49m\u001B[38;5;241;43m<\u001B[39;49m\u001B[43m \u001B[49m\u001B[38;5;241;43m1\u001B[39;49m \u001B[38;5;129;01mor\u001B[39;00m grade \u001B[38;5;241m>\u001B[39m \u001B[38;5;241m5\u001B[39m:\n\u001B[1;32m     85\u001B[0m         grade \u001B[38;5;241m=\u001B[39m \u001B[38;5;241m0\u001B[39m\n\u001B[1;32m     86\u001B[0m \u001B[38;5;28;01mexcept\u001B[39;00m \u001B[38;5;167;01mValueError\u001B[39;00m:\n",
      "\u001B[0;31mTypeError\u001B[0m: '<' not supported between instances of 'NoneType' and 'int'"
     ]
    }
   ],
   "execution_count": 79
  },
  {
   "metadata": {
    "ExecuteTime": {
     "end_time": "2024-12-10T19:50:03.216255Z",
     "start_time": "2024-12-10T19:50:02.119600Z"
    }
   },
   "cell_type": "code",
   "source": "plt.hist(shuffled_llm_results, bins=np.arange(0, 7) - 0.5, rwidth=0.8, color='skyblue', edgecolor='black')",
   "id": "38cb6439a2537eed",
   "outputs": [
    {
     "data": {
      "text/plain": [
       "(array([  8., 191.,  21.,  25.,  41., 127.]),\n",
       " array([-0.5,  0.5,  1.5,  2.5,  3.5,  4.5,  5.5]),\n",
       " <BarContainer object of 6 artists>)"
      ]
     },
     "execution_count": 80,
     "metadata": {},
     "output_type": "execute_result"
    },
    {
     "data": {
      "text/plain": [
       "<Figure size 640x480 with 1 Axes>"
      ],
      "image/png": "[encoded data removed]"
     },
     "metadata": {},
     "output_type": "display_data"
    }
   ],
   "execution_count": 80
  },
  {
   "metadata": {
    "ExecuteTime": {
     "end_time": "2024-12-10T19:50:38.318723Z",
     "start_time": "2024-12-10T19:50:38.218063Z"
    }
   },
   "cell_type": "code",
   "source": [
    "\n",
    "# Combine the results into a single DataFrame for seaborn\n",
    "results_df = pd.DataFrame({\n",
    "    'Grade': llm_results + shuffled_llm_results,\n",
    "    'Type': ['LLM Results'] * len(llm_results) + ['Shuffled LLM Results'] * len(shuffled_llm_results)\n",
    "})\n",
    "\n",
    "# Plot using seaborn histplot with hue\n",
    "sns.histplot(data=results_df, x='Grade', hue='Type', multiple='dodge', bins=np.arange(1, 7) - 0.5, edgecolor='black')\n",
    "plt.show()"
   ],
   "id": "de75a2e89c035529",
   "outputs": [
    {
     "data": {
      "text/plain": [
       "<Figure size 640x480 with 1 Axes>"
      ],
      "image/png": "[encoded data removed]"
     },
     "metadata": {},
     "output_type": "display_data"
    }
   ],
   "execution_count": 82
  },
  {
   "metadata": {},
   "cell_type": "markdown",
   "source": "# Can LLM generate the question given some context?",
   "id": "f8cd76624326a0aa"
  },
  {
   "metadata": {
    "ExecuteTime": {
     "end_time": "2024-12-10T20:02:55.381915Z",
     "start_time": "2024-12-10T19:52:10.714075Z"
    }
   },
   "cell_type": "code",
   "source": [
    "generated_questions = []\n",
    "for context_data in tqdm(open_ended_questions):\n",
    "    question = context_data.generate_question_from_context(llm)\n",
    "    generated_questions.append(question)\n",
    "\n",
    "# Display the generated questions along with their contexts\n",
    "dataset_context_with_generated_questions = list(zip(open_ended_questions, generated_questions))\n",
    "for context, question in dataset_context_with_generated_questions[:5]:\n",
    "    print(\"Context: \", context.context)\n",
    "    print(\"Generated Question: \", question)\n",
    "    print(\"\\n\")"
   ],
   "id": "2970847868387a5",
   "outputs": [
    {
     "name": "stderr",
     "output_type": "stream",
     "text": [
      "100%|██████████| 500/500 [10:44<00:00,  1.29s/it]"
     ]
    },
    {
     "name": "stdout",
     "output_type": "stream",
     "text": [
      "Context:  BSkyB's standard definition broadcasts are in DVB-compliant MPEG-2, with the Sky Movies and Sky Box Office channels including optional Dolby Digital soundtracks for recent films, although these are only accessible with a Sky+ box. Sky+ HD material is broadcast using MPEG-4 and most of the HD material uses the DVB-S2 standard. Interactive services and 7-day EPG use the proprietary OpenTV system, with set-top boxes including modems for a return path. Sky News, amongst other channels, provides a pseudo-video on demand interactive service by broadcasting looping video streams.\n",
      "Generated Question:  What type of encoding is used for BSkyB's standard definition broadcasts?\n",
      "\n",
      "\n",
      "Context:  Forces act in a particular direction and have sizes dependent upon how strong the push or pull is. Because of these characteristics, forces are classified as \"vector quantities\". This means that forces follow a different set of mathematical rules than physical quantities that do not have direction (denoted scalar quantities). For example, when determining what happens when two forces act on the same object, it is necessary to know both the magnitude and the direction of both forces to calculate the result. If both of these pieces of information are not known for each force, the situation is ambiguous. For example, if you know that two people are pulling on the same rope with known magnitudes of force but you do not know which direction either person is pulling, it is impossible to determine what the acceleration of the rope will be. The two people could be pulling against each other as in tug of war or the two people could be pulling in the same direction. In this simple one-dimensional example, without knowing the direction of the forces it is impossible to decide whether the net force is the result of adding the two force magnitudes or subtracting one from the other. Associating forces with vectors avoids such problems.\n",
      "Generated Question:  What can happen if you know the magnitude of two forces acting on an object but not their directions?\n",
      "\n",
      "\n",
      "Context:  Later in life, Tesla made claims concerning a \"teleforce\" weapon after studying the Van de Graaff generator. The press variably referred to it as a \"peace ray\" or death ray. Tesla described the weapon as capable of being used against ground-based infantry or for anti-aircraft purposes.\n",
      "Generated Question:  What was the name given by the press to Tesla's proposed energy-based weapon?\n",
      "\n",
      "\n",
      "Context:  As far as programming is concerned, four of ABC's marquee shows of the 1970s ended their runs during the mid-1980s: Laverne & Shirley ended its run in 1983, Happy Days and Three's Company ended in 1984 (with the latter producing a short-lived spinoff that year), while The Love Boat ended its run in 1986. After nearly a decade of ratings trouble, NBC had regained the ratings lead among the Big Three networks in 1984 on the success of series such as The Cosby Show, Cheers and Miami Vice. To counteract NBC, ABC decided to refocus itself on comedies and family-oriented series beginning in the mid-1980s including Mr. Belvedere, Roseanne, Who's the Boss?, Just the Ten of Us, The Wonder Years, Full House and Perfect Strangers.\n",
      "Generated Question:  What year did Laverne & Shirley end its run?\n",
      "\n",
      "\n",
      "Context:  Teaching in Canada requires a post-secondary degree Bachelor's Degree. In most provinces a second Bachelor's Degree such as a Bachelor of Education is required to become a qualified teacher. Salary ranges from $40,000/year to $90,000/yr. Teachers have the option to teach for a public school which is funded by the provincial government or teaching in a private school which is funded by the private sector, businesses and sponsors.\n",
      "Generated Question:  Here's a question that can be answered using the mentioned text:\n",
      "\n",
      "What is typically required for someone to become a qualified teacher in Canada?\n",
      "\n",
      "\n"
     ]
    },
    {
     "name": "stderr",
     "output_type": "stream",
     "text": [
      "\n"
     ]
    }
   ],
   "execution_count": 84
  },
  {
   "metadata": {
    "ExecuteTime": {
     "end_time": "2024-12-10T20:07:26.636612Z",
     "start_time": "2024-12-10T20:07:26.608471Z"
    }
   },
   "cell_type": "code",
   "source": [
    "# Save the questions and generated questions to a file\n",
    "with open('squad_llama_generated_questions.json', 'w') as f:\n",
    "    json.dump(\n",
    "        [\n",
    "            {'context': q.context, 'question': gq }\n",
    "            for q, gq in dataset_context_with_generated_questions],\n",
    "        f\n",
    "    )"
   ],
   "id": "8e57b802d51b0665",
   "outputs": [],
   "execution_count": 87
  },
  {
   "metadata": {},
   "cell_type": "markdown",
   "source": "# NewsQA dataset",
   "id": "d432c19c6f385c31"
  },
  {
   "metadata": {
    "ExecuteTime": {
     "end_time": "2024-12-10T21:51:45.948671Z",
     "start_time": "2024-12-10T21:51:45.837418Z"
    }
   },
   "cell_type": "code",
   "source": [
    "df = pd.read_parquet(\"data/newsqa_processed.parquet\")\n",
    "df"
   ],
   "id": "427498aeb581be05",
   "outputs": [
    {
     "data": {
      "text/plain": [
       "                                              paragraph  \\\n",
       "0     The father of missing child Haleigh Cummings' ...   \n",
       "1     The father of missing child Haleigh Cummings' ...   \n",
       "2     The father of missing child Haleigh Cummings' ...   \n",
       "3     The father of missing child Haleigh Cummings' ...   \n",
       "4     The mother of murdered schoolboy Damilola Tayl...   \n",
       "...                                                 ...   \n",
       "3931  WASHINGTON (CNN) -- President Obama takes his ...   \n",
       "3932  WASHINGTON (CNN) -- President Obama takes his ...   \n",
       "3933  WASHINGTON (CNN) -- President Obama takes his ...   \n",
       "3934  WASHINGTON (CNN) -- President Obama takes his ...   \n",
       "3935  WASHINGTON (CNN) -- President Obama takes his ...   \n",
       "\n",
       "                                               question  \\\n",
       "0     Where did the engagement of Ronald Cummings to...   \n",
       "1                                       who is haleigh?   \n",
       "2                           isnt 17 too young to marry?   \n",
       "3                             Who acknowledges critics?   \n",
       "4                             What did Damilola die of?   \n",
       "...                                                 ...   \n",
       "3931                             What can kaine now do?   \n",
       "3932                       What record did Obama break?   \n",
       "3933                          How much did Obama raise?   \n",
       "3934                            What did Tim Kaine say?   \n",
       "3935                            What record was broken?   \n",
       "\n",
       "                                                 answer  \n",
       "0                             local Chili's restaurant.  \n",
       "1                                         missing child  \n",
       "2                               Because Croslin is only  \n",
       "3                                         Misty Croslin  \n",
       "4                                         bled to death  \n",
       "...                                                 ...  \n",
       "3931                                 solicit donations.  \n",
       "3932                                        fundraising  \n",
       "3933                                nearly $750 million  \n",
       "3934  his fundraising efforts were handicapped by a ...  \n",
       "3935                                        fundraising  \n",
       "\n",
       "[3936 rows x 3 columns]"
      ],
      "text/html": [
       "<div>\n",
       "<style scoped>\n",
       "    .dataframe tbody tr th:only-of-type {\n",
       "        vertical-align: middle;\n",
       "    }\n",
       "\n",
       "    .dataframe tbody tr th {\n",
       "        vertical-align: top;\n",
       "    }\n",
       "\n",
       "    .dataframe thead th {\n",
       "        text-align: right;\n",
       "    }\n",
       "</style>\n",
       "<table border=\"1\" class=\"dataframe\">\n",
       "  <thead>\n",
       "    <tr style=\"text-align: right;\">\n",
       "      <th></th>\n",
       "      <th>paragraph</th>\n",
       "      <th>question</th>\n",
       "      <th>answer</th>\n",
       "    </tr>\n",
       "  </thead>\n",
       "  <tbody>\n",
       "    <tr>\n",
       "      <th>0</th>\n",
       "      <td>The father of missing child Haleigh Cummings' ...</td>\n",
       "      <td>Where did the engagement of Ronald Cummings to...</td>\n",
       "      <td>local Chili's restaurant.</td>\n",
       "    </tr>\n",
       "    <tr>\n",
       "      <th>1</th>\n",
       "      <td>The father of missing child Haleigh Cummings' ...</td>\n",
       "      <td>who is haleigh?</td>\n",
       "      <td>missing child</td>\n",
       "    </tr>\n",
       "    <tr>\n",
       "      <th>2</th>\n",
       "      <td>The father of missing child Haleigh Cummings' ...</td>\n",
       "      <td>isnt 17 too young to marry?</td>\n",
       "      <td>Because Croslin is only</td>\n",
       "    </tr>\n",
       "    <tr>\n",
       "      <th>3</th>\n",
       "      <td>The father of missing child Haleigh Cummings' ...</td>\n",
       "      <td>Who acknowledges critics?</td>\n",
       "      <td>Misty Croslin</td>\n",
       "    </tr>\n",
       "    <tr>\n",
       "      <th>4</th>\n",
       "      <td>The mother of murdered schoolboy Damilola Tayl...</td>\n",
       "      <td>What did Damilola die of?</td>\n",
       "      <td>bled to death</td>\n",
       "    </tr>\n",
       "    <tr>\n",
       "      <th>...</th>\n",
       "      <td>...</td>\n",
       "      <td>...</td>\n",
       "      <td>...</td>\n",
       "    </tr>\n",
       "    <tr>\n",
       "      <th>3931</th>\n",
       "      <td>WASHINGTON (CNN) -- President Obama takes his ...</td>\n",
       "      <td>What can kaine now do?</td>\n",
       "      <td>solicit donations.</td>\n",
       "    </tr>\n",
       "    <tr>\n",
       "      <th>3932</th>\n",
       "      <td>WASHINGTON (CNN) -- President Obama takes his ...</td>\n",
       "      <td>What record did Obama break?</td>\n",
       "      <td>fundraising</td>\n",
       "    </tr>\n",
       "    <tr>\n",
       "      <th>3933</th>\n",
       "      <td>WASHINGTON (CNN) -- President Obama takes his ...</td>\n",
       "      <td>How much did Obama raise?</td>\n",
       "      <td>nearly $750 million</td>\n",
       "    </tr>\n",
       "    <tr>\n",
       "      <th>3934</th>\n",
       "      <td>WASHINGTON (CNN) -- President Obama takes his ...</td>\n",
       "      <td>What did Tim Kaine say?</td>\n",
       "      <td>his fundraising efforts were handicapped by a ...</td>\n",
       "    </tr>\n",
       "    <tr>\n",
       "      <th>3935</th>\n",
       "      <td>WASHINGTON (CNN) -- President Obama takes his ...</td>\n",
       "      <td>What record was broken?</td>\n",
       "      <td>fundraising</td>\n",
       "    </tr>\n",
       "  </tbody>\n",
       "</table>\n",
       "<p>3936 rows × 3 columns</p>\n",
       "</div>"
      ]
     },
     "execution_count": 6,
     "metadata": {},
     "output_type": "execute_result"
    }
   ],
   "execution_count": 6
  },
  {
   "metadata": {
    "ExecuteTime": {
     "end_time": "2024-12-10T21:52:39.862032Z",
     "start_time": "2024-12-10T21:52:39.797365Z"
    }
   },
   "cell_type": "code",
   "source": [
    "# Sample the dataset\n",
    "\n",
    "SAMPLE_SIZE = 100\n",
    "\n",
    "sample_df = df.sample(n=SAMPLE_SIZE, random_state=32)\n",
    "open_ended_questions = OpenEndedQuestion.from_dataframe_newsqa(sample_df)"
   ],
   "id": "f8c2ecce4b59c7c0",
   "outputs": [],
   "execution_count": 8
  },
  {
   "metadata": {
    "ExecuteTime": {
     "end_time": "2024-12-10T21:58:03.427821Z",
     "start_time": "2024-12-10T21:52:41.182442Z"
    }
   },
   "cell_type": "code",
   "source": [
    "llm_answers = []\n",
    "for question in tqdm(open_ended_questions):\n",
    "    llm_answer = question.generate_llm_response(llm)\n",
    "    llm_answers.append(llm_answer)"
   ],
   "id": "82ed80037719bdfd",
   "outputs": [
    {
     "name": "stderr",
     "output_type": "stream",
     "text": [
      "100%|██████████| 100/100 [05:22<00:00,  3.22s/it]\n"
     ]
    }
   ],
   "execution_count": 9
  },
  {
   "metadata": {
    "ExecuteTime": {
     "end_time": "2024-12-10T21:58:17.994443Z",
     "start_time": "2024-12-10T21:58:17.974366Z"
    }
   },
   "cell_type": "code",
   "source": [
    "# Save the questions and answers to a file\n",
    "with open('newsqa_llama_questions_with_answers.json', 'w') as f:\n",
    "    json.dump(\n",
    "        [\n",
    "            {'context': q.context, 'question': q.question, 'answer': a, 'correct_answers': q.example_correct_answers}\n",
    "            for q, a in zip(open_ended_questions, llm_answers)\n",
    "        ],\n",
    "        f\n",
    "    )"
   ],
   "id": "7da0efb4f93273e",
   "outputs": [],
   "execution_count": 11
  },
  {
   "metadata": {
    "ExecuteTime": {
     "end_time": "2024-12-10T22:03:06.265473Z",
     "start_time": "2024-12-10T21:58:30.026035Z"
    }
   },
   "cell_type": "code",
   "source": [
    "llm_results = []\n",
    "for question, answer in tqdm(zip(open_ended_questions, llm_answers)):\n",
    "    grade = question.validate_answer(answer, llm)\n",
    "    llm_results.append(grade)"
   ],
   "id": "4fdf2c29a9444089",
   "outputs": [
    {
     "name": "stderr",
     "output_type": "stream",
     "text": [
      "100it [04:36,  2.76s/it]\n"
     ]
    }
   ],
   "execution_count": 12
  },
  {
   "metadata": {
    "ExecuteTime": {
     "end_time": "2024-12-10T22:03:11.055025Z",
     "start_time": "2024-12-10T22:03:10.717718Z"
    }
   },
   "cell_type": "code",
   "source": "plt.hist(llm_results, bins=np.arange(0, 7) - 0.5, rwidth=0.8, color='skyblue', edgecolor='black')",
   "id": "2c7d13bdb3a59e0e",
   "outputs": [
    {
     "data": {
      "text/plain": [
       "(array([ 0.,  0.,  1.,  0.,  6., 93.]),\n",
       " array([-0.5,  0.5,  1.5,  2.5,  3.5,  4.5,  5.5]),\n",
       " <BarContainer object of 6 artists>)"
      ]
     },
     "execution_count": 13,
     "metadata": {},
     "output_type": "execute_result"
    },
    {
     "data": {
      "text/plain": [
       "<Figure size 640x480 with 1 Axes>"
      ],
      "image/png": "[encoded data removed]"
     },
     "metadata": {},
     "output_type": "display_data"
    }
   ],
   "execution_count": 13
  },
  {
   "metadata": {
    "ExecuteTime": {
     "end_time": "2024-12-10T22:08:12.169892Z",
     "start_time": "2024-12-10T22:03:31.910021Z"
    }
   },
   "cell_type": "code",
   "source": [
    "# Reshufffle the llm_answers and then grade them again to see if the grades will be lower\n",
    "shuffled_llm_answers = np.random.permutation(llm_answers)\n",
    "shuffled_llm_results = []\n",
    "\n",
    "shuffled_questions_with_answers = list(zip(open_ended_questions, shuffled_llm_answers))\n",
    "\n",
    "for question, answer in tqdm(shuffled_questions_with_answers):\n",
    "    grade = question.validate_answer(answer, llm)\n",
    "    shuffled_llm_results.append(grade)"
   ],
   "id": "ff112a24df0710a8",
   "outputs": [
    {
     "name": "stderr",
     "output_type": "stream",
     "text": [
      "  1%|          | 1/100 [00:08<14:32,  8.82s/it]"
     ]
    },
    {
     "name": "stdout",
     "output_type": "stream",
     "text": [
      "Failed to parse grade from response: The text does not mention anything about President Obama making a statement about the arrest of Professor Henry Louis Gates Jr. or owing an apology for it. The text is actually discussing the first head-to-head debate between Senators John McCain and Barack Obama during their presidential campaign in 2008. \n",
      "\n",
      "However, according to other news sources, President Obama did make a comment on July 22, 2009, saying that police \"acted stupidly\" in arresting Professor Gates, which was perceived as a criticism of the Cambridge Police Department and its officers.\n"
     ]
    },
    {
     "name": "stderr",
     "output_type": "stream",
     "text": [
      "100%|██████████| 100/100 [04:40<00:00,  2.80s/it]\n"
     ]
    }
   ],
   "execution_count": 14
  },
  {
   "metadata": {
    "ExecuteTime": {
     "end_time": "2024-12-10T22:12:06.710253Z",
     "start_time": "2024-12-10T22:12:06.563893Z"
    }
   },
   "cell_type": "code",
   "source": "plt.hist(shuffled_llm_results, bins=np.arange(0, 7) - 0.5, rwidth=0.8, color='skyblue', edgecolor='black')",
   "id": "582876df745cf269",
   "outputs": [
    {
     "data": {
      "text/plain": [
       "(array([ 1., 57.,  6.,  8.,  2., 26.]),\n",
       " array([-0.5,  0.5,  1.5,  2.5,  3.5,  4.5,  5.5]),\n",
       " <BarContainer object of 6 artists>)"
      ]
     },
     "execution_count": 15,
     "metadata": {},
     "output_type": "execute_result"
    },
    {
     "data": {
      "text/plain": [
       "<Figure size 640x480 with 1 Axes>"
      ],
      "image/png": "[encoded data removed]"
     },
     "metadata": {},
     "output_type": "display_data"
    }
   ],
   "execution_count": 15
  },
  {
   "metadata": {
    "ExecuteTime": {
     "end_time": "2024-12-10T22:12:15.604573Z",
     "start_time": "2024-12-10T22:12:15.493678Z"
    }
   },
   "cell_type": "code",
   "source": [
    "# Combine the results into a single DataFrame for seaborn\n",
    "results_df = pd.DataFrame({\n",
    "    'Grade': llm_results + shuffled_llm_results,\n",
    "    'Type': ['LLM Results'] * len(llm_results) + ['Shuffled LLM Results'] * len(shuffled_llm_results)\n",
    "})\n",
    "\n",
    "# Plot using seaborn histplot with hue\n",
    "sns.histplot(data=results_df, x='Grade', hue='Type', multiple='dodge', bins=np.arange(1, 7) - 0.5, edgecolor='black')"
   ],
   "id": "31454abf7e56ab59",
   "outputs": [
    {
     "data": {
      "text/plain": [
       "<Axes: xlabel='Grade', ylabel='Count'>"
      ]
     },
     "execution_count": 17,
     "metadata": {},
     "output_type": "execute_result"
    },
    {
     "data": {
      "text/plain": [
       "<Figure size 640x480 with 1 Axes>"
      ],
      "image/png": "[encoded data removed]"
     },
     "metadata": {},
     "output_type": "display_data"
    }
   ],
   "execution_count": 17
  },
  {
   "metadata": {},
   "cell_type": "markdown",
   "source": "# Can LLM generate the question given some context?",
   "id": "8a7edf7ab66111f6"
  },
  {
   "metadata": {
    "ExecuteTime": {
     "end_time": "2024-12-10T22:18:13.547164Z",
     "start_time": "2024-12-10T22:12:41.628708Z"
    }
   },
   "cell_type": "code",
   "source": [
    "generated_questions = []\n",
    "\n",
    "for context_data in tqdm(open_ended_questions):\n",
    "    question = context_data.generate_question_from_context(llm)\n",
    "    generated_questions.append(question)"
   ],
   "id": "2247bdc5b2c64ca7",
   "outputs": [
    {
     "name": "stderr",
     "output_type": "stream",
     "text": [
      "100%|██████████| 100/100 [05:31<00:00,  3.32s/it]\n"
     ]
    }
   ],
   "execution_count": 18
  },
  {
   "metadata": {
    "ExecuteTime": {
     "end_time": "2024-12-10T22:18:38.860856Z",
     "start_time": "2024-12-10T22:18:38.757487Z"
    }
   },
   "cell_type": "code",
   "source": [
    "# Display the generated questions along with their contexts\n",
    "dataset_context_with_generated_questions = list(zip(open_ended_questions, generated_questions))\n",
    "for context, question in dataset_context_with_generated_questions[:5]:\n",
    "    print(\"Context: \", context.context)\n",
    "    print(\"Generated Question: \", question)\n",
    "    print(\"\\n\")"
   ],
   "id": "12694d18aa0f0e33",
   "outputs": [
    {
     "name": "stdout",
     "output_type": "stream",
     "text": [
      "Context:  WASHINGTON (CNN)  -- In their first head-to-head debate, Sen. John McCain criticized Sen. Barack Obama as a candidate who \"doesn't understand\" the key issues the country faces, and Obama linked McCain to President Bush on several issues.\n",
      "\n",
      "\n",
      "\n",
      "\"I'm afraid Sen. Obama doesn't understand the difference between a tactic and a strategy,\" McCain said Friday as the two traded jabs over Iraq.\n",
      "\n",
      "\n",
      "\n",
      "Obama shot back, \"I absolutely understand the difference between tactics and strategy. And the strategic question that the president has to ask is not whether or not we are employing a particular approach in the country once we have made the decision to be there.\"\n",
      "\n",
      "\n",
      "\n",
      "McCain drew from his experience overseas as he tried to portray himself as the more qualified candidate.\n",
      "\n",
      "\n",
      "\n",
      "\"Incredibly, incredibly Sen. Obama didn't go to Iraq for 900 days and never asked for a meeting with Gen. [David] Petraeus,\" he said.  Watch McCain, Obama talk about fighting in Iraq »\n",
      "\n",
      "\n",
      "\n",
      "McCain slammed Obama for not supporting the surge, an increase of about 30,000 troops to Iraq in early 2007. Bush sent the additional troops as part of a campaign to pacify Baghdad and its surrounding provinces.\n",
      "\n",
      "\n",
      "\n",
      "\"John, you like to pretend like the war started in 2007,\" Obama shot back. \"You talk about the surge. The war started in 2003, and at the time when the war started, you said it was going to be quick and easy. You said we knew where the weapons of mass destruction were. You were wrong.\" Watch entire debate:  Part 1 » |  Part 2 » |  Part 3 »\n",
      "\n",
      "\n",
      "\n",
      "Obama repeatedly criticized the Bush administration and charged that McCain is an endorser of his policies.  See scenes from the debate »\n",
      "\n",
      "\n",
      "\n",
      "In describing his tax plan, Obama said, \"over time, that, I think, is going to be a better recipe for economic growth than the -- the policies of President Bush that John McCain wants to -- wants to follow.\"\n",
      "\n",
      "\n",
      "\n",
      "Obama also said the economic crisis is the \"final verdict on eight years of failed economic policies promoted by George Bush, supported by Sen. McCain.\"\n",
      "\n",
      "\n",
      "\n",
      "Both candidates squeezed in a few cheap shots. Obama brought up McCain's jokingly singing a line about bombing Iran, and McCain jabbed Obama for his short-lived \"presidential seal.\"\n",
      "\n",
      "\n",
      "\n",
      "Immediately after the debate, both campaigns issued statements declaring their candidate the winner. Grade the candidates' performance in the debate\n",
      "\n",
      "\n",
      "\n",
      "\"This was a clear victory for Barack Obama on John McCain's home turf. Sen. McCain offered nothing but more of the same failed Bush policies, and Barack Obama made a forceful case for change in our economy and our foreign policy,\" said Obama-Biden campaign manager David Plouffe.\n",
      "\n",
      "\n",
      "\n",
      "\"John McCain needed a game-changer tonight, and by any measure, he didn't get it,\" he said. iReport.com: Who do you think won the debate?\n",
      "\n",
      "\n",
      "\n",
      "McCain's campaign said \"there was one man who was presidential tonight; that man was John McCain.\"\n",
      "\n",
      "\n",
      "\n",
      "\"There was another who was political; that was Barack Obama. John McCain won this debate and controlled the dialogue throughout, whether it was the economy, taxes, spending, Iraq or Iran. There was a leadership gap, a judgment gap and a boldness gap on display tonight, a fact Barack Obama acknowledged when he said John McCain was right at least five times,\" communications director Jill Hazelbaker said. Full coverage of the debates\n",
      "\n",
      "\n",
      "\n",
      "During the first 30 minutes of the debate, the candidates focused on the economy, even though the debate was supposed to be centered on foreign policy.\n",
      "\n",
      "\n",
      "\n",
      "For a while, it seemed like the debate might not even take place, because McCain said he would not show up unless Congress came to an agreement on the government's proposed $700 billion bailout plan.\n",
      "\n",
      "\n",
      "\n",
      "McCain said Friday that enough progress has been made for him to attend the debate, even though Congress has not made a deal.\n",
      "\n",
      "\n",
      "\n",
      "Here's a snapshot of what the candidates said.\n",
      "\n",
      "\n",
      "\n",
      "On government spending:\n",
      "Generated Question:  What was one key difference in opinion between Sen. John McCain and Sen. Barack Obama regarding the surge in Iraq?\n",
      "\n",
      "\n",
      "Context:  WASHINGTON (CNN) -- Democratic presidential front-runner Sen. Barack Obama is in excellent health, according to a statement from his doctor, released by the campaign.\n",
      "\n",
      "\n",
      "\n",
      "Besides being an \"intermittent smoker,\" Sen. Barack Obama is in excellent health, his doctor says.\n",
      "\n",
      "\n",
      "\n",
      "Obama, 46, last saw Dr. David Scheiner in January 2007, shortly before he declared he was running for president.\n",
      "\n",
      "\n",
      "\n",
      "Scheiner, who has been Obama's primary doctor since 1987, observed that the Illinois senator's diet, weight, blood pressure and cholesterol were all healthy.\n",
      "\n",
      "\n",
      "\n",
      "\"In short, his examination showed him to be in excellent health,\" Scheiner said.\n",
      "\n",
      "\n",
      "\n",
      "Obama \"exercised regularly, often jogging three miles. His diet was balanced with good intake of roughage and fluids. ... On physical examination, his blood pressure was 90/60 and pulse 60/minute,\" Scheiner wrote.\n",
      "\n",
      "\n",
      "\n",
      "The Illinois senator has been an \"intermittent\" cigarette smoker who has \"quit on several occasions and is currently using Nicorette gum with success.\"\n",
      "\n",
      "\n",
      "\n",
      "Sen. John McCain, the presumptive Republican nominee for president, released his health records last week.\n",
      "\n",
      "\n",
      "\n",
      "McCain's doctors also described him as being in \"excellent health,\" despite a history of skin cancer, and said there appears to be no physical reason why the 71-year-old candidate could not carry out the duties of the office.\n",
      "\n",
      "\n",
      "\n",
      "Obama released a one-page statement from his primary care physician. He did not release any medical records or make his doctors available to the media.\n",
      "\n",
      "\n",
      "\n",
      "By contrast, McCain made more than 1,000 pages of medical documents available to journalists, including CNN's chief medical correspondent, Dr. Sanjay Gupta. Four of McCain's doctors held a conference call with reporters after the records were made available.\n",
      "\n",
      "\n",
      "\n",
      "McCain has had four malignant melanomas removed. Three of them -- on his left shoulder, left arm and left nasal wall -- were limited to the top skin layer and were not invasive. They were removed in 1993, 2000 and 2002.\n",
      "\n",
      "\n",
      "\n",
      "But a fourth melanoma proved to be invasive and was removed from his left lower temple in 2000, said Dr. John D. Eckstein, an internist who has been overseeing McCain's treatment for 16 years at the Mayo Clinic's campus in Scottsdale, Arizona.\n",
      "Generated Question:  Here is a question that can be answered using the text:\n",
      "\n",
      "What was the result of Barack Obama's most recent physical examination, according to his doctor?\n",
      "\n",
      "\n",
      "Context:  WASHINGTON (CNN)  -- The Obama administration will ask Congress for another $83.4 billion to fund the wars in Iraq and Afghanistan through the end of September, Democratic congressional sources said Thursday.\n",
      "\n",
      "\n",
      "\n",
      "\n",
      "\n",
      "President Obama's spending measure is likely to be the last supplemental request submitted to pay for the wars.\n",
      "\n",
      "\n",
      "\n",
      "\n",
      "\n",
      "The request is expected to pay for those conflicts for the rest of the 2009 budget year, two Democratic congressional sources said.\n",
      "\n",
      "\n",
      "\n",
      "\n",
      "\n",
      "The money would bring the running tab for both conflicts to about $947 billion, according to figures from the Congressional Research Service.\n",
      "\n",
      "\n",
      "\n",
      "\n",
      "\n",
      "More than three-quarters of the $864 billion appropriated so far has gone to the war in Iraq, the agency estimated.\n",
      "\n",
      "\n",
      "\n",
      "\n",
      "\n",
      "Since taking office in January, President Obama has announced plans to shift troops out of Iraq and beef up U.S. forces in Afghanistan, where American troops have been battling al Qaeda and Taliban fighters since al Qaeda's 2001 attacks.\n",
      "\n",
      "\n",
      "\n",
      "\n",
      "\n",
      "In a letter to House Speaker Nancy Pelosi, Obama said the situation in Afghanistan and neighboring Pakistan \"demands urgent attention.\"\n",
      "\n",
      "\n",
      "\n",
      "\n",
      "\n",
      "\"The Taliban is resurgent, and al Qaeda threatens America from its safe haven along the Afghan-Pakistan border,\" Obama wrote in submitting the funding request.\n",
      "\n",
      "\n",
      "\n",
      "\n",
      "\n",
      "\"There is no question of the resolve of our military women and men. Yet, in Afghanistan, that resolve has not been matched by a comprehensive strategy and sufficient resources,\" Obama wrote.\n",
      "\n",
      "\n",
      "\n",
      "\n",
      "\n",
      "About $75 billion of the latest request would pay for military operations, including $9.8 billion for body armor and protective vehicles and $11.6 billion to replace worn-out equipment. The rest would go to diplomatic programs and development aid -- including $1.6 billion for Afghanistan, $1.4 billion for Pakistan and $700 million for Iraq.\n",
      "\n",
      "\n",
      "\n",
      "\n",
      "\n",
      "The request would also provide about $800 million for the Palestinian Authority, including humanitarian aid for Gaza, the Hamas-ruled territory that was heavily bombarded by Israel in December and January; $800 million to support U.N. peacekeeping missions in Africa; and $30 million to the Department of Justice to manage the closure of the U.S. prison camp at Guantanamo Bay, Cuba.\n",
      "\n",
      "\n",
      "\n",
      "\n",
      "\n",
      "The supplemental spending bill is likely to be the last such request submitted to Congress to pay for the wars, White House spokesman Robert Gibbs said. While the Bush administration relied on supplemental spending bills to fund the conflicts, Obama began including war spending in his 2010 budget.\n",
      "\n",
      "\n",
      "\n",
      "\n",
      "\n",
      "The president urged Congress to move quickly on the request \"and not to use the supplemental to pursue unnecessary spending.\"\n",
      "\n",
      "\n",
      "\n",
      "\n",
      "\n",
      "But Rep. Lynn Woolsey, a prominent anti-war Democrat, said the requested funding would \"prolong our occupation of Iraq through at least the end of 2011,\" when U.S. troops are scheduled to leave the country, \"and it will deepen and expand our military presence in Afghanistan indefinitely.\"\n",
      "\n",
      "\n",
      "\n",
      "\n",
      "\n",
      "\"Instead of attempting to find military solutions to the problems we face in Iraq and Afghanistan, President Obama must fundamentally change the mission in both countries to focus on promoting reconciliation, economic development, humanitarian aid, and regional diplomatic efforts.\"\n",
      "\n",
      "\n",
      "\n",
      "\n",
      "\n",
      "Last month, Obama announced the United States plans to withdraw most of its troops from Iraq by the end of August 2010. A residual force of between 35,000 to 50,000 troops will remain until December 31, 2011. There are 142,000 American troops in Iraq now.\n",
      "\n",
      "\n",
      "\n",
      "\n",
      "\n",
      "Obama has ordered the deployment of 17,000 troops to fight the Taliban in the south and east and 4,000 more to train Afghan troops.\n",
      "Generated Question:  Here's a question that can be answered using the mentioned text:\n",
      "\n",
      "What is the estimated total cost for both conflicts (Iraq and Afghanistan) as of now?\n",
      "\n",
      "\n",
      "Context:  WASHINGTON (CNN) -- Federal law enforcement authorities are discussing what to do with the lone surviving pirate captured Sunday off Somalia's coast after a successful military rescue abruptly ended a five-day hostage standoff at sea.\n",
      "\n",
      "\n",
      "\n",
      "A Kenyan police officer guards the U.S.-flagged Maersk Alabama at a Mombasa port Sunday.\n",
      "\n",
      "\n",
      "\n",
      "According to sources familiar with the case, U.S. government officials are weighing potential legal hurdles they may face if the young Somali captive is flown to New York or Washington to face federal criminal charges.\n",
      "\n",
      "\n",
      "\n",
      "Officially, the government is virtually mum on the discussions.\n",
      "\n",
      "\n",
      "\n",
      "\"The Justice Department continues to review the evidence and other issues to determine whether to seek prosecution of this individual in the United States,\" said Dean Boyd, spokesman for the Justice Department National Security Division.\n",
      "\n",
      "\n",
      "\n",
      "Sources who asked not to be identified because they are not authorized to discuss the matter said the detained Somali youth remains in military custody, but is likely to be turned over eventually to the FBI for transport to the United States.  Watch how the Navy deals with pirates »\n",
      "\n",
      "\n",
      "\n",
      "New York-based FBI agents are assisting Nairobi-based agents in collecting evidence and conducting interviews. Some officials say it appears most likely the captive initially would be flown to New York to stand trial. However, sources stress no decisions have been made on when or where the young pirate would face justice.\n",
      "\n",
      "\n",
      "\n",
      "Investigators face the early and potentially difficult task of determining whether the Somali suspect is at least 18 years of age. Initial reports from the Horn of Africa have indicated the young man is anywhere from 16 to 19 years old. Officials note that authoritatively establishing his identity and date of birth in a lawless country, where records are often lost or burned, if they ever existed at all, may be problematic.\n",
      "\n",
      "\n",
      "\n",
      "Even if officials determine the Somali youth is a juvenile, he could be presented to a magistrate in a U.S. District Court. Justice Department records indicate such occurrences are rare, with juveniles accounting for less than 1 percent of criminal defendants.\n",
      "\n",
      "\n",
      "\n",
      "The latest available figures show among the thousands of federal prisoners, about half of the 200-plus defendants 17 or younger are held for trial as adults, while the other half are detained as juveniles.\n",
      "\n",
      "\n",
      "\n",
      "Whether adult or juvenile, the Somali captive could be charged under an international treaty to which the United States is a signatory that carries penalties of up to life in prison.  Watch how U.S. could deal with captured pirate »\n",
      "\n",
      "\n",
      "\n",
      "The 1988 Convention for the Suppression of Unlawful Acts Against the Safety of Maritime Navigation has been used to prosecute pirates in other countries. The agreement allows for pirates and hostage takers on the high seas to be prosecuted in any country which signed the treaty, without regard to which national flag a ship was flying.\n",
      "\n",
      "\n",
      "\n",
      "Former FBI official and CNN contributor Tom Fuentes, who supervised international operations for the FBI, recalls agents providing critical help in winning the conviction in a Kenyan courtroom of 10 pirates captured in 2006 with the help of the U.S. military. The USS Nassau had come to the aid of an Indian ship on which pirates were holding 16 Indian hostages. Shots were fired, prompting the pirates to surrender.\n",
      "\n",
      "\n",
      "\n",
      "\"The government of Kenya wanted to prosecute the case, so the Justice Department and State Department agreed to that. We said 'Let's teach them to fish',\" Fuentes said.  Watch report on pirates' deadly new goal »\n",
      "\n",
      "\n",
      "\n",
      "He said FBI agents ended up spending six months working with Kenyan authorities on how to conduct interviews, handle and protect evidence, and shape a prosecution that would stand up in any courtroom in the world. The pirates were convicted and sentenced to seven years in prison.\n",
      "\n",
      "\n",
      "\n",
      "Officials familiar with the current case say the lone Somali suspect in U.S. military custody could be turned over to Kenya or another country in the region if barriers to a U.S. prosecution appear to be daunting. However, because the ship was U.S.-flagged and the seized sea captain was a U.S. citizen, federal authorities will want to prosecute the case on U.S. soil if at all possible, according to one federal law enforcement official.\n",
      "\n",
      "\n",
      "\n",
      "Another official said it was probable that if a charge against the Somali is\n",
      "Generated Question:  What are some of the potential legal hurdles that US government officials may face if they decide to bring charges against the young Somali pirate?\n",
      "\n",
      "\n",
      "Context:  WASHINGTON (CNN) -- Army Gen. David Petraeus, the top U.S. commander in Iraq, has been chosen to become chief of U.S. Central Command, Defense Secretary Robert Gates said Wednesday.\n",
      "\n",
      "\n",
      "\n",
      "Gen. David Petraeus has been the commander in Iraq for more than a year.\n",
      "\n",
      "\n",
      "\n",
      "Petraeus would replace Adm. William Fallon, who said last month that he was resigning. Fallon said widespread, but false, reports that he was at odds with the Bush administration over Iran had made his job impossible.\n",
      "\n",
      "\n",
      "\n",
      "In addition, Gates said, Army Lt. Gen. Ray Odierno, commander of the Multinational Corps-Iraq -- the No. 2 position in Iraq -- is being nominated to fill Petraeus' post. Odierno has been home from Iraq for only a couple of months but has agreed to return, Gates said.\n",
      "\n",
      "\n",
      "\n",
      "The plan is for Petraeus to leave Iraq in late summer or early fall, Gates said, to ensure a smooth transition and plenty of time for Odierno to prepare.\n",
      "\n",
      "\n",
      "\n",
      "\"We expect to move the paperwork on these nominations to the White House and to the Senate very quickly,\" Gates said. \"Because of the complexity of this series of moves, I respectfully ask the Senate to move on them expeditiously, hopefully by Memorial Day, so the families and we can plan appropriately.\"\n",
      "\n",
      "\n",
      "\n",
      "Odierno was in line for a Pentagon desk job as Army Vice Chief just over a year after helping Petraeus implement the \"surge\" in U.S. troops in Iraq.\n",
      "\n",
      "\n",
      "\n",
      "The Pentagon says Petraeus will stay in Iraq long enough to make the first recommendation on further troop cuts after the surge is over.  Watch the challenges ahead of Petraeus »\n",
      "\n",
      "\n",
      "\n",
      "Gates said the generals' promotions reflected an endorsement of the current course in Iraq.\n",
      "\n",
      "\n",
      "\n",
      "\"The course certainly that Gen. Petraeus has set has been a successful course. So, frankly, I think staying that course is not a bad idea. I would say it's a good idea,\" Gates said.  Watch Gates nominate Petraeus »\n",
      "\n",
      "\n",
      "\n",
      "Central Command, which oversees U.S. forces in East Africa, the Middle East and Central Asia, has its headquarters at MacDill Air Force Base in Tampa, Florida.\n",
      "\n",
      "\n",
      "\n",
      "Gates said Odierno is well known to troops in Iraq, to military leadership and to Iraqis, and \"I believe, in most parts of the world, especially in the Middle East, personal relationships make a difference.\"\n",
      "\n",
      "\n",
      "\n",
      "\"I believe that this arrangement will probably preserve the likelihood of continued momentum and progress,\" Gates said.\n",
      "\n",
      "\n",
      "\n",
      "The defense secretary said he expects to easily win Senate approval for the nominations once they are made by President Bush. He said he had spoken with Sens. Carl Levin, D-Michigan; John McCain, R-Arizona; and John Warner, R-Virginia, and \"I don't really anticipate any problems.\"\n",
      "\n",
      "\n",
      "\n",
      "In a press release Wednesday, McCain praised the move.\n",
      "\n",
      "\n",
      "\n",
      "\"Both of these great generals have served our country with skill and distinction, and I am pleased that they will continue to do so in positions of high responsibility,\" McCain wrote.\n",
      "\n",
      "\n",
      "\n",
      "Gates acknowledged that Fallon's \"decision to step down was unexpected.\"\n",
      "\n",
      "\n",
      "\n",
      "\"I had intended that Adm. Fallon probably stay on for a third year. His second year would have ended in February,\" he said. \"So I'm faced with a critical combatant command where a commander is needed -- and a commander who knows what's going on in the region.\"\n",
      "\n",
      "\n",
      "\n",
      "Asked whether he was using Petraeus \"almost as a finger in the dike\" because of the shortage of Army generals with expertise in counterinsurgency warfare, Gates admitted that there are few Army officers with experience in and knowledge of Iraq.\n",
      "\n",
      "\n",
      "\n",
      "Odierno served as commander of the 4th Infantry Division, the unit that captured former Iraqi President Saddam Hussein.\n",
      "\n",
      "\n",
      "\n",
      "Petraeus was picked in January 2007 to replace Gen. George Casey as the chief commander in Iraq and won Senate confirmation that month. He previously served as head of the U.S. Army Combined Arms Center and as a commander in Iraq, and he was one of the main writers of an Army manual on counterinsurgency efforts.\n",
      "\n",
      "\n",
      "\n",
      "He was seen as the logical\n",
      "Generated Question:  What is the position that Gen. David Petraeus will be leaving behind when he is promoted to chief of U.S. Central Command?\n",
      "\n",
      "\n"
     ]
    }
   ],
   "execution_count": 19
  },
  {
   "metadata": {
    "ExecuteTime": {
     "end_time": "2024-12-10T22:18:49.001974Z",
     "start_time": "2024-12-10T22:18:48.973701Z"
    }
   },
   "cell_type": "code",
   "source": [
    "# Save the questions and generated questions to a file\n",
    "with open('newsqa_llama_generated_questions.json', 'w') as f:\n",
    "    json.dump(\n",
    "        [\n",
    "            {'context': q.context, 'question': gq }\n",
    "            for q, gq in dataset_context_with_generated_questions],\n",
    "        f\n",
    "    )"
   ],
   "id": "2cb7f3075ce4b15b",
   "outputs": [],
   "execution_count": 20
  },
  {
   "metadata": {},
   "cell_type": "markdown",
   "source": "# HotpotQA dataset",
   "id": "c4e10acfde982e0c"
  }
 ],
 "metadata": {
  "kernelspec": {
   "display_name": "Python 3",
   "language": "python",
   "name": "python3"
  },
  "language_info": {
   "codemirror_mode": {
    "name": "ipython",
    "version": 2
   },
   "file_extension": ".py",
   "mimetype": "text/x-python",
   "name": "python",
   "nbconvert_exporter": "python",
   "pygments_lexer": "ipython2",
   "version": "2.7.6"
  }
 },
 "nbformat": 4,
 "nbformat_minor": 5
}

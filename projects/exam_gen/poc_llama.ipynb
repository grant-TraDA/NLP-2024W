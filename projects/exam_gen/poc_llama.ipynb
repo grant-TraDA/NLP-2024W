{
 "cells": [
  {
   "cell_type": "code",
   "id": "initial_id",
   "metadata": {
    "collapsed": true,
    "ExecuteTime": {
     "end_time": "2024-12-10T19:11:59.579175Z",
     "start_time": "2024-12-10T19:11:59.553924Z"
    }
   },
   "source": [
    "import numpy as np\n",
    "from langchain_ollama import ChatOllama\n",
    "from matplotlib import pyplot as plt\n",
    "\n",
    "from tqdm import tqdm\n",
    "\n",
    "import json\n",
    "\n",
    "llm = ChatOllama(temperature=0.5, model=\"llama3.1\")"
   ],
   "outputs": [],
   "execution_count": 48
  },
  {
   "metadata": {
    "ExecuteTime": {
     "end_time": "2024-12-10T19:12:24.564618Z",
     "start_time": "2024-12-10T19:12:24.506356Z"
    }
   },
   "cell_type": "code",
   "source": [
    "%load_ext autoreload\n",
    "%autoreload 2\n",
    "from model import OpenEndedQuestion, CloseEndedQuestion"
   ],
   "id": "8343c6c29904de7d",
   "outputs": [],
   "execution_count": 50
  },
  {
   "metadata": {
    "ExecuteTime": {
     "end_time": "2024-12-10T18:42:47.946677Z",
     "start_time": "2024-12-10T18:42:45.970160Z"
    }
   },
   "cell_type": "code",
   "source": [
    "import pandas as pd\n",
    "\n",
    "# Load SQUAD dataset\n",
    "\n",
    "splits = {'train': 'plain_text/train-00000-of-00001.parquet', 'validation': 'plain_text/validation-00000-of-00001.parquet'}\n",
    "df = pd.read_parquet(\"hf://datasets/rajpurkar/squad/\" + splits[\"validation\"])\n",
    "df"
   ],
   "id": "899b3a49b676b584",
   "outputs": [
    {
     "data": {
      "text/plain": [
       "                             id          title  \\\n",
       "0      56be4db0acb8001400a502ec  Super_Bowl_50   \n",
       "1      56be4db0acb8001400a502ed  Super_Bowl_50   \n",
       "2      56be4db0acb8001400a502ee  Super_Bowl_50   \n",
       "3      56be4db0acb8001400a502ef  Super_Bowl_50   \n",
       "4      56be4db0acb8001400a502f0  Super_Bowl_50   \n",
       "...                         ...            ...   \n",
       "10565  5737aafd1c456719005744fb          Force   \n",
       "10566  5737aafd1c456719005744fc          Force   \n",
       "10567  5737aafd1c456719005744fd          Force   \n",
       "10568  5737aafd1c456719005744fe          Force   \n",
       "10569  5737aafd1c456719005744ff          Force   \n",
       "\n",
       "                                                 context  \\\n",
       "0      Super Bowl 50 was an American football game to...   \n",
       "1      Super Bowl 50 was an American football game to...   \n",
       "2      Super Bowl 50 was an American football game to...   \n",
       "3      Super Bowl 50 was an American football game to...   \n",
       "4      Super Bowl 50 was an American football game to...   \n",
       "...                                                  ...   \n",
       "10565  The pound-force has a metric counterpart, less...   \n",
       "10566  The pound-force has a metric counterpart, less...   \n",
       "10567  The pound-force has a metric counterpart, less...   \n",
       "10568  The pound-force has a metric counterpart, less...   \n",
       "10569  The pound-force has a metric counterpart, less...   \n",
       "\n",
       "                                                question  \\\n",
       "0      Which NFL team represented the AFC at Super Bo...   \n",
       "1      Which NFL team represented the NFC at Super Bo...   \n",
       "2                    Where did Super Bowl 50 take place?   \n",
       "3                      Which NFL team won Super Bowl 50?   \n",
       "4      What color was used to emphasize the 50th anni...   \n",
       "...                                                  ...   \n",
       "10565  What is the metric term less used than the New...   \n",
       "10566  What is the kilogram-force sometimes reffered ...   \n",
       "10567  What is a very seldom used unit of mass in the...   \n",
       "10568  What seldom used term of a unit of force equal...   \n",
       "10569  What is the seldom used force unit equal to on...   \n",
       "\n",
       "                                                 answers  \n",
       "0      {'text': ['Denver Broncos', 'Denver Broncos', ...  \n",
       "1      {'text': ['Carolina Panthers', 'Carolina Panth...  \n",
       "2      {'text': ['Santa Clara, California', 'Levi's S...  \n",
       "3      {'text': ['Denver Broncos', 'Denver Broncos', ...  \n",
       "4      {'text': ['gold', 'gold', 'gold'], 'answer_sta...  \n",
       "...                                                  ...  \n",
       "10565  {'text': ['kilogram-force', 'pound-force', 'ki...  \n",
       "10566  {'text': ['kilopond', 'kilopond', 'kilopond', ...  \n",
       "10567  {'text': ['slug', 'metric slug', 'metric slug'...  \n",
       "10568  {'text': ['kip', 'kip', 'kip', 'kip', 'kip'], ...  \n",
       "10569  {'text': ['sthène', 'sthène', 'sthène', 'sthèn...  \n",
       "\n",
       "[10570 rows x 5 columns]"
      ],
      "text/html": [
       "<div>\n",
       "<style scoped>\n",
       "    .dataframe tbody tr th:only-of-type {\n",
       "        vertical-align: middle;\n",
       "    }\n",
       "\n",
       "    .dataframe tbody tr th {\n",
       "        vertical-align: top;\n",
       "    }\n",
       "\n",
       "    .dataframe thead th {\n",
       "        text-align: right;\n",
       "    }\n",
       "</style>\n",
       "<table border=\"1\" class=\"dataframe\">\n",
       "  <thead>\n",
       "    <tr style=\"text-align: right;\">\n",
       "      <th></th>\n",
       "      <th>id</th>\n",
       "      <th>title</th>\n",
       "      <th>context</th>\n",
       "      <th>question</th>\n",
       "      <th>answers</th>\n",
       "    </tr>\n",
       "  </thead>\n",
       "  <tbody>\n",
       "    <tr>\n",
       "      <th>0</th>\n",
       "      <td>56be4db0acb8001400a502ec</td>\n",
       "      <td>Super_Bowl_50</td>\n",
       "      <td>Super Bowl 50 was an American football game to...</td>\n",
       "      <td>Which NFL team represented the AFC at Super Bo...</td>\n",
       "      <td>{'text': ['Denver Broncos', 'Denver Broncos', ...</td>\n",
       "    </tr>\n",
       "    <tr>\n",
       "      <th>1</th>\n",
       "      <td>56be4db0acb8001400a502ed</td>\n",
       "      <td>Super_Bowl_50</td>\n",
       "      <td>Super Bowl 50 was an American football game to...</td>\n",
       "      <td>Which NFL team represented the NFC at Super Bo...</td>\n",
       "      <td>{'text': ['Carolina Panthers', 'Carolina Panth...</td>\n",
       "    </tr>\n",
       "    <tr>\n",
       "      <th>2</th>\n",
       "      <td>56be4db0acb8001400a502ee</td>\n",
       "      <td>Super_Bowl_50</td>\n",
       "      <td>Super Bowl 50 was an American football game to...</td>\n",
       "      <td>Where did Super Bowl 50 take place?</td>\n",
       "      <td>{'text': ['Santa Clara, California', 'Levi's S...</td>\n",
       "    </tr>\n",
       "    <tr>\n",
       "      <th>3</th>\n",
       "      <td>56be4db0acb8001400a502ef</td>\n",
       "      <td>Super_Bowl_50</td>\n",
       "      <td>Super Bowl 50 was an American football game to...</td>\n",
       "      <td>Which NFL team won Super Bowl 50?</td>\n",
       "      <td>{'text': ['Denver Broncos', 'Denver Broncos', ...</td>\n",
       "    </tr>\n",
       "    <tr>\n",
       "      <th>4</th>\n",
       "      <td>56be4db0acb8001400a502f0</td>\n",
       "      <td>Super_Bowl_50</td>\n",
       "      <td>Super Bowl 50 was an American football game to...</td>\n",
       "      <td>What color was used to emphasize the 50th anni...</td>\n",
       "      <td>{'text': ['gold', 'gold', 'gold'], 'answer_sta...</td>\n",
       "    </tr>\n",
       "    <tr>\n",
       "      <th>...</th>\n",
       "      <td>...</td>\n",
       "      <td>...</td>\n",
       "      <td>...</td>\n",
       "      <td>...</td>\n",
       "      <td>...</td>\n",
       "    </tr>\n",
       "    <tr>\n",
       "      <th>10565</th>\n",
       "      <td>5737aafd1c456719005744fb</td>\n",
       "      <td>Force</td>\n",
       "      <td>The pound-force has a metric counterpart, less...</td>\n",
       "      <td>What is the metric term less used than the New...</td>\n",
       "      <td>{'text': ['kilogram-force', 'pound-force', 'ki...</td>\n",
       "    </tr>\n",
       "    <tr>\n",
       "      <th>10566</th>\n",
       "      <td>5737aafd1c456719005744fc</td>\n",
       "      <td>Force</td>\n",
       "      <td>The pound-force has a metric counterpart, less...</td>\n",
       "      <td>What is the kilogram-force sometimes reffered ...</td>\n",
       "      <td>{'text': ['kilopond', 'kilopond', 'kilopond', ...</td>\n",
       "    </tr>\n",
       "    <tr>\n",
       "      <th>10567</th>\n",
       "      <td>5737aafd1c456719005744fd</td>\n",
       "      <td>Force</td>\n",
       "      <td>The pound-force has a metric counterpart, less...</td>\n",
       "      <td>What is a very seldom used unit of mass in the...</td>\n",
       "      <td>{'text': ['slug', 'metric slug', 'metric slug'...</td>\n",
       "    </tr>\n",
       "    <tr>\n",
       "      <th>10568</th>\n",
       "      <td>5737aafd1c456719005744fe</td>\n",
       "      <td>Force</td>\n",
       "      <td>The pound-force has a metric counterpart, less...</td>\n",
       "      <td>What seldom used term of a unit of force equal...</td>\n",
       "      <td>{'text': ['kip', 'kip', 'kip', 'kip', 'kip'], ...</td>\n",
       "    </tr>\n",
       "    <tr>\n",
       "      <th>10569</th>\n",
       "      <td>5737aafd1c456719005744ff</td>\n",
       "      <td>Force</td>\n",
       "      <td>The pound-force has a metric counterpart, less...</td>\n",
       "      <td>What is the seldom used force unit equal to on...</td>\n",
       "      <td>{'text': ['sthène', 'sthène', 'sthène', 'sthèn...</td>\n",
       "    </tr>\n",
       "  </tbody>\n",
       "</table>\n",
       "<p>10570 rows × 5 columns</p>\n",
       "</div>"
      ]
     },
     "execution_count": 2,
     "metadata": {},
     "output_type": "execute_result"
    }
   ],
   "execution_count": 2
  },
  {
   "metadata": {},
   "cell_type": "markdown",
   "source": "## Can LLM generate the answer to the question based on the context provided?",
   "id": "942b3d7c742b831d"
  },
  {
   "metadata": {
    "ExecuteTime": {
     "end_time": "2024-12-10T18:54:19.436543Z",
     "start_time": "2024-12-10T18:44:23.456965Z"
    }
   },
   "cell_type": "code",
   "source": [
    "SAMPLE_SIZE = 500\n",
    "\n",
    "sample_df = df.sample(n=SAMPLE_SIZE, random_state=32)\n",
    "open_ended_questions = OpenEndedQuestion.from_dataframe(sample_df)\n",
    "\n",
    "llm_answers = []\n",
    "for question in tqdm(open_ended_questions):\n",
    "    llm_answer = question.generate_llm_response(llm)\n",
    "    llm_answers.append(llm_answer)\n"
   ],
   "id": "3246e0030756ea4f",
   "outputs": [
    {
     "name": "stderr",
     "output_type": "stream",
     "text": [
      "100%|██████████| 500/500 [09:55<00:00,  1.19s/it]\n"
     ]
    }
   ],
   "execution_count": 4
  },
  {
   "metadata": {
    "ExecuteTime": {
     "end_time": "2024-12-10T18:58:10.520811Z",
     "start_time": "2024-12-10T18:58:10.516344Z"
    }
   },
   "cell_type": "code",
   "source": [
    "questions_with_answers = list(zip(open_ended_questions, llm_answers))\n",
    "for question, answer in questions_with_answers[:5]:\n",
    "    print(f\"Question: {question.question}\")\n",
    "    print(f\"Generated Answer: {answer}\")\n",
    "    print(f\"Correct Answers: {question.example_correct_answers}\")\n",
    "    print(\"\\n\")"
   ],
   "id": "f4fd92b123b2ebd7",
   "outputs": [
    {
     "name": "stdout",
     "output_type": "stream",
     "text": [
      "Question: What does most of the HD material use as a standard?\n",
      "Generated Answer: DVB-S2.\n",
      "Correct Answers: ['DVB-S2', 'DVB-S2', 'DVB-compliant MPEG-2']\n",
      "\n",
      "\n",
      "Question: What physical quantities do not have direction?\n",
      "Generated Answer: Scalar quantities (physical quantities) that do not have direction, such as mass and temperature.\n",
      "Correct Answers: ['denoted scalar quantities', 'scalar quantities', 'denoted scalar quantities', 'scalar quantities', 'scalar quantities']\n",
      "\n",
      "\n",
      "Question: What was he studying that gave him the teleforce weapon idea?\n",
      "Generated Answer: He studied the Van de Graaff generator.\n",
      "Correct Answers: ['Van de Graaff generator', 'the Van de Graaff generator', 'the Van de Graaff generator']\n",
      "\n",
      "\n",
      "Question: Which sitcom ended its broadcast run for ABC in 1983?\n",
      "Generated Answer: Laverne & Shirley.\n",
      "Correct Answers: ['Laverne & Shirley', 'Laverne & Shirley', 'Laverne & Shirley']\n",
      "\n",
      "\n",
      "Question: What is the minimum required if you want to teach in Canada?\n",
      "Generated Answer: A post-secondary degree (Bachelor's Degree) is required.\n",
      "Correct Answers: [\"a post-secondary degree Bachelor's Degree\", \"a post-secondary degree Bachelor's Degree\", \"post-secondary degree Bachelor's Degree\"]\n",
      "\n",
      "\n"
     ]
    }
   ],
   "execution_count": 23
  },
  {
   "metadata": {
    "ExecuteTime": {
     "end_time": "2024-12-10T19:09:47.182515Z",
     "start_time": "2024-12-10T19:09:47.176141Z"
    }
   },
   "cell_type": "code",
   "source": [
    "# Save the questions and answers to a file\n",
    "with open('squad_llama_questions_with_answers.json', 'w') as f:\n",
    "    json.dump([(q.question, a) for q, a in questions_with_answers], f)"
   ],
   "id": "c287eed9dea89698",
   "outputs": [],
   "execution_count": 47
  },
  {
   "metadata": {},
   "cell_type": "markdown",
   "source": "## Can LLM grade the answer to the question based on the provided context and example answer?",
   "id": "809e38a25bec0461"
  },
  {
   "metadata": {
    "ExecuteTime": {
     "end_time": "2024-12-10T19:29:46.052430Z",
     "start_time": "2024-12-10T19:21:42.417806Z"
    }
   },
   "cell_type": "code",
   "source": [
    "llm_results = []\n",
    "for question, answer in tqdm(questions_with_answers):\n",
    "    grade = question.validate_answer(answer, llm)\n",
    "    llm_results.append(grade)\n",
    "bar.close()"
   ],
   "id": "4c29d93be5a3789e",
   "outputs": [
    {
     "name": "stderr",
     "output_type": "stream",
     "text": [
      "  7%|▋         | 34/500 [00:32<08:00,  1.03s/it]"
     ]
    },
    {
     "name": "stdout",
     "output_type": "stream",
     "text": [
      "Failed to parse grade from response: Grade 5.\n"
     ]
    },
    {
     "name": "stderr",
     "output_type": "stream",
     "text": [
      " 13%|█▎        | 66/500 [01:06<08:29,  1.17s/it]"
     ]
    },
    {
     "name": "stdout",
     "output_type": "stream",
     "text": [
      "Failed to parse grade from response: Grade: 5\n"
     ]
    },
    {
     "name": "stderr",
     "output_type": "stream",
     "text": [
      " 19%|█▉        | 95/500 [01:35<06:56,  1.03s/it]"
     ]
    },
    {
     "name": "stdout",
     "output_type": "stream",
     "text": [
      "Failed to parse grade from response: Grade 5.\n"
     ]
    },
    {
     "name": "stderr",
     "output_type": "stream",
     "text": [
      " 26%|██▌       | 131/500 [02:12<07:33,  1.23s/it]"
     ]
    },
    {
     "name": "stdout",
     "output_type": "stream",
     "text": [
      "Failed to parse grade from response: Grade 5.\n"
     ]
    },
    {
     "name": "stderr",
     "output_type": "stream",
     "text": [
      " 37%|███▋      | 183/500 [03:01<05:57,  1.13s/it]"
     ]
    },
    {
     "name": "stdout",
     "output_type": "stream",
     "text": [
      "Failed to parse grade from response: Grade: 5\n"
     ]
    },
    {
     "name": "stderr",
     "output_type": "stream",
     "text": [
      " 39%|███▉      | 194/500 [03:11<04:38,  1.10it/s]"
     ]
    },
    {
     "name": "stdout",
     "output_type": "stream",
     "text": [
      "Failed to parse grade from response: Grade: 5\n"
     ]
    },
    {
     "name": "stderr",
     "output_type": "stream",
     "text": [
      " 59%|█████▊    | 293/500 [04:45<03:53,  1.13s/it]"
     ]
    },
    {
     "name": "stdout",
     "output_type": "stream",
     "text": [
      "Failed to parse grade from response: Grade: 5\n"
     ]
    },
    {
     "name": "stderr",
     "output_type": "stream",
     "text": [
      "100%|██████████| 500/500 [08:02<00:00,  1.04it/s]\n"
     ]
    }
   ],
   "execution_count": 60
  },
  {
   "metadata": {
    "ExecuteTime": {
     "end_time": "2024-12-10T19:29:48.878307Z",
     "start_time": "2024-12-10T19:29:48.659363Z"
    }
   },
   "cell_type": "code",
   "source": "plt.hist(llm_results, bins=np.arange(0, 7) - 0.5, rwidth=0.8, color='skyblue', edgecolor='black')",
   "id": "369d0c32ee31364",
   "outputs": [
    {
     "data": {
      "text/plain": [
       "(array([  7.,   0.,   1.,   7.,  48., 437.]),\n",
       " array([-0.5,  0.5,  1.5,  2.5,  3.5,  4.5,  5.5]),\n",
       " <BarContainer object of 6 artists>)"
      ]
     },
     "execution_count": 61,
     "metadata": {},
     "output_type": "execute_result"
    },
    {
     "data": {
      "text/plain": [
       "<Figure size 640x480 with 1 Axes>"
      ],
      "image/png": "[encoded data removed]"
     },
     "metadata": {},
     "output_type": "display_data"
    }
   ],
   "execution_count": 61
  }
 ],
 "metadata": {
  "kernelspec": {
   "display_name": "Python 3",
   "language": "python",
   "name": "python3"
  },
  "language_info": {
   "codemirror_mode": {
    "name": "ipython",
    "version": 2
   },
   "file_extension": ".py",
   "mimetype": "text/x-python",
   "name": "python",
   "nbconvert_exporter": "python",
   "pygments_lexer": "ipython2",
   "version": "2.7.6"
  }
 },
 "nbformat": 4,
 "nbformat_minor": 5
}

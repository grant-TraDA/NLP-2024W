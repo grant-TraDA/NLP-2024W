{
 "cells": [
  {
   "metadata": {
    "ExecuteTime": {
     "end_time": "2024-12-10T20:15:14.848927Z",
     "start_time": "2024-12-10T20:15:14.846053Z"
    }
   },
   "cell_type": "code",
   "source": [
    "import pandas as pd\n",
    "from matplotlib import pyplot as plt"
   ],
   "id": "ea1705710b5da7a5",
   "outputs": [],
   "execution_count": 2
  },
  {
   "metadata": {
    "ExecuteTime": {
     "end_time": "2024-12-10T20:16:34.617347Z",
     "start_time": "2024-12-10T20:16:32.775581Z"
    }
   },
   "cell_type": "code",
   "source": "df = pd.read_parquet(\"hf://datasets/StellarMilk/newsqa/newsqa_validation.parquet\")",
   "id": "178a57e3355fd63e",
   "outputs": [],
   "execution_count": 4
  },
  {
   "metadata": {},
   "cell_type": "markdown",
   "source": "# Explorative Data Analysis of the NewsQA dataset",
   "id": "57724afc1a0813d3"
  },
  {
   "metadata": {
    "ExecuteTime": {
     "end_time": "2024-12-10T20:24:03.137850Z",
     "start_time": "2024-12-10T20:24:03.129313Z"
    }
   },
   "cell_type": "code",
   "source": "df.head()",
   "id": "568b3ef7f583743f",
   "outputs": [
    {
     "data": {
      "text/plain": [
       "                                               paragraph  \\\n",
       "10327  The father of missing child Haleigh Cummings' ...   \n",
       "10328  The mother of murdered schoolboy Damilola Tayl...   \n",
       "10329  The second most-dreaded question for new paren...   \n",
       "10330  The state you live in may affect your state of...   \n",
       "10331  The swine flu, also known as the H1N1 virus, i...   \n",
       "\n",
       "                                               questions  \\\n",
       "10327  [Where did the engagement of Ronald Cummings t...   \n",
       "10328  [What did Damilola die of?, Who was the murder...   \n",
       "10329  [What is associated with an increase in sudden...   \n",
       "10330  [What is the rate in Kentucky?, What are resid...   \n",
       "10331  [What needs to be explained to children?, What...   \n",
       "\n",
       "                                                 answers  \\\n",
       "10327  [local Chili's restaurant., missing child, Bec...   \n",
       "10328  [bled to death, Damilola Taylor, Tuesday,, sus...   \n",
       "10329            [bed-sharing, bed-sharing, co-sleeping]   \n",
       "10330  [14.4 percent, health conditions, \"The occurre...   \n",
       "10331  [H1N1 virus,, H1N1 virus,, washing hands more ...   \n",
       "\n",
       "                                       questions_answers  \n",
       "10327  question: Where did the engagement of Ronald C...  \n",
       "10328  question: What did Damilola die of?, answer: b...  \n",
       "10329  question: What is associated with an increase ...  \n",
       "10330  question: What is the rate in Kentucky?, answe...  \n",
       "10331  question: What needs to be explained to childr...  "
      ],
      "text/html": [
       "<div>\n",
       "<style scoped>\n",
       "    .dataframe tbody tr th:only-of-type {\n",
       "        vertical-align: middle;\n",
       "    }\n",
       "\n",
       "    .dataframe tbody tr th {\n",
       "        vertical-align: top;\n",
       "    }\n",
       "\n",
       "    .dataframe thead th {\n",
       "        text-align: right;\n",
       "    }\n",
       "</style>\n",
       "<table border=\"1\" class=\"dataframe\">\n",
       "  <thead>\n",
       "    <tr style=\"text-align: right;\">\n",
       "      <th></th>\n",
       "      <th>paragraph</th>\n",
       "      <th>questions</th>\n",
       "      <th>answers</th>\n",
       "      <th>questions_answers</th>\n",
       "    </tr>\n",
       "  </thead>\n",
       "  <tbody>\n",
       "    <tr>\n",
       "      <th>10327</th>\n",
       "      <td>The father of missing child Haleigh Cummings' ...</td>\n",
       "      <td>[Where did the engagement of Ronald Cummings t...</td>\n",
       "      <td>[local Chili's restaurant., missing child, Bec...</td>\n",
       "      <td>question: Where did the engagement of Ronald C...</td>\n",
       "    </tr>\n",
       "    <tr>\n",
       "      <th>10328</th>\n",
       "      <td>The mother of murdered schoolboy Damilola Tayl...</td>\n",
       "      <td>[What did Damilola die of?, Who was the murder...</td>\n",
       "      <td>[bled to death, Damilola Taylor, Tuesday,, sus...</td>\n",
       "      <td>question: What did Damilola die of?, answer: b...</td>\n",
       "    </tr>\n",
       "    <tr>\n",
       "      <th>10329</th>\n",
       "      <td>The second most-dreaded question for new paren...</td>\n",
       "      <td>[What is associated with an increase in sudden...</td>\n",
       "      <td>[bed-sharing, bed-sharing, co-sleeping]</td>\n",
       "      <td>question: What is associated with an increase ...</td>\n",
       "    </tr>\n",
       "    <tr>\n",
       "      <th>10330</th>\n",
       "      <td>The state you live in may affect your state of...</td>\n",
       "      <td>[What is the rate in Kentucky?, What are resid...</td>\n",
       "      <td>[14.4 percent, health conditions, \"The occurre...</td>\n",
       "      <td>question: What is the rate in Kentucky?, answe...</td>\n",
       "    </tr>\n",
       "    <tr>\n",
       "      <th>10331</th>\n",
       "      <td>The swine flu, also known as the H1N1 virus, i...</td>\n",
       "      <td>[What needs to be explained to children?, What...</td>\n",
       "      <td>[H1N1 virus,, H1N1 virus,, washing hands more ...</td>\n",
       "      <td>question: What needs to be explained to childr...</td>\n",
       "    </tr>\n",
       "  </tbody>\n",
       "</table>\n",
       "</div>"
      ]
     },
     "execution_count": 10,
     "metadata": {},
     "output_type": "execute_result"
    }
   ],
   "execution_count": 10
  },
  {
   "metadata": {
    "ExecuteTime": {
     "end_time": "2024-12-10T20:23:38.810644Z",
     "start_time": "2024-12-10T20:23:38.806390Z"
    }
   },
   "cell_type": "code",
   "source": [
    "entry = df.iloc[0]\n",
    "entry['questions_answers']"
   ],
   "id": "bd3cae11011f4d7e",
   "outputs": [
    {
     "data": {
      "text/plain": [
       "\"question: Where did the engagement of Ronald Cummings took place?, answer: local Chili's restaurant. | question: who is haleigh?, answer: missing child | question: isnt 17 too young to marry?, answer: Because Croslin is only | question: Who acknowledges critics?, answer: Misty Croslin\""
      ]
     },
     "execution_count": 8,
     "metadata": {},
     "output_type": "execute_result"
    }
   ],
   "execution_count": 8
  },
  {
   "metadata": {
    "ExecuteTime": {
     "end_time": "2024-12-10T20:16:57.478797Z",
     "start_time": "2024-12-10T20:16:57.463588Z"
    }
   },
   "cell_type": "code",
   "source": "df.info()",
   "id": "18d53e8247790e86",
   "outputs": [
    {
     "name": "stdout",
     "output_type": "stream",
     "text": [
      "<class 'pandas.core.frame.DataFrame'>\n",
      "RangeIndex: 574 entries, 10327 to 10900\n",
      "Data columns (total 4 columns):\n",
      " #   Column             Non-Null Count  Dtype \n",
      "---  ------             --------------  ----- \n",
      " 0   paragraph          574 non-null    object\n",
      " 1   questions          574 non-null    object\n",
      " 2   answers            574 non-null    object\n",
      " 3   questions_answers  574 non-null    object\n",
      "dtypes: object(4)\n",
      "memory usage: 18.1+ KB\n"
     ]
    }
   ],
   "execution_count": 6
  },
  {
   "metadata": {
    "ExecuteTime": {
     "end_time": "2024-12-10T20:24:08.550862Z",
     "start_time": "2024-12-10T20:24:07.832009Z"
    }
   },
   "cell_type": "code",
   "source": "df.describe()",
   "id": "2dc4c8b9c80739a8",
   "outputs": [
    {
     "data": {
      "text/plain": [
       "                                                paragraph  \\\n",
       "count                                                 574   \n",
       "unique                                                574   \n",
       "top     The father of missing child Haleigh Cummings' ...   \n",
       "freq                                                    1   \n",
       "\n",
       "                                                questions  \\\n",
       "count                                                 574   \n",
       "unique                                                574   \n",
       "top     [Where did the engagement of Ronald Cummings t...   \n",
       "freq                                                    1   \n",
       "\n",
       "                                                  answers  \\\n",
       "count                                                 574   \n",
       "unique                                                574   \n",
       "top     [local Chili's restaurant., missing child, Bec...   \n",
       "freq                                                    1   \n",
       "\n",
       "                                        questions_answers  \n",
       "count                                                 574  \n",
       "unique                                                574  \n",
       "top     question: Where did the engagement of Ronald C...  \n",
       "freq                                                    1  "
      ],
      "text/html": [
       "<div>\n",
       "<style scoped>\n",
       "    .dataframe tbody tr th:only-of-type {\n",
       "        vertical-align: middle;\n",
       "    }\n",
       "\n",
       "    .dataframe tbody tr th {\n",
       "        vertical-align: top;\n",
       "    }\n",
       "\n",
       "    .dataframe thead th {\n",
       "        text-align: right;\n",
       "    }\n",
       "</style>\n",
       "<table border=\"1\" class=\"dataframe\">\n",
       "  <thead>\n",
       "    <tr style=\"text-align: right;\">\n",
       "      <th></th>\n",
       "      <th>paragraph</th>\n",
       "      <th>questions</th>\n",
       "      <th>answers</th>\n",
       "      <th>questions_answers</th>\n",
       "    </tr>\n",
       "  </thead>\n",
       "  <tbody>\n",
       "    <tr>\n",
       "      <th>count</th>\n",
       "      <td>574</td>\n",
       "      <td>574</td>\n",
       "      <td>574</td>\n",
       "      <td>574</td>\n",
       "    </tr>\n",
       "    <tr>\n",
       "      <th>unique</th>\n",
       "      <td>574</td>\n",
       "      <td>574</td>\n",
       "      <td>574</td>\n",
       "      <td>574</td>\n",
       "    </tr>\n",
       "    <tr>\n",
       "      <th>top</th>\n",
       "      <td>The father of missing child Haleigh Cummings' ...</td>\n",
       "      <td>[Where did the engagement of Ronald Cummings t...</td>\n",
       "      <td>[local Chili's restaurant., missing child, Bec...</td>\n",
       "      <td>question: Where did the engagement of Ronald C...</td>\n",
       "    </tr>\n",
       "    <tr>\n",
       "      <th>freq</th>\n",
       "      <td>1</td>\n",
       "      <td>1</td>\n",
       "      <td>1</td>\n",
       "      <td>1</td>\n",
       "    </tr>\n",
       "  </tbody>\n",
       "</table>\n",
       "</div>"
      ]
     },
     "execution_count": 11,
     "metadata": {},
     "output_type": "execute_result"
    }
   ],
   "execution_count": 11
  },
  {
   "metadata": {
    "ExecuteTime": {
     "end_time": "2024-12-10T20:34:13.276063Z",
     "start_time": "2024-12-10T20:34:13.196794Z"
    }
   },
   "cell_type": "code",
   "source": [
    "plt.title(\"Length of the QA pairs per paragraph\")\n",
    "df['questions_answers'].str.split(\"|\").apply(len).hist()"
   ],
   "id": "6ddd4d20dac275a0",
   "outputs": [
    {
     "data": {
      "text/plain": [
       "<Axes: title={'center': 'Length of the QA pairs per paragraph'}>"
      ]
     },
     "execution_count": 25,
     "metadata": {},
     "output_type": "execute_result"
    },
    {
     "data": {
      "text/plain": [
       "<Figure size 640x480 with 1 Axes>"
      ],
      "image/png": "[encoded data removed]"
     },
     "metadata": {},
     "output_type": "display_data"
    }
   ],
   "execution_count": 25
  },
  {
   "metadata": {
    "ExecuteTime": {
     "end_time": "2024-12-10T20:34:31.150525Z",
     "start_time": "2024-12-10T20:34:31.017922Z"
    }
   },
   "cell_type": "code",
   "source": [
    "plt.title(\"Length of the paragraph\")\n",
    "df['paragraph'].str.len().hist()"
   ],
   "id": "a9966f19ddf1f124",
   "outputs": [
    {
     "data": {
      "text/plain": [
       "<Axes: title={'center': 'Length of the paragraph'}>"
      ]
     },
     "execution_count": 27,
     "metadata": {},
     "output_type": "execute_result"
    },
    {
     "data": {
      "text/plain": [
       "<Figure size 640x480 with 1 Axes>"
      ],
      "image/png": "[encoded data removed]"
     },
     "metadata": {},
     "output_type": "display_data"
    }
   ],
   "execution_count": 27
  }
 ],
 "metadata": {
  "kernelspec": {
   "display_name": "Python 3",
   "language": "python",
   "name": "python3"
  },
  "language_info": {
   "codemirror_mode": {
    "name": "ipython",
    "version": 2
   },
   "file_extension": ".py",
   "mimetype": "text/x-python",
   "name": "python",
   "nbconvert_exporter": "python",
   "pygments_lexer": "ipython2",
   "version": "2.7.6"
  }
 },
 "nbformat": 4,
 "nbformat_minor": 5
}

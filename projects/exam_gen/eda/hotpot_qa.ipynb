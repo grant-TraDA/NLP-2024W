{
 "cells": [
  {
   "cell_type": "code",
   "id": "b061df4afd295fd0",
   "metadata": {
    "ExecuteTime": {
     "end_time": "2024-12-10T21:08:14.212943Z",
     "start_time": "2024-12-10T21:08:14.209465Z"
    }
   },
   "source": [
    "import pandas as pd\n",
    "from matplotlib import pyplot as plt"
   ],
   "outputs": [],
   "execution_count": 1
  },
  {
   "cell_type": "code",
   "id": "3d517d1b98df12a5",
   "metadata": {
    "ExecuteTime": {
     "end_time": "2024-12-10T21:08:41.382865Z",
     "start_time": "2024-12-10T21:08:15.549365Z"
    }
   },
   "source": [
    "url = \"http://curtis.ml.cmu.edu/datasets/hotpot/hotpot_train_v1.1.json\"\n",
    "df = pd.read_json(url)"
   ],
   "outputs": [],
   "execution_count": 2
  },
  {
   "cell_type": "markdown",
   "id": "76148dccb576a815",
   "metadata": {},
   "source": [
    "# Explorative Data Analysis of the HotpotQA dataset"
   ]
  },
  {
   "cell_type": "code",
   "id": "4ebfb0628361a0",
   "metadata": {
    "ExecuteTime": {
     "end_time": "2024-12-10T21:08:51.259175Z",
     "start_time": "2024-12-10T21:08:51.227942Z"
    }
   },
   "source": [
    "df.head()"
   ],
   "outputs": [
    {
     "data": {
      "text/plain": [
       "                                    supporting_facts   level  \\\n",
       "0     [[Arthur's Magazine, 0], [First for Women, 0]]  medium   \n",
       "1        [[Oberoi family, 0], [The Oberoi Group, 0]]  medium   \n",
       "2  [[Allie Goertz, 0], [Allie Goertz, 1], [Allie ...    hard   \n",
       "3  [[Peggy Seeger, 0], [Peggy Seeger, 1], [Ewan M...  medium   \n",
       "4              [[Cadmium chloride, 1], [Ethanol, 0]]  medium   \n",
       "\n",
       "                                            question  \\\n",
       "0  Which magazine was started first Arthur's Maga...   \n",
       "1  The Oberoi family is part of a hotel company t...   \n",
       "2  Musician and satirist Allie Goertz wrote a son...   \n",
       "3    What nationality was James Henry Miller's wife?   \n",
       "4  Cadmium Chloride is slightly soluble in this c...   \n",
       "\n",
       "                                             context                   answer  \\\n",
       "0  [[Radio City (Indian radio station), [Radio Ci...        Arthur's Magazine   \n",
       "1  [[Ritz-Carlton Jakarta, [The Ritz-Carlton Jaka...                    Delhi   \n",
       "2  [[Lisa Simpson, [Lisa Marie Simpson is a ficti...  President Richard Nixon   \n",
       "3  [[Moloch: or, This Gentile World, [Moloch: or,...                 American   \n",
       "4  [[Cadmium chloride, [Cadmium chloride is a whi...                  alcohol   \n",
       "\n",
       "                        _id        type  \n",
       "0  5a7a06935542990198eaf050  comparison  \n",
       "1  5a879ab05542996e4f30887e      bridge  \n",
       "2  5a8d7341554299441c6b9fe5      bridge  \n",
       "3  5a82171f5542990a1d231f4a      bridge  \n",
       "4  5a84dd955542997b5ce3ff79      bridge  "
      ],
      "text/html": [
       "<div>\n",
       "<style scoped>\n",
       "    .dataframe tbody tr th:only-of-type {\n",
       "        vertical-align: middle;\n",
       "    }\n",
       "\n",
       "    .dataframe tbody tr th {\n",
       "        vertical-align: top;\n",
       "    }\n",
       "\n",
       "    .dataframe thead th {\n",
       "        text-align: right;\n",
       "    }\n",
       "</style>\n",
       "<table border=\"1\" class=\"dataframe\">\n",
       "  <thead>\n",
       "    <tr style=\"text-align: right;\">\n",
       "      <th></th>\n",
       "      <th>supporting_facts</th>\n",
       "      <th>level</th>\n",
       "      <th>question</th>\n",
       "      <th>context</th>\n",
       "      <th>answer</th>\n",
       "      <th>_id</th>\n",
       "      <th>type</th>\n",
       "    </tr>\n",
       "  </thead>\n",
       "  <tbody>\n",
       "    <tr>\n",
       "      <th>0</th>\n",
       "      <td>[[Arthur's Magazine, 0], [First for Women, 0]]</td>\n",
       "      <td>medium</td>\n",
       "      <td>Which magazine was started first Arthur's Maga...</td>\n",
       "      <td>[[Radio City (Indian radio station), [Radio Ci...</td>\n",
       "      <td>Arthur's Magazine</td>\n",
       "      <td>5a7a06935542990198eaf050</td>\n",
       "      <td>comparison</td>\n",
       "    </tr>\n",
       "    <tr>\n",
       "      <th>1</th>\n",
       "      <td>[[Oberoi family, 0], [The Oberoi Group, 0]]</td>\n",
       "      <td>medium</td>\n",
       "      <td>The Oberoi family is part of a hotel company t...</td>\n",
       "      <td>[[Ritz-Carlton Jakarta, [The Ritz-Carlton Jaka...</td>\n",
       "      <td>Delhi</td>\n",
       "      <td>5a879ab05542996e4f30887e</td>\n",
       "      <td>bridge</td>\n",
       "    </tr>\n",
       "    <tr>\n",
       "      <th>2</th>\n",
       "      <td>[[Allie Goertz, 0], [Allie Goertz, 1], [Allie ...</td>\n",
       "      <td>hard</td>\n",
       "      <td>Musician and satirist Allie Goertz wrote a son...</td>\n",
       "      <td>[[Lisa Simpson, [Lisa Marie Simpson is a ficti...</td>\n",
       "      <td>President Richard Nixon</td>\n",
       "      <td>5a8d7341554299441c6b9fe5</td>\n",
       "      <td>bridge</td>\n",
       "    </tr>\n",
       "    <tr>\n",
       "      <th>3</th>\n",
       "      <td>[[Peggy Seeger, 0], [Peggy Seeger, 1], [Ewan M...</td>\n",
       "      <td>medium</td>\n",
       "      <td>What nationality was James Henry Miller's wife?</td>\n",
       "      <td>[[Moloch: or, This Gentile World, [Moloch: or,...</td>\n",
       "      <td>American</td>\n",
       "      <td>5a82171f5542990a1d231f4a</td>\n",
       "      <td>bridge</td>\n",
       "    </tr>\n",
       "    <tr>\n",
       "      <th>4</th>\n",
       "      <td>[[Cadmium chloride, 1], [Ethanol, 0]]</td>\n",
       "      <td>medium</td>\n",
       "      <td>Cadmium Chloride is slightly soluble in this c...</td>\n",
       "      <td>[[Cadmium chloride, [Cadmium chloride is a whi...</td>\n",
       "      <td>alcohol</td>\n",
       "      <td>5a84dd955542997b5ce3ff79</td>\n",
       "      <td>bridge</td>\n",
       "    </tr>\n",
       "  </tbody>\n",
       "</table>\n",
       "</div>"
      ]
     },
     "execution_count": 3,
     "metadata": {},
     "output_type": "execute_result"
    }
   ],
   "execution_count": 3
  },
  {
   "cell_type": "code",
   "execution_count": 7,
   "id": "1f84828e4219a0d2",
   "metadata": {
    "ExecuteTime": {
     "end_time": "2024-12-10T21:01:38.055854Z",
     "start_time": "2024-12-10T21:01:38.048352Z"
    }
   },
   "outputs": [
    {
     "data": {
      "text/plain": [
       "supporting_facts       [[Arthur's Magazine, 0], [First for Women, 0]]\n",
       "level                                                          medium\n",
       "question            Which magazine was started first Arthur's Maga...\n",
       "context             [[Radio City (Indian radio station), [Radio Ci...\n",
       "answer                                              Arthur's Magazine\n",
       "_id                                          5a7a06935542990198eaf050\n",
       "type                                                       comparison\n",
       "Name: 0, dtype: object"
      ]
     },
     "execution_count": 7,
     "metadata": {},
     "output_type": "execute_result"
    }
   ],
   "source": [
    "entry = df.iloc[0]\n",
    "entry"
   ]
  },
  {
   "cell_type": "code",
   "execution_count": 8,
   "id": "42b57ffa82f20abf",
   "metadata": {
    "ExecuteTime": {
     "end_time": "2024-12-10T21:01:53.118738Z",
     "start_time": "2024-12-10T21:01:53.001884Z"
    }
   },
   "outputs": [
    {
     "data": {
      "text/plain": [
       "type\n",
       "bridge        72991\n",
       "comparison    17456\n",
       "Name: count, dtype: int64"
      ]
     },
     "execution_count": 8,
     "metadata": {},
     "output_type": "execute_result"
    }
   ],
   "source": [
    "df['type'].value_counts()"
   ]
  },
  {
   "cell_type": "code",
   "execution_count": 9,
   "id": "0919bf45-e7e0-425b-b2b1-618199560d79",
   "metadata": {
    "ExecuteTime": {
     "end_time": "2024-12-10T21:01:59.788614Z",
     "start_time": "2024-12-10T21:01:59.758883Z"
    }
   },
   "outputs": [
    {
     "data": {
      "text/plain": [
       "level\n",
       "medium    56814\n",
       "easy      17972\n",
       "hard      15661\n",
       "Name: count, dtype: int64"
      ]
     },
     "execution_count": 9,
     "metadata": {},
     "output_type": "execute_result"
    }
   ],
   "source": [
    "df['level'].value_counts()"
   ]
  },
  {
   "cell_type": "code",
   "id": "e8b0b6ef3821f221",
   "metadata": {
    "ExecuteTime": {
     "end_time": "2024-12-10T21:18:04.965337Z",
     "start_time": "2024-12-10T21:18:04.658569Z"
    }
   },
   "source": [
    "plt.title(\"Length of the question\")\n",
    "df['question'].str.len().hist()"
   ],
   "outputs": [
    {
     "data": {
      "text/plain": [
       "<Axes: title={'center': 'Length of the question'}>"
      ]
     },
     "execution_count": 41,
     "metadata": {},
     "output_type": "execute_result"
    },
    {
     "data": {
      "text/plain": [
       "<Figure size 640x480 with 1 Axes>"
      ],
      "image/png": "[encoded data removed]"
     },
     "metadata": {},
     "output_type": "display_data"
    }
   ],
   "execution_count": 41
  },
  {
   "cell_type": "code",
   "id": "4dbf0e07dc6c11f",
   "metadata": {
    "ExecuteTime": {
     "end_time": "2024-12-10T21:17:31.156805Z",
     "start_time": "2024-12-10T21:17:29.919514Z"
    }
   },
   "source": [
    "context_processed_column = []\n",
    "for entry in df['context']:\n",
    "    context_merged = []\n",
    "    for context in entry:\n",
    "        context_merged.append(\" \".join(context[1]))\n",
    "    context_processed_column.append(\" \".join(context_merged))\n",
    "\n",
    "df['context_processed'] = context_processed_column"
   ],
   "outputs": [],
   "execution_count": 37
  },
  {
   "cell_type": "code",
   "id": "1cb0d08c-5ab6-4925-89a9-679627c386d0",
   "metadata": {
    "ExecuteTime": {
     "end_time": "2024-12-10T21:18:10.378670Z",
     "start_time": "2024-12-10T21:18:10.048393Z"
    }
   },
   "source": [
    "plt.title(\"Length of the context\")\n",
    "df['context_processed'].str.len().hist()"
   ],
   "outputs": [
    {
     "data": {
      "text/plain": [
       "<Axes: title={'center': 'Length of the context'}>"
      ]
     },
     "execution_count": 42,
     "metadata": {},
     "output_type": "execute_result"
    },
    {
     "data": {
      "text/plain": [
       "<Figure size 640x480 with 1 Axes>"
      ],
      "image/png": "[encoded data removed]"
     },
     "metadata": {},
     "output_type": "display_data"
    }
   ],
   "execution_count": 42
  },
  {
   "metadata": {
    "ExecuteTime": {
     "end_time": "2024-12-10T21:18:27.918501Z",
     "start_time": "2024-12-10T21:18:27.722305Z"
    }
   },
   "cell_type": "code",
   "source": [
    "plt.title(\"Length of the supporting facts\")\n",
    "df['supporting_facts'].str.len().hist()"
   ],
   "id": "4891f3d21dd02b0b",
   "outputs": [
    {
     "data": {
      "text/plain": [
       "<Axes: title={'center': 'Length of the supporting facts'}>"
      ]
     },
     "execution_count": 44,
     "metadata": {},
     "output_type": "execute_result"
    },
    {
     "data": {
      "text/plain": [
       "<Figure size 640x480 with 1 Axes>"
      ],
      "image/png": "[encoded data removed]"
     },
     "metadata": {},
     "output_type": "display_data"
    }
   ],
   "execution_count": 44
  },
  {
   "metadata": {
    "ExecuteTime": {
     "end_time": "2024-12-10T21:20:09.622335Z",
     "start_time": "2024-12-10T21:20:07.463436Z"
    }
   },
   "cell_type": "code",
   "source": [
    "# Save the processed dataframe to a parquet file\n",
    "df = df[['_id', 'type', 'level', 'question', 'answer', 'context_processed']]\n",
    "df.to_parquet(\"data/hotpot_processed.parquet\")"
   ],
   "id": "ec40cfc553da7f09",
   "outputs": [],
   "execution_count": 47
  }
 ],
 "metadata": {
  "kernelspec": {
   "display_name": "Python 3 (ipykernel)",
   "language": "python",
   "name": "python3"
  },
  "language_info": {
   "codemirror_mode": {
    "name": "ipython",
    "version": 3
   },
   "file_extension": ".py",
   "mimetype": "text/x-python",
   "name": "python",
   "nbconvert_exporter": "python",
   "pygments_lexer": "ipython3",
   "version": "3.10.13"
  }
 },
 "nbformat": 4,
 "nbformat_minor": 5
}

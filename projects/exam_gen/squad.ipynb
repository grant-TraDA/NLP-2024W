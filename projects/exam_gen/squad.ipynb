{
 "cells": [
  {
   "cell_type": "code",
   "execution_count": 2,
   "metadata": {},
   "outputs": [],
   "source": [
    "import pandas as pd\n",
    "import numpy as np\n",
    "splits = {'train': 'plain_text/train-00000-of-00001.parquet', 'validation': 'plain_text/validation-00000-of-00001.parquet'}\n",
    "df = pd.read_parquet(\"hf://datasets/rajpurkar/squad/\" + splits[\"validation\"])"
   ]
  },
  {
   "cell_type": "code",
   "execution_count": 3,
   "metadata": {},
   "outputs": [
    {
     "name": "stdout",
     "output_type": "stream",
     "text": [
      "                         id          title  \\\n",
      "0  56be4db0acb8001400a502ec  Super_Bowl_50   \n",
      "1  56be4db0acb8001400a502ed  Super_Bowl_50   \n",
      "2  56be4db0acb8001400a502ee  Super_Bowl_50   \n",
      "3  56be4db0acb8001400a502ef  Super_Bowl_50   \n",
      "4  56be4db0acb8001400a502f0  Super_Bowl_50   \n",
      "\n",
      "                                             context  \\\n",
      "0  Super Bowl 50 was an American football game to...   \n",
      "1  Super Bowl 50 was an American football game to...   \n",
      "2  Super Bowl 50 was an American football game to...   \n",
      "3  Super Bowl 50 was an American football game to...   \n",
      "4  Super Bowl 50 was an American football game to...   \n",
      "\n",
      "                                            question  \\\n",
      "0  Which NFL team represented the AFC at Super Bo...   \n",
      "1  Which NFL team represented the NFC at Super Bo...   \n",
      "2                Where did Super Bowl 50 take place?   \n",
      "3                  Which NFL team won Super Bowl 50?   \n",
      "4  What color was used to emphasize the 50th anni...   \n",
      "\n",
      "                                             answers  \n",
      "0  {'text': ['Denver Broncos', 'Denver Broncos', ...  \n",
      "1  {'text': ['Carolina Panthers', 'Carolina Panth...  \n",
      "2  {'text': ['Santa Clara, California', 'Levi's S...  \n",
      "3  {'text': ['Denver Broncos', 'Denver Broncos', ...  \n",
      "4  {'text': ['gold', 'gold', 'gold'], 'answer_sta...  \n",
      "<class 'pandas.core.frame.DataFrame'>\n",
      "RangeIndex: 10570 entries, 0 to 10569\n",
      "Data columns (total 5 columns):\n",
      " #   Column    Non-Null Count  Dtype \n",
      "---  ------    --------------  ----- \n",
      " 0   id        10570 non-null  object\n",
      " 1   title     10570 non-null  object\n",
      " 2   context   10570 non-null  object\n",
      " 3   question  10570 non-null  object\n",
      " 4   answers   10570 non-null  object\n",
      "dtypes: object(5)\n",
      "memory usage: 413.0+ KB\n",
      "None\n",
      "                              id          title  \\\n",
      "count                      10570          10570   \n",
      "unique                     10570             48   \n",
      "top     56be4db0acb8001400a502ec  Super_Bowl_50   \n",
      "freq                           1            810   \n",
      "\n",
      "                                                  context  \\\n",
      "count                                               10570   \n",
      "unique                                               2067   \n",
      "top     Super Bowl 50 was an American football game to...   \n",
      "freq                                                   30   \n",
      "\n",
      "                                                 question  \\\n",
      "count                                               10570   \n",
      "unique                                              10539   \n",
      "top     How is the Pauli exclusion priciple manifested...   \n",
      "freq                                                    2   \n",
      "\n",
      "                                                  answers  \n",
      "count                                               10570  \n",
      "unique                                              10570  \n",
      "top     {'text': ['Denver Broncos', 'Denver Broncos', ...  \n",
      "freq                                                    1  \n"
     ]
    }
   ],
   "source": [
    "# Display the first few rows of the dataframe\n",
    "print(df.head())\n",
    "\n",
    "# Display basic information about the dataframe\n",
    "print(df.info())\n",
    "\n",
    "# Display basic statistics about the dataframe\n",
    "print(df.describe())"
   ]
  },
  {
   "cell_type": "code",
   "execution_count": 11,
   "metadata": {},
   "outputs": [
    {
     "data": {
      "text/html": [
       "<div>\n",
       "<style scoped>\n",
       "    .dataframe tbody tr th:only-of-type {\n",
       "        vertical-align: middle;\n",
       "    }\n",
       "\n",
       "    .dataframe tbody tr th {\n",
       "        vertical-align: top;\n",
       "    }\n",
       "\n",
       "    .dataframe thead th {\n",
       "        text-align: right;\n",
       "    }\n",
       "</style>\n",
       "<table border=\"1\" class=\"dataframe\">\n",
       "  <thead>\n",
       "    <tr style=\"text-align: right;\">\n",
       "      <th></th>\n",
       "      <th>id</th>\n",
       "      <th>title</th>\n",
       "      <th>context</th>\n",
       "      <th>question</th>\n",
       "      <th>answers</th>\n",
       "    </tr>\n",
       "  </thead>\n",
       "  <tbody>\n",
       "    <tr>\n",
       "      <th>0</th>\n",
       "      <td>56be4db0acb8001400a502ec</td>\n",
       "      <td>Super_Bowl_50</td>\n",
       "      <td>Super Bowl 50 was an American football game to...</td>\n",
       "      <td>Which NFL team represented the AFC at Super Bo...</td>\n",
       "      <td>{'text': ['Denver Broncos', 'Denver Broncos', ...</td>\n",
       "    </tr>\n",
       "    <tr>\n",
       "      <th>1</th>\n",
       "      <td>56be4db0acb8001400a502ed</td>\n",
       "      <td>Super_Bowl_50</td>\n",
       "      <td>Super Bowl 50 was an American football game to...</td>\n",
       "      <td>Which NFL team represented the NFC at Super Bo...</td>\n",
       "      <td>{'text': ['Carolina Panthers', 'Carolina Panth...</td>\n",
       "    </tr>\n",
       "    <tr>\n",
       "      <th>2</th>\n",
       "      <td>56be4db0acb8001400a502ee</td>\n",
       "      <td>Super_Bowl_50</td>\n",
       "      <td>Super Bowl 50 was an American football game to...</td>\n",
       "      <td>Where did Super Bowl 50 take place?</td>\n",
       "      <td>{'text': ['Santa Clara, California', 'Levi's S...</td>\n",
       "    </tr>\n",
       "    <tr>\n",
       "      <th>3</th>\n",
       "      <td>56be4db0acb8001400a502ef</td>\n",
       "      <td>Super_Bowl_50</td>\n",
       "      <td>Super Bowl 50 was an American football game to...</td>\n",
       "      <td>Which NFL team won Super Bowl 50?</td>\n",
       "      <td>{'text': ['Denver Broncos', 'Denver Broncos', ...</td>\n",
       "    </tr>\n",
       "    <tr>\n",
       "      <th>4</th>\n",
       "      <td>56be4db0acb8001400a502f0</td>\n",
       "      <td>Super_Bowl_50</td>\n",
       "      <td>Super Bowl 50 was an American football game to...</td>\n",
       "      <td>What color was used to emphasize the 50th anni...</td>\n",
       "      <td>{'text': ['gold', 'gold', 'gold'], 'answer_sta...</td>\n",
       "    </tr>\n",
       "  </tbody>\n",
       "</table>\n",
       "</div>"
      ],
      "text/plain": [
       "                         id          title  \\\n",
       "0  56be4db0acb8001400a502ec  Super_Bowl_50   \n",
       "1  56be4db0acb8001400a502ed  Super_Bowl_50   \n",
       "2  56be4db0acb8001400a502ee  Super_Bowl_50   \n",
       "3  56be4db0acb8001400a502ef  Super_Bowl_50   \n",
       "4  56be4db0acb8001400a502f0  Super_Bowl_50   \n",
       "\n",
       "                                             context  \\\n",
       "0  Super Bowl 50 was an American football game to...   \n",
       "1  Super Bowl 50 was an American football game to...   \n",
       "2  Super Bowl 50 was an American football game to...   \n",
       "3  Super Bowl 50 was an American football game to...   \n",
       "4  Super Bowl 50 was an American football game to...   \n",
       "\n",
       "                                            question  \\\n",
       "0  Which NFL team represented the AFC at Super Bo...   \n",
       "1  Which NFL team represented the NFC at Super Bo...   \n",
       "2                Where did Super Bowl 50 take place?   \n",
       "3                  Which NFL team won Super Bowl 50?   \n",
       "4  What color was used to emphasize the 50th anni...   \n",
       "\n",
       "                                             answers  \n",
       "0  {'text': ['Denver Broncos', 'Denver Broncos', ...  \n",
       "1  {'text': ['Carolina Panthers', 'Carolina Panth...  \n",
       "2  {'text': ['Santa Clara, California', 'Levi's S...  \n",
       "3  {'text': ['Denver Broncos', 'Denver Broncos', ...  \n",
       "4  {'text': ['gold', 'gold', 'gold'], 'answer_sta...  "
      ]
     },
     "execution_count": 11,
     "metadata": {},
     "output_type": "execute_result"
    }
   ],
   "source": [
    "df.head()"
   ]
  },
  {
   "cell_type": "code",
   "execution_count": 13,
   "metadata": {},
   "outputs": [
    {
     "data": {
      "text/plain": [
       "id                                   56be4db0acb8001400a502ec\n",
       "title                                           Super_Bowl_50\n",
       "context     Super Bowl 50 was an American football game to...\n",
       "question    Which NFL team represented the AFC at Super Bo...\n",
       "answers     {'text': ['Denver Broncos', 'Denver Broncos', ...\n",
       "Name: 0, dtype: object"
      ]
     },
     "execution_count": 13,
     "metadata": {},
     "output_type": "execute_result"
    }
   ],
   "source": [
    "df.iloc[0]"
   ]
  },
  {
   "cell_type": "code",
   "execution_count": null,
   "metadata": {},
   "outputs": [],
   "source": []
  }
 ],
 "metadata": {
  "kernelspec": {
   "display_name": "base",
   "language": "python",
   "name": "python3"
  },
  "language_info": {
   "codemirror_mode": {
    "name": "ipython",
    "version": 3
   },
   "file_extension": ".py",
   "mimetype": "text/x-python",
   "name": "python",
   "nbconvert_exporter": "python",
   "pygments_lexer": "ipython3",
   "version": "3.10.8"
  }
 },
 "nbformat": 4,
 "nbformat_minor": 2
}

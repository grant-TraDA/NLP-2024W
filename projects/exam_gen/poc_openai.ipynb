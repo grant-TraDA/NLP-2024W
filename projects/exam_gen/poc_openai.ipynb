{
 "cells": [
  {
   "cell_type": "markdown",
   "metadata": {},
   "source": [
    "### Is the model able to generate correct answers based on the context provided?\n"
   ]
  },
  {
   "metadata": {
    "ExecuteTime": {
     "end_time": "2024-12-10T18:10:33.648490Z",
     "start_time": "2024-12-10T18:10:30.598705Z"
    }
   },
   "cell_type": "code",
   "source": [
    "# %pip install numpy==1.26.4 pandas==1.3.3 seaborn==0.13 matplotlib==3.4.3\n",
    "%pip install langchain langchain-openai langchain-ollama"
   ],
   "outputs": [
    {
     "name": "stdout",
     "output_type": "stream",
     "text": [
      "Requirement already satisfied: langchain in /opt/anaconda3/envs/workspace/lib/python3.10/site-packages (0.3.10)\r\n",
      "Requirement already satisfied: langchain-openai in /opt/anaconda3/envs/workspace/lib/python3.10/site-packages (0.2.12)\r\n",
      "Collecting langchain-ollama\r\n",
      "  Downloading langchain_ollama-0.2.1-py3-none-any.whl.metadata (1.9 kB)\r\n",
      "Requirement already satisfied: PyYAML>=5.3 in /opt/anaconda3/envs/workspace/lib/python3.10/site-packages (from langchain) (6.0.1)\r\n",
      "Requirement already satisfied: SQLAlchemy<3,>=1.4 in /opt/anaconda3/envs/workspace/lib/python3.10/site-packages (from langchain) (2.0.36)\r\n",
      "Requirement already satisfied: aiohttp<4.0.0,>=3.8.3 in /opt/anaconda3/envs/workspace/lib/python3.10/site-packages (from langchain) (3.9.5)\r\n",
      "Requirement already satisfied: async-timeout<5.0.0,>=4.0.0 in /opt/anaconda3/envs/workspace/lib/python3.10/site-packages (from langchain) (4.0.3)\r\n",
      "Requirement already satisfied: langchain-core<0.4.0,>=0.3.22 in /opt/anaconda3/envs/workspace/lib/python3.10/site-packages (from langchain) (0.3.23)\r\n",
      "Requirement already satisfied: langchain-text-splitters<0.4.0,>=0.3.0 in /opt/anaconda3/envs/workspace/lib/python3.10/site-packages (from langchain) (0.3.2)\r\n",
      "Requirement already satisfied: langsmith<0.2.0,>=0.1.17 in /opt/anaconda3/envs/workspace/lib/python3.10/site-packages (from langchain) (0.1.147)\r\n",
      "Requirement already satisfied: numpy<2,>=1.22.4 in /opt/anaconda3/envs/workspace/lib/python3.10/site-packages (from langchain) (1.26.4)\r\n",
      "Requirement already satisfied: pydantic<3.0.0,>=2.7.4 in /opt/anaconda3/envs/workspace/lib/python3.10/site-packages (from langchain) (2.9.2)\r\n",
      "Requirement already satisfied: requests<3,>=2 in /opt/anaconda3/envs/workspace/lib/python3.10/site-packages (from langchain) (2.32.3)\r\n",
      "Requirement already satisfied: tenacity!=8.4.0,<10,>=8.1.0 in /opt/anaconda3/envs/workspace/lib/python3.10/site-packages (from langchain) (9.0.0)\r\n",
      "Requirement already satisfied: openai<2.0.0,>=1.55.3 in /opt/anaconda3/envs/workspace/lib/python3.10/site-packages (from langchain-openai) (1.57.2)\r\n",
      "Requirement already satisfied: tiktoken<1,>=0.7 in /opt/anaconda3/envs/workspace/lib/python3.10/site-packages (from langchain-openai) (0.8.0)\r\n",
      "Collecting ollama<1,>=0.3.0 (from langchain-ollama)\r\n",
      "  Downloading ollama-0.4.4-py3-none-any.whl.metadata (4.7 kB)\r\n",
      "Requirement already satisfied: aiosignal>=1.1.2 in /opt/anaconda3/envs/workspace/lib/python3.10/site-packages (from aiohttp<4.0.0,>=3.8.3->langchain) (1.3.1)\r\n",
      "Requirement already satisfied: attrs>=17.3.0 in /opt/anaconda3/envs/workspace/lib/python3.10/site-packages (from aiohttp<4.0.0,>=3.8.3->langchain) (23.2.0)\r\n",
      "Requirement already satisfied: frozenlist>=1.1.1 in /opt/anaconda3/envs/workspace/lib/python3.10/site-packages (from aiohttp<4.0.0,>=3.8.3->langchain) (1.4.1)\r\n",
      "Requirement already satisfied: multidict<7.0,>=4.5 in /opt/anaconda3/envs/workspace/lib/python3.10/site-packages (from aiohttp<4.0.0,>=3.8.3->langchain) (6.0.5)\r\n",
      "Requirement already satisfied: yarl<2.0,>=1.0 in /opt/anaconda3/envs/workspace/lib/python3.10/site-packages (from aiohttp<4.0.0,>=3.8.3->langchain) (1.9.4)\r\n",
      "Requirement already satisfied: jsonpatch<2.0,>=1.33 in /opt/anaconda3/envs/workspace/lib/python3.10/site-packages (from langchain-core<0.4.0,>=0.3.22->langchain) (1.33)\r\n",
      "Requirement already satisfied: packaging<25,>=23.2 in /opt/anaconda3/envs/workspace/lib/python3.10/site-packages (from langchain-core<0.4.0,>=0.3.22->langchain) (24.0)\r\n",
      "Requirement already satisfied: typing-extensions>=4.7 in /opt/anaconda3/envs/workspace/lib/python3.10/site-packages (from langchain-core<0.4.0,>=0.3.22->langchain) (4.12.2)\r\n",
      "Requirement already satisfied: httpx<1,>=0.23.0 in /opt/anaconda3/envs/workspace/lib/python3.10/site-packages (from langsmith<0.2.0,>=0.1.17->langchain) (0.27.0)\r\n",
      "Requirement already satisfied: orjson<4.0.0,>=3.9.14 in /opt/anaconda3/envs/workspace/lib/python3.10/site-packages (from langsmith<0.2.0,>=0.1.17->langchain) (3.10.9)\r\n",
      "Requirement already satisfied: requests-toolbelt<2.0.0,>=1.0.0 in /opt/anaconda3/envs/workspace/lib/python3.10/site-packages (from langsmith<0.2.0,>=0.1.17->langchain) (1.0.0)\r\n",
      "Requirement already satisfied: anyio<5,>=3.5.0 in /opt/anaconda3/envs/workspace/lib/python3.10/site-packages (from openai<2.0.0,>=1.55.3->langchain-openai) (4.3.0)\r\n",
      "Requirement already satisfied: distro<2,>=1.7.0 in /opt/anaconda3/envs/workspace/lib/python3.10/site-packages (from openai<2.0.0,>=1.55.3->langchain-openai) (1.9.0)\r\n",
      "Requirement already satisfied: jiter<1,>=0.4.0 in /opt/anaconda3/envs/workspace/lib/python3.10/site-packages (from openai<2.0.0,>=1.55.3->langchain-openai) (0.6.1)\r\n",
      "Requirement already satisfied: sniffio in /opt/anaconda3/envs/workspace/lib/python3.10/site-packages (from openai<2.0.0,>=1.55.3->langchain-openai) (1.3.1)\r\n",
      "Requirement already satisfied: tqdm>4 in /opt/anaconda3/envs/workspace/lib/python3.10/site-packages (from openai<2.0.0,>=1.55.3->langchain-openai) (4.66.5)\r\n",
      "Requirement already satisfied: annotated-types>=0.6.0 in /opt/anaconda3/envs/workspace/lib/python3.10/site-packages (from pydantic<3.0.0,>=2.7.4->langchain) (0.7.0)\r\n",
      "Requirement already satisfied: pydantic-core==2.23.4 in /opt/anaconda3/envs/workspace/lib/python3.10/site-packages (from pydantic<3.0.0,>=2.7.4->langchain) (2.23.4)\r\n",
      "Requirement already satisfied: charset-normalizer<4,>=2 in /opt/anaconda3/envs/workspace/lib/python3.10/site-packages (from requests<3,>=2->langchain) (3.3.2)\r\n",
      "Requirement already satisfied: idna<4,>=2.5 in /opt/anaconda3/envs/workspace/lib/python3.10/site-packages (from requests<3,>=2->langchain) (3.4)\r\n",
      "Requirement already satisfied: urllib3<3,>=1.21.1 in /opt/anaconda3/envs/workspace/lib/python3.10/site-packages (from requests<3,>=2->langchain) (2.1.0)\r\n",
      "Requirement already satisfied: certifi>=2017.4.17 in /opt/anaconda3/envs/workspace/lib/python3.10/site-packages (from requests<3,>=2->langchain) (2024.8.30)\r\n",
      "Requirement already satisfied: regex>=2022.1.18 in /opt/anaconda3/envs/workspace/lib/python3.10/site-packages (from tiktoken<1,>=0.7->langchain-openai) (2024.5.15)\r\n",
      "Requirement already satisfied: exceptiongroup>=1.0.2 in /opt/anaconda3/envs/workspace/lib/python3.10/site-packages (from anyio<5,>=3.5.0->openai<2.0.0,>=1.55.3->langchain-openai) (1.2.0)\r\n",
      "Requirement already satisfied: httpcore==1.* in /opt/anaconda3/envs/workspace/lib/python3.10/site-packages (from httpx<1,>=0.23.0->langsmith<0.2.0,>=0.1.17->langchain) (1.0.4)\r\n",
      "Requirement already satisfied: h11<0.15,>=0.13 in /opt/anaconda3/envs/workspace/lib/python3.10/site-packages (from httpcore==1.*->httpx<1,>=0.23.0->langsmith<0.2.0,>=0.1.17->langchain) (0.14.0)\r\n",
      "Requirement already satisfied: jsonpointer>=1.9 in /opt/anaconda3/envs/workspace/lib/python3.10/site-packages (from jsonpatch<2.0,>=1.33->langchain-core<0.4.0,>=0.3.22->langchain) (2.4)\r\n",
      "Downloading langchain_ollama-0.2.1-py3-none-any.whl (15 kB)\r\n",
      "Downloading ollama-0.4.4-py3-none-any.whl (13 kB)\r\n",
      "Installing collected packages: ollama, langchain-ollama\r\n",
      "Successfully installed langchain-ollama-0.2.1 ollama-0.4.4\r\n",
      "Note: you may need to restart the kernel to use updated packages.\n"
     ]
    }
   ],
   "execution_count": 31
  },
  {
   "metadata": {
    "ExecuteTime": {
     "end_time": "2024-12-10T17:24:20.653507Z",
     "start_time": "2024-12-10T17:24:20.645908Z"
    }
   },
   "cell_type": "code",
   "source": [
    "from langchain_openai import ChatOpenAI\n",
    "import pandas as pd\n",
    "import numpy as np\n",
    "import matplotlib.pyplot as plt\n",
    "from dotenv import load_dotenv\n",
    "import os\n",
    "import seaborn as sns\n",
    "from model import OpenEndedQuestion, CloseEndedQuestion\n",
    "\n",
    "load_dotenv()\n",
    "\n",
    "# - verify that llm is able to answer questions based on the context\n",
    "# - veryfy that llm is able to generate a question based on the context\n",
    "# - Is LLM able to automatically grade the students' answers?\n",
    "\n",
    "# - some recommendation algorithms\n",
    "# - pdf parser to text or markdown"
   ],
   "outputs": [
    {
     "data": {
      "text/plain": [
       "True"
      ]
     },
     "execution_count": 8,
     "metadata": {},
     "output_type": "execute_result"
    }
   ],
   "execution_count": 8
  },
  {
   "cell_type": "markdown",
   "metadata": {},
   "source": [
    "Load SQUAD dataset"
   ]
  },
  {
   "metadata": {},
   "cell_type": "code",
   "outputs": [],
   "execution_count": null,
   "source": [
    "splits = {'train': 'plain_text/train-00000-of-00001.parquet', 'validation': 'plain_text/validation-00000-of-00001.parquet'}\n",
    "df = pd.read_parquet(\"hf://datasets/rajpurkar/squad/\" + splits[\"validation\"])"
   ]
  },
  {
   "metadata": {
    "ExecuteTime": {
     "end_time": "2024-12-10T18:01:50.453399Z",
     "start_time": "2024-12-10T18:01:50.447499Z"
    }
   },
   "cell_type": "code",
   "source": "df.head()",
   "outputs": [
    {
     "data": {
      "text/plain": [
       "                         id          title  \\\n",
       "0  56be4db0acb8001400a502ec  Super_Bowl_50   \n",
       "1  56be4db0acb8001400a502ed  Super_Bowl_50   \n",
       "2  56be4db0acb8001400a502ee  Super_Bowl_50   \n",
       "3  56be4db0acb8001400a502ef  Super_Bowl_50   \n",
       "4  56be4db0acb8001400a502f0  Super_Bowl_50   \n",
       "\n",
       "                                             context  \\\n",
       "0  Super Bowl 50 was an American football game to...   \n",
       "1  Super Bowl 50 was an American football game to...   \n",
       "2  Super Bowl 50 was an American football game to...   \n",
       "3  Super Bowl 50 was an American football game to...   \n",
       "4  Super Bowl 50 was an American football game to...   \n",
       "\n",
       "                                            question  \\\n",
       "0  Which NFL team represented the AFC at Super Bo...   \n",
       "1  Which NFL team represented the NFC at Super Bo...   \n",
       "2                Where did Super Bowl 50 take place?   \n",
       "3                  Which NFL team won Super Bowl 50?   \n",
       "4  What color was used to emphasize the 50th anni...   \n",
       "\n",
       "                                             answers  \n",
       "0  {'text': ['Denver Broncos', 'Denver Broncos', ...  \n",
       "1  {'text': ['Carolina Panthers', 'Carolina Panth...  \n",
       "2  {'text': ['Santa Clara, California', 'Levi's S...  \n",
       "3  {'text': ['Denver Broncos', 'Denver Broncos', ...  \n",
       "4  {'text': ['gold', 'gold', 'gold'], 'answer_sta...  "
      ],
      "text/html": [
       "<div>\n",
       "<style scoped>\n",
       "    .dataframe tbody tr th:only-of-type {\n",
       "        vertical-align: middle;\n",
       "    }\n",
       "\n",
       "    .dataframe tbody tr th {\n",
       "        vertical-align: top;\n",
       "    }\n",
       "\n",
       "    .dataframe thead th {\n",
       "        text-align: right;\n",
       "    }\n",
       "</style>\n",
       "<table border=\"1\" class=\"dataframe\">\n",
       "  <thead>\n",
       "    <tr style=\"text-align: right;\">\n",
       "      <th></th>\n",
       "      <th>id</th>\n",
       "      <th>title</th>\n",
       "      <th>context</th>\n",
       "      <th>question</th>\n",
       "      <th>answers</th>\n",
       "    </tr>\n",
       "  </thead>\n",
       "  <tbody>\n",
       "    <tr>\n",
       "      <th>0</th>\n",
       "      <td>56be4db0acb8001400a502ec</td>\n",
       "      <td>Super_Bowl_50</td>\n",
       "      <td>Super Bowl 50 was an American football game to...</td>\n",
       "      <td>Which NFL team represented the AFC at Super Bo...</td>\n",
       "      <td>{'text': ['Denver Broncos', 'Denver Broncos', ...</td>\n",
       "    </tr>\n",
       "    <tr>\n",
       "      <th>1</th>\n",
       "      <td>56be4db0acb8001400a502ed</td>\n",
       "      <td>Super_Bowl_50</td>\n",
       "      <td>Super Bowl 50 was an American football game to...</td>\n",
       "      <td>Which NFL team represented the NFC at Super Bo...</td>\n",
       "      <td>{'text': ['Carolina Panthers', 'Carolina Panth...</td>\n",
       "    </tr>\n",
       "    <tr>\n",
       "      <th>2</th>\n",
       "      <td>56be4db0acb8001400a502ee</td>\n",
       "      <td>Super_Bowl_50</td>\n",
       "      <td>Super Bowl 50 was an American football game to...</td>\n",
       "      <td>Where did Super Bowl 50 take place?</td>\n",
       "      <td>{'text': ['Santa Clara, California', 'Levi's S...</td>\n",
       "    </tr>\n",
       "    <tr>\n",
       "      <th>3</th>\n",
       "      <td>56be4db0acb8001400a502ef</td>\n",
       "      <td>Super_Bowl_50</td>\n",
       "      <td>Super Bowl 50 was an American football game to...</td>\n",
       "      <td>Which NFL team won Super Bowl 50?</td>\n",
       "      <td>{'text': ['Denver Broncos', 'Denver Broncos', ...</td>\n",
       "    </tr>\n",
       "    <tr>\n",
       "      <th>4</th>\n",
       "      <td>56be4db0acb8001400a502f0</td>\n",
       "      <td>Super_Bowl_50</td>\n",
       "      <td>Super Bowl 50 was an American football game to...</td>\n",
       "      <td>What color was used to emphasize the 50th anni...</td>\n",
       "      <td>{'text': ['gold', 'gold', 'gold'], 'answer_sta...</td>\n",
       "    </tr>\n",
       "  </tbody>\n",
       "</table>\n",
       "</div>"
      ]
     },
     "execution_count": 17,
     "metadata": {},
     "output_type": "execute_result"
    }
   ],
   "execution_count": 17
  },
  {
   "cell_type": "markdown",
   "metadata": {},
   "source": [
    "Define dataclasses for the questions"
   ]
  },
  {
   "metadata": {
    "ExecuteTime": {
     "end_time": "2024-12-10T17:24:30.369820Z",
     "start_time": "2024-12-10T17:24:30.324917Z"
    }
   },
   "cell_type": "code",
   "source": "llm = ChatOpenAI(temperature=0, model=\"gpt-4o\", api_key=os.getenv(\"OPEN_AI_KEY\"))",
   "outputs": [],
   "execution_count": 9
  },
  {
   "cell_type": "markdown",
   "metadata": {},
   "source": [
    "## Can LLM generate the answer to the question based on the context provided?"
   ]
  },
  {
   "metadata": {
    "ExecuteTime": {
     "end_time": "2024-12-10T18:09:05.304270Z",
     "start_time": "2024-12-10T18:08:43.939173Z"
    }
   },
   "cell_type": "code",
   "source": [
    "SAMPLE_SIZE = 25\n",
    "\n",
    "sample_df = df.sample(n=SAMPLE_SIZE, random_state=32)\n",
    "open_ended_questions = OpenEndedQuestion.from_dataframe(sample_df)\n",
    "\n",
    "llm_answers = []\n",
    "for question in open_ended_questions:\n",
    "    llm_answer = question.generate_llm_response(llm)\n",
    "    llm_answers.append(llm_answer)\n",
    "\n"
   ],
   "outputs": [],
   "execution_count": 29
  },
  {
   "metadata": {
    "ExecuteTime": {
     "end_time": "2024-12-10T18:09:49.664019Z",
     "start_time": "2024-12-10T18:09:49.657113Z"
    }
   },
   "cell_type": "code",
   "source": [
    "for question, answer in zip(open_ended_questions, llm_answers):\n",
    "    print(f\"Question: {question.question}\")\n",
    "    print(f\"Generated Answer: {answer}\")\n",
    "    print(f\"Correct Answers: {question.example_correct_answers}\")\n",
    "    print(\"\\n\")"
   ],
   "outputs": [
    {
     "name": "stdout",
     "output_type": "stream",
     "text": [
      "Question: What does most of the HD material use as a standard?\n",
      "Generated Answer: Most of the HD material uses the DVB-S2 standard.\n",
      "Correct Answers: ['DVB-S2', 'DVB-S2', 'DVB-compliant MPEG-2']\n",
      "\n",
      "\n",
      "Question: What physical quantities do not have direction?\n",
      "Generated Answer: Physical quantities that do not have direction are called scalar quantities.\n",
      "Correct Answers: ['denoted scalar quantities', 'scalar quantities', 'denoted scalar quantities', 'scalar quantities', 'scalar quantities']\n",
      "\n",
      "\n",
      "Question: What was he studying that gave him the teleforce weapon idea?\n",
      "Generated Answer: Tesla was studying the Van de Graaff generator when he conceived the idea for the teleforce weapon.\n",
      "Correct Answers: ['Van de Graaff generator', 'the Van de Graaff generator', 'the Van de Graaff generator']\n",
      "\n",
      "\n",
      "Question: Which sitcom ended its broadcast run for ABC in 1983?\n",
      "Generated Answer: Laverne & Shirley ended its broadcast run for ABC in 1983.\n",
      "Correct Answers: ['Laverne & Shirley', 'Laverne & Shirley', 'Laverne & Shirley']\n",
      "\n",
      "\n",
      "Question: What is the minimum required if you want to teach in Canada?\n",
      "Generated Answer: The minimum requirement to teach in Canada is a post-secondary Bachelor's Degree. In most provinces, a second Bachelor's Degree, such as a Bachelor of Education, is also required to become a qualified teacher.\n",
      "Correct Answers: [\"a post-secondary degree Bachelor's Degree\", \"a post-secondary degree Bachelor's Degree\", \"post-secondary degree Bachelor's Degree\"]\n",
      "\n",
      "\n",
      "Question: What type of hermaphrodite produces egg and sperm at different times?\n",
      "Generated Answer: Sequential hermaphrodites produce eggs and sperm at different times.\n",
      "Correct Answers: ['sequential', 'sequential hermaphrodites', 'simultaneous']\n",
      "\n",
      "\n",
      "Question: What country has low income inequality and high presence of unions?\n",
      "Generated Answer: Scandinavian countries, such as Sweden, have low income inequality and a high presence of unions.\n",
      "Correct Answers: ['Scandinavia', 'Scandinavia', 'Scandinavia']\n",
      "\n",
      "\n",
      "Question: What year did Tesla die?\n",
      "Generated Answer: Tesla died in 1943.\n",
      "Correct Answers: ['1943', '1943', '1943']\n",
      "\n",
      "\n",
      "Question: Who loved Warsaw so much that he kept putting it in his novels?\n",
      "Generated Answer: Isaac Bashevis Singer loved Warsaw and frequently included it in his novels.\n",
      "Correct Answers: ['Isaac Bashevis Singer', 'Isaac Bashevis Singer', 'Isaac Bashevis Singer']\n",
      "\n",
      "\n",
      "Question: Which series were featured on the first Doctor Who soundtrack?\n",
      "Generated Answer: The first Doctor Who soundtrack featured tracks from the first two series.\n",
      "Correct Answers: ['the first two series', 'the first two series', 'the first two']\n",
      "\n",
      "\n",
      "Question: What is included with each packet label\n",
      "Generated Answer: Each packet label includes a destination address, source address, port numbers, and may also include the sequence number of the packet.\n",
      "Correct Answers: ['Each packet is labeled with a destination address, source address, and port numbers. It may also be labeled with the sequence number of the packet', 'destination address, source address, and port numbers', 'destination address, source address, and port numbers']\n",
      "\n",
      "\n",
      "Question: When did Konstantin Mereschkowski suggest the origin of chloroplasts?\n",
      "Generated Answer: Konstantin Mereschkowski suggested the origin of chloroplasts in 1905.\n",
      "Correct Answers: ['1905', '1905', '1905']\n",
      "\n",
      "\n",
      "Question: When did Tesla make these claims?\n",
      "Generated Answer: Tesla made these claims in 1935.\n",
      "Correct Answers: ['1935', 'In 1935', '1935']\n",
      "\n",
      "\n",
      "Question: What has replaced the former shipping premises?\n",
      "Generated Answer: Large-scale regeneration has replaced the former shipping premises with imposing new office developments.\n",
      "Correct Answers: ['Large-scale regeneration', 'Large-scale regeneration', 'new office developments']\n",
      "\n",
      "\n",
      "Question: What group has no feeding appendages?\n",
      "Generated Answer: The Beroida, also known as Nuda, have no feeding appendages.\n",
      "Correct Answers: ['The Beroida', 'Beroida', 'Beroida']\n",
      "\n",
      "\n",
      "Question: When did the world's population finally recover from the black death?\n",
      "Generated Answer: The world's population recovered to pre-plague levels in the 17th century.\n",
      "Correct Answers: ['the 17th century', '17th century', '17th century']\n",
      "\n",
      "\n",
      "Question: What two country's referendums curtailed a constitution for Europe?\n",
      "Generated Answer: France and the Netherlands.\n",
      "Correct Answers: ['referendum in France and the referendum in the Netherlands', 'the referendum in France and the referendum in the Netherlands', 'referendum in France and the referendum in the Netherlands', 'the referendum in France and the referendum in the Netherlands']\n",
      "\n",
      "\n",
      "Question: What spurred increased support for government reform?\n",
      "Generated Answer: Corruption scandals among city officials and the loss of accreditation for all 15 of Duval County's public high schools spurred increased support for government reform.\n",
      "Correct Answers: ['public high schools lost their accreditation', 'high schools lost their accreditation', 'public high schools lost their accreditation']\n",
      "\n",
      "\n",
      "Question: What campaign did the Communist regime initiate after WWII?\n",
      "Generated Answer: The \"Bricks for Warsaw\" campaign.\n",
      "Correct Answers: ['\"Bricks for Warsaw\"', 'Bricks for Warsaw', 'Bricks for Warsaw']\n",
      "\n",
      "\n",
      "Question: Where was Tesla's property sent?\n",
      "Generated Answer: Tesla's property was sent to Belgrade.\n",
      "Correct Answers: ['Belgrade', 'Belgrade', 'Belgrade']\n",
      "\n",
      "\n",
      "Question: Scientists disagree with how the Amazon rainforest changed over time with some arguing that it was reduced to isolated refugia seperated by what?\n",
      "Generated Answer: Open forest and grassland.\n",
      "Correct Answers: ['open forest and grassland', 'open forest and grassland', 'open forest and grassland']\n",
      "\n",
      "\n",
      "Question: On what date did Luther die?\n",
      "Generated Answer: Luther died on 18 February 1546.\n",
      "Correct Answers: ['18 February 1546', '18 February 1546', '18 February 1546']\n",
      "\n",
      "\n",
      "Question: The Mission Council usually consists of whom?\n",
      "Generated Answer: The Mission Council usually consists of church bishops.\n",
      "Correct Answers: ['church bishops', 'church bishops)', 'church bishops']\n",
      "\n",
      "\n",
      "Question: On what did Tesla blame for the loss of the initial money?\n",
      "Generated Answer: Tesla blamed the Panic of 1901 for the loss of the initial money.\n",
      "Correct Answers: ['Panic of 1901', 'the Panic of 1901', 'the Panic of 1901']\n",
      "\n",
      "\n",
      "Question: What is Kenya a founding member of?\n",
      "Generated Answer: Kenya is a founding member of the East African Community (EAC).\n",
      "Correct Answers: ['East African Community', 'East African Community', 'East African Community']\n",
      "\n",
      "\n"
     ]
    }
   ],
   "execution_count": 30
  },
  {
   "cell_type": "markdown",
   "metadata": {},
   "source": [
    "## Can LLM grade the answer to the question based on the provided context and example answer?"
   ]
  },
  {
   "cell_type": "code",
   "execution_count": 87,
   "metadata": {},
   "outputs": [
    {
     "name": "stdout",
     "output_type": "stream",
     "text": [
      "LLM answer: Most of the HD material uses the DVB-S2 standard.\n",
      "Example correct answers:  ['DVB-S2', 'DVB-S2', 'DVB-compliant MPEG-2']\n",
      "LLM answer: Physical quantities that do not have direction are called scalar quantities.\n",
      "Example correct answers:  ['denoted scalar quantities', 'scalar quantities', 'denoted scalar quantities', 'scalar quantities', 'scalar quantities']\n",
      "LLM answer: Tesla was studying the Van de Graaff generator when he conceived the idea for the teleforce weapon.\n",
      "Example correct answers:  ['Van de Graaff generator', 'the Van de Graaff generator', 'the Van de Graaff generator']\n",
      "LLM answer: Laverne & Shirley ended its broadcast run for ABC in 1983.\n",
      "Example correct answers:  ['Laverne & Shirley', 'Laverne & Shirley', 'Laverne & Shirley']\n",
      "LLM answer: The minimum requirement to teach in Canada is a post-secondary Bachelor's Degree.\n",
      "Example correct answers:  [\"a post-secondary degree Bachelor's Degree\", \"a post-secondary degree Bachelor's Degree\", \"post-secondary degree Bachelor's Degree\"]\n",
      "LLM answer: Sequential hermaphrodites produce eggs and sperm at different times.\n",
      "Example correct answers:  ['sequential', 'sequential hermaphrodites', 'simultaneous']\n",
      "LLM answer: Scandinavian countries, such as Sweden and Denmark, have low income inequality and a high presence of unions.\n",
      "Example correct answers:  ['Scandinavia', 'Scandinavia', 'Scandinavia']\n",
      "LLM answer: Tesla died in 1943.\n",
      "Example correct answers:  ['1943', '1943', '1943']\n",
      "LLM answer: Isaac Bashevis Singer loved Warsaw and frequently included it in his novels.\n",
      "Example correct answers:  ['Isaac Bashevis Singer', 'Isaac Bashevis Singer', 'Isaac Bashevis Singer']\n",
      "LLM answer: The first Doctor Who soundtrack featured tracks from the first two series.\n",
      "Example correct answers:  ['the first two series', 'the first two series', 'the first two']\n",
      "LLM answer: Each packet label includes a destination address, source address, port numbers, and possibly a sequence number.\n",
      "Example correct answers:  ['Each packet is labeled with a destination address, source address, and port numbers. It may also be labeled with the sequence number of the packet', 'destination address, source address, and port numbers', 'destination address, source address, and port numbers']\n",
      "LLM answer: Konstantin Mereschkowski suggested the origin of chloroplasts in 1905.\n",
      "Example correct answers:  ['1905', '1905', '1905']\n",
      "LLM answer: Tesla made these claims in 1935.\n",
      "Example correct answers:  ['1935', 'In 1935', '1935']\n",
      "LLM answer: Large-scale regeneration has replaced the former shipping premises with imposing new office developments.\n",
      "Example correct answers:  ['Large-scale regeneration', 'Large-scale regeneration', 'new office developments']\n",
      "LLM answer: The Beroida, also known as Nuda, have no feeding appendages.\n",
      "Example correct answers:  ['The Beroida', 'Beroida', 'Beroida']\n",
      "LLM answer: The world's population recovered to pre-plague levels in the 17th century.\n",
      "Example correct answers:  ['the 17th century', '17th century', '17th century']\n",
      "LLM answer: France and the Netherlands.\n",
      "Example correct answers:  ['referendum in France and the referendum in the Netherlands', 'the referendum in France and the referendum in the Netherlands', 'referendum in France and the referendum in the Netherlands', 'the referendum in France and the referendum in the Netherlands']\n",
      "LLM answer: Corruption scandals among city officials and the loss of accreditation for all Duval County public high schools spurred increased support for government reform.\n",
      "Example correct answers:  ['public high schools lost their accreditation', 'high schools lost their accreditation', 'public high schools lost their accreditation']\n",
      "LLM answer: The \"Bricks for Warsaw\" campaign.\n",
      "Example correct answers:  ['\"Bricks for Warsaw\"', 'Bricks for Warsaw', 'Bricks for Warsaw']\n",
      "LLM answer: Tesla's property was sent to Belgrade.\n",
      "Example correct answers:  ['Belgrade', 'Belgrade', 'Belgrade']\n",
      "LLM answer: Open forest and grassland.\n",
      "Example correct answers:  ['open forest and grassland', 'open forest and grassland', 'open forest and grassland']\n",
      "LLM answer: Luther died on 18 February 1546.\n",
      "Example correct answers:  ['18 February 1546', '18 February 1546', '18 February 1546']\n",
      "LLM answer: The Mission Council usually consists of church bishops.\n",
      "Example correct answers:  ['church bishops', 'church bishops)', 'church bishops']\n",
      "LLM answer: Tesla blamed the Panic of 1901 for the loss of the initial money.\n",
      "Example correct answers:  ['Panic of 1901', 'the Panic of 1901', 'the Panic of 1901']\n",
      "LLM answer: Kenya is a founding member of the East African Community (EAC).\n",
      "Example correct answers:  ['East African Community', 'East African Community', 'East African Community']\n"
     ]
    },
    {
     "data": {
      "text/plain": [
       "(array([ 0.,  0.,  0.,  0., 25.]),\n",
       " array([0.5, 1.5, 2.5, 3.5, 4.5, 5.5]),\n",
       " <BarContainer object of 5 artists>)"
      ]
     },
     "execution_count": 87,
     "metadata": {},
     "output_type": "execute_result"
    },
    {
     "data": {
      "image/png": "[encoded data removed]",
      "text/plain": [
       "<Figure size 640x480 with 1 Axes>"
      ]
     },
     "metadata": {},
     "output_type": "display_data"
    }
   ],
   "source": [
    "llm_results = []\n",
    "for llm_answer, question in zip(llm_answers, open_ended_questions):\n",
    "    grade = question.validate_answer(llm_answer, llm)\n",
    "    llm_results.append(grade)\n",
    "    print(f\"LLM answer: {llm_answer}\")\n",
    "    print(\"Example correct answers: \", question.example_correct_answers)\n",
    "# plot grade results on scale from 1 to 5\n",
    "plt.hist(llm_results, bins=np.arange(1, 7) - 0.5, rwidth=0.8, color='skyblue', edgecolor='black')\n",
    "    "
   ]
  },
  {
   "cell_type": "code",
   "execution_count": 88,
   "metadata": {},
   "outputs": [
    {
     "name": "stdout",
     "output_type": "stream",
     "text": [
      "LLM Answer:  The first Doctor Who soundtrack featured tracks from the first two series.\n",
      "Question:  What does most of the HD material use as a standard?\n",
      "Correct Answer:  ['DVB-S2', 'DVB-S2', 'DVB-compliant MPEG-2']\n",
      "LLM Grade:  1\n",
      "LLM Answer:  France and the Netherlands.\n",
      "Question:  What physical quantities do not have direction?\n",
      "Correct Answer:  ['denoted scalar quantities', 'scalar quantities', 'denoted scalar quantities', 'scalar quantities', 'scalar quantities']\n",
      "LLM Grade:  1\n",
      "LLM Answer:  Konstantin Mereschkowski suggested the origin of chloroplasts in 1905.\n",
      "Question:  What was he studying that gave him the teleforce weapon idea?\n",
      "Correct Answer:  ['Van de Graaff generator', 'the Van de Graaff generator', 'the Van de Graaff generator']\n",
      "LLM Grade:  1\n",
      "LLM Answer:  Open forest and grassland.\n",
      "Question:  Which sitcom ended its broadcast run for ABC in 1983?\n",
      "Correct Answer:  ['Laverne & Shirley', 'Laverne & Shirley', 'Laverne & Shirley']\n",
      "LLM Grade:  1\n",
      "LLM Answer:  Tesla was studying the Van de Graaff generator when he conceived the idea for the teleforce weapon.\n",
      "Question:  What is the minimum required if you want to teach in Canada?\n",
      "Correct Answer:  [\"a post-secondary degree Bachelor's Degree\", \"a post-secondary degree Bachelor's Degree\", \"post-secondary degree Bachelor's Degree\"]\n",
      "LLM Grade:  1\n",
      "LLM Answer:  Tesla's property was sent to Belgrade.\n",
      "Question:  What type of hermaphrodite produces egg and sperm at different times?\n",
      "Correct Answer:  ['sequential', 'sequential hermaphrodites', 'simultaneous']\n",
      "LLM Grade:  1\n",
      "LLM Answer:  Sequential hermaphrodites produce eggs and sperm at different times.\n",
      "Question:  What country has low income inequality and high presence of unions?\n",
      "Correct Answer:  ['Scandinavia', 'Scandinavia', 'Scandinavia']\n",
      "LLM Grade:  1\n",
      "LLM Answer:  The Mission Council usually consists of church bishops.\n",
      "Question:  What year did Tesla die?\n",
      "Correct Answer:  ['1943', '1943', '1943']\n",
      "LLM Grade:  1\n",
      "LLM Answer:  Each packet label includes a destination address, source address, port numbers, and possibly a sequence number.\n",
      "Question:  Who loved Warsaw so much that he kept putting it in his novels?\n",
      "Correct Answer:  ['Isaac Bashevis Singer', 'Isaac Bashevis Singer', 'Isaac Bashevis Singer']\n",
      "LLM Grade:  1\n",
      "LLM Answer:  The minimum requirement to teach in Canada is a post-secondary Bachelor's Degree.\n",
      "Question:  Which series were featured on the first Doctor Who soundtrack?\n",
      "Correct Answer:  ['the first two series', 'the first two series', 'the first two']\n",
      "LLM Grade:  1\n",
      "LLM Answer:  Corruption scandals among city officials and the loss of accreditation for all Duval County public high schools spurred increased support for government reform.\n",
      "Question:  What is included with each packet label\n",
      "Correct Answer:  ['Each packet is labeled with a destination address, source address, and port numbers. It may also be labeled with the sequence number of the packet', 'destination address, source address, and port numbers', 'destination address, source address, and port numbers']\n",
      "LLM Grade:  1\n",
      "LLM Answer:  Tesla blamed the Panic of 1901 for the loss of the initial money.\n",
      "Question:  When did Konstantin Mereschkowski suggest the origin of chloroplasts?\n",
      "Correct Answer:  ['1905', '1905', '1905']\n",
      "LLM Grade:  1\n",
      "LLM Answer:  Laverne & Shirley ended its broadcast run for ABC in 1983.\n",
      "Question:  When did Tesla make these claims?\n",
      "Correct Answer:  ['1935', 'In 1935', '1935']\n",
      "LLM Grade:  1\n",
      "LLM Answer:  Scandinavian countries, such as Sweden and Denmark, have low income inequality and a high presence of unions.\n",
      "Question:  What has replaced the former shipping premises?\n",
      "Correct Answer:  ['Large-scale regeneration', 'Large-scale regeneration', 'new office developments']\n",
      "LLM Grade:  1\n",
      "LLM Answer:  Tesla made these claims in 1935.\n",
      "Question:  What group has no feeding appendages?\n",
      "Correct Answer:  ['The Beroida', 'Beroida', 'Beroida']\n",
      "LLM Grade:  1\n",
      "LLM Answer:  Kenya is a founding member of the East African Community (EAC).\n",
      "Question:  When did the world's population finally recover from the black death?\n",
      "Correct Answer:  ['the 17th century', '17th century', '17th century']\n",
      "LLM Grade:  1\n",
      "LLM Answer:  Large-scale regeneration has replaced the former shipping premises with imposing new office developments.\n",
      "Question:  What two country's referendums curtailed a constitution for Europe?\n",
      "Correct Answer:  ['referendum in France and the referendum in the Netherlands', 'the referendum in France and the referendum in the Netherlands', 'referendum in France and the referendum in the Netherlands', 'the referendum in France and the referendum in the Netherlands']\n",
      "LLM Grade:  1\n",
      "LLM Answer:  Physical quantities that do not have direction are called scalar quantities.\n",
      "Question:  What spurred increased support for government reform?\n",
      "Correct Answer:  ['public high schools lost their accreditation', 'high schools lost their accreditation', 'public high schools lost their accreditation']\n",
      "LLM Grade:  1\n",
      "LLM Answer:  Luther died on 18 February 1546.\n",
      "Question:  What campaign did the Communist regime initiate after WWII?\n",
      "Correct Answer:  ['\"Bricks for Warsaw\"', 'Bricks for Warsaw', 'Bricks for Warsaw']\n",
      "LLM Grade:  1\n",
      "LLM Answer:  Most of the HD material uses the DVB-S2 standard.\n",
      "Question:  Where was Tesla's property sent?\n",
      "Correct Answer:  ['Belgrade', 'Belgrade', 'Belgrade']\n",
      "LLM Grade:  1\n",
      "LLM Answer:  The \"Bricks for Warsaw\" campaign.\n",
      "Question:  Scientists disagree with how the Amazon rainforest changed over time with some arguing that it was reduced to isolated refugia seperated by what?\n",
      "Correct Answer:  ['open forest and grassland', 'open forest and grassland', 'open forest and grassland']\n",
      "LLM Grade:  1\n",
      "LLM Answer:  Isaac Bashevis Singer loved Warsaw and frequently included it in his novels.\n",
      "Question:  On what date did Luther die?\n",
      "Correct Answer:  ['18 February 1546', '18 February 1546', '18 February 1546']\n",
      "LLM Grade:  1\n",
      "LLM Answer:  The world's population recovered to pre-plague levels in the 17th century.\n",
      "Question:  The Mission Council usually consists of whom?\n",
      "Correct Answer:  ['church bishops', 'church bishops)', 'church bishops']\n",
      "LLM Grade:  3\n",
      "LLM Answer:  The Beroida, also known as Nuda, have no feeding appendages.\n",
      "Question:  On what did Tesla blame for the loss of the initial money?\n",
      "Correct Answer:  ['Panic of 1901', 'the Panic of 1901', 'the Panic of 1901']\n",
      "LLM Grade:  1\n",
      "LLM Answer:  Tesla died in 1943.\n",
      "Question:  What is Kenya a founding member of?\n",
      "Correct Answer:  ['East African Community', 'East African Community', 'East African Community']\n",
      "LLM Grade:  1\n"
     ]
    },
    {
     "data": {
      "text/plain": [
       "(array([24.,  0.,  1.,  0.,  0.]),\n",
       " array([0.5, 1.5, 2.5, 3.5, 4.5, 5.5]),\n",
       " <BarContainer object of 5 artists>)"
      ]
     },
     "execution_count": 88,
     "metadata": {},
     "output_type": "execute_result"
    },
    {
     "data": {
      "image/png": "[encoded data removed]",
      "text/plain": [
       "<Figure size 640x480 with 1 Axes>"
      ]
     },
     "metadata": {},
     "output_type": "display_data"
    }
   ],
   "source": [
    "# Reshufffle the llm_answers and then grade them again to see if the grades will be lower\n",
    "shuffled_llm_answers = np.random.permutation(llm_answers)\n",
    "shuffled_llm_results = []\n",
    "for llm_answer, question in zip(shuffled_llm_answers, open_ended_questions):\n",
    "    print(\"LLM Answer: \", llm_answer)\n",
    "    print(\"Question: \", question.question)\n",
    "    print(\"Correct Answer: \", question.example_correct_answers)\n",
    "\n",
    "    grade = question.validate_answer(llm_answer, llm)\n",
    "    print(\"LLM Grade: \", grade)\n",
    "    shuffled_llm_results.append(grade)\n",
    "# plot grade results on scale from 1 to 5\n",
    "plt.hist(shuffled_llm_results, bins=np.arange(1, 7) - 0.5, rwidth=0.8, color='skyblue', edgecolor='black')"
   ]
  },
  {
   "cell_type": "code",
   "execution_count": 89,
   "metadata": {},
   "outputs": [
    {
     "data": {
      "image/png": "[encoded data removed]",
      "text/plain": [
       "<Figure size 640x480 with 1 Axes>"
      ]
     },
     "metadata": {},
     "output_type": "display_data"
    }
   ],
   "source": [
    "\n",
    "# Combine the results into a single DataFrame for seaborn\n",
    "results_df = pd.DataFrame({\n",
    "    'Grade': llm_results + shuffled_llm_results,\n",
    "    'Type': ['LLM Results'] * len(llm_results) + ['Shuffled LLM Results'] * len(shuffled_llm_results)\n",
    "})\n",
    "\n",
    "# Plot using seaborn histplot with hue\n",
    "sns.histplot(data=results_df, x='Grade', hue='Type', multiple='dodge', bins=np.arange(1, 7) - 0.5, edgecolor='black')\n",
    "plt.show()"
   ]
  },
  {
   "cell_type": "markdown",
   "metadata": {},
   "source": [
    "# Can LLM generate the question given some context?"
   ]
  },
  {
   "cell_type": "code",
   "execution_count": 90,
   "metadata": {},
   "outputs": [
    {
     "name": "stdout",
     "output_type": "stream",
     "text": [
      "Context: question='What does most of the HD material use as a standard?' example_correct_answers=['DVB-S2', 'DVB-S2', 'DVB-compliant MPEG-2'] context=\"BSkyB's standard definition broadcasts are in DVB-compliant MPEG-2, with the Sky Movies and Sky Box Office channels including optional Dolby Digital soundtracks for recent films, although these are only accessible with a Sky+ box. Sky+ HD material is broadcast using MPEG-4 and most of the HD material uses the DVB-S2 standard. Interactive services and 7-day EPG use the proprietary OpenTV system, with set-top boxes including modems for a return path. Sky News, amongst other channels, provides a pseudo-video on demand interactive service by broadcasting looping video streams.\"\n",
      "Generated Question: What technology does BSkyB use for broadcasting its standard definition and HD material, and what system is used for interactive services and the 7-day EPG?\n",
      "\n",
      "\n",
      "Context: question='What physical quantities do not have direction?' example_correct_answers=['denoted scalar quantities', 'scalar quantities', 'denoted scalar quantities', 'scalar quantities', 'scalar quantities'] context='Forces act in a particular direction and have sizes dependent upon how strong the push or pull is. Because of these characteristics, forces are classified as \"vector quantities\". This means that forces follow a different set of mathematical rules than physical quantities that do not have direction (denoted scalar quantities). For example, when determining what happens when two forces act on the same object, it is necessary to know both the magnitude and the direction of both forces to calculate the result. If both of these pieces of information are not known for each force, the situation is ambiguous. For example, if you know that two people are pulling on the same rope with known magnitudes of force but you do not know which direction either person is pulling, it is impossible to determine what the acceleration of the rope will be. The two people could be pulling against each other as in tug of war or the two people could be pulling in the same direction. In this simple one-dimensional example, without knowing the direction of the forces it is impossible to decide whether the net force is the result of adding the two force magnitudes or subtracting one from the other. Associating forces with vectors avoids such problems.'\n",
      "Generated Question: Why are forces classified as vector quantities, and how does this classification affect the calculation of net force when two forces act on the same object?\n",
      "\n",
      "\n",
      "Context: question='What was he studying that gave him the teleforce weapon idea?' example_correct_answers=['Van de Graaff generator', 'the Van de Graaff generator', 'the Van de Graaff generator'] context='Later in life, Tesla made claims concerning a \"teleforce\" weapon after studying the Van de Graaff generator. The press variably referred to it as a \"peace ray\" or death ray. Tesla described the weapon as capable of being used against ground-based infantry or for anti-aircraft purposes.'\n",
      "Generated Question: What did Tesla claim his \"teleforce\" weapon, also known as the \"peace ray\" or death ray, could be used for?\n",
      "\n",
      "\n",
      "Context: question='Which sitcom ended its broadcast run for ABC in 1983?' example_correct_answers=['Laverne & Shirley', 'Laverne & Shirley', 'Laverne & Shirley'] context=\"As far as programming is concerned, four of ABC's marquee shows of the 1970s ended their runs during the mid-1980s: Laverne & Shirley ended its run in 1983, Happy Days and Three's Company ended in 1984 (with the latter producing a short-lived spinoff that year), while The Love Boat ended its run in 1986. After nearly a decade of ratings trouble, NBC had regained the ratings lead among the Big Three networks in 1984 on the success of series such as The Cosby Show, Cheers and Miami Vice. To counteract NBC, ABC decided to refocus itself on comedies and family-oriented series beginning in the mid-1980s including Mr. Belvedere, Roseanne, Who's the Boss?, Just the Ten of Us, The Wonder Years, Full House and Perfect Strangers.\"\n",
      "Generated Question: Which ABC shows from the 1970s ended their runs in the mid-1980s, and how did ABC respond to NBC's ratings success during that period?\n",
      "\n",
      "\n",
      "Context: question='What is the minimum required if you want to teach in Canada?' example_correct_answers=[\"a post-secondary degree Bachelor's Degree\", \"a post-secondary degree Bachelor's Degree\", \"post-secondary degree Bachelor's Degree\"] context=\"Teaching in Canada requires a post-secondary degree Bachelor's Degree. In most provinces a second Bachelor's Degree such as a Bachelor of Education is required to become a qualified teacher. Salary ranges from $40,000/year to $90,000/yr. Teachers have the option to teach for a public school which is funded by the provincial government or teaching in a private school which is funded by the private sector, businesses and sponsors.\"\n",
      "Generated Question: What are the educational requirements and salary range for becoming a qualified teacher in Canada, and what are the options for employment in terms of school types?\n",
      "\n",
      "\n",
      "Context: question='What type of hermaphrodite produces egg and sperm at different times?' example_correct_answers=['sequential', 'sequential hermaphrodites', 'simultaneous'] context=\"Most species are hermaphrodites—a single animal can produce both eggs and sperm, meaning it can fertilize its own egg, not needing a mate. Some are simultaneous hermaphrodites, which can produce both eggs and sperm at the same time. Others are sequential hermaphrodites, in which the eggs and sperm mature at different times. Fertilization is generally external, although platyctenids' eggs are fertilized inside their parents' bodies and kept there until they hatch. The young are generally planktonic and in most species look like miniature cydippids, gradually changing into their adult shapes as they grow. The exceptions are the beroids, whose young are miniature beroids with large mouths and no tentacles, and the platyctenids, whose young live as cydippid-like plankton until they reach near-adult size, but then sink to the bottom and rapidly metamorphose into the adult form. In at least some species, juveniles are capable of reproduction before reaching the adult size and shape. The combination of hermaphroditism and early reproduction enables small populations to grow at an explosive rate.\"\n",
      "Generated Question: What reproductive strategies and developmental stages are observed in hermaphroditic species, and how do these contribute to their population growth?\n",
      "\n",
      "\n",
      "Context: question='What country has low income inequality and high presence of unions?' example_correct_answers=['Scandinavia', 'Scandinavia', 'Scandinavia'] context='Sociologist Jake Rosenfield of the University of Washington asserts that the decline of organized labor in the United States has played a more significant role in expanding the income gap than technological changes and globalization, which were also experienced by other industrialized nations that didn\\'t experience steep surges in inequality. He points out that nations with high rates of unionization, particularly in Scandinavia, have very low levels of inequality, and concludes \"the historical pattern is clear; the cross-national pattern is clear: high inequality goes hand-in-hand with weak labor movements and vice-versa.\"'\n",
      "Generated Question: What does sociologist Jake Rosenfield identify as a more significant factor in the expansion of the income gap in the United States compared to technological changes and globalization?\n",
      "\n",
      "\n",
      "Context: question='What year did Tesla die?' example_correct_answers=['1943', '1943', '1943'] context='Tesla was renowned for his achievements and showmanship, eventually earning him a reputation in popular culture as an archetypal \"mad scientist\". His patents earned him a considerable amount of money, much of which was used to finance his own projects with varying degrees of success.:121,154 He lived most of his life in a series of New York hotels, through his retirement. Tesla died on 7 January 1943. His work fell into relative obscurity after his death, but in 1960 the General Conference on Weights and Measures named the SI unit of magnetic flux density the tesla in his honor. There has been a resurgence in popular interest in Tesla since the 1990s.'\n",
      "Generated Question: What honor was bestowed upon Nikola Tesla by the General Conference on Weights and Measures in 1960, and how has public interest in him changed since the 1990s?\n",
      "\n",
      "\n",
      "Context: question='Who loved Warsaw so much that he kept putting it in his novels?' example_correct_answers=['Isaac Bashevis Singer', 'Isaac Bashevis Singer', 'Isaac Bashevis Singer'] context='Tamara de Lempicka was a famous artist born in Warsaw. She was born Maria Górska in Warsaw to wealthy parents and in 1916 married a Polish lawyer Tadeusz Łempicki. Better than anyone else she represented the Art Deco style in painting and art. Nathan Alterman, the Israeli poet, was born in Warsaw, as was Moshe Vilenski, the Israeli composer, lyricist, and pianist, who studied music at the Warsaw Conservatory. Warsaw was the beloved city of Isaac Bashevis Singer, which he described in many of his novels: Warsaw has just now been destroyed. No one will ever see the Warsaw I knew. Let me just write about it. Let this Warsaw not disappear forever, he commented.'\n",
      "Generated Question: What connection do Tamara de Lempicka, Nathan Alterman, Moshe Vilenski, and Isaac Bashevis Singer share with the city of Warsaw?\n",
      "\n",
      "\n",
      "Context: question='Which series were featured on the first Doctor Who soundtrack?' example_correct_answers=['the first two series', 'the first two series', 'the first two'] context='Six soundtrack releases have been released since 2005. The first featured tracks from the first two series, the second and third featured music from the third and fourth series respectively. The fourth was released on 4 October 2010 as a two disc special edition and contained music from the 2008–2010 specials (The Next Doctor to End of Time Part 2). The soundtrack for Series 5 was released on 8 November 2010. In February 2011, a soundtrack was released for the 2010 Christmas special: \"A Christmas Carol\", and in December 2011 the soundtrack for Series 6 was released, both by Silva Screen Records.'\n",
      "Generated Question: What is the release date of the soundtrack for Series 5, and which company released the soundtracks for the 2010 Christmas special and Series 6?\n",
      "\n",
      "\n",
      "Context: question='What is included with each packet label' example_correct_answers=['Each packet is labeled with a destination address, source address, and port numbers. It may also be labeled with the sequence number of the packet', 'destination address, source address, and port numbers', 'destination address, source address, and port numbers'] context=\"In connectionless mode each packet includes complete addressing information. The packets are routed individually, sometimes resulting in different paths and out-of-order delivery. Each packet is labeled with a destination address, source address, and port numbers. It may also be labeled with the sequence number of the packet. This precludes the need for a dedicated path to help the packet find its way to its destination, but means that much more information is needed in the packet header, which is therefore larger, and this information needs to be looked up in power-hungry content-addressable memory. Each packet is dispatched and may go via different routes; potentially, the system has to do as much work for every packet as the connection-oriented system has to do in connection set-up, but with less information as to the application's requirements. At the destination, the original message/data is reassembled in the correct order, based on the packet sequence number. Thus a virtual connection, also known as a virtual circuit or byte stream is provided to the end-user by a transport layer protocol, although intermediate network nodes only provides a connectionless network layer service.\"\n",
      "Generated Question: What are the characteristics and challenges of packet delivery in a connectionless mode network, and how is the original message reassembled at the destination?\n",
      "\n",
      "\n",
      "Context: question='When did Konstantin Mereschkowski suggest the origin of chloroplasts?' example_correct_answers=['1905', '1905', '1905'] context='Chloroplasts are one of many types of organelles in the plant cell. They are considered to have originated from cyanobacteria through endosymbiosis—when a eukaryotic cell engulfed a photosynthesizing cyanobacterium that became a permanent resident in the cell. Mitochondria are thought to have come from a similar event, where an aerobic prokaryote was engulfed. This origin of chloroplasts was first suggested by the Russian biologist Konstantin Mereschkowski in 1905 after Andreas Schimper observed in 1883 that chloroplasts closely resemble cyanobacteria. Chloroplasts are only found in plants and algae.'\n",
      "Generated Question: Who first suggested the endosymbiotic origin of chloroplasts, and what observation led to this suggestion?\n",
      "\n",
      "\n",
      "Context: question='When did Tesla make these claims?' example_correct_answers=['1935', 'In 1935', '1935'] context='In 1935, in an annual birthday celebration interview, Tesla announced a method of transmitting mechanical energy with minimal loss over any terrestrial distance, a related new means of communication, and a method of accurately determining the location of underground mineral deposits.'\n",
      "Generated Question: What were the three innovations that Nikola Tesla announced during his 1935 birthday celebration interview?\n",
      "\n",
      "\n",
      "Context: question='What has replaced the former shipping premises?' example_correct_answers=['Large-scale regeneration', 'Large-scale regeneration', 'new office developments'] context='Large-scale regeneration has replaced former shipping premises with imposing new office developments; an innovative tilting bridge, the Gateshead Millennium Bridge was commissioned by Gateshead Council and has integrated the older Newcastle Quayside more closely with major cultural developments in Gateshead, including the BALTIC Centre for Contemporary Art, the venue for the Turner Prize 2011 and the Norman Foster-designed The Sage Gateshead music centre. The Newcastle and Gateshead Quaysides are now a thriving, cosmopolitan area with bars, restaurants and public spaces. As a tourist promotion, Newcastle and Gateshead have linked together under the banner \"NewcastleGateshead\", to spearhead the regeneration of the North-East. The River Tyne had the temporary Bambuco Bridge in 2008 for ten days; it was not made for walking, road or cycling, but was just a sculpture.'\n",
      "Generated Question: What are some of the key developments and cultural attractions that have contributed to the regeneration of the Newcastle and Gateshead Quaysides?\n",
      "\n",
      "\n",
      "Context: question='What group has no feeding appendages?' example_correct_answers=['The Beroida', 'Beroida', 'Beroida'] context='The Beroida, also known as Nuda, have no feeding appendages, but their large pharynx, just inside the large mouth and filling most of the saclike body, bears \"macrocilia\" at the oral end. These fused bundles of several thousand large cilia are able to \"bite\" off pieces of prey that are too large to swallow whole – almost always other ctenophores. In front of the field of macrocilia, on the mouth \"lips\" in some species of Beroe, is a pair of narrow strips of adhesive epithelial cells on the stomach wall that \"zip\" the mouth shut when the animal is not feeding, by forming intercellular connections with the opposite adhesive strip. This tight closure streamlines the front of the animal when it is pursuing prey.'\n",
      "Generated Question: How do Beroida ctenophores capture and consume prey that are too large to swallow whole?\n",
      "\n",
      "\n",
      "Context: question=\"When did the world's population finally recover from the black death?\" example_correct_answers=['the 17th century', '17th century', '17th century'] context=\"The Black Death is thought to have originated in the arid plains of Central Asia, where it then travelled along the Silk Road, reaching Crimea by 1343. From there, it was most likely carried by Oriental rat fleas living on the black rats that were regular passengers on merchant ships. Spreading throughout the Mediterranean and Europe, the Black Death is estimated to have killed 30–60% of Europe's total population. In total, the plague reduced the world population from an estimated 450 million down to 350–375 million in the 14th century. The world population as a whole did not recover to pre-plague levels until the 17th century. The plague recurred occasionally in Europe until the 19th century.\"\n",
      "Generated Question: What was the estimated impact of the Black Death on Europe's population, and how long did it take for the world population to recover to pre-plague levels?\n",
      "\n",
      "\n",
      "Context: question=\"What two country's referendums curtailed a constitution for Europe?\" example_correct_answers=['referendum in France and the referendum in the Netherlands', 'the referendum in France and the referendum in the Netherlands', 'referendum in France and the referendum in the Netherlands', 'the referendum in France and the referendum in the Netherlands'] context='Following the Nice Treaty, there was an attempt to reform the constitutional law of the European Union and make it more transparent; this would have also produced a single constitutional document. However, as a result of the referendum in France and the referendum in the Netherlands, the 2004 Treaty establishing a Constitution for Europe never came into force. Instead, the Lisbon Treaty was enacted. Its substance was very similar to the proposed constitutional treaty, but it was formally an amending treaty, and – though it significantly altered the existing treaties – it did not completely replace them.'\n",
      "Generated Question: What were the outcomes of the referendums in France and the Netherlands regarding the 2004 Treaty establishing a Constitution for Europe, and how did these outcomes influence the subsequent development of the Lisbon Treaty?\n",
      "\n",
      "\n",
      "Context: question='What spurred increased support for government reform?' example_correct_answers=['public high schools lost their accreditation', 'high schools lost their accreditation', 'public high schools lost their accreditation'] context=\"In the mid-1960s, corruption scandals began to arise among many of the city's officials, who were mainly elected through the traditional old boy network. After a grand jury was convened to investigate, 11 officials were indicted and more were forced to resign. Jacksonville Consolidation, led by J. J. Daniel and Claude Yates, began to win more support during this period, from both inner city blacks, who wanted more involvement in government, and whites in the suburbs, who wanted more services and more control over the central city. In 1964 all 15 of Duval County's public high schools lost their accreditation. This added momentum to proposals for government reform. Lower taxes, increased economic development, unification of the community, better public spending and effective administration by a more central authority were all cited as reasons for a new consolidated government.\"\n",
      "Generated Question: What were some of the reasons cited for the push towards government reform and consolidation in Jacksonville during the mid-1960s?\n",
      "\n",
      "\n",
      "Context: question='What campaign did the Communist regime initiate after WWII?' example_correct_answers=['\"Bricks for Warsaw\"', 'Bricks for Warsaw', 'Bricks for Warsaw'] context='After World War II, under a Communist regime set up by the conquering Soviets, the \"Bricks for Warsaw\" campaign was initiated, and large prefabricated housing projects were erected in Warsaw to address the housing shortage, along with other typical buildings of an Eastern Bloc city, such as the Palace of Culture and Science, a gift from the Soviet Union. The city resumed its role as the capital of Poland and the country\\'s centre of political and economic life. Many of the historic streets, buildings, and churches were restored to their original form. In 1980, Warsaw\\'s historic Old Town was inscribed onto UNESCO\\'s World Heritage list.'\n",
      "Generated Question: What significant event in 1980 highlighted the restoration efforts of Warsaw's historic areas after World War II?\n",
      "\n",
      "\n",
      "Context: question=\"Where was Tesla's property sent?\" example_correct_answers=['Belgrade', 'Belgrade', 'Belgrade'] context=\"In 1952, following pressure from Tesla's nephew, Sava Kosanović, Tesla's entire estate was shipped to Belgrade in 80 trunks marked N.T. In 1957, Kosanović's secretary Charlotte Muzar transported Tesla's ashes from the United States to Belgrade. The ashes are displayed in a gold-plated sphere on a marble pedestal in the Nikola Tesla Museum.\"\n",
      "Generated Question: What happened to Nikola Tesla's estate and ashes after his death, and where are they currently located?\n",
      "\n",
      "\n",
      "Context: question='Scientists disagree with how the Amazon rainforest changed over time with some arguing that it was reduced to isolated refugia seperated by what?' example_correct_answers=['open forest and grassland', 'open forest and grassland', 'open forest and grassland'] context='There is evidence that there have been significant changes in Amazon rainforest vegetation over the last 21,000 years through the Last Glacial Maximum (LGM) and subsequent deglaciation. Analyses of sediment deposits from Amazon basin paleolakes and from the Amazon Fan indicate that rainfall in the basin during the LGM was lower than for the present, and this was almost certainly associated with reduced moist tropical vegetation cover in the basin. There is debate, however, over how extensive this reduction was. Some scientists argue that the rainforest was reduced to small, isolated refugia separated by open forest and grassland; other scientists argue that the rainforest remained largely intact but extended less far to the north, south, and east than is seen today. This debate has proved difficult to resolve because the practical limitations of working in the rainforest mean that data sampling is biased away from the center of the Amazon basin, and both explanations are reasonably well supported by the available data.'\n",
      "Generated Question: What are the two main scientific perspectives on the extent of rainforest reduction in the Amazon basin during the Last Glacial Maximum, and what challenges make it difficult to resolve this debate?\n",
      "\n",
      "\n",
      "Context: question='On what date did Luther die?' example_correct_answers=['18 February 1546', '18 February 1546', '18 February 1546'] context=\"An apoplectic stroke deprived him of his speech, and he died shortly afterwards at 2:45 a.m. on 18 February 1546, aged 62, in Eisleben, the city of his birth. He was buried in the Castle Church in Wittenberg, beneath the pulpit. The funeral was held by his friends Johannes Bugenhagen and Philipp Melanchthon. A year later, troops of Luther's adversary Charles V, Holy Roman Emperor entered the town, but were ordered by Charles not to disturb the grave.\"\n",
      "Generated Question: Who was the individual who died on 18 February 1546 in Eisleben and was buried in the Castle Church in Wittenberg?\n",
      "\n",
      "\n",
      "Context: question='The Mission Council usually consists of whom?' example_correct_answers=['church bishops', 'church bishops)', 'church bishops'] context=\"Decisions in-between the four-year meetings are made by the Mission Council (usually consisting of church bishops). One of the most high profile decisions in recent years by one of the councils was a decision by the Mission Council of the South Central Jurisdiction which in March 2007 approved a 99-year lease of 36 acres (150,000 m2) at Southern Methodist University for the George W. Bush Presidential Library. The decision generated controversy in light of Bush's support of the Iraq War which the church bishops have criticized. A debate over whether the decision should or could be submitted for approval by the Southern Jurisdictional Conference at its July 2008 meeting in Dallas, Texas, remains unresolved.\"\n",
      "Generated Question: What was the controversial decision made by the Mission Council of the South Central Jurisdiction in March 2007, and why did it generate controversy?\n",
      "\n",
      "\n",
      "Context: question='On what did Tesla blame for the loss of the initial money?' example_correct_answers=['Panic of 1901', 'the Panic of 1901', 'the Panic of 1901'] context=\"Tesla later approached Morgan to ask for more funds to build a more powerful transmitter. When asked where all the money had gone, Tesla responded by saying that he was affected by the Panic of 1901, which he (Morgan) had caused. Morgan was shocked by the reminder of his part in the stock market crash and by Tesla's breach of contract by asking for more funds. Tesla wrote another plea to Morgan, but it was also fruitless. Morgan still owed Tesla money on the original agreement, and Tesla had been facing foreclosure even before construction of the tower began.\"\n",
      "Generated Question: What reasons did Tesla give to Morgan for needing more funds, and how did Morgan react to Tesla's request?\n",
      "\n",
      "\n",
      "Context: question='What is Kenya a founding member of?' example_correct_answers=['East African Community', 'East African Community', 'East African Community'] context=\"Kenya (/ˈkɛnjə/; locally [ˈkɛɲa] ( listen)), officially the Republic of Kenya, is a country in Africa and a founding member of the East African Community (EAC). Its capital and largest city is Nairobi. Kenya's territory lies on the equator and overlies the East African Rift covering a diverse and expansive terrain that extends roughly from Lake Victoria to Lake Turkana (formerly called Lake Rudolf) and further south-east to the Indian Ocean. It is bordered by Tanzania to the south, Uganda to the west, South Sudan to the north-west, Ethiopia to the north and Somalia to the north-east. Kenya covers 581,309 km2 (224,445 sq mi), and had a population of approximately 45 million people in July 2014.\"\n",
      "Generated Question: What is the capital and largest city of Kenya?\n",
      "\n",
      "\n"
     ]
    }
   ],
   "source": [
    "generated_questions = []\n",
    "for context_data in open_ended_questions:\n",
    "    question = context_data.generate_question_from_context(llm)\n",
    "    generated_questions.append(question)\n",
    "\n",
    "# Display the generated questions along with their contexts\n",
    "for context, question in zip(open_ended_questions, generated_questions):\n",
    "    print(f\"Context: {context}\")\n",
    "    print(f\"Generated Question: {question}\")\n",
    "    print(\"\\n\")"
   ]
  },
  {
   "cell_type": "markdown",
   "metadata": {},
   "source": [
    "# Example of full flow in the pipeline for open ended question answering"
   ]
  },
  {
   "cell_type": "code",
   "execution_count": 91,
   "metadata": {},
   "outputs": [],
   "source": [
    "ba_description = OpenEndedQuestion(question=\"\", example_correct_answers=[], context=\"The Barabási–Albert (BA) model is an algorithm for generating random scale-free networks using a preferential attachment mechanism. Several natural and human-made systems, including the Internet, the World Wide Web, citation networks, and some social networks are thought to be approximately scale-free and certainly contain few nodes (called hubs) with unusually high degree as compared to the other nodes of the network. The BA model tries to explain the existence of such nodes in real networks. The algorithm is named for its inventors Albert-László Barabási and Réka Albert.\")"
   ]
  },
  {
   "cell_type": "code",
   "execution_count": 92,
   "metadata": {},
   "outputs": [
    {
     "data": {
      "text/plain": [
       "'What is the Barabási–Albert model, and how does it explain the presence of hubs in real-world networks?'"
      ]
     },
     "execution_count": 92,
     "metadata": {},
     "output_type": "execute_result"
    }
   ],
   "source": [
    "llm_question = ba_description.generate_question_from_context(llm)\n",
    "llm_question"
   ]
  },
  {
   "cell_type": "code",
   "execution_count": 93,
   "metadata": {},
   "outputs": [
    {
     "data": {
      "text/plain": [
       "'The Barabási–Albert model is an algorithm for generating random scale-free networks using a preferential attachment mechanism. It explains the presence of hubs in real-world networks by suggesting that new nodes are more likely to connect to existing nodes with a higher degree, leading to the formation of a few nodes with unusually high connectivity.'"
      ]
     },
     "execution_count": 93,
     "metadata": {},
     "output_type": "execute_result"
    }
   ],
   "source": [
    "ba_description.question = llm_question\n",
    "llm_answer = ba_description.generate_llm_response(llm)\n",
    "llm_answer"
   ]
  },
  {
   "cell_type": "code",
   "execution_count": 94,
   "metadata": {},
   "outputs": [
    {
     "data": {
      "text/plain": [
       "5"
      ]
     },
     "execution_count": 94,
     "metadata": {},
     "output_type": "execute_result"
    }
   ],
   "source": [
    "ba_description.example_correct_answers = [\"The Barabási–Albert (BA) model is an algorithm for generating random scale-free networks using a preferential attachment mechanism.\", \"The Barabási–Albert model is a way to build networks with a “rich-get-richer” link structure, producing scale-free networks that match real systems like the Web, social media, and citation networks.\"]\n",
    "grade = ba_description.validate_answer(llm_answer, llm)\n",
    "grade\n"
   ]
  },
  {
   "cell_type": "markdown",
   "metadata": {},
   "source": [
    "# Multiple choice question answering"
   ]
  },
  {
   "metadata": {
    "ExecuteTime": {
     "end_time": "2024-12-10T17:24:43.223066Z",
     "start_time": "2024-12-10T17:24:41.362641Z"
    }
   },
   "cell_type": "code",
   "source": [
    "ba_close_ended = CloseEndedQuestion(context=\"The Barabási–Albert (BA) model is an algorithm for generating random scale-free networks using a preferential attachment mechanism. Several natural and human-made systems, including the Internet, the World Wide Web, citation networks, and some social networks are thought to be approximately scale-free and certainly contain few nodes (called hubs) with unusually high degree as compared to the other nodes of the network. The BA model tries to explain the existence of such nodes in real networks. The algorithm is named for its inventors Albert-László Barabási and Réka Albert.\")\n",
    "\n",
    "question_result = ba_close_ended.generate_question_from_context(llm)\n",
    "print(question_result.question)\n",
    "print(question_result.choices)\n",
    "print(question_result.correct_answer)\n"
   ],
   "outputs": [
    {
     "name": "stdout",
     "output_type": "stream",
     "text": [
      "What is the primary mechanism used by the Barabási–Albert model to generate scale-free networks?\n",
      "['Random attachment', 'Preferential attachment', 'Uniform attachment', 'Sequential attachment']\n",
      "1\n"
     ]
    }
   ],
   "execution_count": 10
  },
  {
   "metadata": {
    "ExecuteTime": {
     "end_time": "2024-12-10T17:24:51.849588Z",
     "start_time": "2024-12-10T17:24:51.846623Z"
    }
   },
   "cell_type": "code",
   "source": "ba_close_ended.question = question_result",
   "outputs": [],
   "execution_count": 11
  },
  {
   "metadata": {
    "ExecuteTime": {
     "end_time": "2024-12-10T17:24:55.219170Z",
     "start_time": "2024-12-10T17:24:54.173059Z"
    }
   },
   "cell_type": "code",
   "source": [
    "llm_answer = ba_close_ended.generate_llm_response(llm)\n",
    "ba_close_ended.validate_answer(llm_answer.index)"
   ],
   "outputs": [
    {
     "data": {
      "text/plain": [
       "5"
      ]
     },
     "execution_count": 12,
     "metadata": {},
     "output_type": "execute_result"
    }
   ],
   "execution_count": 12
  },
  {
   "metadata": {},
   "cell_type": "markdown",
   "source": "# Can LLM generate the closed ended question given some context?"
  },
  {
   "metadata": {
    "ExecuteTime": {
     "end_time": "2024-12-10T18:04:10.724911Z",
     "start_time": "2024-12-10T18:03:26.754364Z"
    }
   },
   "cell_type": "code",
   "source": [
    "SAMPLE_SIZE = 25\n",
    "\n",
    "sample_df = df.sample(n=SAMPLE_SIZE, random_state=32)\n",
    "close_ended_questions = CloseEndedQuestion.from_dataframe(sample_df)\n",
    "\n",
    "generated_questions = []\n",
    "\n",
    "for context_data in close_ended_questions:\n",
    "    question_result = context_data.generate_question_from_context(llm)\n",
    "    generated_questions.append(question_result)\n",
    "\n",
    "# Display the generated questions along with their contexts\n",
    "for context, question in zip(close_ended_questions, generated_questions):\n",
    "    print(f\"Context: {context}\")\n",
    "    print(f\"Generated Question: {question.question}\")\n",
    "    print(f\"Choices: {question.choices}\")\n",
    "    print(f\"Correct Answer: {question.correct_answer}\")\n",
    "    print(\"\\n\")"
   ],
   "outputs": [
    {
     "name": "stdout",
     "output_type": "stream",
     "text": [
      "Context: context=\"BSkyB's standard definition broadcasts are in DVB-compliant MPEG-2, with the Sky Movies and Sky Box Office channels including optional Dolby Digital soundtracks for recent films, although these are only accessible with a Sky+ box. Sky+ HD material is broadcast using MPEG-4 and most of the HD material uses the DVB-S2 standard. Interactive services and 7-day EPG use the proprietary OpenTV system, with set-top boxes including modems for a return path. Sky News, amongst other channels, provides a pseudo-video on demand interactive service by broadcasting looping video streams.\" question=None\n",
      "Generated Question: What technology does BSkyB use for broadcasting its standard definition channels?\n",
      "Choices: ['DVB-compliant MPEG-2', 'MPEG-4', 'DVB-S2', 'OpenTV']\n",
      "Correct Answer: 0\n",
      "\n",
      "\n",
      "Context: context='Forces act in a particular direction and have sizes dependent upon how strong the push or pull is. Because of these characteristics, forces are classified as \"vector quantities\". This means that forces follow a different set of mathematical rules than physical quantities that do not have direction (denoted scalar quantities). For example, when determining what happens when two forces act on the same object, it is necessary to know both the magnitude and the direction of both forces to calculate the result. If both of these pieces of information are not known for each force, the situation is ambiguous. For example, if you know that two people are pulling on the same rope with known magnitudes of force but you do not know which direction either person is pulling, it is impossible to determine what the acceleration of the rope will be. The two people could be pulling against each other as in tug of war or the two people could be pulling in the same direction. In this simple one-dimensional example, without knowing the direction of the forces it is impossible to decide whether the net force is the result of adding the two force magnitudes or subtracting one from the other. Associating forces with vectors avoids such problems.' question=None\n",
      "Generated Question: Why are forces classified as vector quantities?\n",
      "Choices: ['Because they have only magnitude.', 'Because they have only direction.', 'Because they have both magnitude and direction.', 'Because they follow the same mathematical rules as scalar quantities.']\n",
      "Correct Answer: 2\n",
      "\n",
      "\n",
      "Context: context='Later in life, Tesla made claims concerning a \"teleforce\" weapon after studying the Van de Graaff generator. The press variably referred to it as a \"peace ray\" or death ray. Tesla described the weapon as capable of being used against ground-based infantry or for anti-aircraft purposes.' question=None\n",
      "Generated Question: What was the \"teleforce\" weapon that Tesla claimed to have developed later in life commonly referred to as by the press?\n",
      "Choices: ['Peace ray', 'Death ray', 'Both peace ray and death ray', 'Laser beam']\n",
      "Correct Answer: 2\n",
      "\n",
      "\n",
      "Context: context=\"As far as programming is concerned, four of ABC's marquee shows of the 1970s ended their runs during the mid-1980s: Laverne & Shirley ended its run in 1983, Happy Days and Three's Company ended in 1984 (with the latter producing a short-lived spinoff that year), while The Love Boat ended its run in 1986. After nearly a decade of ratings trouble, NBC had regained the ratings lead among the Big Three networks in 1984 on the success of series such as The Cosby Show, Cheers and Miami Vice. To counteract NBC, ABC decided to refocus itself on comedies and family-oriented series beginning in the mid-1980s including Mr. Belvedere, Roseanne, Who's the Boss?, Just the Ten of Us, The Wonder Years, Full House and Perfect Strangers.\" question=None\n",
      "Generated Question: Which of the following ABC shows ended its run in 1986?\n",
      "Choices: ['Laverne & Shirley', 'Happy Days', \"Three's Company\", 'The Love Boat']\n",
      "Correct Answer: 3\n",
      "\n",
      "\n",
      "Context: context=\"Teaching in Canada requires a post-secondary degree Bachelor's Degree. In most provinces a second Bachelor's Degree such as a Bachelor of Education is required to become a qualified teacher. Salary ranges from $40,000/year to $90,000/yr. Teachers have the option to teach for a public school which is funded by the provincial government or teaching in a private school which is funded by the private sector, businesses and sponsors.\" question=None\n",
      "Generated Question: What is typically required to become a qualified teacher in most provinces in Canada?\n",
      "Choices: ['A high school diploma', \"A Bachelor's Degree\", \"A second Bachelor's Degree such as a Bachelor of Education\", \"A Master's Degree\"]\n",
      "Correct Answer: 2\n",
      "\n",
      "\n",
      "Context: context=\"Most species are hermaphrodites—a single animal can produce both eggs and sperm, meaning it can fertilize its own egg, not needing a mate. Some are simultaneous hermaphrodites, which can produce both eggs and sperm at the same time. Others are sequential hermaphrodites, in which the eggs and sperm mature at different times. Fertilization is generally external, although platyctenids' eggs are fertilized inside their parents' bodies and kept there until they hatch. The young are generally planktonic and in most species look like miniature cydippids, gradually changing into their adult shapes as they grow. The exceptions are the beroids, whose young are miniature beroids with large mouths and no tentacles, and the platyctenids, whose young live as cydippid-like plankton until they reach near-adult size, but then sink to the bottom and rapidly metamorphose into the adult form. In at least some species, juveniles are capable of reproduction before reaching the adult size and shape. The combination of hermaphroditism and early reproduction enables small populations to grow at an explosive rate.\" question=None\n",
      "Generated Question: What is a characteristic of simultaneous hermaphrodites?\n",
      "Choices: ['They can produce both eggs and sperm at the same time.', 'Their eggs and sperm mature at different times.', 'Fertilization is always internal.', 'They are incapable of self-fertilization.']\n",
      "Correct Answer: 0\n",
      "\n",
      "\n",
      "Context: context='Sociologist Jake Rosenfield of the University of Washington asserts that the decline of organized labor in the United States has played a more significant role in expanding the income gap than technological changes and globalization, which were also experienced by other industrialized nations that didn\\'t experience steep surges in inequality. He points out that nations with high rates of unionization, particularly in Scandinavia, have very low levels of inequality, and concludes \"the historical pattern is clear; the cross-national pattern is clear: high inequality goes hand-in-hand with weak labor movements and vice-versa.\"' question=None\n",
      "Generated Question: According to sociologist Jake Rosenfield, what has played a more significant role in expanding the income gap in the United States?\n",
      "Choices: ['Technological changes', 'Globalization', 'Decline of organized labor', 'High rates of unionization']\n",
      "Correct Answer: 2\n",
      "\n",
      "\n",
      "Context: context='Tesla was renowned for his achievements and showmanship, eventually earning him a reputation in popular culture as an archetypal \"mad scientist\". His patents earned him a considerable amount of money, much of which was used to finance his own projects with varying degrees of success.:121,154 He lived most of his life in a series of New York hotels, through his retirement. Tesla died on 7 January 1943. His work fell into relative obscurity after his death, but in 1960 the General Conference on Weights and Measures named the SI unit of magnetic flux density the tesla in his honor. There has been a resurgence in popular interest in Tesla since the 1990s.' question=None\n",
      "Generated Question: What is the SI unit of magnetic flux density named in honor of Nikola Tesla?\n",
      "Choices: ['Newton', 'Tesla', 'Farad', 'Ohm']\n",
      "Correct Answer: 1\n",
      "\n",
      "\n",
      "Context: context='Tamara de Lempicka was a famous artist born in Warsaw. She was born Maria Górska in Warsaw to wealthy parents and in 1916 married a Polish lawyer Tadeusz Łempicki. Better than anyone else she represented the Art Deco style in painting and art. Nathan Alterman, the Israeli poet, was born in Warsaw, as was Moshe Vilenski, the Israeli composer, lyricist, and pianist, who studied music at the Warsaw Conservatory. Warsaw was the beloved city of Isaac Bashevis Singer, which he described in many of his novels: Warsaw has just now been destroyed. No one will ever see the Warsaw I knew. Let me just write about it. Let this Warsaw not disappear forever, he commented.' question=None\n",
      "Generated Question: Which famous artist, known for representing the Art Deco style, was born in Warsaw?\n",
      "Choices: ['Nathan Alterman', 'Tamara de Lempicka', 'Isaac Bashevis Singer', 'Moshe Vilenski']\n",
      "Correct Answer: 1\n",
      "\n",
      "\n",
      "Context: context='Six soundtrack releases have been released since 2005. The first featured tracks from the first two series, the second and third featured music from the third and fourth series respectively. The fourth was released on 4 October 2010 as a two disc special edition and contained music from the 2008–2010 specials (The Next Doctor to End of Time Part 2). The soundtrack for Series 5 was released on 8 November 2010. In February 2011, a soundtrack was released for the 2010 Christmas special: \"A Christmas Carol\", and in December 2011 the soundtrack for Series 6 was released, both by Silva Screen Records.' question=None\n",
      "Generated Question: Which soundtrack release contained music from the 2008–2010 specials?\n",
      "Choices: ['First soundtrack release', 'Second soundtrack release', 'Third soundtrack release', 'Fourth soundtrack release']\n",
      "Correct Answer: 3\n",
      "\n",
      "\n",
      "Context: context=\"In connectionless mode each packet includes complete addressing information. The packets are routed individually, sometimes resulting in different paths and out-of-order delivery. Each packet is labeled with a destination address, source address, and port numbers. It may also be labeled with the sequence number of the packet. This precludes the need for a dedicated path to help the packet find its way to its destination, but means that much more information is needed in the packet header, which is therefore larger, and this information needs to be looked up in power-hungry content-addressable memory. Each packet is dispatched and may go via different routes; potentially, the system has to do as much work for every packet as the connection-oriented system has to do in connection set-up, but with less information as to the application's requirements. At the destination, the original message/data is reassembled in the correct order, based on the packet sequence number. Thus a virtual connection, also known as a virtual circuit or byte stream is provided to the end-user by a transport layer protocol, although intermediate network nodes only provides a connectionless network layer service.\" question=None\n",
      "Generated Question: What is a characteristic of connectionless mode in packet-switched networks?\n",
      "Choices: ['Packets are routed individually and may take different paths.', 'Packets follow a dedicated path with guaranteed order.', 'Packets do not require addressing information in the header.', 'Packets are always delivered in the order they were sent.']\n",
      "Correct Answer: 0\n",
      "\n",
      "\n",
      "Context: context='Chloroplasts are one of many types of organelles in the plant cell. They are considered to have originated from cyanobacteria through endosymbiosis—when a eukaryotic cell engulfed a photosynthesizing cyanobacterium that became a permanent resident in the cell. Mitochondria are thought to have come from a similar event, where an aerobic prokaryote was engulfed. This origin of chloroplasts was first suggested by the Russian biologist Konstantin Mereschkowski in 1905 after Andreas Schimper observed in 1883 that chloroplasts closely resemble cyanobacteria. Chloroplasts are only found in plants and algae.' question=None\n",
      "Generated Question: Who first suggested the origin of chloroplasts through endosymbiosis?\n",
      "Choices: ['Andreas Schimper', 'Konstantin Mereschkowski', 'Lynn Margulis', 'Robert Hooke']\n",
      "Correct Answer: 1\n",
      "\n",
      "\n",
      "Context: context='In 1935, in an annual birthday celebration interview, Tesla announced a method of transmitting mechanical energy with minimal loss over any terrestrial distance, a related new means of communication, and a method of accurately determining the location of underground mineral deposits.' question=None\n",
      "Generated Question: What did Tesla announce in his 1935 birthday celebration interview?\n",
      "Choices: ['A method of transmitting mechanical energy with minimal loss over any terrestrial distance.', 'A new type of electrical generator.', 'A method for wireless transmission of electricity.', 'A new design for an electric car.']\n",
      "Correct Answer: 0\n",
      "\n",
      "\n",
      "Context: context='Large-scale regeneration has replaced former shipping premises with imposing new office developments; an innovative tilting bridge, the Gateshead Millennium Bridge was commissioned by Gateshead Council and has integrated the older Newcastle Quayside more closely with major cultural developments in Gateshead, including the BALTIC Centre for Contemporary Art, the venue for the Turner Prize 2011 and the Norman Foster-designed The Sage Gateshead music centre. The Newcastle and Gateshead Quaysides are now a thriving, cosmopolitan area with bars, restaurants and public spaces. As a tourist promotion, Newcastle and Gateshead have linked together under the banner \"NewcastleGateshead\", to spearhead the regeneration of the North-East. The River Tyne had the temporary Bambuco Bridge in 2008 for ten days; it was not made for walking, road or cycling, but was just a sculpture.' question=None\n",
      "Generated Question: What was the purpose of the Bambuco Bridge on the River Tyne in 2008?\n",
      "Choices: ['It was a functional bridge for walking and cycling.', 'It was a temporary sculpture.', 'It was a permanent bridge for road traffic.', 'It was a bridge for public transportation.']\n",
      "Correct Answer: 1\n",
      "\n",
      "\n",
      "Context: context='The Beroida, also known as Nuda, have no feeding appendages, but their large pharynx, just inside the large mouth and filling most of the saclike body, bears \"macrocilia\" at the oral end. These fused bundles of several thousand large cilia are able to \"bite\" off pieces of prey that are too large to swallow whole – almost always other ctenophores. In front of the field of macrocilia, on the mouth \"lips\" in some species of Beroe, is a pair of narrow strips of adhesive epithelial cells on the stomach wall that \"zip\" the mouth shut when the animal is not feeding, by forming intercellular connections with the opposite adhesive strip. This tight closure streamlines the front of the animal when it is pursuing prey.' question=None\n",
      "Generated Question: What is the primary function of the macrocilia in Beroida?\n",
      "Choices: ['To help the Beroida swim faster', 'To bite off pieces of prey that are too large to swallow whole', 'To close the mouth when not feeding', 'To attract prey with bright colors']\n",
      "Correct Answer: 1\n",
      "\n",
      "\n",
      "Context: context=\"The Black Death is thought to have originated in the arid plains of Central Asia, where it then travelled along the Silk Road, reaching Crimea by 1343. From there, it was most likely carried by Oriental rat fleas living on the black rats that were regular passengers on merchant ships. Spreading throughout the Mediterranean and Europe, the Black Death is estimated to have killed 30–60% of Europe's total population. In total, the plague reduced the world population from an estimated 450 million down to 350–375 million in the 14th century. The world population as a whole did not recover to pre-plague levels until the 17th century. The plague recurred occasionally in Europe until the 19th century.\" question=None\n",
      "Generated Question: Where did the Black Death originate?\n",
      "Choices: ['Central Asia', 'Crimea', 'Mediterranean', 'Europe']\n",
      "Correct Answer: 0\n",
      "\n",
      "\n",
      "Context: context='Following the Nice Treaty, there was an attempt to reform the constitutional law of the European Union and make it more transparent; this would have also produced a single constitutional document. However, as a result of the referendum in France and the referendum in the Netherlands, the 2004 Treaty establishing a Constitution for Europe never came into force. Instead, the Lisbon Treaty was enacted. Its substance was very similar to the proposed constitutional treaty, but it was formally an amending treaty, and – though it significantly altered the existing treaties – it did not completely replace them.' question=None\n",
      "Generated Question: What was the outcome of the referendums in France and the Netherlands regarding the 2004 Treaty establishing a Constitution for Europe?\n",
      "Choices: ['The treaty was ratified and came into force.', 'The treaty was rejected and never came into force.', 'The treaty was partially accepted and partially rejected.', 'The treaty was accepted only in France but rejected in the Netherlands.']\n",
      "Correct Answer: 1\n",
      "\n",
      "\n",
      "Context: context=\"In the mid-1960s, corruption scandals began to arise among many of the city's officials, who were mainly elected through the traditional old boy network. After a grand jury was convened to investigate, 11 officials were indicted and more were forced to resign. Jacksonville Consolidation, led by J. J. Daniel and Claude Yates, began to win more support during this period, from both inner city blacks, who wanted more involvement in government, and whites in the suburbs, who wanted more services and more control over the central city. In 1964 all 15 of Duval County's public high schools lost their accreditation. This added momentum to proposals for government reform. Lower taxes, increased economic development, unification of the community, better public spending and effective administration by a more central authority were all cited as reasons for a new consolidated government.\" question=None\n",
      "Generated Question: What event in the mid-1960s contributed to the support for Jacksonville Consolidation?\n",
      "Choices: ['The election of new officials through the old boy network', 'The indictment and resignation of city officials due to corruption scandals', 'The increase in public high school accreditation', 'The decrease in economic development']\n",
      "Correct Answer: 1\n",
      "\n",
      "\n",
      "Context: context='After World War II, under a Communist regime set up by the conquering Soviets, the \"Bricks for Warsaw\" campaign was initiated, and large prefabricated housing projects were erected in Warsaw to address the housing shortage, along with other typical buildings of an Eastern Bloc city, such as the Palace of Culture and Science, a gift from the Soviet Union. The city resumed its role as the capital of Poland and the country\\'s centre of political and economic life. Many of the historic streets, buildings, and churches were restored to their original form. In 1980, Warsaw\\'s historic Old Town was inscribed onto UNESCO\\'s World Heritage list.' question=None\n",
      "Generated Question: What was the purpose of the \"Bricks for Warsaw\" campaign initiated after World War II?\n",
      "Choices: ['To build new industrial factories', 'To address the housing shortage', 'To construct new military bases', 'To develop new transportation systems']\n",
      "Correct Answer: 1\n",
      "\n",
      "\n",
      "Context: context=\"In 1952, following pressure from Tesla's nephew, Sava Kosanović, Tesla's entire estate was shipped to Belgrade in 80 trunks marked N.T. In 1957, Kosanović's secretary Charlotte Muzar transported Tesla's ashes from the United States to Belgrade. The ashes are displayed in a gold-plated sphere on a marble pedestal in the Nikola Tesla Museum.\" question=None\n",
      "Generated Question: Where are Nikola Tesla's ashes displayed?\n",
      "Choices: ['In a gold-plated sphere on a marble pedestal in the Nikola Tesla Museum', 'In a silver urn in the Smithsonian Museum', 'In a bronze statue in Central Park', 'In a glass case in the Science Museum in London']\n",
      "Correct Answer: 0\n",
      "\n",
      "\n",
      "Context: context='There is evidence that there have been significant changes in Amazon rainforest vegetation over the last 21,000 years through the Last Glacial Maximum (LGM) and subsequent deglaciation. Analyses of sediment deposits from Amazon basin paleolakes and from the Amazon Fan indicate that rainfall in the basin during the LGM was lower than for the present, and this was almost certainly associated with reduced moist tropical vegetation cover in the basin. There is debate, however, over how extensive this reduction was. Some scientists argue that the rainforest was reduced to small, isolated refugia separated by open forest and grassland; other scientists argue that the rainforest remained largely intact but extended less far to the north, south, and east than is seen today. This debate has proved difficult to resolve because the practical limitations of working in the rainforest mean that data sampling is biased away from the center of the Amazon basin, and both explanations are reasonably well supported by the available data.' question=None\n",
      "Generated Question: What is the main debate among scientists regarding the Amazon rainforest during the Last Glacial Maximum (LGM)?\n",
      "Choices: ['Whether the rainforest was completely destroyed during the LGM.', 'Whether the rainforest was reduced to small, isolated refugia or remained largely intact but smaller.', 'Whether the rainforest expanded significantly during the LGM.', 'Whether the rainforest was unaffected by changes in rainfall during the LGM.']\n",
      "Correct Answer: 1\n",
      "\n",
      "\n",
      "Context: context=\"An apoplectic stroke deprived him of his speech, and he died shortly afterwards at 2:45 a.m. on 18 February 1546, aged 62, in Eisleben, the city of his birth. He was buried in the Castle Church in Wittenberg, beneath the pulpit. The funeral was held by his friends Johannes Bugenhagen and Philipp Melanchthon. A year later, troops of Luther's adversary Charles V, Holy Roman Emperor entered the town, but were ordered by Charles not to disturb the grave.\" question=None\n",
      "Generated Question: Where was he buried after his death in 1546?\n",
      "Choices: ['Castle Church in Wittenberg', \"St. Peter's Basilica in Rome\", 'Westminster Abbey in London', 'Notre-Dame Cathedral in Paris']\n",
      "Correct Answer: 0\n",
      "\n",
      "\n",
      "Context: context=\"Decisions in-between the four-year meetings are made by the Mission Council (usually consisting of church bishops). One of the most high profile decisions in recent years by one of the councils was a decision by the Mission Council of the South Central Jurisdiction which in March 2007 approved a 99-year lease of 36 acres (150,000 m2) at Southern Methodist University for the George W. Bush Presidential Library. The decision generated controversy in light of Bush's support of the Iraq War which the church bishops have criticized. A debate over whether the decision should or could be submitted for approval by the Southern Jurisdictional Conference at its July 2008 meeting in Dallas, Texas, remains unresolved.\" question=None\n",
      "Generated Question: What was the controversial decision made by the Mission Council of the South Central Jurisdiction in March 2007?\n",
      "Choices: ['Approval of a 99-year lease for the George W. Bush Presidential Library at Southern Methodist University.', 'Support for the Iraq War.', \"Criticism of George W. Bush's policies.\", 'Rejection of the George W. Bush Presidential Library proposal.']\n",
      "Correct Answer: 0\n",
      "\n",
      "\n",
      "Context: context=\"Tesla later approached Morgan to ask for more funds to build a more powerful transmitter. When asked where all the money had gone, Tesla responded by saying that he was affected by the Panic of 1901, which he (Morgan) had caused. Morgan was shocked by the reminder of his part in the stock market crash and by Tesla's breach of contract by asking for more funds. Tesla wrote another plea to Morgan, but it was also fruitless. Morgan still owed Tesla money on the original agreement, and Tesla had been facing foreclosure even before construction of the tower began.\" question=None\n",
      "Generated Question: What was Tesla's response when Morgan asked where all the money had gone?\n",
      "Choices: ['Tesla claimed he was affected by the Panic of 1901.', 'Tesla said he invested in other projects.', 'Tesla mentioned he lost the money in a fire.', 'Tesla stated he used the money for personal expenses.']\n",
      "Correct Answer: 0\n",
      "\n",
      "\n",
      "Context: context=\"Kenya (/ˈkɛnjə/; locally [ˈkɛɲa] ( listen)), officially the Republic of Kenya, is a country in Africa and a founding member of the East African Community (EAC). Its capital and largest city is Nairobi. Kenya's territory lies on the equator and overlies the East African Rift covering a diverse and expansive terrain that extends roughly from Lake Victoria to Lake Turkana (formerly called Lake Rudolf) and further south-east to the Indian Ocean. It is bordered by Tanzania to the south, Uganda to the west, South Sudan to the north-west, Ethiopia to the north and Somalia to the north-east. Kenya covers 581,309 km2 (224,445 sq mi), and had a population of approximately 45 million people in July 2014.\" question=None\n",
      "Generated Question: What is the capital and largest city of Kenya?\n",
      "Choices: ['Mombasa', 'Nairobi', 'Kisumu', 'Eldoret']\n",
      "Correct Answer: 1\n",
      "\n",
      "\n"
     ]
    }
   ],
   "execution_count": 28
  }
 ],
 "metadata": {
  "kernelspec": {
   "display_name": "base",
   "language": "python",
   "name": "python3"
  },
  "language_info": {
   "codemirror_mode": {
    "name": "ipython",
    "version": 3
   },
   "file_extension": ".py",
   "mimetype": "text/x-python",
   "name": "python",
   "nbconvert_exporter": "python",
   "pygments_lexer": "ipython3",
   "version": "3.10.8"
  }
 },
 "nbformat": 4,
 "nbformat_minor": 2
}

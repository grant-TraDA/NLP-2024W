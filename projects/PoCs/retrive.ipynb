{
 "cells": [
  {
   "cell_type": "code",
   "execution_count": 1,
   "metadata": {},
   "outputs": [],
   "source": [
    "import vector_database\n",
    "import embedding\n",
    "import wikipedia"
   ]
  },
  {
   "cell_type": "code",
   "execution_count": 2,
   "metadata": {},
   "outputs": [],
   "source": [
    "db = vector_database.VectorDatabaseWraper(\"wiki_db\")\n"
   ]
  },
  {
   "cell_type": "code",
   "execution_count": 3,
   "metadata": {},
   "outputs": [],
   "source": [
    "query = \"Tell me about some famous people\"\n",
    "emb = embedding.embedding([query])[0]\n",
    "search_results, likeness = db.search(emb, 4)"
   ]
  },
  {
   "cell_type": "code",
   "execution_count": 4,
   "metadata": {},
   "outputs": [],
   "source": [
    "documents = []\n",
    "for result in search_results:\n",
    "    section_text = wikipedia.get_section_text(result['page_title'], result['section_title'])\n",
    "    documents.append(section_text)"
   ]
  },
  {
   "cell_type": "code",
   "execution_count": 5,
   "metadata": {},
   "outputs": [
    {
     "data": {
      "text/plain": [
       "['\"Tennis balles\" are mentioned by William Shakespeare in his play Henry V (1599), when a basket of them is given to King Henry as a mockery of his youth and playfulness.\\nDavid Foster Wallace, an amateur tennis player himself at Urbana High School in Illinois, included tennis in many of his works of non-fiction and fiction including \"Tennis Player Michael Joyce\\'s Professional Artistry as a Paradigm of Certain Stuff about Choice, Freedom, Discipline, Joy, Grotesquerie, and Human Completeness\", the autobiographical piece \"Derivative Sport in Tornado Alley\", and Infinite Jest, which is partially set at the fictional \"Enfield Tennis Academy\" in Massachusetts.\\nJapanese manga series The Prince of Tennis revolves around the tennis prodigy Echizen Ryoma and tennis matches between rival schools.\\nThe Royal Tenenbaums (2001) is a film that features Richie Tenenbaum (Luke Wilson), a tennis pro who suffers from depression and has a breakdown on court in front of thousands of fans.\\nWimbledon (2004) is a film about a discouraged pro tennis player (Paul Bettany) who meets a young woman on the women\\'s tennis circuit (Kirsten Dunst) who helps him find his drive to go and win Wimbledon.\\nIn The Squid and the Whale (2005), Joan (Laura Linney) has an affair with her kids\\' tennis coach, Ivan (William Baldwin). In a symbolic scene, Joan\\'s ex-husband, Bernard (Jeff Daniels), loses a tennis match against Ivan in front of the kids.\\nWoody Allen\\'s Match Point (2005) features a love affair between a former tennis pro, Chris Wilton (Jonathan Rhys Meyers), and his best friend\\'s fiancé, Nola Rice (Scarlett Johansson). A scene of the movie includes a brief comparison between Andre Agassi and Tim Henman, with Chris Wilton calling both of them \"geniuses\".\\nConfetti (2006) is a mockumentary which sees three couples competing to win the title of \"Most Original Wedding of the Year\". One competing couple (Meredith MacNeill and Stephen Mangan) are a pair of hyper-competitive professional tennis players holding a tennis-themed wedding.\\nThere are several tennis video games including  the Mario Tennis series, the TopSpin series, the Virtua Tennis series, Sega Superstars Tennis, Grand Slam Tennis and Wii Sports.',\n",
       " 'Former Rolling Stone magazine associate editor Robert Greenfield compared the Beatles to Picasso, as \"artists who broke through the constraints of their time period to come up with something that was unique and original ... [I]n the form of popular music, no one will ever be more revolutionary, more creative and more distinctive ...\" The British poet Philip Larkin described their work as \"an enchanting and intoxicating hybrid of Negro rock-and-roll with their own adolescent romanticism\" and \"the first advance in popular music since the War\".\\nIn 1964, the Beatles\\' arrival in the U.S. is credited with initiating the album era; the music historian Joel Whitburn says that LP sales soon \"exploded and eventually outpaced the sales and releases of singles\" in the music industry. They not only sparked the British Invasion of the US, they became a globally influential phenomenon as well. From the 1920s, the US had dominated popular entertainment culture throughout much of the world, via Hollywood films, jazz, the music of Broadway and Tin Pan Alley, and later, the rock and roll that first emerged in Memphis, Tennessee. The Beatles are regarded as British cultural icons, with young adults from abroad naming the band among a group of people whom they most associated with UK culture.\\nTheir musical innovations and commercial success inspired musicians worldwide. Many artists have acknowledged the Beatles\\' influence and enjoyed chart success with covers of their songs. On radio, their arrival marked the beginning of a new era; in 1968 the programme director of New York\\'s WABC radio station forbade his DJs from playing any \"pre-Beatles\" music, marking the defining line of what would be considered oldies on American radio. They helped to redefine the album as something more than just a few hits padded out with \"filler\", and they were primary innovators of the modern music video. The Shea Stadium show with which they opened their 1965 North American tour attracted an estimated 55,600 people, then the largest audience in concert history; Spitz describes the event as a \"major breakthrough ... a giant step toward reshaping the concert business\". Emulation of their clothing and especially their hairstyles, which became a mark of rebellion, had a global impact on fashion.\\nAccording to Gould, the Beatles changed the way people listened to popular music and experienced its role in their lives. From what began as the Beatlemania fad, the group\\'s popularity grew into what was seen as an embodiment of sociocultural movements of the decade. As icons of the 1960s counterculture, Gould continues, they became a catalyst for bohemianism and activism in various social and political arenas, fuelling movements such as women\\'s liberation, gay liberation and environmentalism. According to Peter Lavezzoli, after the \"more popular than Jesus\" controversy in 1966, the Beatles felt considerable pressure to say the right things and \"began a concerted effort to spread a message of wisdom and higher consciousness\".\\nOther commentators such as Mikal Gilmore and Todd Leopold have traced the inception of their sociocultural impact earlier, interpreting even the Beatlemania period, particularly on their first visit to the US, as a key moment in the development of generational awareness. Referring to their appearance on the Ed Sullivan Show Leopold states: \"In many ways, the Sullivan appearance marked the beginning of a cultural revolution ... The Beatles were like aliens dropped into the United States of 1964.\" According to Gilmore:\\n\\nElvis Presley had shown us how rebellion could be fashioned into eye-opening style; the Beatles were showing us how style could have the impact of cultural revelation – or at least how a pop vision might be forged into an unimpeachable consensus.\\nEstablished in 2009, Global Beatles Day is an annual holiday on 25 June each year that honours and celebrates the ideals of the Beatles. The date was chosen to commemorate the date the group participated in the BBC programme Our World in 1967, performing \"All You Need Is Love\" broadcast to an international audience.',\n",
       " \"In 1965, Queen Elizabeth II appointed Lennon, McCartney, Harrison and Starr Members of the Order of the British Empire (MBE). The Beatles won the 1971 Academy Award for Best Original Song Score for the film Let It Be (1970). The recipients of seven Grammy Awards and fifteen Ivor Novello Awards, the Beatles have six Diamond albums, as well as 20 Multi-Platinum albums, 16 Platinum albums and six Gold albums in the US. In the UK, the Beatles have four Multi-Platinum albums, four Platinum albums, eight Gold albums and one Silver album. They were inducted into the Rock and Roll Hall of Fame in 1988.\\nThe best-selling band in history, the Beatles have sold more than 600 million units as of 2012. From 1991 to 2009 the Beatles sold 57 million albums in United States, according to Nielsen Soundscan. They have had more number-one albums on the UK charts, fifteen, and sold more singles in the UK, 21.9 million, than any other act. In 2004, Rolling Stone ranked the Beatles as the most significant and influential rock music artists of the last 50 years. They ranked number one on Billboard magazine's list of the all-time most successful Hot 100 artists, released in 2008 to celebrate the US singles chart's 50th anniversary. As of 2017, they hold the record for most number-one hits on the Billboard Hot 100, with twenty. The Recording Industry Association of America certifies that the Beatles have sold 183 million units in the US, more than any other artist. They were collectively included in Time magazine's compilation of the 20th century's 100 most influential people. In 2014, they received the Grammy Lifetime Achievement Award.\\nOn 16 January each year, beginning in 2001, people celebrate World Beatles Day under UNESCO. This date has direct relation to the opening of the Cavern Club in 1957. In 2007, the Beatles became the first band to feature on a series of UK postage stamps issued by the Royal Mail. Earlier in 1999, the United States Postal Service issued a stamp dedicated to the Beatles and Yellow Submarine. In 2004 and 2011, Rolling Stone named them the greatest artist of all time.\",\n",
       " 'Fictionalised\\n\\nA Hard Day\\'s Night (1964)\\nHelp! (1965)\\nMagical Mystery Tour (1967)\\nYellow Submarine (1968) (brief cameo)\\nDocumentaries and filmed performances\\n\\nThe Beatles at Shea Stadium (1966)\\nLet It Be (1970)\\nThe Compleat Beatles (1982)\\nIt Was Twenty Years Ago Today (1987) (about Sgt. Pepper)\\nThe Beatles Anthology (1995)\\nThe Beatles: 1+ (2015) (collection of digitally restored music videos)\\nThe Beatles: Eight Days a Week (2016) (about Beatlemania and touring years)\\nThe Beatles: Get Back (2021)\\nNow and Then: The Last Beatles Song (2023) (short film about the creation of \"Now and Then\")']"
      ]
     },
     "execution_count": 5,
     "metadata": {},
     "output_type": "execute_result"
    }
   ],
   "source": [
    "documents"
   ]
  },
  {
   "cell_type": "code",
   "execution_count": 6,
   "metadata": {},
   "outputs": [
    {
     "name": "stdout",
     "output_type": "stream",
     "text": [
      "342\n",
      "652\n",
      "357\n",
      "79\n"
     ]
    }
   ],
   "source": [
    "for document in documents:\n",
    "    print(len(document.split(\" \")))"
   ]
  },
  {
   "cell_type": "code",
   "execution_count": 17,
   "metadata": {},
   "outputs": [
    {
     "data": {
      "text/plain": [
       "'\\nchain = (\\n    RunnablePassthrough.assign(question=question).assign(\\n        context=fake_retriever\\n    )\\n    | qa_prompt\\n    | llm\\n    | StrOutputParser()\\n)\\n'"
      ]
     },
     "execution_count": 17,
     "metadata": {},
     "output_type": "execute_result"
    }
   ],
   "source": [
    "import os\n",
    "import ollama\n",
    "from langchain.prompts import ChatPromptTemplate\n",
    "from langchain.prompts import PromptTemplate\n",
    "from langchain_community.chat_models import ChatOllama\n",
    "from langchain_core.runnables import RunnablePassthrough\n",
    "from langchain.chains import TransformChain\n",
    "\n",
    "\n",
    "llmModel = 'llama3.1:8b'\n",
    "model = ChatOllama(model = llmModel)\n",
    "llmModelsmall = 'llama3.2:1b'\n",
    "model_small = ChatOllama(model = llmModelsmall)\n",
    "\n",
    "# generate different versions of provided question to retrieve context based on\n",
    "# different perspectives\n",
    "# query_prompt = PromptTemplate(input_variables=[\"question\"], template = \"\")\n",
    "\n",
    "template_RAG = \"Try to answer the question based on YOUR knowledge OR the context. Context: {context} \\n Question: {question}\"\n",
    "template_summarize = \"Remove UNRELEVANT information from the following CONTEXT while taking into account the QUESTION. Output ONLY summarized content. Context: {context} \\n Question: {question}\"\n",
    "summarize = ChatPromptTemplate.from_template(template_summarize)\n",
    "prompt = ChatPromptTemplate.from_template(template_RAG)\n",
    "\n",
    "#print(fake_retriever())\n",
    "\n",
    "\n",
    "def fake_retriever(input_: dict) -> str:\n",
    "    # constext\n",
    "    file_name = \"story1.txt\"\n",
    "    file_path = \"../docs/\" + file_name\n",
    "    f = open(file_path, \"r\")\n",
    "    return f.read()\n",
    "    #return \"\"\n",
    "\n",
    "def empty_retriever(input_: dict) -> str:\n",
    "    print(input_)\n",
    "    return \"use only your built in knowledge\"\n",
    "\n",
    "def wikipedia_retriever(input_: dict) -> str:\n",
    "    emb = embedding.embedding([input_])[0]\n",
    "    search_results, likeness = db.search(emb, 4)\n",
    "    documents = []\n",
    "    for result in search_results:\n",
    "        section_text = wikipedia.get_section_text(result['page_title'], result['section_title'])\n",
    "        documents.append(section_text)\n",
    "    return \"\\n\".join(documents)\n",
    "    #return \"\"\n",
    "\n",
    "chain_empty = (\n",
    "    {\"context\": empty_retriever, \"question\": RunnablePassthrough()}\n",
    "    | prompt\n",
    "    | model\n",
    ")\n",
    "\n",
    "chain_wiki = (\n",
    "    {\"context\": wikipedia_retriever, \"question\": RunnablePassthrough()}\n",
    "    | prompt\n",
    "    | model\n",
    ")\n",
    "\n",
    "# Extend the chain with the summarization step\n",
    "chain_wiki_summarize = (\n",
    "    {\n",
    "        \"context\": wikipedia_retriever,  # Retrieve initial context\n",
    "        \"question\": RunnablePassthrough(),  # Pass through the question\n",
    "    }\n",
    "    | summarize  # Apply the summarization step\n",
    "    | model_small\n",
    ")\n",
    "\n",
    "chain_wiki_summarize_full = (\n",
    "    {\"context\": chain_wiki_summarize.invoke, \"question\": RunnablePassthrough()}\n",
    "    | prompt\n",
    "    | model\n",
    ")\n",
    "\n",
    "'''\n",
    "chain = (\n",
    "    RunnablePassthrough.assign(question=question).assign(\n",
    "        context=fake_retriever\n",
    "    )\n",
    "    | qa_prompt\n",
    "    | llm\n",
    "    | StrOutputParser()\n",
    ")\n",
    "'''"
   ]
  },
  {
   "cell_type": "code",
   "execution_count": 8,
   "metadata": {},
   "outputs": [
    {
     "name": "stdout",
     "output_type": "stream",
     "text": [
      "i want to hear about some famous people\n",
      "LLAMA: I'll give you a brief rundown of some famous individuals from various fields:\n",
      "\n",
      "**History**\n",
      "\n",
      "* Cleopatra (Ancient Egyptian Queen)\n",
      "* Julius Caesar (Roman General and Statesman)\n",
      "* Albert Einstein (Theoretical Physicist who developed the Theory of Relativity)\n",
      "\n",
      "**Art and Entertainment**\n",
      "\n",
      "* Leonardo da Vinci (Renaissance Artist and Inventor)\n",
      "* William Shakespeare (English Playwright and Poet)\n",
      "* Michael Jackson (American Singer, Songwriter, and Dancer)\n",
      "\n",
      "**Science and Technology**\n",
      "\n",
      "* Isaac Newton (Mathematician and Physicist who developed the Laws of Motion)\n",
      "* Charles Darwin (Biologist who proposed the Theory of Evolution)\n",
      "* Steve Jobs (Co-Founder of Apple Inc. and pioneer in Personal Computing)\n",
      "\n",
      "**Politics and Leadership**\n",
      "\n",
      "* Nelson Mandela (Anti-Apartheid Leader and President of South Africa)\n",
      "* Mahatma Gandhi (Indian Independence Activist and Leader)\n",
      "* Winston Churchill (Former Prime Minister of the United Kingdom during World War II)\n",
      "\n",
      "Let me know if you'd like to explore a specific field or era!\n"
     ]
    }
   ],
   "source": [
    "question = \"i want to hear about some famous people\"\n",
    "response = chain_empty.invoke(question)\n",
    "print(\"LLAMA: \" + response.content)"
   ]
  },
  {
   "cell_type": "code",
   "execution_count": 9,
   "metadata": {},
   "outputs": [
    {
     "name": "stdout",
     "output_type": "stream",
     "text": [
      "LLAMA: Let's talk about some famous people mentioned in the text!\n",
      "\n",
      "We have:\n",
      "\n",
      "* Robert Greenfield, a former Rolling Stone magazine associate editor\n",
      "* Philip Larkin, a British poet\n",
      "* Joel Whitburn, a music historian\n",
      "* David Foster Wallace, an American writer and tennis enthusiast (mentioned for his love of tennis, not just as a writer)\n",
      "* Woody Allen, a film director and actor (mentioned for his movie Match Point)\n",
      "* Luke Wilson, Jonathan Rhys Meyers, Scarlett Johansson, and Paul Bettany - all actors who starred in films related to tennis\n",
      "* Queen Elizabeth II - the monarch who appointed the Beatles members of the Order of the British Empire\n",
      "* Many members of the Beatles themselves: John Lennon, Paul McCartney, George Harrison, and Ringo Starr\n",
      "\n",
      "These are just a few examples, but there are many other famous people mentioned in the text. Would you like to know more about any specific one?\n"
     ]
    }
   ],
   "source": [
    "question = \"i want to hear about some famous people\"\n",
    "response = chain_wiki.invoke(question)\n",
    "print(\"LLAMA: \" + response.content)"
   ]
  },
  {
   "cell_type": "code",
   "execution_count": 18,
   "metadata": {},
   "outputs": [
    {
     "name": "stdout",
     "output_type": "stream",
     "text": [
      "LLAMA: Here is a summarized version of the text with only the requested information:\n",
      "\n",
      "Robert Greenfield, British poet\n",
      "Philip Larkin, British poet, described their work as enchanting\n",
      "The Beatles have won numerous awards including 7 Grammy Awards and 15 Ivor Novello Awards\n",
      "They are inducted into the Rock and Roll Hall of Fame (1988)\n",
      "The Recording Industry Association of America certifies they sell over 183 million units in the US\n",
      "They were collectively included in Time magazine's compilation of the 20th century's 100 most influential people\n"
     ]
    }
   ],
   "source": [
    "question = \"i want to hear about some famous people\"\n",
    "response = chain_wiki_summarize.invoke(question)\n",
    "print(\"LLAMA: \" + response.content)"
   ]
  },
  {
   "cell_type": "code",
   "execution_count": 19,
   "metadata": {},
   "outputs": [
    {
     "name": "stdout",
     "output_type": "stream",
     "text": [
      "LLAMA: Here's a summary of the text that lists some famous people:\n",
      "\n",
      "The text mentions several well-known individuals, including authors, actors, and musicians. These people are:\n",
      "\n",
      "* David Foster Wallace, an American author and journalist\n",
      "* William Shakespeare, a renowned English playwright and poet\n",
      "* Luke Wilson, an American actor and musician\n",
      "* Scarlett Johansson, a talented American actress\n",
      "* Paul Bettany, a British actor\n",
      "* Kirsten Dunst, a Danish-American actress\n",
      "* Jonathan Rhys Meyers, an Irish actor\n",
      "* Jeff Daniels, an American actor\n",
      "* Laura Linney, an accomplished American actress\n",
      "\n",
      "Would you like to know more about any of these individuals?\n"
     ]
    }
   ],
   "source": [
    "question = \"i want to hear about some famous people\"\n",
    "response = chain_wiki_summarize_full.invoke(question)\n",
    "print(\"LLAMA: \" + response.content)"
   ]
  }
 ],
 "metadata": {
  "kernelspec": {
   "display_name": "base",
   "language": "python",
   "name": "python3"
  },
  "language_info": {
   "codemirror_mode": {
    "name": "ipython",
    "version": 3
   },
   "file_extension": ".py",
   "mimetype": "text/x-python",
   "name": "python",
   "nbconvert_exporter": "python",
   "pygments_lexer": "ipython3",
   "version": "3.12.3"
  }
 },
 "nbformat": 4,
 "nbformat_minor": 2
}

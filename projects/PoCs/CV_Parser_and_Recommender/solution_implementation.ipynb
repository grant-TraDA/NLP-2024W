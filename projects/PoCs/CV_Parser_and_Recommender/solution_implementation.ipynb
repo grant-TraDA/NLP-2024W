{
 "cells": [
  {
   "cell_type": "code",
   "execution_count": 14,
   "metadata": {},
   "outputs": [],
   "source": [
    "import pandas as pd\n",
    "from sklearn.model_selection import train_test_split\n",
    "from transformers import AutoTokenizer, AutoModel\n",
    "from sklearn.metrics.pairwise import cosine_similarity\n",
    "import numpy as np\n",
    "\n",
    "import torch\n"
   ]
  },
  {
   "cell_type": "code",
   "execution_count": 15,
   "metadata": {},
   "outputs": [
    {
     "name": "stdout",
     "output_type": "stream",
     "text": [
      "Index(['Resume_str', 'Category', 'skills', 'roles'], dtype='object')\n",
      "Index(['roles', 'combined_skills_desc', 'skills', 'hard_skills'], dtype='object')\n"
     ]
    }
   ],
   "source": [
    "# Load datasets\n",
    "resumes = pd.read_csv('data/Resume Dataset/Resume/Resume_With_Skills.csv')\n",
    "jobs = pd.read_csv('data/Linkedin Job Postings (2023-2024)/cleaned_JD_with_skills.csv')\n",
    "\n",
    "# print column names\n",
    "print(resumes.columns)\n",
    "print(jobs.columns)\n",
    "\n",
    "\n"
   ]
  },
  {
   "cell_type": "code",
   "execution_count": 16,
   "metadata": {},
   "outputs": [],
   "source": [
    "resumes[\"text\"] = (\n",
    "    resumes[\"Resume_str\"] + \" \" +\n",
    "    resumes[\"skills\"].fillna(\"\") + \" \" +\n",
    "    resumes[\"roles\"].fillna(\"\")\n",
    ")\n",
    "\n",
    "jobs[\"text\"] = (\n",
    "    jobs[\"combined_skills_desc\"] + \" \" +\n",
    "    jobs[\"skills\"].fillna(\"\") + \" \" +\n",
    "    jobs[\"roles\"].fillna(\"\")\n",
    ")"
   ]
  },
  {
   "cell_type": "code",
   "execution_count": 17,
   "metadata": {},
   "outputs": [],
   "source": [
    "# Load pre-trained tokenizer and model\n",
    "tokenizer = AutoTokenizer.from_pretrained(\"bert-base-uncased\")\n",
    "model = AutoModel.from_pretrained(\"bert-base-uncased\")"
   ]
  },
  {
   "cell_type": "code",
   "execution_count": 18,
   "metadata": {},
   "outputs": [],
   "source": [
    "def get_embeddings_in_batches(text_list, batch_size=16):\n",
    "    all_embeddings = []\n",
    "    for i in range(0, len(text_list), batch_size):\n",
    "        batch = text_list[i:i+batch_size]\n",
    "        inputs = tokenizer(\n",
    "            batch,\n",
    "            return_tensors=\"pt\",\n",
    "            truncation=True,\n",
    "            padding=True,\n",
    "            max_length=128\n",
    "        )\n",
    "        with torch.no_grad():\n",
    "            outputs = model(**inputs)\n",
    "        batch_embeddings = outputs.last_hidden_state.mean(dim=1).detach().numpy()\n",
    "        all_embeddings.append(batch_embeddings)\n",
    "    return np.vstack(all_embeddings)\n",
    "\n"
   ]
  },
  {
   "cell_type": "code",
   "execution_count": 12,
   "metadata": {},
   "outputs": [],
   "source": [
    "resumes[\"text\"] = resumes[\"text\"].astype(str).fillna(\"\")\n",
    "jobs[\"text\"] = jobs[\"text\"].astype(str).fillna(\"\")\n",
    "\n"
   ]
  },
  {
   "cell_type": "code",
   "execution_count": 19,
   "metadata": {},
   "outputs": [],
   "source": [
    "# Compute embeddings\n",
    "resume_embeddings = get_embeddings_in_batches(resumes[\"text\"].tolist())\n",
    "job_embeddings = get_embeddings_in_batches(jobs[\"text\"].tolist())"
   ]
  },
  {
   "cell_type": "markdown",
   "metadata": {},
   "source": [
    "# Rank Jobs"
   ]
  },
  {
   "cell_type": "code",
   "execution_count": 37,
   "metadata": {},
   "outputs": [
    {
     "name": "stdout",
     "output_type": "stream",
     "text": [
      "Top Job Matches:\n",
      "Field Risk Specialist: 0.90\n",
      "Field Risk Specialist: 0.90\n",
      "Teller: 0.90\n",
      "Data Project Manager: 0.90\n",
      "Accounting Specialist: 0.90\n",
      "Field Risk Specialist: 0.89\n",
      "Security Specialist: 0.89\n",
      "Personal Banker: 0.89\n",
      "Relationship Banker: 0.89\n",
      "Relationship Banker: 0.89\n"
     ]
    }
   ],
   "source": [
    "from sklearn.metrics.pairwise import cosine_similarity\n",
    "\n",
    "def rank_jobs(resume_text, job_embeddings, jobs, top_n=10):\n",
    "    # Embed the resume\n",
    "    resume_embedding = get_embeddings_in_batches([resume_text])\n",
    "    \n",
    "    # Compute cosine similarity\n",
    "    similarities = cosine_similarity(resume_embedding, job_embeddings)\n",
    "    \n",
    "    # Get top N jobs\n",
    "    top_indices = similarities.argsort()[0][-top_n:][::-1]\n",
    "    top_scores = similarities[0, top_indices]\n",
    "    \n",
    "    return jobs.iloc[top_indices], top_scores\n",
    "\n",
    "# Example resume of a nurse\n",
    "\n",
    "resume_text = \"\"\"\n",
    "\n",
    "John Smith\n",
    "Experienced Bank Manager\n",
    "456 Financial Drive, Prosperity City, Wealth State, 67890\n",
    "Phone: (987) 654-3210 | Email: john.smith@example.com | LinkedIn: linkedin.com/in/johnsmithbanking\n",
    "\n",
    "Professional Summary\n",
    "Results-driven Bank Manager with 10+ years of experience leading high-performing teams and driving financial growth in competitive banking environments. Skilled in risk management, customer relationship management (CRM), and operational efficiency. Proven ability to exceed sales targets while maintaining excellent customer satisfaction and compliance with regulatory standards.\n",
    "\n",
    "Key Skills\n",
    "Team Leadership & Staff Development\n",
    "Financial Analysis & Risk Management\n",
    "Branch Operations & Efficiency Optimization\n",
    "Customer Relationship Management (CRM)\n",
    "Compliance & Regulatory Adherence\n",
    "Sales Strategy & Revenue Growth\n",
    "Professional Experience\n",
    "Branch Manager\n",
    "Prosperity National Bank, Prosperity City, Wealth State\n",
    "June 2015 – Present\n",
    "\n",
    "Led a team of 20+ banking professionals to consistently exceed quarterly revenue and customer acquisition targets by 15%.\n",
    "Managed daily operations of a $50M branch, ensuring compliance with state and federal banking regulations.\n",
    "Developed and implemented sales strategies that increased loan and credit product sales by 20% year-over-year.\n",
    "Fostered strong relationships with high-net-worth clients, securing over $5M in new deposits annually.\n",
    "Assistant Branch Manager\n",
    "Trust Financial Services, Wealth City, Wealth State\n",
    "May 2012 – May 2015\n",
    "\n",
    "Assisted in managing branch operations, focusing on staff training and customer service excellence.\n",
    "Collaborated with the branch manager to develop local marketing campaigns, resulting in a 12% increase in foot traffic.\n",
    "Conducted regular financial audits and reduced operational errors by 25%.\n",
    "Resolved escalated customer complaints, achieving a 90% resolution satisfaction rate.\n",
    "Education\n",
    "Master of Business Administration (MBA) – Finance\n",
    "Prestige Business School, Wealth City, Wealth State\n",
    "Graduated: May 2012\n",
    "\n",
    "Bachelor of Science in Economics\n",
    "Prestige University, Wealth City, Wealth State\n",
    "Graduated: May 2010\n",
    "\n",
    "Certifications & Training\n",
    "Certified Financial Manager (CFM) – National Institute of Banking\n",
    "Leadership Development Program – American Bankers Association\n",
    "Certified Anti-Money Laundering Specialist (CAMS)\n",
    "Achievements\n",
    "Awarded \"Top Branch Manager of the Year\" in 2020 and 2021 for highest customer retention and revenue growth.\n",
    "Implemented a customer feedback program, increasing Net Promoter Score (NPS) by 30%.\n",
    "Spearheaded a digital banking initiative, increasing mobile app usage by 40%.\n",
    " \n",
    "\"\"\"\n",
    "\n",
    "# Prepare the resume text for embedding\n",
    "resume_text = resume_text.replace(\"\\n\", \" \")\n",
    "\n",
    "\n",
    "# Rank jobs\n",
    "top_jobs, scores = rank_jobs(resume_text, job_embeddings, jobs)\n",
    "\n",
    "# Display results\n",
    "print(\"Top Job Matches:\")\n",
    "for job, score in zip(top_jobs[\"roles\"], scores):\n",
    "    print(f\"{job}: {score:.2f}\")\n"
   ]
  },
  {
   "cell_type": "code",
   "execution_count": null,
   "metadata": {},
   "outputs": [],
   "source": [
    "\n"
   ]
  }
 ],
 "metadata": {
  "kernelspec": {
   "display_name": "Python 3",
   "language": "python",
   "name": "python3"
  },
  "language_info": {
   "codemirror_mode": {
    "name": "ipython",
    "version": 3
   },
   "file_extension": ".py",
   "mimetype": "text/x-python",
   "name": "python",
   "nbconvert_exporter": "python",
   "pygments_lexer": "ipython3",
   "version": "3.10.1"
  }
 },
 "nbformat": 4,
 "nbformat_minor": 2
}

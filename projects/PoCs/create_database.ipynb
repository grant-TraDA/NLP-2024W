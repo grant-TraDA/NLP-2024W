{
 "cells": [
  {
   "cell_type": "code",
   "execution_count": 1,
   "metadata": {},
   "outputs": [],
   "source": [
    "import vector_database\n",
    "import embedding\n",
    "import wikipediaapi\n",
    "import pandas as pd"
   ]
  },
  {
   "cell_type": "markdown",
   "metadata": {},
   "source": [
    "Titles of wikipedia articles that we want to have in our database:"
   ]
  },
  {
   "cell_type": "code",
   "execution_count": 2,
   "metadata": {},
   "outputs": [],
   "source": [
    "def get_articles_from_list_page(list_page):\n",
    "    \"\"\"\n",
    "    Fetch all full articles linked from a list page, excluding redirects and section links.\n",
    "    \n",
    "    Args:\n",
    "        list_page (wikipediaapi.WikipediaPage): The list page to process.\n",
    "        wiki (wikipediaapi.Wikipedia): The Wikipedia API object.\n",
    "    \n",
    "    Returns:\n",
    "        list: A list of article titles linked from the list page.\n",
    "    \"\"\"\n",
    "    linked_articles = []\n",
    "    for link_title, link_page in list_page.links.items():\n",
    "        if link_page.ns == 0 and \"#\" not in link_title:\n",
    "            linked_articles.append(link_title)\n",
    "    return linked_articles\n",
    "\n",
    "def get_category_members(category_name, wiki, visited_categories=None):\n",
    "    \"\"\"\n",
    "    Recursively fetch articles and subcategories from a Wikipedia category, \n",
    "    including list pages, excluding redirects and section links.\n",
    "    \n",
    "    Args:\n",
    "        category_name (str): The name of the Wikipedia category.\n",
    "        wiki (wikipediaapi.Wikipedia): The Wikipedia API object.\n",
    "        visited_categories (set): Tracks visited categories to avoid duplicates and loops.\n",
    "    \n",
    "    Returns:\n",
    "        list: A list of article titles in the category and its subcategories.\n",
    "    \"\"\"\n",
    "    if visited_categories is None:\n",
    "        visited_categories = set()\n",
    "\n",
    "    # Avoid re-visiting categories\n",
    "    if category_name in visited_categories:\n",
    "        return []\n",
    "    visited_categories.add(category_name)\n",
    "\n",
    "    category_page = wiki.page(f\"Category:{category_name}\")\n",
    "    if not category_page.exists():\n",
    "        print(f\"Category '{category_name}' does not exist.\")\n",
    "        return []\n",
    "\n",
    "    articles = []\n",
    "    subcategories = []\n",
    "    list_pages = []\n",
    "\n",
    "    # Iterate over category members\n",
    "    for member in category_page.categorymembers.values():\n",
    "        if member.ns == 0:  # Namespace 0 indicates an article\n",
    "            if member.title.startswith(\"List of\"):\n",
    "                list_pages.append(member)  # Treat \"List of...\" pages separately\n",
    "            elif \"#\" not in member.title:  # Exclude redirects and section links\n",
    "                articles.append(member.title)\n",
    "        elif member.ns == 14:  # Namespace 14 indicates a subcategory\n",
    "            subcategories.append(member.title.replace(\"Category:\", \"\"))\n",
    "\n",
    "    # Process list pages to extract linked articles\n",
    "    for list_page in list_pages:\n",
    "        articles += get_articles_from_list_page(list_page)\n",
    "\n",
    "    # Recursively process subcategories\n",
    "    for subcategory in subcategories:\n",
    "        articles += get_category_members(subcategory, wiki, visited_categories)\n",
    "\n",
    "    return articles"
   ]
  },
  {
   "cell_type": "code",
   "execution_count": 6,
   "metadata": {},
   "outputs": [
    {
     "name": "stdout",
     "output_type": "stream",
     "text": [
      "Fetching all articles in the 'Star Wars' category...\n",
      "Found 36960 articles.\n"
     ]
    }
   ],
   "source": [
    "# Initialize Wikipedia API\n",
    "wiki = wikipediaapi.Wikipedia(\"NLP WUT 2024\")  # English Wikipedia\n",
    "\n",
    "# Starting category\n",
    "start_category = \"Star Wars\"\n",
    "\n",
    "print(f\"Fetching all articles in the '{start_category}' category...\")\n",
    "all_articles = get_category_members(start_category, wiki)\n",
    "print(f\"Found {len(all_articles)} articles.\")"
   ]
  },
  {
   "cell_type": "code",
   "execution_count": 8,
   "metadata": {},
   "outputs": [
    {
     "data": {
      "text/plain": [
       "9396"
      ]
     },
     "execution_count": 8,
     "metadata": {},
     "output_type": "execute_result"
    }
   ],
   "source": [
    "all_articles = list(set(all_articles))\n",
    "len(all_articles)"
   ]
  },
  {
   "cell_type": "code",
   "execution_count": 9,
   "metadata": {},
   "outputs": [
    {
     "data": {
      "text/plain": [
       "[\"Joruus C'baoth\",\n",
       " 'Joruus',\n",
       " \"Joruus c'baoth\",\n",
       " \"Joruus C'Baoth\",\n",
       " 'Joruus cbaoth']"
      ]
     },
     "execution_count": 9,
     "metadata": {},
     "output_type": "execute_result"
    }
   ],
   "source": [
    "# sometimes we get duds and/or duplicates, let's clean that\n",
    "[article for article in all_articles if 'Joruus' in article]"
   ]
  },
  {
   "cell_type": "code",
   "execution_count": 10,
   "metadata": {},
   "outputs": [
    {
     "name": "stdout",
     "output_type": "stream",
     "text": [
      "Joruus c'baoth\n",
      "List of Star Wars Legends characters\n"
     ]
    }
   ],
   "source": [
    "# an interesting hack I found -- there must be a better way to do this! (JS)\n",
    "page = wiki.page(\"Joruus c'baoth\")\n",
    "print(page.title)\n",
    "page.summary\n",
    "print(page.title)"
   ]
  },
  {
   "cell_type": "code",
   "execution_count": null,
   "metadata": {},
   "outputs": [],
   "source": [
    "all_articles_true_titles = []\n",
    "for i in range(len(all_articles)):\n",
    "    if i % 1000 == 0:\n",
    "        print(f\"{i}/{len(all_articles)} articles processed...\")\n",
    "    page = wiki.page(all_articles[i])\n",
    "    page.summary # calling summary makes it forget its a redirect\n",
    "    all_articles_true_titles.append(page.title)\n",
    "\n",
    "all_articles_true_titles = list(set(all_articles_true_titles))"
   ]
  },
  {
   "cell_type": "code",
   "execution_count": 84,
   "metadata": {},
   "outputs": [
    {
     "data": {
      "text/plain": [
       "4944"
      ]
     },
     "execution_count": 84,
     "metadata": {},
     "output_type": "execute_result"
    }
   ],
   "source": [
    "len(all_articles_true_titles)"
   ]
  },
  {
   "cell_type": "code",
   "execution_count": null,
   "metadata": {},
   "outputs": [],
   "source": [
    "pd.DataFrame({\"page\": all_articles_true_titles}).to_csv(\"allpages.csv\")"
   ]
  },
  {
   "cell_type": "code",
   "execution_count": 3,
   "metadata": {},
   "outputs": [],
   "source": [
    "page_titles = pd.read_csv(\"allpages.csv\")['page']"
   ]
  },
  {
   "cell_type": "code",
   "execution_count": 13,
   "metadata": {},
   "outputs": [],
   "source": [
    "def any_star_wars_category(page_title):\n",
    "    for category in wiki.page(page_title).categories.keys():\n",
    "        if 'star wars' in category.lower():\n",
    "            return True\n",
    "\n",
    "    return False"
   ]
  },
  {
   "cell_type": "code",
   "execution_count": 14,
   "metadata": {},
   "outputs": [],
   "source": [
    "sw_page_titles = [page_title for page_title in page_titles if any_star_wars_category(page_title)]"
   ]
  },
  {
   "cell_type": "code",
   "execution_count": 15,
   "metadata": {},
   "outputs": [
    {
     "data": {
      "text/plain": [
       "744"
      ]
     },
     "execution_count": 15,
     "metadata": {},
     "output_type": "execute_result"
    }
   ],
   "source": [
    "len(sw_page_titles)"
   ]
  },
  {
   "cell_type": "code",
   "execution_count": 16,
   "metadata": {},
   "outputs": [],
   "source": [
    "def get_text_from_metadata(metadata_singular):\n",
    "    section = wiki.page(metadata_singular['page_title']).\\\n",
    "            section_by_title(metadata_singular['section_title'])\n",
    "    if metadata_singular['subsection_title'] != \"\":\n",
    "        text = section.section_by_title(metadata_singular['subsection_title']).full_text()\n",
    "    else:\n",
    "        text = section.text\n",
    "    return text"
   ]
  },
  {
   "cell_type": "markdown",
   "metadata": {},
   "source": [
    "Database name should end in \"db\", so then it is ignored by git:"
   ]
  },
  {
   "cell_type": "code",
   "execution_count": 17,
   "metadata": {},
   "outputs": [],
   "source": [
    "database_name = \"wiki_db\""
   ]
  },
  {
   "cell_type": "markdown",
   "metadata": {},
   "source": [
    "This cell may take some time:"
   ]
  },
  {
   "cell_type": "code",
   "execution_count": 18,
   "metadata": {},
   "outputs": [
    {
     "name": "stdout",
     "output_type": "stream",
     "text": [
      "0/744 articles processed...\n",
      "Error while transforming page List of Star Wars creatures\n"
     ]
    }
   ],
   "source": [
    "embeddings = []\n",
    "metadata = []\n",
    "\n",
    "# initialize empty - no folder exists yet\n",
    "db = vector_database.VectorDatabaseWraper()\n",
    "\n",
    "i = 0\n",
    "for page_title in sw_page_titles:\n",
    "    if i % 1000 == 0:\n",
    "        print(f\"{i}/{len(sw_page_titles)} articles processed...\")\n",
    "    i += 1\n",
    "    page = wiki.page(page_title)\n",
    "    page_title = page.title\n",
    "    try:\n",
    "        for section in page.sections:\n",
    "            if section._level == 1:\n",
    "                section_title = section.title\n",
    "                metadata.append({\n",
    "                    \"page_title\": page_title,\n",
    "                    \"section_title\": section_title,\n",
    "                    \"subsection_title\": \"\"\n",
    "                })\n",
    "            for subsection in section.sections:\n",
    "                if subsection._level == 2:\n",
    "                    subsection_title = subsection.title\n",
    "                    metadata.append({\n",
    "                        \"page_title\": page_title,\n",
    "                        \"section_title\": section_title,\n",
    "                        \"subsection_title\": subsection_title\n",
    "                    })\n",
    "    except:\n",
    "        print(f\"Error while transforming page {page_title}\")\n",
    "    "
   ]
  },
  {
   "cell_type": "markdown",
   "metadata": {},
   "source": [
    "Check if subsections were loaded correctly. Expected output:\n",
    "```python\n",
    "    {'page_title': 'The Imperial March', 'section_title': 'Use in Star Wars', 'subsection_title': ''}\n",
    "    {'page_title': 'The Imperial March', 'section_title': 'Use in Star Wars', 'subsection_title': 'Original trilogy'}\n",
    "    {'page_title': 'The Imperial March', 'section_title': 'Use in Star Wars', 'subsection_title': 'Prequel trilogy'}\n",
    "    {'page_title': 'The Imperial March', 'section_title': 'Use in Star Wars', 'subsection_title': 'Sequel trilogy'}\n",
    "    {'page_title': 'The Imperial March', 'section_title': 'Use in Star Wars', 'subsection_title': 'Star Wars Anthology'}\n",
    "    {'page_title': 'The Imperial March', 'section_title': 'Use in Star Wars', 'subsection_title': 'Star Wars: The Clone Wars'}\n",
    "    {'page_title': 'The Imperial March', 'section_title': 'Use in Star Wars', 'subsection_title': 'Star Wars Rebels'}\n",
    "    {'page_title': 'The Imperial March', 'section_title': 'Use in Star Wars', 'subsection_title': 'Obi-Wan Kenobi'}\n",
    "    {'page_title': 'The Imperial March', 'section_title': 'Uses outside Star Wars', 'subsection_title': ''}\n",
    "    {'page_title': 'The Imperial March', 'section_title': 'Inspiration and influences', 'subsection_title': ''}\n",
    "    {'page_title': 'The Imperial March', 'section_title': 'See also', 'subsection_title': ''}\n",
    "    {'page_title': 'The Imperial March', 'section_title': 'References', 'subsection_title': ''}\n",
    "    {'page_title': 'The Imperial March', 'section_title': 'External links', 'subsection_title': ''}\n",
    "```\n"
   ]
  },
  {
   "cell_type": "code",
   "execution_count": 22,
   "metadata": {},
   "outputs": [
    {
     "name": "stdout",
     "output_type": "stream",
     "text": [
      "{'page_title': 'The Imperial March', 'section_title': 'Use in Star Wars', 'subsection_title': ''}\n",
      "{'page_title': 'The Imperial March', 'section_title': 'Use in Star Wars', 'subsection_title': 'Original trilogy'}\n",
      "{'page_title': 'The Imperial March', 'section_title': 'Use in Star Wars', 'subsection_title': 'Prequel trilogy'}\n",
      "{'page_title': 'The Imperial March', 'section_title': 'Use in Star Wars', 'subsection_title': 'Sequel trilogy'}\n",
      "{'page_title': 'The Imperial March', 'section_title': 'Use in Star Wars', 'subsection_title': 'Star Wars Anthology'}\n",
      "{'page_title': 'The Imperial March', 'section_title': 'Use in Star Wars', 'subsection_title': 'Star Wars: The Clone Wars'}\n",
      "{'page_title': 'The Imperial March', 'section_title': 'Use in Star Wars', 'subsection_title': 'Star Wars Rebels'}\n",
      "{'page_title': 'The Imperial March', 'section_title': 'Use in Star Wars', 'subsection_title': 'Obi-Wan Kenobi'}\n",
      "{'page_title': 'The Imperial March', 'section_title': 'Uses outside Star Wars', 'subsection_title': ''}\n",
      "{'page_title': 'The Imperial March', 'section_title': 'Inspiration and influences', 'subsection_title': ''}\n",
      "{'page_title': 'The Imperial March', 'section_title': 'See also', 'subsection_title': ''}\n",
      "{'page_title': 'The Imperial March', 'section_title': 'References', 'subsection_title': ''}\n",
      "{'page_title': 'The Imperial March', 'section_title': 'External links', 'subsection_title': ''}\n"
     ]
    }
   ],
   "source": [
    "for dic in metadata:\n",
    "    if dic[\"page_title\"] == sw_page_titles[2]:\n",
    "        print(dic)"
   ]
  },
  {
   "cell_type": "code",
   "execution_count": 23,
   "metadata": {},
   "outputs": [
    {
     "name": "stdout",
     "output_type": "stream",
     "text": [
      "0/7806 sections/subsections processed...\n",
      "Loading failed for {'page_title': 'Star Wars Miniatures Battles', 'section_title': 'Reception', 'subsection_title': 'Reviews'}\n",
      "Loading failed for {'page_title': 'Red Letter Media', 'section_title': 'Web series', 'subsection_title': \"Mr. Plinkett's Reviews (2008–2020)\"}\n",
      "Loading failed for {'page_title': 'Red Letter Media', 'section_title': 'Web series', 'subsection_title': 'Half in the Bag (2011–present)'}\n",
      "Loading failed for {'page_title': 'Red Letter Media', 'section_title': 'Web series', 'subsection_title': 'Best of the Worst (2013–present)'}\n",
      "Loading failed for {'page_title': 'Red Letter Media', 'section_title': 'Web series', 'subsection_title': 're:View (2016–present)'}\n",
      "Loading failed for {'page_title': 'Red Letter Media', 'section_title': 'Web series', 'subsection_title': 'The Nerd Crew: A Pop Culture Podcast (2017–present)'}\n",
      "Loading failed for {'page_title': 'Red Letter Media', 'section_title': 'Web series', 'subsection_title': 'Previously Recorded (2014–2018)'}\n",
      "1000/7806 sections/subsections processed...\n",
      "2000/7806 sections/subsections processed...\n",
      "3000/7806 sections/subsections processed...\n",
      "4000/7806 sections/subsections processed...\n",
      "5000/7806 sections/subsections processed...\n",
      "Loading failed for {'page_title': 'Star Wars: Dark Times', 'section_title': 'Story arcs', 'subsection_title': 'The Path to Nowhere'}\n",
      "Loading failed for {'page_title': 'Star Wars: Dark Times', 'section_title': 'Story arcs', 'subsection_title': 'Parallels'}\n",
      "Loading failed for {'page_title': 'Star Wars: Dark Times', 'section_title': 'Story arcs', 'subsection_title': 'Vector'}\n",
      "Loading failed for {'page_title': 'Star Wars: Dark Times', 'section_title': 'Story arcs', 'subsection_title': 'Blue Harvest'}\n",
      "6000/7806 sections/subsections processed...\n",
      "7000/7806 sections/subsections processed...\n",
      "Failures: 11\n"
     ]
    }
   ],
   "source": [
    "i = 0\n",
    "fail_count = 0\n",
    "for metadata_singular in metadata:\n",
    "    # check if the section is already in the databases\n",
    "    if i % 1000 == 0:\n",
    "        print(f\"{i}/{len(metadata)} sections/subsections processed...\")\n",
    "    i += 1\n",
    "    if db.has_record(metadata_singular):\n",
    "        print(f\"Skipping {metadata_singular}\")\n",
    "        continue\n",
    "    try:\n",
    "        section_text = get_text_from_metadata(metadata_singular)\n",
    "        embeddings.extend(embedding.embedding([section_text]))\n",
    "    except:\n",
    "        print(f\"Loading failed for {metadata_singular}\")\n",
    "        fail_count +=1\n",
    "\n",
    "print(f\"Failures: {fail_count}\")"
   ]
  },
  {
   "cell_type": "code",
   "execution_count": 225,
   "metadata": {},
   "outputs": [
    {
     "data": {
      "text/plain": [
       "{'page_title': 'List of Disney+ original programming',\n",
       " 'section_title': 'Regional original programming',\n",
       " 'subsection_title': 'Co-productions'}"
      ]
     },
     "execution_count": 225,
     "metadata": {},
     "output_type": "execute_result"
    }
   ],
   "source": [
    "metadata_singular"
   ]
  },
  {
   "cell_type": "code",
   "execution_count": 24,
   "metadata": {},
   "outputs": [],
   "source": [
    "db.add(embeddings, metadata)\n",
    "db.save(database_name)"
   ]
  }
 ],
 "metadata": {
  "kernelspec": {
   "display_name": "base",
   "language": "python",
   "name": "python3"
  },
  "language_info": {
   "codemirror_mode": {
    "name": "ipython",
    "version": 3
   },
   "file_extension": ".py",
   "mimetype": "text/x-python",
   "name": "python",
   "nbconvert_exporter": "python",
   "pygments_lexer": "ipython3",
   "version": "3.12.4"
  }
 },
 "nbformat": 4,
 "nbformat_minor": 2
}

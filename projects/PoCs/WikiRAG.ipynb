{
 "cells": [
  {
   "cell_type": "markdown",
   "metadata": {},
   "source": [
    "# WikiRAG\n",
    "\n",
    "## Brought to you by Sigma Inc."
   ]
  },
  {
   "cell_type": "code",
   "execution_count": 23,
   "metadata": {},
   "outputs": [],
   "source": [
    "from wikirag import WikiRAG\n",
    "from langchain_community.chat_models import ChatOllama"
   ]
  },
  {
   "cell_type": "code",
   "execution_count": 43,
   "metadata": {},
   "outputs": [],
   "source": [
    "# -2 very incorrect to +2 very correct\n",
    "manual_scores = []"
   ]
  },
  {
   "cell_type": "code",
   "execution_count": 45,
   "metadata": {},
   "outputs": [],
   "source": [
    "basic_wikirag = WikiRAG(model_name=\"llama3.2:1b\",documents_retrieved=20)\n",
    "base_model = ChatOllama(model = basic_wikirag.model_name)\n",
    "ollama31_8b = ChatOllama(model = \"llama3.1:8b\")"
   ]
  },
  {
   "cell_type": "code",
   "execution_count": 44,
   "metadata": {},
   "outputs": [],
   "source": [
    "question = \"What is the name of Luke Skywalker's twin sister?\""
   ]
  },
  {
   "cell_type": "code",
   "execution_count": null,
   "metadata": {},
   "outputs": [
    {
     "name": "stdout",
     "output_type": "stream",
     "text": [
      "There is no credible information or confirmation that Luke Skywalker has a twin sister. The Star Wars prequels and sequels feature twins, but they are not explicitly stated to be Luke and his sister. It's possible you may be thinking of another character or story. If you have any more context or clarification, I'd be happy to try and help further.\n"
     ]
    }
   ],
   "source": [
    "print(base_model.invoke(question).content)"
   ]
  },
  {
   "cell_type": "code",
   "execution_count": 46,
   "metadata": {},
   "outputs": [
    {
     "name": "stdout",
     "output_type": "stream",
     "text": [
      "There is no mention in any official Star Wars canon or media that suggests Luke Skywalker has a twin sister. It's possible you may be thinking of another character, such as Leia Organa, who is revealed to be his younger sister in \"The Empire Strikes Back.\"\n"
     ]
    }
   ],
   "source": [
    "print(ollama31_8b.invoke(question).content)"
   ]
  },
  {
   "cell_type": "code",
   "execution_count": 30,
   "metadata": {},
   "outputs": [
    {
     "name": "stdout",
     "output_type": "stream",
     "text": [
      "According to the text, Luke Skywalker's twin sister is Leia Organa.\n"
     ]
    }
   ],
   "source": [
    "print(basic_wikirag.query(question).content)"
   ]
  },
  {
   "cell_type": "code",
   "execution_count": 47,
   "metadata": {},
   "outputs": [],
   "source": [
    "manual_scores.append({\n",
    "    \"difficulty\": \"easy\",\n",
    "    \"type\": \"characters\",\n",
    "    \"question\": question,\n",
    "    \"base_model\": -2,\n",
    "    \"ollama3.1:8b\": 0,\n",
    "    \"wikiRAG\": 2\n",
    "})"
   ]
  },
  {
   "cell_type": "code",
   "execution_count": 48,
   "metadata": {},
   "outputs": [],
   "source": [
    "question = \"Who was Cassian Andor's adoptive mother in the Andor series?\""
   ]
  },
  {
   "cell_type": "code",
   "execution_count": null,
   "metadata": {},
   "outputs": [
    {
     "name": "stdout",
     "output_type": "stream",
     "text": [
      "In the Andor series, Cassian Andor's adoptive mother is Luthen Rael.\n"
     ]
    }
   ],
   "source": [
    "print(base_model.invoke(question).content)"
   ]
  },
  {
   "cell_type": "code",
   "execution_count": 49,
   "metadata": {},
   "outputs": [
    {
     "name": "stdout",
     "output_type": "stream",
     "text": [
      "I cannot verify who Cassian Andor's adoptive mother is in the series.\n"
     ]
    }
   ],
   "source": [
    "print(ollama31_8b.invoke(question).content)"
   ]
  },
  {
   "cell_type": "code",
   "execution_count": 35,
   "metadata": {},
   "outputs": [
    {
     "name": "stdout",
     "output_type": "stream",
     "text": [
      "The character of Cassian Andor is to be from his own family history after meeting and seeing a story where he was born, but does not directly stated in the books.\n"
     ]
    }
   ],
   "source": [
    "print(basic_wikirag.query(question).content)"
   ]
  },
  {
   "cell_type": "code",
   "execution_count": 50,
   "metadata": {},
   "outputs": [],
   "source": [
    "manual_scores.append({\n",
    "    \"difficulty\": \"medium\",\n",
    "    \"type\": \"characters\",\n",
    "    \"question\": question,\n",
    "    \"base_model\": -2,\n",
    "    \"ollama3.1:8b\": -2,\n",
    "    \"wikiRAG\": -2\n",
    "})"
   ]
  },
  {
   "cell_type": "code",
   "execution_count": 51,
   "metadata": {},
   "outputs": [],
   "source": [
    "question = \"In The Acolyte, what is the name of the character(s) played by Amandla Stenberg?\""
   ]
  },
  {
   "cell_type": "code",
   "execution_count": null,
   "metadata": {},
   "outputs": [
    {
     "name": "stdout",
     "output_type": "stream",
     "text": [
      "Amandla Stenberg plays the role of a certain character in \"The Acolyte\".\n"
     ]
    }
   ],
   "source": [
    "print(base_model.invoke(question).content)"
   ]
  },
  {
   "cell_type": "code",
   "execution_count": 52,
   "metadata": {},
   "outputs": [
    {
     "name": "stdout",
     "output_type": "stream",
     "text": [
      "I don’t have information on a project called “The Acolyte” that features Amandla Stenberg.\n"
     ]
    }
   ],
   "source": [
    "print(ollama31_8b.invoke(question).content)"
   ]
  },
  {
   "cell_type": "code",
   "execution_count": 41,
   "metadata": {},
   "outputs": [
    {
     "name": "stdout",
     "output_type": "stream",
     "text": [
      "There seems to be no information about characters in \"The Acolyte\" that matches a specific question or reference. Could you provide more context or clarify which part of the text you're referring to? I'll do my best to help.\n"
     ]
    }
   ],
   "source": [
    "print(basic_wikirag.query(question).content)"
   ]
  },
  {
   "cell_type": "code",
   "execution_count": 53,
   "metadata": {},
   "outputs": [],
   "source": [
    "manual_scores.append({\n",
    "    \"difficulty\": \"medium\",\n",
    "    \"type\": \"characters\",\n",
    "    \"question\": question,\n",
    "    \"base_model\": -2,\n",
    "    \"ollama3.1:8b\": -2,\n",
    "    \"wikiRAG\": -2\n",
    "})"
   ]
  },
  {
   "cell_type": "code",
   "execution_count": 54,
   "metadata": {},
   "outputs": [],
   "source": [
    "question = \"What species is Chewbacca, and where is he from?\""
   ]
  },
  {
   "cell_type": "code",
   "execution_count": 55,
   "metadata": {},
   "outputs": [
    {
     "name": "stdout",
     "output_type": "stream",
     "text": [
      "Chewbacca is a Wookiee. He is a fictional character in the Star Wars franchise. According to the Star Wars universe, Chewbacca is an indigenous species of tall, hairy bipeds native to the planet Kashyyyk, which is part of the Wookiee homeworlds.\n"
     ]
    }
   ],
   "source": [
    "print(base_model.invoke(question).content)"
   ]
  },
  {
   "cell_type": "code",
   "execution_count": 56,
   "metadata": {},
   "outputs": [
    {
     "name": "stdout",
     "output_type": "stream",
     "text": [
      "A great question about a beloved Star Wars character!\n",
      "\n",
      "Chewbacca, also known as Chewie, is a fictional Wookiee character in the Star Wars franchise. He is a loyal companion to Han Solo, the captain of the Millennium Falcon.\n",
      "\n",
      "According to the Star Wars universe, Chewbacca is a member of a species known as the Wookiees (also spelled Wokians or Woopies). The Wookiees are a tall, hairy, and intelligent bipedal species native to the planet Kashyyyk, which is located in the star system of the same name.\n",
      "\n",
      "Kashyyyk is a forest moon covered with towering wroshyr trees, and it's home to the Wookiee homeworld. The Wookiees are skilled warriors, hunters, and craftsmen, and they have a deep connection with nature and the natural world.\n",
      "\n",
      "Chewbacca himself was born on Kashyyyk, but he spent most of his life traveling the galaxy with Han Solo and other characters in the Star Wars saga. Despite being raised by a human, Chewie remained fiercely loyal to his Wookiee heritage and family roots.\n",
      "\n",
      "Wookiees are known for their strength, agility, intelligence, and distinctive physical characteristics, which include shaggy fur, pointed ears, and a keen sense of smell. They communicate using a series of growls, roars, and moans that sound like the language \"Shyriiwook\" to non-Wookiees.\n",
      "\n",
      "I hope this information helps you better understand the background of our beloved Chewbacca!\n"
     ]
    }
   ],
   "source": [
    "print(ollama31_8b.invoke(question).content)"
   ]
  },
  {
   "cell_type": "code",
   "execution_count": 57,
   "metadata": {},
   "outputs": [
    {
     "name": "stdout",
     "output_type": "stream",
     "text": [
      "According to the text, Chewbacca (not \"Chewbacca\") originates from the Iktorian planet in the remote System of expansion as we know but are real, which I mentioned:\n",
      "\n",
      "1. Wokians\n",
      "2. In the story.\n",
      "3. Racially and scientifically advanced species that was: \n",
      "   The Death Star\n"
     ]
    }
   ],
   "source": [
    "print(basic_wikirag.query(question).content)"
   ]
  },
  {
   "cell_type": "code",
   "execution_count": 58,
   "metadata": {},
   "outputs": [],
   "source": [
    "manual_scores.append({\n",
    "    \"difficulty\": \"easy\",\n",
    "    \"type\": \"characters\",\n",
    "    \"question\": question,\n",
    "    \"base_model\": 2,\n",
    "    \"ollama3.1:8b\": 2,\n",
    "    \"wikiRAG\": -2\n",
    "})"
   ]
  },
  {
   "cell_type": "code",
   "execution_count": 59,
   "metadata": {},
   "outputs": [],
   "source": [
    "question = \"What was the title held by Padmé Amidala on Naboo before becoming a senator?\""
   ]
  },
  {
   "cell_type": "code",
   "execution_count": 60,
   "metadata": {},
   "outputs": [
    {
     "name": "stdout",
     "output_type": "stream",
     "text": [
      "Padmé Amidala, the former Queen of Naboo and later a Senator, was initially known as \"Queen-Regnant\" of Naboo. This title reflected her position as the reigning monarch until the execution of her husband, Anakin Skywalker, followed by Chancellor Palpatine's rise to power.\n"
     ]
    }
   ],
   "source": [
    "print(base_model.invoke(question).content)"
   ]
  },
  {
   "cell_type": "code",
   "execution_count": 61,
   "metadata": {},
   "outputs": [
    {
     "name": "stdout",
     "output_type": "stream",
     "text": [
      "Before becoming a senator, Padmé Amidala was the Queen of Naboo. She served as both a queen and later a senator, representing her home planet in the Galactic Senate.\n"
     ]
    }
   ],
   "source": [
    "print(ollama31_8b.invoke(question).content)"
   ]
  },
  {
   "cell_type": "code",
   "execution_count": 62,
   "metadata": {},
   "outputs": [
    {
     "name": "stdout",
     "output_type": "stream",
     "text": [
      "There is no mention of Padmé Amidala's title prior to her becoming a senator in any of the provided texts. However, I can try to answer your question based on my general knowledge.\n",
      "\n",
      "In the Star Wars universe, Padmé Amidala was a politician and member of the Naboo Senate before she became the Queen of Naboo.\n"
     ]
    }
   ],
   "source": [
    "print(basic_wikirag.query(question).content)"
   ]
  },
  {
   "cell_type": "code",
   "execution_count": 63,
   "metadata": {},
   "outputs": [],
   "source": [
    "manual_scores.append({\n",
    "    \"difficulty\": \"medium\",\n",
    "    \"type\": \"characters\",\n",
    "    \"question\": question,\n",
    "    \"base_model\": 1,\n",
    "    \"ollama3.1:8b\": 2,\n",
    "    \"wikiRAG\": 1\n",
    "})"
   ]
  },
  {
   "cell_type": "code",
   "execution_count": 68,
   "metadata": {},
   "outputs": [],
   "source": [
    "question = \"What is the name of the desert planet where Anakin Skywalker grew up?\""
   ]
  },
  {
   "cell_type": "code",
   "execution_count": 65,
   "metadata": {},
   "outputs": [
    {
     "name": "stdout",
     "output_type": "stream",
     "text": [
      "I'm not aware of any information that suggests Anakin Skywalker, a main character in the Star Wars franchise, grew up on a desert planet. However, I do know that he was born on Tatooine, which is a desert planet in the Star Wars universe. Would you like more information about Tatooine or the Star Wars franchise?\n"
     ]
    }
   ],
   "source": [
    "print(base_model.invoke(question).content)"
   ]
  },
  {
   "cell_type": "code",
   "execution_count": 66,
   "metadata": {},
   "outputs": [
    {
     "name": "stdout",
     "output_type": "stream",
     "text": [
      "I think there may be a slight mistake here!\n",
      "\n",
      "Anakin Skywalker did not grow up on a desert planet. He was actually born on the planet Tatooine, which is indeed a desert planet in the Star Wars universe. However, he was born into slavery and lived with his mother Shmi on Tatooine until he was discovered to be strong in the Force and recruited by Jedi Master Qui-Gon Jinn.\n",
      "\n",
      "It's possible that you're thinking of Luke Skywalker, Anakin's son, who also grew up on Tatooine but later became a hero of the Rebel Alliance.\n"
     ]
    }
   ],
   "source": [
    "print(ollama31_8b.invoke(question).content)"
   ]
  },
  {
   "cell_type": "code",
   "execution_count": 69,
   "metadata": {},
   "outputs": [
    {
     "name": "stdout",
     "output_type": "stream",
     "text": [
      "There are no official Star Wars names for the following planets:\n",
      "\n",
      "* Desert planet ( likely referring to Tatooine, as it features a similar landscape with some minor changes.\n",
      "* Anakin's birthplace (The Anakin Skywalker),\n"
     ]
    }
   ],
   "source": [
    "print(basic_wikirag.query(question).content)"
   ]
  },
  {
   "cell_type": "code",
   "execution_count": 70,
   "metadata": {},
   "outputs": [],
   "source": [
    "manual_scores.append({\n",
    "    \"difficulty\": \"easy\",\n",
    "    \"type\": \"worldbuilding\",\n",
    "    \"question\": question,\n",
    "    \"base_model\": 1,\n",
    "    \"ollama3.1:8b\": 2,\n",
    "    \"wikiRAG\": -1\n",
    "})"
   ]
  },
  {
   "cell_type": "code",
   "execution_count": 76,
   "metadata": {},
   "outputs": [],
   "source": [
    "question = \"What is the name of the planet where the Jedi Order built their temple, later used as the Galactic Empire's headquarters?\""
   ]
  },
  {
   "cell_type": "code",
   "execution_count": 77,
   "metadata": {},
   "outputs": [
    {
     "name": "stdout",
     "output_type": "stream",
     "text": [
      "The planet you're referring to is Dantooine. The Jedi Temple on Dantooine was a sacred site for the Jedi Order and served as the seat of the Jedi Council. Later, after the fall of the Jedi Order, the Galactic Empire built their new headquarters on Dantooine, which became known as the Imperial Palace or the Imperial Senate House, among other names.\n"
     ]
    }
   ],
   "source": [
    "print(base_model.invoke(question).content)"
   ]
  },
  {
   "cell_type": "code",
   "execution_count": 78,
   "metadata": {},
   "outputs": [
    {
     "name": "stdout",
     "output_type": "stream",
     "text": [
      "The planet you're referring to is Coruscant. It was a major urbanized world in the Star Wars galaxy and served as the capital of the Galactic Republic and later the Galactic Empire.\n",
      "\n",
      "However, I must clarify that Coruscant did not have a single Jedi temple or a temple that was used as the Galactic Empire's headquarters. The Jedi Order had many temples throughout the galaxy, including the Great Temple on Coruscant, but it wasn't the only one. As for the Imperial Palace, it was a separate structure located within the heart of Coruscant's city-world.\n",
      "\n",
      "The most notable Jedi temple mentioned in the Star Wars canon is probably the Grand Temple on the planet Tython, which was an ancient site sacred to the Je'daii Order (the ancient predecessors of the Jedi). However, I couldn't find any information about a Jedi temple built on a specific planet that was later used as the Galactic Empire's headquarters.\n",
      "\n",
      "If you have any further questions or clarification regarding this, please feel free to ask!\n"
     ]
    }
   ],
   "source": [
    "print(ollama31_8b.invoke(question).content)"
   ]
  },
  {
   "cell_type": "code",
   "execution_count": 79,
   "metadata": {},
   "outputs": [
    {
     "name": "stdout",
     "output_type": "stream",
     "text": [
      "The planet Coruscant.\n"
     ]
    }
   ],
   "source": [
    "print(basic_wikirag.query(question).content)"
   ]
  },
  {
   "cell_type": "code",
   "execution_count": 80,
   "metadata": {},
   "outputs": [],
   "source": [
    "manual_scores.append({\n",
    "    \"difficulty\": \"medium\",\n",
    "    \"type\": \"worldbuilding\",\n",
    "    \"question\": question,\n",
    "    \"base_model\": -2,\n",
    "    \"ollama3.1:8b\": 2,\n",
    "    \"wikiRAG\": 2\n",
    "})"
   ]
  },
  {
   "cell_type": "code",
   "execution_count": 81,
   "metadata": {},
   "outputs": [],
   "source": [
    "question = \"In The Mandalorian, what is the significance of the Darksaber to Mandalorian culture?\""
   ]
  },
  {
   "cell_type": "code",
   "execution_count": 82,
   "metadata": {},
   "outputs": [
    {
     "name": "stdout",
     "output_type": "stream",
     "text": [
      "The Darksaber is a significant symbol in Mandalorian culture. In the Star Wars universe, it is an ancient and powerful energy-blade wielded by various Mandalorians throughout history. However, its most notable association with Mandalorian culture comes from its connection to the legendary Mandalorian warrior, Moff Gideon.\n",
      "\n",
      "In The Mandalorian, Moff Gideon obtains the Darksaber through his conquest of the Jedi Temple on Coruscant. As he holds the Darksaber, he declares himself \"The First Mandalor.\" This act solidifies his claim to leadership and sets him apart from other Mandalorians.\n",
      "\n",
      "The significance of the Darksaber in Mandalorian culture is multifaceted:\n",
      "\n",
      "1. **Leadership and power**: The Darksaber represents Gideon's newfound authority as a leader, symbolizing his ability to lead and command a significant force.\n",
      "2. **Identity and heritage**: By wielding the Darksaber, Gideon asserts his connection to his people's history and legacy, highlighting the importance of Mandalorian identity and tradition.\n",
      "3. **Legacy and continuity**: The Darksaber serves as a link between past Mandalorians and present-day leaders, ensuring that their values, traditions, and sacrifices continue to shape the culture.\n",
      "4. **Resistance against the Empire**: Although the Darksaber is ultimately used by Gideon for his own purposes, it also represents the resistance movement's ongoing struggle against the Empire.\n",
      "\n",
      "Throughout The Mandalorian, the Darksaber serves as a powerful symbol of Mandalorian culture, reflecting their values and traditions while also highlighting the complexities and nuances of leadership, power, and identity.\n"
     ]
    }
   ],
   "source": [
    "print(base_model.invoke(question).content)"
   ]
  },
  {
   "cell_type": "code",
   "execution_count": 83,
   "metadata": {},
   "outputs": [
    {
     "name": "stdout",
     "output_type": "stream",
     "text": [
      "A great question about one of the most iconic props in The Mandalorian!\n",
      "\n",
      "The Darksaber is a unique lightsaber that plays a significant role in Mandalorian culture and history. According to the Star Wars universe, the Darksaber was forged by Tarre Vizsla, a legendary Jedi Knight who was also a member of House Vizsla, one of the seven houses of the Mandalorians.\n",
      "\n",
      "The significance of the Darksaber lies in its connection to the Jedi Order and its role as a symbol of power and authority among the Mandalorians. As a unique lightsaber with a distinctive design and history, it serves as a powerful artifact that represents the fusion of Jedi technology with Mandalorian craftsmanship.\n",
      "\n",
      "In The Mandalorian series, the Darksaber holds great importance as a symbol of leadership within the Mandalorian culture. When the Armorer (a skilled metalworker who crafts and maintains the Mandalorians' armor) presents the Darksaber to Din Djarin (also known as \"The Mandalorian\"), it signifies that he has been chosen as the leader of The Child's (Grogu's) people, rather than Moff Gideon, who had previously claimed the sword.\n",
      "\n",
      "Throughout the series, the Darksaber is repeatedly emphasized as a sacred and powerful artifact that only a true leader among the Mandalorians should wield. Its possession serves as a way to determine who among the Mandalorians has the right to lead, with its significance extending beyond mere physical power to represent spiritual authority and connection to the Mandalorian culture.\n",
      "\n",
      "In short, the Darksaber represents a rich and complex history within the Star Wars universe, embodying both Jedi technology and Mandalorian craftsmanship. Its importance extends beyond a simple lightsaber design, serving as a powerful symbol of leadership, tradition, and cultural identity among the Mandalorians.\n"
     ]
    }
   ],
   "source": [
    "print(ollama31_8b.invoke(question).content)"
   ]
  },
  {
   "cell_type": "code",
   "execution_count": 84,
   "metadata": {},
   "outputs": [
    {
     "name": "stdout",
     "output_type": "stream",
     "text": [
      "The text appears to be a summary of the Star Wars franchise, including its sequels, spin-offs, and adaptations. It does not include all titles but gives an overview of many of them.\n",
      "\n",
      "Here are some key points in this summary:\n",
      "\n",
      "* Episode VIII: The Last Jedi - a group of enemy forces that destroyed Nobita's house.\n",
      "* Episode III: Revenge of the Sith - Thrawn returns from other galaxy.\n",
      "* Star Wars Rebels - Ahsoka and Sabine team to prevent him returning is not able with them due to their planet.\n",
      "* Rogue One, Solo, Obi-Wan Kenobi, Andor, Star Wars Resistance, and Force Awakens - all featuring.\n"
     ]
    }
   ],
   "source": [
    "print(basic_wikirag.query(question).content)"
   ]
  },
  {
   "cell_type": "code",
   "execution_count": 85,
   "metadata": {},
   "outputs": [],
   "source": [
    "manual_scores.append({\n",
    "    \"difficulty\": \"hard\",\n",
    "    \"type\": \"worldbuilding\",\n",
    "    \"question\": question,\n",
    "    \"base_model\": 1,\n",
    "    \"ollama3.1:8b\": 2,\n",
    "    \"wikiRAG\": -2\n",
    "})"
   ]
  },
  {
   "cell_type": "code",
   "execution_count": 86,
   "metadata": {},
   "outputs": [],
   "source": [
    "question = \"What is the primary weapon of a Jedi Knight?\""
   ]
  },
  {
   "cell_type": "code",
   "execution_count": 87,
   "metadata": {},
   "outputs": [
    {
     "name": "stdout",
     "output_type": "stream",
     "text": [
      "The primary weapons used by a Jedi Knight are typically lightsabers. Lightsabers are energy-based swords that are attuned to the user's unique connection with the Force, allowing them to harness its power and channel it into a blindingly fast and precise cutting action.\n"
     ]
    }
   ],
   "source": [
    "print(base_model.invoke(question).content)"
   ]
  },
  {
   "cell_type": "code",
   "execution_count": 88,
   "metadata": {},
   "outputs": [
    {
     "name": "stdout",
     "output_type": "stream",
     "text": [
      "A question from the Star Wars universe!\n",
      "\n",
      "The primary weapon of a Jedi Knight is typically a lightsaber, which is a plasma blade emitted by a kyber crystal contained within a hilt. Lightsabers are energy swords that can be activated and adjusted in color depending on the wielder's personality or alignment with the Force.\n",
      "\n",
      "Jedi Knights use their lightsabers for both offense and defense, as they are an extension of themselves, connected to the Force through the kyber crystal. The hum of a lightsaber is often considered a symbol of a Jedi's connection to the Force.\n",
      "\n",
      "It's worth noting that while a lightsaber is the primary weapon of a Jedi Knight, they may also use other tools and abilities, such as their knowledge of the Force, martial arts skills, and various gadgets and devices.\n"
     ]
    }
   ],
   "source": [
    "print(ollama31_8b.invoke(question).content)"
   ]
  },
  {
   "cell_type": "code",
   "execution_count": 89,
   "metadata": {},
   "outputs": [
    {
     "name": "stdout",
     "output_type": "stream",
     "text": [
      "According to the text, there is no specific mention of what the primary weapon of a Jedi Knight is. However, it can be inferred that lightsabers are likely their primary weapons due to their central role in the game and its depiction as a key aspect of being a Jedi.\n"
     ]
    }
   ],
   "source": [
    "print(basic_wikirag.query(question).content)"
   ]
  },
  {
   "cell_type": "code",
   "execution_count": 90,
   "metadata": {},
   "outputs": [],
   "source": [
    "manual_scores.append({\n",
    "    \"difficulty\": \"easy\",\n",
    "    \"type\": \"worldbuilding\",\n",
    "    \"question\": question,\n",
    "    \"base_model\": 2,\n",
    "    \"ollama3.1:8b\": 2,\n",
    "    \"wikiRAG\": 2\n",
    "})"
   ]
  },
  {
   "cell_type": "code",
   "execution_count": 91,
   "metadata": {},
   "outputs": [],
   "source": [
    "question = \"What is the name of the prison complex Cassian Andor is sent to in Andor?\""
   ]
  },
  {
   "cell_type": "code",
   "execution_count": 92,
   "metadata": {},
   "outputs": [
    {
     "name": "stdout",
     "output_type": "stream",
     "text": [
      "In the series \"Andor\", Cassian Andor is sent to the Ryloth maximum-security prison complex, also known as New Batali.\n"
     ]
    }
   ],
   "source": [
    "print(base_model.invoke(question).content)"
   ]
  },
  {
   "cell_type": "code",
   "execution_count": 93,
   "metadata": {},
   "outputs": [
    {
     "name": "stdout",
     "output_type": "stream",
     "text": [
      "Unfortunately, I don’t know what the name of the prison complex that Cassian Andor is sent to in Andor.\n"
     ]
    }
   ],
   "source": [
    "print(ollama31_8b.invoke(question).content)"
   ]
  },
  {
   "cell_type": "code",
   "execution_count": 94,
   "metadata": {},
   "outputs": [
    {
     "name": "stdout",
     "output_type": "stream",
     "text": [
      "The prison complex where Cassian Andor is sent, according to the text, is called Jabba's Hut Jedi Preschool.\n"
     ]
    }
   ],
   "source": [
    "print(basic_wikirag.query(question).content)"
   ]
  },
  {
   "cell_type": "code",
   "execution_count": 95,
   "metadata": {},
   "outputs": [],
   "source": [
    "manual_scores.append({\n",
    "    \"difficulty\": \"medium\",\n",
    "    \"type\": \"worldbuilding\",\n",
    "    \"question\": question,\n",
    "    \"base_model\": -2,\n",
    "    \"ollama3.1:8b\": -2,\n",
    "    \"wikiRAG\": -2\n",
    "})"
   ]
  },
  {
   "cell_type": "code",
   "execution_count": 96,
   "metadata": {},
   "outputs": [],
   "source": [
    "question = \"Who directed The Empire Strikes Back?\""
   ]
  },
  {
   "cell_type": "code",
   "execution_count": 97,
   "metadata": {},
   "outputs": [
    {
     "name": "stdout",
     "output_type": "stream",
     "text": [
      "The Empire Strikes Back (1980) was directed by Irvin Kershner.\n"
     ]
    }
   ],
   "source": [
    "print(base_model.invoke(question).content)"
   ]
  },
  {
   "cell_type": "code",
   "execution_count": 98,
   "metadata": {},
   "outputs": [
    {
     "name": "stdout",
     "output_type": "stream",
     "text": [
      "Irvin Kershner directed The Empire Strikes Back (1980), which is the second film in the original Star Wars trilogy.\n"
     ]
    }
   ],
   "source": [
    "print(ollama31_8b.invoke(question).content)"
   ]
  },
  {
   "cell_type": "code",
   "execution_count": 99,
   "metadata": {},
   "outputs": [
    {
     "name": "stdout",
     "output_type": "stream",
     "text": [
      "George Lucas directed The Empire Strikes Back.\n"
     ]
    }
   ],
   "source": [
    "print(basic_wikirag.query(question).content)"
   ]
  },
  {
   "cell_type": "code",
   "execution_count": 100,
   "metadata": {},
   "outputs": [],
   "source": [
    "manual_scores.append({\n",
    "    \"difficulty\": \"easy\",\n",
    "    \"type\": \"reallife\",\n",
    "    \"question\": question,\n",
    "    \"base_model\": 2,\n",
    "    \"ollama3.1:8b\": 2,\n",
    "    \"wikiRAG\": -2\n",
    "})"
   ]
  },
  {
   "cell_type": "code",
   "execution_count": 101,
   "metadata": {},
   "outputs": [],
   "source": [
    "question = \"What was the name of the groundbreaking visual effects company founded to work on Star Wars in 1975?\""
   ]
  },
  {
   "cell_type": "code",
   "execution_count": 102,
   "metadata": {},
   "outputs": [
    {
     "name": "stdout",
     "output_type": "stream",
     "text": [
      "The groundbreaking visual effects company founded by George Lucas and Gary Rydstrom, working on the original Star Wars film, was called Industrial Light & Magic (ILM). It was established in 1975.\n"
     ]
    }
   ],
   "source": [
    "print(base_model.invoke(question).content)"
   ]
  },
  {
   "cell_type": "code",
   "execution_count": 103,
   "metadata": {},
   "outputs": [
    {
     "name": "stdout",
     "output_type": "stream",
     "text": [
      "The answer is Industrial Light & Magic (ILM). Founded in 1975 by George Lucas and Walter Murch, ILM was established specifically to create the special visual effects for the original Star Wars film. The company has since become one of the most renowned and respected visual effects studios in the world, having worked on numerous iconic films including the Star Wars franchise, Indiana Jones, Harry Potter, and many more.\n",
      "\n",
      "ILM's groundbreaking work on Star Wars helped set a new standard for visual effects in cinema, and its innovations continue to influence the industry today.\n"
     ]
    }
   ],
   "source": [
    "print(ollama31_8b.invoke(question).content)"
   ]
  },
  {
   "cell_type": "code",
   "execution_count": 104,
   "metadata": {},
   "outputs": [
    {
     "name": "stdout",
     "output_type": "stream",
     "text": [
      "The text appears to be a summary or description of the movie \"Star Wars\" (Episode IV - A New Order)\n"
     ]
    }
   ],
   "source": [
    "print(basic_wikirag.query(question).content)"
   ]
  },
  {
   "cell_type": "code",
   "execution_count": 105,
   "metadata": {},
   "outputs": [],
   "source": [
    "manual_scores.append({\n",
    "    \"difficulty\": \"medium\",\n",
    "    \"type\": \"reallife\",\n",
    "    \"question\": question,\n",
    "    \"base_model\": 2,\n",
    "    \"ollama3.1:8b\": 2,\n",
    "    \"wikiRAG\": -2\n",
    "})"
   ]
  },
  {
   "cell_type": "code",
   "execution_count": 106,
   "metadata": {},
   "outputs": [],
   "source": [
    "question = \"How did The Mandalorian utilize \\\"StageCraft\\\" technology to revolutionize production techniques?\""
   ]
  },
  {
   "cell_type": "code",
   "execution_count": 107,
   "metadata": {},
   "outputs": [
    {
     "name": "stdout",
     "output_type": "stream",
     "text": [
      "I'm not aware of any information about the Mandalorian utilizing \"stagecraft\" technology. However, I can provide some general insights on how stagecraft is being used in filmmaking and television production.\n",
      "\n",
      "Stagecraft refers to the art and practice of creating sets, designing spaces, and building complex environments for film and television productions. It involves a range of skills, including set design, prop making, lighting and sound, and special effects.\n",
      "\n",
      "In recent years, there has been a growing trend towards using advanced technologies such as 3D printing, virtual reality (VR), and augmented reality (AR) to enhance the production process for stagecraft. These technologies allow for more complex and detailed designs, reduced set construction time, and increased efficiency in the build-up phase.\n",
      "\n",
      "The Mandalorian, which is produced by Disney and Jon Favreau, does feature a range of innovative set pieces and visual effects. While I couldn't find any information on the specific use of stagecraft technology, it's likely that the show's production team has employed some form of 3D printing or other digital fabrication techniques to create its unique environments.\n",
      "\n",
      "For example, in the season one finale episode \"Chapter 16\", the Mandalorian's armor is shown to be crafted using a combination of traditional craftsmanship and advanced 3D printing technology. This allowed for precise control over the design and construction of the armor, as well as reduced production time.\n",
      "\n",
      "It's worth noting that the use of stagecraft technology in The Mandalorian is likely to have enabled the show's creators to produce a more immersive and detailed environment for the story to take place in, which can be an effective way to enhance the viewing experience.\n"
     ]
    }
   ],
   "source": [
    "print(base_model.invoke(question).content)"
   ]
  },
  {
   "cell_type": "code",
   "execution_count": 108,
   "metadata": {},
   "outputs": [
    {
     "name": "stdout",
     "output_type": "stream",
     "text": [
      "The Mandalorian, a live-action Star Wars series, made headlines in 2020 for its innovative use of \"Volume\" or \"StageCraft\" technology. This pioneering approach has transformed the way visual effects are created and incorporated into productions.\n",
      "\n",
      "Here's how The Mandalorian utilized StageCraft to revolutionize production techniques:\n",
      "\n",
      "**What is StageCraft?**\n",
      "\n",
      "StageCraft refers to a massive LED volume, essentially a giant digital backdrop that uses hundreds of thousands of individual LEDs to create immersive environments. This cutting-edge technology allows filmmakers to seamlessly blend practical sets with virtual extensions and effects.\n",
      "\n",
      "**How was it used in The Mandalorian?**\n",
      "\n",
      "The Mandalorian's showrunners and visual effects team worked closely with StageCraft developer, Ingenuity Machines, to integrate this innovative technology into their production process. They created a massive 20-foot tall by 40-foot wide LED volume on the studio lot in Los Angeles.\n",
      "\n",
      "This enormous set was designed to mimic various Star Wars environments, including desert landscapes, forests, and even outer space scenes. The Mandalorian's actors performed within this vast digital backdrop, interacting with virtual characters and settings that were projected onto the LED screens.\n",
      "\n",
      "**Key benefits:**\n",
      "\n",
      "The use of StageCraft technology brought numerous advantages:\n",
      "\n",
      "1.  **Improved efficiency:** By filming on a single set, rather than relying on location shoots or elaborate sets, production time was significantly reduced.\n",
      "2.  **Increased realism:** The seamless integration of digital and practical elements created more immersive environments for the actors to perform in.\n",
      "3.  **Enhanced safety:** Actors could move through complex scenes without risking injuries from stunts or environmental hazards.\n",
      "\n",
      "**Revolutionizing production techniques:**\n",
      "\n",
      "The Mandalorian's use of StageCraft has paved the way for a new generation of productions to adopt similar technologies:\n",
      "\n",
      "1.  **Expansion into virtual production:** This approach will likely become increasingly common in the film and television industry, enabling creators to experiment with innovative storytelling methods.\n",
      "2.  **Virtualization of sets:** With the potential to recreate any environment digitally, filmmakers can focus on more complex scenes and reduce physical set construction costs.\n",
      "\n",
      "The Mandalorian's success demonstrates how embracing emerging technologies can revolutionize production techniques and inspire new creative possibilities in filmmaking and television production.\n",
      "\n",
      "**Sources:**\n",
      "\n",
      "*   \"How The Mandalorian Used A Revolutionary New Filming Technique to Bring Star Wars to Life\" by [Variety](https://variety.com/2020/tv/news/the-mandalorian-stage-craft-filming-technique-1234754459/)\n",
      "*   \"The Mandalorian's Innovative Use of StageCraft Technology\" by [Forbes](https://www.forbes.com/sites/forbestalent/2020/11/22/the-mandalorian-stagecraft/?sh=4b2d3e13652a)\n",
      "*   \"How The Mandalorian's 'Volume' Is Changing the Way TV Shows Are Made\" by [The Hollywood Reporter](https://www.hollywoodreporter.com/news/movies-features/how-mandalorians-volume-changing-tv-shows-made/)\n"
     ]
    }
   ],
   "source": [
    "print(ollama31_8b.invoke(question).content)"
   ]
  },
  {
   "cell_type": "code",
   "execution_count": 109,
   "metadata": {},
   "outputs": [
    {
     "name": "stdout",
     "output_type": "stream",
     "text": [
      "The Mandalorian utilized various technologies and practices known as \"StageCraft\" to revolutionize production techniques, but the most notable example is their use of green screen and CGI (Computer-Generated Imagery) in creating the show's visuals.\n",
      "\n",
      "Green screening involves replacing live-action footage with a digital image or video. In The Mandalorian, this was achieved by shooting scenes on film stock and then digitally replacing the live-action parts with the desired backgrounds or environments. This allowed for precise control over the final product and enabled the show to create complex sets, characters, and action sequences that would be difficult or impossible to achieve in real life.\n",
      "\n",
      "The use of CGI enabled The Mandalorian's creators to add depth and detail to their environments, characters, and effects, creating a more immersive viewing experience. Additionally, the show's innovative use of green screen allowed for greater flexibility when it came to storytelling and character development, enabling the writers and directors to create complex and dynamic narratives.\n",
      "\n",
      "The Mandalorian also made extensive use of practical effects, such as miniatures, models, and pyrotechnics, which added to the show's overall visual style and helped to create a sense of realism. However, these techniques were often combined with digital tools and software to achieve the desired effect.\n",
      "\n",
      "Overall, The Mandalorian's use of StageCraft technology allowed the creators to push the boundaries of what was possible in television production, resulting in a visually stunning and engaging series that has captivated audiences worldwide.\n"
     ]
    }
   ],
   "source": [
    "print(basic_wikirag.query(question).content)"
   ]
  },
  {
   "cell_type": "code",
   "execution_count": 110,
   "metadata": {},
   "outputs": [],
   "source": [
    "manual_scores.append({\n",
    "    \"difficulty\": \"hard\",\n",
    "    \"type\": \"reallife\",\n",
    "    \"question\": question,\n",
    "    \"base_model\": 0,\n",
    "    \"ollama3.1:8b\": 2,\n",
    "    \"wikiRAG\": 0\n",
    "})"
   ]
  },
  {
   "cell_type": "code",
   "execution_count": 111,
   "metadata": {},
   "outputs": [],
   "source": [
    "question = \"Which actress played Princess Leia Organa in the original trilogy?\""
   ]
  },
  {
   "cell_type": "code",
   "execution_count": 112,
   "metadata": {},
   "outputs": [
    {
     "name": "stdout",
     "output_type": "stream",
     "text": [
      " Carrie Fisher played Princess Leia Organa in the original Star Wars trilogy.\n"
     ]
    }
   ],
   "source": [
    "print(base_model.invoke(question).content)"
   ]
  },
  {
   "cell_type": "code",
   "execution_count": 113,
   "metadata": {},
   "outputs": [
    {
     "name": "stdout",
     "output_type": "stream",
     "text": [
      "The actress who played Princess Leia Organa in the original Star Wars trilogy (Episodes IV-VI) was Carrie Fisher. She portrayed the iconic character in \"A New Hope\" (1977), \"The Empire Strikes Back\" (1980), and \"Return of the Jedi\" (1983).\n"
     ]
    }
   ],
   "source": [
    "print(ollama31_8b.invoke(question).content)"
   ]
  },
  {
   "cell_type": "code",
   "execution_count": 114,
   "metadata": {},
   "outputs": [
    {
     "name": "stdout",
     "output_type": "stream",
     "text": [
      "According to the text, Carrie Fisher played Princess Leia Organa in the original Star Wars trilogy (Episodes IV-VI). She was cast at the age of 19.\n"
     ]
    }
   ],
   "source": [
    "print(basic_wikirag.query(question).content)"
   ]
  },
  {
   "cell_type": "code",
   "execution_count": 116,
   "metadata": {},
   "outputs": [],
   "source": [
    "manual_scores.append({\n",
    "    \"difficulty\": \"easy\",\n",
    "    \"type\": \"reallife\",\n",
    "    \"question\": question,\n",
    "    \"base_model\": 1,\n",
    "    \"ollama3.1:8b\": 2,\n",
    "    \"wikiRAG\": 2\n",
    "})"
   ]
  },
  {
   "cell_type": "code",
   "execution_count": 117,
   "metadata": {},
   "outputs": [],
   "source": [
    "question = \"What was the fan response to the introduction of midichlorians in The Phantom Menace?\""
   ]
  },
  {
   "cell_type": "code",
   "execution_count": 118,
   "metadata": {},
   "outputs": [
    {
     "name": "stdout",
     "output_type": "stream",
     "text": [
      "The introduction of midichlorians in The Phantom Menace (1999) received a significant amount of attention and criticism from fans. Many fans were skeptical about the idea that plants and other organisms could have microscopic, invisible entities called \"midichlorians\" that allowed them to interact with the Force.\n",
      "\n",
      "Fans felt that this concept was unrealistic and contradicted the traditional understanding of the Force as an energy field created by all living things. The idea that a small, invisible organism like midichlorian was necessary for a plant or creature to tap into the Force was seen as far-fetched and overly complex.\n",
      "\n",
      "Additionally, some fans pointed out that if plants could have midichlorians, then it would mean that other organisms with similar characteristics, such as bacteria, fungi, and even animals, would also be able to interact with the Force. This led to widespread criticism and skepticism about the idea of midichlorians.\n",
      "\n",
      "However, others defended the concept, pointing out that the Jedi and Sith were not just human beings, but also included other species, including the Gungans, who had a similar connection to the Force. They argued that the presence of midichlorians in non-human organisms was not necessarily a contradiction to the traditional understanding of the Force.\n",
      "\n",
      "Despite the initial criticism, the concept of midichlorians has since been revisited and expanded upon in other Star Wars media, such as The Clone Wars (2008) animated series. However, the initial reaction to their introduction in The Phantom Menace remains one of the most memorable and discussed moments in the film's history.\n"
     ]
    }
   ],
   "source": [
    "print(base_model.invoke(question).content)"
   ]
  },
  {
   "cell_type": "code",
   "execution_count": 119,
   "metadata": {},
   "outputs": [
    {
     "name": "stdout",
     "output_type": "stream",
     "text": [
      "The introduction of midichlorians in The Phantom Menace (1999) received a largely negative response from fans. Midichlorians are microscopic, symbiotic organisms that live within the cells of all living beings and are necessary for a being to be strong in the Force. The idea was introduced by George Lucas as a way to explain how individuals can have different levels of connection to the Force.\n",
      "\n",
      "Many fans felt that the concept of midichlorians undermined the mystical and metaphysical nature of the Star Wars universe, making it seem too scientifically based or logical. Some critics argued that it reduced the Jedi's abilities to purely biological explanations, which went against the spirit of the original trilogy.\n",
      "\n",
      "Fans also felt that this new explanation came at the expense of the mythological and symbolic aspects of the Force, which were a key part of the series' appeal. The introduction of midichlorians was seen as an attempt to rationalize and explain away the mystical elements of Star Wars, rather than leaving them as a mystery.\n",
      "\n",
      "The backlash against midichlorians became so severe that it has become one of the most infamous plot points in the entire Star Wars saga, often cited as an example of how George Lucas's attempts to \"explain\" his universe can alienate fans and detract from the magic of the series.\n"
     ]
    }
   ],
   "source": [
    "print(ollama31_8b.invoke(question).content)"
   ]
  },
  {
   "cell_type": "code",
   "execution_count": 120,
   "metadata": {},
   "outputs": [
    {
     "name": "stdout",
     "output_type": "stream",
     "text": [
      "There is no mention of midichlorians being introduced in The Phantom Menace in this text. However, there is a reference to them in another section:\n",
      "\n",
      "\"Because of concerns over potential copyright and trademark issues, however, the contest was initially open only to parodies, mockumentaries, and documentaries. Fan-fiction films set in the Star Wars universe were originally ineligible, but in 2007 Lucasfilm changed the submission standards to allow in-universe fiction entries.\"\n",
      "\n",
      "This implies that midichlorians (not midichlorian) were introduced in The Phantom Menace\n"
     ]
    }
   ],
   "source": [
    "print(basic_wikirag.query(question).content)"
   ]
  },
  {
   "cell_type": "code",
   "execution_count": 121,
   "metadata": {},
   "outputs": [],
   "source": [
    "manual_scores.append({\n",
    "    \"difficulty\": \"medium\",\n",
    "    \"type\": \"reallife\",\n",
    "    \"question\": question,\n",
    "    \"base_model\": 1,\n",
    "    \"ollama3.1:8b\": 2,\n",
    "    \"wikiRAG\": -2\n",
    "})"
   ]
  },
  {
   "cell_type": "code",
   "execution_count": 125,
   "metadata": {},
   "outputs": [],
   "source": [
    "question = \"What was the first Star Wars animated series to be considered part of the official Disney canon after the Lucasfilm acquisition?\""
   ]
  },
  {
   "cell_type": "code",
   "execution_count": 126,
   "metadata": {},
   "outputs": [
    {
     "name": "stdout",
     "output_type": "stream",
     "text": [
      "The first Star Wars animated series to be considered part of the official Disney canon after the Lucasfilm acquisition was \"Star Wars: The Clone Wars\" (2008). It was released in 2008 and consists of four seasons, with a total of 78 episodes. \n",
      "\n",
      "However, another notable one is \"Star Wars Rebels\" (2014-2018), which also falls under the Disney+ era but predates the acquisition.\n",
      "\n",
      "The correct answer would be \"Star Wars: The Clone Wars\", released in 2008.\n"
     ]
    }
   ],
   "source": [
    "print(base_model.invoke(question).content)"
   ]
  },
  {
   "cell_type": "code",
   "execution_count": 127,
   "metadata": {},
   "outputs": [
    {
     "name": "stdout",
     "output_type": "stream",
     "text": [
      "The first Star Wars animated series to be considered part of the official Disney canon after the Lucasfilm acquisition was Star Wars Rebels (2014-2018). However, it's worth noting that while Rebels was a key series in the development of the Disney canon, some events and characters from earlier animated series like The Clone Wars (2008-2020) were also retroactively integrated into the canon.\n",
      "\n",
      "If we're looking for a more specific answer, the first Star Wars animated series to be explicitly stated as part of the Disney canon was Rebels. It was followed by other animated series such as Star Wars Resistance (2018-2020).\n"
     ]
    }
   ],
   "source": [
    "print(ollama31_8b.invoke(question).content)"
   ]
  },
  {
   "cell_type": "code",
   "execution_count": 128,
   "metadata": {},
   "outputs": [
    {
     "name": "stdout",
     "output_type": "stream",
     "text": [
      "The question mentions two websites at StarWars.com, but they are not mentioned in the provided text. However, I can tell you that according to various sources, including The Verge and IGN, \"Rangers of the New Republic\" (also known as \"Rangers\") was one of the first animated series considered part of the official Disney canon after Lucasfilm's acquisition.\n",
      "\n",
      "However, since it doesn't exist anymore, another possibility could be \"Obi-Wan Kenobi\". It is a live-action television series that premiered on Disney+ and received generally positive reviews from critics.\n"
     ]
    }
   ],
   "source": [
    "print(basic_wikirag.query(question).content)"
   ]
  },
  {
   "cell_type": "code",
   "execution_count": 129,
   "metadata": {},
   "outputs": [],
   "source": [
    "manual_scores.append({\n",
    "    \"difficulty\": \"hard\",\n",
    "    \"type\": \"trivia\",\n",
    "    \"question\": question,\n",
    "    \"base_model\": 2,\n",
    "    \"ollama3.1:8b\": 2,\n",
    "    \"wikiRAG\": -2\n",
    "})"
   ]
  },
  {
   "cell_type": "code",
   "execution_count": 130,
   "metadata": {},
   "outputs": [],
   "source": [
    "question = \"Which Star Wars video game series, featuring a customizable Jedi character, is set during the Old Republic era?\""
   ]
  },
  {
   "cell_type": "code",
   "execution_count": 131,
   "metadata": {},
   "outputs": [
    {
     "name": "stdout",
     "output_type": "stream",
     "text": [
      "The Star Wars: Knights of the Old Republic (KOTOR) video game series features a customizable Jedi character and is set during the Old Republic era.\n"
     ]
    }
   ],
   "source": [
    "print(base_model.invoke(question).content)"
   ]
  },
  {
   "cell_type": "code",
   "execution_count": 133,
   "metadata": {},
   "outputs": [
    {
     "name": "stdout",
     "output_type": "stream",
     "text": [
      "The Star Wars video game series you're referring to is \"Star Wars: The Old Republic\". It's an MMORPG (Massively Multiplayer Online Role-Playing Game) developed by BioWare and published by Electronic Arts. The game is set thousands of years before the events of the original Star Wars trilogy, during the ancient Galactic Republic era.\n",
      "\n",
      "In \"The Old Republic\", you can play as a variety of character classes, including Jedi Knight and Jedi Consular (Jedi Sentinel), with a customizable character that will explore the galaxy and interact with key figures in the Star Wars universe.\n"
     ]
    }
   ],
   "source": [
    "print(ollama31_8b.invoke(question).content)"
   ]
  },
  {
   "cell_type": "code",
   "execution_count": 134,
   "metadata": {},
   "outputs": [
    {
     "name": "stdout",
     "output_type": "stream",
     "text": [
      "The article appears to be discussing the Star Wars video game \"Star Wars: The Clone Wars Adventures\", which was released for mobile devices (iOS and Android), as well as console systems. The game did have to EA Vancouver, that they left Ragtag's staff to EA.\n",
      "\n",
      "In 2018 a new version of the game took over the project, with EA at EA Vancouver retooling Star Wars Battlefront II's developers, the time Visceral was not making progress on the title; EA took over more assets for Battlefront I as well.\n"
     ]
    }
   ],
   "source": [
    "print(basic_wikirag.query(question).content)"
   ]
  },
  {
   "cell_type": "code",
   "execution_count": 135,
   "metadata": {},
   "outputs": [],
   "source": [
    "manual_scores.append({\n",
    "    \"difficulty\": \"medium\",\n",
    "    \"type\": \"trivia\",\n",
    "    \"question\": question,\n",
    "    \"base_model\": 2,\n",
    "    \"ollama3.1:8b\": 1,\n",
    "    \"wikiRAG\": -2\n",
    "})"
   ]
  },
  {
   "cell_type": "code",
   "execution_count": 136,
   "metadata": {},
   "outputs": [],
   "source": [
    "question = \"What is the title of the first movie in the Skywalker Saga?\""
   ]
  },
  {
   "cell_type": "code",
   "execution_count": 137,
   "metadata": {},
   "outputs": [
    {
     "name": "stdout",
     "output_type": "stream",
     "text": [
      "The first movie in the Skywalker Saga is \"Star Wars: Episode IV - A New Hope\".\n"
     ]
    }
   ],
   "source": [
    "print(base_model.invoke(question).content)"
   ]
  },
  {
   "cell_type": "code",
   "execution_count": 138,
   "metadata": {},
   "outputs": [
    {
     "name": "stdout",
     "output_type": "stream",
     "text": [
      "The title of the first movie in the Skywalker Saga, which is also known as the Star Wars saga, is:\n",
      "\n",
      "Episode I: The Phantom Menace (1999)\n",
      "\n",
      "This film introduces us to Anakin Skywalker, a young slave boy who becomes the central character in the saga. However, if you're thinking of the traditional narrative and not including the prequels, then the first movie would be:\n",
      "\n",
      "Star Wars: Episode IV - A New Hope (1977), also known simply as Star Wars.\n",
      "\n",
      "Let me know which one you were referring to!\n"
     ]
    }
   ],
   "source": [
    "print(ollama31_8b.invoke(question).content)"
   ]
  },
  {
   "cell_type": "code",
   "execution_count": 139,
   "metadata": {},
   "outputs": [
    {
     "name": "stdout",
     "output_type": "stream",
     "text": [
      "The title of the first movie in the Skywalker Saga is \"Star Wars: Episode IV - A New Hope\".\n"
     ]
    }
   ],
   "source": [
    "print(basic_wikirag.query(question).content)"
   ]
  },
  {
   "cell_type": "code",
   "execution_count": 140,
   "metadata": {},
   "outputs": [],
   "source": [
    "manual_scores.append({\n",
    "    \"difficulty\": \"easy\",\n",
    "    \"type\": \"trivia\",\n",
    "    \"question\": question,\n",
    "    \"base_model\": 1,\n",
    "    \"ollama3.1:8b\": 2,\n",
    "    \"wikiRAG\": 1\n",
    "})"
   ]
  },
  {
   "cell_type": "code",
   "execution_count": 141,
   "metadata": {},
   "outputs": [],
   "source": [
    "question = \"Which Star Wars Disney+ series introduced the character of Grogu, often referred to as \\\"Baby Yoda\\\"?\""
   ]
  },
  {
   "cell_type": "code",
   "execution_count": 142,
   "metadata": {},
   "outputs": [
    {
     "name": "stdout",
     "output_type": "stream",
     "text": [
      "The Star Wars Disney+ series that introduced the character of Grogu, also known as \"Baby Yoda,\" is \"The Book of Boba Fett.\"\n"
     ]
    }
   ],
   "source": [
    "print(base_model.invoke(question).content)"
   ]
  },
  {
   "cell_type": "code",
   "execution_count": 143,
   "metadata": {},
   "outputs": [
    {
     "name": "stdout",
     "output_type": "stream",
     "text": [
      "The Star Wars Disney+ series that introduced the character of Grogu, often referred to as \"Baby Yoda,\" is \"The Mandalorian.\" Grogu first appeared in the show's first episode, which premiered on November 12, 2019.\n"
     ]
    }
   ],
   "source": [
    "print(ollama31_8b.invoke(question).content)"
   ]
  },
  {
   "cell_type": "code",
   "execution_count": 144,
   "metadata": {},
   "outputs": [
    {
     "name": "stdout",
     "output_type": "stream",
     "text": [
      "The Star Wars Disney+ series that introduced the character of Grogu (also referred to as \"Baby Yoda\") is The Mandalorian.\n"
     ]
    }
   ],
   "source": [
    "print(basic_wikirag.query(question).content)"
   ]
  },
  {
   "cell_type": "code",
   "execution_count": 145,
   "metadata": {},
   "outputs": [],
   "source": [
    "manual_scores.append({\n",
    "    \"difficulty\": \"medium\",\n",
    "    \"type\": \"trivia\",\n",
    "    \"question\": question,\n",
    "    \"base_model\": 1,\n",
    "    \"ollama3.1:8b\": 2,\n",
    "    \"wikiRAG\": 2\n",
    "})"
   ]
  },
  {
   "cell_type": "code",
   "execution_count": 151,
   "metadata": {},
   "outputs": [],
   "source": [
    "question = \"What key event marks the transition between the High Republic era and the events leading into the prequel trilogy?\""
   ]
  },
  {
   "cell_type": "code",
   "execution_count": 152,
   "metadata": {},
   "outputs": [
    {
     "name": "stdout",
     "output_type": "stream",
     "text": [
      "The key event that marks the transition between the High Republic era and the events leading into the prequel trilogy is the Battle of Felucia.\n"
     ]
    }
   ],
   "source": [
    "print(base_model.invoke(question).content)"
   ]
  },
  {
   "cell_type": "code",
   "execution_count": 153,
   "metadata": {},
   "outputs": [
    {
     "name": "stdout",
     "output_type": "stream",
     "text": [
      "Unfortunately, I do not have any information on this.\n"
     ]
    }
   ],
   "source": [
    "print(ollama31_8b.invoke(question).content)"
   ]
  },
  {
   "cell_type": "code",
   "execution_count": 154,
   "metadata": {},
   "outputs": [
    {
     "name": "stdout",
     "output_type": "stream",
     "text": [
      "The key event that marks the transition from the High Republic era to the events leading into the prequel trilogy, according to the provided context and information, is the release of \"Solo: A Star Wars Story.\" This movie, released in 2018, sets a stage for the events described as happening during the time between the High Republic era and the prequel trilogy.\n"
     ]
    }
   ],
   "source": [
    "print(basic_wikirag.query(question).content)"
   ]
  },
  {
   "cell_type": "code",
   "execution_count": 156,
   "metadata": {},
   "outputs": [
    {
     "data": {
      "text/plain": [
       "21"
      ]
     },
     "execution_count": 156,
     "metadata": {},
     "output_type": "execute_result"
    }
   ],
   "source": [
    "len(manual_scores)"
   ]
  },
  {
   "cell_type": "code",
   "execution_count": 173,
   "metadata": {},
   "outputs": [],
   "source": [
    "manual_scores.append({\n",
    "    \"difficulty\": \"hard\",\n",
    "    \"type\": \"trivia\",\n",
    "    \"question\": question,\n",
    "    \"base_model\": -2,\n",
    "    \"ollama3.1:8b\": -2,\n",
    "    \"wikiRAG\": -2\n",
    "})"
   ]
  },
  {
   "cell_type": "code",
   "execution_count": 174,
   "metadata": {},
   "outputs": [],
   "source": [
    "import pandas as pd"
   ]
  },
  {
   "cell_type": "code",
   "execution_count": 176,
   "metadata": {},
   "outputs": [],
   "source": [
    "pd.DataFrame(manual_scores).to_csv(\"questioninig_results.csv\")"
   ]
  },
  {
   "cell_type": "code",
   "execution_count": 180,
   "metadata": {},
   "outputs": [],
   "source": [
    "df = pd.DataFrame(manual_scores)"
   ]
  },
  {
   "cell_type": "code",
   "execution_count": 182,
   "metadata": {},
   "outputs": [
    {
     "data": {
      "text/plain": [
       "base_model      0.50\n",
       "ollama3.1:8b    1.25\n",
       "wikiRAG        -0.55\n",
       "dtype: float64"
      ]
     },
     "execution_count": 182,
     "metadata": {},
     "output_type": "execute_result"
    }
   ],
   "source": [
    "df[['base_model', 'ollama3.1:8b', 'wikiRAG']].mean()"
   ]
  }
 ],
 "metadata": {
  "kernelspec": {
   "display_name": "base",
   "language": "python",
   "name": "python3"
  },
  "language_info": {
   "codemirror_mode": {
    "name": "ipython",
    "version": 3
   },
   "file_extension": ".py",
   "mimetype": "text/x-python",
   "name": "python",
   "nbconvert_exporter": "python",
   "pygments_lexer": "ipython3",
   "version": "3.12.3"
  }
 },
 "nbformat": 4,
 "nbformat_minor": 2
}

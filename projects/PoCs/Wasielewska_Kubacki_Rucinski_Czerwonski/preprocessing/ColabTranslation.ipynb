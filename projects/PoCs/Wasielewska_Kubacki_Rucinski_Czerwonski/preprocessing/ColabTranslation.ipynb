{
  "nbformat": 4,
  "nbformat_minor": 0,
  "metadata": {
    "colab": {
      "provenance": [],
      "gpuType": "T4"
    },
    "kernelspec": {
      "name": "python3",
      "display_name": "Python 3"
    },
    "language_info": {
      "name": "python"
    },
    "accelerator": "GPU"
  },
  "cells": [
    {
      "cell_type": "code",
      "execution_count": null,
      "metadata": {
        "id": "p6gj-QHVPzTo"
      },
      "outputs": [],
      "source": [
        "# Import libraries\n",
        "import os\n",
        "import json\n",
        "import time\n",
        "from transformers import MarianMTModel, MarianTokenizer\n",
        "import torch\n",
        "import shutil\n",
        "from google.colab import drive"
      ]
    },
    {
      "cell_type": "code",
      "source": [
        "!pip install sacremoses"
      ],
      "metadata": {
        "id": "p48m7VIsQFTh"
      },
      "execution_count": null,
      "outputs": []
    },
    {
      "cell_type": "code",
      "source": [
        "drive.mount('/content/drive')"
      ],
      "metadata": {
        "colab": {
          "base_uri": "https://localhost:8080/"
        },
        "id": "BjWaCK0fQArE",
        "outputId": "d82c5b83-3c33-41e4-c91b-b34291b47ecf"
      },
      "execution_count": null,
      "outputs": [
        {
          "output_type": "stream",
          "name": "stdout",
          "text": [
            "Mounted at /content/drive\n"
          ]
        }
      ]
    },
    {
      "cell_type": "code",
      "source": [
        "model_name = \"Helsinki-NLP/opus-mt-pl-en\"\n",
        "tokenizer = MarianTokenizer.from_pretrained(model_name)\n",
        "model = MarianMTModel.from_pretrained(model_name)\n",
        "\n",
        "device = torch.device(\"cuda\" if torch.cuda.is_available() else \"cpu\")\n",
        "print(\"device:\", device)\n",
        "model.to(device)"
      ],
      "metadata": {
        "id": "JPIeugHeQZWk"
      },
      "execution_count": null,
      "outputs": []
    },
    {
      "cell_type": "code",
      "source": [
        "def get_shorter_json_file(subfolder_path):\n",
        "    json_files = [file for file in os.listdir(subfolder_path) if file.endswith('.json')]\n",
        "    if not json_files:\n",
        "        return None\n",
        "    # Sort files by length of their names and return the shortest one\n",
        "    json_files.sort(key=len)\n",
        "    return json_files[0]\n",
        "\n",
        "def translate_text(text):\n",
        "    \"\"\"\n",
        "    Translate a given text from Polish to English.\n",
        "    \"\"\"\n",
        "    inputs = tokenizer(text, return_tensors=\"pt\", truncation=True).to(device) #, padding=True\n",
        "    #print(len(inputs))\n",
        "    #print(inputs)\n",
        "    with torch.no_grad():\n",
        "      outputs = model.generate(**inputs, early_stopping=True)#, num_beams=5, repetition_penalty=1.2)\n",
        "    #print(len(outputs))\n",
        "    #print(outputs)\n",
        "    translated_text = [tokenizer.decode(t, skip_special_tokens=True) for t in outputs]\n",
        "    return translated_text[0]\n",
        "\n",
        "def translate_folder(folder_path):\n",
        "    # Start processing files\n",
        "    start_time = time.time()\n",
        "\n",
        "    # List all JSON files in the input folder\n",
        "\n",
        "    folder_names = os.listdir(folder_path)\n",
        "    idx = 0\n",
        "    for subfolder in folder_names:\n",
        "        idx += 1\n",
        "        subfolder_path = os.path.join(folder_path, subfolder)\n",
        "        if os.path.isdir(subfolder_path):\n",
        "            # Get the JSON file with the shorter name\n",
        "            shorter_json_file = get_shorter_json_file(subfolder_path)\n",
        "            if shorter_json_file:\n",
        "                file_path = os.path.join(subfolder_path, shorter_json_file)\n",
        "                output_path = os.path.join(subfolder_path, f\"{subfolder}_translated.json\")\n",
        "\n",
        "                # Read the input JSON file\n",
        "                with open(file_path, \"r\", encoding=\"utf-8\") as file:\n",
        "                    data = json.load(file)\n",
        "\n",
        "                # Count the number of messages\n",
        "                num_messages = len(data.get(\"messages\", []))\n",
        "                print(f\"({idx}/{len(folder_names)}) Processing file: {shorter_json_file} with {num_messages} messages\")\n",
        "\n",
        "                # Translate messages\n",
        "                for message in data.get(\"messages\", []):\n",
        "                    if \"content\" in message:\n",
        "                        original_text = message[\"content\"]\n",
        "                        translated_text = translate_text(original_text)\n",
        "                        message[\"content_translated\"] = translated_text\n",
        "\n",
        "                # Save the translated messages to a new JSON file\n",
        "                with open(output_path, \"w\", encoding=\"utf-8\") as outfile:\n",
        "                    json.dump(data, outfile, indent=4, ensure_ascii=True)\n",
        "\n",
        "                print(f\"Translated file saved as '{subfolder}_translated.json'\")\n",
        "\n",
        "            # Calculate total execution time\n",
        "            end_time = time.time()\n",
        "            execution_time = end_time - start_time\n",
        "\n",
        "            print(f\"\\nTranslation of all files completed in {execution_time:.2f} seconds.\")"
      ],
      "metadata": {
        "id": "EZc9oObzQN-N"
      },
      "execution_count": null,
      "outputs": []
    },
    {
      "cell_type": "code",
      "source": [
        "def translate_folder_drive(source_folder, destination_folder):\n",
        "  # Check if the source folder exists\n",
        "  if os.path.exists(source_folder):\n",
        "    shutil.copytree(source_folder, \"/content/for_translation\")\n",
        "  else:\n",
        "    print(f\"Source folder '{source_folder}' not found in your Google Drive.\")\n",
        "\n",
        "  translate_folder(\"/content/for_translation\")\n",
        "  shutil.copytree(\"/content/for_translation\", destination_folder)"
      ],
      "metadata": {
        "id": "a6xUsnEDgKRx"
      },
      "execution_count": null,
      "outputs": []
    },
    {
      "cell_type": "code",
      "source": [
        "source_folder = ''\n",
        "destination_folder = ''\n",
        "translate_folder_drive(source_folder, destination_folder)"
      ],
      "metadata": {
        "id": "ryOJrXc1hddl"
      },
      "execution_count": null,
      "outputs": []
    }
  ]
}
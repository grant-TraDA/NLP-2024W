{
 "cells": [
  {
   "cell_type": "code",
   "execution_count": 1,
   "metadata": {},
   "outputs": [],
   "source": [
    "import warnings\n",
    "warnings.filterwarnings(\"ignore\")"
   ]
  },
  {
   "cell_type": "code",
   "execution_count": 2,
   "metadata": {},
   "outputs": [
    {
     "name": "stdout",
     "output_type": "stream",
     "text": [
      "LLM is explicitly disabled. Using MockLLM.\n"
     ]
    }
   ],
   "source": [
    "from vector_store import FaissVS\n",
    "from pdf_utils import post_load_process_pdf\n",
    "\n",
    "# Create and populate Vector Store\n",
    "faiss_vs = FaissVS()\n",
    "faiss_vs.create_vector_store(post_load_process_pdf(\"nlp_data.pkl\"), \"vector_store\")"
   ]
  },
  {
   "cell_type": "code",
   "execution_count": 3,
   "metadata": {},
   "outputs": [
    {
     "name": "stderr",
     "output_type": "stream",
     "text": [
      "Loading checkpoint shards: 100%|██████████| 4/4 [00:31<00:00,  7.77s/it]\n"
     ]
    },
    {
     "name": "stdout",
     "output_type": "stream",
     "text": [
      "LLM is explicitly disabled. Using MockLLM.\n"
     ]
    }
   ],
   "source": [
    "from inference import MINI\n",
    "from IPython.display import Markdown\n",
    "\n",
    "# Initialize RAG and change the k-similarity parameter\n",
    "mini = MINI()\n",
    "mini.change_k_similarity(1)"
   ]
  },
  {
   "cell_type": "code",
   "execution_count": 4,
   "metadata": {},
   "outputs": [],
   "source": [
    "# function to display the response\n",
    "def printAll(response):\n",
    "    excerpt = response[1][0]['excerpt']\n",
    "    file_name = response[1][0]['file_name']\n",
    "    page_number = response[1][0]['page_label']\n",
    "    score = response[1][0]['score']\n",
    "    display(Markdown(f'### Response: {response[0]}'))\n",
    "    display(Markdown(f'### Excerpt: {excerpt}'))\n",
    "    display(Markdown(f'### File name: {file_name}'))\n",
    "    display(Markdown(f'### Page number: {page_number}'))\n",
    "    display(Markdown(f'### Score: {score}'))"
   ]
  },
  {
   "cell_type": "code",
   "execution_count": 5,
   "metadata": {},
   "outputs": [],
   "source": [
    "questions = ['who is Jan Łukasiewicz?', 'How BA algorithm works?',\n",
    "             'Describe first normal form for database table.',\n",
    "             'What is the drop out method?']"
   ]
  },
  {
   "cell_type": "code",
   "execution_count": 6,
   "metadata": {},
   "outputs": [
    {
     "name": "stderr",
     "output_type": "stream",
     "text": [
      "The attention mask and the pad token id were not set. As a consequence, you may observe unexpected behavior. Please pass your input's `attention_mask` to obtain reliable results.\n",
      "Setting `pad_token_id` to `eos_token_id`:128001 for open-end generation.\n",
      "The attention mask is not set and cannot be inferred from input because pad token is same as eos token. As a consequence, you may observe unexpected behavior. Please pass your input's `attention_mask` to obtain reliable results.\n",
      "The attention mask and the pad token id were not set. As a consequence, you may observe unexpected behavior. Please pass your input's `attention_mask` to obtain reliable results.\n",
      "Setting `pad_token_id` to `eos_token_id`:128001 for open-end generation.\n",
      "The attention mask and the pad token id were not set. As a consequence, you may observe unexpected behavior. Please pass your input's `attention_mask` to obtain reliable results.\n",
      "Setting `pad_token_id` to `eos_token_id`:128001 for open-end generation.\n",
      "The attention mask and the pad token id were not set. As a consequence, you may observe unexpected behavior. Please pass your input's `attention_mask` to obtain reliable results.\n",
      "Setting `pad_token_id` to `eos_token_id`:128001 for open-end generation.\n"
     ]
    }
   ],
   "source": [
    "# Query the MINI model with the questions\n",
    "responses = []\n",
    "for question in questions:\n",
    "    responses.append(mini.query(question))"
   ]
  },
  {
   "cell_type": "code",
   "execution_count": 7,
   "metadata": {},
   "outputs": [
    {
     "data": {
      "text/markdown": [
       "### Question: who is Jan Łukasiewicz?"
      ],
      "text/plain": [
       "<IPython.core.display.Markdown object>"
      ]
     },
     "metadata": {},
     "output_type": "display_data"
    },
    {
     "data": {
      "text/markdown": [
       "### Response: ''\n",
       "\n",
       "\n",
       "RESPONSE:\n",
       "Jan Łukasiewicz is Prof. dr hab., and his biography is described in the given excerpt. According to the text, he was a professor at the University of Warsaw from 1920 to 1939, then worked at the Warsaw Underground University during World War II, and later emigrated to Ireland where he worked at University College Dublin (UCD). He passed away on February 13th, 1956."
      ],
      "text/plain": [
       "<IPython.core.display.Markdown object>"
      ]
     },
     "metadata": {},
     "output_type": "display_data"
    },
    {
     "data": {
      "text/markdown": [
       "### Excerpt: Prof. dr hab. Jan Łukasiewicz – biography (cont.)\n",
       "From 1920 till 1939 he was a professor at the University of\n",
       "Warsaw.\n",
       "At the beginning of World War II he worked at the Warsaw\n",
       "Underground University.\n",
       "Following the Second World War, he emigrated to Ireland and\n",
       "worked at University College Dublin (UCD)\n",
       "He died 13.02.1956.\n",
       "dr A. M. Radzikowska\n",
       "Lecture 1: Basic concepts\n",
       "11 / 33"
      ],
      "text/plain": [
       "<IPython.core.display.Markdown object>"
      ]
     },
     "metadata": {},
     "output_type": "display_data"
    },
    {
     "data": {
      "text/markdown": [
       "### File name: FR__01.pdf"
      ],
      "text/plain": [
       "<IPython.core.display.Markdown object>"
      ]
     },
     "metadata": {},
     "output_type": "display_data"
    },
    {
     "data": {
      "text/markdown": [
       "### Page number: 41"
      ],
      "text/plain": [
       "<IPython.core.display.Markdown object>"
      ]
     },
     "metadata": {},
     "output_type": "display_data"
    },
    {
     "data": {
      "text/markdown": [
       "### Score: 0.330"
      ],
      "text/plain": [
       "<IPython.core.display.Markdown object>"
      ]
     },
     "metadata": {},
     "output_type": "display_data"
    },
    {
     "data": {
      "text/markdown": [
       "---"
      ],
      "text/plain": [
       "<IPython.core.display.Markdown object>"
      ]
     },
     "metadata": {},
     "output_type": "display_data"
    },
    {
     "data": {
      "text/markdown": [
       "### Question: How BA algorithm works?"
      ],
      "text/plain": [
       "<IPython.core.display.Markdown object>"
      ]
     },
     "metadata": {},
     "output_type": "display_data"
    },
    {
     "data": {
      "text/markdown": [
       "### Response: ''\n",
       "\n",
       "\n",
       "RESPONSE:\n",
       "\n",
       "The BA (Barabasi-Albert) algorithm is described as follows:\n",
       "\n",
       "* Initially, a complete graph with at least one vertex (m0 ≥ 1) is created.\n",
       "* At each subsequent time step, a new vertex is added to the graph, along with no more than m0 edges, according to the preferential attachment rule Π(ki) ∝ ki.\n",
       "* The process terminates at any given time step t = N.\n",
       "\n",
       "This algorithm simulates the growth of complex networks by iteratively adding new nodes and edges based on the existing network structure. The preferential attachment rule favors nodes with higher degrees, which leads to the emergence of hubs and a scale-free degree distribution."
      ],
      "text/plain": [
       "<IPython.core.display.Markdown object>"
      ]
     },
     "metadata": {},
     "output_type": "display_data"
    },
    {
     "data": {
      "text/markdown": [
       "### Excerpt: BA Algorithm – description\n",
       "• At t = 0 we start with complete graph with m0 ⩾1 vertices.\n",
       "• At every of the consecutive time steps we add new vertex with\n",
       "m ⩽m0 edges according to preferential attachment rule\n",
       "Π(ki) ∝ki.\n",
       "• The procedure ends at any time t = N.\n",
       "MASZ\n",
       "6"
      ],
      "text/plain": [
       "<IPython.core.display.Markdown object>"
      ]
     },
     "metadata": {},
     "output_type": "display_data"
    },
    {
     "data": {
      "text/markdown": [
       "### File name: SNARS_L6.pdf"
      ],
      "text/plain": [
       "<IPython.core.display.Markdown object>"
      ]
     },
     "metadata": {},
     "output_type": "display_data"
    },
    {
     "data": {
      "text/markdown": [
       "### Page number: 17"
      ],
      "text/plain": [
       "<IPython.core.display.Markdown object>"
      ]
     },
     "metadata": {},
     "output_type": "display_data"
    },
    {
     "data": {
      "text/markdown": [
       "### Score: 0.285"
      ],
      "text/plain": [
       "<IPython.core.display.Markdown object>"
      ]
     },
     "metadata": {},
     "output_type": "display_data"
    },
    {
     "data": {
      "text/markdown": [
       "---"
      ],
      "text/plain": [
       "<IPython.core.display.Markdown object>"
      ]
     },
     "metadata": {},
     "output_type": "display_data"
    },
    {
     "data": {
      "text/markdown": [
       "### Question: Describe first normal form for database table."
      ],
      "text/plain": [
       "<IPython.core.display.Markdown object>"
      ]
     },
     "metadata": {},
     "output_type": "display_data"
    },
    {
     "data": {
      "text/markdown": [
       "### Response:  What are the conditions to meet?\n",
       "\n",
       "        RESPONSE:\n",
       "\n",
       "First Normal Form (1NF) is a fundamental concept in relational databases. According to Maciej Grzenda's definition, a database table is said to be in 1NF if it meets two essential conditions:\n",
       "\n",
       "1. **Primary Key**: The table must have a primary key, which uniquely identifies each record or row in the table.\n",
       "2. **No Repeating"
      ],
      "text/plain": [
       "<IPython.core.display.Markdown object>"
      ]
     },
     "metadata": {},
     "output_type": "display_data"
    },
    {
     "data": {
      "text/markdown": [
       "### Excerpt: Maciej Grzenda\n",
       "Normalisation – 1NF\n",
       "• First normal form (pierwsza postać normalna) –\n",
       "1NF:\n",
       "– The entity is in 1NF when it is a relation, thus the key \n",
       "conditions to meet are:\n",
       "• A primary key has to be present in the table and has to be \n",
       "identified\n",
       "• No repeating attributes can be present i.e. non atomic values \n",
       "have to be eliminated.\n",
       "This means that:\n",
       "1.\n",
       "In case a non-atomic value is a list of features of a record, multiple \n",
       "columns have to be created out of one column\n",
       "2.\n",
       "In case a non-atomic value is a list of other entities related to a record \n",
       "such as a list of rooms present in a building record, a new table has to \n",
       "be developed"
      ],
      "text/plain": [
       "<IPython.core.display.Markdown object>"
      ]
     },
     "metadata": {},
     "output_type": "display_data"
    },
    {
     "data": {
      "text/markdown": [
       "### File name: w2_relational_databases.pdf"
      ],
      "text/plain": [
       "<IPython.core.display.Markdown object>"
      ]
     },
     "metadata": {},
     "output_type": "display_data"
    },
    {
     "data": {
      "text/markdown": [
       "### Page number: 18"
      ],
      "text/plain": [
       "<IPython.core.display.Markdown object>"
      ]
     },
     "metadata": {},
     "output_type": "display_data"
    },
    {
     "data": {
      "text/markdown": [
       "### Score: 0.283"
      ],
      "text/plain": [
       "<IPython.core.display.Markdown object>"
      ]
     },
     "metadata": {},
     "output_type": "display_data"
    },
    {
     "data": {
      "text/markdown": [
       "---"
      ],
      "text/plain": [
       "<IPython.core.display.Markdown object>"
      ]
     },
     "metadata": {},
     "output_type": "display_data"
    },
    {
     "data": {
      "text/markdown": [
       "### Question: What is the drop out method?"
      ],
      "text/plain": [
       "<IPython.core.display.Markdown object>"
      ]
     },
     "metadata": {},
     "output_type": "display_data"
    },
    {
     "data": {
      "text/markdown": [
       "### Response:  \n",
       "        ANSWER: Dropout trains an ensemble of subnetworks that can be constructed by removing non-output units from original base network. It regularizes hidden units to be features that are good in any context."
      ],
      "text/plain": [
       "<IPython.core.display.Markdown object>"
      ]
     },
     "metadata": {},
     "output_type": "display_data"
    },
    {
     "data": {
      "text/markdown": [
       "### Excerpt: Information Sensitivity: General\\External\n",
       "Regularization & Optimization for Deep Learning – Dominik Lewy\n",
       "Dropout – summary\n",
       "Dropout trains an ensemble of subnetworks that can\n",
       "be constructed by removing nonoutput units from\n",
       "original base network.\n",
       "Dropout regularizes hidden units to be features that\n",
       "are good in any context.\n",
       "Things to watch out for:\n",
       "•\n",
       "No paths connecting input with output after\n",
       "applying dropout (probability of this happening is\n",
       "negligible in a network large enough)\n",
       "•\n",
       "Dropout reduces the effective capacity of a model\n",
       "Empirical tips:\n",
       "•\n",
       "The standard is to set dropout probability at 0.2 for\n",
       "input neurons and 0.5 for hidden neurons\n",
       "https://www.deeplearningbook.org/contents/regularization.html"
      ],
      "text/plain": [
       "<IPython.core.display.Markdown object>"
      ]
     },
     "metadata": {},
     "output_type": "display_data"
    },
    {
     "data": {
      "text/markdown": [
       "### File name: w4_CNN-lecture_2a.pdf"
      ],
      "text/plain": [
       "<IPython.core.display.Markdown object>"
      ]
     },
     "metadata": {},
     "output_type": "display_data"
    },
    {
     "data": {
      "text/markdown": [
       "### Page number: 29"
      ],
      "text/plain": [
       "<IPython.core.display.Markdown object>"
      ]
     },
     "metadata": {},
     "output_type": "display_data"
    },
    {
     "data": {
      "text/markdown": [
       "### Score: 0.381"
      ],
      "text/plain": [
       "<IPython.core.display.Markdown object>"
      ]
     },
     "metadata": {},
     "output_type": "display_data"
    },
    {
     "data": {
      "text/markdown": [
       "---"
      ],
      "text/plain": [
       "<IPython.core.display.Markdown object>"
      ]
     },
     "metadata": {},
     "output_type": "display_data"
    }
   ],
   "source": [
    "for response, question in zip(responses, questions):\n",
    "    display(Markdown(f'### Question: {question}'))\n",
    "    printAll(response)\n",
    "    display(Markdown('---'))"
   ]
  }
 ],
 "metadata": {
  "kernelspec": {
   "display_name": "NLP",
   "language": "python",
   "name": "python3"
  },
  "language_info": {
   "codemirror_mode": {
    "name": "ipython",
    "version": 3
   },
   "file_extension": ".py",
   "mimetype": "text/x-python",
   "name": "python",
   "nbconvert_exporter": "python",
   "pygments_lexer": "ipython3",
   "version": "3.11.10"
  }
 },
 "nbformat": 4,
 "nbformat_minor": 2
}

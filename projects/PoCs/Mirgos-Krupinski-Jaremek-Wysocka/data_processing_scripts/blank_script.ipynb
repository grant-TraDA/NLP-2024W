{
 "cells": [
  {
   "cell_type": "code",
   "execution_count": 1,
   "metadata": {},
   "outputs": [],
   "source": [
    "import os\n",
    "from pathlib import Path\n",
    "import random\n",
    "import re\n",
    "from typing import List, Tuple\n",
    "\n",
    "def create_blank(text: str, blank_ratio: float = 0.3) -> Tuple[str, List[str]]:\n",
    "    words = text.split()\n",
    "    num_blanks = int(len(words) * blank_ratio)\n",
    "    indices = random.sample(range(len(words)), num_blanks)\n",
    "    blanked_words = []\n",
    "    \n",
    "    for i in indices:\n",
    "        blanked_words.append(words[i])\n",
    "        words[i] = '_' * len(words[i])\n",
    "    \n",
    "    return ' '.join(words), blanked_words\n",
    "\n",
    "def process_files(input_dir: str, output_dir: str):\n",
    "    blanks_dir = Path(output_dir) / 'blanks'\n",
    "    solutions_dir = Path(output_dir) / 'solutions'\n",
    "    \n",
    "    for dir_path in [blanks_dir, solutions_dir]:\n",
    "        dir_path.mkdir(parents=True, exist_ok=True)\n",
    "    \n",
    "    for file_path in Path(input_dir).glob('*.txt'):\n",
    "        text = file_path.read_text()\n",
    "        blanked_text, solutions = create_blank(text)\n",
    "        \n",
    "        (blanks_dir / f\"{file_path.stem}_blanks.txt\").write_text(blanked_text)\n",
    "        (solutions_dir / f\"{file_path.stem}_solutions.txt\").write_text('\\n'.join(solutions))\n",
    "\n",
    "if __name__ == \"__main__\":\n",
    "    process_files('../rawdata', './blanks')"
   ]
  }
 ],
 "metadata": {
  "kernelspec": {
   "display_name": "venv",
   "language": "python",
   "name": "python3"
  },
  "language_info": {
   "codemirror_mode": {
    "name": "ipython",
    "version": 3
   },
   "file_extension": ".py",
   "mimetype": "text/x-python",
   "name": "python",
   "nbconvert_exporter": "python",
   "pygments_lexer": "ipython3",
   "version": "3.10.5"
  }
 },
 "nbformat": 4,
 "nbformat_minor": 2
}

{
 "cells": [
  {
   "cell_type": "code",
   "execution_count": 1,
   "metadata": {},
   "outputs": [
    {
     "name": "stderr",
     "output_type": "stream",
     "text": [
      "c:\\Program Files\\Python312\\Lib\\site-packages\\tqdm\\auto.py:21: TqdmWarning: IProgress not found. Please update jupyter and ipywidgets. See https://ipywidgets.readthedocs.io/en/stable/user_install.html\n",
      "  from .autonotebook import tqdm as notebook_tqdm\n"
     ]
    }
   ],
   "source": [
    "from transformers import pipeline, Pipeline\n"
   ]
  },
  {
   "cell_type": "code",
   "execution_count": 2,
   "metadata": {},
   "outputs": [],
   "source": [
    "def load_text(file_path: str) -> str:\n",
    "    with open(file_path, \"r\", encoding=\"utf-8\") as file:\n",
    "        return file.read()\n",
    "\n",
    "\n",
    "def load_questions(file_path: str) -> list[str]:\n",
    "    with open(file_path, \"r\", encoding=\"utf-8\") as file:\n",
    "        return [line.strip() for line in file.readlines() if line.strip() != \"\"]\n",
    "\n",
    "\n",
    "def ask_questions(context: str, questions: list[str], model_pipeline: Pipeline) -> dict[str, str]:\n",
    "    answers = {}\n",
    "    for question in questions:\n",
    "        print(\"Question:\", question)\n",
    "        answer = model_pipeline(question=question, context=context)\n",
    "        print(\"Answer:\", answer[\"answer\"])\n",
    "        answers[question] = answer[\"answer\"]\n",
    "    return answers\n"
   ]
  },
  {
   "cell_type": "code",
   "execution_count": 3,
   "metadata": {},
   "outputs": [],
   "source": [
    "text_file = \"pan-tadeusz.txt\"\n",
    "questions_file = \"questions.txt\"\n",
    "\n",
    "context = load_text(text_file)\n",
    "questions = load_questions(questions_file)\n"
   ]
  },
  {
   "cell_type": "code",
   "execution_count": null,
   "metadata": {},
   "outputs": [
    {
     "name": "stderr",
     "output_type": "stream",
     "text": [
      "Device set to use cpu\n"
     ]
    },
    {
     "name": "stdout",
     "output_type": "stream",
     "text": [
      "Question: Jakie wydarzenia historyczne stanowią tło fabuły „Pana Tadeusza”?\n",
      "Answer: Weronika Trzeciak\n",
      "Question: Kim był Jacek Soplica i jaka była jego rola w utworze?\n",
      "Answer: Przerwał Konewka — to łotr\n",
      "Question: Jakie znaczenie ma motyw przyrody w „Panu Tadeuszu”?\n",
      "Answer: będziesz sercu memu droższy\n",
      "Question: W jaki sposób Mickiewicz przedstawia konflikt między Soplicami a Horeszkami?\n"
     ]
    }
   ],
   "source": [
    "model_pipeline = pipeline(\"question-answering\", model=\"roberta-large-squad2\")\n",
    "\n",
    "answers = ask_questions(context, questions, model_pipeline)\n"
   ]
  },
  {
   "cell_type": "code",
   "execution_count": null,
   "metadata": {},
   "outputs": [],
   "source": [
    "for question, answer in answers.items():\n",
    "    print(f\"Q: {question}\\nA: {answer}\\n\")\n"
   ]
  }
 ],
 "metadata": {
  "kernelspec": {
   "display_name": "Python 3",
   "language": "python",
   "name": "python3"
  },
  "language_info": {
   "codemirror_mode": {
    "name": "ipython",
    "version": 3
   },
   "file_extension": ".py",
   "mimetype": "text/x-python",
   "name": "python",
   "nbconvert_exporter": "python",
   "pygments_lexer": "ipython3",
   "version": "3.12.3"
  }
 },
 "nbformat": 4,
 "nbformat_minor": 2
}

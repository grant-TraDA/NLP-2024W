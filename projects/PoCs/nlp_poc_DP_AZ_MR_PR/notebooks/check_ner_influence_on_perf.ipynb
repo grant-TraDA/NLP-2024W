{
 "cells": [
  {
   "cell_type": "code",
   "execution_count": 1,
   "metadata": {},
   "outputs": [],
   "source": [
    "import os\n",
    "\n",
    "os.chdir(\"..\")"
   ]
  },
  {
   "cell_type": "code",
   "execution_count": 2,
   "metadata": {},
   "outputs": [
    {
     "name": "stderr",
     "output_type": "stream",
     "text": [
      "/home/zajkoa/projects/studies/msc_2/nlp/.venv/lib/python3.10/site-packages/tqdm/auto.py:21: TqdmWarning: IProgress not found. Please update jupyter and ipywidgets. See https://ipywidgets.readthedocs.io/en/stable/user_install.html\n",
      "  from .autonotebook import tqdm as notebook_tqdm\n"
     ]
    }
   ],
   "source": [
    "import datetime\n",
    "from pathlib import Path\n",
    "\n",
    "import evaluate\n",
    "import numpy as np\n",
    "import pandas as pd\n",
    "from loguru import logger\n",
    "from tqdm.auto import tqdm\n",
    "from transformers import (\n",
    "    AutoConfig,\n",
    "    AutoModelForSequenceClassification,\n",
    "    AutoTokenizer,\n",
    "    Trainer,\n",
    "    TrainingArguments,\n",
    "    EarlyStoppingCallback,\n",
    ")\n",
    "from engine.data import prepare_data_for_fine_tuning\n",
    "from engine.replace_persons import replace_ner\n",
    "\n",
    "tqdm.pandas()"
   ]
  },
  {
   "cell_type": "code",
   "execution_count": 3,
   "metadata": {},
   "outputs": [],
   "source": [
    "DATA_PATH = Path(\"data/isot\")\n",
    "MODEL = \"roberta-base\""
   ]
  },
  {
   "cell_type": "code",
   "execution_count": 4,
   "metadata": {},
   "outputs": [
    {
     "name": "stderr",
     "output_type": "stream",
     "text": [
      "100%|██████████| 31428/31428 [01:53<00:00, 277.13it/s]\n",
      "100%|██████████| 4490/4490 [00:16<00:00, 279.94it/s]\n",
      "100%|██████████| 8980/8980 [00:32<00:00, 276.17it/s]\n"
     ]
    }
   ],
   "source": [
    "train = pd.read_csv(DATA_PATH / \"train.csv\")\n",
    "train[\"text_masked\"] = train[\"text\"].progress_apply(replace_ner)\n",
    "valid = pd.read_csv(DATA_PATH / \"valid.csv\")\n",
    "valid[\"text_masked\"] = valid[\"text\"].progress_apply(replace_ner)\n",
    "test = pd.read_csv(DATA_PATH / \"test.csv\")\n",
    "test[\"text_masked\"] = test[\"text\"].progress_apply(replace_ner)"
   ]
  },
  {
   "cell_type": "code",
   "execution_count": 5,
   "metadata": {},
   "outputs": [],
   "source": [
    "metric = evaluate.load(\"accuracy\")\n",
    "\n",
    "\n",
    "def compute_metrics(eval_pred):\n",
    "    logits, labels = eval_pred\n",
    "    predictions = np.argmax(logits, axis=-1)\n",
    "    return metric.compute(predictions=predictions, references=labels)"
   ]
  },
  {
   "cell_type": "code",
   "execution_count": null,
   "metadata": {},
   "outputs": [
    {
     "name": "stderr",
     "output_type": "stream",
     "text": [
      "Some weights of RobertaForSequenceClassification were not initialized from the model checkpoint at roberta-base and are newly initialized: ['classifier.dense.bias', 'classifier.dense.weight', 'classifier.out_proj.bias', 'classifier.out_proj.weight']\n",
      "You should probably TRAIN this model on a down-stream task to be able to use it for predictions and inference.\n"
     ]
    }
   ],
   "source": [
    "config = AutoConfig.from_pretrained(MODEL)\n",
    "tokenizer = AutoTokenizer.from_pretrained(MODEL)"
   ]
  },
  {
   "cell_type": "code",
   "execution_count": null,
   "metadata": {},
   "outputs": [],
   "source": [
    "def get_metric_of_finetuning(\n",
    "    train_df: pd.DataFrame, valid_df: pd.DataFrame, test_df: pd.DataFrame, seed: int\n",
    "):\n",
    "    print(\"STARTING TRAINING\")\n",
    "    print(datetime.datetime.now().strftime(\"%Y_%m_%d_%H_%M_%S\"))\n",
    "    train_dataset = prepare_data_for_fine_tuning(train_df, tokenizer)\n",
    "    valid_dataset = prepare_data_for_fine_tuning(valid_df, tokenizer)\n",
    "    test_dataset = prepare_data_for_fine_tuning(test_df, tokenizer)\n",
    "    model = AutoModelForSequenceClassification.from_pretrained(MODEL, config=config)\n",
    "    timestamp = datetime.datetime.now().strftime(\"%Y_%m_%d_%H_%M_%S\")\n",
    "    training_args = TrainingArguments(\n",
    "        output_dir=f\"output/{DATA_PATH.stem}/{MODEL}/{timestamp}\",\n",
    "        num_train_epochs=10,\n",
    "        per_device_train_batch_size=16,\n",
    "        per_device_eval_batch_size=128,\n",
    "        eval_strategy=\"epoch\",\n",
    "        logging_strategy=\"steps\",\n",
    "        logging_steps=10,\n",
    "        learning_rate=5e-5,\n",
    "        weight_decay=0.01,\n",
    "        warmup_steps=500,\n",
    "        save_strategy=\"epoch\",\n",
    "        load_best_model_at_end=True,\n",
    "        save_total_limit=2,\n",
    "        report_to=\"tensorboard\",\n",
    "        seed=seed,\n",
    "        greater_is_better=True,\n",
    "        metric_for_best_model=\"eval_accuracy\",\n",
    "    )\n",
    "    trainer = Trainer(\n",
    "        model=model,\n",
    "        args=training_args,\n",
    "        train_dataset=train_dataset,\n",
    "        eval_dataset=valid_dataset,\n",
    "        compute_metrics=compute_metrics,\n",
    "        callbacks=[EarlyStoppingCallback(early_stopping_patience=2, early_stopping_threshold=0.01)],\n",
    "    )\n",
    "    trainer.train()\n",
    "    return trainer.evaluate(test_dataset)[\"eval_accuracy\"]"
   ]
  },
  {
   "cell_type": "code",
   "execution_count": 10,
   "metadata": {},
   "outputs": [
    {
     "name": "stdout",
     "output_type": "stream",
     "text": [
      "STARTING TRAINING\n",
      "2024_12_08_20_49_02\n"
     ]
    },
    {
     "name": "stderr",
     "output_type": "stream",
     "text": [
      "Map: 100%|██████████| 31428/31428 [00:04<00:00, 6561.13 examples/s]\n",
      "Map: 100%|██████████| 4490/4490 [00:00<00:00, 6444.85 examples/s]\n",
      "Map: 100%|██████████| 8980/8980 [00:01<00:00, 5782.03 examples/s]\n"
     ]
    },
    {
     "data": {
      "text/html": [
       "\n",
       "    <div>\n",
       "      \n",
       "      <progress value='5895' max='19650' style='width:300px; height:20px; vertical-align: middle;'></progress>\n",
       "      [ 5895/19650 50:29 < 1:57:51, 1.95 it/s, Epoch 3/10]\n",
       "    </div>\n",
       "    <table border=\"1\" class=\"dataframe\">\n",
       "  <thead>\n",
       " <tr style=\"text-align: left;\">\n",
       "      <th>Epoch</th>\n",
       "      <th>Training Loss</th>\n",
       "      <th>Validation Loss</th>\n",
       "      <th>Accuracy</th>\n",
       "    </tr>\n",
       "  </thead>\n",
       "  <tbody>\n",
       "    <tr>\n",
       "      <td>1</td>\n",
       "      <td>0.000300</td>\n",
       "      <td>0.007595</td>\n",
       "      <td>0.999109</td>\n",
       "    </tr>\n",
       "    <tr>\n",
       "      <td>2</td>\n",
       "      <td>0.000600</td>\n",
       "      <td>0.005290</td>\n",
       "      <td>0.999332</td>\n",
       "    </tr>\n",
       "    <tr>\n",
       "      <td>3</td>\n",
       "      <td>0.000400</td>\n",
       "      <td>0.005472</td>\n",
       "      <td>0.999332</td>\n",
       "    </tr>\n",
       "  </tbody>\n",
       "</table><p>"
      ],
      "text/plain": [
       "<IPython.core.display.HTML object>"
      ]
     },
     "metadata": {},
     "output_type": "display_data"
    },
    {
     "data": {
      "text/html": [
       "\n",
       "    <div>\n",
       "      \n",
       "      <progress value='71' max='71' style='width:300px; height:20px; vertical-align: middle;'></progress>\n",
       "      [71/71 01:18]\n",
       "    </div>\n",
       "    "
      ],
      "text/plain": [
       "<IPython.core.display.HTML object>"
      ]
     },
     "metadata": {},
     "output_type": "display_data"
    },
    {
     "name": "stdout",
     "output_type": "stream",
     "text": [
      "STARTING TRAINING\n",
      "2024_12_08_21_40_59\n"
     ]
    },
    {
     "name": "stderr",
     "output_type": "stream",
     "text": [
      "Map: 100%|██████████| 31428/31428 [00:06<00:00, 5051.88 examples/s]\n",
      "Map: 100%|██████████| 4490/4490 [00:00<00:00, 5317.48 examples/s]\n",
      "Map: 100%|██████████| 8980/8980 [00:04<00:00, 2097.03 examples/s]\n"
     ]
    },
    {
     "data": {
      "text/html": [
       "\n",
       "    <div>\n",
       "      \n",
       "      <progress value='7860' max='19650' style='width:300px; height:20px; vertical-align: middle;'></progress>\n",
       "      [ 7860/19650 1:04:58 < 1:37:28, 2.02 it/s, Epoch 4/10]\n",
       "    </div>\n",
       "    <table border=\"1\" class=\"dataframe\">\n",
       "  <thead>\n",
       " <tr style=\"text-align: left;\">\n",
       "      <th>Epoch</th>\n",
       "      <th>Training Loss</th>\n",
       "      <th>Validation Loss</th>\n",
       "      <th>Accuracy</th>\n",
       "    </tr>\n",
       "  </thead>\n",
       "  <tbody>\n",
       "    <tr>\n",
       "      <td>1</td>\n",
       "      <td>0.063000</td>\n",
       "      <td>0.070213</td>\n",
       "      <td>0.985746</td>\n",
       "    </tr>\n",
       "    <tr>\n",
       "      <td>2</td>\n",
       "      <td>0.000700</td>\n",
       "      <td>0.005692</td>\n",
       "      <td>0.999332</td>\n",
       "    </tr>\n",
       "    <tr>\n",
       "      <td>3</td>\n",
       "      <td>0.000800</td>\n",
       "      <td>0.011313</td>\n",
       "      <td>0.998441</td>\n",
       "    </tr>\n",
       "    <tr>\n",
       "      <td>4</td>\n",
       "      <td>0.042400</td>\n",
       "      <td>0.005104</td>\n",
       "      <td>0.999332</td>\n",
       "    </tr>\n",
       "  </tbody>\n",
       "</table><p>"
      ],
      "text/plain": [
       "<IPython.core.display.HTML object>"
      ]
     },
     "metadata": {},
     "output_type": "display_data"
    },
    {
     "data": {
      "text/html": [
       "\n",
       "    <div>\n",
       "      \n",
       "      <progress value='71' max='71' style='width:300px; height:20px; vertical-align: middle;'></progress>\n",
       "      [71/71 01:15]\n",
       "    </div>\n",
       "    "
      ],
      "text/plain": [
       "<IPython.core.display.HTML object>"
      ]
     },
     "metadata": {},
     "output_type": "display_data"
    },
    {
     "name": "stdout",
     "output_type": "stream",
     "text": [
      "STARTING TRAINING\n",
      "2024_12_08_22_47_28\n"
     ]
    },
    {
     "name": "stderr",
     "output_type": "stream",
     "text": [
      "Map: 100%|██████████| 31428/31428 [00:05<00:00, 5551.60 examples/s]\n",
      "Map: 100%|██████████| 4490/4490 [00:00<00:00, 5584.39 examples/s]\n",
      "Map: 100%|██████████| 8980/8980 [00:01<00:00, 5845.50 examples/s]\n"
     ]
    },
    {
     "data": {
      "text/html": [
       "\n",
       "    <div>\n",
       "      \n",
       "      <progress value='7860' max='19650' style='width:300px; height:20px; vertical-align: middle;'></progress>\n",
       "      [ 7860/19650 1:06:10 < 1:39:17, 1.98 it/s, Epoch 4/10]\n",
       "    </div>\n",
       "    <table border=\"1\" class=\"dataframe\">\n",
       "  <thead>\n",
       " <tr style=\"text-align: left;\">\n",
       "      <th>Epoch</th>\n",
       "      <th>Training Loss</th>\n",
       "      <th>Validation Loss</th>\n",
       "      <th>Accuracy</th>\n",
       "    </tr>\n",
       "  </thead>\n",
       "  <tbody>\n",
       "    <tr>\n",
       "      <td>1</td>\n",
       "      <td>0.695100</td>\n",
       "      <td>0.717313</td>\n",
       "      <td>0.477060</td>\n",
       "    </tr>\n",
       "    <tr>\n",
       "      <td>2</td>\n",
       "      <td>0.698200</td>\n",
       "      <td>0.692624</td>\n",
       "      <td>0.522940</td>\n",
       "    </tr>\n",
       "    <tr>\n",
       "      <td>3</td>\n",
       "      <td>0.630900</td>\n",
       "      <td>0.920664</td>\n",
       "      <td>0.477060</td>\n",
       "    </tr>\n",
       "    <tr>\n",
       "      <td>4</td>\n",
       "      <td>0.573800</td>\n",
       "      <td>0.934932</td>\n",
       "      <td>0.477060</td>\n",
       "    </tr>\n",
       "  </tbody>\n",
       "</table><p>"
      ],
      "text/plain": [
       "<IPython.core.display.HTML object>"
      ]
     },
     "metadata": {},
     "output_type": "display_data"
    },
    {
     "data": {
      "text/html": [
       "\n",
       "    <div>\n",
       "      \n",
       "      <progress value='71' max='71' style='width:300px; height:20px; vertical-align: middle;'></progress>\n",
       "      [71/71 01:16]\n",
       "    </div>\n",
       "    "
      ],
      "text/plain": [
       "<IPython.core.display.HTML object>"
      ]
     },
     "metadata": {},
     "output_type": "display_data"
    },
    {
     "name": "stdout",
     "output_type": "stream",
     "text": [
      "STARTING TRAINING\n",
      "2024_12_08_23_55_06\n"
     ]
    },
    {
     "name": "stderr",
     "output_type": "stream",
     "text": [
      "Map: 100%|██████████| 31428/31428 [00:06<00:00, 4532.54 examples/s]\n",
      "Map: 100%|██████████| 4490/4490 [00:00<00:00, 5368.24 examples/s]\n",
      "Map: 100%|██████████| 8980/8980 [00:01<00:00, 5297.45 examples/s]\n"
     ]
    },
    {
     "data": {
      "text/html": [
       "\n",
       "    <div>\n",
       "      \n",
       "      <progress value='5895' max='19650' style='width:300px; height:20px; vertical-align: middle;'></progress>\n",
       "      [ 5895/19650 47:57 < 1:51:55, 2.05 it/s, Epoch 3/10]\n",
       "    </div>\n",
       "    <table border=\"1\" class=\"dataframe\">\n",
       "  <thead>\n",
       " <tr style=\"text-align: left;\">\n",
       "      <th>Epoch</th>\n",
       "      <th>Training Loss</th>\n",
       "      <th>Validation Loss</th>\n",
       "      <th>Accuracy</th>\n",
       "    </tr>\n",
       "  </thead>\n",
       "  <tbody>\n",
       "    <tr>\n",
       "      <td>1</td>\n",
       "      <td>0.014300</td>\n",
       "      <td>0.130160</td>\n",
       "      <td>0.970601</td>\n",
       "    </tr>\n",
       "    <tr>\n",
       "      <td>2</td>\n",
       "      <td>0.605400</td>\n",
       "      <td>0.857782</td>\n",
       "      <td>0.477060</td>\n",
       "    </tr>\n",
       "    <tr>\n",
       "      <td>3</td>\n",
       "      <td>0.603600</td>\n",
       "      <td>0.968171</td>\n",
       "      <td>0.477060</td>\n",
       "    </tr>\n",
       "  </tbody>\n",
       "</table><p>"
      ],
      "text/plain": [
       "<IPython.core.display.HTML object>"
      ]
     },
     "metadata": {},
     "output_type": "display_data"
    },
    {
     "data": {
      "text/html": [
       "\n",
       "    <div>\n",
       "      \n",
       "      <progress value='71' max='71' style='width:300px; height:20px; vertical-align: middle;'></progress>\n",
       "      [71/71 01:13]\n",
       "    </div>\n",
       "    "
      ],
      "text/plain": [
       "<IPython.core.display.HTML object>"
      ]
     },
     "metadata": {},
     "output_type": "display_data"
    },
    {
     "name": "stdout",
     "output_type": "stream",
     "text": [
      "STARTING TRAINING\n",
      "2024_12_09_00_44_29\n"
     ]
    },
    {
     "name": "stderr",
     "output_type": "stream",
     "text": [
      "Map: 100%|██████████| 31428/31428 [00:05<00:00, 6057.01 examples/s]\n",
      "Map: 100%|██████████| 4490/4490 [00:00<00:00, 6306.21 examples/s]\n",
      "Map: 100%|██████████| 8980/8980 [00:01<00:00, 6617.54 examples/s]\n"
     ]
    },
    {
     "data": {
      "text/html": [
       "\n",
       "    <div>\n",
       "      \n",
       "      <progress value='7860' max='19650' style='width:300px; height:20px; vertical-align: middle;'></progress>\n",
       "      [ 7860/19650 1:02:28 < 1:33:44, 2.10 it/s, Epoch 4/10]\n",
       "    </div>\n",
       "    <table border=\"1\" class=\"dataframe\">\n",
       "  <thead>\n",
       " <tr style=\"text-align: left;\">\n",
       "      <th>Epoch</th>\n",
       "      <th>Training Loss</th>\n",
       "      <th>Validation Loss</th>\n",
       "      <th>Accuracy</th>\n",
       "    </tr>\n",
       "  </thead>\n",
       "  <tbody>\n",
       "    <tr>\n",
       "      <td>1</td>\n",
       "      <td>0.505300</td>\n",
       "      <td>0.474952</td>\n",
       "      <td>0.743875</td>\n",
       "    </tr>\n",
       "    <tr>\n",
       "      <td>2</td>\n",
       "      <td>0.330900</td>\n",
       "      <td>0.326153</td>\n",
       "      <td>0.866147</td>\n",
       "    </tr>\n",
       "    <tr>\n",
       "      <td>3</td>\n",
       "      <td>0.674100</td>\n",
       "      <td>0.856251</td>\n",
       "      <td>0.477060</td>\n",
       "    </tr>\n",
       "    <tr>\n",
       "      <td>4</td>\n",
       "      <td>0.635500</td>\n",
       "      <td>0.859647</td>\n",
       "      <td>0.477060</td>\n",
       "    </tr>\n",
       "  </tbody>\n",
       "</table><p>"
      ],
      "text/plain": [
       "<IPython.core.display.HTML object>"
      ]
     },
     "metadata": {},
     "output_type": "display_data"
    },
    {
     "data": {
      "text/html": [
       "\n",
       "    <div>\n",
       "      \n",
       "      <progress value='71' max='71' style='width:300px; height:20px; vertical-align: middle;'></progress>\n",
       "      [71/71 01:12]\n",
       "    </div>\n",
       "    "
      ],
      "text/plain": [
       "<IPython.core.display.HTML object>"
      ]
     },
     "metadata": {},
     "output_type": "display_data"
    },
    {
     "name": "stdout",
     "output_type": "stream",
     "text": [
      "STARTING TRAINING\n",
      "2024_12_09_01_48_20\n"
     ]
    },
    {
     "name": "stderr",
     "output_type": "stream",
     "text": [
      "Map: 100%|██████████| 31428/31428 [00:05<00:00, 6052.61 examples/s]\n",
      "Map: 100%|██████████| 4490/4490 [00:00<00:00, 6358.37 examples/s]\n",
      "Map: 100%|██████████| 8980/8980 [00:01<00:00, 6383.16 examples/s]\n"
     ]
    },
    {
     "data": {
      "text/html": [
       "\n",
       "    <div>\n",
       "      \n",
       "      <progress value='7860' max='19650' style='width:300px; height:20px; vertical-align: middle;'></progress>\n",
       "      [ 7860/19650 1:02:27 < 1:33:42, 2.10 it/s, Epoch 4/10]\n",
       "    </div>\n",
       "    <table border=\"1\" class=\"dataframe\">\n",
       "  <thead>\n",
       " <tr style=\"text-align: left;\">\n",
       "      <th>Epoch</th>\n",
       "      <th>Training Loss</th>\n",
       "      <th>Validation Loss</th>\n",
       "      <th>Accuracy</th>\n",
       "    </tr>\n",
       "  </thead>\n",
       "  <tbody>\n",
       "    <tr>\n",
       "      <td>1</td>\n",
       "      <td>0.211300</td>\n",
       "      <td>0.195565</td>\n",
       "      <td>0.936971</td>\n",
       "    </tr>\n",
       "    <tr>\n",
       "      <td>2</td>\n",
       "      <td>0.144700</td>\n",
       "      <td>0.151026</td>\n",
       "      <td>0.959020</td>\n",
       "    </tr>\n",
       "    <tr>\n",
       "      <td>3</td>\n",
       "      <td>0.119400</td>\n",
       "      <td>0.123595</td>\n",
       "      <td>0.967929</td>\n",
       "    </tr>\n",
       "    <tr>\n",
       "      <td>4</td>\n",
       "      <td>0.682600</td>\n",
       "      <td>0.778821</td>\n",
       "      <td>0.477060</td>\n",
       "    </tr>\n",
       "  </tbody>\n",
       "</table><p>"
      ],
      "text/plain": [
       "<IPython.core.display.HTML object>"
      ]
     },
     "metadata": {},
     "output_type": "display_data"
    },
    {
     "data": {
      "text/html": [
       "\n",
       "    <div>\n",
       "      \n",
       "      <progress value='71' max='71' style='width:300px; height:20px; vertical-align: middle;'></progress>\n",
       "      [71/71 01:13]\n",
       "    </div>\n",
       "    "
      ],
      "text/plain": [
       "<IPython.core.display.HTML object>"
      ]
     },
     "metadata": {},
     "output_type": "display_data"
    }
   ],
   "source": [
    "basic_accuracies = [get_metric_of_finetuning(train, valid, test, seed=i) for i in range(3)]\n",
    "renaming_mapper = {\"text_masked\": \"text\"}\n",
    "masked_accuracies = [\n",
    "    get_metric_of_finetuning(\n",
    "        train.rename(renaming_mapper),\n",
    "        valid.rename(renaming_mapper),\n",
    "        test.rename(renaming_mapper),\n",
    "        seed=i,\n",
    "    )\n",
    "    for i in range(3)\n",
    "]"
   ]
  },
  {
   "cell_type": "code",
   "execution_count": null,
   "metadata": {},
   "outputs": [
    {
     "name": "stdout",
     "output_type": "stream",
     "text": [
      "[0.9798534798534798, 0.9716117216117216, 0.9844322344322345]\n",
      "[0.9816849816849816, 0.9844322344322345, 0.9798534798534798]\n"
     ]
    }
   ],
   "source": [
    "print(basic_accuracies)\n",
    "print(masked_accuracies)\n",
    "\n",
    "# LIAR\n",
    "# [0.6641509433962264, 0.6515723270440251, 0.650314465408805]\n",
    "# [0.6528301886792452, 0.6528301886792452, 0.6855345911949685]\n",
    "\n",
    "# coaid\n",
    "# [0.9798534798534798, 0.9716117216117216, 0.9844322344322345]\n",
    "# [0.9816849816849816, 0.9844322344322345, 0.9798534798534798]\n",
    "\n",
    "# isot\n",
    "# [0.999332, 0.999332, 0.522940]\n",
    "# [0.970601, 0.866147, 0.967929]"
   ]
  },
  {
   "cell_type": "code",
   "execution_count": 1,
   "metadata": {},
   "outputs": [],
   "source": [
    "import numpy as np"
   ]
  },
  {
   "cell_type": "code",
   "execution_count": null,
   "metadata": {},
   "outputs": [
    {
     "name": "stdout",
     "output_type": "stream",
     "text": [
      "LIAR unmasked = 0.655, 0.006\n",
      "LIAR masked = 0.664, 0.015\n",
      "COAID unmasked = 0.979, 0.005\n",
      "COAID masked = 0.982, 0.002\n",
      "ISOT unmasked = 0.841, 0.225\n",
      "ISOT masked = 0.935, 0.049\n"
     ]
    }
   ],
   "source": [
    "print(\n",
    "    f\"LIAR unmasked = {np.mean([0.6641509433962264, 0.6515723270440251, 0.650314465408805]):.3f}, {np.std([0.6641509433962264, 0.6515723270440251, 0.650314465408805]):.3f}\"\n",
    ")\n",
    "print(\n",
    "    f\"LIAR masked = {np.mean([0.6528301886792452, 0.6528301886792452, 0.6855345911949685]):.3f}, {np.std([0.6528301886792452, 0.6528301886792452, 0.6855345911949685]):.3f}\"\n",
    ")\n",
    "\n",
    "print(\n",
    "    f\"COAID unmasked = {np.mean([0.9798534798534798, 0.9716117216117216, 0.9844322344322345]):.3f}, {np.std([0.9798534798534798, 0.9716117216117216, 0.9844322344322345]):.3f}\"\n",
    ")\n",
    "print(\n",
    "    f\"COAID masked = {np.mean([0.9816849816849816, 0.9844322344322345, 0.9798534798534798]):.3f}, {np.std([0.9816849816849816, 0.9844322344322345, 0.9798534798534798]):.3f}\"\n",
    ")\n",
    "\n",
    "print(\n",
    "    f\"ISOT unmasked = {np.mean([0.999332, 0.999332, 0.522940]):.3f}, {np.std([0.999332, 0.999332, 0.522940]):.3f}\"\n",
    ")\n",
    "print(\n",
    "    f\"ISOT masked = {np.mean([0.970601, 0.866147, 0.967929]):.3f}, {np.std([0.970601, 0.866147, 0.967929]):.3f}\"\n",
    ")"
   ]
  }
 ],
 "metadata": {
  "kernelspec": {
   "display_name": ".venv",
   "language": "python",
   "name": "python3"
  },
  "language_info": {
   "codemirror_mode": {
    "name": "ipython",
    "version": 3
   },
   "file_extension": ".py",
   "mimetype": "text/x-python",
   "name": "python",
   "nbconvert_exporter": "python",
   "pygments_lexer": "ipython3",
   "version": "3.10.12"
  }
 },
 "nbformat": 4,
 "nbformat_minor": 2
}

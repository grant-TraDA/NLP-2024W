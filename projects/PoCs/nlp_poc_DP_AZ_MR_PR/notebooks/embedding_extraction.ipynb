{
 "cells": [
  {
   "cell_type": "code",
   "execution_count": 1,
   "metadata": {},
   "outputs": [],
   "source": [
    "import os\n",
    "\n",
    "os.chdir(\"..\")"
   ]
  },
  {
   "cell_type": "code",
   "execution_count": 2,
   "metadata": {},
   "outputs": [
    {
     "name": "stderr",
     "output_type": "stream",
     "text": [
      "/home/zajkoa/projects/studies/msc_2/nlp/.venv/lib/python3.10/site-packages/tqdm/auto.py:21: TqdmWarning: IProgress not found. Please update jupyter and ipywidgets. See https://ipywidgets.readthedocs.io/en/stable/user_install.html\n",
      "  from .autonotebook import tqdm as notebook_tqdm\n"
     ]
    }
   ],
   "source": [
    "import numpy as np\n",
    "\n",
    "from transformers import (\n",
    "    AutoModelForSequenceClassification,\n",
    "    AutoTokenizer,\n",
    "    AutoConfig,\n",
    ")\n",
    "from engine.embedding_extraction import WordEmbeddingExtractor"
   ]
  },
  {
   "cell_type": "code",
   "execution_count": 3,
   "metadata": {},
   "outputs": [],
   "source": [
    "%%capture\n",
    "MODEL_ID = \"roberta-base\"\n",
    "MODEL_PATH = \"output/2024_10_22_19_56_43/model\"\n",
    "tokenizer = AutoTokenizer.from_pretrained(MODEL_ID)\n",
    "\n",
    "config = AutoConfig.from_pretrained(MODEL_ID)\n",
    "model = AutoModelForSequenceClassification.from_pretrained(\n",
    "    MODEL_PATH, config=config\n",
    ")\n",
    "model.eval()"
   ]
  },
  {
   "cell_type": "code",
   "execution_count": 4,
   "metadata": {},
   "outputs": [],
   "source": [
    "extractor = WordEmbeddingExtractor(tokenizer, model.roberta, 256)"
   ]
  },
  {
   "cell_type": "code",
   "execution_count": 5,
   "metadata": {},
   "outputs": [
    {
     "data": {
      "text/plain": [
       "tensor([[[ 1.6287e-01, -6.0312e-02,  4.0469e-04,  ..., -7.6259e-02,\n",
       "           8.6612e-02,  1.0127e-02],\n",
       "         [-7.8252e-02, -1.0524e-02, -1.4166e-01,  ..., -3.8923e-01,\n",
       "           1.6195e-01, -2.7379e-01],\n",
       "         [-2.1023e-02,  1.9297e-01,  4.7446e-01,  ...,  4.1523e-02,\n",
       "          -4.6847e-01,  4.3858e-02],\n",
       "         ...,\n",
       "         [ 1.6340e-01,  1.2798e-01, -2.7758e-01,  ..., -8.8658e-02,\n",
       "           1.6507e-01, -4.1027e-01],\n",
       "         [ 1.6340e-01,  1.2798e-01, -2.7758e-01,  ..., -8.8658e-02,\n",
       "           1.6507e-01, -4.1027e-01],\n",
       "         [ 1.6340e-01,  1.2798e-01, -2.7758e-01,  ..., -8.8658e-02,\n",
       "           1.6507e-01, -4.1027e-01]]], grad_fn=<NativeLayerNormBackward0>)"
      ]
     },
     "execution_count": 5,
     "metadata": {},
     "output_type": "execute_result"
    }
   ],
   "source": [
    "extractor(\"shit got real\")"
   ]
  },
  {
   "cell_type": "code",
   "execution_count": 6,
   "metadata": {},
   "outputs": [
    {
     "data": {
      "text/plain": [
       "[tensor([[[ 1.6287e-01, -6.0312e-02,  4.0469e-04,  ..., -7.6259e-02,\n",
       "            8.6612e-02,  1.0127e-02],\n",
       "          [-7.8252e-02, -1.0524e-02, -1.4166e-01,  ..., -3.8923e-01,\n",
       "            1.6195e-01, -2.7379e-01],\n",
       "          [-2.1023e-02,  1.9297e-01,  4.7446e-01,  ...,  4.1523e-02,\n",
       "           -4.6847e-01,  4.3858e-02],\n",
       "          ...,\n",
       "          [ 1.6340e-01,  1.2798e-01, -2.7758e-01,  ..., -8.8658e-02,\n",
       "            1.6507e-01, -4.1027e-01],\n",
       "          [ 1.6340e-01,  1.2798e-01, -2.7758e-01,  ..., -8.8658e-02,\n",
       "            1.6507e-01, -4.1027e-01],\n",
       "          [ 1.6340e-01,  1.2798e-01, -2.7758e-01,  ..., -8.8658e-02,\n",
       "            1.6507e-01, -4.1027e-01]]], grad_fn=<NativeLayerNormBackward0>),\n",
       " tensor([[[ 1.6287e-01, -6.0312e-02,  4.0469e-04,  ..., -7.6259e-02,\n",
       "            8.6612e-02,  1.0127e-02],\n",
       "          [-7.8252e-02, -1.0524e-02, -1.4166e-01,  ..., -3.8923e-01,\n",
       "            1.6195e-01, -2.7379e-01],\n",
       "          [-2.1023e-02,  1.9297e-01,  4.7446e-01,  ...,  4.1523e-02,\n",
       "           -4.6847e-01,  4.3858e-02],\n",
       "          ...,\n",
       "          [ 1.6340e-01,  1.2798e-01, -2.7758e-01,  ..., -8.8658e-02,\n",
       "            1.6507e-01, -4.1027e-01],\n",
       "          [ 1.6340e-01,  1.2798e-01, -2.7758e-01,  ..., -8.8658e-02,\n",
       "            1.6507e-01, -4.1027e-01],\n",
       "          [ 1.6340e-01,  1.2798e-01, -2.7758e-01,  ..., -8.8658e-02,\n",
       "            1.6507e-01, -4.1027e-01]]], grad_fn=<NativeLayerNormBackward0>)]"
      ]
     },
     "execution_count": 6,
     "metadata": {},
     "output_type": "execute_result"
    }
   ],
   "source": [
    "extractor([\"shit got real\", \"shit got really real\"])"
   ]
  }
 ],
 "metadata": {
  "kernelspec": {
   "display_name": ".venv",
   "language": "python",
   "name": "python3"
  },
  "language_info": {
   "codemirror_mode": {
    "name": "ipython",
    "version": 3
   },
   "file_extension": ".py",
   "mimetype": "text/x-python",
   "name": "python",
   "nbconvert_exporter": "python",
   "pygments_lexer": "ipython3",
   "version": "3.10.12"
  }
 },
 "nbformat": 4,
 "nbformat_minor": 2
}

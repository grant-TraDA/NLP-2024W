{
 "cells": [
  {
   "cell_type": "code",
   "execution_count": 1,
   "metadata": {},
   "outputs": [
    {
     "name": "stdout",
     "output_type": "stream",
     "text": [
      "Cloning into 'CoAID'...\n",
      "remote: Enumerating objects: 83, done.\u001b[K\n",
      "remote: Counting objects: 100% (83/83), done.\u001b[K\n",
      "remote: Compressing objects: 100% (71/71), done.\u001b[K\n",
      "remote: Total 83 (delta 23), reused 46 (delta 10), pack-reused 0 (from 0)\u001b[K\n",
      "Receiving objects: 100% (83/83), 3.97 MiB | 8.30 MiB/s, done.\n",
      "Resolving deltas: 100% (23/23), done.\n"
     ]
    }
   ],
   "source": [
    "!git clone https://github.com/cuilimeng/CoAID"
   ]
  },
  {
   "cell_type": "code",
   "execution_count": 9,
   "metadata": {},
   "outputs": [],
   "source": [
    "import pandas as pd\n",
    "from pathlib import Path"
   ]
  },
  {
   "cell_type": "code",
   "execution_count": 7,
   "metadata": {},
   "outputs": [],
   "source": [
    "repo_path = Path(\"CoAID\")\n",
    "fake_paths = list(repo_path.rglob(\"*NewsFakeCOVID-19.csv\"))\n",
    "real_paths = list(repo_path.rglob(\"*NewsRealCOVID-19.csv\"))"
   ]
  },
  {
   "cell_type": "code",
   "execution_count": 26,
   "metadata": {},
   "outputs": [],
   "source": [
    "def read_merged_df(paths: list[Path]) -> pd.DataFrame:\n",
    "    return pd.concat([pd.read_csv(p, index_col=0) for p in paths])[[\"title\"]]"
   ]
  },
  {
   "cell_type": "code",
   "execution_count": 27,
   "metadata": {},
   "outputs": [],
   "source": [
    "real = read_merged_df(real_paths).assign(label=0)\n",
    "fake = read_merged_df(fake_paths).assign(label=1)\n",
    "output_df = pd.concat([real, fake])"
   ]
  },
  {
   "cell_type": "code",
   "execution_count": 38,
   "metadata": {},
   "outputs": [
    {
     "name": "stdout",
     "output_type": "stream",
     "text": [
      "output_df.label.count()=np.int64(5457)\n",
      "output_df.title.isnull().sum()=np.int64(0)\n",
      "output_df.shape=(5457, 2)\n"
     ]
    }
   ],
   "source": [
    "print(f\"{output_df.label.count()=}\")\n",
    "print(f\"{output_df.title.isnull().sum()=}\")\n",
    "print(f\"{output_df.shape=}\")"
   ]
  },
  {
   "cell_type": "code",
   "execution_count": 37,
   "metadata": {},
   "outputs": [],
   "source": [
    "output_df.to_csv(\"../data/raw/coaid.csv\", index=False)"
   ]
  }
 ],
 "metadata": {
  "kernelspec": {
   "display_name": ".venv",
   "language": "python",
   "name": "python3"
  },
  "language_info": {
   "codemirror_mode": {
    "name": "ipython",
    "version": 3
   },
   "file_extension": ".py",
   "mimetype": "text/x-python",
   "name": "python",
   "nbconvert_exporter": "python",
   "pygments_lexer": "ipython3",
   "version": "3.10.12"
  }
 },
 "nbformat": 4,
 "nbformat_minor": 2
}

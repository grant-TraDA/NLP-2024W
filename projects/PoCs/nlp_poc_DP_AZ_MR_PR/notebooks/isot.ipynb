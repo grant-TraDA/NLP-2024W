{
 "cells": [
  {
   "cell_type": "code",
   "execution_count": null,
   "metadata": {},
   "outputs": [
    {
     "name": "stdout",
     "output_type": "stream",
     "text": [
      "  % Total    % Received % Xferd  Average Speed   Time    Time     Time  Current\n",
      "                                 Dload  Upload   Total   Spent    Left  Speed\n",
      "  0     0    0     0    0     0      0      0 --:--:-- --:--:-- --:--:--     0\n",
      "  0 40.9M    0  334k    0     0   218k      0  0:03:11  0:00:01  0:03:10  218k"
     ]
    }
   ],
   "source": [
    "!mkdir isot\n",
    "!curl -L -o isot/isot.zip https://www.kaggle.com/api/v1/datasets/download/emineyetm/fake-news-detection-datasets\n",
    "!unzip -d isot isot.zip\n",
    "!rm isot/isot.zip"
   ]
  },
  {
   "cell_type": "code",
   "execution_count": 1,
   "metadata": {},
   "outputs": [],
   "source": [
    "import pandas as pd"
   ]
  },
  {
   "cell_type": "code",
   "execution_count": 8,
   "metadata": {},
   "outputs": [],
   "source": [
    "fake = pd.read_csv(\"isot/News _dataset/Fake.csv\")[[\"title\"]].assign(label=1)\n",
    "real = pd.read_csv(\"isot/News _dataset/True.csv\")[[\"title\"]].assign(label=0)\n",
    "df = pd.concat([fake, real]).sample(frac=1.0)\n",
    "df.to_csv(\"../data/raw/isot.csv\", index=False)"
   ]
  },
  {
   "cell_type": "code",
   "execution_count": 9,
   "metadata": {},
   "outputs": [
    {
     "name": "stdout",
     "output_type": "stream",
     "text": [
      "df.label.count()=np.int64(44898)\n",
      "df.title.isnull().sum()=np.int64(0)\n",
      "df.shape=(44898, 2)\n"
     ]
    }
   ],
   "source": [
    "print(f\"{df.label.count()=}\")\n",
    "print(f\"{df.title.isnull().sum()=}\")\n",
    "print(f\"{df.shape=}\")"
   ]
  }
 ],
 "metadata": {
  "kernelspec": {
   "display_name": ".venv",
   "language": "python",
   "name": "python3"
  },
  "language_info": {
   "codemirror_mode": {
    "name": "ipython",
    "version": 3
   },
   "file_extension": ".py",
   "mimetype": "text/x-python",
   "name": "python",
   "nbconvert_exporter": "python",
   "pygments_lexer": "ipython3",
   "version": "3.10.12"
  }
 },
 "nbformat": 4,
 "nbformat_minor": 2
}

{
 "cells": [
  {
   "cell_type": "code",
   "execution_count": 11,
   "metadata": {},
   "outputs": [],
   "source": [
    "import numpy as np\n",
    "import pandas as pd\n",
    "from sklearn.decomposition import PCA\n",
    "from sklearn.datasets import fetch_20newsgroups\n",
    "import torch\n",
    "from transformers import RobertaTokenizer, RobertaModel\n",
    "from tqdm import tqdm\n",
    "import torch\n",
    "import umap\n",
    "from sklearn.svm import SVC\n",
    "import tools as tl "
   ]
  },
  {
   "cell_type": "code",
   "execution_count": 12,
   "metadata": {},
   "outputs": [
    {
     "name": "stdout",
     "output_type": "stream",
     "text": [
      "tensor([1.], device='mps:0')\n"
     ]
    }
   ],
   "source": [
    "if torch.backends.mps.is_available():\n",
    "    mps_device = torch.device(\"mps\")\n",
    "    x = torch.ones(1, device=mps_device)\n",
    "    print (x)\n",
    "else:\n",
    "    print (\"MPS device not found.\")"
   ]
  },
  {
   "cell_type": "markdown",
   "metadata": {},
   "source": [
    "### Loading Dataset"
   ]
  },
  {
   "cell_type": "code",
   "execution_count": 13,
   "metadata": {},
   "outputs": [],
   "source": [
    "# Load the 20 newsgroups dataset\n",
    "newsgroups_train = fetch_20newsgroups(subset='train', remove=('headers', 'footers', 'quotes'))\n",
    "newsgroups_test = fetch_20newsgroups(subset='test', remove=('headers', 'footers', 'quotes'))\n",
    "\n",
    "df_train = pd.DataFrame({'text': newsgroups_train.data, 'label': newsgroups_train.target})\n",
    "df_test = pd.DataFrame({'text': newsgroups_test.data, 'label': newsgroups_test.target})\n",
    "\n",
    "df_train['label'] = df_train['label'].map(lambda x: newsgroups_train.target_names[x])\n",
    "df_test['label'] = df_test['label'].map(lambda x: newsgroups_test.target_names[x])\n",
    "\n",
    "# df_train = df_train[df_train['label'].isin(['rec.sport.baseball', 'comp.graphics', 'sci.space', 'talk.religion.misc'])]\n",
    "# df_test = df_test[df_test['label'].isin(['rec.sport.baseball', 'comp.graphics', 'sci.space', 'talk.religion.misc'])]\n"
   ]
  },
  {
   "cell_type": "code",
   "execution_count": 14,
   "metadata": {},
   "outputs": [
    {
     "data": {
      "text/plain": [
       "(11314, 7532)"
      ]
     },
     "execution_count": 14,
     "metadata": {},
     "output_type": "execute_result"
    }
   ],
   "source": [
    "len(df_train), len(df_test)"
   ]
  },
  {
   "cell_type": "code",
   "execution_count": 15,
   "metadata": {},
   "outputs": [
    {
     "data": {
      "text/plain": [
       "(3000, 2000)"
      ]
     },
     "execution_count": 15,
     "metadata": {},
     "output_type": "execute_result"
    }
   ],
   "source": [
    "df_train = df_train.sample(3000)\n",
    "df_test = df_test.sample(2000)\n",
    "len(df_train), len(df_test)"
   ]
  },
  {
   "cell_type": "markdown",
   "metadata": {},
   "source": [
    "### Embedding text"
   ]
  },
  {
   "cell_type": "code",
   "execution_count": 16,
   "metadata": {},
   "outputs": [
    {
     "name": "stdout",
     "output_type": "stream",
     "text": [
      "Generating embeddings...\n"
     ]
    },
    {
     "name": "stderr",
     "output_type": "stream",
     "text": [
      "Generating Embeddings: 100%|██████████| 188/188 [02:44<00:00,  1.14batch/s]\n",
      "Generating Embeddings: 100%|██████████| 125/125 [01:49<00:00,  1.15batch/s]"
     ]
    },
    {
     "name": "stdout",
     "output_type": "stream",
     "text": [
      "Embeddings generated!\n"
     ]
    },
    {
     "name": "stderr",
     "output_type": "stream",
     "text": [
      "\n",
      "/var/folders/87/dhv__9sj0yv1kz0pfv2ds9nh0000gn/T/ipykernel_44068/2852049275.py:9: UserWarning: To copy construct from a tensor, it is recommended to use sourceTensor.clone().detach() or sourceTensor.clone().detach().requires_grad_(True), rather than torch.tensor(sourceTensor).\n",
      "  embeddings_test = torch.tensor(embeddings_test)\n",
      "/var/folders/87/dhv__9sj0yv1kz0pfv2ds9nh0000gn/T/ipykernel_44068/2852049275.py:10: UserWarning: To copy construct from a tensor, it is recommended to use sourceTensor.clone().detach() or sourceTensor.clone().detach().requires_grad_(True), rather than torch.tensor(sourceTensor).\n",
      "  embeddings_train = torch.tensor(embeddings_train)\n"
     ]
    }
   ],
   "source": [
    "# Initialize distilroberta tokenizer and model\n",
    "tokenizer = RobertaTokenizer.from_pretrained('distilroberta-base')\n",
    "model = RobertaModel.from_pretrained('distilroberta-base')\n",
    "# Generate embeddings\n",
    "print(\"Generating embeddings...\")\n",
    "embeddings_train = tl.generate_embeddings(df_train['text'].tolist(), tokenizer, model)\n",
    "embeddings_test = tl.generate_embeddings(df_test['text'].tolist(), tokenizer, model)\n",
    "\n",
    "embeddings_test = torch.tensor(embeddings_test)\n",
    "embeddings_train = torch.tensor(embeddings_train)\n",
    "print(\"Embeddings generated!\")"
   ]
  },
  {
   "cell_type": "markdown",
   "metadata": {},
   "source": [
    "### Reducing Dimenions + training SVM"
   ]
  },
  {
   "cell_type": "code",
   "execution_count": 20,
   "metadata": {},
   "outputs": [
    {
     "name": "stdout",
     "output_type": "stream",
     "text": [
      "Reducing dimensionality...\n",
      "Complete\n"
     ]
    }
   ],
   "source": [
    "print(\"Reducing dimensionality...\")\n",
    "reduction_algo = 'none'\n",
    "reduced_embeddings_train = tl.reduce_dimensionality(embeddings_train, algo=reduction_algo, n_components=50)\n",
    "reduced_embeddings_test = tl.reduce_dimensionality(embeddings_test, algo=reduction_algo, n_components=50)\n",
    "print(\"Complete\")\n",
    "\n",
    "# Fit an SVM model to the reduced embeddings\n",
    "svm_model = SVC(kernel='linear')\n",
    "svm_model.fit(reduced_embeddings_train, df_train['label'])\n",
    "\n",
    "# Predict the labels\n",
    "predicted_labels = svm_model.predict(reduced_embeddings_test)\n",
    "\n",
    "# Add the predicted labels to the dataframe\n",
    "df_test['cluster'] = predicted_labels\n",
    "df_test['embedding'] = reduced_embeddings_test.tolist()\n",
    "\n",
    "df_train['embedding'] = reduced_embeddings_train.tolist()"
   ]
  },
  {
   "cell_type": "markdown",
   "metadata": {},
   "source": [
    "### Evaluation"
   ]
  },
  {
   "cell_type": "code",
   "execution_count": 21,
   "metadata": {},
   "outputs": [
    {
     "name": "stdout",
     "output_type": "stream",
     "text": [
      "Precision: 60.17%\n",
      "Recall: 60.40%\n",
      "F1 Score: 59.99%\n"
     ]
    }
   ],
   "source": [
    "from sklearn.metrics import precision_score, recall_score, f1_score\n",
    "\n",
    "# Calculate precision\n",
    "precision = precision_score(df_test['label'], df_test['cluster'], average='weighted')\n",
    "print(f\"Precision: {precision * 100:.2f}%\")\n",
    "\n",
    "# Calculate recall\n",
    "recall = recall_score(df_test['label'], df_test['cluster'], average='weighted')\n",
    "print(f\"Recall: {recall * 100:.2f}%\")\n",
    "\n",
    "# Calculate F1 score\n",
    "f1 = f1_score(df_test['label'], df_test['cluster'], average='weighted')\n",
    "print(f\"F1 Score: {f1 * 100:.2f}%\")"
   ]
  },
  {
   "cell_type": "code",
   "execution_count": 22,
   "metadata": {},
   "outputs": [
    {
     "name": "stdout",
     "output_type": "stream",
     "text": [
      "Silhouette Score: -0.051964812364198344\n"
     ]
    }
   ],
   "source": [
    "from sklearn.metrics import silhouette_score\n",
    "\n",
    "X = df_train['embedding'].apply(lambda x: np.array(x)).to_list()\n",
    "y = df_train['label']\n",
    "ss = silhouette_score(X, y)\n",
    "print(f\"Silhouette Score: {ss}\")"
   ]
  },
  {
   "cell_type": "markdown",
   "metadata": {},
   "source": [
    "### Test with dim reduction"
   ]
  },
  {
   "cell_type": "code",
   "execution_count": 23,
   "metadata": {},
   "outputs": [
    {
     "name": "stdout",
     "output_type": "stream",
     "text": [
      "Reducing dimensionality...\n"
     ]
    },
    {
     "name": "stderr",
     "output_type": "stream",
     "text": [
      "/Library/Frameworks/Python.framework/Versions/3.12/lib/python3.12/site-packages/sklearn/utils/deprecation.py:151: FutureWarning: 'force_all_finite' was renamed to 'ensure_all_finite' in 1.6 and will be removed in 1.8.\n",
      "  warnings.warn(\n",
      "/Library/Frameworks/Python.framework/Versions/3.12/lib/python3.12/site-packages/sklearn/utils/deprecation.py:151: FutureWarning: 'force_all_finite' was renamed to 'ensure_all_finite' in 1.6 and will be removed in 1.8.\n",
      "  warnings.warn(\n"
     ]
    },
    {
     "name": "stdout",
     "output_type": "stream",
     "text": [
      "Complete\n"
     ]
    }
   ],
   "source": [
    "print(\"Reducing dimensionality...\")\n",
    "reduction_algo = 'umap'\n",
    "reduced_embeddings_train = tl.reduce_dimensionality(embeddings_train, algo=reduction_algo, n_components=50)\n",
    "reduced_embeddings_test = tl.reduce_dimensionality(embeddings_test, algo=reduction_algo, n_components=50)\n",
    "print(\"Complete\")\n",
    "\n",
    "# Fit an SVM model to the reduced embeddings\n",
    "svm_model = SVC(kernel='linear')\n",
    "svm_model.fit(reduced_embeddings_train, df_train['label'])\n",
    "\n",
    "# Predict the labels\n",
    "predicted_labels = svm_model.predict(reduced_embeddings_test)\n",
    "\n",
    "# Add the predicted labels to the dataframe\n",
    "df_test['cluster'] = predicted_labels\n",
    "df_test['embedding'] = reduced_embeddings_test.tolist()\n",
    "\n",
    "df_train['embedding'] = reduced_embeddings_train.tolist()"
   ]
  },
  {
   "cell_type": "code",
   "execution_count": 24,
   "metadata": {},
   "outputs": [
    {
     "name": "stdout",
     "output_type": "stream",
     "text": [
      "Precision: 0.69%\n",
      "Recall: 3.75%\n",
      "F1 Score: 0.99%\n"
     ]
    },
    {
     "name": "stderr",
     "output_type": "stream",
     "text": [
      "/Library/Frameworks/Python.framework/Versions/3.12/lib/python3.12/site-packages/sklearn/metrics/_classification.py:1565: UndefinedMetricWarning: Precision is ill-defined and being set to 0.0 in labels with no predicted samples. Use `zero_division` parameter to control this behavior.\n",
      "  _warn_prf(average, modifier, f\"{metric.capitalize()} is\", len(result))\n"
     ]
    }
   ],
   "source": [
    "from sklearn.metrics import precision_score, recall_score, f1_score\n",
    "\n",
    "# Calculate precision\n",
    "precision = precision_score(df_test['label'], df_test['cluster'], average='weighted')\n",
    "print(f\"Precision: {precision * 100:.2f}%\")\n",
    "\n",
    "# Calculate recall\n",
    "recall = recall_score(df_test['label'], df_test['cluster'], average='weighted')\n",
    "print(f\"Recall: {recall * 100:.2f}%\")\n",
    "\n",
    "# Calculate F1 score\n",
    "f1 = f1_score(df_test['label'], df_test['cluster'], average='weighted')\n",
    "print(f\"F1 Score: {f1 * 100:.2f}%\")"
   ]
  },
  {
   "cell_type": "code",
   "execution_count": null,
   "metadata": {},
   "outputs": [],
   "source": []
  }
 ],
 "metadata": {
  "kernelspec": {
   "display_name": "Python 3",
   "language": "python",
   "name": "python3"
  },
  "language_info": {
   "codemirror_mode": {
    "name": "ipython",
    "version": 3
   },
   "file_extension": ".py",
   "mimetype": "text/x-python",
   "name": "python",
   "nbconvert_exporter": "python",
   "pygments_lexer": "ipython3",
   "version": "3.12.1"
  }
 },
 "nbformat": 4,
 "nbformat_minor": 2
}

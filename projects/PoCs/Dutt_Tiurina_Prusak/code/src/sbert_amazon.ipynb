{
 "cells": [
  {
   "cell_type": "markdown",
   "metadata": {},
   "source": [
    "### SBERT\n",
    "\n",
    "Dataset: \"Amazon Reviews: Musical Instruments\" from https://cseweb.ucsd.edu/~jmcauley/datasets/amazon_v2/"
   ]
  },
  {
   "cell_type": "code",
   "execution_count": 8,
   "metadata": {},
   "outputs": [],
   "source": [
    "import json\n",
    "import pandas as pd\n",
    "from sklearn.cluster import KMeans\n",
    "from sklearn.decomposition import PCA\n",
    "import torch\n",
    "from transformers import RobertaTokenizer, RobertaModel\n",
    "import tools as tl\n",
    "import numpy as np"
   ]
  },
  {
   "cell_type": "markdown",
   "metadata": {},
   "source": [
    "### For Mac"
   ]
  },
  {
   "cell_type": "code",
   "execution_count": 2,
   "metadata": {},
   "outputs": [
    {
     "name": "stdout",
     "output_type": "stream",
     "text": [
      "tensor([1.], device='mps:0')\n"
     ]
    }
   ],
   "source": [
    "if torch.backends.mps.is_available():\n",
    "    mps_device = torch.device(\"mps\")\n",
    "    x = torch.ones(1, device=mps_device)\n",
    "    print (x)\n",
    "else:\n",
    "    print (\"MPS device not found.\")"
   ]
  },
  {
   "cell_type": "markdown",
   "metadata": {},
   "source": [
    "### Defining Functions"
   ]
  },
  {
   "cell_type": "code",
   "execution_count": 3,
   "metadata": {},
   "outputs": [],
   "source": [
    "def read_json_array(path):\n",
    "  data = []\n",
    "  with open(path, 'r') as file:\n",
    "    for line in file:\n",
    "      json_object = json.loads(line.strip())\n",
    "      data.append(json_object)\n",
    "  return data"
   ]
  },
  {
   "cell_type": "markdown",
   "metadata": {},
   "source": [
    "### Loading dataset"
   ]
  },
  {
   "cell_type": "code",
   "execution_count": 4,
   "metadata": {},
   "outputs": [],
   "source": [
    "dataset_path = '../datasets/amazon_reviews/'\n",
    "data_path = dataset_path + \"Musical_Instruments.json\"\n",
    "meta_path = dataset_path + \"meta_Musical_Instruments.json\"\n",
    "\n",
    "data = read_json_array(data_path)\n",
    "# Extract relevant fields for processing\n",
    "df = pd.DataFrame(data)\n",
    "df['text'] = df['reviewText']"
   ]
  },
  {
   "cell_type": "code",
   "execution_count": 5,
   "metadata": {},
   "outputs": [],
   "source": [
    "# Taking only first 1000 for demo \n",
    "df = df.head(1000)"
   ]
  },
  {
   "cell_type": "markdown",
   "metadata": {},
   "source": [
    "### Creating Embeddings"
   ]
  },
  {
   "cell_type": "code",
   "execution_count": 6,
   "metadata": {},
   "outputs": [
    {
     "name": "stdout",
     "output_type": "stream",
     "text": [
      "Generating embeddings...\n"
     ]
    },
    {
     "name": "stderr",
     "output_type": "stream",
     "text": [
      "Generating Embeddings: 100%|██████████| 63/63 [00:27<00:00,  2.27batch/s]"
     ]
    },
    {
     "name": "stdout",
     "output_type": "stream",
     "text": [
      "Embeddings generated!\n"
     ]
    },
    {
     "name": "stderr",
     "output_type": "stream",
     "text": [
      "\n"
     ]
    }
   ],
   "source": [
    "# Initialize distilroberta tokenizer and model\n",
    "tokenizer = RobertaTokenizer.from_pretrained('distilroberta-base')\n",
    "model = RobertaModel.from_pretrained('distilroberta-base')\n",
    "# Generate embeddings\n",
    "print(\"Generating embeddings...\")\n",
    "embeddings = tl.generate_embeddings(df['text'].tolist(), tokenizer, model)\n",
    "print(\"Embeddings generated!\")\n"
   ]
  },
  {
   "cell_type": "markdown",
   "metadata": {},
   "source": [
    "### Clustering "
   ]
  },
  {
   "cell_type": "code",
   "execution_count": null,
   "metadata": {},
   "outputs": [
    {
     "name": "stderr",
     "output_type": "stream",
     "text": [
      "/Library/Frameworks/Python.framework/Versions/3.12/lib/python3.12/site-packages/sklearn/utils/deprecation.py:151: FutureWarning: 'force_all_finite' was renamed to 'ensure_all_finite' in 1.6 and will be removed in 1.8.\n",
      "  warnings.warn(\n"
     ]
    },
    {
     "name": "stdout",
     "output_type": "stream",
     "text": [
      "Clustering...\n",
      "Clustering complete!\n"
     ]
    }
   ],
   "source": [
    "reduced_embeddings = tl.reduce_dimensionality(embeddings, n_components=300, algo='umap')\n",
    "print(\"Clustering...\")\n",
    "reduced_embeddings = torch.tensor(reduced_embeddings)\n",
    "clusters = tl.perform_clustering(reduced_embeddings, n_clusters=20, algo='kmeans')\n",
    "df['cluster'] = clusters\n",
    "df['embedding'] = reduced_embeddings.tolist()\n",
    "print(\"Clustering complete!\")"
   ]
  },
  {
   "cell_type": "markdown",
   "metadata": {},
   "source": [
    "### Evaluation"
   ]
  },
  {
   "cell_type": "code",
   "execution_count": 19,
   "metadata": {},
   "outputs": [
    {
     "name": "stdout",
     "output_type": "stream",
     "text": [
      "Silhouette Score: 0.3377364548651243\n"
     ]
    }
   ],
   "source": [
    "from sklearn.metrics import silhouette_score\n",
    "\n",
    "X = df['embedding'].apply(lambda x: np.array(x)).to_list()\n",
    "y = df['cluster']\n",
    "ss = silhouette_score(X, y)\n",
    "print(f\"Silhouette Score: {ss}\")"
   ]
  },
  {
   "cell_type": "code",
   "execution_count": null,
   "metadata": {},
   "outputs": [
    {
     "name": "stdout",
     "output_type": "stream",
     "text": [
      "Cluster distribution:\n",
      "cluster\n",
      "0    436\n",
      "1    220\n",
      "2    192\n",
      "4     78\n",
      "3     74\n",
      "Name: count, dtype: int64\n",
      "Results saved to clustered_reviews.csv\n"
     ]
    }
   ],
   "source": [
    "df[['text', 'cluster']].to_csv('../outputs/amazon_reviews/clustered_reviews.csv', index=False)\n",
    "print(\"Results saved to clustered_reviews.csv\")"
   ]
  }
 ],
 "metadata": {
  "kernelspec": {
   "display_name": "Python 3",
   "language": "python",
   "name": "python3"
  },
  "language_info": {
   "codemirror_mode": {
    "name": "ipython",
    "version": 3
   },
   "file_extension": ".py",
   "mimetype": "text/x-python",
   "name": "python",
   "nbconvert_exporter": "python",
   "pygments_lexer": "ipython3",
   "version": "3.12.1"
  }
 },
 "nbformat": 4,
 "nbformat_minor": 2
}

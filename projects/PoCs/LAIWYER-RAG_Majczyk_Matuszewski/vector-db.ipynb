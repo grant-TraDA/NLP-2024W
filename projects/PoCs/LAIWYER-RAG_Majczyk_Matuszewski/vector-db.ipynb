{
 "cells": [
  {
   "cell_type": "code",
   "execution_count": 44,
   "metadata": {},
   "outputs": [
    {
     "name": "stdout",
     "output_type": "stream",
     "text": [
      "The autoreload extension is already loaded. To reload it, use:\n",
      "  %reload_ext autoreload\n"
     ]
    }
   ],
   "source": [
    "%load_ext autoreload\n",
    "%autoreload 2"
   ]
  },
  {
   "cell_type": "code",
   "execution_count": 45,
   "metadata": {},
   "outputs": [],
   "source": [
    "import json\n",
    "import psycopg2\n",
    "from database_functions import (\n",
    "    insert_embedding,\n",
    "    get_cursor,\n",
    "    create_connection,\n",
    "    retrieve_related_articles,\n",
    ")\n",
    "from embedding_functions import get_embeddings\n",
    "\n",
    "with open('parsed_constitution.json', 'r', encoding='utf-8') as f:\n",
    "    data = json.load(f)"
   ]
  },
  {
   "cell_type": "code",
   "execution_count": 46,
   "metadata": {},
   "outputs": [],
   "source": [
    "conn = create_connection()\n",
    "cursor = get_cursor(conn)"
   ]
  },
  {
   "cell_type": "code",
   "execution_count": 47,
   "metadata": {},
   "outputs": [
    {
     "data": {
      "text/plain": [
       "2233"
      ]
     },
     "execution_count": 47,
     "metadata": {},
     "output_type": "execute_result"
    }
   ],
   "source": [
    "# max len of text from data\n",
    "max_len = 0\n",
    "for d in data:\n",
    "    text = d['text']\n",
    "    if len(text) > max_len:\n",
    "        max_len = len(text)\n",
    "max_len"
   ]
  },
  {
   "cell_type": "markdown",
   "metadata": {},
   "source": [
    "No need of using CharacterTextSplitter."
   ]
  },
  {
   "cell_type": "code",
   "execution_count": 48,
   "metadata": {},
   "outputs": [],
   "source": [
    "# from tqdm.notebook import tqdm\n",
    "\n",
    "# for item in tqdm(data):\n",
    "#     embedding = model.encode(item[\"text\"]).tolist()\n",
    "#     insert_embedding(\n",
    "#         item[\"section\"],\n",
    "#         item[\"section_title\"],\n",
    "#         item[\"article\"],\n",
    "#         item[\"text\"],\n",
    "#         embedding\n",
    "#     )\n",
    "\n",
    "# conn.commit()\n",
    "# cursor.close()\n",
    "# conn.close()\n",
    "\n",
    "# print(\"Data successfully inserted with embeddings!\")"
   ]
  },
  {
   "cell_type": "code",
   "execution_count": 49,
   "metadata": {},
   "outputs": [
    {
     "data": {
      "text/plain": [
       "array([-1.74709409e-02,  1.65449381e-01, -1.31195307e-01, -8.39799829e-03,\n",
       "        4.34775442e-01,  2.83925861e-01, -6.37202486e-02, -1.94665164e-01,\n",
       "       -6.24130554e-02,  3.59565020e-01,  6.20301776e-02,  3.35292518e-01,\n",
       "        5.32877147e-02, -2.40909368e-01,  1.99949399e-01,  1.45025656e-01,\n",
       "        2.71868845e-03, -1.75443679e-01, -2.56832875e-02,  2.92675257e-01,\n",
       "        4.78472449e-02,  2.25343063e-01, -1.20240927e-01,  2.11609721e-01,\n",
       "        9.60725918e-02, -2.16135122e-02, -3.87564003e-01, -9.74971205e-02,\n",
       "       -1.04040898e-01,  8.39693099e-02, -7.60003775e-02,  2.37916708e-01,\n",
       "       -5.04759848e-01,  3.89388323e-01,  4.85250056e-01, -4.20400769e-01,\n",
       "        3.49804342e-01,  7.45213181e-02, -6.55485224e-03,  1.50251687e-01,\n",
       "        8.99836794e-02, -1.86715245e-01,  7.65078515e-03, -1.13361523e-01,\n",
       "        1.71642214e-01,  2.90359497e-01,  3.72371495e-01,  2.45882571e-02,\n",
       "       -2.77976513e-01,  1.69025213e-01,  6.43948197e-01, -3.86846587e-02,\n",
       "        4.04607922e-01,  4.60609853e-01,  3.91879566e-02, -3.17233324e-01,\n",
       "        2.16266826e-01, -1.15981894e-02,  1.33055538e-01,  2.35667899e-01,\n",
       "        9.22925249e-02,  6.98903799e-02, -1.62252426e-01,  1.85637936e-01,\n",
       "       -1.89684331e-01, -1.70747116e-01,  1.57324553e-01, -1.01674601e-01,\n",
       "       -9.96356010e-02,  2.20829815e-01,  9.26463157e-02,  3.63815129e-01,\n",
       "        1.58944055e-01,  8.47822577e-02,  2.75717556e-01, -1.83468550e-01,\n",
       "       -1.50321588e-01,  2.57644802e-01,  3.44656408e-01, -1.58566386e-01,\n",
       "       -2.99217761e-01, -1.23884417e-01, -5.27258031e-02,  1.43738955e-01,\n",
       "       -2.21801683e-01, -2.04246163e-01,  1.21497415e-01,  5.22979140e-01,\n",
       "        4.56918061e-01, -3.53642642e-01,  1.21823832e-01,  1.55992702e-01,\n",
       "        1.01265907e-01, -2.68904269e-01,  1.04525045e-01, -9.15065631e-02,\n",
       "       -1.71109289e-01,  1.03142843e-01, -1.98765591e-01,  1.82322294e-01,\n",
       "       -2.51992583e-01, -5.56330569e-02, -4.66536693e-02, -1.75542995e-01,\n",
       "       -6.42087609e-02, -1.90892622e-01, -3.40725407e-02, -2.01286882e-01,\n",
       "       -3.84436041e-01,  5.20601943e-02, -1.40527457e-01, -1.83391303e-01,\n",
       "        4.41552289e-02, -1.69821411e-01,  3.19168538e-01, -2.34973103e-01,\n",
       "        2.35033229e-01, -6.64995844e-03, -6.32790998e-02, -1.32792592e-01,\n",
       "        1.49363965e-01, -2.87492543e-01, -3.85373682e-01, -1.30236151e-06,\n",
       "        5.89388143e-03, -2.92230278e-01, -2.02842519e-01,  1.07162073e-01,\n",
       "        2.03316614e-01,  1.10453904e-01, -1.94443271e-01,  1.59748167e-01,\n",
       "        3.44629407e-01, -3.79087359e-01, -1.46797299e-02,  1.29041106e-01,\n",
       "        1.78543895e-01,  4.20453846e-01,  3.41112584e-01,  2.63142474e-02,\n",
       "        1.29010946e-01,  5.44255137e-01, -2.76542306e-01,  4.50813681e-01,\n",
       "        1.25279859e-01, -3.89164627e-01,  3.59413266e-01, -2.53918737e-01,\n",
       "        2.51462728e-01, -1.15026057e-01,  2.37257987e-01,  2.05086067e-01,\n",
       "        2.87977792e-02,  6.41813353e-02, -1.72564462e-01, -8.93226713e-02,\n",
       "       -1.92697257e-01, -2.22532123e-01,  4.39304978e-01,  2.25333601e-01,\n",
       "       -8.48275889e-03, -7.85859972e-02,  1.05542585e-01,  1.91689864e-01,\n",
       "        3.95003527e-01, -1.44377962e-01, -2.41205364e-01, -1.19468495e-01,\n",
       "       -7.83444382e-03,  5.25642149e-02, -5.73850088e-02,  6.53540194e-02,\n",
       "        5.75447083e-01, -5.59453256e-02,  1.39116734e-01,  2.89891630e-01,\n",
       "        2.69541204e-01,  1.07839726e-01, -1.24693297e-01,  1.76329613e-01,\n",
       "        2.76646614e-01, -4.35742617e-01,  7.80955404e-02,  1.29086226e-01,\n",
       "       -1.69781655e-01,  1.89816505e-01, -9.10784602e-02, -2.86292774e-03,\n",
       "       -3.58314097e-01, -3.77206028e-01, -4.90574688e-01,  1.50229648e-01,\n",
       "       -1.53233036e-01,  2.00799465e-01, -4.75578159e-01, -3.08736503e-01,\n",
       "       -7.36284405e-02, -4.15586561e-01,  1.29599676e-01,  1.73850626e-01,\n",
       "        1.77557804e-02,  2.22528055e-01,  1.78351387e-01, -9.16555375e-02,\n",
       "        7.31624514e-02, -1.27878979e-01,  5.80788553e-02, -3.64420831e-01,\n",
       "        1.52703732e-01, -4.13494676e-01,  1.95582822e-01,  2.48809814e-01,\n",
       "        4.14836034e-02, -1.65634796e-01,  1.14729203e-01, -5.76693527e-02,\n",
       "       -9.10971779e-03, -7.57188424e-02, -4.74035174e-01,  1.18058617e-03,\n",
       "       -1.01020036e-03,  3.53905484e-02,  2.27284715e-01, -2.28055239e-01,\n",
       "       -2.60331005e-01, -1.06153272e-01, -1.09941766e-01,  3.53335887e-01,\n",
       "        5.71247101e-01,  4.78327461e-02,  4.38579731e-02, -1.63764924e-01,\n",
       "       -2.77050823e-01,  1.29532859e-01, -8.37907046e-02, -3.23163748e-01,\n",
       "       -5.44937611e-01,  4.20674413e-01, -1.40967429e-01, -3.11538577e-01,\n",
       "       -3.66400808e-01, -1.69987492e-02,  1.42029241e-01, -3.72780263e-01,\n",
       "       -1.92236766e-01, -1.22541271e-01,  1.24656476e-01,  2.12567061e-01,\n",
       "        2.33174898e-02, -2.92525534e-02,  1.55402765e-01, -2.93311656e-01,\n",
       "       -9.92487967e-02, -7.59719163e-02,  1.11725390e-01,  1.05972171e-01,\n",
       "       -2.47883230e-01, -4.84075658e-02,  2.77477894e-02, -3.95536602e-01,\n",
       "       -7.67276436e-02, -8.10979158e-02,  3.68871480e-01,  3.18896782e-04,\n",
       "        1.68648213e-01, -1.00817122e-01,  6.08745329e-02,  2.75715113e-01,\n",
       "       -3.32142472e-01,  3.85180190e-02, -9.90830828e-03, -1.91084072e-01,\n",
       "       -1.88357234e-01,  1.21302687e-01, -2.16566235e-01, -2.81380951e-01,\n",
       "        2.16338426e-01, -2.94464231e-02,  4.74552929e-01, -5.50094955e-02,\n",
       "        1.32560030e-01, -4.70239460e-01, -1.52754992e-01, -2.10455775e-01,\n",
       "        1.85167477e-01,  1.21448264e-01,  7.90032838e-03,  2.73693472e-01,\n",
       "        5.46761215e-01, -5.02502695e-02, -1.24159373e-01, -4.92703244e-02,\n",
       "        2.50800550e-01,  2.89404064e-01, -3.59824270e-01, -2.80860007e-01,\n",
       "        2.05472764e-02, -1.54864937e-01,  2.28576705e-01, -4.79487479e-01,\n",
       "        3.98863375e-01, -5.87110035e-02, -7.94893969e-03, -1.72681406e-01,\n",
       "        1.05683386e-01, -6.16444945e-01, -8.56188312e-02, -1.23984896e-01,\n",
       "        9.88511145e-02,  1.95830941e-01,  1.39483690e-01,  2.94146478e-01,\n",
       "        3.55515212e-01,  1.83692127e-01,  2.50023454e-01, -1.49802059e-01,\n",
       "       -2.23094895e-01, -4.22941595e-01,  1.45710230e-01, -4.63883311e-01,\n",
       "        3.90893251e-01,  2.79554665e-01,  1.33765936e-01,  5.33241220e-02,\n",
       "        6.35527372e-02,  2.69693851e-01,  9.73799452e-02, -3.40641201e-01,\n",
       "        1.22232080e-01, -3.27261418e-01,  2.28558987e-01, -2.23503157e-01,\n",
       "        1.01373151e-01, -6.17560208e-01,  1.24748573e-01, -3.01315576e-01,\n",
       "       -2.20925473e-02, -5.23695759e-02, -2.36459896e-01, -1.20612551e-02,\n",
       "       -2.34714895e-01,  2.01563537e-02, -9.09745321e-02, -2.77800649e-01,\n",
       "       -4.73635606e-02,  2.12917849e-01, -3.02929908e-01, -1.08533882e-01,\n",
       "       -3.13632004e-02,  4.19444501e-01, -3.11749846e-01, -1.51621224e-02,\n",
       "       -4.83323485e-02, -4.14071381e-01, -4.84043300e-01, -3.34937200e-02,\n",
       "        3.05151314e-01, -5.05853772e-01,  3.12228054e-02, -4.24373239e-01,\n",
       "       -7.62116984e-02,  7.32633471e-01,  3.29697549e-01,  1.99692041e-01,\n",
       "       -2.08689451e-01, -3.32247674e-01, -1.73849791e-01,  1.42919213e-01,\n",
       "        1.19258299e-01,  9.00061727e-02, -2.25018501e-01, -5.69485426e-02,\n",
       "        2.01293513e-01, -9.69246775e-02,  1.08746551e-01,  2.47978330e-01,\n",
       "        2.35628039e-01, -3.13372314e-01, -1.86484173e-01, -2.04534262e-01,\n",
       "        2.71960169e-01, -1.90168470e-01, -2.00530529e-01,  8.78437161e-02],\n",
       "      dtype=float32)"
      ]
     },
     "execution_count": 49,
     "metadata": {},
     "output_type": "execute_result"
    }
   ],
   "source": [
    "question = \"Czy mam prawo do strajkowania? Co konstytucja mówi o strajkach?\"\n",
    "get_embeddings(\n",
    "    question\n",
    ")"
   ]
  },
  {
   "cell_type": "code",
   "execution_count": 50,
   "metadata": {},
   "outputs": [
    {
     "data": {
      "text/plain": [
       "[('II',\n",
       "  'WOLNOŚCI, PRAWA I OBOWIĄZKI CZŁOWIEKA I OBYWATELA',\n",
       "  '59',\n",
       "  '1. Zapewnia się wolność zrzeszania się w związkach zawodowych, organizacjach społeczno- zawodowych rolników oraz w organizacjach pracodawców. 2. Związki zawodowe oraz pracodawcy i ich organizacje mają prawo do rokowań, w szczególności w celu rozwiązywania sporów zbiorowych, oraz do zawierania układów zbioro wych pracy i innych porozumień. 3. Związkom zawodowym przysługuje prawo do organizowania strajków pracowniczych i innych form protestu w granicach określonych w ustawie. Ze względu na dobro publiczne ustawa może ograniczyć prowadzenie strajku lub zakazać g o w odniesieniu do określonych kategorii pracowników lub w określonych dziedzinach. 4. Zakres wolności zrzeszania się w związkach zawodowych i organizacjach pracodawców oraz innych wolności związkowych może podlegać tylko takim ograniczeniom ustawowym, jakie są dopuszczalne przez wiążące Rzeczpospolitą Polską umowy międzynarodowe.',\n",
       "  8.06142807006836),\n",
       " ('IV',\n",
       "  'SEJM I SENAT',\n",
       "  '108',\n",
       "  'Do senatorów stosuje się odpowiednio przepisy art. 103–107. Organizacja i działanie',\n",
       "  7.308101654052734),\n",
       " ('VIII',\n",
       "  'SĄDY I TRYBUNAŁY',\n",
       "  '189',\n",
       "  'Trybunał Konstytucyjny rozstrzyga spory kompetencyjne pomiędzy centralnymi konstytucyjnymi organami państwa.',\n",
       "  7.058094024658203),\n",
       " ('IV',\n",
       "  'SEJM I SENAT',\n",
       "  '124',\n",
       "  'Do  Senatu  stosuje  się  odpowiednio  przepisy art. 110, art. 112, art. 113 i art. 120. Referendum',\n",
       "  7.018695831298828)]"
      ]
     },
     "execution_count": 50,
     "metadata": {},
     "output_type": "execute_result"
    }
   ],
   "source": [
    "retrieve_related_articles(conn=conn, text=question, num_articles=4)"
   ]
  },
  {
   "cell_type": "code",
   "execution_count": 51,
   "metadata": {},
   "outputs": [],
   "source": [
    "# Close the connection\n",
    "cursor.close()\n",
    "conn.close()"
   ]
  }
 ],
 "metadata": {
  "kernelspec": {
   "display_name": "nlp_lawyer",
   "language": "python",
   "name": "python3"
  },
  "language_info": {
   "codemirror_mode": {
    "name": "ipython",
    "version": 3
   },
   "file_extension": ".py",
   "mimetype": "text/x-python",
   "name": "python",
   "nbconvert_exporter": "python",
   "pygments_lexer": "ipython3",
   "version": "3.10.15"
  }
 },
 "nbformat": 4,
 "nbformat_minor": 2
}
